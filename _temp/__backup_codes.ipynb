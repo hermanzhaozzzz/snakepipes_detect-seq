{
 "cells": [
  {
   "cell_type": "markdown",
   "id": "316ea732-daec-4b11-940f-9ed50eaf3b54",
   "metadata": {},
   "source": [
    "## Backup codes"
   ]
  },
  {
   "cell_type": "code",
   "execution_count": null,
   "id": "aa7783d9-fb5f-40e5-855c-5c2de316f4c5",
   "metadata": {
    "execution": {
     "iopub.execute_input": "2023-02-03T05:26:41.431127Z",
     "iopub.status.busy": "2023-02-03T05:26:41.429919Z",
     "iopub.status.idle": "2023-02-03T05:26:41.441280Z",
     "shell.execute_reply": "2023-02-03T05:26:41.439018Z",
     "shell.execute_reply.started": "2023-02-03T05:26:41.431053Z"
    },
    "tags": []
   },
   "outputs": [],
   "source": [
    "# !pip install matplotlib matplotlib_venn pandas numpy seaborn pandarallel pybedtools plotly upsetplotly --upgrade\n",
    "# !pip install git+https://github.com/ponnhide/pyCircos.git --upgrade\n",
    "\n",
    "# import collections\n",
    "# import seaborn as sns\n",
    "# import matplotlib.pyplot as plt\n",
    "# from matplotlib_venn import venn2\n",
    "# from pybedtools import BedTool\n",
    "# from pycircos import (  # pip install git+https://github.com/ponnhide/pyCircos.git\n",
    "    # Garc,\n",
    "    # Gcircle,\n",
    "# )"
   ]
  },
  {
   "cell_type": "markdown",
   "id": "28c69b6f-b6f1-4d41-8ab2-fd8e8742c2eb",
   "metadata": {
    "execution": {
     "iopub.execute_input": "2022-10-27T08:20:10.504290Z",
     "iopub.status.busy": "2022-10-27T08:20:10.504004Z",
     "iopub.status.idle": "2022-10-27T08:20:10.509189Z",
     "shell.execute_reply": "2022-10-27T08:20:10.508390Z",
     "shell.execute_reply.started": "2022-10-27T08:20:10.504271Z"
    }
   },
   "source": [
    "enable rpy2"
   ]
  },
  {
   "cell_type": "code",
   "execution_count": 7,
   "id": "5200d378-883b-4c48-b17a-f5525ed97d3c",
   "metadata": {
    "execution": {
     "iopub.execute_input": "2023-02-03T05:26:43.515288Z",
     "iopub.status.busy": "2023-02-03T05:26:43.514339Z",
     "iopub.status.idle": "2023-02-03T05:26:43.524033Z",
     "shell.execute_reply": "2023-02-03T05:26:43.521786Z",
     "shell.execute_reply.started": "2023-02-03T05:26:43.515219Z"
    },
    "tags": []
   },
   "outputs": [],
   "source": [
    "# enables the gaR magic,  not neceasary  if you’ve already done this\n",
    "# %load_ext rpy2.ipython\n",
    "# %reload_ext rpy2.ipython"
   ]
  },
  {
   "cell_type": "markdown",
   "id": "a54131e0-366c-459c-a7dc-38957ff029da",
   "metadata": {},
   "source": [
    "import R libraries"
   ]
  },
  {
   "cell_type": "code",
   "execution_count": 8,
   "id": "a83f7707-4ec8-4ae0-b533-03d77d1134a9",
   "metadata": {
    "collapsed": false,
    "execution": {
     "iopub.execute_input": "2023-02-03T05:26:44.138328Z",
     "iopub.status.busy": "2023-02-03T05:26:44.137695Z",
     "iopub.status.idle": "2023-02-03T05:26:44.145944Z",
     "shell.execute_reply": "2023-02-03T05:26:44.143770Z",
     "shell.execute_reply.started": "2023-02-03T05:26:44.138267Z"
    },
    "jupyter": {
     "outputs_hidden": false
    },
    "tags": []
   },
   "outputs": [],
   "source": [
    "# %%R\n",
    "# install.packages('ggpubr')\n",
    "# install.packages('ggrepel')\n",
    "# install.packages('ggupset')\n",
    "# install.packages('UpSetR')"
   ]
  },
  {
   "cell_type": "code",
   "execution_count": 9,
   "id": "947ae44f-0964-4fea-a4fc-7fd93cf2ac04",
   "metadata": {
    "execution": {
     "iopub.execute_input": "2023-02-03T05:26:44.506695Z",
     "iopub.status.busy": "2023-02-03T05:26:44.506049Z",
     "iopub.status.idle": "2023-02-03T05:26:44.513972Z",
     "shell.execute_reply": "2023-02-03T05:26:44.511899Z",
     "shell.execute_reply.started": "2023-02-03T05:26:44.506639Z"
    },
    "tags": []
   },
   "outputs": [],
   "source": [
    "# %%R\n",
    "# 可以再%%R后面放光标 cmd + i\n",
    "# library(tidyverse)\n",
    "# library(ggpubr)\n",
    "# library(ggrepel)\n",
    "# library(ggupset)\n",
    "# library(UpSetR)"
   ]
  }
 ],
 "metadata": {
  "kernelspec": {
   "display_name": "Python 3 (ipykernel)",
   "language": "python",
   "name": "python3"
  },
  "language_info": {
   "codemirror_mode": {
    "name": "ipython",
    "version": 3
   },
   "file_extension": ".py",
   "mimetype": "text/x-python",
   "name": "python",
   "nbconvert_exporter": "python",
   "pygments_lexer": "ipython3",
   "version": "3.10.8"
  }
 },
 "nbformat": 4,
 "nbformat_minor": 5
}
