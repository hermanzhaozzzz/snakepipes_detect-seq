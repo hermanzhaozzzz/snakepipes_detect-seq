{
 "cells": [
  {
   "cell_type": "markdown",
   "metadata": {
    "tags": []
   },
   "source": [
    "# 标准质控流程"
   ]
  },
  {
   "cell_type": "code",
   "execution_count": 42,
   "metadata": {
    "execution": {
     "iopub.execute_input": "2022-11-21T05:26:15.809120Z",
     "iopub.status.busy": "2022-11-21T05:26:15.808815Z",
     "iopub.status.idle": "2022-11-21T05:26:15.811898Z",
     "shell.execute_reply": "2022-11-21T05:26:15.811326Z",
     "shell.execute_reply.started": "2022-11-21T05:26:15.809104Z"
    },
    "tags": []
   },
   "outputs": [],
   "source": [
    "import glob\n",
    "import json\n",
    "import platform\n",
    "import pprint"
   ]
  },
  {
   "cell_type": "code",
   "execution_count": 43,
   "metadata": {
    "collapsed": false
   },
   "outputs": [],
   "source": [
    "pp = pprint.PrettyPrinter(indent=4)\n",
    "pp?"
   ]
  },
  {
   "cell_type": "code",
   "execution_count": 44,
   "metadata": {
    "execution": {
     "iopub.execute_input": "2022-11-21T05:26:16.170555Z",
     "iopub.status.busy": "2022-11-21T05:26:16.170252Z",
     "iopub.status.idle": "2022-11-21T05:26:16.174681Z",
     "shell.execute_reply": "2022-11-21T05:26:16.174052Z",
     "shell.execute_reply.started": "2022-11-21T05:26:16.170540Z"
    },
    "tags": []
   },
   "outputs": [],
   "source": [
    "if platform.system() == 'Linux':\n",
    "    root_path = '/lustre1/chengqiyi_pkuhpc/zhaohn'\n",
    "    thread = 20\n",
    "    control = {\n",
    "        \"bam\":\n",
    "            f\"{root_path}/3.project/2022_DdCBE-3D-Genome_topic/2022-09-30_Detect-seq_batch-1/bam/Vector-merge_hg38_merge_sort_rmdup.MAPQ20.bam\",\n",
    "        \"name\":\n",
    "            \"Vector-merge_hg38\"\n",
    "    }\n",
    "elif platform.system() == 'Darwin':\n",
    "    root_path = '/Volumes/Data-a/Bio'\n",
    "    thread = 8\n",
    "    control = {\n",
    "        \"bam\":\n",
    "            f\"/Users/zhaohuanan/PycharmProjects/snakepipes_detect-seq/bam/test_ctrl.bam\",\n",
    "        \"name\":\n",
    "            \"test_ctrl\"\n",
    "    }"
   ]
  },
  {
   "cell_type": "code",
   "execution_count": 45,
   "metadata": {
    "collapsed": false
   },
   "outputs": [
    {
     "name": "stdout",
     "output_type": "stream",
     "text": [
      "'Linux'\n",
      "20\n",
      "{   'bam': '/lustre1/chengqiyi_pkuhpc/zhaohn/3.project/2022_DdCBE-3D-Genome_topic/2022-09-30_Detect-seq_batch-1/bam/Vector-merge_hg38_merge_sort_rmdup.MAPQ20.bam',\n",
      "    'name': 'Vector-merge_hg38'}\n"
     ]
    }
   ],
   "source": [
    "pp.pprint(platform.system())\n",
    "pp.pprint(thread)\n",
    "pp.pprint(control)"
   ]
  },
  {
   "cell_type": "markdown",
   "metadata": {},
   "source": [
    "## 参数设置"
   ]
  },
  {
   "cell_type": "markdown",
   "metadata": {},
   "source": [
    "## Detect-seq\n",
    "```\n",
    "hisat-3n-build \\\n",
    "-p 24 \\\n",
    "genome_ucsc_hg38.fa \\\n",
    "genome_ucsc_hg38.fa.hisat3n-foryilab_bcCT_standard_mode.snp_hap_exon_ss \\\n",
    "--exon genome_ucsc_hg38.fa.hisat2.exon \\\n",
    "--haplotype genome_ucsc_hg38.fa.hisat2.snp151Common.haplotype \\\n",
    "--snp genome_ucsc_hg38.fa.hisat2.snp151Common.snp \\\n",
    "--ss genome_ucsc_hg38.fa.hisat2.ss \\\n",
    "--base-change C,T\n",
    "```\n",
    "\n",
    "## Direct-seq\n",
    "```\n",
    "hisat-3n-build \\\n",
    "-p 24 \\\n",
    "genome_ucsc_hg38.fa \\\n",
    "genome_ucsc_hg38.fa.hisat3n-foryilab_bcAG_standard_mode.snp_hap_exon_ss \\\n",
    "--exon genome_ucsc_hg38.fa.hisat2.exon \\\n",
    "--haplotype genome_ucsc_hg38.fa.hisat2.snp151Common.haplotype \\\n",
    "--snp genome_ucsc_hg38.fa.hisat2.snp151Common.snp \\\n",
    "--ss genome_ucsc_hg38.fa.hisat2.ss \\\n",
    "--base-change A,G\n",
    "```\n",
    "## 【TODO】注意到 CT 和 AG 的 index md5 值一致，可能可以指定 CT 就可以使用 AG？未尝试"
   ]
  },
  {
   "cell_type": "code",
   "execution_count": 46,
   "metadata": {
    "execution": {
     "iopub.execute_input": "2022-11-21T05:26:17.704917Z",
     "iopub.status.busy": "2022-11-21T05:26:17.704680Z",
     "iopub.status.idle": "2022-11-21T05:26:17.708110Z",
     "shell.execute_reply": "2022-11-21T05:26:17.707621Z",
     "shell.execute_reply.started": "2022-11-21T05:26:17.704902Z"
    },
    "tags": []
   },
   "outputs": [],
   "source": [
    "# Detect-seq\n",
    "genome_hisat3n_index = f\"{root_path}/1.database/db_genomes/genome_fa/genome_ucsc_hg38/genome_ucsc_hg38.fa.hisat3n-foryilab_bcCT_standard_mode.snp_hap_exon_ss\"\n",
    "base_change = \"C,T\"\n",
    "query_mutation_type = \"CT,GA\"\n",
    "# Direct-seq\n",
    "# genome_hisat3n_index = f\"{root_path}/1.database/db_genomes/genome_fa/genome_ucsc_hg38/genome_ucsc_hg38.fa.hisat3n-foryilab_bcAG_standard_mode.snp_hap_exon_ss\"\n",
    "# base_change = 'A,G'\n",
    "# query_mutation_type = \"AG,TC\"\n",
    "\n",
    "\n",
    "snp_list = \",\".join([\n",
    "    f\"{root_path}/1.database/db_genomes/cell_line_mutations/293T/293T_BE_INPUT_VCF/293T-EMX1-Mock-Input.site_index.rmdup.bed\",\n",
    "    f\"{root_path}/1.database/db_genomes/cell_line_mutations/293T/293T_BE_INPUT_VCF/293T-Mock-Input-covaris_bwa_hg38_sort_rmdup.recall.merge.Genotype.filter.rmdup_signal.vcf\",\n",
    "])"
   ]
  },
  {
   "cell_type": "markdown",
   "metadata": {},
   "source": [
    "## 生成samples.json"
   ]
  },
  {
   "cell_type": "code",
   "execution_count": 47,
   "metadata": {
    "execution": {
     "iopub.execute_input": "2022-11-21T05:26:18.382150Z",
     "iopub.status.busy": "2022-11-21T05:26:18.381843Z",
     "iopub.status.idle": "2022-11-21T05:26:18.385721Z",
     "shell.execute_reply": "2022-11-21T05:26:18.385228Z",
     "shell.execute_reply.started": "2022-11-21T05:26:18.382134Z"
    },
    "tags": []
   },
   "outputs": [],
   "source": [
    "ls = sorted(glob.glob(\"../fastq/*.fastq.gz\"))\n",
    "assert ls != []  # 需要非空\n",
    "ls_se = [i for i in ls if i.endswith(\"SE.fastq.gz\")]\n",
    "ls_pe = [i for i in ls if i.endswith(\"R1.fastq.gz\")]"
   ]
  },
  {
   "cell_type": "code",
   "execution_count": 48,
   "metadata": {
    "execution": {
     "iopub.execute_input": "2022-11-21T05:26:18.887633Z",
     "iopub.status.busy": "2022-11-21T05:26:18.887333Z",
     "iopub.status.idle": "2022-11-21T05:26:18.891408Z",
     "shell.execute_reply": "2022-11-21T05:26:18.890837Z",
     "shell.execute_reply.started": "2022-11-21T05:26:18.887617Z"
    },
    "tags": []
   },
   "outputs": [],
   "source": [
    "if ls_se:\n",
    "    ls_sample = [i.split(\"/\")[-1].split(\"_SE.fastq\")[0] for i in ls_se]\n",
    "    end_type = \"SE\"\n",
    "\n",
    "if ls_pe:\n",
    "    ls_sample = [i.split(\"/\")[-1].split(\"_R1.fastq\")[0] for i in ls_pe]\n",
    "    end_type = \"PE\""
   ]
  },
  {
   "cell_type": "code",
   "execution_count": 49,
   "metadata": {
    "execution": {
     "iopub.execute_input": "2022-11-21T05:26:19.226593Z",
     "iopub.status.busy": "2022-11-21T05:26:19.226287Z",
     "iopub.status.idle": "2022-11-21T05:26:19.230425Z",
     "shell.execute_reply": "2022-11-21T05:26:19.229880Z",
     "shell.execute_reply.started": "2022-11-21T05:26:19.226576Z"
    },
    "tags": []
   },
   "outputs": [
    {
     "name": "stdout",
     "output_type": "stream",
     "text": [
      "[   'DetectSeq_ATP8-DddA11_REP-1',\n",
      "    'DetectSeq_ATP8-DddA6_REP-1',\n",
      "    'DetectSeq_ATP8-DddAwt_REP-1',\n",
      "    'DetectSeq_JAK2-DddA11_REP-1',\n",
      "    'DetectSeq_JAK2-DddA11_REP-2',\n",
      "    'DetectSeq_SIRT6-DddA11_REP-1',\n",
      "    'DetectSeq_SIRT6-DddA11_REP-2',\n",
      "    'test']\n"
     ]
    }
   ],
   "source": [
    "pp.pprint(ls_sample)"
   ]
  },
  {
   "cell_type": "code",
   "execution_count": 50,
   "metadata": {
    "execution": {
     "iopub.execute_input": "2022-11-21T05:26:19.586693Z",
     "iopub.status.busy": "2022-11-21T05:26:19.586452Z",
     "iopub.status.idle": "2022-11-21T05:26:19.589356Z",
     "shell.execute_reply": "2022-11-21T05:26:19.588936Z",
     "shell.execute_reply.started": "2022-11-21T05:26:19.586678Z"
    },
    "tags": []
   },
   "outputs": [],
   "source": [
    "ls_sample = [\n",
    "    \"DetectSeq_ATP8-DddA11_REP-1\",\n",
    "    \"DetectSeq_ATP8-DddA6_REP-1\",\n",
    "    \"DetectSeq_ATP8-DddAwt_REP-1\",\n",
    "    \"DetectSeq_JAK2-DddA11_REP-1\",\n",
    "    \"DetectSeq_SIRT6-DddA11_REP-1\",\n",
    "    \"test\",\n",
    "]"
   ]
  },
  {
   "cell_type": "code",
   "execution_count": 51,
   "metadata": {
    "execution": {
     "iopub.execute_input": "2022-11-21T05:26:19.946741Z",
     "iopub.status.busy": "2022-11-21T05:26:19.946471Z",
     "iopub.status.idle": "2022-11-21T05:26:19.949890Z",
     "shell.execute_reply": "2022-11-21T05:26:19.949234Z",
     "shell.execute_reply.started": "2022-11-21T05:26:19.946724Z"
    },
    "tags": []
   },
   "outputs": [],
   "source": [
    "platform = \"MGI\"  # Illumina MGI ..."
   ]
  },
  {
   "cell_type": "code",
   "execution_count": 52,
   "metadata": {
    "execution": {
     "iopub.execute_input": "2022-11-21T05:26:20.585721Z",
     "iopub.status.busy": "2022-11-21T05:26:20.585418Z",
     "iopub.status.idle": "2022-11-21T05:26:20.590144Z",
     "shell.execute_reply": "2022-11-21T05:26:20.589615Z",
     "shell.execute_reply.started": "2022-11-21T05:26:20.585704Z"
    },
    "tags": []
   },
   "outputs": [],
   "source": [
    "dt = {\n",
    "    \"seq_mode\": end_type,\n",
    "    \"samples\": ls_sample,\n",
    "    \"thread\": thread,\n",
    "    \"genome_hisat3n_index\": genome_hisat3n_index,\n",
    "    \"platform\": platform,\n",
    "    \"base_change\": base_change,\n",
    "    \"snp_list\": snp_list,\n",
    "    \"control\": control,\n",
    "    \"query_mutation_type\": query_mutation_type,\n",
    "}"
   ]
  },
  {
   "cell_type": "code",
   "execution_count": 53,
   "metadata": {
    "collapsed": false
   },
   "outputs": [
    {
     "name": "stdout",
     "output_type": "stream",
     "text": [
      "{   'base_change': 'C,T',\n",
      "    'control': {   'bam': '/lustre1/chengqiyi_pkuhpc/zhaohn/3.project/2022_DdCBE-3D-Genome_topic/2022-09-30_Detect-seq_batch-1/bam/Vector-merge_hg38_merge_sort_rmdup.MAPQ20.bam',\n",
      "                   'name': 'Vector-merge_hg38'},\n",
      "    'genome_hisat3n_index': '/lustre1/chengqiyi_pkuhpc/zhaohn/1.database/db_genomes/genome_fa/genome_ucsc_hg38/genome_ucsc_hg38.fa.hisat3n-foryilab_bcCT_standard_mode.snp_hap_exon_ss',\n",
      "    'platform': 'MGI',\n",
      "    'query_mutation_type': 'CT,GA',\n",
      "    'samples': [   'DetectSeq_ATP8-DddA11_REP-1',\n",
      "                   'DetectSeq_ATP8-DddA6_REP-1',\n",
      "                   'DetectSeq_ATP8-DddAwt_REP-1',\n",
      "                   'DetectSeq_JAK2-DddA11_REP-1',\n",
      "                   'DetectSeq_SIRT6-DddA11_REP-1',\n",
      "                   'test'],\n",
      "    'seq_mode': 'PE',\n",
      "    'snp_list': '/lustre1/chengqiyi_pkuhpc/zhaohn/1.database/db_genomes/cell_line_mutations/293T/293T_BE_INPUT_VCF/293T-EMX1-Mock-Input.site_index.rmdup.bed,/lustre1/chengqiyi_pkuhpc/zhaohn/1.database/db_genomes/cell_line_mutations/293T/293T_BE_INPUT_VCF/293T-Mock-Input-covaris_bwa_hg38_sort_rmdup.recall.merge.Genotype.filter.rmdup_signal.vcf',\n",
      "    'thread': 20}\n"
     ]
    }
   ],
   "source": [
    "pp.pprint(dt)"
   ]
  },
  {
   "cell_type": "code",
   "execution_count": 54,
   "metadata": {
    "execution": {
     "iopub.execute_input": "2022-11-21T05:26:21.019279Z",
     "iopub.status.busy": "2022-11-21T05:26:21.019030Z",
     "iopub.status.idle": "2022-11-21T05:26:21.022561Z",
     "shell.execute_reply": "2022-11-21T05:26:21.022044Z",
     "shell.execute_reply.started": "2022-11-21T05:26:21.019264Z"
    },
    "tags": []
   },
   "outputs": [],
   "source": [
    "with open(\"./samples.json\", \"wt\") as f:\n",
    "    f.write(json.dumps(dt))"
   ]
  },
  {
   "cell_type": "code",
   "execution_count": 10,
   "metadata": {},
   "outputs": [],
   "source": []
  }
 ],
 "metadata": {
  "kernelspec": {
   "display_name": "Python 3 (ipykernel)",
   "language": "python",
   "name": "python3"
  },
  "language_info": {
   "codemirror_mode": {
    "name": "ipython",
    "version": 3
   },
   "file_extension": ".py",
   "mimetype": "text/x-python",
   "name": "python",
   "nbconvert_exporter": "python",
   "pygments_lexer": "ipython3",
   "version": "3.9.13"
  },
  "widgets": {
   "application/vnd.jupyter.widget-state+json": {
    "state": {},
    "version_major": 2,
    "version_minor": 0
   }
  }
 },
 "nbformat": 4,
 "nbformat_minor": 4
}
