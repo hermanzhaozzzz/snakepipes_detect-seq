{
 "cells": [
  {
   "cell_type": "markdown",
   "metadata": {
    "tags": []
   },
   "source": [
    "# 标准质控流程"
   ]
  },
  {
   "cell_type": "code",
   "execution_count": 3,
   "metadata": {
    "tags": []
   },
   "outputs": [],
   "source": [
    "import glob\n",
    "import json\n",
    "import platform"
   ]
  },
  {
   "cell_type": "code",
   "execution_count": 5,
   "metadata": {
    "tags": []
   },
   "outputs": [],
   "source": [
    "if platform.system() == 'Linux':\n",
    "    root_path = '/lustre1/chengqiyi_pkuhpc/zhaohn'\n",
    "    thread = 20\n",
    "elif platform.system() == 'Darwin':\n",
    "    root_path = '/Users/zhaohuanan/Bio'\n",
    "    thread = 8"
   ]
  },
  {
   "cell_type": "markdown",
   "source": [
    "## 参数设置"
   ],
   "metadata": {
    "collapsed": false
   }
  },
  {
   "cell_type": "markdown",
   "source": [
    "## Detect-seq\n",
    "```\n",
    "hisat-3n-build \\\n",
    "-p 24 \\\n",
    "genome_ucsc_hg38.fa \\\n",
    "genome_ucsc_hg38.fa.hisat3n-foryilab_bcCT_standard_mode.snp_hap_exon_ss \\\n",
    "--exon genome_ucsc_hg38.fa.hisat2.exon \\\n",
    "--haplotype genome_ucsc_hg38.fa.hisat2.snp151Common.haplotype \\\n",
    "--snp genome_ucsc_hg38.fa.hisat2.snp151Common.snp \\\n",
    "--ss genome_ucsc_hg38.fa.hisat2.ss \\\n",
    "--base-change C,T\n",
    "```\n",
    "\n",
    "## Direct-seq\n",
    "```\n",
    "hisat-3n-build \\\n",
    "-p 24 \\\n",
    "genome_ucsc_hg38.fa \\\n",
    "genome_ucsc_hg38.fa.hisat3n-foryilab_bcAG_standard_mode.snp_hap_exon_ss \\\n",
    "--exon genome_ucsc_hg38.fa.hisat2.exon \\\n",
    "--haplotype genome_ucsc_hg38.fa.hisat2.snp151Common.haplotype \\\n",
    "--snp genome_ucsc_hg38.fa.hisat2.snp151Common.snp \\\n",
    "--ss genome_ucsc_hg38.fa.hisat2.ss \\\n",
    "--base-change A,G\n",
    "```\n",
    "## 【TODO】注意到 CT 和 AG 的 index md5 值一致，可能可以指定 CT 就可以使用 AG？未尝试"
   ],
   "metadata": {
    "collapsed": false
   }
  },
  {
   "cell_type": "code",
   "execution_count": 6,
   "metadata": {},
   "outputs": [],
   "source": [
    "# Detect-seq\n",
    "genome_hisat3n_index = f\"{root_path}/1.database/db_genomes/genome_fa/genome_ucsc_hg38/genome_ucsc_hg38.fa.hisat3n-foryilab_bcCT_standard_mode.snp_hap_exon_ss\"\n",
    "base_change = \"C,T\"\n",
    "query_mutation_type = \"CT,GA\"\n",
    "# Direct-seq\n",
    "# genome_hisat3n_index = f\"{root_path}/1.database/db_genomes/genome_fa/genome_ucsc_hg38/genome_ucsc_hg38.fa.hisat3n-foryilab_bcAG_standard_mode.snp_hap_exon_ss\"\n",
    "# base_change = 'A,G'\n",
    "# query_mutation_type = \"AG,TC\"\n",
    "\n",
    "\n",
    "\n",
    "snp_list = \",\".join([\n",
    "f\"{root_path}/1.database/db_genomes/cell_line_mutations/293T/293T_BE_INPUT_VCF/293T-EMX1-Mock-Input.site_index.rmdup.bed\",\n",
    "f\"{root_path}/1.database/db_genomes/cell_line_mutations/293T/293T_BE_INPUT_VCF/293T-Mock-Input-covaris_bwa_hg38_sort_rmdup.recall.merge.Genotype.filter.rmdup_signal.vcf\",\n",
    "])"
   ]
  },
  {
   "cell_type": "markdown",
   "metadata": {},
   "source": [
    "## 生成samples.json"
   ]
  },
  {
   "cell_type": "code",
   "execution_count": 7,
   "metadata": {
    "tags": []
   },
   "outputs": [],
   "source": [
    "ls = sorted(glob.glob(\"../fastq/*.fastq.gz\"))\n",
    "assert ls != []  # 需要非空\n",
    "ls_se = [i for i in ls if i.endswith(\"SE.fastq.gz\")]\n",
    "ls_pe = [i for i in ls if i.endswith(\"R1.fastq.gz\")]"
   ]
  },
  {
   "cell_type": "code",
   "execution_count": 8,
   "metadata": {
    "tags": []
   },
   "outputs": [],
   "source": [
    "if ls_se:\n",
    "    ls_sample = [i.split(\"/\")[-1].split(\"_SE.fastq\")[0] for i in ls_se]\n",
    "    end_type = \"SE\"\n",
    "\n",
    "if ls_pe:\n",
    "    ls_sample = [i.split(\"/\")[-1].split(\"_R1.fastq\")[0] for i in ls_pe]\n",
    "    end_type = \"PE\""
   ]
  },
  {
   "cell_type": "code",
   "execution_count": 9,
   "metadata": {
    "tags": []
   },
   "outputs": [
    {
     "data": {
      "text/plain": "['test']"
     },
     "execution_count": 9,
     "metadata": {},
     "output_type": "execute_result"
    }
   ],
   "source": [
    "ls_sample"
   ]
  },
  {
   "cell_type": "code",
   "execution_count": 10,
   "metadata": {
    "tags": []
   },
   "outputs": [],
   "source": [
    "ls_sample = [\n",
    "    # \"DetectSeq_ATP8-DddA11_REP-1\",\n",
    "    # \"DetectSeq_ATP8-DddA6_REP-1\",\n",
    "    # \"DetectSeq_ATP8-DddAwt_REP-1\",\n",
    "    # \"DetectSeq_JAK2-DddA11_REP-1\",\n",
    "    # \"DetectSeq_SIRT6-DddA11_REP-1\",\n",
    "    \"test\",\n",
    "]\n",
    "control = {\n",
    "    \"bam\":\n",
    "        f\"{root_path}/3.project/2022_DdCBE-3D-Genome_topic/2022-09-30_Detect-seq_batch-1/bam/Vector-merge_hg38_merge_sort_rmdup.MAPQ20.bam\",\n",
    "    \"name\":\n",
    "        \"Vector-merge_hg38\"\n",
    "}"
   ]
  },
  {
   "cell_type": "code",
   "execution_count": 11,
   "metadata": {
    "tags": []
   },
   "outputs": [],
   "source": [
    "platform = \"MGI\"  # Illumina MGI ..."
   ]
  },
  {
   "cell_type": "code",
   "execution_count": 12,
   "metadata": {
    "tags": []
   },
   "outputs": [
    {
     "data": {
      "text/plain": "{'seq_mode': 'PE',\n 'samples': ['test'],\n 'thread': 8,\n 'genome_hisat3n_index': '/Users/zhaohuanan/Bio/1.database/db_genomes/genome_fa/genome_ucsc_hg38/genome_ucsc_hg38.fa.hisat3n-foryilab_bcCT_standard_mode.snp_hap_exon_ss',\n 'platform': 'MGI',\n 'base_change': 'C,T',\n 'snp_list': '/Users/zhaohuanan/Bio/1.database/db_genomes/cell_line_mutations/293T/293T_BE_INPUT_VCF/293T-EMX1-Mock-Input.site_index.rmdup.bed,/Users/zhaohuanan/Bio/1.database/db_genomes/cell_line_mutations/293T/293T_BE_INPUT_VCF/293T-Mock-Input-covaris_bwa_hg38_sort_rmdup.recall.merge.Genotype.filter.rmdup_signal.vcf',\n 'control': {'bam': '/Users/zhaohuanan/Bio/3.project/2022_DdCBE-3D-Genome_topic/2022-09-30_Detect-seq_batch-1/bam/Vector-merge_hg38_merge_sort_rmdup.MAPQ20.bam',\n  'name': 'Vector-merge_hg38'},\n 'query_mutation_type': 'CT,GA'}"
     },
     "execution_count": 12,
     "metadata": {},
     "output_type": "execute_result"
    }
   ],
   "source": [
    "dt = {\n",
    "    \"seq_mode\": end_type,\n",
    "    \"samples\": ls_sample,\n",
    "    \"thread\": thread,\n",
    "    \"genome_hisat3n_index\": genome_hisat3n_index,\n",
    "    \"platform\": platform,\n",
    "    \"base_change\": base_change,\n",
    "    \"snp_list\": snp_list,\n",
    "    \"control\": control,\n",
    "    \"query_mutation_type\": query_mutation_type,\n",
    "}\n",
    "dt"
   ]
  },
  {
   "cell_type": "code",
   "execution_count": 13,
   "metadata": {
    "tags": []
   },
   "outputs": [],
   "source": [
    "with open(\"./samples.json\", \"wt\") as f:\n",
    "    f.write(json.dumps(dt))"
   ]
  },
  {
   "cell_type": "code",
   "execution_count": null,
   "metadata": {},
   "outputs": [],
   "source": []
  }
 ],
 "metadata": {
  "kernelspec": {
   "display_name": "Python 3 (ipykernel)",
   "language": "python",
   "name": "python3"
  },
  "language_info": {
   "codemirror_mode": {
    "name": "ipython",
    "version": 3
   },
   "file_extension": ".py",
   "mimetype": "text/x-python",
   "name": "python",
   "nbconvert_exporter": "python",
   "pygments_lexer": "ipython3",
   "version": "3.9.13"
  },
  "widgets": {
   "application/vnd.jupyter.widget-state+json": {
    "state": {},
    "version_major": 2,
    "version_minor": 0
   }
  }
 },
 "nbformat": 4,
 "nbformat_minor": 4
}
