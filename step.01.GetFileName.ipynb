{
 "cells": [
  {
   "cell_type": "markdown",
   "metadata": {
    "tags": []
   },
   "source": [
    "# 标准质控流程"
   ]
  },
  {
   "cell_type": "code",
   "execution_count": 1,
   "metadata": {
    "execution": {
     "iopub.execute_input": "2023-08-28T06:59:15.841790Z",
     "iopub.status.busy": "2023-08-28T06:59:15.841342Z",
     "iopub.status.idle": "2023-08-28T06:59:17.417716Z",
     "shell.execute_reply": "2023-08-28T06:59:17.417033Z",
     "shell.execute_reply.started": "2023-08-28T06:59:15.841750Z"
    }
   },
   "outputs": [
    {
     "name": "stdout",
     "output_type": "stream",
     "text": [
      "Requirement already satisfied: bioat in /Users/zhaohuanan/micromamba/lib/python3.10/site-packages (0.4.10)\n",
      "Requirement already satisfied: biopython>=1.80 in /Users/zhaohuanan/micromamba/lib/python3.10/site-packages (from bioat) (1.81)\n",
      "Requirement already satisfied: bs4<0.0.2,>=0.0.1 in /Users/zhaohuanan/micromamba/lib/python3.10/site-packages (from bioat) (0.0.1)\n",
      "Requirement already satisfied: cython>=0.29.33 in /Users/zhaohuanan/micromamba/lib/python3.10/site-packages (from bioat) (3.0.0)\n",
      "Requirement already satisfied: fire>=0.5.0 in /Users/zhaohuanan/micromamba/lib/python3.10/site-packages (from bioat) (0.5.0)\n",
      "Requirement already satisfied: ipython>=8.14.0 in /Users/zhaohuanan/micromamba/lib/python3.10/site-packages (from bioat) (8.14.0)\n",
      "Requirement already satisfied: matplotlib>=3.7.1 in /Users/zhaohuanan/micromamba/lib/python3.10/site-packages (from bioat) (3.7.2)\n",
      "Requirement already satisfied: numpy>=1.24.1 in /Users/zhaohuanan/micromamba/lib/python3.10/site-packages (from bioat) (1.25.2)\n",
      "Requirement already satisfied: pandarallel>=1.6.4 in /Users/zhaohuanan/micromamba/lib/python3.10/site-packages (from bioat) (1.6.5)\n",
      "Requirement already satisfied: pandas>=1.5 in /Users/zhaohuanan/micromamba/lib/python3.10/site-packages (from bioat) (2.0.3)\n",
      "Requirement already satisfied: pysam>=0.20.0 in /Users/zhaohuanan/micromamba/lib/python3.10/site-packages (from bioat) (0.21.0)\n",
      "Requirement already satisfied: requests<3.0.0,>=2.31.0 in /Users/zhaohuanan/micromamba/lib/python3.10/site-packages (from bioat) (2.31.0)\n",
      "Requirement already satisfied: scipy>=1.8.0 in /Users/zhaohuanan/micromamba/lib/python3.10/site-packages (from bioat) (1.11.1)\n",
      "Requirement already satisfied: selenium<5.0.0,>=4.11.2 in /Users/zhaohuanan/micromamba/lib/python3.10/site-packages (from bioat) (4.11.2)\n",
      "Requirement already satisfied: statsmodels>=0.13.5 in /Users/zhaohuanan/micromamba/lib/python3.10/site-packages (from bioat) (0.14.0)\n",
      "Requirement already satisfied: tabulate>=0.9.0 in /Users/zhaohuanan/micromamba/lib/python3.10/site-packages (from bioat) (0.9.0)\n",
      "Requirement already satisfied: tqdm>=4.64.1 in /Users/zhaohuanan/micromamba/lib/python3.10/site-packages (from bioat) (4.66.1)\n",
      "Requirement already satisfied: beautifulsoup4 in /Users/zhaohuanan/micromamba/lib/python3.10/site-packages (from bs4<0.0.2,>=0.0.1->bioat) (4.12.2)\n",
      "Requirement already satisfied: six in /Users/zhaohuanan/micromamba/lib/python3.10/site-packages (from fire>=0.5.0->bioat) (1.16.0)\n",
      "Requirement already satisfied: termcolor in /Users/zhaohuanan/micromamba/lib/python3.10/site-packages (from fire>=0.5.0->bioat) (2.3.0)\n",
      "Requirement already satisfied: backcall in /Users/zhaohuanan/micromamba/lib/python3.10/site-packages (from ipython>=8.14.0->bioat) (0.2.0)\n",
      "Requirement already satisfied: decorator in /Users/zhaohuanan/micromamba/lib/python3.10/site-packages (from ipython>=8.14.0->bioat) (5.1.1)\n",
      "Requirement already satisfied: jedi>=0.16 in /Users/zhaohuanan/micromamba/lib/python3.10/site-packages (from ipython>=8.14.0->bioat) (0.17.2)\n",
      "Requirement already satisfied: matplotlib-inline in /Users/zhaohuanan/micromamba/lib/python3.10/site-packages (from ipython>=8.14.0->bioat) (0.1.6)\n",
      "Requirement already satisfied: pickleshare in /Users/zhaohuanan/micromamba/lib/python3.10/site-packages (from ipython>=8.14.0->bioat) (0.7.5)\n",
      "Requirement already satisfied: prompt-toolkit!=3.0.37,<3.1.0,>=3.0.30 in /Users/zhaohuanan/micromamba/lib/python3.10/site-packages (from ipython>=8.14.0->bioat) (3.0.39)\n",
      "Requirement already satisfied: pygments>=2.4.0 in /Users/zhaohuanan/micromamba/lib/python3.10/site-packages (from ipython>=8.14.0->bioat) (2.16.1)\n",
      "Requirement already satisfied: stack-data in /Users/zhaohuanan/micromamba/lib/python3.10/site-packages (from ipython>=8.14.0->bioat) (0.6.2)\n",
      "Requirement already satisfied: traitlets>=5 in /Users/zhaohuanan/micromamba/lib/python3.10/site-packages (from ipython>=8.14.0->bioat) (5.9.0)\n",
      "Requirement already satisfied: pexpect>4.3 in /Users/zhaohuanan/micromamba/lib/python3.10/site-packages (from ipython>=8.14.0->bioat) (4.8.0)\n",
      "Requirement already satisfied: appnope in /Users/zhaohuanan/micromamba/lib/python3.10/site-packages (from ipython>=8.14.0->bioat) (0.1.3)\n",
      "Requirement already satisfied: contourpy>=1.0.1 in /Users/zhaohuanan/micromamba/lib/python3.10/site-packages (from matplotlib>=3.7.1->bioat) (1.1.0)\n",
      "Requirement already satisfied: cycler>=0.10 in /Users/zhaohuanan/micromamba/lib/python3.10/site-packages (from matplotlib>=3.7.1->bioat) (0.11.0)\n",
      "Requirement already satisfied: fonttools>=4.22.0 in /Users/zhaohuanan/micromamba/lib/python3.10/site-packages (from matplotlib>=3.7.1->bioat) (4.42.0)\n",
      "Requirement already satisfied: kiwisolver>=1.0.1 in /Users/zhaohuanan/micromamba/lib/python3.10/site-packages (from matplotlib>=3.7.1->bioat) (1.4.4)\n",
      "Requirement already satisfied: packaging>=20.0 in /Users/zhaohuanan/micromamba/lib/python3.10/site-packages (from matplotlib>=3.7.1->bioat) (23.1)\n",
      "Requirement already satisfied: pillow>=6.2.0 in /Users/zhaohuanan/micromamba/lib/python3.10/site-packages (from matplotlib>=3.7.1->bioat) (10.0.0)\n",
      "Requirement already satisfied: pyparsing<3.1,>=2.3.1 in /Users/zhaohuanan/micromamba/lib/python3.10/site-packages (from matplotlib>=3.7.1->bioat) (3.0.9)\n",
      "Requirement already satisfied: python-dateutil>=2.7 in /Users/zhaohuanan/micromamba/lib/python3.10/site-packages (from matplotlib>=3.7.1->bioat) (2.8.2)\n",
      "Requirement already satisfied: dill>=0.3.1 in /Users/zhaohuanan/micromamba/lib/python3.10/site-packages (from pandarallel>=1.6.4->bioat) (0.3.7)\n",
      "Requirement already satisfied: psutil in /Users/zhaohuanan/micromamba/lib/python3.10/site-packages (from pandarallel>=1.6.4->bioat) (5.9.5)\n",
      "Requirement already satisfied: pytz>=2020.1 in /Users/zhaohuanan/micromamba/lib/python3.10/site-packages (from pandas>=1.5->bioat) (2023.3)\n",
      "Requirement already satisfied: tzdata>=2022.1 in /Users/zhaohuanan/micromamba/lib/python3.10/site-packages (from pandas>=1.5->bioat) (2023.3)\n",
      "Requirement already satisfied: charset-normalizer<4,>=2 in /Users/zhaohuanan/micromamba/lib/python3.10/site-packages (from requests<3.0.0,>=2.31.0->bioat) (3.2.0)\n",
      "Requirement already satisfied: idna<4,>=2.5 in /Users/zhaohuanan/micromamba/lib/python3.10/site-packages (from requests<3.0.0,>=2.31.0->bioat) (3.4)\n",
      "Requirement already satisfied: urllib3<3,>=1.21.1 in /Users/zhaohuanan/micromamba/lib/python3.10/site-packages (from requests<3.0.0,>=2.31.0->bioat) (2.0.4)\n",
      "Requirement already satisfied: certifi>=2017.4.17 in /Users/zhaohuanan/micromamba/lib/python3.10/site-packages (from requests<3.0.0,>=2.31.0->bioat) (2023.7.22)\n",
      "Requirement already satisfied: trio~=0.17 in /Users/zhaohuanan/micromamba/lib/python3.10/site-packages (from selenium<5.0.0,>=4.11.2->bioat) (0.22.2)\n",
      "Requirement already satisfied: trio-websocket~=0.9 in /Users/zhaohuanan/micromamba/lib/python3.10/site-packages (from selenium<5.0.0,>=4.11.2->bioat) (0.10.3)\n",
      "Requirement already satisfied: patsy>=0.5.2 in /Users/zhaohuanan/micromamba/lib/python3.10/site-packages (from statsmodels>=0.13.5->bioat) (0.5.3)\n",
      "Requirement already satisfied: parso<0.8.0,>=0.7.0 in /Users/zhaohuanan/micromamba/lib/python3.10/site-packages (from jedi>=0.16->ipython>=8.14.0->bioat) (0.7.1)\n",
      "Requirement already satisfied: ptyprocess>=0.5 in /Users/zhaohuanan/micromamba/lib/python3.10/site-packages (from pexpect>4.3->ipython>=8.14.0->bioat) (0.7.0)\n",
      "Requirement already satisfied: wcwidth in /Users/zhaohuanan/micromamba/lib/python3.10/site-packages (from prompt-toolkit!=3.0.37,<3.1.0,>=3.0.30->ipython>=8.14.0->bioat) (0.2.6)\n",
      "Requirement already satisfied: attrs>=20.1.0 in /Users/zhaohuanan/micromamba/lib/python3.10/site-packages (from trio~=0.17->selenium<5.0.0,>=4.11.2->bioat) (23.1.0)\n",
      "Requirement already satisfied: sortedcontainers in /Users/zhaohuanan/micromamba/lib/python3.10/site-packages (from trio~=0.17->selenium<5.0.0,>=4.11.2->bioat) (2.4.0)\n",
      "Requirement already satisfied: outcome in /Users/zhaohuanan/micromamba/lib/python3.10/site-packages (from trio~=0.17->selenium<5.0.0,>=4.11.2->bioat) (1.2.0)\n",
      "Requirement already satisfied: sniffio in /Users/zhaohuanan/micromamba/lib/python3.10/site-packages (from trio~=0.17->selenium<5.0.0,>=4.11.2->bioat) (1.3.0)\n",
      "Requirement already satisfied: exceptiongroup>=1.0.0rc9 in /Users/zhaohuanan/micromamba/lib/python3.10/site-packages (from trio~=0.17->selenium<5.0.0,>=4.11.2->bioat) (1.1.3)\n",
      "Requirement already satisfied: wsproto>=0.14 in /Users/zhaohuanan/micromamba/lib/python3.10/site-packages (from trio-websocket~=0.9->selenium<5.0.0,>=4.11.2->bioat) (1.2.0)\n",
      "Requirement already satisfied: pysocks!=1.5.7,<2.0,>=1.5.6 in /Users/zhaohuanan/micromamba/lib/python3.10/site-packages (from urllib3<3,>=1.21.1->requests<3.0.0,>=2.31.0->bioat) (1.7.1)\n",
      "Requirement already satisfied: soupsieve>1.2 in /Users/zhaohuanan/micromamba/lib/python3.10/site-packages (from beautifulsoup4->bs4<0.0.2,>=0.0.1->bioat) (2.3.2.post1)\n",
      "Requirement already satisfied: executing>=1.2.0 in /Users/zhaohuanan/micromamba/lib/python3.10/site-packages (from stack-data->ipython>=8.14.0->bioat) (1.2.0)\n",
      "Requirement already satisfied: asttokens>=2.1.0 in /Users/zhaohuanan/micromamba/lib/python3.10/site-packages (from stack-data->ipython>=8.14.0->bioat) (2.2.1)\n",
      "Requirement already satisfied: pure-eval in /Users/zhaohuanan/micromamba/lib/python3.10/site-packages (from stack-data->ipython>=8.14.0->bioat) (0.2.2)\n",
      "Requirement already satisfied: h11<1,>=0.9.0 in /Users/zhaohuanan/micromamba/lib/python3.10/site-packages (from wsproto>=0.14->trio-websocket~=0.9->selenium<5.0.0,>=4.11.2->bioat) (0.14.0)\n"
     ]
    }
   ],
   "source": [
    "!pip install bioat -U;"
   ]
  },
  {
   "cell_type": "code",
   "execution_count": 2,
   "metadata": {
    "execution": {
     "iopub.execute_input": "2023-08-28T06:59:17.418638Z",
     "iopub.status.busy": "2023-08-28T06:59:17.418474Z",
     "iopub.status.idle": "2023-08-28T06:59:20.080805Z",
     "shell.execute_reply": "2023-08-28T06:59:20.080490Z",
     "shell.execute_reply.started": "2023-08-28T06:59:17.418622Z"
    },
    "tags": []
   },
   "outputs": [
    {
     "data": {
      "text/plain": [
       "'/Users/zhaohuanan'"
      ]
     },
     "execution_count": 2,
     "metadata": {},
     "output_type": "execute_result"
    }
   ],
   "source": [
    "import glob\n",
    "import json\n",
    "import platform\n",
    "from bioat.lib.libpath import HOME\n",
    "import pprint\n",
    "\n",
    "\n",
    "pp = pprint.PrettyPrinter(indent=4)\n",
    "HOME"
   ]
  },
  {
   "cell_type": "code",
   "execution_count": 3,
   "metadata": {
    "execution": {
     "iopub.execute_input": "2023-08-28T06:59:20.081603Z",
     "iopub.status.busy": "2023-08-28T06:59:20.081430Z",
     "iopub.status.idle": "2023-08-28T06:59:20.083844Z",
     "shell.execute_reply": "2023-08-28T06:59:20.083530Z",
     "shell.execute_reply.started": "2023-08-28T06:59:20.081592Z"
    },
    "tags": []
   },
   "outputs": [],
   "source": [
    "if platform.system() == 'Linux':\n",
    "    HOME = '/lustre1/chengqiyi_pkuhpc/zhaohn'\n",
    "else:\n",
    "    pass\n",
    "\n",
    "\n",
    "thread = 20\n",
    "control = {\n",
    "    \"bam\": f\"{HOME}/3.project/2022_DdCBE-3D-Genome_topic/2022-09-30_Detect-seq_batch-1_ATP8_JAK2_SIRT6/bam/Vector-merge_hg38_merge_sort_rmdup.MAPQ20.bam\",\n",
    "    \"name\": \"Vector-merge_hg38\"\n",
    "}"
   ]
  },
  {
   "cell_type": "code",
   "execution_count": 4,
   "metadata": {
    "collapsed": false,
    "execution": {
     "iopub.execute_input": "2023-08-28T06:59:20.085395Z",
     "iopub.status.busy": "2023-08-28T06:59:20.085248Z",
     "iopub.status.idle": "2023-08-28T06:59:20.087500Z",
     "shell.execute_reply": "2023-08-28T06:59:20.087185Z",
     "shell.execute_reply.started": "2023-08-28T06:59:20.085383Z"
    },
    "jupyter": {
     "outputs_hidden": false
    },
    "tags": []
   },
   "outputs": [
    {
     "name": "stdout",
     "output_type": "stream",
     "text": [
      "20\n",
      "{   'bam': '/Users/zhaohuanan/3.project/2022_DdCBE-3D-Genome_topic/2022-09-30_Detect-seq_batch-1_ATP8_JAK2_SIRT6/bam/Vector-merge_hg38_merge_sort_rmdup.MAPQ20.bam',\n",
      "    'name': 'Vector-merge_hg38'}\n"
     ]
    }
   ],
   "source": [
    "pp.pprint(thread)\n",
    "pp.pprint(control)"
   ]
  },
  {
   "cell_type": "markdown",
   "metadata": {},
   "source": [
    "## 参数设置"
   ]
  },
  {
   "cell_type": "markdown",
   "metadata": {},
   "source": [
    "## Detect-seq\n",
    "```\n",
    "hisat-3n-build \\\n",
    "-p 24 \\\n",
    "genome_ucsc_hg38.fa \\\n",
    "genome_ucsc_hg38.fa.hisat3n-foryilab_bcCT_standard_mode.snp_hap_exon_ss \\\n",
    "--exon genome_ucsc_hg38.fa.hisat2.exon \\\n",
    "--haplotype genome_ucsc_hg38.fa.hisat2.snp151Common.haplotype \\\n",
    "--snp genome_ucsc_hg38.fa.hisat2.snp151Common.snp \\\n",
    "--ss genome_ucsc_hg38.fa.hisat2.ss \\\n",
    "--base-change C,T\n",
    "```\n",
    "\n",
    "## Direct-seq\n",
    "```\n",
    "hisat-3n-build \\\n",
    "-p 24 \\\n",
    "genome_ucsc_hg38.fa \\\n",
    "genome_ucsc_hg38.fa.hisat3n-foryilab_bcAG_standard_mode.snp_hap_exon_ss \\\n",
    "--exon genome_ucsc_hg38.fa.hisat2.exon \\\n",
    "--haplotype genome_ucsc_hg38.fa.hisat2.snp151Common.haplotype \\\n",
    "--snp genome_ucsc_hg38.fa.hisat2.snp151Common.snp \\\n",
    "--ss genome_ucsc_hg38.fa.hisat2.ss \\\n",
    "--base-change A,G\n",
    "```\n",
    "\n",
    "hisat3n的index中，CT 和 AG 的 index md5 值一致，可能可以指定 CT 就可以使用 AG，所以Detect-seq中建立的CTindex，在Direct-seq的AGindex中是等价的，用哪个都行"
   ]
  },
  {
   "cell_type": "code",
   "execution_count": 5,
   "metadata": {
    "execution": {
     "iopub.execute_input": "2023-08-28T06:59:20.088183Z",
     "iopub.status.busy": "2023-08-28T06:59:20.088035Z",
     "iopub.status.idle": "2023-08-28T06:59:20.091028Z",
     "shell.execute_reply": "2023-08-28T06:59:20.090757Z",
     "shell.execute_reply.started": "2023-08-28T06:59:20.088173Z"
    },
    "tags": []
   },
   "outputs": [
    {
     "data": {
      "text/plain": [
       "'/Users/zhaohuanan/1.database/db_genomes/cell_line_mutations/293T/293T_BE_INPUT_VCF/293T_DddA11_FalsePositive_off-target-list.bed,/Users/zhaohuanan/1.database/db_genomes/cell_line_mutations/293T/293T_BE_INPUT_VCF/293T-EMX1-Mock-Input.site_index.rmdup.bed,/Users/zhaohuanan/1.database/db_genomes/cell_line_mutations/293T/293T_BE_INPUT_VCF/293T-Mock-Input-covaris_bwa_hg38_sort_rmdup.recall.merge.Genotype.filter.rmdup_signal.vcf'"
      ]
     },
     "execution_count": 5,
     "metadata": {},
     "output_type": "execute_result"
    }
   ],
   "source": [
    "# Detect-seq\n",
    "genome_hisat3n_index = f\"{HOME}/1.database/db_genomes/genome_fa/genome_ucsc_hg38/genome_ucsc_hg38.fa.hisat3n-foryilab_bcCT_standard_mode.snp_hap_exon_ss\"\n",
    "base_change = \"C,T\"\n",
    "query_mutation_type = \"CT,GA\"\n",
    "\n",
    "# Direct-seq\n",
    "# genome_hisat3n_index = f\"{HOME}/1.database/db_genomes/genome_fa/genome_ucsc_hg38/genome_ucsc_hg38.fa.hisat3n-foryilab_bcAG_standard_mode.snp_hap_exon_ss\"\n",
    "# base_change = 'A,G'\n",
    "# query_mutation_type = \"AG,TC\"\n",
    "\n",
    "\n",
    "snp_list = \",\".join([f\"{HOME}/1.database/db_genomes/cell_line_mutations/293T/293T_BE_INPUT_VCF/293T_DddA11_FalsePositive_off-target-list.bed\",\n",
    "                     f\"{HOME}/1.database/db_genomes/cell_line_mutations/293T/293T_BE_INPUT_VCF/293T-EMX1-Mock-Input.site_index.rmdup.bed\",\n",
    "                     f\"{HOME}/1.database/db_genomes/cell_line_mutations/293T/293T_BE_INPUT_VCF/293T-Mock-Input-covaris_bwa_hg38_sort_rmdup.recall.merge.Genotype.filter.rmdup_signal.vcf\",])\n",
    "snp_list"
   ]
  },
  {
   "cell_type": "markdown",
   "metadata": {},
   "source": [
    "## 生成samples.json"
   ]
  },
  {
   "cell_type": "code",
   "execution_count": 6,
   "metadata": {
    "execution": {
     "iopub.execute_input": "2023-08-28T06:59:20.091641Z",
     "iopub.status.busy": "2023-08-28T06:59:20.091528Z",
     "iopub.status.idle": "2023-08-28T06:59:20.100671Z",
     "shell.execute_reply": "2023-08-28T06:59:20.100269Z",
     "shell.execute_reply.started": "2023-08-28T06:59:20.091632Z"
    },
    "tags": []
   },
   "outputs": [],
   "source": [
    "ls = sorted(glob.glob(\"../fastq/*.fastq.gz\"))\n",
    "assert ls != []  # 需要非空\n",
    "ls_se = [i for i in ls if i.endswith(\"SE.fastq.gz\")]\n",
    "ls_pe = [i for i in ls if i.endswith(\"R1.fastq.gz\")]"
   ]
  },
  {
   "cell_type": "code",
   "execution_count": 7,
   "metadata": {
    "execution": {
     "iopub.execute_input": "2023-08-28T06:59:20.101758Z",
     "iopub.status.busy": "2023-08-28T06:59:20.101601Z",
     "iopub.status.idle": "2023-08-28T06:59:20.104622Z",
     "shell.execute_reply": "2023-08-28T06:59:20.104268Z",
     "shell.execute_reply.started": "2023-08-28T06:59:20.101743Z"
    },
    "tags": []
   },
   "outputs": [],
   "source": [
    "if ls_se:\n",
    "    ls_sample = [i.split(\"/\")[-1].split(\"_SE.fastq\")[0] for i in ls_se]\n",
    "    end_type = \"SE\"\n",
    "\n",
    "if ls_pe:\n",
    "    ls_sample = [i.split(\"/\")[-1].split(\"_R1.fastq\")[0] for i in ls_pe]\n",
    "    end_type = \"PE\""
   ]
  },
  {
   "cell_type": "code",
   "execution_count": 8,
   "metadata": {
    "execution": {
     "iopub.execute_input": "2023-08-28T06:59:20.105205Z",
     "iopub.status.busy": "2023-08-28T06:59:20.105096Z",
     "iopub.status.idle": "2023-08-28T06:59:20.107785Z",
     "shell.execute_reply": "2023-08-28T06:59:20.107026Z",
     "shell.execute_reply.started": "2023-08-28T06:59:20.105195Z"
    },
    "tags": []
   },
   "outputs": [
    {
     "name": "stdout",
     "output_type": "stream",
     "text": [
      "[   'DetectSeq_ATP8-DddA11_REP-1',\n",
      "    'DetectSeq_ATP8-DddA6_REP-1',\n",
      "    'DetectSeq_ATP8-DddAwt_REP-1',\n",
      "    'DetectSeq_JAK2-DddA11_REP-1',\n",
      "    'DetectSeq_JAK2-DddA11_REP-2',\n",
      "    'DetectSeq_SIRT6-DddA11_REP-1',\n",
      "    'DetectSeq_SIRT6-DddA11_REP-2',\n",
      "    'test']\n"
     ]
    }
   ],
   "source": [
    "pp.pprint(ls_sample)"
   ]
  },
  {
   "cell_type": "code",
   "execution_count": 9,
   "metadata": {
    "execution": {
     "iopub.execute_input": "2023-08-28T06:59:20.108646Z",
     "iopub.status.busy": "2023-08-28T06:59:20.108482Z",
     "iopub.status.idle": "2023-08-28T06:59:20.113427Z",
     "shell.execute_reply": "2023-08-28T06:59:20.112992Z",
     "shell.execute_reply.started": "2023-08-28T06:59:20.108633Z"
    },
    "tags": []
   },
   "outputs": [],
   "source": [
    "ls_sample = [\n",
    "    'DetectSeq_ATP8-DddA11_REP-1',\n",
    "    'DetectSeq_ATP8-DddA6_REP-1',\n",
    "    'DetectSeq_ATP8-DddAwt_REP-1',\n",
    "    'DetectSeq_JAK2-DddA11_REP-1',\n",
    "    'DetectSeq_JAK2-DddA11_REP-2',\n",
    "    'DetectSeq_SIRT6-DddA11_REP-1',\n",
    "    'DetectSeq_SIRT6-DddA11_REP-2',\n",
    "    # 'test'\n",
    "]"
   ]
  },
  {
   "cell_type": "code",
   "execution_count": 10,
   "metadata": {
    "execution": {
     "iopub.execute_input": "2023-08-28T06:59:20.114413Z",
     "iopub.status.busy": "2023-08-28T06:59:20.114221Z",
     "iopub.status.idle": "2023-08-28T06:59:20.116474Z",
     "shell.execute_reply": "2023-08-28T06:59:20.115865Z",
     "shell.execute_reply.started": "2023-08-28T06:59:20.114399Z"
    },
    "tags": []
   },
   "outputs": [],
   "source": [
    "platform = \"MGI\"  # Illumina / MGI ..."
   ]
  },
  {
   "cell_type": "code",
   "execution_count": 11,
   "metadata": {
    "execution": {
     "iopub.execute_input": "2023-08-28T06:59:20.117959Z",
     "iopub.status.busy": "2023-08-28T06:59:20.117644Z",
     "iopub.status.idle": "2023-08-28T06:59:20.120978Z",
     "shell.execute_reply": "2023-08-28T06:59:20.120571Z",
     "shell.execute_reply.started": "2023-08-28T06:59:20.117921Z"
    },
    "tags": []
   },
   "outputs": [],
   "source": [
    "dt = {\n",
    "    \"seq_mode\": end_type,\n",
    "    \"samples\": ls_sample,\n",
    "    \"thread\": thread,\n",
    "    \"genome_hisat3n_index\": genome_hisat3n_index,\n",
    "    \"platform\": platform,\n",
    "    \"base_change\": base_change,\n",
    "    \"snp_list\": snp_list,\n",
    "    \"control\": control,\n",
    "    \"query_mutation_type\": query_mutation_type,\n",
    "}"
   ]
  },
  {
   "cell_type": "code",
   "execution_count": 12,
   "metadata": {
    "collapsed": false,
    "execution": {
     "iopub.execute_input": "2023-08-28T06:59:20.121954Z",
     "iopub.status.busy": "2023-08-28T06:59:20.121766Z",
     "iopub.status.idle": "2023-08-28T06:59:20.125822Z",
     "shell.execute_reply": "2023-08-28T06:59:20.124928Z",
     "shell.execute_reply.started": "2023-08-28T06:59:20.121940Z"
    },
    "jupyter": {
     "outputs_hidden": false
    },
    "tags": []
   },
   "outputs": [
    {
     "name": "stdout",
     "output_type": "stream",
     "text": [
      "{   'base_change': 'C,T',\n",
      "    'control': {   'bam': '/Users/zhaohuanan/3.project/2022_DdCBE-3D-Genome_topic/2022-09-30_Detect-seq_batch-1_ATP8_JAK2_SIRT6/bam/Vector-merge_hg38_merge_sort_rmdup.MAPQ20.bam',\n",
      "                   'name': 'Vector-merge_hg38'},\n",
      "    'genome_hisat3n_index': '/Users/zhaohuanan/1.database/db_genomes/genome_fa/genome_ucsc_hg38/genome_ucsc_hg38.fa.hisat3n-foryilab_bcCT_standard_mode.snp_hap_exon_ss',\n",
      "    'platform': 'MGI',\n",
      "    'query_mutation_type': 'CT,GA',\n",
      "    'samples': [   'DetectSeq_ATP8-DddA11_REP-1',\n",
      "                   'DetectSeq_ATP8-DddA6_REP-1',\n",
      "                   'DetectSeq_ATP8-DddAwt_REP-1',\n",
      "                   'DetectSeq_JAK2-DddA11_REP-1',\n",
      "                   'DetectSeq_JAK2-DddA11_REP-2',\n",
      "                   'DetectSeq_SIRT6-DddA11_REP-1',\n",
      "                   'DetectSeq_SIRT6-DddA11_REP-2'],\n",
      "    'seq_mode': 'PE',\n",
      "    'snp_list': '/Users/zhaohuanan/1.database/db_genomes/cell_line_mutations/293T/293T_BE_INPUT_VCF/293T_DddA11_FalsePositive_off-target-list.bed,/Users/zhaohuanan/1.database/db_genomes/cell_line_mutations/293T/293T_BE_INPUT_VCF/293T-EMX1-Mock-Input.site_index.rmdup.bed,/Users/zhaohuanan/1.database/db_genomes/cell_line_mutations/293T/293T_BE_INPUT_VCF/293T-Mock-Input-covaris_bwa_hg38_sort_rmdup.recall.merge.Genotype.filter.rmdup_signal.vcf',\n",
      "    'thread': 20}\n"
     ]
    }
   ],
   "source": [
    "pp.pprint(dt)"
   ]
  },
  {
   "cell_type": "code",
   "execution_count": 13,
   "metadata": {
    "execution": {
     "iopub.execute_input": "2023-08-28T06:59:20.129154Z",
     "iopub.status.busy": "2023-08-28T06:59:20.128933Z",
     "iopub.status.idle": "2023-08-28T06:59:20.131668Z",
     "shell.execute_reply": "2023-08-28T06:59:20.131342Z",
     "shell.execute_reply.started": "2023-08-28T06:59:20.129141Z"
    },
    "tags": []
   },
   "outputs": [],
   "source": [
    "with open(\"./samples.json\", \"wt\") as f:\n",
    "    f.write(json.dumps(dt))"
   ]
  },
  {
   "cell_type": "code",
   "execution_count": null,
   "metadata": {},
   "outputs": [],
   "source": []
  }
 ],
 "metadata": {
  "kernelspec": {
   "display_name": "snakepipes_detect-seq",
   "language": "python",
   "name": "snakepipes_detect-seq"
  },
  "language_info": {
   "codemirror_mode": {
    "name": "ipython",
    "version": 3
   },
   "file_extension": ".py",
   "mimetype": "text/x-python",
   "name": "python",
   "nbconvert_exporter": "python",
   "pygments_lexer": "ipython3",
   "version": "3.10.12"
  },
  "widgets": {
   "application/vnd.jupyter.widget-state+json": {
    "state": {},
    "version_major": 2,
    "version_minor": 0
   }
  }
 },
 "nbformat": 4,
 "nbformat_minor": 4
}
