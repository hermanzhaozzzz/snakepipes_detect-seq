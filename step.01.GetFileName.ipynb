{
 "cells": [
  {
   "cell_type": "markdown",
   "metadata": {
    "tags": []
   },
   "source": [
    "# 标准质控流程"
   ]
  },
  {
   "cell_type": "code",
   "execution_count": 1,
   "metadata": {
    "execution": {
     "iopub.execute_input": "2023-04-07T05:44:30.377755Z",
     "iopub.status.busy": "2023-04-07T05:44:30.376730Z",
     "iopub.status.idle": "2023-04-07T05:44:30.387122Z",
     "shell.execute_reply": "2023-04-07T05:44:30.386067Z",
     "shell.execute_reply.started": "2023-04-07T05:44:30.377721Z"
    },
    "tags": []
   },
   "outputs": [],
   "source": [
    "import glob\n",
    "import json\n",
    "import platform\n",
    "import pprint"
   ]
  },
  {
   "cell_type": "code",
   "execution_count": 2,
   "metadata": {
    "collapsed": false,
    "execution": {
     "iopub.execute_input": "2023-04-07T05:45:51.203457Z",
     "iopub.status.busy": "2023-04-07T05:45:51.202942Z",
     "iopub.status.idle": "2023-04-07T05:45:51.207994Z",
     "shell.execute_reply": "2023-04-07T05:45:51.206938Z",
     "shell.execute_reply.started": "2023-04-07T05:45:51.203428Z"
    },
    "jupyter": {
     "outputs_hidden": false
    },
    "tags": []
   },
   "outputs": [],
   "source": [
    "pp = pprint.PrettyPrinter(indent=4)\n",
    "# pp?"
   ]
  },
  {
   "cell_type": "code",
   "execution_count": 3,
   "metadata": {
    "execution": {
     "iopub.execute_input": "2023-04-07T05:46:06.265428Z",
     "iopub.status.busy": "2023-04-07T05:46:06.264918Z",
     "iopub.status.idle": "2023-04-07T05:46:06.270438Z",
     "shell.execute_reply": "2023-04-07T05:46:06.269673Z",
     "shell.execute_reply.started": "2023-04-07T05:46:06.265399Z"
    },
    "tags": []
   },
   "outputs": [],
   "source": [
    "if platform.system() == 'Linux':\n",
    "    root_path = '/lustre1/chengqiyi_pkuhpc/zhaohn'\n",
    "    thread = 20\n",
    "    control = {\n",
    "        \"bam\":\n",
    "            f\"{root_path}/3.project/2022_DdCBE-3D-Genome_topic/2022-09-30_Detect-seq_batch-1/bam/Vector-merge_hg38_merge_sort_rmdup.MAPQ20.bam\",\n",
    "        \"name\":\n",
    "            \"Vector-merge_hg38\"\n",
    "    }\n",
    "elif platform.system() == 'Darwin':\n",
    "    root_path = '/Volumes/Data-a/Bio'\n",
    "    thread = 8\n",
    "    control = {\n",
    "        \"bam\":\n",
    "            f\"/Users/zhaohuanan/PycharmProjects/snakepipes_detect-seq/bam/test_ctrl.bam\",\n",
    "        \"name\":\n",
    "            \"test_ctrl\"\n",
    "    }"
   ]
  },
  {
   "cell_type": "code",
   "execution_count": 4,
   "metadata": {
    "collapsed": false,
    "execution": {
     "iopub.execute_input": "2023-04-07T05:46:09.179040Z",
     "iopub.status.busy": "2023-04-07T05:46:09.178523Z",
     "iopub.status.idle": "2023-04-07T05:46:09.183946Z",
     "shell.execute_reply": "2023-04-07T05:46:09.183154Z",
     "shell.execute_reply.started": "2023-04-07T05:46:09.179011Z"
    },
    "jupyter": {
     "outputs_hidden": false
    },
    "tags": []
   },
   "outputs": [
    {
     "name": "stdout",
     "output_type": "stream",
     "text": [
      "'Linux'\n",
      "20\n",
      "{   'bam': '/lustre1/chengqiyi_pkuhpc/zhaohn/3.project/2022_DdCBE-3D-Genome_topic/2022-09-30_Detect-seq_batch-1/bam/Vector-merge_hg38_merge_sort_rmdup.MAPQ20.bam',\n",
      "    'name': 'Vector-merge_hg38'}\n"
     ]
    }
   ],
   "source": [
    "pp.pprint(platform.system())\n",
    "pp.pprint(thread)\n",
    "pp.pprint(control)"
   ]
  },
  {
   "cell_type": "markdown",
   "metadata": {},
   "source": [
    "## 参数设置"
   ]
  },
  {
   "cell_type": "markdown",
   "metadata": {},
   "source": [
    "## Detect-seq\n",
    "```\n",
    "hisat-3n-build \\\n",
    "-p 24 \\\n",
    "genome_ucsc_hg38.fa \\\n",
    "genome_ucsc_hg38.fa.hisat3n-foryilab_bcCT_standard_mode.snp_hap_exon_ss \\\n",
    "--exon genome_ucsc_hg38.fa.hisat2.exon \\\n",
    "--haplotype genome_ucsc_hg38.fa.hisat2.snp151Common.haplotype \\\n",
    "--snp genome_ucsc_hg38.fa.hisat2.snp151Common.snp \\\n",
    "--ss genome_ucsc_hg38.fa.hisat2.ss \\\n",
    "--base-change C,T\n",
    "```\n",
    "\n",
    "## Direct-seq\n",
    "```\n",
    "hisat-3n-build \\\n",
    "-p 24 \\\n",
    "genome_ucsc_hg38.fa \\\n",
    "genome_ucsc_hg38.fa.hisat3n-foryilab_bcAG_standard_mode.snp_hap_exon_ss \\\n",
    "--exon genome_ucsc_hg38.fa.hisat2.exon \\\n",
    "--haplotype genome_ucsc_hg38.fa.hisat2.snp151Common.haplotype \\\n",
    "--snp genome_ucsc_hg38.fa.hisat2.snp151Common.snp \\\n",
    "--ss genome_ucsc_hg38.fa.hisat2.ss \\\n",
    "--base-change A,G\n",
    "```\n",
    "## 【TODO】注意到 CT 和 AG 的 index md5 值一致，可能可以指定 CT 就可以使用 AG？未尝试"
   ]
  },
  {
   "cell_type": "code",
   "execution_count": 5,
   "metadata": {
    "execution": {
     "iopub.execute_input": "2023-04-07T05:46:32.354354Z",
     "iopub.status.busy": "2023-04-07T05:46:32.353640Z",
     "iopub.status.idle": "2023-04-07T05:46:32.359666Z",
     "shell.execute_reply": "2023-04-07T05:46:32.358928Z",
     "shell.execute_reply.started": "2023-04-07T05:46:32.354313Z"
    },
    "tags": []
   },
   "outputs": [],
   "source": [
    "# Detect-seq\n",
    "genome_hisat3n_index = f\"{root_path}/1.database/db_genomes/genome_fa/genome_ucsc_hg38/genome_ucsc_hg38.fa.hisat3n-foryilab_bcCT_standard_mode.snp_hap_exon_ss\"\n",
    "base_change = \"C,T\"\n",
    "query_mutation_type = \"CT,GA\"\n",
    "\n",
    "\n",
    "# Direct-seq\n",
    "# genome_hisat3n_index = f\"{root_path}/1.database/db_genomes/genome_fa/genome_ucsc_hg38/genome_ucsc_hg38.fa.hisat3n-foryilab_bcAG_standard_mode.snp_hap_exon_ss\"\n",
    "# base_change = 'A,G'\n",
    "# query_mutation_type = \"AG,TC\"\n",
    "\n",
    "\n",
    "snp_list = \",\".join([\n",
    "    f\"{root_path}/1.database/db_genomes/cell_line_mutations/293T/293T_BE_INPUT_VCF/293T-EMX1-Mock-Input.site_index.rmdup.bed\",\n",
    "    f\"{root_path}/1.database/db_genomes/cell_line_mutations/293T/293T_BE_INPUT_VCF/293T-Mock-Input-covaris_bwa_hg38_sort_rmdup.recall.merge.Genotype.filter.rmdup_signal.vcf\",\n",
    "])"
   ]
  },
  {
   "cell_type": "markdown",
   "metadata": {},
   "source": [
    "## 生成samples.json"
   ]
  },
  {
   "cell_type": "code",
   "execution_count": 6,
   "metadata": {
    "execution": {
     "iopub.execute_input": "2023-04-07T05:46:36.142631Z",
     "iopub.status.busy": "2023-04-07T05:46:36.142168Z",
     "iopub.status.idle": "2023-04-07T05:46:36.151606Z",
     "shell.execute_reply": "2023-04-07T05:46:36.150969Z",
     "shell.execute_reply.started": "2023-04-07T05:46:36.142598Z"
    },
    "tags": []
   },
   "outputs": [],
   "source": [
    "ls = sorted(glob.glob(\"../fastq/*.fastq.gz\"))\n",
    "assert ls != []  # 需要非空\n",
    "ls_se = [i for i in ls if i.endswith(\"SE.fastq.gz\")]\n",
    "ls_pe = [i for i in ls if i.endswith(\"R1.fastq.gz\")]"
   ]
  },
  {
   "cell_type": "code",
   "execution_count": 7,
   "metadata": {
    "execution": {
     "iopub.execute_input": "2023-04-07T05:46:38.686059Z",
     "iopub.status.busy": "2023-04-07T05:46:38.685650Z",
     "iopub.status.idle": "2023-04-07T05:46:38.690778Z",
     "shell.execute_reply": "2023-04-07T05:46:38.690029Z",
     "shell.execute_reply.started": "2023-04-07T05:46:38.686031Z"
    },
    "tags": []
   },
   "outputs": [],
   "source": [
    "if ls_se:\n",
    "    ls_sample = [i.split(\"/\")[-1].split(\"_SE.fastq\")[0] for i in ls_se]\n",
    "    end_type = \"SE\"\n",
    "\n",
    "if ls_pe:\n",
    "    ls_sample = [i.split(\"/\")[-1].split(\"_R1.fastq\")[0] for i in ls_pe]\n",
    "    end_type = \"PE\""
   ]
  },
  {
   "cell_type": "code",
   "execution_count": 8,
   "metadata": {
    "execution": {
     "iopub.execute_input": "2023-04-07T05:46:39.668366Z",
     "iopub.status.busy": "2023-04-07T05:46:39.667961Z",
     "iopub.status.idle": "2023-04-07T05:46:39.672650Z",
     "shell.execute_reply": "2023-04-07T05:46:39.671922Z",
     "shell.execute_reply.started": "2023-04-07T05:46:39.668337Z"
    },
    "tags": []
   },
   "outputs": [
    {
     "name": "stdout",
     "output_type": "stream",
     "text": [
      "[   'DetectSeq_ATP8-DddA11_REP-1',\n",
      "    'DetectSeq_ATP8-DddA6_REP-1',\n",
      "    'DetectSeq_ATP8-DddAwt_REP-1',\n",
      "    'DetectSeq_JAK2-DddA11_REP-1',\n",
      "    'DetectSeq_JAK2-DddA11_REP-2',\n",
      "    'DetectSeq_SIRT6-DddA11_REP-1',\n",
      "    'DetectSeq_SIRT6-DddA11_REP-2',\n",
      "    'test']\n"
     ]
    }
   ],
   "source": [
    "pp.pprint(ls_sample)"
   ]
  },
  {
   "cell_type": "code",
   "execution_count": 9,
   "metadata": {
    "execution": {
     "iopub.execute_input": "2023-04-07T05:46:42.028269Z",
     "iopub.status.busy": "2023-04-07T05:46:42.027861Z",
     "iopub.status.idle": "2023-04-07T05:46:42.031918Z",
     "shell.execute_reply": "2023-04-07T05:46:42.031061Z",
     "shell.execute_reply.started": "2023-04-07T05:46:42.028242Z"
    },
    "tags": []
   },
   "outputs": [],
   "source": [
    "ls_sample = [\n",
    "    \"DetectSeq_ATP8-DddA11_REP-1\",\n",
    "    \"DetectSeq_ATP8-DddA6_REP-1\",\n",
    "    \"DetectSeq_ATP8-DddAwt_REP-1\",\n",
    "    \"DetectSeq_JAK2-DddA11_REP-1\",\n",
    "    \"DetectSeq_SIRT6-DddA11_REP-1\",\n",
    "    \"test\",\n",
    "]"
   ]
  },
  {
   "cell_type": "code",
   "execution_count": 11,
   "metadata": {
    "execution": {
     "iopub.execute_input": "2023-04-07T05:46:56.038425Z",
     "iopub.status.busy": "2023-04-07T05:46:56.037833Z",
     "iopub.status.idle": "2023-04-07T05:46:56.042719Z",
     "shell.execute_reply": "2023-04-07T05:46:56.041805Z",
     "shell.execute_reply.started": "2023-04-07T05:46:56.038383Z"
    },
    "tags": []
   },
   "outputs": [],
   "source": [
    "platform = \"MGI\"  # Illumina / MGI ..."
   ]
  },
  {
   "cell_type": "code",
   "execution_count": 12,
   "metadata": {
    "execution": {
     "iopub.execute_input": "2023-04-07T05:46:57.351181Z",
     "iopub.status.busy": "2023-04-07T05:46:57.350597Z",
     "iopub.status.idle": "2023-04-07T05:46:57.356605Z",
     "shell.execute_reply": "2023-04-07T05:46:57.355728Z",
     "shell.execute_reply.started": "2023-04-07T05:46:57.351138Z"
    },
    "tags": []
   },
   "outputs": [],
   "source": [
    "dt = {\n",
    "    \"seq_mode\": end_type,\n",
    "    \"samples\": ls_sample,\n",
    "    \"thread\": thread,\n",
    "    \"genome_hisat3n_index\": genome_hisat3n_index,\n",
    "    \"platform\": platform,\n",
    "    \"base_change\": base_change,\n",
    "    \"snp_list\": snp_list,\n",
    "    \"control\": control,\n",
    "    \"query_mutation_type\": query_mutation_type,\n",
    "}"
   ]
  },
  {
   "cell_type": "code",
   "execution_count": 13,
   "metadata": {
    "collapsed": false,
    "execution": {
     "iopub.execute_input": "2023-04-07T05:46:58.862118Z",
     "iopub.status.busy": "2023-04-07T05:46:58.861535Z",
     "iopub.status.idle": "2023-04-07T05:46:58.867638Z",
     "shell.execute_reply": "2023-04-07T05:46:58.866744Z",
     "shell.execute_reply.started": "2023-04-07T05:46:58.862076Z"
    },
    "jupyter": {
     "outputs_hidden": false
    },
    "tags": []
   },
   "outputs": [
    {
     "name": "stdout",
     "output_type": "stream",
     "text": [
      "{   'base_change': 'C,T',\n",
      "    'control': {   'bam': '/lustre1/chengqiyi_pkuhpc/zhaohn/3.project/2022_DdCBE-3D-Genome_topic/2022-09-30_Detect-seq_batch-1/bam/Vector-merge_hg38_merge_sort_rmdup.MAPQ20.bam',\n",
      "                   'name': 'Vector-merge_hg38'},\n",
      "    'genome_hisat3n_index': '/lustre1/chengqiyi_pkuhpc/zhaohn/1.database/db_genomes/genome_fa/genome_ucsc_hg38/genome_ucsc_hg38.fa.hisat3n-foryilab_bcCT_standard_mode.snp_hap_exon_ss',\n",
      "    'platform': 'MGI',\n",
      "    'query_mutation_type': 'CT,GA',\n",
      "    'samples': [   'DetectSeq_ATP8-DddA11_REP-1',\n",
      "                   'DetectSeq_ATP8-DddA6_REP-1',\n",
      "                   'DetectSeq_ATP8-DddAwt_REP-1',\n",
      "                   'DetectSeq_JAK2-DddA11_REP-1',\n",
      "                   'DetectSeq_SIRT6-DddA11_REP-1',\n",
      "                   'test'],\n",
      "    'seq_mode': 'PE',\n",
      "    'snp_list': '/lustre1/chengqiyi_pkuhpc/zhaohn/1.database/db_genomes/cell_line_mutations/293T/293T_BE_INPUT_VCF/293T-EMX1-Mock-Input.site_index.rmdup.bed,/lustre1/chengqiyi_pkuhpc/zhaohn/1.database/db_genomes/cell_line_mutations/293T/293T_BE_INPUT_VCF/293T-Mock-Input-covaris_bwa_hg38_sort_rmdup.recall.merge.Genotype.filter.rmdup_signal.vcf',\n",
      "    'thread': 20}\n"
     ]
    }
   ],
   "source": [
    "pp.pprint(dt)"
   ]
  },
  {
   "cell_type": "code",
   "execution_count": 14,
   "metadata": {
    "execution": {
     "iopub.execute_input": "2023-04-07T05:47:02.997796Z",
     "iopub.status.busy": "2023-04-07T05:47:02.997204Z",
     "iopub.status.idle": "2023-04-07T05:47:03.017268Z",
     "shell.execute_reply": "2023-04-07T05:47:03.016356Z",
     "shell.execute_reply.started": "2023-04-07T05:47:02.997753Z"
    },
    "tags": []
   },
   "outputs": [],
   "source": [
    "with open(\"./samples.json\", \"wt\") as f:\n",
    "    f.write(json.dumps(dt))"
   ]
  }
 ],
 "metadata": {
  "kernelspec": {
   "display_name": "Python 3 (ipykernel)",
   "language": "python",
   "name": "python3"
  },
  "language_info": {
   "codemirror_mode": {
    "name": "ipython",
    "version": 3
   },
   "file_extension": ".py",
   "mimetype": "text/x-python",
   "name": "python",
   "nbconvert_exporter": "python",
   "pygments_lexer": "ipython3",
   "version": "3.10.8"
  },
  "widgets": {
   "application/vnd.jupyter.widget-state+json": {
    "state": {},
    "version_major": 2,
    "version_minor": 0
   }
  }
 },
 "nbformat": 4,
 "nbformat_minor": 4
}
