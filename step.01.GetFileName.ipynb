{
 "cells": [
  {
   "cell_type": "markdown",
   "metadata": {
    "tags": []
   },
   "source": [
    "# 标准质控流程"
   ]
  },
  {
   "cell_type": "code",
   "execution_count": 2,
   "metadata": {
    "execution": {
     "iopub.execute_input": "2023-04-19T07:26:25.553790Z",
     "iopub.status.busy": "2023-04-19T07:26:25.553079Z",
     "iopub.status.idle": "2023-04-19T07:26:25.561890Z",
     "shell.execute_reply": "2023-04-19T07:26:25.559941Z",
     "shell.execute_reply.started": "2023-04-19T07:26:25.553725Z"
    },
    "tags": []
   },
   "outputs": [],
   "source": [
    "import glob\n",
    "import json\n",
    "import platform\n",
    "import pprint"
   ]
  },
  {
   "cell_type": "code",
   "execution_count": 3,
   "metadata": {
    "collapsed": false,
    "execution": {
     "iopub.execute_input": "2023-04-19T07:26:25.985115Z",
     "iopub.status.busy": "2023-04-19T07:26:25.984476Z",
     "iopub.status.idle": "2023-04-19T07:26:25.992553Z",
     "shell.execute_reply": "2023-04-19T07:26:25.990639Z",
     "shell.execute_reply.started": "2023-04-19T07:26:25.985053Z"
    },
    "jupyter": {
     "outputs_hidden": false
    },
    "tags": []
   },
   "outputs": [],
   "source": [
    "pp = pprint.PrettyPrinter(indent=4)\n",
    "# pp?"
   ]
  },
  {
   "cell_type": "code",
   "execution_count": 4,
   "metadata": {
    "execution": {
     "iopub.execute_input": "2023-04-19T07:26:26.309919Z",
     "iopub.status.busy": "2023-04-19T07:26:26.309176Z",
     "iopub.status.idle": "2023-04-19T07:26:26.319151Z",
     "shell.execute_reply": "2023-04-19T07:26:26.317509Z",
     "shell.execute_reply.started": "2023-04-19T07:26:26.309861Z"
    },
    "tags": []
   },
   "outputs": [],
   "source": [
    "if platform.system() == 'Linux':\n",
    "    root_path = '/lustre1/chengqiyi_pkuhpc/zhaohn'\n",
    "    thread = 20\n",
    "    control = {\n",
    "        \"bam\":\n",
    "            f\"{root_path}/3.project/2022_DdCBE-3D-Genome_topic/2022-09-30_Detect-seq_batch-1_ATP8_JAK2_SIRT6/bam/Vector-merge_hg38_merge_sort_rmdup.MAPQ20.bam\",\n",
    "        \"name\":\n",
    "            \"Vector-merge_hg38\"\n",
    "    }\n",
    "elif platform.system() == 'Darwin':\n",
    "    root_path = '/Volumes/Data-a/Bio'\n",
    "    thread = 8\n",
    "    control = {\n",
    "        \"bam\":\n",
    "            f\"/Users/zhaohuanan/PycharmProjects/snakepipes_detect-seq/bam/test_ctrl.bam\",\n",
    "        \"name\":\n",
    "            \"test_ctrl\"\n",
    "    }"
   ]
  },
  {
   "cell_type": "code",
   "execution_count": 5,
   "metadata": {
    "collapsed": false,
    "execution": {
     "iopub.execute_input": "2023-04-19T07:26:26.624851Z",
     "iopub.status.busy": "2023-04-19T07:26:26.624216Z",
     "iopub.status.idle": "2023-04-19T07:26:26.634744Z",
     "shell.execute_reply": "2023-04-19T07:26:26.632905Z",
     "shell.execute_reply.started": "2023-04-19T07:26:26.624794Z"
    },
    "jupyter": {
     "outputs_hidden": false
    },
    "tags": []
   },
   "outputs": [
    {
     "name": "stdout",
     "output_type": "stream",
     "text": [
      "'Linux'\n",
      "20\n",
      "{   'bam': '/lustre1/chengqiyi_pkuhpc/zhaohn/3.project/2022_DdCBE-3D-Genome_topic/2022-09-30_Detect-seq_batch-1_ATP8_JAK2_SIRT6/bam/Vector-merge_hg38_merge_sort_rmdup.MAPQ20.bam',\n",
      "    'name': 'Vector-merge_hg38'}\n"
     ]
    }
   ],
   "source": [
    "pp.pprint(platform.system())\n",
    "pp.pprint(thread)\n",
    "pp.pprint(control)"
   ]
  },
  {
   "cell_type": "markdown",
   "metadata": {},
   "source": [
    "## 参数设置"
   ]
  },
  {
   "cell_type": "markdown",
   "metadata": {},
   "source": [
    "## Detect-seq\n",
    "```\n",
    "hisat-3n-build \\\n",
    "-p 24 \\\n",
    "genome_ucsc_hg38.fa \\\n",
    "genome_ucsc_hg38.fa.hisat3n-foryilab_bcCT_standard_mode.snp_hap_exon_ss \\\n",
    "--exon genome_ucsc_hg38.fa.hisat2.exon \\\n",
    "--haplotype genome_ucsc_hg38.fa.hisat2.snp151Common.haplotype \\\n",
    "--snp genome_ucsc_hg38.fa.hisat2.snp151Common.snp \\\n",
    "--ss genome_ucsc_hg38.fa.hisat2.ss \\\n",
    "--base-change C,T\n",
    "```\n",
    "\n",
    "## Direct-seq\n",
    "```\n",
    "hisat-3n-build \\\n",
    "-p 24 \\\n",
    "genome_ucsc_hg38.fa \\\n",
    "genome_ucsc_hg38.fa.hisat3n-foryilab_bcAG_standard_mode.snp_hap_exon_ss \\\n",
    "--exon genome_ucsc_hg38.fa.hisat2.exon \\\n",
    "--haplotype genome_ucsc_hg38.fa.hisat2.snp151Common.haplotype \\\n",
    "--snp genome_ucsc_hg38.fa.hisat2.snp151Common.snp \\\n",
    "--ss genome_ucsc_hg38.fa.hisat2.ss \\\n",
    "--base-change A,G\n",
    "```\n",
    "## 【TODO】注意到 CT 和 AG 的 index md5 值一致，可能可以指定 CT 就可以使用 AG？未尝试"
   ]
  },
  {
   "cell_type": "code",
   "execution_count": 6,
   "metadata": {
    "execution": {
     "iopub.execute_input": "2023-04-19T07:26:28.200859Z",
     "iopub.status.busy": "2023-04-19T07:26:28.200163Z",
     "iopub.status.idle": "2023-04-19T07:26:28.210930Z",
     "shell.execute_reply": "2023-04-19T07:26:28.209109Z",
     "shell.execute_reply.started": "2023-04-19T07:26:28.200795Z"
    },
    "tags": []
   },
   "outputs": [],
   "source": [
    "# Detect-seq\n",
    "genome_hisat3n_index = f\"{root_path}/1.database/db_genomes/genome_fa/genome_ucsc_hg38/genome_ucsc_hg38.fa.hisat3n-foryilab_bcCT_standard_mode.snp_hap_exon_ss\"\n",
    "base_change = \"C,T\"\n",
    "query_mutation_type = \"CT,GA\"\n",
    "\n",
    "\n",
    "# Direct-seq\n",
    "# genome_hisat3n_index = f\"{root_path}/1.database/db_genomes/genome_fa/genome_ucsc_hg38/genome_ucsc_hg38.fa.hisat3n-foryilab_bcAG_standard_mode.snp_hap_exon_ss\"\n",
    "# base_change = 'A,G'\n",
    "# query_mutation_type = \"AG,TC\"\n",
    "\n",
    "\n",
    "snp_list = \",\".join([\n",
    "    f\"{root_path}/1.database/db_genomes/cell_line_mutations/293T/293T_BE_INPUT_VCF/293T_DddA11_FalsePositive_off-target-list.bed\",\n",
    "    f\"{root_path}/1.database/db_genomes/cell_line_mutations/293T/293T_BE_INPUT_VCF/293T-EMX1-Mock-Input.site_index.rmdup.bed\",\n",
    "    f\"{root_path}/1.database/db_genomes/cell_line_mutations/293T/293T_BE_INPUT_VCF/293T-Mock-Input-covaris_bwa_hg38_sort_rmdup.recall.merge.Genotype.filter.rmdup_signal.vcf\",\n",
    "])"
   ]
  },
  {
   "cell_type": "markdown",
   "metadata": {},
   "source": [
    "## 生成samples.json"
   ]
  },
  {
   "cell_type": "code",
   "execution_count": 7,
   "metadata": {
    "execution": {
     "iopub.execute_input": "2023-04-19T07:26:29.998868Z",
     "iopub.status.busy": "2023-04-19T07:26:29.998176Z",
     "iopub.status.idle": "2023-04-19T07:26:30.009564Z",
     "shell.execute_reply": "2023-04-19T07:26:30.008170Z",
     "shell.execute_reply.started": "2023-04-19T07:26:29.998804Z"
    },
    "tags": []
   },
   "outputs": [],
   "source": [
    "ls = sorted(glob.glob(\"../fastq/*.fastq.gz\"))\n",
    "assert ls != []  # 需要非空\n",
    "ls_se = [i for i in ls if i.endswith(\"SE.fastq.gz\")]\n",
    "ls_pe = [i for i in ls if i.endswith(\"R1.fastq.gz\")]"
   ]
  },
  {
   "cell_type": "code",
   "execution_count": 8,
   "metadata": {
    "execution": {
     "iopub.execute_input": "2023-04-19T07:26:30.459568Z",
     "iopub.status.busy": "2023-04-19T07:26:30.458880Z",
     "iopub.status.idle": "2023-04-19T07:26:30.469681Z",
     "shell.execute_reply": "2023-04-19T07:26:30.467919Z",
     "shell.execute_reply.started": "2023-04-19T07:26:30.459491Z"
    },
    "tags": []
   },
   "outputs": [],
   "source": [
    "if ls_se:\n",
    "    ls_sample = [i.split(\"/\")[-1].split(\"_SE.fastq\")[0] for i in ls_se]\n",
    "    end_type = \"SE\"\n",
    "\n",
    "if ls_pe:\n",
    "    ls_sample = [i.split(\"/\")[-1].split(\"_R1.fastq\")[0] for i in ls_pe]\n",
    "    end_type = \"PE\""
   ]
  },
  {
   "cell_type": "code",
   "execution_count": 9,
   "metadata": {
    "execution": {
     "iopub.execute_input": "2023-04-19T07:26:30.888530Z",
     "iopub.status.busy": "2023-04-19T07:26:30.887991Z",
     "iopub.status.idle": "2023-04-19T07:26:30.896410Z",
     "shell.execute_reply": "2023-04-19T07:26:30.894873Z",
     "shell.execute_reply.started": "2023-04-19T07:26:30.888474Z"
    },
    "tags": []
   },
   "outputs": [
    {
     "name": "stdout",
     "output_type": "stream",
     "text": [
      "[   'DetectSeq_ATP8-DddA11_REP-1',\n",
      "    'DetectSeq_ATP8-DddA6_REP-1',\n",
      "    'DetectSeq_ATP8-DddAwt_REP-1',\n",
      "    'DetectSeq_JAK2-DddA11_REP-1',\n",
      "    'DetectSeq_JAK2-DddA11_REP-2',\n",
      "    'DetectSeq_SIRT6-DddA11_REP-1',\n",
      "    'DetectSeq_SIRT6-DddA11_REP-2',\n",
      "    'test']\n"
     ]
    }
   ],
   "source": [
    "pp.pprint(ls_sample)"
   ]
  },
  {
   "cell_type": "code",
   "execution_count": 10,
   "metadata": {
    "execution": {
     "iopub.execute_input": "2023-04-19T07:26:32.768627Z",
     "iopub.status.busy": "2023-04-19T07:26:32.767936Z",
     "iopub.status.idle": "2023-04-19T07:26:32.776930Z",
     "shell.execute_reply": "2023-04-19T07:26:32.775066Z",
     "shell.execute_reply.started": "2023-04-19T07:26:32.768546Z"
    },
    "tags": []
   },
   "outputs": [],
   "source": [
    "ls_sample = [\n",
    "    'DetectSeq_ATP8-DddA11_REP-1',\n",
    "    'DetectSeq_ATP8-DddA6_REP-1',\n",
    "    'DetectSeq_ATP8-DddAwt_REP-1',\n",
    "    'DetectSeq_JAK2-DddA11_REP-1',\n",
    "    'DetectSeq_JAK2-DddA11_REP-2',\n",
    "    'DetectSeq_SIRT6-DddA11_REP-1',\n",
    "    'DetectSeq_SIRT6-DddA11_REP-2',\n",
    "    # 'test'\n",
    "]"
   ]
  },
  {
   "cell_type": "code",
   "execution_count": 11,
   "metadata": {
    "execution": {
     "iopub.execute_input": "2023-04-19T07:26:35.851663Z",
     "iopub.status.busy": "2023-04-19T07:26:35.850938Z",
     "iopub.status.idle": "2023-04-19T07:26:35.858682Z",
     "shell.execute_reply": "2023-04-19T07:26:35.857000Z",
     "shell.execute_reply.started": "2023-04-19T07:26:35.851572Z"
    },
    "tags": []
   },
   "outputs": [],
   "source": [
    "platform = \"MGI\"  # Illumina / MGI ..."
   ]
  },
  {
   "cell_type": "code",
   "execution_count": 12,
   "metadata": {
    "execution": {
     "iopub.execute_input": "2023-04-19T07:26:36.269534Z",
     "iopub.status.busy": "2023-04-19T07:26:36.268760Z",
     "iopub.status.idle": "2023-04-19T07:26:36.277901Z",
     "shell.execute_reply": "2023-04-19T07:26:36.276185Z",
     "shell.execute_reply.started": "2023-04-19T07:26:36.269473Z"
    },
    "tags": []
   },
   "outputs": [],
   "source": [
    "dt = {\n",
    "    \"seq_mode\": end_type,\n",
    "    \"samples\": ls_sample,\n",
    "    \"thread\": thread,\n",
    "    \"genome_hisat3n_index\": genome_hisat3n_index,\n",
    "    \"platform\": platform,\n",
    "    \"base_change\": base_change,\n",
    "    \"snp_list\": snp_list,\n",
    "    \"control\": control,\n",
    "    \"query_mutation_type\": query_mutation_type,\n",
    "}"
   ]
  },
  {
   "cell_type": "code",
   "execution_count": 13,
   "metadata": {
    "collapsed": false,
    "execution": {
     "iopub.execute_input": "2023-04-19T07:26:36.921660Z",
     "iopub.status.busy": "2023-04-19T07:26:36.920962Z",
     "iopub.status.idle": "2023-04-19T07:26:36.931623Z",
     "shell.execute_reply": "2023-04-19T07:26:36.929731Z",
     "shell.execute_reply.started": "2023-04-19T07:26:36.921594Z"
    },
    "jupyter": {
     "outputs_hidden": false
    },
    "tags": []
   },
   "outputs": [
    {
     "name": "stdout",
     "output_type": "stream",
     "text": [
      "{   'base_change': 'C,T',\n",
      "    'control': {   'bam': '/lustre1/chengqiyi_pkuhpc/zhaohn/3.project/2022_DdCBE-3D-Genome_topic/2022-09-30_Detect-seq_batch-1_ATP8_JAK2_SIRT6/bam/Vector-merge_hg38_merge_sort_rmdup.MAPQ20.bam',\n",
      "                   'name': 'Vector-merge_hg38'},\n",
      "    'genome_hisat3n_index': '/lustre1/chengqiyi_pkuhpc/zhaohn/1.database/db_genomes/genome_fa/genome_ucsc_hg38/genome_ucsc_hg38.fa.hisat3n-foryilab_bcCT_standard_mode.snp_hap_exon_ss',\n",
      "    'platform': 'MGI',\n",
      "    'query_mutation_type': 'CT,GA',\n",
      "    'samples': [   'DetectSeq_ATP8-DddA11_REP-1',\n",
      "                   'DetectSeq_ATP8-DddA6_REP-1',\n",
      "                   'DetectSeq_ATP8-DddAwt_REP-1',\n",
      "                   'DetectSeq_JAK2-DddA11_REP-1',\n",
      "                   'DetectSeq_JAK2-DddA11_REP-2',\n",
      "                   'DetectSeq_SIRT6-DddA11_REP-1',\n",
      "                   'DetectSeq_SIRT6-DddA11_REP-2'],\n",
      "    'seq_mode': 'PE',\n",
      "    'snp_list': '/lustre1/chengqiyi_pkuhpc/zhaohn/1.database/db_genomes/cell_line_mutations/293T/293T_BE_INPUT_VCF/293T_DddA11_FalsePositive_off-target-list.bed,/lustre1/chengqiyi_pkuhpc/zhaohn/1.database/db_genomes/cell_line_mutations/293T/293T_BE_INPUT_VCF/293T-EMX1-Mock-Input.site_index.rmdup.bed,/lustre1/chengqiyi_pkuhpc/zhaohn/1.database/db_genomes/cell_line_mutations/293T/293T_BE_INPUT_VCF/293T-Mock-Input-covaris_bwa_hg38_sort_rmdup.recall.merge.Genotype.filter.rmdup_signal.vcf',\n",
      "    'thread': 20}\n"
     ]
    }
   ],
   "source": [
    "pp.pprint(dt)"
   ]
  },
  {
   "cell_type": "code",
   "execution_count": 14,
   "metadata": {
    "execution": {
     "iopub.execute_input": "2023-04-19T07:26:37.410463Z",
     "iopub.status.busy": "2023-04-19T07:26:37.409872Z",
     "iopub.status.idle": "2023-04-19T07:26:37.438007Z",
     "shell.execute_reply": "2023-04-19T07:26:37.436305Z",
     "shell.execute_reply.started": "2023-04-19T07:26:37.410400Z"
    },
    "tags": []
   },
   "outputs": [],
   "source": [
    "with open(\"./samples.json\", \"wt\") as f:\n",
    "    f.write(json.dumps(dt))"
   ]
  },
  {
   "cell_type": "code",
   "execution_count": null,
   "metadata": {},
   "outputs": [],
   "source": []
  }
 ],
 "metadata": {
  "kernelspec": {
   "display_name": "Python 3 (ipykernel)",
   "language": "python",
   "name": "python3"
  },
  "language_info": {
   "codemirror_mode": {
    "name": "ipython",
    "version": 3
   },
   "file_extension": ".py",
   "mimetype": "text/x-python",
   "name": "python",
   "nbconvert_exporter": "python",
   "pygments_lexer": "ipython3",
   "version": "3.10.8"
  },
  "widgets": {
   "application/vnd.jupyter.widget-state+json": {
    "state": {},
    "version_major": 2,
    "version_minor": 0
   }
  }
 },
 "nbformat": 4,
 "nbformat_minor": 4
}
