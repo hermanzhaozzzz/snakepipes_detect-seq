{
 "cells": [
  {
   "cell_type": "markdown",
   "id": "608594b6-8d15-48fb-b016-754f390852f9",
   "metadata": {},
   "source": [
    "# Package"
   ]
  },
  {
   "cell_type": "code",
   "execution_count": 2,
   "id": "dd663230-2b51-49fe-a299-f16bff1f4206",
   "metadata": {
    "execution": {
     "iopub.execute_input": "2023-08-25T09:25:23.415476Z",
     "iopub.status.busy": "2023-08-25T09:25:23.414910Z",
     "iopub.status.idle": "2023-08-25T09:25:23.424023Z",
     "shell.execute_reply": "2023-08-25T09:25:23.422841Z",
     "shell.execute_reply.started": "2023-08-25T09:25:23.415440Z"
    }
   },
   "outputs": [
    {
     "name": "stderr",
     "output_type": "stream",
     "text": [
      "INFO  @ 2023-08-25 17:25:23 bioat.lib.libpandas.set_option: set pandas: max_colwidth=40\n",
      "INFO  @ 2023-08-25 17:25:23 bioat.lib.libpandas.set_option: set pandas: display.width=120\n",
      "INFO  @ 2023-08-25 17:25:23 bioat.lib.libpandas.set_option: set pandas: display.max_columns=None\n",
      "INFO  @ 2023-08-25 17:25:23 bioat.lib.libpandas.set_option: set pandas: display.max_rows=50\n"
     ]
    }
   ],
   "source": [
    "import pandas as pd\n",
    "import numpy as np\n",
    "from bioat.lib.libpandas import set_option\n",
    "from bioat.lib.libpath import HOME\n",
    "set_option()"
   ]
  },
  {
   "cell_type": "code",
   "execution_count": null,
   "id": "f4484ce4-8997-422b-8048-084ce4bdb2c1",
   "metadata": {},
   "outputs": [],
   "source": []
  }
 ],
 "metadata": {
  "kernelspec": {
   "display_name": "snakepipes_detect-seq",
   "language": "python",
   "name": "snakepipes_detect-seq"
  },
  "language_info": {
   "codemirror_mode": {
    "name": "ipython",
    "version": 3
   },
   "file_extension": ".py",
   "mimetype": "text/x-python",
   "name": "python",
   "nbconvert_exporter": "python",
   "pygments_lexer": "ipython3",
   "version": "3.10.12"
  }
 },
 "nbformat": 4,
 "nbformat_minor": 5
}
