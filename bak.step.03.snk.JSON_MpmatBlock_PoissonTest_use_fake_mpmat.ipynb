{
 "cells": [
  {
   "cell_type": "code",
   "execution_count": 1,
   "metadata": {},
   "outputs": [],
   "source": [
    "import os\n",
    "import pandas as pd\n",
    "import seaborn as sns"
   ]
  },
  {
   "cell_type": "code",
   "execution_count": 2,
   "metadata": {},
   "outputs": [
    {
     "data": {
      "text/plain": [
       "['../table_faker/detect_seq.StatsTest.table_CTRL-Vector-VEGFA-PD_TREAT-33A-EMX1-PD_rep1_C6M3R1_SMR0.1RT2.tsv',\n",
       " '../table_faker/detect_seq.StatsTest.table_CTRL-Vector-VEGFA-PD_TREAT-33A-EMX1-PD_rep2_C6M3R1_SMR0.1RT2.tsv',\n",
       " '../table_faker/detect_seq.StatsTest.table_CTRL-Vector-VEGFA-PD_TREAT-33A-VEGFA-PD_rep1_C6M3R1_SMR0.1RT2.tsv',\n",
       " '../table_faker/detect_seq.StatsTest.table_CTRL-Vector-VEGFA-PD_TREAT-33A-VEGFA-PD_rep2_C6M3R1_SMR0.1RT2.tsv',\n",
       " '../table_faker/detect_seq.StatsTest.table_CTRL-Vector-VEGFA-PD_TREAT-All-EMX1-PD_rep1_C6M3R1_SMR0.1RT2.tsv',\n",
       " '../table_faker/detect_seq.StatsTest.table_CTRL-Vector-VEGFA-PD_TREAT-All-EMX1-PD_rep2_C6M3R1_SMR0.1RT2.tsv',\n",
       " '../table_faker/detect_seq.StatsTest.table_CTRL-Vector-VEGFA-PD_TREAT-All-VEGFA-PD_rep1_C6M3R1_SMR0.1RT2.tsv',\n",
       " '../table_faker/detect_seq.StatsTest.table_CTRL-Vector-VEGFA-PD_TREAT-All-VEGFA-PD_rep2_C6M3R1_SMR0.1RT2.tsv',\n",
       " '../table_faker/detect_seq.StatsTest.table_CTRL-Vector-VEGFA-PD_TREAT-M2-EMX1-PD_rep1_C6M3R1_SMR0.1RT2.tsv',\n",
       " '../table_faker/detect_seq.StatsTest.table_CTRL-Vector-VEGFA-PD_TREAT-M2-EMX1-PD_rep2_C6M3R1_SMR0.1RT2.tsv',\n",
       " '../table_faker/detect_seq.StatsTest.table_CTRL-Vector-VEGFA-PD_TREAT-M2-VEGFA-PD_rep1_C6M3R1_SMR0.1RT2.tsv',\n",
       " '../table_faker/detect_seq.StatsTest.table_CTRL-Vector-VEGFA-PD_TREAT-M2-VEGFA-PD_rep2_C6M3R1_SMR0.1RT2.tsv',\n",
       " '../table_faker/detect_seq.StatsTest.table_CTRL-Vector-VEGFA-PD_TREAT-YE1-EMX1-PD_rep1_C6M3R1_SMR0.1RT2.tsv',\n",
       " '../table_faker/detect_seq.StatsTest.table_CTRL-Vector-VEGFA-PD_TREAT-YE1-EMX1-PD_rep2_C6M3R1_SMR0.1RT2.tsv',\n",
       " '../table_faker/detect_seq.StatsTest.table_CTRL-Vector-VEGFA-PD_TREAT-YE1-VEGFA-PD_rep1_C6M3R1_SMR0.1RT2.tsv',\n",
       " '../table_faker/detect_seq.StatsTest.table_CTRL-Vector-VEGFA-PD_TREAT-YE1-VEGFA-PD_rep2_C6M3R1_SMR0.1RT2.tsv']"
      ]
     },
     "execution_count": 2,
     "metadata": {},
     "output_type": "execute_result"
    }
   ],
   "source": [
    "table_path = \"../table_faker/\"\n",
    "ls = [os.path.join(table_path,i) for i in os.listdir(table_path) if 'tsv' in i and 'log' not in i and '.plot.' not in i]\n",
    "ls.sort()\n",
    "ls"
   ]
  },
  {
   "cell_type": "code",
   "execution_count": 44,
   "metadata": {},
   "outputs": [
    {
     "data": {
      "text/plain": [
       "'../table_faker/detect_seq.StatsTest.table_CTRL-Vector-VEGFA-PD_TREAT-YE1-VEGFA-PD_rep1_C6M3R1_SMR0.1RT2.tsv'"
      ]
     },
     "execution_count": 44,
     "metadata": {},
     "output_type": "execute_result"
    }
   ],
   "source": [
    "idx = 14\n",
    "ls[idx]"
   ]
  },
  {
   "cell_type": "code",
   "execution_count": 45,
   "metadata": {},
   "outputs": [],
   "source": [
    "df1 = pd.read_csv(ls[idx], sep='\\t')\n",
    "df2 = pd.read_csv(ls[idx+1], sep='\\t')"
   ]
  },
  {
   "cell_type": "code",
   "execution_count": 46,
   "metadata": {},
   "outputs": [],
   "source": [
    "# df1.head()"
   ]
  },
  {
   "cell_type": "code",
   "execution_count": 47,
   "metadata": {},
   "outputs": [],
   "source": [
    "df = pd.merge(df1[['chr_name', 'region_start', 'region_end', 'treat_mut_count.norm']],df2[['chr_name', 'region_start', 'region_end', 'treat_mut_count.norm']], how='left', on=['chr_name','region_start','region_end'])\n",
    "df['type'] = df.region_start.map(lambda x: \"on-target\" if x==72933857 else \"on-target\" if x==43770821 else \"off-target\")\n",
    "# df"
   ]
  },
  {
   "cell_type": "code",
   "execution_count": 48,
   "metadata": {},
   "outputs": [],
   "source": [
    "df.to_csv(ls[idx].replace(\".tsv\",'.plot.tsv'),sep='\\t')"
   ]
  },
  {
   "cell_type": "code",
   "execution_count": null,
   "metadata": {},
   "outputs": [],
   "source": []
  },
  {
   "cell_type": "code",
   "execution_count": null,
   "metadata": {},
   "outputs": [],
   "source": []
  }
 ],
 "metadata": {
  "kernelspec": {
   "display_name": "Python 3",
   "language": "python",
   "name": "python3"
  },
  "language_info": {
   "codemirror_mode": {
    "name": "ipython",
    "version": 3
   },
   "file_extension": ".py",
   "mimetype": "text/x-python",
   "name": "python",
   "nbconvert_exporter": "python",
   "pygments_lexer": "ipython3",
   "version": "3.8.3"
  }
 },
 "nbformat": 4,
 "nbformat_minor": 4
}
