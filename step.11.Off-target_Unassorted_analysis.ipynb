{
 "cells": [
  {
   "cell_type": "code",
   "execution_count": null,
   "id": "fa7af569-97fd-4a2e-8257-08877b7f4a63",
   "metadata": {},
   "outputs": [],
   "source": []
  },
  {
   "cell_type": "markdown",
   "id": "4a643085-df99-4647-b08e-f5e70a9a1e1f",
   "metadata": {
    "collapsed": false,
    "jupyter": {
     "outputs_hidden": false
    }
   },
   "source": [
    "### unassorted off-target\n",
    "deeptools?"
   ]
  },
  {
   "cell_type": "markdown",
   "id": "a81057e8-b63e-4e8b-aa76-ce40b9b187d8",
   "metadata": {
    "collapsed": false,
    "jupyter": {
     "outputs_hidden": false
    }
   },
   "source": [
    "#### Final unassorted off-target"
   ]
  },
  {
   "cell_type": "code",
   "execution_count": null,
   "id": "049b7f98-69cb-4da5-9b4a-3a0f3a2242db",
   "metadata": {
    "collapsed": false,
    "jupyter": {
     "outputs_hidden": false
    }
   },
   "outputs": [],
   "source": [
    "df_arts_unassorted"
   ]
  },
  {
   "cell_type": "markdown",
   "id": "ce782123-e92f-4941-88e3-6b5cf02e8103",
   "metadata": {
    "collapsed": false,
    "jupyter": {
     "outputs_hidden": false
    }
   },
   "source": [
    "# STOP TODO"
   ]
  },
  {
   "cell_type": "markdown",
   "id": "047f9b24-082f-43bd-9e21-5212b8800063",
   "metadata": {
    "collapsed": false,
    "jupyter": {
     "outputs_hidden": false
    }
   },
   "source": [
    "homer findMotifsGenome using unassorted (TAS-independent) off-target bed information"
   ]
  },
  {
   "cell_type": "code",
   "execution_count": null,
   "id": "282ae64f-cc07-419b-8319-ed961131ebd0",
   "metadata": {
    "collapsed": false,
    "jupyter": {
     "outputs_hidden": false
    }
   },
   "outputs": [],
   "source": [
    "sort_keys = [\n",
    "    'DetectSeq_SIRT6-DddA11_REP-1', 'DetectSeq_SIRT6-DddA11_REP-2',  # SIRT6\n",
    "    'DetectSeq_JAK2-DddA11_REP-1', 'DetectSeq_JAK2-DddA11_REP-2',  # JAK2\n",
    "    'DetectSeq_ATP8-DddA11_REP-1', 'DetectSeq_ATP8-DddA6_REP-1', 'DetectSeq_ATP8-DddAwt_REP-1',  # ATP8\n",
    "]\n",
    "\n",
    "# print(df_arts_tale_dep.head(2))\n",
    "# print('-' * 100)\n",
    "# print(df_arts.head(2))\n",
    "df_arts"
   ]
  },
  {
   "cell_type": "markdown",
   "id": "50d36239-3f71-4af7-a791-8945dbbfd1cc",
   "metadata": {
    "collapsed": false,
    "jupyter": {
     "outputs_hidden": false
    }
   },
   "source": [
    "##### "
   ]
  },
  {
   "cell_type": "code",
   "execution_count": null,
   "id": "48e05266-b4d9-4042-9de9-95e5a38ebf18",
   "metadata": {
    "collapsed": false,
    "jupyter": {
     "outputs_hidden": false
    }
   },
   "outputs": [],
   "source": [
    "ls = []\n",
    "for sample in sort_keys:\n",
    "    tas_dep_index = sorted(df_arts_tale_dep.query('`<sample>`==@sample')['region_index'].unique().tolist())\n",
    "    tas_indep_index = sorted(df_arts.query('`<sample>`==@sample').query('region_index not in @tas_dep_index')[\n",
    "                                 'region_index'].unique().tolist())\n",
    "    ls.append([sample, len(tas_dep_index), len(tas_indep_index), len(tas_dep_index) + len(tas_indep_index)])\n",
    "    # |    | <sample>                     |   TAS-dep |   putative TAS-indep |   Total |\n",
    "    # |---:|:-----------------------------|----------:|---------------------:|--------:|\n",
    "    # |  0 | DetectSeq_SIRT6-DddA11_REP-1 |        68 |                 3331 |    3399 |\n",
    "    # |  1 | DetectSeq_SIRT6-DddA11_REP-2 |       230 |                 9163 |    9393 |\n",
    "    # |  2 | DetectSeq_JAK2-DddA11_REP-1  |        24 |                  797 |     821 |\n",
    "    # |  3 | DetectSeq_JAK2-DddA11_REP-2  |       184 |                  573 |     757 |\n",
    "    # |  4 | DetectSeq_ATP8-DddA11_REP-1  |       128 |                   87 |     215 |\n",
    "    # |  5 | DetectSeq_ATP8-DddA6_REP-1   |       512 |                  260 |     772 |\n",
    "    # |  6 | DetectSeq_ATP8-DddAwt_REP-1  |        18 |                   22 |      40 |\n",
    "\n",
    "    df_out = df_arts.query('`<sample>`==@sample').query('region_index not in @tas_dep_index')\n",
    "\n",
    "    df_out[['chrom', 'start', 'end']] = df_out['region_index'].str.split('_', expand=True)\n",
    "    df_out = df_out[['chrom', 'start', 'end', 'region_index', 'align_strand']].copy()\n",
    "    df_out.insert(4, 'score', '.')\n",
    "    df_out['start'] = df_out['start'].astype(int) - 30\n",
    "    df_out['end'] = df_out['end'].astype(int) + 30\n",
    "    df_out.to_csv(f'../art/from_art_putative_IND_{sample}.bed', header=False, index=False, sep='\\t')\n",
    "print(pd.DataFrame(ls, columns=['<sample>', 'TAS-dep', 'putative TAS-indep', 'Total']).to_markdown())"
   ]
  },
  {
   "cell_type": "markdown",
   "id": "74bbd689-8fdf-49dd-a850-00d1cc22680a",
   "metadata": {
    "collapsed": false,
    "jupyter": {
     "outputs_hidden": false
    }
   },
   "source": [
    "```bash\n",
    "findMotifsGenome.pl from_art_putative_IND_DetectSeq_ATP6.1-DddSs.bed $HOME/1.database/db_genomes/genome_fa/genome_ucsc_hg38/genome_ucsc_hg38.fa homer_putative_IND_DetectSeq_ATP6.1-DddSs -size 50 -mask\n",
    "...\n",
    "...\n",
    "...\n",
    "```"
   ]
  },
  {
   "cell_type": "markdown",
   "id": "ec63062f-951b-4cec-9c5b-85a7ac9265c8",
   "metadata": {
    "collapsed": false,
    "jupyter": {
     "outputs_hidden": false
    }
   },
   "source": [
    "## homer annotatePeaks for all off-target"
   ]
  },
  {
   "cell_type": "markdown",
   "id": "2606b9f4-c720-4019-85ec-cf0500a2e883",
   "metadata": {
    "collapsed": false,
    "jupyter": {
     "outputs_hidden": false
    }
   },
   "source": [
    "```bash\n",
    "cd final_list_after_igv_check\n",
    "\n",
    "annotatePeaks.pl 2023-04-20_DetectSeq_ATP8-DddA11_REP-1_final_list.mpmat hg38 -annStats ../annoResults/ATP8-DddA11_REP-1.homer_log &\n",
    "annotatePeaks.pl 2023-04-20_DetectSeq_ATP8-DddA6_REP-1_final_list.mpmat hg38 -annStats ../annoResults/ATP8-DddA6_REP-1.homer_log &\n",
    "annotatePeaks.pl 2023-04-20_DetectSeq_ATP8-DddAwt_REP-1_final_list.mpmat hg38 -annStats ../annoResults/ATP8-DddAwt_REP-1.homer_log &\n",
    "annotatePeaks.pl 2023-04-20_DetectSeq_JAK2-DddA11_REP-1_final_list.mpmat hg38 -annStats ../annoResults/JAK2-DddA11_REP-1.homer_log &\n",
    "annotatePeaks.pl 2023-04-20_DetectSeq_JAK2-DddA11_REP-2_final_list.mpmat hg38 -annStats ../annoResults/JAK2-DddA11_REP-2.homer_log &\n",
    "annotatePeaks.pl 2023-04-20_DetectSeq_SIRT6-DddA11_REP-1_final_list.mpmat hg38 -annStats ../annoResults/SIRT6-DddA11_REP-1.homer_log &\n",
    "annotatePeaks.pl 2023-04-20_DetectSeq_SIRT6-DddA11_REP-2_final_list.mpmat hg38 -annStats ../annoResults/SIRT6-DddA11_REP-2.homer_log &\n",
    "\n",
    "bioat table merge -input_fmt tsv -output_fmt csv --input_header True --output_header True ATP8-DddA11_REP-1.homer_log,ATP8-DddA6_REP-1.homer_log,ATP8-DddAwt_REP-1.homer_log,JAK2-DddA11_REP-1.homer_log,JAK2-DddA11_REP-2.homer_log,SIRT6-DddA11_REP-1.homer_log,SIRT6-DddA11_REP-2.homer_log ATP8-DddA11_REP-1.homer_log,ATP8-DddA6_REP-1.homer_log,ATP8-DddAwt_REP-1.homer_log,JAK2-DddA11_REP-1.homer_log,JAK2-DddA11_REP-2.homer_log,SIRT6-DddA11_REP-1.homer_log,SIRT6-DddA11_REP-2.homer_log homer.annoResults.merge.csv\n",
    "```"
   ]
  },
  {
   "cell_type": "code",
   "execution_count": null,
   "id": "590033b9-aae3-40db-b57a-81f16d0089ca",
   "metadata": {
    "collapsed": false,
    "jupyter": {
     "outputs_hidden": false
    }
   },
   "outputs": [],
   "source": [
    "import pandas as pd"
   ]
  },
  {
   "cell_type": "code",
   "execution_count": null,
   "id": "8c11d544-b15a-4f96-9d80-2edba585c1a6",
   "metadata": {
    "collapsed": false,
    "jupyter": {
     "outputs_hidden": false
    }
   },
   "outputs": [],
   "source": [
    "df = pd.read_csv('../annoResults/homer.annoResults.merge.csv')\n",
    "\n",
    "filt = ['Promoter', '5UTR', '3UTR', 'Exon', 'Intron', 'TTS', 'Intergenic']\n",
    "\n",
    "df = df[df['Total size (bp)'].str.isdecimal()].copy()\n",
    "df.drop_duplicates(subset=['<sample>', 'Annotation'], keep='first', inplace=True)\n",
    "df = df[df['Annotation'].map(lambda x: x in filt)].copy()\n",
    "df.iloc[:, 2:] = df.iloc[:, 2:].astype(float)\n",
    "df"
   ]
  },
  {
   "cell_type": "code",
   "execution_count": null,
   "id": "766152f6-c43a-428c-ab69-c9b4aa2bd742",
   "metadata": {
    "collapsed": false,
    "jupyter": {
     "outputs_hidden": false
    }
   },
   "outputs": [],
   "source": [
    "from lets_plot import *\n",
    "from lets_plot.mapping import as_discrete"
   ]
  },
  {
   "cell_type": "code",
   "execution_count": null,
   "id": "16fcff3d-9709-4db0-bbb7-83e500251a87",
   "metadata": {
    "collapsed": false,
    "jupyter": {
     "outputs_hidden": false
    }
   },
   "outputs": [],
   "source": [
    "LetsPlot.setup_html()"
   ]
  },
  {
   "cell_type": "code",
   "execution_count": null,
   "id": "36ca3e9a-6b14-46f9-b31b-209e7b85d5a9",
   "metadata": {
    "collapsed": false,
    "jupyter": {
     "outputs_hidden": false
    }
   },
   "outputs": [],
   "source": [
    "(\n",
    "        ggplot(data=df, mapping=aes(x=as_discrete(\"Annotation\", order=-1), y=\"Log2 Ratio (obs/exp)\", fill='<sample>'))\n",
    "        + geom_bar(stat='identity', position='dodge', width=0.7)\n",
    "        # + scale_x_discrete(labels=filt)\n",
    "        + ggsize(1000, 500)\n",
    "    # + facet_grid(y='<sample>', scales='free')\n",
    "    # + scale_y_continuous(limits=(-2, 10))\n",
    ")"
   ]
  },
  {
   "cell_type": "code",
   "execution_count": null,
   "id": "ecf4d1fa-e9db-4449-afa6-5d5a1046bd8e",
   "metadata": {
    "collapsed": false,
    "jupyter": {
     "outputs_hidden": false
    }
   },
   "outputs": [],
   "source": []
  },
  {
   "cell_type": "markdown",
   "id": "782137b8-05cd-4a2d-a2b2-719bb8c2291d",
   "metadata": {
    "collapsed": false,
    "jupyter": {
     "outputs_hidden": false
    }
   },
   "source": [
    "### unassorted off-target\n",
    "deeptools?"
   ]
  },
  {
   "cell_type": "markdown",
   "id": "ef0497ae-5bee-4d26-bcf3-ca0700e06baa",
   "metadata": {
    "collapsed": false,
    "jupyter": {
     "outputs_hidden": false
    }
   },
   "source": [
    "#### Final unassorted off-target"
   ]
  },
  {
   "cell_type": "code",
   "execution_count": null,
   "id": "1393bf6f-1a55-4f99-a88e-db47018bcc1e",
   "metadata": {
    "collapsed": false,
    "jupyter": {
     "outputs_hidden": false
    }
   },
   "outputs": [],
   "source": [
    "df_arts_unassorted"
   ]
  },
  {
   "cell_type": "markdown",
   "id": "4b0b4eaf-5141-4e31-9667-d5f7aede33c6",
   "metadata": {
    "collapsed": false,
    "jupyter": {
     "outputs_hidden": false
    }
   },
   "source": [
    "# STOP TODO"
   ]
  },
  {
   "cell_type": "markdown",
   "id": "11f4f4d5-c293-4322-9edf-4c63d93fd53c",
   "metadata": {
    "collapsed": false,
    "jupyter": {
     "outputs_hidden": false
    }
   },
   "source": [
    "homer findMotifsGenome using unassorted (TAS-independent) off-target bed information"
   ]
  },
  {
   "cell_type": "code",
   "execution_count": null,
   "id": "e3035211-d85d-4ac3-8fda-dfe6b40fbfdd",
   "metadata": {
    "collapsed": false,
    "jupyter": {
     "outputs_hidden": false
    }
   },
   "outputs": [],
   "source": [
    "sort_keys = [\n",
    "    'DetectSeq_SIRT6-DddA11_REP-1', 'DetectSeq_SIRT6-DddA11_REP-2',  # SIRT6\n",
    "    'DetectSeq_JAK2-DddA11_REP-1', 'DetectSeq_JAK2-DddA11_REP-2',  # JAK2\n",
    "    'DetectSeq_ATP8-DddA11_REP-1', 'DetectSeq_ATP8-DddA6_REP-1', 'DetectSeq_ATP8-DddAwt_REP-1',  # ATP8\n",
    "]\n",
    "\n",
    "# print(df_arts_tale_dep.head(2))\n",
    "# print('-' * 100)\n",
    "# print(df_arts.head(2))\n",
    "df_arts"
   ]
  },
  {
   "cell_type": "markdown",
   "id": "edfb8dc1-2591-4282-b4fd-82e32ac88895",
   "metadata": {
    "collapsed": false,
    "jupyter": {
     "outputs_hidden": false
    }
   },
   "source": [
    "##### "
   ]
  },
  {
   "cell_type": "code",
   "execution_count": null,
   "id": "d21bc037-aa61-43bb-b6d0-5e7055528ef1",
   "metadata": {
    "collapsed": false,
    "jupyter": {
     "outputs_hidden": false
    }
   },
   "outputs": [],
   "source": [
    "ls = []\n",
    "for sample in sort_keys:\n",
    "    tas_dep_index = sorted(df_arts_tale_dep.query('`<sample>`==@sample')['region_index'].unique().tolist())\n",
    "    tas_indep_index = sorted(df_arts.query('`<sample>`==@sample').query('region_index not in @tas_dep_index')[\n",
    "                                 'region_index'].unique().tolist())\n",
    "    ls.append([sample, len(tas_dep_index), len(tas_indep_index), len(tas_dep_index) + len(tas_indep_index)])\n",
    "    # |    | <sample>                     |   TAS-dep |   putative TAS-indep |   Total |\n",
    "    # |---:|:-----------------------------|----------:|---------------------:|--------:|\n",
    "    # |  0 | DetectSeq_SIRT6-DddA11_REP-1 |        68 |                 3331 |    3399 |\n",
    "    # |  1 | DetectSeq_SIRT6-DddA11_REP-2 |       230 |                 9163 |    9393 |\n",
    "    # |  2 | DetectSeq_JAK2-DddA11_REP-1  |        24 |                  797 |     821 |\n",
    "    # |  3 | DetectSeq_JAK2-DddA11_REP-2  |       184 |                  573 |     757 |\n",
    "    # |  4 | DetectSeq_ATP8-DddA11_REP-1  |       128 |                   87 |     215 |\n",
    "    # |  5 | DetectSeq_ATP8-DddA6_REP-1   |       512 |                  260 |     772 |\n",
    "    # |  6 | DetectSeq_ATP8-DddAwt_REP-1  |        18 |                   22 |      40 |\n",
    "\n",
    "    df_out = df_arts.query('`<sample>`==@sample').query('region_index not in @tas_dep_index')\n",
    "\n",
    "    df_out[['chrom', 'start', 'end']] = df_out['region_index'].str.split('_', expand=True)\n",
    "    df_out = df_out[['chrom', 'start', 'end', 'region_index', 'align_strand']].copy()\n",
    "    df_out.insert(4, 'score', '.')\n",
    "    df_out['start'] = df_out['start'].astype(int) - 30\n",
    "    df_out['end'] = df_out['end'].astype(int) + 30\n",
    "    df_out.to_csv(f'../art/from_art_putative_IND_{sample}.bed', header=False, index=False, sep='\\t')\n",
    "print(pd.DataFrame(ls, columns=['<sample>', 'TAS-dep', 'putative TAS-indep', 'Total']).to_markdown())"
   ]
  },
  {
   "cell_type": "markdown",
   "id": "f0e30767-c6f2-419c-bdb9-d98260c6efee",
   "metadata": {
    "collapsed": false,
    "jupyter": {
     "outputs_hidden": false
    }
   },
   "source": [
    "```bash\n",
    "findMotifsGenome.pl from_art_putative_IND_DetectSeq_ATP6.1-DddSs.bed $HOME/1.database/db_genomes/genome_fa/genome_ucsc_hg38/genome_ucsc_hg38.fa homer_putative_IND_DetectSeq_ATP6.1-DddSs -size 50 -mask\n",
    "...\n",
    "...\n",
    "...\n",
    "```"
   ]
  },
  {
   "cell_type": "markdown",
   "id": "e0716eef-cb75-4b68-b544-990b12813208",
   "metadata": {
    "collapsed": false,
    "jupyter": {
     "outputs_hidden": false
    }
   },
   "source": [
    "## homer annotatePeaks for all off-target"
   ]
  },
  {
   "cell_type": "markdown",
   "id": "c899cef2-ea58-476f-8a7e-ef52858573a8",
   "metadata": {
    "collapsed": false,
    "jupyter": {
     "outputs_hidden": false
    }
   },
   "source": [
    "```bash\n",
    "cd final_list_after_igv_check\n",
    "\n",
    "annotatePeaks.pl 2023-04-20_DetectSeq_ATP8-DddA11_REP-1_final_list.mpmat hg38 -annStats ../annoResults/ATP8-DddA11_REP-1.homer_log &\n",
    "annotatePeaks.pl 2023-04-20_DetectSeq_ATP8-DddA6_REP-1_final_list.mpmat hg38 -annStats ../annoResults/ATP8-DddA6_REP-1.homer_log &\n",
    "annotatePeaks.pl 2023-04-20_DetectSeq_ATP8-DddAwt_REP-1_final_list.mpmat hg38 -annStats ../annoResults/ATP8-DddAwt_REP-1.homer_log &\n",
    "annotatePeaks.pl 2023-04-20_DetectSeq_JAK2-DddA11_REP-1_final_list.mpmat hg38 -annStats ../annoResults/JAK2-DddA11_REP-1.homer_log &\n",
    "annotatePeaks.pl 2023-04-20_DetectSeq_JAK2-DddA11_REP-2_final_list.mpmat hg38 -annStats ../annoResults/JAK2-DddA11_REP-2.homer_log &\n",
    "annotatePeaks.pl 2023-04-20_DetectSeq_SIRT6-DddA11_REP-1_final_list.mpmat hg38 -annStats ../annoResults/SIRT6-DddA11_REP-1.homer_log &\n",
    "annotatePeaks.pl 2023-04-20_DetectSeq_SIRT6-DddA11_REP-2_final_list.mpmat hg38 -annStats ../annoResults/SIRT6-DddA11_REP-2.homer_log &\n",
    "\n",
    "bioat table merge -input_fmt tsv -output_fmt csv --input_header True --output_header True ATP8-DddA11_REP-1.homer_log,ATP8-DddA6_REP-1.homer_log,ATP8-DddAwt_REP-1.homer_log,JAK2-DddA11_REP-1.homer_log,JAK2-DddA11_REP-2.homer_log,SIRT6-DddA11_REP-1.homer_log,SIRT6-DddA11_REP-2.homer_log ATP8-DddA11_REP-1.homer_log,ATP8-DddA6_REP-1.homer_log,ATP8-DddAwt_REP-1.homer_log,JAK2-DddA11_REP-1.homer_log,JAK2-DddA11_REP-2.homer_log,SIRT6-DddA11_REP-1.homer_log,SIRT6-DddA11_REP-2.homer_log homer.annoResults.merge.csv\n",
    "```"
   ]
  },
  {
   "cell_type": "code",
   "execution_count": null,
   "id": "494f0dc2-e55a-422d-9a2e-afe39af50953",
   "metadata": {
    "collapsed": false,
    "jupyter": {
     "outputs_hidden": false
    }
   },
   "outputs": [],
   "source": [
    "import pandas as pd"
   ]
  },
  {
   "cell_type": "code",
   "execution_count": null,
   "id": "5344a483-c47e-42fb-80f3-0f91676ed873",
   "metadata": {
    "collapsed": false,
    "jupyter": {
     "outputs_hidden": false
    }
   },
   "outputs": [],
   "source": [
    "df = pd.read_csv('../annoResults/homer.annoResults.merge.csv')\n",
    "\n",
    "filt = ['Promoter', '5UTR', '3UTR', 'Exon', 'Intron', 'TTS', 'Intergenic']\n",
    "\n",
    "df = df[df['Total size (bp)'].str.isdecimal()].copy()\n",
    "df.drop_duplicates(subset=['<sample>', 'Annotation'], keep='first', inplace=True)\n",
    "df = df[df['Annotation'].map(lambda x: x in filt)].copy()\n",
    "df.iloc[:, 2:] = df.iloc[:, 2:].astype(float)\n",
    "df"
   ]
  },
  {
   "cell_type": "code",
   "execution_count": null,
   "id": "4f1956f4-e926-48a8-81b5-e5b6729c81d0",
   "metadata": {
    "collapsed": false,
    "jupyter": {
     "outputs_hidden": false
    }
   },
   "outputs": [],
   "source": [
    "from lets_plot import *\n",
    "from lets_plot.mapping import as_discrete"
   ]
  },
  {
   "cell_type": "code",
   "execution_count": null,
   "id": "a10e3ff4-e280-4d6c-8252-782ef0dfb4ab",
   "metadata": {
    "collapsed": false,
    "jupyter": {
     "outputs_hidden": false
    }
   },
   "outputs": [],
   "source": [
    "LetsPlot.setup_html()"
   ]
  },
  {
   "cell_type": "code",
   "execution_count": null,
   "id": "52bddc02-5ef2-46f1-9a32-119f583b1876",
   "metadata": {
    "collapsed": false,
    "jupyter": {
     "outputs_hidden": false
    }
   },
   "outputs": [],
   "source": [
    "(\n",
    "        ggplot(data=df, mapping=aes(x=as_discrete(\"Annotation\", order=-1), y=\"Log2 Ratio (obs/exp)\", fill='<sample>'))\n",
    "        + geom_bar(stat='identity', position='dodge', width=0.7)\n",
    "        # + scale_x_discrete(labels=filt)\n",
    "        + ggsize(1000, 500)\n",
    "    # + facet_grid(y='<sample>', scales='free')\n",
    "    # + scale_y_continuous(limits=(-2, 10))\n",
    ")"
   ]
  },
  {
   "cell_type": "code",
   "execution_count": null,
   "id": "52fcda7d-57d0-4974-8521-f52c0441df9e",
   "metadata": {
    "collapsed": false,
    "jupyter": {
     "outputs_hidden": false
    }
   },
   "outputs": [],
   "source": []
  }
 ],
 "metadata": {
  "kernelspec": {
   "display_name": "snakepipes_detect-seq",
   "language": "python",
   "name": "snakepipes_detect-seq"
  },
  "language_info": {
   "codemirror_mode": {
    "name": "ipython",
    "version": 3
   },
   "file_extension": ".py",
   "mimetype": "text/x-python",
   "name": "python",
   "nbconvert_exporter": "python",
   "pygments_lexer": "ipython3",
   "version": "3.10.12"
  }
 },
 "nbformat": 4,
 "nbformat_minor": 5
}
