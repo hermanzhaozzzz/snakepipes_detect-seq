{
 "cells": [
  {
   "cell_type": "markdown",
   "id": "a8d87909-472c-46de-8df9-986ba981be4e",
   "metadata": {},
   "source": [
    "# To-do list"
   ]
  },
  {
   "cell_type": "markdown",
   "id": "bbe949a6-f1ce-4730-b92a-b6bd1583fec2",
   "metadata": {
    "execution": {
     "iopub.execute_input": "2022-10-31T13:29:31.844149Z",
     "iopub.status.busy": "2022-10-31T13:29:31.843886Z",
     "iopub.status.idle": "2022-10-31T13:29:31.848102Z",
     "shell.execute_reply": "2022-10-31T13:29:31.847341Z",
     "shell.execute_reply.started": "2022-10-31T13:29:31.844128Z"
    }
   },
   "source": [
    "- [ ] 查看不同 sample 下的 share，no-share 的比例\n",
    "- [ ] check DddA_wt_6 only的信号为 0 的点是否真是0\n",
    "- [ ] 看 650 个 old share 中除了 约 400 个 call 到的点之外，剩下 250 个左右是否无信号，或者是有信号没过 cutoff\n",
    "- [ ] 直接进行align所有的点，根据 share 与否，align 信息进行分类确定 share 或者不 share，再去看 tale align，确定 IND、DEP\n",
    "- [ ] JAK2, SIRT6 only share call motif"
   ]
  },
  {
   "cell_type": "markdown",
   "id": "834e5693-79fe-4e0d-b00f-927245ecfc4a",
   "metadata": {},
   "source": [
    "# packages and settings "
   ]
  },
  {
   "cell_type": "markdown",
   "id": "1b880507-7d5a-432f-ba5f-5cacb058a8d4",
   "metadata": {},
   "source": [
    "import python packages"
   ]
  },
  {
   "cell_type": "code",
   "execution_count": 239,
   "id": "2ccbf30b-41ed-4ca8-b6d6-296308872dd3",
   "metadata": {
    "execution": {
     "iopub.execute_input": "2022-10-31T16:32:13.943978Z",
     "iopub.status.busy": "2022-10-31T16:32:13.943658Z",
     "iopub.status.idle": "2022-10-31T16:32:13.978512Z",
     "shell.execute_reply": "2022-10-31T16:32:13.977898Z",
     "shell.execute_reply.started": "2022-10-31T16:32:13.943959Z"
    },
    "tags": []
   },
   "outputs": [],
   "source": [
    "import collections\n",
    "import math\n",
    "import os\n",
    "import sys\n",
    "\n",
    "import matplotlib.pyplot as plt\n",
    "import numpy as np\n",
    "import pandas as pd\n",
    "import pycircos\n",
    "# from matplotlib_venn import venn2\n",
    "from pybedtools import BedTool\n",
    "from pycircos import Garc, Gcircle\n",
    "from upsetplotly import UpSetPlotly"
   ]
  },
  {
   "cell_type": "markdown",
   "id": "0e8e66af-b297-4ee4-90eb-07ae2eec3b93",
   "metadata": {
    "execution": {
     "iopub.execute_input": "2022-10-27T08:20:10.504290Z",
     "iopub.status.busy": "2022-10-27T08:20:10.504004Z",
     "iopub.status.idle": "2022-10-27T08:20:10.509189Z",
     "shell.execute_reply": "2022-10-27T08:20:10.508390Z",
     "shell.execute_reply.started": "2022-10-27T08:20:10.504271Z"
    }
   },
   "source": [
    "enable rpy2"
   ]
  },
  {
   "cell_type": "code",
   "execution_count": 2,
   "id": "2625a77e-0c70-494d-80e5-924b6b108702",
   "metadata": {
    "execution": {
     "iopub.execute_input": "2022-10-31T14:19:50.893112Z",
     "iopub.status.busy": "2022-10-31T14:19:50.892848Z",
     "iopub.status.idle": "2022-10-31T14:19:51.558018Z",
     "shell.execute_reply": "2022-10-31T14:19:51.557458Z",
     "shell.execute_reply.started": "2022-10-31T14:19:50.893094Z"
    },
    "tags": []
   },
   "outputs": [],
   "source": [
    "# enables the gaR magic,  not neceasary  if you’ve already done this\n",
    "%load_ext rpy2.ipython\n",
    "# %reload_ext rpy2.ipython"
   ]
  },
  {
   "cell_type": "markdown",
   "id": "f0bd5e40-c367-4566-af46-e7a64198cf2d",
   "metadata": {},
   "source": [
    "import R libraries"
   ]
  },
  {
   "cell_type": "code",
   "execution_count": 338,
   "id": "b771c8c3-77fd-4b5b-b194-2c69022fa58e",
   "metadata": {
    "execution": {
     "iopub.execute_input": "2022-10-31T17:14:17.049665Z",
     "iopub.status.busy": "2022-10-31T17:14:17.049412Z",
     "iopub.status.idle": "2022-10-31T17:14:17.078633Z",
     "shell.execute_reply": "2022-10-31T17:14:17.078145Z",
     "shell.execute_reply.started": "2022-10-31T17:14:17.049644Z"
    },
    "tags": []
   },
   "outputs": [],
   "source": [
    "%%R\n",
    "# 可以再%%R后面放光标 cmd + i\n",
    "library(tidyverse)\n",
    "library(ggpubr)\n",
    "library(ggrepel)\n",
    "library(ggupset)\n",
    "library(UpSetR)"
   ]
  },
  {
   "cell_type": "markdown",
   "id": "ec1b0974-6822-45c1-93f4-168b41c928f4",
   "metadata": {},
   "source": [
    "# 初步探索poisson table\n",
    "- log2_FC: log2(treat_count.norm/ctrl_count.norm), 如果ctrl_count.norm不存在，就用 chr 突变背景\n",
    "- log2_FC_mut: log2(treat_mut_count.norm/ctrl_mut_count.norm), 如果ctrl_mut_count.norm不存在，就用 chr 突变背景\n",
    "- region_block_state: B-Blocked, S-SNV, N-Non-SNV"
   ]
  },
  {
   "cell_type": "code",
   "execution_count": null,
   "id": "013f4366-febf-4dff-b7de-171b51bc2099",
   "metadata": {
    "tags": []
   },
   "outputs": [],
   "source": [
    "file = '../poisson_res/poisson_res_all.tsv.gz'"
   ]
  },
  {
   "cell_type": "code",
   "execution_count": null,
   "id": "cba03e93-ccb4-447f-bacd-58b2f19216be",
   "metadata": {
    "tags": []
   },
   "outputs": [],
   "source": [
    "df = pd.read_csv(file, header=0, index_col=None, sep='\\t')\n",
    "df.head()"
   ]
  },
  {
   "cell_type": "code",
   "execution_count": null,
   "id": "237c76d2-4067-4844-bbd3-c49306b39e64",
   "metadata": {
    "tags": []
   },
   "outputs": [],
   "source": [
    "# df.info()"
   ]
  },
  {
   "cell_type": "code",
   "execution_count": null,
   "id": "ed147f02-9e4d-401c-a4e8-4d1dd42e88b8",
   "metadata": {
    "tags": []
   },
   "outputs": [],
   "source": [
    "# df.isna().sum()"
   ]
  },
  {
   "cell_type": "code",
   "execution_count": null,
   "id": "1981853d-4cde-4fe6-ac0b-63fe0e34cfd7",
   "metadata": {
    "tags": []
   },
   "outputs": [],
   "source": [
    "# # 查看一下两列 NA 是什么\n",
    "# test_df = df.query('region_highest_site_index.isna()')\n",
    "# test2_df = df.query('log2_FC_mut.isna()')"
   ]
  },
  {
   "cell_type": "code",
   "execution_count": null,
   "id": "63bf63e6-4868-4c9b-a5ab-1e829676792a",
   "metadata": {
    "tags": []
   },
   "outputs": [],
   "source": [
    "df = df.assign(bed_name=df.mpmat_index + '_highest_'\n",
    "               + df.region_highest_site_index,\n",
    "               strand='.')\n",
    "df = df[df['<sample>'] != 'test']\n",
    "df"
   ]
  },
  {
   "cell_type": "markdown",
   "id": "b713bd65-1efc-4ccb-8f05-cfa6d83e7da8",
   "metadata": {},
   "source": [
    "# find significant region"
   ]
  },
  {
   "cell_type": "markdown",
   "id": "67cc6c18-e573-4537-a3d5-7fae99249bc2",
   "metadata": {},
   "source": [
    "## strict selection "
   ]
  },
  {
   "cell_type": "code",
   "execution_count": null,
   "id": "d83a38b2-8097-4762-8439-567659a7ddd4",
   "metadata": {
    "tags": []
   },
   "outputs": [],
   "source": [
    "df_sign_strict = (\n",
    "    df.query('FDR <= 0.0001').query('log2_FC_mut >= 2').query(\n",
    "        'ctrl_mut_count <= 1').query('`treat_mut_count.norm` * 100 >= 10').\n",
    "    query('treat_mut_count >= 20').query(\n",
    "        'treat_mut_count / treat_count >= 0.15').query(\n",
    "            'region_block_site_num <= 1').query(\n",
    "                'region_highest_site_mut_ratio >= 0.35')  # 1892\n",
    ")\n",
    "\n",
    "print(df_sign_strict.shape[0])\n",
    "df_sign_strict.groupby('<sample>').describe()"
   ]
  },
  {
   "cell_type": "code",
   "execution_count": null,
   "id": "a426c781-54c8-405a-bdfd-a2dc6f101608",
   "metadata": {
    "tags": []
   },
   "outputs": [],
   "source": [
    "df_sign_strict.isna().sum().sum()"
   ]
  },
  {
   "cell_type": "markdown",
   "id": "3ad92d39-8ef1-44fe-a4c5-2a655139ae8c",
   "metadata": {},
   "source": [
    "## lenient selection"
   ]
  },
  {
   "cell_type": "code",
   "execution_count": null,
   "id": "65bd4318-6622-4da7-a5fe-87db7ec6d3e4",
   "metadata": {
    "tags": []
   },
   "outputs": [],
   "source": [
    "# nature protocol standard\n",
    "# df_sign_lenient = (df\n",
    "#                    .query('FDR <= 0.01')\n",
    "#                    .query('log2_FC_mut >= 2')\n",
    "#                    .query('ctrl_mut_count <= 1')\n",
    "#                    .query('`treat_mut_count.norm` * 100 >= 5')\n",
    "#                    .query('treat_mut_count >= 10')\n",
    "#                    .query('treat_mut_count / treat_count >= 0.15')\n",
    "#                    .query('region_block_site_num <= 1')\n",
    "#                    .query('region_highest_site_mut_ratio >= 0.30')  # 4007\n",
    "#                    )\n",
    "\n",
    "# print(df_sign_lenient.shape[0])\n",
    "# df_sign_lenient.groupby('<sample>').describe()\n",
    "\n",
    "# 2022-10-27 update\n",
    "df_sign_lenient = (df\n",
    "                   .query('FDR <= 0.01').query('log2_FC_mut >= 2')\n",
    "                   .query('ctrl_mut_count <= 1')\n",
    "                   .query('`treat_mut_count.norm` * 100 >= 5')\n",
    "                   .query('treat_mut_count >= 10')\n",
    "                   .query('treat_mut_count / treat_count >= 0.15')\n",
    "                   .query('region_block_site_num <= 1')\n",
    "                   .query('region_highest_site_mut_ratio >= 0.30')  # 4007\n",
    "                   )\n",
    "\n",
    "print(df_sign_lenient.shape[0])\n",
    "df_sign_lenient.groupby('<sample>').describe()"
   ]
  },
  {
   "cell_type": "code",
   "execution_count": null,
   "id": "3f2b9f6a-fc86-4bda-bcd3-7d75d7506a56",
   "metadata": {
    "tags": []
   },
   "outputs": [],
   "source": [
    "df_sign_lenient.isna().sum().sum()"
   ]
  },
  {
   "cell_type": "code",
   "execution_count": null,
   "id": "052bbbad-08fa-4671-8502-418befd285b8",
   "metadata": {
    "tags": []
   },
   "outputs": [],
   "source": [
    "df = df_sign_lenient\n",
    "print(df.shape)\n",
    "df.head()"
   ]
  },
  {
   "cell_type": "markdown",
   "id": "eab1dca4-cf2d-4b0e-a073-d9ea4ce66f75",
   "metadata": {},
   "source": [
    "## fix mpmat_index (add old into it) -> df_pois"
   ]
  },
  {
   "cell_type": "code",
   "execution_count": null,
   "id": "3b10cfa4-162b-409d-8274-ff6eea6cecae",
   "metadata": {
    "tags": []
   },
   "outputs": [],
   "source": [
    "df_old_id = pd.read_csv(\n",
    "    \"../tables/20220312-DdCBE-off_target_type.FinallistV4.CheckPrimer.AddV4ID.tsv\",\n",
    "    sep='\\t', header=0, usecols=['region_id'],)\n",
    "df_old_id.region_id.describe()"
   ]
  },
  {
   "cell_type": "code",
   "execution_count": null,
   "id": "00ba7c78-3957-4acc-a527-d92225bb020e",
   "metadata": {
    "tags": []
   },
   "outputs": [],
   "source": [
    "df_old_id[['chrom', 'start', 'end'\n",
    "           ]] = pd.Series(df_old_id.region_id.unique()).str.split('_',\n",
    "                                                                  expand=True)\n",
    "df_old_id = df_old_id.iloc[:, 1:4]\n",
    "df_old_id['start'] = df_old_id['start'].astype(int)\n",
    "df_old_id['end'] = df_old_id['end'].astype(int)\n",
    "df_old_id"
   ]
  },
  {
   "cell_type": "code",
   "execution_count": null,
   "id": "9846a3db-008a-47e0-b927-63b8eb5ff6f0",
   "metadata": {
    "tags": []
   },
   "outputs": [],
   "source": [
    "df_old_id.info()"
   ]
  },
  {
   "cell_type": "code",
   "execution_count": null,
   "id": "38ec28e0-0c34-46cd-b266-b6a6bfd464e8",
   "metadata": {
    "tags": []
   },
   "outputs": [],
   "source": [
    "df_new_id = pd.Series(df.mpmat_index.unique()).str.split('_', expand=True)\n",
    "df_new_id.columns = ['chrom', 'start', 'end']\n",
    "df_new_id['start'] = df_new_id['start'].astype(int)\n",
    "df_new_id['end'] = df_new_id['end'].astype(int)\n",
    "\n",
    "df_new_id"
   ]
  },
  {
   "cell_type": "code",
   "execution_count": null,
   "id": "d5019725-fad9-4f0d-9b29-0bbd64878f57",
   "metadata": {
    "tags": []
   },
   "outputs": [],
   "source": [
    "bed_new = BedTool.from_dataframe(df_new_id)\n",
    "bed_nat = BedTool.from_dataframe(df_old_id)"
   ]
  },
  {
   "cell_type": "markdown",
   "id": "4c0a9a3e-5224-40bf-82a9-eb7a15dc8afb",
   "metadata": {},
   "source": [
    "> https://bedtools.readthedocs.io/en/latest/content/tools/intersect.html\n",
    "\n",
    "![](https://tva1.sinaimg.cn/large/008vxvgGly1h7jy4v629sj30ld0j9wg7.jpg)"
   ]
  },
  {
   "cell_type": "code",
   "execution_count": null,
   "id": "006c2927-342b-43e5-b42e-1505f0952001",
   "metadata": {
    "tags": []
   },
   "outputs": [],
   "source": [
    "df_bed_to_fix = bed_new.intersect(bed_nat, loj=True).to_dataframe()\n",
    "df_bed_to_fix.columns = ['chrom', 'start', 'end', 'chrom2', 'start2', 'end2']\n",
    "\n",
    "df_bed_to_fix"
   ]
  },
  {
   "cell_type": "code",
   "execution_count": null,
   "id": "1143d20b-274f-4c08-97e0-d1b9781f6d5f",
   "metadata": {
    "tags": []
   },
   "outputs": [],
   "source": [
    "# end2 为-1 代表老点不存在，\n",
    "# end2 有值说明，新老点重合，以老点 region 坐标为准进行替换\n",
    "# df_test = df_bed_to_fix.query('end2 != -1')\n",
    "# abs((df_test.end2 - df_test.start2 - df_test.end + df_test.start)).describe()\n",
    "\n",
    "# 唯一标识mpmat_index\n",
    "\n",
    "df_bed_to_fix['mpmat_index'] = df_bed_to_fix['chrom'] + '_' + \\\n",
    "    df_bed_to_fix['start'].astype(str) + '_' + df_bed_to_fix['end'].astype(str)\n",
    "\n",
    "df_bed_to_fix_part1 = df_bed_to_fix.query('end2 == -1')[[\n",
    "    'mpmat_index', 'chrom', 'start', 'end'\n",
    "]].copy()\n",
    "df_bed_to_fix_part2 = df_bed_to_fix.query('end2 != -1')[[\n",
    "    'mpmat_index', 'chrom2', 'start2', 'end2'\n",
    "]].copy()\n",
    "\n",
    "df_bed_to_fix_part1.columns = [\n",
    "    'mpmat_index', 'chr_name', 'region_start', 'region_end'\n",
    "]\n",
    "df_bed_to_fix_part2.columns = [\n",
    "    'mpmat_index', 'chr_name', 'region_start', 'region_end'\n",
    "]\n",
    "\n",
    "df_bed_fixed_coordinate = pd.concat([df_bed_to_fix_part1, df_bed_to_fix_part2],\n",
    "                                    axis=0)\n",
    "df_bed_fixed_coordinate"
   ]
  },
  {
   "cell_type": "code",
   "execution_count": null,
   "id": "b13675cc-83aa-4644-ad6d-170737691697",
   "metadata": {
    "tags": []
   },
   "outputs": [],
   "source": [
    "# 发现两个 duplicated 的 mpmat_index，check 一下为什么\n",
    "# print(df_bed_fixed_coordinate[df_bed_fixed_coordinate.mpmat_index.duplicated()])\n",
    "\n",
    "print(df_bed_fixed_coordinate.query('mpmat_index==\"chr10_22989043_22989070\"'))\n",
    "print(df_bed_fixed_coordinate.query('mpmat_index==\"chr17_67963461_67963466\"'))\n",
    "#                  mpmat_index chr_name  region_start  region_end\n",
    "# 864  chr10_22989043_22989070    chr10      22989049    22989070\n",
    "# 865  chr10_22989043_22989070    chr10      22989052    22989071\n",
    "#                   mpmat_index chr_name  region_start  region_end\n",
    "# 2931  chr17_67963461_67963466    chr17      67963444    67963466\n",
    "# 2932  chr17_67963461_67963466    chr17      67963458    67963466\n",
    "\n",
    "# 发现其实就是没定下来最终的导致了有多出来的点，图方便取第一个，注意以后 debug！\n",
    "# DEBUG\n",
    "\n",
    "df_bed_fixed_coordinate.drop_duplicates(subset='mpmat_index',\n",
    "                                        keep='first',\n",
    "                                        inplace=True)\n",
    "\n",
    "df_bed_fixed_coordinate"
   ]
  },
  {
   "cell_type": "code",
   "execution_count": null,
   "id": "4e7e51f8-e29e-4ba1-b0fa-4c4354d6f7b6",
   "metadata": {
    "tags": []
   },
   "outputs": [],
   "source": [
    "df_bed_fixed_coordinate2 = (\n",
    "    df_bed_fixed_coordinate\n",
    "    .merge(df, on=['mpmat_index'], how='left')\n",
    "    .drop(\n",
    "        columns=['chr_name_y', 'region_start_y', 'region_end_y']\n",
    "    )\n",
    "    .rename(\n",
    "        columns={\n",
    "            'chr_name_x': 'chr_name',\n",
    "            'region_start_x': 'region_start',\n",
    "            'region_end_x': 'region_end'}\n",
    "    )\n",
    ")\n",
    "\n",
    "sample_names = df_bed_fixed_coordinate2.pop('<sample>')\n",
    "mpmat_indexes = df_bed_fixed_coordinate2.pop('mpmat_index')\n",
    "# 利用insert方法插入取出的数据列到指定位置\n",
    "\n",
    "df_bed_fixed_coordinate2.insert(0, '<sample>', sample_names)\n",
    "df_bed_fixed_coordinate2.insert(4, 'mpmat_index', mpmat_indexes)\n",
    "\n",
    "# fix mpmat_index\n",
    "df_bed_fixed_coordinate2['mpmat_index'] = df_bed_fixed_coordinate2['chr_name'] + '_' + \\\n",
    "    df_bed_fixed_coordinate2['region_start'].astype(str) + '_' + df_bed_fixed_coordinate2['region_end'].astype(str)\n",
    "\n",
    "df_bed_fixed_coordinate2"
   ]
  },
  {
   "cell_type": "code",
   "execution_count": null,
   "id": "71fe1440-1f26-488f-a1f2-b215a7a526b6",
   "metadata": {
    "tags": []
   },
   "outputs": [],
   "source": [
    "# sample 内部无重合\n",
    "for _, _df in df_bed_fixed_coordinate2.groupby('<sample>'):\n",
    "    print(_df.duplicated().sum())"
   ]
  },
  {
   "cell_type": "code",
   "execution_count": null,
   "id": "5d1c58e8-7752-4e47-bc8c-5afbeeda04f0",
   "metadata": {
    "tags": []
   },
   "outputs": [],
   "source": [
    "df_pois = df_bed_fixed_coordinate2.copy()\n",
    "df_pois.head()\n",
    "\n",
    "# 现在只要是有 nature 当中的 region，都和 nature 的 coordinate\n",
    "# 和mpmat_index保持一致了，后面如果回溯命名，直接和 v4 的 table merge一下即可"
   ]
  },
  {
   "cell_type": "code",
   "execution_count": null,
   "id": "552f2639-ffda-4bda-ad5b-551a4af539f0",
   "metadata": {
    "tags": []
   },
   "outputs": [],
   "source": [
    "df_pois.isna().sum().sum()"
   ]
  },
  {
   "cell_type": "code",
   "execution_count": null,
   "id": "c35ea202-8afa-4e3f-b1a4-81f7d045b84f",
   "metadata": {
    "tags": []
   },
   "outputs": [],
   "source": [
    "# df_pois.to_csv('./_temp/2022-10-28_for_home_use.csv', index=None)"
   ]
  },
  {
   "cell_type": "markdown",
   "id": "00da264c-82b8-4f18-b3d2-dfbaf670e59c",
   "metadata": {},
   "source": [
    "# reload data"
   ]
  },
  {
   "cell_type": "code",
   "execution_count": 5,
   "id": "58914210-d3e9-45c0-b778-865982612169",
   "metadata": {
    "execution": {
     "iopub.execute_input": "2022-10-31T14:20:08.178886Z",
     "iopub.status.busy": "2022-10-31T14:20:08.178479Z",
     "iopub.status.idle": "2022-10-31T14:20:08.275809Z",
     "shell.execute_reply": "2022-10-31T14:20:08.275267Z",
     "shell.execute_reply.started": "2022-10-31T14:20:08.178865Z"
    },
    "tags": []
   },
   "outputs": [
    {
     "data": {
      "text/html": [
       "<div>\n",
       "<style scoped>\n",
       "    .dataframe tbody tr th:only-of-type {\n",
       "        vertical-align: middle;\n",
       "    }\n",
       "\n",
       "    .dataframe tbody tr th {\n",
       "        vertical-align: top;\n",
       "    }\n",
       "\n",
       "    .dataframe thead th {\n",
       "        text-align: right;\n",
       "    }\n",
       "</style>\n",
       "<table border=\"1\" class=\"dataframe\">\n",
       "  <thead>\n",
       "    <tr style=\"text-align: right;\">\n",
       "      <th></th>\n",
       "      <th>&lt;sample&gt;</th>\n",
       "      <th>chr_name</th>\n",
       "      <th>region_start</th>\n",
       "      <th>region_end</th>\n",
       "      <th>mpmat_index</th>\n",
       "      <th>region_site_num</th>\n",
       "      <th>region_block_site_num</th>\n",
       "      <th>region_mut_site_num</th>\n",
       "      <th>region_site_index</th>\n",
       "      <th>region_block_state</th>\n",
       "      <th>...</th>\n",
       "      <th>ctrl_mut_count.norm</th>\n",
       "      <th>treat_mut_count.norm</th>\n",
       "      <th>count_info</th>\n",
       "      <th>log2_FC</th>\n",
       "      <th>log2_FC_mut</th>\n",
       "      <th>test_state</th>\n",
       "      <th>p_value</th>\n",
       "      <th>FDR</th>\n",
       "      <th>bed_name</th>\n",
       "      <th>strand</th>\n",
       "    </tr>\n",
       "  </thead>\n",
       "  <tbody>\n",
       "    <tr>\n",
       "      <th>0</th>\n",
       "      <td>DetectSeq_ATP8-DddA11_REP-1</td>\n",
       "      <td>chr1</td>\n",
       "      <td>631391</td>\n",
       "      <td>631393</td>\n",
       "      <td>chr1_631391_631393</td>\n",
       "      <td>3</td>\n",
       "      <td>1</td>\n",
       "      <td>2</td>\n",
       "      <td>chr1_631391_CT,chr1_631392_CT,chr1_631393_CT</td>\n",
       "      <td>B-N-N</td>\n",
       "      <td>...</td>\n",
       "      <td>0.000000</td>\n",
       "      <td>2.801598</td>\n",
       "      <td>0,1,2,3 22,0,0,0 689,406,500,0</td>\n",
       "      <td>7.415426</td>\n",
       "      <td>8.434072</td>\n",
       "      <td>TestOK</td>\n",
       "      <td>9.573874e-183</td>\n",
       "      <td>1.536847e-177</td>\n",
       "      <td>chr1_631391_631393_highest_chr1_631392_CT</td>\n",
       "      <td>.</td>\n",
       "    </tr>\n",
       "    <tr>\n",
       "      <th>1</th>\n",
       "      <td>DetectSeq_ATP8-DddA6_REP-1</td>\n",
       "      <td>chr1</td>\n",
       "      <td>631391</td>\n",
       "      <td>631393</td>\n",
       "      <td>chr1_631391_631393</td>\n",
       "      <td>3</td>\n",
       "      <td>1</td>\n",
       "      <td>2</td>\n",
       "      <td>chr1_631391_CT,chr1_631392_CT,chr1_631393_CT</td>\n",
       "      <td>B-N-N</td>\n",
       "      <td>...</td>\n",
       "      <td>0.000000</td>\n",
       "      <td>2.750688</td>\n",
       "      <td>0,1,2,3 22,0,0,0 511,169,485,0</td>\n",
       "      <td>7.070792</td>\n",
       "      <td>8.407614</td>\n",
       "      <td>TestOK</td>\n",
       "      <td>2.632264e-166</td>\n",
       "      <td>4.829081e-161</td>\n",
       "      <td>chr1_631391_631393_highest_chr1_631392_CT</td>\n",
       "      <td>.</td>\n",
       "    </tr>\n",
       "    <tr>\n",
       "      <th>2</th>\n",
       "      <td>DetectSeq_ATP8-DddAwt_REP-1</td>\n",
       "      <td>chr1</td>\n",
       "      <td>631391</td>\n",
       "      <td>631393</td>\n",
       "      <td>chr1_631391_631393</td>\n",
       "      <td>3</td>\n",
       "      <td>1</td>\n",
       "      <td>2</td>\n",
       "      <td>chr1_631391_CT,chr1_631392_CT,chr1_631393_CT</td>\n",
       "      <td>B-N-N</td>\n",
       "      <td>...</td>\n",
       "      <td>0.000000</td>\n",
       "      <td>0.181582</td>\n",
       "      <td>0,1,2,3 22,0,0,0 157,60,43,0</td>\n",
       "      <td>4.442013</td>\n",
       "      <td>4.486517</td>\n",
       "      <td>TestOK</td>\n",
       "      <td>4.391279e-12</td>\n",
       "      <td>2.014030e-07</td>\n",
       "      <td>chr1_631391_631393_highest_chr1_631392_CT</td>\n",
       "      <td>.</td>\n",
       "    </tr>\n",
       "    <tr>\n",
       "      <th>3</th>\n",
       "      <td>DetectSeq_ATP8-DddA11_REP-1</td>\n",
       "      <td>chr1</td>\n",
       "      <td>631778</td>\n",
       "      <td>631791</td>\n",
       "      <td>chr1_631778_631791</td>\n",
       "      <td>3</td>\n",
       "      <td>0</td>\n",
       "      <td>3</td>\n",
       "      <td>chr1_631778_CT,chr1_631787_CT,chr1_631791_CT</td>\n",
       "      <td>N-N-N</td>\n",
       "      <td>...</td>\n",
       "      <td>0.000000</td>\n",
       "      <td>3.260583</td>\n",
       "      <td>0,1,2,3 40,0,0,0 534,278,413,258</td>\n",
       "      <td>6.447891</td>\n",
       "      <td>8.652952</td>\n",
       "      <td>TestOK</td>\n",
       "      <td>2.915445e-214</td>\n",
       "      <td>5.348597e-209</td>\n",
       "      <td>chr1_631778_631791_highest_chr1_631791_CT</td>\n",
       "      <td>.</td>\n",
       "    </tr>\n",
       "    <tr>\n",
       "      <th>4</th>\n",
       "      <td>DetectSeq_ATP8-DddA6_REP-1</td>\n",
       "      <td>chr1</td>\n",
       "      <td>631778</td>\n",
       "      <td>631791</td>\n",
       "      <td>chr1_631778_631791</td>\n",
       "      <td>3</td>\n",
       "      <td>0</td>\n",
       "      <td>3</td>\n",
       "      <td>chr1_631778_CT,chr1_631787_CT,chr1_631791_CT</td>\n",
       "      <td>N-N-N</td>\n",
       "      <td>...</td>\n",
       "      <td>0.000000</td>\n",
       "      <td>3.001335</td>\n",
       "      <td>0,1,2,3 40,0,0,0 530,320,528,69</td>\n",
       "      <td>6.521031</td>\n",
       "      <td>8.533426</td>\n",
       "      <td>TestOK</td>\n",
       "      <td>3.072057e-182</td>\n",
       "      <td>6.575230e-177</td>\n",
       "      <td>chr1_631778_631791_highest_chr1_631787_CT</td>\n",
       "      <td>.</td>\n",
       "    </tr>\n",
       "    <tr>\n",
       "      <th>...</th>\n",
       "      <td>...</td>\n",
       "      <td>...</td>\n",
       "      <td>...</td>\n",
       "      <td>...</td>\n",
       "      <td>...</td>\n",
       "      <td>...</td>\n",
       "      <td>...</td>\n",
       "      <td>...</td>\n",
       "      <td>...</td>\n",
       "      <td>...</td>\n",
       "      <td>...</td>\n",
       "      <td>...</td>\n",
       "      <td>...</td>\n",
       "      <td>...</td>\n",
       "      <td>...</td>\n",
       "      <td>...</td>\n",
       "      <td>...</td>\n",
       "      <td>...</td>\n",
       "      <td>...</td>\n",
       "      <td>...</td>\n",
       "      <td>...</td>\n",
       "    </tr>\n",
       "    <tr>\n",
       "      <th>4002</th>\n",
       "      <td>DetectSeq_SIRT6-DddA11_REP-1</td>\n",
       "      <td>chrX</td>\n",
       "      <td>41024523</td>\n",
       "      <td>41024536</td>\n",
       "      <td>chrX_41024523_41024536</td>\n",
       "      <td>13</td>\n",
       "      <td>0</td>\n",
       "      <td>13</td>\n",
       "      <td>chrX_41024494_GA,chrX_41024498_GA,chrX_4102450...</td>\n",
       "      <td>N-N-N-N-N-N-N-N-N-N-N-N-N</td>\n",
       "      <td>...</td>\n",
       "      <td>0.000000</td>\n",
       "      <td>0.311431</td>\n",
       "      <td>0,1,2,3,4,5,6,7,8,9,10,11,12,13 22,0,0,0,0,0,0...</td>\n",
       "      <td>3.245836</td>\n",
       "      <td>5.533199</td>\n",
       "      <td>TestOK</td>\n",
       "      <td>3.108715e-19</td>\n",
       "      <td>8.180768e-16</td>\n",
       "      <td>chrX_41024494_41024536_highest_chrX_41024528_GA</td>\n",
       "      <td>.</td>\n",
       "    </tr>\n",
       "    <tr>\n",
       "      <th>4003</th>\n",
       "      <td>DetectSeq_SIRT6-DddA11_REP-1</td>\n",
       "      <td>chrX</td>\n",
       "      <td>72126743</td>\n",
       "      <td>72126762</td>\n",
       "      <td>chrX_72126743_72126762</td>\n",
       "      <td>9</td>\n",
       "      <td>0</td>\n",
       "      <td>9</td>\n",
       "      <td>chrX_72126743_CT,chrX_72126744_CT,chrX_7212674...</td>\n",
       "      <td>N-N-N-N-N-N-N-N-N</td>\n",
       "      <td>...</td>\n",
       "      <td>0.000000</td>\n",
       "      <td>0.088980</td>\n",
       "      <td>0,1,2,3,4,5,6,7,8,9 28,0,0,0,0,0,0,0,0,0 9,0,3...</td>\n",
       "      <td>0.971913</td>\n",
       "      <td>3.725844</td>\n",
       "      <td>TestOK</td>\n",
       "      <td>3.269560e-05</td>\n",
       "      <td>7.913254e-03</td>\n",
       "      <td>chrX_72126743_72126762_highest_chrX_72126750_CT</td>\n",
       "      <td>.</td>\n",
       "    </tr>\n",
       "    <tr>\n",
       "      <th>4004</th>\n",
       "      <td>DetectSeq_SIRT6-DddA11_REP-1</td>\n",
       "      <td>chrX</td>\n",
       "      <td>103211203</td>\n",
       "      <td>103211249</td>\n",
       "      <td>chrX_103211203_103211249</td>\n",
       "      <td>8</td>\n",
       "      <td>0</td>\n",
       "      <td>8</td>\n",
       "      <td>chrX_103211187_GA,chrX_103211197_GA,chrX_10321...</td>\n",
       "      <td>N-N-N-N-N-N-N-N</td>\n",
       "      <td>...</td>\n",
       "      <td>0.000000</td>\n",
       "      <td>0.172399</td>\n",
       "      <td>0,1,2,3,4,5,6,7,8 34,0,0,0,0,0,0,0,0 27,10,12,...</td>\n",
       "      <td>2.135412</td>\n",
       "      <td>4.680040</td>\n",
       "      <td>TestOK</td>\n",
       "      <td>2.985607e-10</td>\n",
       "      <td>2.539152e-07</td>\n",
       "      <td>chrX_103211187_103211215_highest_chrX_10321121...</td>\n",
       "      <td>.</td>\n",
       "    </tr>\n",
       "    <tr>\n",
       "      <th>4005</th>\n",
       "      <td>DetectSeq_SIRT6-DddA11_REP-1</td>\n",
       "      <td>chrX</td>\n",
       "      <td>132292961</td>\n",
       "      <td>132292983</td>\n",
       "      <td>chrX_132292961_132292983</td>\n",
       "      <td>10</td>\n",
       "      <td>0</td>\n",
       "      <td>10</td>\n",
       "      <td>chrX_132292956_GA,chrX_132292961_GA,chrX_13229...</td>\n",
       "      <td>N-N-N-N-N-N-N-N-N-N</td>\n",
       "      <td>...</td>\n",
       "      <td>0.002532</td>\n",
       "      <td>0.088980</td>\n",
       "      <td>0,1,2,3,4,5,6,7,8,9,10 40,0,1,0,0,0,0,0,0,0,0 ...</td>\n",
       "      <td>1.135412</td>\n",
       "      <td>5.135412</td>\n",
       "      <td>TestOK</td>\n",
       "      <td>3.269560e-05</td>\n",
       "      <td>7.913254e-03</td>\n",
       "      <td>chrX_132292956_132292983_highest_chrX_13229298...</td>\n",
       "      <td>.</td>\n",
       "    </tr>\n",
       "    <tr>\n",
       "      <th>4006</th>\n",
       "      <td>DetectSeq_SIRT6-DddA11_REP-1</td>\n",
       "      <td>chrX</td>\n",
       "      <td>133005219</td>\n",
       "      <td>133005236</td>\n",
       "      <td>chrX_133005219_133005236</td>\n",
       "      <td>19</td>\n",
       "      <td>0</td>\n",
       "      <td>19</td>\n",
       "      <td>chrX_133005157_GA,chrX_133005162_G.,chrX_13300...</td>\n",
       "      <td>N-N-N-N-N-N-N-N-N-N-N-N-N-N-N-N-N-N-N</td>\n",
       "      <td>...</td>\n",
       "      <td>0.000000</td>\n",
       "      <td>0.127909</td>\n",
       "      <td>0,1,2,3,4,5,6,7,8,9,10,11,12,13,14,15,16,17,18...</td>\n",
       "      <td>2.015117</td>\n",
       "      <td>4.249406</td>\n",
       "      <td>TestOK</td>\n",
       "      <td>1.635736e-07</td>\n",
       "      <td>7.739919e-05</td>\n",
       "      <td>chrX_133005157_133005236_highest_chrX_13300523...</td>\n",
       "      <td>.</td>\n",
       "    </tr>\n",
       "  </tbody>\n",
       "</table>\n",
       "<p>4007 rows × 30 columns</p>\n",
       "</div>"
      ],
      "text/plain": [
       "                          <sample> chr_name  region_start  region_end  \\\n",
       "0      DetectSeq_ATP8-DddA11_REP-1     chr1        631391      631393   \n",
       "1       DetectSeq_ATP8-DddA6_REP-1     chr1        631391      631393   \n",
       "2      DetectSeq_ATP8-DddAwt_REP-1     chr1        631391      631393   \n",
       "3      DetectSeq_ATP8-DddA11_REP-1     chr1        631778      631791   \n",
       "4       DetectSeq_ATP8-DddA6_REP-1     chr1        631778      631791   \n",
       "...                            ...      ...           ...         ...   \n",
       "4002  DetectSeq_SIRT6-DddA11_REP-1     chrX      41024523    41024536   \n",
       "4003  DetectSeq_SIRT6-DddA11_REP-1     chrX      72126743    72126762   \n",
       "4004  DetectSeq_SIRT6-DddA11_REP-1     chrX     103211203   103211249   \n",
       "4005  DetectSeq_SIRT6-DddA11_REP-1     chrX     132292961   132292983   \n",
       "4006  DetectSeq_SIRT6-DddA11_REP-1     chrX     133005219   133005236   \n",
       "\n",
       "                   mpmat_index  region_site_num  region_block_site_num  \\\n",
       "0           chr1_631391_631393                3                      1   \n",
       "1           chr1_631391_631393                3                      1   \n",
       "2           chr1_631391_631393                3                      1   \n",
       "3           chr1_631778_631791                3                      0   \n",
       "4           chr1_631778_631791                3                      0   \n",
       "...                        ...              ...                    ...   \n",
       "4002    chrX_41024523_41024536               13                      0   \n",
       "4003    chrX_72126743_72126762                9                      0   \n",
       "4004  chrX_103211203_103211249                8                      0   \n",
       "4005  chrX_132292961_132292983               10                      0   \n",
       "4006  chrX_133005219_133005236               19                      0   \n",
       "\n",
       "      region_mut_site_num                                  region_site_index  \\\n",
       "0                       2       chr1_631391_CT,chr1_631392_CT,chr1_631393_CT   \n",
       "1                       2       chr1_631391_CT,chr1_631392_CT,chr1_631393_CT   \n",
       "2                       2       chr1_631391_CT,chr1_631392_CT,chr1_631393_CT   \n",
       "3                       3       chr1_631778_CT,chr1_631787_CT,chr1_631791_CT   \n",
       "4                       3       chr1_631778_CT,chr1_631787_CT,chr1_631791_CT   \n",
       "...                   ...                                                ...   \n",
       "4002                   13  chrX_41024494_GA,chrX_41024498_GA,chrX_4102450...   \n",
       "4003                    9  chrX_72126743_CT,chrX_72126744_CT,chrX_7212674...   \n",
       "4004                    8  chrX_103211187_GA,chrX_103211197_GA,chrX_10321...   \n",
       "4005                   10  chrX_132292956_GA,chrX_132292961_GA,chrX_13229...   \n",
       "4006                   19  chrX_133005157_GA,chrX_133005162_G.,chrX_13300...   \n",
       "\n",
       "                         region_block_state  ... ctrl_mut_count.norm  \\\n",
       "0                                     B-N-N  ...            0.000000   \n",
       "1                                     B-N-N  ...            0.000000   \n",
       "2                                     B-N-N  ...            0.000000   \n",
       "3                                     N-N-N  ...            0.000000   \n",
       "4                                     N-N-N  ...            0.000000   \n",
       "...                                     ...  ...                 ...   \n",
       "4002              N-N-N-N-N-N-N-N-N-N-N-N-N  ...            0.000000   \n",
       "4003                      N-N-N-N-N-N-N-N-N  ...            0.000000   \n",
       "4004                        N-N-N-N-N-N-N-N  ...            0.000000   \n",
       "4005                    N-N-N-N-N-N-N-N-N-N  ...            0.002532   \n",
       "4006  N-N-N-N-N-N-N-N-N-N-N-N-N-N-N-N-N-N-N  ...            0.000000   \n",
       "\n",
       "      treat_mut_count.norm                                         count_info  \\\n",
       "0                 2.801598                     0,1,2,3 22,0,0,0 689,406,500,0   \n",
       "1                 2.750688                     0,1,2,3 22,0,0,0 511,169,485,0   \n",
       "2                 0.181582                       0,1,2,3 22,0,0,0 157,60,43,0   \n",
       "3                 3.260583                   0,1,2,3 40,0,0,0 534,278,413,258   \n",
       "4                 3.001335                    0,1,2,3 40,0,0,0 530,320,528,69   \n",
       "...                    ...                                                ...   \n",
       "4002              0.311431  0,1,2,3,4,5,6,7,8,9,10,11,12,13 22,0,0,0,0,0,0...   \n",
       "4003              0.088980  0,1,2,3,4,5,6,7,8,9 28,0,0,0,0,0,0,0,0,0 9,0,3...   \n",
       "4004              0.172399  0,1,2,3,4,5,6,7,8 34,0,0,0,0,0,0,0,0 27,10,12,...   \n",
       "4005              0.088980  0,1,2,3,4,5,6,7,8,9,10 40,0,1,0,0,0,0,0,0,0,0 ...   \n",
       "4006              0.127909  0,1,2,3,4,5,6,7,8,9,10,11,12,13,14,15,16,17,18...   \n",
       "\n",
       "       log2_FC  log2_FC_mut  test_state        p_value            FDR  \\\n",
       "0     7.415426     8.434072      TestOK  9.573874e-183  1.536847e-177   \n",
       "1     7.070792     8.407614      TestOK  2.632264e-166  4.829081e-161   \n",
       "2     4.442013     4.486517      TestOK   4.391279e-12   2.014030e-07   \n",
       "3     6.447891     8.652952      TestOK  2.915445e-214  5.348597e-209   \n",
       "4     6.521031     8.533426      TestOK  3.072057e-182  6.575230e-177   \n",
       "...        ...          ...         ...            ...            ...   \n",
       "4002  3.245836     5.533199      TestOK   3.108715e-19   8.180768e-16   \n",
       "4003  0.971913     3.725844      TestOK   3.269560e-05   7.913254e-03   \n",
       "4004  2.135412     4.680040      TestOK   2.985607e-10   2.539152e-07   \n",
       "4005  1.135412     5.135412      TestOK   3.269560e-05   7.913254e-03   \n",
       "4006  2.015117     4.249406      TestOK   1.635736e-07   7.739919e-05   \n",
       "\n",
       "                                               bed_name  strand  \n",
       "0             chr1_631391_631393_highest_chr1_631392_CT       .  \n",
       "1             chr1_631391_631393_highest_chr1_631392_CT       .  \n",
       "2             chr1_631391_631393_highest_chr1_631392_CT       .  \n",
       "3             chr1_631778_631791_highest_chr1_631791_CT       .  \n",
       "4             chr1_631778_631791_highest_chr1_631787_CT       .  \n",
       "...                                                 ...     ...  \n",
       "4002    chrX_41024494_41024536_highest_chrX_41024528_GA       .  \n",
       "4003    chrX_72126743_72126762_highest_chrX_72126750_CT       .  \n",
       "4004  chrX_103211187_103211215_highest_chrX_10321121...       .  \n",
       "4005  chrX_132292956_132292983_highest_chrX_13229298...       .  \n",
       "4006  chrX_133005157_133005236_highest_chrX_13300523...       .  \n",
       "\n",
       "[4007 rows x 30 columns]"
      ]
     },
     "execution_count": 5,
     "metadata": {},
     "output_type": "execute_result"
    }
   ],
   "source": [
    "df_pois = pd.read_csv('./_temp/2022-10-28_for_home_use.csv', header=0, index_col=None)\n",
    "df_pois"
   ]
  },
  {
   "cell_type": "markdown",
   "id": "0af136a7-2450-44e6-915a-6eb635fe76c1",
   "metadata": {},
   "source": [
    "# [TODO] share analysis of different DdCBE treatment -> upset plot"
   ]
  },
  {
   "cell_type": "code",
   "execution_count": null,
   "id": "3fa2f882-f27e-41a3-8027-19be52de15dd",
   "metadata": {
    "tags": []
   },
   "outputs": [],
   "source": [
    "# # 找到每个样本中 call 到 region 的mpmat_index\n",
    "# dt_mpmat_index = {}\n",
    "\n",
    "# for sample, _df in df_sign_lenient.groupby('<sample>'):\n",
    "#     dt_mpmat_index[sample] = _df.mpmat_index.tolist()\n",
    "\n",
    "# # dt_mpmat_index\n",
    "# dt_mpmat_index['DetectSeq_ATP8-DddA11_REP-1'][:10]"
   ]
  },
  {
   "cell_type": "code",
   "execution_count": null,
   "id": "6fc40f87-81be-4345-a60e-c582957e9ee1",
   "metadata": {
    "tags": []
   },
   "outputs": [],
   "source": [
    "# # TODO\n",
    "# def check_mpmat_index_in_others(x):\n",
    "#     dt_mpmat_index_isin = dict()\n",
    "\n",
    "#     for sample, sample_mpmat_index in dt_mpmat_index.items():\n",
    "#         if x['mpmat_index'] in sample_mpmat_index:\n",
    "#             pass"
   ]
  },
  {
   "cell_type": "markdown",
   "id": "e15b4a3b-0857-4c10-8831-640728cfc840",
   "metadata": {},
   "source": [
    "# analysis with old TAS-independent list (650 sites) -> df_aim_mpmat"
   ]
  },
  {
   "cell_type": "markdown",
   "id": "e2261ff8-5150-4993-849d-0efe514f9e76",
   "metadata": {},
   "source": [
    "## generate old TAS-independent off-target mpmat to call regions"
   ]
  },
  {
   "cell_type": "code",
   "execution_count": null,
   "id": "613f27e9-52a2-4d35-a3c2-e83b1ea6587f",
   "metadata": {
    "tags": []
   },
   "outputs": [],
   "source": [
    "# df_old_final_list = pd.read_csv(\n",
    "#     \"../tables/20220312-DdCBE-off_target_type.FinallistV4.CheckPrimer.AddV4ID.tsv\",\n",
    "#     sep='\\t',\n",
    "#     header=0,\n",
    "#     usecols=['region_id', 'off_target_id.V4.ND4', 'off_target_id.V4.ND5.1', 'off_target_id.V4.ND6'],\n",
    "# )\n",
    "# df_old_final_list.columns = ['mpmat_index', 'id_ND4', 'id_ND5.1', 'id_ND6']\n",
    "# df_old_final_list.head()"
   ]
  },
  {
   "cell_type": "code",
   "execution_count": null,
   "id": "1795a1cc-3fcf-4bfa-9d47-c873da3e8138",
   "metadata": {
    "tags": []
   },
   "outputs": [],
   "source": [
    "# def query_ind(x):\n",
    "#     x = x.fillna('')\n",
    "#     if 'IND' in x['id_ND4']: return True\n",
    "#     elif 'IND' in x['id_ND5.1']: return True\n",
    "#     elif 'IND' in x['id_ND6']: return True\n",
    "#     else: return False\n",
    "\n",
    "# df_old_final_list.apply(query_ind, axis=1).sum()"
   ]
  },
  {
   "cell_type": "code",
   "execution_count": null,
   "id": "d160c059-b463-4f2a-a1ef-002732b9dfa8",
   "metadata": {
    "tags": []
   },
   "outputs": [],
   "source": [
    "# df_old_share = df_old_final_list[df_old_final_list.apply(query_ind, axis=1)].reset_index(drop=True)\n",
    "# df_old_share"
   ]
  },
  {
   "cell_type": "code",
   "execution_count": null,
   "id": "fa1e6097-5822-44ae-9dec-c7c72aee1e35",
   "metadata": {
    "tags": []
   },
   "outputs": [],
   "source": [
    "# # 拿 650 个 old share 的点做一个 mpmat 出来去对着这五个 sample call 一下相关位置\n",
    "# df_mpmat = pd.read_csv(\n",
    "#     '../tables/293T-DdCBE-merge_hg38.MAPQ20.C6_M4_R1_T10.sort.V4.mpmat.gz',\n",
    "#     sep='\\t',\n",
    "#     header=None,\n",
    "# )\n",
    "# df_mpmat['mpmat_index'] = df_mpmat[0] + '_' + df_mpmat[1].astype(str) + '_' + df_mpmat[2].astype(str)\n",
    "# df_mpmat"
   ]
  },
  {
   "cell_type": "code",
   "execution_count": null,
   "id": "1a41a3dd-bab6-493f-9cd7-d7d709bf1b6c",
   "metadata": {
    "tags": []
   },
   "outputs": [],
   "source": [
    "# df_merge = pd.merge(left=df_mpmat, right=df_old_share, on='mpmat_index', how='right')\n",
    "\n",
    "# df_aim_mpmat = df_merge.iloc[:,:-4]\n",
    "# df_aim_mpmat"
   ]
  },
  {
   "cell_type": "code",
   "execution_count": null,
   "id": "f4f7dbc2-9619-4dad-a39e-08c25036742a",
   "metadata": {
    "tags": []
   },
   "outputs": [],
   "source": [
    "# df_aim_mpmat.to_csv('../mpmat/2022-10-21_nature_4_5.1_6_share_650-off-targets.mpmat', header=None, index=None, sep='\\t')"
   ]
  },
  {
   "cell_type": "markdown",
   "id": "5aab32b2-bf6b-44ad-a38e-ecbc9fb9fa31",
   "metadata": {},
   "source": [
    "## Detect-seq signal comparation for DddA\\_wt/6/11"
   ]
  },
  {
   "cell_type": "code",
   "execution_count": 482,
   "id": "7d5f2bdb-e1ff-44b3-9900-64be6a9fc2f3",
   "metadata": {
    "execution": {
     "iopub.execute_input": "2022-11-01T15:37:04.008763Z",
     "iopub.status.busy": "2022-11-01T15:37:04.008410Z",
     "iopub.status.idle": "2022-11-01T15:37:04.065961Z",
     "shell.execute_reply": "2022-11-01T15:37:04.065139Z",
     "shell.execute_reply.started": "2022-11-01T15:37:04.008743Z"
    },
    "tags": []
   },
   "outputs": [
    {
     "data": {
      "text/html": [
       "<div>\n",
       "<style scoped>\n",
       "    .dataframe tbody tr th:only-of-type {\n",
       "        vertical-align: middle;\n",
       "    }\n",
       "\n",
       "    .dataframe tbody tr th {\n",
       "        vertical-align: top;\n",
       "    }\n",
       "\n",
       "    .dataframe thead th {\n",
       "        text-align: right;\n",
       "    }\n",
       "</style>\n",
       "<table border=\"1\" class=\"dataframe\">\n",
       "  <thead>\n",
       "    <tr style=\"text-align: right;\">\n",
       "      <th></th>\n",
       "      <th>&lt;sample&gt;</th>\n",
       "      <th>chr_name</th>\n",
       "      <th>region_start</th>\n",
       "      <th>region_end</th>\n",
       "      <th>mpmat_index</th>\n",
       "      <th>region_site_num</th>\n",
       "      <th>region_block_site_num</th>\n",
       "      <th>region_mut_site_num</th>\n",
       "      <th>region_site_index</th>\n",
       "      <th>region_block_state</th>\n",
       "      <th>...</th>\n",
       "      <th>ctrl_count.norm</th>\n",
       "      <th>treat_count.norm</th>\n",
       "      <th>ctrl_mut_count.norm</th>\n",
       "      <th>treat_mut_count.norm</th>\n",
       "      <th>count_info</th>\n",
       "      <th>log2_FC</th>\n",
       "      <th>log2_FC_mut</th>\n",
       "      <th>test_state</th>\n",
       "      <th>p_value</th>\n",
       "      <th>FDR</th>\n",
       "    </tr>\n",
       "  </thead>\n",
       "  <tbody>\n",
       "    <tr>\n",
       "      <th>0</th>\n",
       "      <td>DetectSeq_ATP8-DddA6_REP-1</td>\n",
       "      <td>chr1</td>\n",
       "      <td>2044988</td>\n",
       "      <td>2044998</td>\n",
       "      <td>chr1_2044988_2044998</td>\n",
       "      <td>7</td>\n",
       "      <td>0</td>\n",
       "      <td>7</td>\n",
       "      <td>chr1_2044988_CT,chr1_2044989_CT,chr1_2044990_C...</td>\n",
       "      <td>N-N-N-N-N-N-N</td>\n",
       "      <td>...</td>\n",
       "      <td>0.022784</td>\n",
       "      <td>0.038561</td>\n",
       "      <td>0.000000</td>\n",
       "      <td>0.019281</td>\n",
       "      <td>0,1,2,3,4,5,6,7 9,0,0,0,0,0,0,0 0,3,0,3,0,0,0,0</td>\n",
       "      <td>0.759147</td>\n",
       "      <td>1.251110</td>\n",
       "      <td>TestOK</td>\n",
       "      <td>2.153850e-01</td>\n",
       "      <td>4.105579e-01</td>\n",
       "    </tr>\n",
       "    <tr>\n",
       "      <th>1</th>\n",
       "      <td>DetectSeq_ATP8-DddA6_REP-1</td>\n",
       "      <td>chr1</td>\n",
       "      <td>9702414</td>\n",
       "      <td>9702449</td>\n",
       "      <td>chr1_9702414_9702449</td>\n",
       "      <td>11</td>\n",
       "      <td>0</td>\n",
       "      <td>11</td>\n",
       "      <td>chr1_9702414_GA,chr1_9702415_GA,chr1_9702424_G...</td>\n",
       "      <td>N-N-N-N-N-N-N-N-N-N-N</td>\n",
       "      <td>...</td>\n",
       "      <td>0.045567</td>\n",
       "      <td>0.083549</td>\n",
       "      <td>0.000000</td>\n",
       "      <td>0.012854</td>\n",
       "      <td>0,1,2,3,4,5,6,7,8,9,10,11 16,2,0,0,0,0,0,0,0,0...</td>\n",
       "      <td>0.874624</td>\n",
       "      <td>0.666147</td>\n",
       "      <td>TestOK</td>\n",
       "      <td>3.559715e-01</td>\n",
       "      <td>5.418769e-01</td>\n",
       "    </tr>\n",
       "    <tr>\n",
       "      <th>2</th>\n",
       "      <td>DetectSeq_ATP8-DddA6_REP-1</td>\n",
       "      <td>chr1</td>\n",
       "      <td>12618165</td>\n",
       "      <td>12618174</td>\n",
       "      <td>chr1_12618165_12618174</td>\n",
       "      <td>5</td>\n",
       "      <td>0</td>\n",
       "      <td>5</td>\n",
       "      <td>chr1_12618165_CT,chr1_12618166_CT,chr1_1261817...</td>\n",
       "      <td>N-N-N-N-N</td>\n",
       "      <td>...</td>\n",
       "      <td>0.025315</td>\n",
       "      <td>0.051415</td>\n",
       "      <td>0.000000</td>\n",
       "      <td>0.012854</td>\n",
       "      <td>0,1,2,3,4,5 10,0,0,0,0,0 4,2,2,0,0,0</td>\n",
       "      <td>1.022181</td>\n",
       "      <td>0.666147</td>\n",
       "      <td>TestOK</td>\n",
       "      <td>3.559715e-01</td>\n",
       "      <td>5.418769e-01</td>\n",
       "    </tr>\n",
       "    <tr>\n",
       "      <th>3</th>\n",
       "      <td>DetectSeq_ATP8-DddA6_REP-1</td>\n",
       "      <td>chr1</td>\n",
       "      <td>13019998</td>\n",
       "      <td>13020019</td>\n",
       "      <td>chr1_13019998_13020019</td>\n",
       "      <td>9</td>\n",
       "      <td>0</td>\n",
       "      <td>9</td>\n",
       "      <td>chr1_13019998_GA,chr1_13020006_GA,chr1_1302000...</td>\n",
       "      <td>N-N-N-N-N-N-N-N-N</td>\n",
       "      <td>...</td>\n",
       "      <td>0.010126</td>\n",
       "      <td>0.025707</td>\n",
       "      <td>0.000000</td>\n",
       "      <td>0.000000</td>\n",
       "      <td>0,1,2,3,4,5,6,7,8,9 4,0,0,0,0,0,0,0,0,0 3,1,0,...</td>\n",
       "      <td>1.344109</td>\n",
       "      <td>NaN</td>\n",
       "      <td>TestOK</td>\n",
       "      <td>8.274602e-01</td>\n",
       "      <td>8.274602e-01</td>\n",
       "    </tr>\n",
       "    <tr>\n",
       "      <th>4</th>\n",
       "      <td>DetectSeq_ATP8-DddA6_REP-1</td>\n",
       "      <td>chr1</td>\n",
       "      <td>13354705</td>\n",
       "      <td>13354738</td>\n",
       "      <td>chr1_13354705_13354738</td>\n",
       "      <td>11</td>\n",
       "      <td>0</td>\n",
       "      <td>11</td>\n",
       "      <td>chr1_13354705_CT,chr1_13354706_CT,chr1_1335470...</td>\n",
       "      <td>N-N-N-N-N-N-N-N-N-N-N</td>\n",
       "      <td>...</td>\n",
       "      <td>0.060756</td>\n",
       "      <td>0.000000</td>\n",
       "      <td>0.000000</td>\n",
       "      <td>0.000000</td>\n",
       "      <td>0,1,2,3,4,5,6,7,8,9,10,11 24,0,0,0,0,0,0,0,0,0...</td>\n",
       "      <td>NaN</td>\n",
       "      <td>NaN</td>\n",
       "      <td>TestOK</td>\n",
       "      <td>8.274602e-01</td>\n",
       "      <td>8.274602e-01</td>\n",
       "    </tr>\n",
       "    <tr>\n",
       "      <th>...</th>\n",
       "      <td>...</td>\n",
       "      <td>...</td>\n",
       "      <td>...</td>\n",
       "      <td>...</td>\n",
       "      <td>...</td>\n",
       "      <td>...</td>\n",
       "      <td>...</td>\n",
       "      <td>...</td>\n",
       "      <td>...</td>\n",
       "      <td>...</td>\n",
       "      <td>...</td>\n",
       "      <td>...</td>\n",
       "      <td>...</td>\n",
       "      <td>...</td>\n",
       "      <td>...</td>\n",
       "      <td>...</td>\n",
       "      <td>...</td>\n",
       "      <td>...</td>\n",
       "      <td>...</td>\n",
       "      <td>...</td>\n",
       "      <td>...</td>\n",
       "    </tr>\n",
       "    <tr>\n",
       "      <th>3245</th>\n",
       "      <td>DetectSeq_SIRT6-DddA11_REP-1</td>\n",
       "      <td>chrX</td>\n",
       "      <td>136925330</td>\n",
       "      <td>136925338</td>\n",
       "      <td>chrX_136925330_136925338</td>\n",
       "      <td>5</td>\n",
       "      <td>0</td>\n",
       "      <td>5</td>\n",
       "      <td>chrX_136925330_CT,chrX_136925332_CT,chrX_13692...</td>\n",
       "      <td>N-N-N-N-N</td>\n",
       "      <td>...</td>\n",
       "      <td>0.108855</td>\n",
       "      <td>0.717403</td>\n",
       "      <td>0.000000</td>\n",
       "      <td>0.328114</td>\n",
       "      <td>0,1,2,3,4,5 43,0,0,0,0,0 27,43,44,13,2,0</td>\n",
       "      <td>2.720374</td>\n",
       "      <td>5.608487</td>\n",
       "      <td>TestOK</td>\n",
       "      <td>2.433039e-20</td>\n",
       "      <td>9.702301e-20</td>\n",
       "    </tr>\n",
       "    <tr>\n",
       "      <th>3246</th>\n",
       "      <td>DetectSeq_SIRT6-DddA11_REP-1</td>\n",
       "      <td>chrX</td>\n",
       "      <td>138128211</td>\n",
       "      <td>138128237</td>\n",
       "      <td>chrX_138128211_138128237</td>\n",
       "      <td>9</td>\n",
       "      <td>1</td>\n",
       "      <td>8</td>\n",
       "      <td>chrX_138128211_GA,chrX_138128216_GA,chrX_13812...</td>\n",
       "      <td>N-N-N-B-N-N-N-N-N</td>\n",
       "      <td>...</td>\n",
       "      <td>0.083540</td>\n",
       "      <td>0.205767</td>\n",
       "      <td>0.002532</td>\n",
       "      <td>0.072296</td>\n",
       "      <td>0,1,2,3,4,5,6,7,8,9 32,0,1,0,0,0,0,0,0,0 14,10...</td>\n",
       "      <td>1.300471</td>\n",
       "      <td>4.835851</td>\n",
       "      <td>TestOK</td>\n",
       "      <td>2.889936e-04</td>\n",
       "      <td>4.053103e-04</td>\n",
       "    </tr>\n",
       "    <tr>\n",
       "      <th>3247</th>\n",
       "      <td>DetectSeq_SIRT6-DddA11_REP-1</td>\n",
       "      <td>chrX</td>\n",
       "      <td>150683735</td>\n",
       "      <td>150683758</td>\n",
       "      <td>chrX_150683735_150683758</td>\n",
       "      <td>11</td>\n",
       "      <td>0</td>\n",
       "      <td>11</td>\n",
       "      <td>chrX_150683735_GA,chrX_150683739_GA,chrX_15068...</td>\n",
       "      <td>N-N-N-N-N-N-N-N-N-N-N</td>\n",
       "      <td>...</td>\n",
       "      <td>0.093666</td>\n",
       "      <td>1.495979</td>\n",
       "      <td>0.005063</td>\n",
       "      <td>1.045517</td>\n",
       "      <td>0,1,2,3,4,5,6,7,8,9,10,11 35,0,0,2,0,0,0,0,0,0...</td>\n",
       "      <td>3.997421</td>\n",
       "      <td>7.690000</td>\n",
       "      <td>TestOK</td>\n",
       "      <td>3.003205e-70</td>\n",
       "      <td>1.626736e-68</td>\n",
       "    </tr>\n",
       "    <tr>\n",
       "      <th>3248</th>\n",
       "      <td>DetectSeq_SIRT6-DddA11_REP-1</td>\n",
       "      <td>chrX</td>\n",
       "      <td>153669436</td>\n",
       "      <td>153669453</td>\n",
       "      <td>chrX_153669436_153669453</td>\n",
       "      <td>10</td>\n",
       "      <td>0</td>\n",
       "      <td>10</td>\n",
       "      <td>chrX_153669436_CT,chrX_153669437_CT,chrX_15366...</td>\n",
       "      <td>N-N-N-N-N-N-N-N-N-N</td>\n",
       "      <td>...</td>\n",
       "      <td>0.055693</td>\n",
       "      <td>0.144593</td>\n",
       "      <td>0.000000</td>\n",
       "      <td>0.061174</td>\n",
       "      <td>0,1,2,3,4,5,6,7,8,9,10 22,0,0,0,0,0,0,0,0,0,0 ...</td>\n",
       "      <td>1.376420</td>\n",
       "      <td>3.185275</td>\n",
       "      <td>TestOK</td>\n",
       "      <td>1.185269e-03</td>\n",
       "      <td>1.578739e-03</td>\n",
       "    </tr>\n",
       "    <tr>\n",
       "      <th>3249</th>\n",
       "      <td>DetectSeq_SIRT6-DddA11_REP-1</td>\n",
       "      <td>chrX</td>\n",
       "      <td>155049205</td>\n",
       "      <td>155049215</td>\n",
       "      <td>chrX_155049205_155049215</td>\n",
       "      <td>7</td>\n",
       "      <td>0</td>\n",
       "      <td>7</td>\n",
       "      <td>chrX_155049205_GA,chrX_155049207_GA,chrX_15504...</td>\n",
       "      <td>N-N-N-N-N-N-N</td>\n",
       "      <td>...</td>\n",
       "      <td>0.063288</td>\n",
       "      <td>0.834189</td>\n",
       "      <td>0.002532</td>\n",
       "      <td>0.600616</td>\n",
       "      <td>0,1,2,3,4,5,6,7 24,0,0,1,0,0,0,0 21,21,57,38,1...</td>\n",
       "      <td>3.720374</td>\n",
       "      <td>7.890299</td>\n",
       "      <td>TestOK</td>\n",
       "      <td>6.779916e-39</td>\n",
       "      <td>8.012628e-38</td>\n",
       "    </tr>\n",
       "  </tbody>\n",
       "</table>\n",
       "<p>3250 rows × 28 columns</p>\n",
       "</div>"
      ],
      "text/plain": [
       "                          <sample> chr_name  region_start  region_end  \\\n",
       "0       DetectSeq_ATP8-DddA6_REP-1     chr1       2044988     2044998   \n",
       "1       DetectSeq_ATP8-DddA6_REP-1     chr1       9702414     9702449   \n",
       "2       DetectSeq_ATP8-DddA6_REP-1     chr1      12618165    12618174   \n",
       "3       DetectSeq_ATP8-DddA6_REP-1     chr1      13019998    13020019   \n",
       "4       DetectSeq_ATP8-DddA6_REP-1     chr1      13354705    13354738   \n",
       "...                            ...      ...           ...         ...   \n",
       "3245  DetectSeq_SIRT6-DddA11_REP-1     chrX     136925330   136925338   \n",
       "3246  DetectSeq_SIRT6-DddA11_REP-1     chrX     138128211   138128237   \n",
       "3247  DetectSeq_SIRT6-DddA11_REP-1     chrX     150683735   150683758   \n",
       "3248  DetectSeq_SIRT6-DddA11_REP-1     chrX     153669436   153669453   \n",
       "3249  DetectSeq_SIRT6-DddA11_REP-1     chrX     155049205   155049215   \n",
       "\n",
       "                   mpmat_index  region_site_num  region_block_site_num  \\\n",
       "0         chr1_2044988_2044998                7                      0   \n",
       "1         chr1_9702414_9702449               11                      0   \n",
       "2       chr1_12618165_12618174                5                      0   \n",
       "3       chr1_13019998_13020019                9                      0   \n",
       "4       chr1_13354705_13354738               11                      0   \n",
       "...                        ...              ...                    ...   \n",
       "3245  chrX_136925330_136925338                5                      0   \n",
       "3246  chrX_138128211_138128237                9                      1   \n",
       "3247  chrX_150683735_150683758               11                      0   \n",
       "3248  chrX_153669436_153669453               10                      0   \n",
       "3249  chrX_155049205_155049215                7                      0   \n",
       "\n",
       "      region_mut_site_num                                  region_site_index  \\\n",
       "0                       7  chr1_2044988_CT,chr1_2044989_CT,chr1_2044990_C...   \n",
       "1                      11  chr1_9702414_GA,chr1_9702415_GA,chr1_9702424_G...   \n",
       "2                       5  chr1_12618165_CT,chr1_12618166_CT,chr1_1261817...   \n",
       "3                       9  chr1_13019998_GA,chr1_13020006_GA,chr1_1302000...   \n",
       "4                      11  chr1_13354705_CT,chr1_13354706_CT,chr1_1335470...   \n",
       "...                   ...                                                ...   \n",
       "3245                    5  chrX_136925330_CT,chrX_136925332_CT,chrX_13692...   \n",
       "3246                    8  chrX_138128211_GA,chrX_138128216_GA,chrX_13812...   \n",
       "3247                   11  chrX_150683735_GA,chrX_150683739_GA,chrX_15068...   \n",
       "3248                   10  chrX_153669436_CT,chrX_153669437_CT,chrX_15366...   \n",
       "3249                    7  chrX_155049205_GA,chrX_155049207_GA,chrX_15504...   \n",
       "\n",
       "         region_block_state  ... ctrl_count.norm  treat_count.norm  \\\n",
       "0             N-N-N-N-N-N-N  ...        0.022784          0.038561   \n",
       "1     N-N-N-N-N-N-N-N-N-N-N  ...        0.045567          0.083549   \n",
       "2                 N-N-N-N-N  ...        0.025315          0.051415   \n",
       "3         N-N-N-N-N-N-N-N-N  ...        0.010126          0.025707   \n",
       "4     N-N-N-N-N-N-N-N-N-N-N  ...        0.060756          0.000000   \n",
       "...                     ...  ...             ...               ...   \n",
       "3245              N-N-N-N-N  ...        0.108855          0.717403   \n",
       "3246      N-N-N-B-N-N-N-N-N  ...        0.083540          0.205767   \n",
       "3247  N-N-N-N-N-N-N-N-N-N-N  ...        0.093666          1.495979   \n",
       "3248    N-N-N-N-N-N-N-N-N-N  ...        0.055693          0.144593   \n",
       "3249          N-N-N-N-N-N-N  ...        0.063288          0.834189   \n",
       "\n",
       "      ctrl_mut_count.norm  treat_mut_count.norm  \\\n",
       "0                0.000000              0.019281   \n",
       "1                0.000000              0.012854   \n",
       "2                0.000000              0.012854   \n",
       "3                0.000000              0.000000   \n",
       "4                0.000000              0.000000   \n",
       "...                   ...                   ...   \n",
       "3245             0.000000              0.328114   \n",
       "3246             0.002532              0.072296   \n",
       "3247             0.005063              1.045517   \n",
       "3248             0.000000              0.061174   \n",
       "3249             0.002532              0.600616   \n",
       "\n",
       "                                             count_info   log2_FC  \\\n",
       "0       0,1,2,3,4,5,6,7 9,0,0,0,0,0,0,0 0,3,0,3,0,0,0,0  0.759147   \n",
       "1     0,1,2,3,4,5,6,7,8,9,10,11 16,2,0,0,0,0,0,0,0,0...  0.874624   \n",
       "2                  0,1,2,3,4,5 10,0,0,0,0,0 4,2,2,0,0,0  1.022181   \n",
       "3     0,1,2,3,4,5,6,7,8,9 4,0,0,0,0,0,0,0,0,0 3,1,0,...  1.344109   \n",
       "4     0,1,2,3,4,5,6,7,8,9,10,11 24,0,0,0,0,0,0,0,0,0...       NaN   \n",
       "...                                                 ...       ...   \n",
       "3245           0,1,2,3,4,5 43,0,0,0,0,0 27,43,44,13,2,0  2.720374   \n",
       "3246  0,1,2,3,4,5,6,7,8,9 32,0,1,0,0,0,0,0,0,0 14,10...  1.300471   \n",
       "3247  0,1,2,3,4,5,6,7,8,9,10,11 35,0,0,2,0,0,0,0,0,0...  3.997421   \n",
       "3248  0,1,2,3,4,5,6,7,8,9,10 22,0,0,0,0,0,0,0,0,0,0 ...  1.376420   \n",
       "3249  0,1,2,3,4,5,6,7 24,0,0,1,0,0,0,0 21,21,57,38,1...  3.720374   \n",
       "\n",
       "      log2_FC_mut  test_state       p_value           FDR  \n",
       "0        1.251110      TestOK  2.153850e-01  4.105579e-01  \n",
       "1        0.666147      TestOK  3.559715e-01  5.418769e-01  \n",
       "2        0.666147      TestOK  3.559715e-01  5.418769e-01  \n",
       "3             NaN      TestOK  8.274602e-01  8.274602e-01  \n",
       "4             NaN      TestOK  8.274602e-01  8.274602e-01  \n",
       "...           ...         ...           ...           ...  \n",
       "3245     5.608487      TestOK  2.433039e-20  9.702301e-20  \n",
       "3246     4.835851      TestOK  2.889936e-04  4.053103e-04  \n",
       "3247     7.690000      TestOK  3.003205e-70  1.626736e-68  \n",
       "3248     3.185275      TestOK  1.185269e-03  1.578739e-03  \n",
       "3249     7.890299      TestOK  6.779916e-39  8.012628e-38  \n",
       "\n",
       "[3250 rows x 28 columns]"
      ]
     },
     "execution_count": 482,
     "metadata": {},
     "output_type": "execute_result"
    }
   ],
   "source": [
    "# 650 mpmat to get 650 poisson_res\n",
    "df_old_site_new_signal = pd.read_csv(\n",
    "    '../poisson_res_use_old650/poisson_res_all_use650.tsv.gz',\n",
    "    header=0,\n",
    "    index_col=None,\n",
    "    sep='\\t'\n",
    ")\n",
    "df_old_site_new_signal"
   ]
  },
  {
   "cell_type": "code",
   "execution_count": 483,
   "id": "f3d166bf-bfcb-45b9-a996-0c748ab32203",
   "metadata": {
    "execution": {
     "iopub.execute_input": "2022-11-01T15:37:08.420569Z",
     "iopub.status.busy": "2022-11-01T15:37:08.420190Z",
     "iopub.status.idle": "2022-11-01T15:37:08.431107Z",
     "shell.execute_reply": "2022-11-01T15:37:08.430569Z",
     "shell.execute_reply.started": "2022-11-01T15:37:08.420551Z"
    },
    "tags": []
   },
   "outputs": [
    {
     "name": "stdout",
     "output_type": "stream",
     "text": [
      "<class 'pandas.core.frame.DataFrame'>\n",
      "RangeIndex: 3250 entries, 0 to 3249\n",
      "Data columns (total 28 columns):\n",
      " #   Column                         Non-Null Count  Dtype  \n",
      "---  ------                         --------------  -----  \n",
      " 0   <sample>                       3250 non-null   object \n",
      " 1   chr_name                       3250 non-null   object \n",
      " 2   region_start                   3250 non-null   int64  \n",
      " 3   region_end                     3250 non-null   int64  \n",
      " 4   mpmat_index                    3250 non-null   object \n",
      " 5   region_site_num                3250 non-null   int64  \n",
      " 6   region_block_site_num          3250 non-null   int64  \n",
      " 7   region_mut_site_num            3250 non-null   int64  \n",
      " 8   region_site_index              3250 non-null   object \n",
      " 9   region_block_state             3250 non-null   object \n",
      " 10  region_highest_site_index      3250 non-null   object \n",
      " 11  region_highest_site_mut_num    3250 non-null   int64  \n",
      " 12  region_highest_site_cover_num  3250 non-null   int64  \n",
      " 13  region_highest_site_mut_ratio  3250 non-null   float64\n",
      " 14  ctrl_count                     3250 non-null   int64  \n",
      " 15  treat_count                    3250 non-null   int64  \n",
      " 16  ctrl_mut_count                 3250 non-null   int64  \n",
      " 17  treat_mut_count                3250 non-null   int64  \n",
      " 18  ctrl_count.norm                3250 non-null   float64\n",
      " 19  treat_count.norm               3250 non-null   float64\n",
      " 20  ctrl_mut_count.norm            3250 non-null   float64\n",
      " 21  treat_mut_count.norm           3250 non-null   float64\n",
      " 22  count_info                     3250 non-null   object \n",
      " 23  log2_FC                        3248 non-null   float64\n",
      " 24  log2_FC_mut                    2882 non-null   float64\n",
      " 25  test_state                     3250 non-null   object \n",
      " 26  p_value                        3250 non-null   float64\n",
      " 27  FDR                            3250 non-null   float64\n",
      "dtypes: float64(9), int64(11), object(8)\n",
      "memory usage: 711.1+ KB\n"
     ]
    }
   ],
   "source": [
    "df_old_site_new_signal.info()"
   ]
  },
  {
   "cell_type": "code",
   "execution_count": null,
   "id": "97ec1531-4398-40fe-88bd-be0eeabc8675",
   "metadata": {
    "tags": []
   },
   "outputs": [],
   "source": [
    "# df_old_site_new_signal.isna().sum().sum()"
   ]
  },
  {
   "cell_type": "code",
   "execution_count": null,
   "id": "e57c3672-6095-45b6-946b-ba63b4c1eb54",
   "metadata": {
    "tags": []
   },
   "outputs": [],
   "source": [
    "# df_old_site_new_signal = df_old_site_new_signal.assign(\n",
    "#     bed_name=df_old_site_new_signal.mpmat_index + '_highest_' + df_old_site_new_signal.region_highest_site_index,\n",
    "#     strand='.'\n",
    "# )\n",
    "# df_old_site_new_signal"
   ]
  },
  {
   "cell_type": "code",
   "execution_count": null,
   "id": "c4cbfb36-a9fb-44c0-a0ee-6057733fd9b5",
   "metadata": {
    "tags": []
   },
   "outputs": [],
   "source": [
    "# df_sign_strict = (df_old_site_new_signal\n",
    "#                   .query('FDR <= 0.0001')  # 10911\n",
    "#                   .query('log2_FC_mut >= 2')  # 10911\n",
    "#                   .query('ctrl_mut_count <= 1')  # 9551\n",
    "#                   .query('`treat_mut_count.norm` * 100 >= 10')  # 9551\n",
    "#                   .query('treat_mut_count >= 20')  # 9551\n",
    "#                   .query('treat_mut_count / treat_count >= 0.15')  # 6080\n",
    "#                   .query('region_block_site_num <= 1')  # 5720\n",
    "#                   .query('region_highest_site_mut_ratio >= 0.35')  # 2929\n",
    "#                   )\n",
    "\n",
    "# print(df_sign_strict.shape[0])\n",
    "# df_sign_strict.groupby('<sample>').describe()"
   ]
  },
  {
   "cell_type": "code",
   "execution_count": null,
   "id": "a2cffc45-6f3a-41f8-a08c-b053caeab06a",
   "metadata": {
    "tags": []
   },
   "outputs": [],
   "source": [
    "# df_sign_lenient = (df_old_site_new_signal\n",
    "#                    .query('FDR <= 0.01')  # 25118\n",
    "#                    .query('log2_FC_mut >= 2')  # 25118\n",
    "#                    .query('ctrl_mut_count <= 1')  # 22009\n",
    "#                    .query('`treat_mut_count.norm` * 100 >= 5')  # 22009\n",
    "#                    .query('treat_mut_count >= 10')  # 22009\n",
    "#                    .query('treat_mut_count / treat_count >= 0.15')  # 14476\n",
    "#                    .query('region_block_site_num <= 1')  # 13522\n",
    "#                    .query('region_highest_site_mut_ratio >= 0.30')  # 7001\n",
    "#                    )\n",
    "\n",
    "# print(df_sign_lenient.shape[0])\n",
    "# df_sign_lenient.groupby('<sample>').describe()"
   ]
  },
  {
   "cell_type": "code",
   "execution_count": null,
   "id": "6b0fc442-f6ab-4c97-b03c-383c59f42b30",
   "metadata": {
    "tags": []
   },
   "outputs": [],
   "source": [
    "# df_sign_lenient"
   ]
  },
  {
   "cell_type": "code",
   "execution_count": null,
   "id": "448d2e0c-84fe-4f4d-b5da-b09e30110689",
   "metadata": {
    "tags": []
   },
   "outputs": [],
   "source": [
    "# df_sign_lenient.mpmat_index.describe()"
   ]
  },
  {
   "cell_type": "markdown",
   "id": "aa5df120-f08d-4115-aeee-bcdf43524902",
   "metadata": {},
   "source": [
    "## 2022-10-28 <- 2022-10-21 Detect-seq signal comparation for different localization of DdCBE_DddA11 -> scatter plot"
   ]
  },
  {
   "cell_type": "markdown",
   "id": "bfeca4fb-215a-4119-889d-5cdeb5765435",
   "metadata": {},
   "source": [
    "### data reduction"
   ]
  },
  {
   "cell_type": "code",
   "execution_count": 6,
   "id": "61070182-1d78-4acf-9876-5883cd3898ce",
   "metadata": {
    "execution": {
     "iopub.execute_input": "2022-10-31T14:20:13.591601Z",
     "iopub.status.busy": "2022-10-31T14:20:13.590787Z",
     "iopub.status.idle": "2022-10-31T14:20:13.601072Z",
     "shell.execute_reply": "2022-10-31T14:20:13.600340Z",
     "shell.execute_reply.started": "2022-10-31T14:20:13.591568Z"
    },
    "tags": []
   },
   "outputs": [
    {
     "data": {
      "text/html": [
       "<div>\n",
       "<style scoped>\n",
       "    .dataframe tbody tr th:only-of-type {\n",
       "        vertical-align: middle;\n",
       "    }\n",
       "\n",
       "    .dataframe tbody tr th {\n",
       "        vertical-align: top;\n",
       "    }\n",
       "\n",
       "    .dataframe thead th {\n",
       "        text-align: right;\n",
       "    }\n",
       "</style>\n",
       "<table border=\"1\" class=\"dataframe\">\n",
       "  <thead>\n",
       "    <tr style=\"text-align: right;\">\n",
       "      <th></th>\n",
       "      <th>&lt;sample&gt;</th>\n",
       "      <th>mpmat_index</th>\n",
       "      <th>treat_mut_count.norm</th>\n",
       "      <th>treat_count.norm</th>\n",
       "    </tr>\n",
       "  </thead>\n",
       "  <tbody>\n",
       "    <tr>\n",
       "      <th>0</th>\n",
       "      <td>DetectSeq_ATP8-DddA11_REP-1</td>\n",
       "      <td>chr1_631391_631393</td>\n",
       "      <td>2.801598</td>\n",
       "      <td>9.507550</td>\n",
       "    </tr>\n",
       "    <tr>\n",
       "      <th>1</th>\n",
       "      <td>DetectSeq_ATP8-DddA6_REP-1</td>\n",
       "      <td>chr1_631391_631393</td>\n",
       "      <td>2.750688</td>\n",
       "      <td>7.487270</td>\n",
       "    </tr>\n",
       "    <tr>\n",
       "      <th>2</th>\n",
       "      <td>DetectSeq_ATP8-DddAwt_REP-1</td>\n",
       "      <td>chr1_631391_631393</td>\n",
       "      <td>0.181582</td>\n",
       "      <td>1.210549</td>\n",
       "    </tr>\n",
       "    <tr>\n",
       "      <th>3</th>\n",
       "      <td>DetectSeq_ATP8-DddA11_REP-1</td>\n",
       "      <td>chr1_631778_631791</td>\n",
       "      <td>3.260583</td>\n",
       "      <td>8.839935</td>\n",
       "    </tr>\n",
       "    <tr>\n",
       "      <th>4</th>\n",
       "      <td>DetectSeq_ATP8-DddA6_REP-1</td>\n",
       "      <td>chr1_631778_631791</td>\n",
       "      <td>3.001335</td>\n",
       "      <td>9.299640</td>\n",
       "    </tr>\n",
       "    <tr>\n",
       "      <th>...</th>\n",
       "      <td>...</td>\n",
       "      <td>...</td>\n",
       "      <td>...</td>\n",
       "      <td>...</td>\n",
       "    </tr>\n",
       "    <tr>\n",
       "      <th>4002</th>\n",
       "      <td>DetectSeq_SIRT6-DddA11_REP-1</td>\n",
       "      <td>chrX_41024523_41024536</td>\n",
       "      <td>0.311431</td>\n",
       "      <td>0.528320</td>\n",
       "    </tr>\n",
       "    <tr>\n",
       "      <th>4003</th>\n",
       "      <td>DetectSeq_SIRT6-DddA11_REP-1</td>\n",
       "      <td>chrX_72126743_72126762</td>\n",
       "      <td>0.088980</td>\n",
       "      <td>0.139032</td>\n",
       "    </tr>\n",
       "    <tr>\n",
       "      <th>4004</th>\n",
       "      <td>DetectSeq_SIRT6-DddA11_REP-1</td>\n",
       "      <td>chrX_103211203_103211249</td>\n",
       "      <td>0.172399</td>\n",
       "      <td>0.378166</td>\n",
       "    </tr>\n",
       "    <tr>\n",
       "      <th>4005</th>\n",
       "      <td>DetectSeq_SIRT6-DddA11_REP-1</td>\n",
       "      <td>chrX_132292961_132292983</td>\n",
       "      <td>0.088980</td>\n",
       "      <td>0.228012</td>\n",
       "    </tr>\n",
       "    <tr>\n",
       "      <th>4006</th>\n",
       "      <td>DetectSeq_SIRT6-DddA11_REP-1</td>\n",
       "      <td>chrX_133005219_133005236</td>\n",
       "      <td>0.127909</td>\n",
       "      <td>0.255818</td>\n",
       "    </tr>\n",
       "  </tbody>\n",
       "</table>\n",
       "<p>4007 rows × 4 columns</p>\n",
       "</div>"
      ],
      "text/plain": [
       "                          <sample>               mpmat_index  \\\n",
       "0      DetectSeq_ATP8-DddA11_REP-1        chr1_631391_631393   \n",
       "1       DetectSeq_ATP8-DddA6_REP-1        chr1_631391_631393   \n",
       "2      DetectSeq_ATP8-DddAwt_REP-1        chr1_631391_631393   \n",
       "3      DetectSeq_ATP8-DddA11_REP-1        chr1_631778_631791   \n",
       "4       DetectSeq_ATP8-DddA6_REP-1        chr1_631778_631791   \n",
       "...                            ...                       ...   \n",
       "4002  DetectSeq_SIRT6-DddA11_REP-1    chrX_41024523_41024536   \n",
       "4003  DetectSeq_SIRT6-DddA11_REP-1    chrX_72126743_72126762   \n",
       "4004  DetectSeq_SIRT6-DddA11_REP-1  chrX_103211203_103211249   \n",
       "4005  DetectSeq_SIRT6-DddA11_REP-1  chrX_132292961_132292983   \n",
       "4006  DetectSeq_SIRT6-DddA11_REP-1  chrX_133005219_133005236   \n",
       "\n",
       "      treat_mut_count.norm  treat_count.norm  \n",
       "0                 2.801598          9.507550  \n",
       "1                 2.750688          7.487270  \n",
       "2                 0.181582          1.210549  \n",
       "3                 3.260583          8.839935  \n",
       "4                 3.001335          9.299640  \n",
       "...                    ...               ...  \n",
       "4002              0.311431          0.528320  \n",
       "4003              0.088980          0.139032  \n",
       "4004              0.172399          0.378166  \n",
       "4005              0.088980          0.228012  \n",
       "4006              0.127909          0.255818  \n",
       "\n",
       "[4007 rows x 4 columns]"
      ]
     },
     "execution_count": 6,
     "metadata": {},
     "output_type": "execute_result"
    }
   ],
   "source": [
    "df_pois_sel = df_pois[['<sample>', 'mpmat_index',\n",
    "                       'treat_mut_count.norm', 'treat_count.norm']]\n",
    "df_pois_sel"
   ]
  },
  {
   "cell_type": "code",
   "execution_count": 7,
   "id": "f63d52a9-2b1d-4be6-bbf4-1d2b315cac3c",
   "metadata": {
    "execution": {
     "iopub.execute_input": "2022-10-31T14:20:15.739184Z",
     "iopub.status.busy": "2022-10-31T14:20:15.738908Z",
     "iopub.status.idle": "2022-10-31T14:20:15.786723Z",
     "shell.execute_reply": "2022-10-31T14:20:15.786117Z",
     "shell.execute_reply.started": "2022-10-31T14:20:15.739165Z"
    },
    "tags": []
   },
   "outputs": [
    {
     "data": {
      "text/html": [
       "<div>\n",
       "<style scoped>\n",
       "    .dataframe tbody tr th:only-of-type {\n",
       "        vertical-align: middle;\n",
       "    }\n",
       "\n",
       "    .dataframe tbody tr th {\n",
       "        vertical-align: top;\n",
       "    }\n",
       "\n",
       "    .dataframe thead th {\n",
       "        text-align: right;\n",
       "    }\n",
       "</style>\n",
       "<table border=\"1\" class=\"dataframe\">\n",
       "  <thead>\n",
       "    <tr style=\"text-align: right;\">\n",
       "      <th></th>\n",
       "      <th>&lt;sample&gt;</th>\n",
       "      <th>mpmat_index</th>\n",
       "      <th>treat_mut_count.norm</th>\n",
       "      <th>treat_count.norm</th>\n",
       "      <th>sample</th>\n",
       "      <th>detect_seq_score</th>\n",
       "    </tr>\n",
       "  </thead>\n",
       "  <tbody>\n",
       "    <tr>\n",
       "      <th>0</th>\n",
       "      <td>DetectSeq_ATP8-DddA11_REP-1</td>\n",
       "      <td>chr1_631391_631393</td>\n",
       "      <td>2.801598</td>\n",
       "      <td>9.507550</td>\n",
       "      <td>DetectSeq_ATP8-DddA11_REP-1</td>\n",
       "      <td>0.243265</td>\n",
       "    </tr>\n",
       "    <tr>\n",
       "      <th>1</th>\n",
       "      <td>DetectSeq_ATP8-DddA6_REP-1</td>\n",
       "      <td>chr1_631391_631393</td>\n",
       "      <td>2.750688</td>\n",
       "      <td>7.487270</td>\n",
       "      <td>DetectSeq_ATP8-DddA6_REP-1</td>\n",
       "      <td>0.371259</td>\n",
       "    </tr>\n",
       "    <tr>\n",
       "      <th>2</th>\n",
       "      <td>DetectSeq_ATP8-DddAwt_REP-1</td>\n",
       "      <td>chr1_631391_631393</td>\n",
       "      <td>0.181582</td>\n",
       "      <td>1.210549</td>\n",
       "      <td>DetectSeq_ATP8-DddAwt_REP-1</td>\n",
       "      <td>0.004086</td>\n",
       "    </tr>\n",
       "    <tr>\n",
       "      <th>3</th>\n",
       "      <td>DetectSeq_ATP8-DddA11_REP-1</td>\n",
       "      <td>chr1_631778_631791</td>\n",
       "      <td>3.260583</td>\n",
       "      <td>8.839935</td>\n",
       "      <td>DetectSeq_ATP8-DddA11_REP-1</td>\n",
       "      <td>0.443596</td>\n",
       "    </tr>\n",
       "    <tr>\n",
       "      <th>4</th>\n",
       "      <td>DetectSeq_ATP8-DddA6_REP-1</td>\n",
       "      <td>chr1_631778_631791</td>\n",
       "      <td>3.001335</td>\n",
       "      <td>9.299640</td>\n",
       "      <td>DetectSeq_ATP8-DddA6_REP-1</td>\n",
       "      <td>0.312616</td>\n",
       "    </tr>\n",
       "    <tr>\n",
       "      <th>...</th>\n",
       "      <td>...</td>\n",
       "      <td>...</td>\n",
       "      <td>...</td>\n",
       "      <td>...</td>\n",
       "      <td>...</td>\n",
       "      <td>...</td>\n",
       "    </tr>\n",
       "    <tr>\n",
       "      <th>4002</th>\n",
       "      <td>DetectSeq_SIRT6-DddA11_REP-1</td>\n",
       "      <td>chrX_41024523_41024536</td>\n",
       "      <td>0.311431</td>\n",
       "      <td>0.528320</td>\n",
       "      <td>DetectSeq_SIRT6-DddA11_REP-1</td>\n",
       "      <td>0.108216</td>\n",
       "    </tr>\n",
       "    <tr>\n",
       "      <th>4003</th>\n",
       "      <td>DetectSeq_SIRT6-DddA11_REP-1</td>\n",
       "      <td>chrX_72126743_72126762</td>\n",
       "      <td>0.088980</td>\n",
       "      <td>0.139032</td>\n",
       "      <td>DetectSeq_SIRT6-DddA11_REP-1</td>\n",
       "      <td>0.036446</td>\n",
       "    </tr>\n",
       "    <tr>\n",
       "      <th>4004</th>\n",
       "      <td>DetectSeq_SIRT6-DddA11_REP-1</td>\n",
       "      <td>chrX_103211203_103211249</td>\n",
       "      <td>0.172399</td>\n",
       "      <td>0.378166</td>\n",
       "      <td>DetectSeq_SIRT6-DddA11_REP-1</td>\n",
       "      <td>0.035829</td>\n",
       "    </tr>\n",
       "    <tr>\n",
       "      <th>4005</th>\n",
       "      <td>DetectSeq_SIRT6-DddA11_REP-1</td>\n",
       "      <td>chrX_132292961_132292983</td>\n",
       "      <td>0.088980</td>\n",
       "      <td>0.228012</td>\n",
       "      <td>DetectSeq_SIRT6-DddA11_REP-1</td>\n",
       "      <td>0.013551</td>\n",
       "    </tr>\n",
       "    <tr>\n",
       "      <th>4006</th>\n",
       "      <td>DetectSeq_SIRT6-DddA11_REP-1</td>\n",
       "      <td>chrX_133005219_133005236</td>\n",
       "      <td>0.127909</td>\n",
       "      <td>0.255818</td>\n",
       "      <td>DetectSeq_SIRT6-DddA11_REP-1</td>\n",
       "      <td>0.031977</td>\n",
       "    </tr>\n",
       "  </tbody>\n",
       "</table>\n",
       "<p>4007 rows × 6 columns</p>\n",
       "</div>"
      ],
      "text/plain": [
       "                          <sample>               mpmat_index  \\\n",
       "0      DetectSeq_ATP8-DddA11_REP-1        chr1_631391_631393   \n",
       "1       DetectSeq_ATP8-DddA6_REP-1        chr1_631391_631393   \n",
       "2      DetectSeq_ATP8-DddAwt_REP-1        chr1_631391_631393   \n",
       "3      DetectSeq_ATP8-DddA11_REP-1        chr1_631778_631791   \n",
       "4       DetectSeq_ATP8-DddA6_REP-1        chr1_631778_631791   \n",
       "...                            ...                       ...   \n",
       "4002  DetectSeq_SIRT6-DddA11_REP-1    chrX_41024523_41024536   \n",
       "4003  DetectSeq_SIRT6-DddA11_REP-1    chrX_72126743_72126762   \n",
       "4004  DetectSeq_SIRT6-DddA11_REP-1  chrX_103211203_103211249   \n",
       "4005  DetectSeq_SIRT6-DddA11_REP-1  chrX_132292961_132292983   \n",
       "4006  DetectSeq_SIRT6-DddA11_REP-1  chrX_133005219_133005236   \n",
       "\n",
       "      treat_mut_count.norm  treat_count.norm                        sample  \\\n",
       "0                 2.801598          9.507550   DetectSeq_ATP8-DddA11_REP-1   \n",
       "1                 2.750688          7.487270    DetectSeq_ATP8-DddA6_REP-1   \n",
       "2                 0.181582          1.210549   DetectSeq_ATP8-DddAwt_REP-1   \n",
       "3                 3.260583          8.839935   DetectSeq_ATP8-DddA11_REP-1   \n",
       "4                 3.001335          9.299640    DetectSeq_ATP8-DddA6_REP-1   \n",
       "...                    ...               ...                           ...   \n",
       "4002              0.311431          0.528320  DetectSeq_SIRT6-DddA11_REP-1   \n",
       "4003              0.088980          0.139032  DetectSeq_SIRT6-DddA11_REP-1   \n",
       "4004              0.172399          0.378166  DetectSeq_SIRT6-DddA11_REP-1   \n",
       "4005              0.088980          0.228012  DetectSeq_SIRT6-DddA11_REP-1   \n",
       "4006              0.127909          0.255818  DetectSeq_SIRT6-DddA11_REP-1   \n",
       "\n",
       "      detect_seq_score  \n",
       "0             0.243265  \n",
       "1             0.371259  \n",
       "2             0.004086  \n",
       "3             0.443596  \n",
       "4             0.312616  \n",
       "...                ...  \n",
       "4002          0.108216  \n",
       "4003          0.036446  \n",
       "4004          0.035829  \n",
       "4005          0.013551  \n",
       "4006          0.031977  \n",
       "\n",
       "[4007 rows x 6 columns]"
      ]
     },
     "execution_count": 7,
     "metadata": {},
     "output_type": "execute_result"
    }
   ],
   "source": [
    "df_pois_sel = (\n",
    "    df_pois_sel.\n",
    "    assign(\n",
    "        sample=df_pois_sel['<sample>'],\n",
    "        detect_seq_score=df_pois_sel.apply( lambda x: ((x['treat_mut_count.norm'] /x['treat_count.norm']) **2) * x['treat_mut_count.norm'], axis=1),\n",
    "    )\n",
    ")\n",
    "\n",
    "df_pois_sel"
   ]
  },
  {
   "cell_type": "code",
   "execution_count": 8,
   "id": "b9b90689-d795-4ed1-9b09-126259b1f056",
   "metadata": {
    "execution": {
     "iopub.execute_input": "2022-10-31T14:20:18.856653Z",
     "iopub.status.busy": "2022-10-31T14:20:18.856390Z",
     "iopub.status.idle": "2022-10-31T14:20:18.865136Z",
     "shell.execute_reply": "2022-10-31T14:20:18.864649Z",
     "shell.execute_reply.started": "2022-10-31T14:20:18.856634Z"
    },
    "tags": []
   },
   "outputs": [
    {
     "data": {
      "text/html": [
       "<div>\n",
       "<style scoped>\n",
       "    .dataframe tbody tr th:only-of-type {\n",
       "        vertical-align: middle;\n",
       "    }\n",
       "\n",
       "    .dataframe tbody tr th {\n",
       "        vertical-align: top;\n",
       "    }\n",
       "\n",
       "    .dataframe thead th {\n",
       "        text-align: right;\n",
       "    }\n",
       "</style>\n",
       "<table border=\"1\" class=\"dataframe\">\n",
       "  <thead>\n",
       "    <tr style=\"text-align: right;\">\n",
       "      <th></th>\n",
       "      <th>mpmat_index</th>\n",
       "      <th>sample</th>\n",
       "      <th>detect_seq_score</th>\n",
       "    </tr>\n",
       "  </thead>\n",
       "  <tbody>\n",
       "    <tr>\n",
       "      <th>0</th>\n",
       "      <td>chr1_631391_631393</td>\n",
       "      <td>DetectSeq_ATP8-DddA11_REP-1</td>\n",
       "      <td>0.243265</td>\n",
       "    </tr>\n",
       "    <tr>\n",
       "      <th>1</th>\n",
       "      <td>chr1_631391_631393</td>\n",
       "      <td>DetectSeq_ATP8-DddA6_REP-1</td>\n",
       "      <td>0.371259</td>\n",
       "    </tr>\n",
       "    <tr>\n",
       "      <th>2</th>\n",
       "      <td>chr1_631391_631393</td>\n",
       "      <td>DetectSeq_ATP8-DddAwt_REP-1</td>\n",
       "      <td>0.004086</td>\n",
       "    </tr>\n",
       "    <tr>\n",
       "      <th>3</th>\n",
       "      <td>chr1_631778_631791</td>\n",
       "      <td>DetectSeq_ATP8-DddA11_REP-1</td>\n",
       "      <td>0.443596</td>\n",
       "    </tr>\n",
       "    <tr>\n",
       "      <th>4</th>\n",
       "      <td>chr1_631778_631791</td>\n",
       "      <td>DetectSeq_ATP8-DddA6_REP-1</td>\n",
       "      <td>0.312616</td>\n",
       "    </tr>\n",
       "    <tr>\n",
       "      <th>...</th>\n",
       "      <td>...</td>\n",
       "      <td>...</td>\n",
       "      <td>...</td>\n",
       "    </tr>\n",
       "    <tr>\n",
       "      <th>4002</th>\n",
       "      <td>chrX_41024523_41024536</td>\n",
       "      <td>DetectSeq_SIRT6-DddA11_REP-1</td>\n",
       "      <td>0.108216</td>\n",
       "    </tr>\n",
       "    <tr>\n",
       "      <th>4003</th>\n",
       "      <td>chrX_72126743_72126762</td>\n",
       "      <td>DetectSeq_SIRT6-DddA11_REP-1</td>\n",
       "      <td>0.036446</td>\n",
       "    </tr>\n",
       "    <tr>\n",
       "      <th>4004</th>\n",
       "      <td>chrX_103211203_103211249</td>\n",
       "      <td>DetectSeq_SIRT6-DddA11_REP-1</td>\n",
       "      <td>0.035829</td>\n",
       "    </tr>\n",
       "    <tr>\n",
       "      <th>4005</th>\n",
       "      <td>chrX_132292961_132292983</td>\n",
       "      <td>DetectSeq_SIRT6-DddA11_REP-1</td>\n",
       "      <td>0.013551</td>\n",
       "    </tr>\n",
       "    <tr>\n",
       "      <th>4006</th>\n",
       "      <td>chrX_133005219_133005236</td>\n",
       "      <td>DetectSeq_SIRT6-DddA11_REP-1</td>\n",
       "      <td>0.031977</td>\n",
       "    </tr>\n",
       "  </tbody>\n",
       "</table>\n",
       "<p>4007 rows × 3 columns</p>\n",
       "</div>"
      ],
      "text/plain": [
       "                   mpmat_index                        sample  detect_seq_score\n",
       "0           chr1_631391_631393   DetectSeq_ATP8-DddA11_REP-1          0.243265\n",
       "1           chr1_631391_631393    DetectSeq_ATP8-DddA6_REP-1          0.371259\n",
       "2           chr1_631391_631393   DetectSeq_ATP8-DddAwt_REP-1          0.004086\n",
       "3           chr1_631778_631791   DetectSeq_ATP8-DddA11_REP-1          0.443596\n",
       "4           chr1_631778_631791    DetectSeq_ATP8-DddA6_REP-1          0.312616\n",
       "...                        ...                           ...               ...\n",
       "4002    chrX_41024523_41024536  DetectSeq_SIRT6-DddA11_REP-1          0.108216\n",
       "4003    chrX_72126743_72126762  DetectSeq_SIRT6-DddA11_REP-1          0.036446\n",
       "4004  chrX_103211203_103211249  DetectSeq_SIRT6-DddA11_REP-1          0.035829\n",
       "4005  chrX_132292961_132292983  DetectSeq_SIRT6-DddA11_REP-1          0.013551\n",
       "4006  chrX_133005219_133005236  DetectSeq_SIRT6-DddA11_REP-1          0.031977\n",
       "\n",
       "[4007 rows x 3 columns]"
      ]
     },
     "execution_count": 8,
     "metadata": {},
     "output_type": "execute_result"
    }
   ],
   "source": [
    "df_detect_seq_score = df_pois_sel[['mpmat_index', 'sample', 'detect_seq_score']].copy()\n",
    "df_detect_seq_score"
   ]
  },
  {
   "cell_type": "code",
   "execution_count": 424,
   "id": "1749830a-bf51-4dac-ab09-dccfd93a0b44",
   "metadata": {
    "execution": {
     "iopub.execute_input": "2022-10-31T17:45:15.922286Z",
     "iopub.status.busy": "2022-10-31T17:45:15.922039Z",
     "iopub.status.idle": "2022-10-31T17:45:15.948018Z",
     "shell.execute_reply": "2022-10-31T17:45:15.947528Z",
     "shell.execute_reply.started": "2022-10-31T17:45:15.922267Z"
    },
    "tags": []
   },
   "outputs": [
    {
     "name": "stdout",
     "output_type": "stream",
     "text": [
      "DetectSeq_ATP8-DddA11_REP-1\n",
      "DetectSeq_ATP8-DddA6_REP-1\n",
      "DetectSeq_ATP8-DddAwt_REP-1\n",
      "DetectSeq_JAK2-DddA11_REP-1\n",
      "DetectSeq_SIRT6-DddA11_REP-1\n"
     ]
    },
    {
     "data": {
      "text/html": [
       "<div>\n",
       "<style scoped>\n",
       "    .dataframe tbody tr th:only-of-type {\n",
       "        vertical-align: middle;\n",
       "    }\n",
       "\n",
       "    .dataframe tbody tr th {\n",
       "        vertical-align: top;\n",
       "    }\n",
       "\n",
       "    .dataframe thead th {\n",
       "        text-align: right;\n",
       "    }\n",
       "</style>\n",
       "<table border=\"1\" class=\"dataframe\">\n",
       "  <thead>\n",
       "    <tr style=\"text-align: right;\">\n",
       "      <th></th>\n",
       "      <th>mpmat_index</th>\n",
       "      <th>score_DetectSeq_ATP8-DddA11_REP-1</th>\n",
       "      <th>score_DetectSeq_ATP8-DddA6_REP-1</th>\n",
       "      <th>score_DetectSeq_ATP8-DddAwt_REP-1</th>\n",
       "      <th>score_DetectSeq_JAK2-DddA11_REP-1</th>\n",
       "      <th>score_DetectSeq_SIRT6-DddA11_REP-1</th>\n",
       "    </tr>\n",
       "  </thead>\n",
       "  <tbody>\n",
       "    <tr>\n",
       "      <th>0</th>\n",
       "      <td>chr1_631391_631393</td>\n",
       "      <td>0.243265</td>\n",
       "      <td>0.371259</td>\n",
       "      <td>0.004086</td>\n",
       "      <td>0.0</td>\n",
       "      <td>0.000000</td>\n",
       "    </tr>\n",
       "    <tr>\n",
       "      <th>1</th>\n",
       "      <td>chr1_631778_631791</td>\n",
       "      <td>0.443596</td>\n",
       "      <td>0.312616</td>\n",
       "      <td>0.000000</td>\n",
       "      <td>0.0</td>\n",
       "      <td>0.000000</td>\n",
       "    </tr>\n",
       "    <tr>\n",
       "      <th>2</th>\n",
       "      <td>chr1_633067_633147</td>\n",
       "      <td>0.181528</td>\n",
       "      <td>0.105701</td>\n",
       "      <td>0.000000</td>\n",
       "      <td>0.0</td>\n",
       "      <td>0.000000</td>\n",
       "    </tr>\n",
       "    <tr>\n",
       "      <th>3</th>\n",
       "      <td>chr1_633244_633286</td>\n",
       "      <td>0.031852</td>\n",
       "      <td>0.064643</td>\n",
       "      <td>0.000000</td>\n",
       "      <td>0.0</td>\n",
       "      <td>0.000000</td>\n",
       "    </tr>\n",
       "    <tr>\n",
       "      <th>4</th>\n",
       "      <td>chr1_633376_633442</td>\n",
       "      <td>0.063662</td>\n",
       "      <td>0.166584</td>\n",
       "      <td>0.011412</td>\n",
       "      <td>0.0</td>\n",
       "      <td>0.000000</td>\n",
       "    </tr>\n",
       "    <tr>\n",
       "      <th>...</th>\n",
       "      <td>...</td>\n",
       "      <td>...</td>\n",
       "      <td>...</td>\n",
       "      <td>...</td>\n",
       "      <td>...</td>\n",
       "      <td>...</td>\n",
       "    </tr>\n",
       "    <tr>\n",
       "      <th>3228</th>\n",
       "      <td>chrX_41024523_41024536</td>\n",
       "      <td>0.000000</td>\n",
       "      <td>0.000000</td>\n",
       "      <td>0.000000</td>\n",
       "      <td>0.0</td>\n",
       "      <td>0.108216</td>\n",
       "    </tr>\n",
       "    <tr>\n",
       "      <th>3229</th>\n",
       "      <td>chrX_72126743_72126762</td>\n",
       "      <td>0.000000</td>\n",
       "      <td>0.000000</td>\n",
       "      <td>0.000000</td>\n",
       "      <td>0.0</td>\n",
       "      <td>0.036446</td>\n",
       "    </tr>\n",
       "    <tr>\n",
       "      <th>3230</th>\n",
       "      <td>chrX_103211203_103211249</td>\n",
       "      <td>0.000000</td>\n",
       "      <td>0.000000</td>\n",
       "      <td>0.000000</td>\n",
       "      <td>0.0</td>\n",
       "      <td>0.035829</td>\n",
       "    </tr>\n",
       "    <tr>\n",
       "      <th>3231</th>\n",
       "      <td>chrX_132292961_132292983</td>\n",
       "      <td>0.000000</td>\n",
       "      <td>0.000000</td>\n",
       "      <td>0.000000</td>\n",
       "      <td>0.0</td>\n",
       "      <td>0.013551</td>\n",
       "    </tr>\n",
       "    <tr>\n",
       "      <th>3232</th>\n",
       "      <td>chrX_133005219_133005236</td>\n",
       "      <td>0.000000</td>\n",
       "      <td>0.000000</td>\n",
       "      <td>0.000000</td>\n",
       "      <td>0.0</td>\n",
       "      <td>0.031977</td>\n",
       "    </tr>\n",
       "  </tbody>\n",
       "</table>\n",
       "<p>3233 rows × 6 columns</p>\n",
       "</div>"
      ],
      "text/plain": [
       "                   mpmat_index  score_DetectSeq_ATP8-DddA11_REP-1  \\\n",
       "0           chr1_631391_631393                           0.243265   \n",
       "1           chr1_631778_631791                           0.443596   \n",
       "2           chr1_633067_633147                           0.181528   \n",
       "3           chr1_633244_633286                           0.031852   \n",
       "4           chr1_633376_633442                           0.063662   \n",
       "...                        ...                                ...   \n",
       "3228    chrX_41024523_41024536                           0.000000   \n",
       "3229    chrX_72126743_72126762                           0.000000   \n",
       "3230  chrX_103211203_103211249                           0.000000   \n",
       "3231  chrX_132292961_132292983                           0.000000   \n",
       "3232  chrX_133005219_133005236                           0.000000   \n",
       "\n",
       "      score_DetectSeq_ATP8-DddA6_REP-1  score_DetectSeq_ATP8-DddAwt_REP-1  \\\n",
       "0                             0.371259                           0.004086   \n",
       "1                             0.312616                           0.000000   \n",
       "2                             0.105701                           0.000000   \n",
       "3                             0.064643                           0.000000   \n",
       "4                             0.166584                           0.011412   \n",
       "...                                ...                                ...   \n",
       "3228                          0.000000                           0.000000   \n",
       "3229                          0.000000                           0.000000   \n",
       "3230                          0.000000                           0.000000   \n",
       "3231                          0.000000                           0.000000   \n",
       "3232                          0.000000                           0.000000   \n",
       "\n",
       "      score_DetectSeq_JAK2-DddA11_REP-1  score_DetectSeq_SIRT6-DddA11_REP-1  \n",
       "0                                   0.0                            0.000000  \n",
       "1                                   0.0                            0.000000  \n",
       "2                                   0.0                            0.000000  \n",
       "3                                   0.0                            0.000000  \n",
       "4                                   0.0                            0.000000  \n",
       "...                                 ...                                 ...  \n",
       "3228                                0.0                            0.108216  \n",
       "3229                                0.0                            0.036446  \n",
       "3230                                0.0                            0.035829  \n",
       "3231                                0.0                            0.013551  \n",
       "3232                                0.0                            0.031977  \n",
       "\n",
       "[3233 rows x 6 columns]"
      ]
     },
     "execution_count": 424,
     "metadata": {},
     "output_type": "execute_result"
    }
   ],
   "source": [
    "df_wide = pd.DataFrame(\n",
    "    df_detect_seq_score.mpmat_index.unique(),\n",
    "    columns=['mpmat_index'])\n",
    "\n",
    "\n",
    "for _dfn, _df in df_detect_seq_score.groupby('sample'):\n",
    "    print(_dfn)\n",
    "    _df.columns = ['mpmat_index', _dfn, f'score_{_dfn}']\n",
    "    df_wide = pd.merge(\n",
    "        left=df_wide, right=_df.iloc[:, [0, 2]],\n",
    "        on='mpmat_index', how='left')\n",
    "\n",
    "df_wide_score = df_wide.fillna(0)\n",
    "df_wide_score\n",
    "# df_wide"
   ]
  },
  {
   "cell_type": "code",
   "execution_count": 425,
   "id": "abc4edee-1874-44cb-9410-6fcb74ab198d",
   "metadata": {
    "execution": {
     "iopub.execute_input": "2022-10-31T17:45:16.589186Z",
     "iopub.status.busy": "2022-10-31T17:45:16.588850Z",
     "iopub.status.idle": "2022-10-31T17:45:16.598862Z",
     "shell.execute_reply": "2022-10-31T17:45:16.598361Z",
     "shell.execute_reply.started": "2022-10-31T17:45:16.589166Z"
    },
    "tags": []
   },
   "outputs": [
    {
     "data": {
      "text/html": [
       "<div>\n",
       "<style scoped>\n",
       "    .dataframe tbody tr th:only-of-type {\n",
       "        vertical-align: middle;\n",
       "    }\n",
       "\n",
       "    .dataframe tbody tr th {\n",
       "        vertical-align: top;\n",
       "    }\n",
       "\n",
       "    .dataframe thead th {\n",
       "        text-align: right;\n",
       "    }\n",
       "</style>\n",
       "<table border=\"1\" class=\"dataframe\">\n",
       "  <thead>\n",
       "    <tr style=\"text-align: right;\">\n",
       "      <th></th>\n",
       "      <th>mpmat_index</th>\n",
       "      <th>ATP8_DddA11_1</th>\n",
       "      <th>ATP8_DddA6_1</th>\n",
       "      <th>ATP8_DddAwt_1</th>\n",
       "      <th>JAK2_DddA11_1</th>\n",
       "      <th>SIRT6_DddA11_1</th>\n",
       "    </tr>\n",
       "  </thead>\n",
       "  <tbody>\n",
       "    <tr>\n",
       "      <th>0</th>\n",
       "      <td>chr1_631391_631393</td>\n",
       "      <td>0.243265</td>\n",
       "      <td>0.371259</td>\n",
       "      <td>0.004086</td>\n",
       "      <td>0.0</td>\n",
       "      <td>0.000000</td>\n",
       "    </tr>\n",
       "    <tr>\n",
       "      <th>1</th>\n",
       "      <td>chr1_631778_631791</td>\n",
       "      <td>0.443596</td>\n",
       "      <td>0.312616</td>\n",
       "      <td>0.000000</td>\n",
       "      <td>0.0</td>\n",
       "      <td>0.000000</td>\n",
       "    </tr>\n",
       "    <tr>\n",
       "      <th>2</th>\n",
       "      <td>chr1_633067_633147</td>\n",
       "      <td>0.181528</td>\n",
       "      <td>0.105701</td>\n",
       "      <td>0.000000</td>\n",
       "      <td>0.0</td>\n",
       "      <td>0.000000</td>\n",
       "    </tr>\n",
       "    <tr>\n",
       "      <th>3</th>\n",
       "      <td>chr1_633244_633286</td>\n",
       "      <td>0.031852</td>\n",
       "      <td>0.064643</td>\n",
       "      <td>0.000000</td>\n",
       "      <td>0.0</td>\n",
       "      <td>0.000000</td>\n",
       "    </tr>\n",
       "    <tr>\n",
       "      <th>4</th>\n",
       "      <td>chr1_633376_633442</td>\n",
       "      <td>0.063662</td>\n",
       "      <td>0.166584</td>\n",
       "      <td>0.011412</td>\n",
       "      <td>0.0</td>\n",
       "      <td>0.000000</td>\n",
       "    </tr>\n",
       "    <tr>\n",
       "      <th>...</th>\n",
       "      <td>...</td>\n",
       "      <td>...</td>\n",
       "      <td>...</td>\n",
       "      <td>...</td>\n",
       "      <td>...</td>\n",
       "      <td>...</td>\n",
       "    </tr>\n",
       "    <tr>\n",
       "      <th>3228</th>\n",
       "      <td>chrX_41024523_41024536</td>\n",
       "      <td>0.000000</td>\n",
       "      <td>0.000000</td>\n",
       "      <td>0.000000</td>\n",
       "      <td>0.0</td>\n",
       "      <td>0.108216</td>\n",
       "    </tr>\n",
       "    <tr>\n",
       "      <th>3229</th>\n",
       "      <td>chrX_72126743_72126762</td>\n",
       "      <td>0.000000</td>\n",
       "      <td>0.000000</td>\n",
       "      <td>0.000000</td>\n",
       "      <td>0.0</td>\n",
       "      <td>0.036446</td>\n",
       "    </tr>\n",
       "    <tr>\n",
       "      <th>3230</th>\n",
       "      <td>chrX_103211203_103211249</td>\n",
       "      <td>0.000000</td>\n",
       "      <td>0.000000</td>\n",
       "      <td>0.000000</td>\n",
       "      <td>0.0</td>\n",
       "      <td>0.035829</td>\n",
       "    </tr>\n",
       "    <tr>\n",
       "      <th>3231</th>\n",
       "      <td>chrX_132292961_132292983</td>\n",
       "      <td>0.000000</td>\n",
       "      <td>0.000000</td>\n",
       "      <td>0.000000</td>\n",
       "      <td>0.0</td>\n",
       "      <td>0.013551</td>\n",
       "    </tr>\n",
       "    <tr>\n",
       "      <th>3232</th>\n",
       "      <td>chrX_133005219_133005236</td>\n",
       "      <td>0.000000</td>\n",
       "      <td>0.000000</td>\n",
       "      <td>0.000000</td>\n",
       "      <td>0.0</td>\n",
       "      <td>0.031977</td>\n",
       "    </tr>\n",
       "  </tbody>\n",
       "</table>\n",
       "<p>3233 rows × 6 columns</p>\n",
       "</div>"
      ],
      "text/plain": [
       "                   mpmat_index  ATP8_DddA11_1  ATP8_DddA6_1  ATP8_DddAwt_1  \\\n",
       "0           chr1_631391_631393       0.243265      0.371259       0.004086   \n",
       "1           chr1_631778_631791       0.443596      0.312616       0.000000   \n",
       "2           chr1_633067_633147       0.181528      0.105701       0.000000   \n",
       "3           chr1_633244_633286       0.031852      0.064643       0.000000   \n",
       "4           chr1_633376_633442       0.063662      0.166584       0.011412   \n",
       "...                        ...            ...           ...            ...   \n",
       "3228    chrX_41024523_41024536       0.000000      0.000000       0.000000   \n",
       "3229    chrX_72126743_72126762       0.000000      0.000000       0.000000   \n",
       "3230  chrX_103211203_103211249       0.000000      0.000000       0.000000   \n",
       "3231  chrX_132292961_132292983       0.000000      0.000000       0.000000   \n",
       "3232  chrX_133005219_133005236       0.000000      0.000000       0.000000   \n",
       "\n",
       "      JAK2_DddA11_1  SIRT6_DddA11_1  \n",
       "0               0.0        0.000000  \n",
       "1               0.0        0.000000  \n",
       "2               0.0        0.000000  \n",
       "3               0.0        0.000000  \n",
       "4               0.0        0.000000  \n",
       "...             ...             ...  \n",
       "3228            0.0        0.108216  \n",
       "3229            0.0        0.036446  \n",
       "3230            0.0        0.035829  \n",
       "3231            0.0        0.013551  \n",
       "3232            0.0        0.031977  \n",
       "\n",
       "[3233 rows x 6 columns]"
      ]
     },
     "execution_count": 425,
     "metadata": {},
     "output_type": "execute_result"
    }
   ],
   "source": [
    "df_wide_score.columns = [\n",
    "    \"mpmat_index\",\n",
    "    \"ATP8_DddA11_1\",\n",
    "    \"ATP8_DddA6_1\",\n",
    "    \"ATP8_DddAwt_1\",\n",
    "    \"JAK2_DddA11_1\",\n",
    "    \"SIRT6_DddA11_1\",\n",
    "]\n",
    "\n",
    "df_wide_score"
   ]
  },
  {
   "cell_type": "code",
   "execution_count": 426,
   "id": "269a6825-c75d-4b6b-a27a-59d264eef60f",
   "metadata": {
    "execution": {
     "iopub.execute_input": "2022-10-31T17:45:17.204672Z",
     "iopub.status.busy": "2022-10-31T17:45:17.204223Z",
     "iopub.status.idle": "2022-10-31T17:45:17.209006Z",
     "shell.execute_reply": "2022-10-31T17:45:17.208463Z",
     "shell.execute_reply.started": "2022-10-31T17:45:17.204574Z"
    },
    "tags": []
   },
   "outputs": [],
   "source": [
    "def map_color(x):\n",
    "    color = ''\n",
    "    if x.iloc[1] >= 0.01:\n",
    "        color += 'a'\n",
    "    if x.iloc[2] >= 0.01:\n",
    "        color += 'b'\n",
    "    # a, b, ab, ''\n",
    "    if len(color) == 0:\n",
    "        color = np.NaN\n",
    "\n",
    "    return color"
   ]
  },
  {
   "cell_type": "code",
   "execution_count": 427,
   "id": "c000aace-405d-47c5-975a-da994ebd0995",
   "metadata": {
    "execution": {
     "iopub.execute_input": "2022-10-31T17:45:17.828071Z",
     "iopub.status.busy": "2022-10-31T17:45:17.827819Z",
     "iopub.status.idle": "2022-10-31T17:45:17.831701Z",
     "shell.execute_reply": "2022-10-31T17:45:17.831164Z",
     "shell.execute_reply.started": "2022-10-31T17:45:17.828052Z"
    },
    "tags": []
   },
   "outputs": [],
   "source": [
    "# %%R\n",
    "# 使用ggpubr包中的ggarrange()函数来排版多个图形：\n",
    "# ggarrange(bxp, dp, bp + rremove(\"x.text\"), labels=c('A', 'B', 'C'), ncol=2, nrow=2)\n",
    "\n",
    "# 这个简书写的太好了！\n",
    "# https://www.jianshu.com/p/c154ca35530b\n",
    "# 注释排版的图形\n",
    "# 对齐绘图区\n",
    "# 更改图形的行列跨度\n",
    "# 使用cowplot包中的draw_plot_label()函数注释图形\n",
    "\n",
    "\n",
    "# %%R -i df2r\n",
    "# df = as.data.frame(df2r)\n",
    "# # head(df, 10)\n",
    "\n",
    "# g_a = ggplot(data=df) +\n",
    "#     geom_point(\n",
    "#         mapping=aes(\n",
    "#             x=ATP8_DddAwt_1,\n",
    "#             y=ATP8_DddA6_1,\n",
    "#             # alpha=0.99,\n",
    "#             # size=1,\n",
    "#             color=color,\n",
    "#             fill=color,\n",
    "#         )\n",
    "#     ) +\n",
    "#     scale_color_manual(values=c(\"#ff9f1c\", \"#447B9D\", \"#e36414\")) +\n",
    "#     scale_x_continuous(\n",
    "#         name=\"Detect-seq_signals of ATP8_DddAwt_1\",\n",
    "#         limits=c(0, 0.5),\n",
    "#     ) +\n",
    "#     scale_y_continuous(\n",
    "#         name=\"Detect-seq_signals of ATP8_DddA6_1\",\n",
    "#         limits=c(0, 0.5),\n",
    "#     ) +\n",
    "#     geom_abline(intercept=0, slope=1, linetype=\"dashed\", color=\"#333333\") +\n",
    "#     annotate(\"text\", x=0.4, y=0.09, hjust=0, parse=F, colour=\"black\", label=sprintf(\"N = %i\", dim(df)[1])) +\n",
    "#     ggtitle(\"ATP8_DddAwt_1 v.s. ATP8_DddA6_1\") +\n",
    "#     theme_classic() +\n",
    "#     theme(plot.title=element_text(hjust=0.5))\n",
    "\n",
    "# ggsave('2022-10-30_Detect-seq_scatter-plot_ATP8_DddAwt_1v.s.ATP8_DddA6_1.pdf', plot=g_a, width=4.6, height=4)\n",
    "\n",
    "\n",
    "# df = df %>%\n",
    "#     group_by(color) %>% summarise(count=n()) %>%\n",
    "#     mutate(\n",
    "#         group=color,\n",
    "#         csum=rev(cumsum(rev(count))),\n",
    "#         total=sum(count),\n",
    "#         ratio=count/total*100,\n",
    "#         pos=count/2 + lead(csum, 1),\n",
    "#         pos=if_else(is.na(pos), count/2, pos)\n",
    "#     )\n",
    "# g_b = ggplot(data=df, mapping=aes(x=\"\", y=count, fill=color, group=fct_inorder(color))) +\n",
    "#     geom_col(color=\"white\") +\n",
    "#     geom_text(\n",
    "#         aes(label=sprintf(\"%i\\n%.0f%%\", count, ratio)),  # 标注\n",
    "#         position=position_stack(vjust=0.5),\n",
    "#         size=3\n",
    "#     ) +\n",
    "#     coord_polar(theta=\"y\") +\n",
    "#     scale_fill_brewer(palette=\"Pastel2\") +\n",
    "#     ggtitle(\"Pie: ATP8_DddAwt_1 v.s. ATP8_DddA6_1\") +\n",
    "#     theme_void()\n",
    "\n",
    "# ggsave('2022-10-30_Detect-seq_pie-plot_ATP8_DddAwt_1v.s.ATP8_DddA6_1.pdf', plot=g_b, width=5.2, height=4)\n",
    "# print(g_a)\n",
    "# print(g_b)"
   ]
  },
  {
   "attachments": {
    "a240fad3-0570-41c0-b46e-d4b9c5b7ad78.png": {
     "image/png": "[encoded data removed]"
    }
   },
   "cell_type": "markdown",
   "id": "640adaf6-2637-43e7-ac63-71d63bb98336",
   "metadata": {},
   "source": [
    "![image.png](attachment:a240fad3-0570-41c0-b46e-d4b9c5b7ad78.png)"
   ]
  },
  {
   "cell_type": "markdown",
   "id": "0d23ee8c-5573-42a8-b8bd-5b8a8a70cd81",
   "metadata": {},
   "source": [
    "### plot upset-plot: share info"
   ]
  },
  {
   "cell_type": "code",
   "execution_count": 428,
   "id": "da1d3983-5df1-402a-8679-dbf6966e733f",
   "metadata": {
    "execution": {
     "iopub.execute_input": "2022-10-31T17:45:20.428126Z",
     "iopub.status.busy": "2022-10-31T17:45:20.427789Z",
     "iopub.status.idle": "2022-10-31T17:45:20.451073Z",
     "shell.execute_reply": "2022-10-31T17:45:20.450556Z",
     "shell.execute_reply.started": "2022-10-31T17:45:20.428092Z"
    },
    "tags": []
   },
   "outputs": [
    {
     "data": {
      "text/html": [
       "<div>\n",
       "<style scoped>\n",
       "    .dataframe tbody tr th:only-of-type {\n",
       "        vertical-align: middle;\n",
       "    }\n",
       "\n",
       "    .dataframe tbody tr th {\n",
       "        vertical-align: top;\n",
       "    }\n",
       "\n",
       "    .dataframe thead th {\n",
       "        text-align: right;\n",
       "    }\n",
       "</style>\n",
       "<table border=\"1\" class=\"dataframe\">\n",
       "  <thead>\n",
       "    <tr style=\"text-align: right;\">\n",
       "      <th>mpmat_index</th>\n",
       "      <th>chr1_631391_631393</th>\n",
       "      <th>chr1_631778_631791</th>\n",
       "      <th>chr1_633067_633147</th>\n",
       "      <th>chr1_633244_633286</th>\n",
       "      <th>chr1_633376_633442</th>\n",
       "      <th>chr1_633641_633713</th>\n",
       "      <th>chr1_114004151_114004191</th>\n",
       "      <th>chr1_121618159_121618201</th>\n",
       "      <th>chr1_121750792_121750807</th>\n",
       "      <th>chr1_151197806_151197837</th>\n",
       "      <th>...</th>\n",
       "      <th>chr19_30664939_30664962</th>\n",
       "      <th>chr19_38962288_38962302</th>\n",
       "      <th>chr20_34129835_34129866</th>\n",
       "      <th>chr22_22357471_22357480</th>\n",
       "      <th>chr22_36511168_36511185</th>\n",
       "      <th>chrX_41024523_41024536</th>\n",
       "      <th>chrX_72126743_72126762</th>\n",
       "      <th>chrX_103211203_103211249</th>\n",
       "      <th>chrX_132292961_132292983</th>\n",
       "      <th>chrX_133005219_133005236</th>\n",
       "    </tr>\n",
       "  </thead>\n",
       "  <tbody>\n",
       "    <tr>\n",
       "      <th>ATP8_DddA11_1</th>\n",
       "      <td>True</td>\n",
       "      <td>True</td>\n",
       "      <td>True</td>\n",
       "      <td>True</td>\n",
       "      <td>True</td>\n",
       "      <td>True</td>\n",
       "      <td>True</td>\n",
       "      <td>True</td>\n",
       "      <td>True</td>\n",
       "      <td>True</td>\n",
       "      <td>...</td>\n",
       "      <td>False</td>\n",
       "      <td>False</td>\n",
       "      <td>False</td>\n",
       "      <td>False</td>\n",
       "      <td>False</td>\n",
       "      <td>False</td>\n",
       "      <td>False</td>\n",
       "      <td>False</td>\n",
       "      <td>False</td>\n",
       "      <td>False</td>\n",
       "    </tr>\n",
       "    <tr>\n",
       "      <th>ATP8_DddA6_1</th>\n",
       "      <td>True</td>\n",
       "      <td>True</td>\n",
       "      <td>True</td>\n",
       "      <td>True</td>\n",
       "      <td>True</td>\n",
       "      <td>True</td>\n",
       "      <td>True</td>\n",
       "      <td>True</td>\n",
       "      <td>True</td>\n",
       "      <td>False</td>\n",
       "      <td>...</td>\n",
       "      <td>False</td>\n",
       "      <td>False</td>\n",
       "      <td>False</td>\n",
       "      <td>False</td>\n",
       "      <td>False</td>\n",
       "      <td>False</td>\n",
       "      <td>False</td>\n",
       "      <td>False</td>\n",
       "      <td>False</td>\n",
       "      <td>False</td>\n",
       "    </tr>\n",
       "    <tr>\n",
       "      <th>ATP8_DddAwt_1</th>\n",
       "      <td>True</td>\n",
       "      <td>False</td>\n",
       "      <td>False</td>\n",
       "      <td>False</td>\n",
       "      <td>True</td>\n",
       "      <td>True</td>\n",
       "      <td>False</td>\n",
       "      <td>True</td>\n",
       "      <td>True</td>\n",
       "      <td>False</td>\n",
       "      <td>...</td>\n",
       "      <td>False</td>\n",
       "      <td>False</td>\n",
       "      <td>False</td>\n",
       "      <td>False</td>\n",
       "      <td>False</td>\n",
       "      <td>False</td>\n",
       "      <td>False</td>\n",
       "      <td>False</td>\n",
       "      <td>False</td>\n",
       "      <td>False</td>\n",
       "    </tr>\n",
       "    <tr>\n",
       "      <th>JAK2_DddA11_1</th>\n",
       "      <td>False</td>\n",
       "      <td>False</td>\n",
       "      <td>False</td>\n",
       "      <td>False</td>\n",
       "      <td>False</td>\n",
       "      <td>False</td>\n",
       "      <td>False</td>\n",
       "      <td>True</td>\n",
       "      <td>True</td>\n",
       "      <td>False</td>\n",
       "      <td>...</td>\n",
       "      <td>False</td>\n",
       "      <td>False</td>\n",
       "      <td>False</td>\n",
       "      <td>False</td>\n",
       "      <td>False</td>\n",
       "      <td>False</td>\n",
       "      <td>False</td>\n",
       "      <td>False</td>\n",
       "      <td>False</td>\n",
       "      <td>False</td>\n",
       "    </tr>\n",
       "    <tr>\n",
       "      <th>SIRT6_DddA11_1</th>\n",
       "      <td>False</td>\n",
       "      <td>False</td>\n",
       "      <td>False</td>\n",
       "      <td>False</td>\n",
       "      <td>False</td>\n",
       "      <td>True</td>\n",
       "      <td>False</td>\n",
       "      <td>True</td>\n",
       "      <td>True</td>\n",
       "      <td>False</td>\n",
       "      <td>...</td>\n",
       "      <td>True</td>\n",
       "      <td>True</td>\n",
       "      <td>True</td>\n",
       "      <td>True</td>\n",
       "      <td>True</td>\n",
       "      <td>True</td>\n",
       "      <td>True</td>\n",
       "      <td>True</td>\n",
       "      <td>True</td>\n",
       "      <td>True</td>\n",
       "    </tr>\n",
       "  </tbody>\n",
       "</table>\n",
       "<p>5 rows × 3233 columns</p>\n",
       "</div>"
      ],
      "text/plain": [
       "mpmat_index     chr1_631391_631393  chr1_631778_631791  chr1_633067_633147  \\\n",
       "ATP8_DddA11_1                 True                True                True   \n",
       "ATP8_DddA6_1                  True                True                True   \n",
       "ATP8_DddAwt_1                 True               False               False   \n",
       "JAK2_DddA11_1                False               False               False   \n",
       "SIRT6_DddA11_1               False               False               False   \n",
       "\n",
       "mpmat_index     chr1_633244_633286  chr1_633376_633442  chr1_633641_633713  \\\n",
       "ATP8_DddA11_1                 True                True                True   \n",
       "ATP8_DddA6_1                  True                True                True   \n",
       "ATP8_DddAwt_1                False                True                True   \n",
       "JAK2_DddA11_1                False               False               False   \n",
       "SIRT6_DddA11_1               False               False                True   \n",
       "\n",
       "mpmat_index     chr1_114004151_114004191  chr1_121618159_121618201  \\\n",
       "ATP8_DddA11_1                       True                      True   \n",
       "ATP8_DddA6_1                        True                      True   \n",
       "ATP8_DddAwt_1                      False                      True   \n",
       "JAK2_DddA11_1                      False                      True   \n",
       "SIRT6_DddA11_1                     False                      True   \n",
       "\n",
       "mpmat_index     chr1_121750792_121750807  chr1_151197806_151197837  ...  \\\n",
       "ATP8_DddA11_1                       True                      True  ...   \n",
       "ATP8_DddA6_1                        True                     False  ...   \n",
       "ATP8_DddAwt_1                       True                     False  ...   \n",
       "JAK2_DddA11_1                       True                     False  ...   \n",
       "SIRT6_DddA11_1                      True                     False  ...   \n",
       "\n",
       "mpmat_index     chr19_30664939_30664962  chr19_38962288_38962302  \\\n",
       "ATP8_DddA11_1                     False                    False   \n",
       "ATP8_DddA6_1                      False                    False   \n",
       "ATP8_DddAwt_1                     False                    False   \n",
       "JAK2_DddA11_1                     False                    False   \n",
       "SIRT6_DddA11_1                     True                     True   \n",
       "\n",
       "mpmat_index     chr20_34129835_34129866  chr22_22357471_22357480  \\\n",
       "ATP8_DddA11_1                     False                    False   \n",
       "ATP8_DddA6_1                      False                    False   \n",
       "ATP8_DddAwt_1                     False                    False   \n",
       "JAK2_DddA11_1                     False                    False   \n",
       "SIRT6_DddA11_1                     True                     True   \n",
       "\n",
       "mpmat_index     chr22_36511168_36511185  chrX_41024523_41024536  \\\n",
       "ATP8_DddA11_1                     False                   False   \n",
       "ATP8_DddA6_1                      False                   False   \n",
       "ATP8_DddAwt_1                     False                   False   \n",
       "JAK2_DddA11_1                     False                   False   \n",
       "SIRT6_DddA11_1                     True                    True   \n",
       "\n",
       "mpmat_index     chrX_72126743_72126762  chrX_103211203_103211249  \\\n",
       "ATP8_DddA11_1                    False                     False   \n",
       "ATP8_DddA6_1                     False                     False   \n",
       "ATP8_DddAwt_1                    False                     False   \n",
       "JAK2_DddA11_1                    False                     False   \n",
       "SIRT6_DddA11_1                    True                      True   \n",
       "\n",
       "mpmat_index     chrX_132292961_132292983  chrX_133005219_133005236  \n",
       "ATP8_DddA11_1                      False                     False  \n",
       "ATP8_DddA6_1                       False                     False  \n",
       "ATP8_DddAwt_1                      False                     False  \n",
       "JAK2_DddA11_1                      False                     False  \n",
       "SIRT6_DddA11_1                      True                      True  \n",
       "\n",
       "[5 rows x 3233 columns]"
      ]
     },
     "execution_count": 428,
     "metadata": {},
     "output_type": "execute_result"
    }
   ],
   "source": [
    "df_upset = df_wide_score.set_index('mpmat_index').applymap(lambda x: True if x>=0.001 else False).T\n",
    "df_upset"
   ]
  },
  {
   "cell_type": "code",
   "execution_count": 429,
   "id": "2cdd24d4-7528-4c26-b77c-6b1272d129d2",
   "metadata": {
    "execution": {
     "iopub.execute_input": "2022-10-31T17:45:22.590976Z",
     "iopub.status.busy": "2022-10-31T17:45:22.590728Z",
     "iopub.status.idle": "2022-10-31T17:45:23.595548Z",
     "shell.execute_reply": "2022-10-31T17:45:23.595036Z",
     "shell.execute_reply.started": "2022-10-31T17:45:22.590958Z"
    },
    "tags": []
   },
   "outputs": [
    {
     "name": "stdout",
     "output_type": "stream",
     "text": [
      "# A tibble: 6 × 2\n",
      "  Treatment     OTs               \n",
      "  <chr>         <chr>             \n",
      "1 ATP8_DddA11_1 chr1_631391_631393\n",
      "2 ATP8_DddA6_1  chr1_631391_631393\n",
      "3 ATP8_DddAwt_1 chr1_631391_631393\n",
      "4 ATP8_DddA11_1 chr1_631778_631791\n",
      "5 ATP8_DddA6_1  chr1_631778_631791\n",
      "6 ATP8_DddA11_1 chr1_633067_633147\n"
     ]
    }
   ],
   "source": [
    "%%R -i df_upset\n",
    "df_upset = as.data.frame(df_upset)\n",
    "df_upset <- df_upset %>%\n",
    "    as_tibble(rownames=\"Treatment\") %>%\n",
    "    gather(OTs, Member, -Treatment) %>%\n",
    "    filter(Member) %>%\n",
    "    select(- Member)\n",
    "\n",
    "df_upset %>% head()"
   ]
  },
  {
   "cell_type": "code",
   "execution_count": 430,
   "id": "8a8a6f76-f194-4ea4-adda-9fffea33a4e5",
   "metadata": {
    "execution": {
     "iopub.execute_input": "2022-10-31T17:45:25.087763Z",
     "iopub.status.busy": "2022-10-31T17:45:25.087368Z",
     "iopub.status.idle": "2022-10-31T17:45:25.094325Z",
     "shell.execute_reply": "2022-10-31T17:45:25.093854Z",
     "shell.execute_reply.started": "2022-10-31T17:45:25.087740Z"
    },
    "tags": []
   },
   "outputs": [
    {
     "name": "stdout",
     "output_type": "stream",
     "text": [
      "NULL\n"
     ]
    }
   ],
   "source": [
    "%%R\n",
    "# 后续考虑用 UpSetR 画，这样总体也有体现\n",
    "# 或者再画一个躺倒的 barplot 然后拼起来\n",
    "# https://cran.r-project.org/web/packages/UpSetR/vignettes/basic.usage.html\n",
    "# movies <- read.csv(system.file(\"extdata\", \"movies.csv\", package=\"UpSetR\"),\n",
    "#                    header=T, sep=\";\")\n",
    "# head(movies)\n",
    "# head(t(df_upset))"
   ]
  },
  {
   "cell_type": "code",
   "execution_count": 431,
   "id": "f2353d71-26f7-42ba-8500-7e0551f5925a",
   "metadata": {
    "execution": {
     "iopub.execute_input": "2022-10-31T17:45:25.729047Z",
     "iopub.status.busy": "2022-10-31T17:45:25.728795Z",
     "iopub.status.idle": "2022-10-31T17:45:26.501776Z",
     "shell.execute_reply": "2022-10-31T17:45:26.501260Z",
     "shell.execute_reply.started": "2022-10-31T17:45:25.729027Z"
    },
    "tags": []
   },
   "outputs": [
    {
     "data": {
      "image/png": "[encoded data removed]"
     },
     "metadata": {},
     "output_type": "display_data"
    }
   ],
   "source": [
    "%%R\n",
    "g = df_upset %>%\n",
    "    group_by(OTs) %>%\n",
    "    summarize(Treatments=list(Treatment)) %>%\n",
    "    ggplot(aes(x=Treatments)) +\n",
    "        geom_bar() +\n",
    "        scale_x_upset() +\n",
    "        scale_y_log10(\n",
    "            breaks=c(10, 20, 30, 40, 50, 100, 200, 300, 400, 500, 2000, 2500)\n",
    "        ) +\n",
    "        ylab('log10_OTs\\' count') +\n",
    "        ggtitle('Off-target sharing of different DdCBEs')\n",
    "        theme_bw()\n",
    "ggsave('2022-10-30_Detect-seq_upset-plot_all.pdf', plot=g, width=8, height=9)\n",
    "g"
   ]
  },
  {
   "cell_type": "code",
   "execution_count": 436,
   "id": "3d14976e-3dff-45b2-8d7b-668a50a2812b",
   "metadata": {
    "execution": {
     "iopub.execute_input": "2022-10-31T17:46:09.492263Z",
     "iopub.status.busy": "2022-10-31T17:46:09.491986Z",
     "iopub.status.idle": "2022-10-31T17:46:09.826093Z",
     "shell.execute_reply": "2022-10-31T17:46:09.825590Z",
     "shell.execute_reply.started": "2022-10-31T17:46:09.492245Z"
    },
    "tags": []
   },
   "outputs": [
    {
     "data": {
      "image/png": "[encoded data removed]"
     },
     "metadata": {},
     "output_type": "display_data"
    }
   ],
   "source": [
    "%%R\n",
    "g = ggplot(df_upset) +\n",
    "    geom_bar(\n",
    "        aes(x=Treatment, fill=Treatment, group=Treatment),\n",
    "        stat='count',\n",
    "        width=0.8\n",
    "    ) +\n",
    "    scale_y_continuous(\n",
    "        limits=c(0, 2800),\n",
    "        breaks=c(0, 50, 100, 200, 500, 1000, 2000, 2650)\n",
    "    ) +\n",
    "    ylab(\"total counts\") +\n",
    "    ggtitle(\"Total OTs induced by DdCBEs\") +\n",
    "    coord_flip() +\n",
    "    theme_classic() +\n",
    "    theme(axis.text.x=element_text(angle=90, vjust=0.5, hjust=1, size=6))\n",
    "\n",
    "ggsave('2022-10-30_Detect-seq_bar-plot_all.pdf', plot=g, width=8, height=4)\n",
    "g"
   ]
  },
  {
   "cell_type": "code",
   "execution_count": 437,
   "id": "b6b7f2b3-1fc1-4d1a-b390-901fd179870f",
   "metadata": {
    "execution": {
     "iopub.execute_input": "2022-10-31T17:46:16.339456Z",
     "iopub.status.busy": "2022-10-31T17:46:16.339205Z",
     "iopub.status.idle": "2022-10-31T17:46:16.407083Z",
     "shell.execute_reply": "2022-10-31T17:46:16.406540Z",
     "shell.execute_reply.started": "2022-10-31T17:46:16.339437Z"
    },
    "tags": []
   },
   "outputs": [
    {
     "name": "stdout",
     "output_type": "stream",
     "text": [
      "# A tibble: 682 × 2\n",
      "# Groups:   OTs [551]\n",
      "   Treatment     OTs               \n",
      "   <chr>         <chr>             \n",
      " 1 ATP8_DddA11_1 chr1_631391_631393\n",
      " 2 ATP8_DddA6_1  chr1_631391_631393\n",
      " 3 ATP8_DddAwt_1 chr1_631391_631393\n",
      " 4 ATP8_DddA11_1 chr1_631778_631791\n",
      " 5 ATP8_DddA6_1  chr1_631778_631791\n",
      " 6 ATP8_DddA11_1 chr1_633067_633147\n",
      " 7 ATP8_DddA6_1  chr1_633067_633147\n",
      " 8 ATP8_DddA11_1 chr1_633244_633286\n",
      " 9 ATP8_DddA6_1  chr1_633244_633286\n",
      "10 ATP8_DddA11_1 chr1_633376_633442\n",
      "# … with 672 more rows\n",
      "# ℹ Use `print(n = ...)` to see more rows\n"
     ]
    }
   ],
   "source": [
    "%%R\n",
    "df_upset %>%\n",
    "    group_by(OTs) %>%\n",
    "    filter(grepl(\"ATP8\", Treatment))"
   ]
  },
  {
   "cell_type": "code",
   "execution_count": 439,
   "id": "f6d3b661-dc21-425b-bf5d-969004abf85c",
   "metadata": {
    "execution": {
     "iopub.execute_input": "2022-10-31T17:46:55.568247Z",
     "iopub.status.busy": "2022-10-31T17:46:55.567964Z",
     "iopub.status.idle": "2022-10-31T17:46:56.123554Z",
     "shell.execute_reply": "2022-10-31T17:46:56.123096Z",
     "shell.execute_reply.started": "2022-10-31T17:46:55.568227Z"
    },
    "tags": []
   },
   "outputs": [
    {
     "data": {
      "image/png": "[encoded data removed]"
     },
     "metadata": {},
     "output_type": "display_data"
    }
   ],
   "source": [
    "%%R\n",
    "g = df_upset %>%\n",
    "    group_by(OTs) %>%\n",
    "    filter(grepl(\"ATP8\", Treatment)) %>%\n",
    "    summarize(Treatments=list(Treatment)) %>%\n",
    "    ggplot(aes(x=Treatments)) +\n",
    "        geom_bar() +\n",
    "        scale_x_upset() +\n",
    "        scale_y_continuous(\n",
    "            breaks=seq(0, 400, 50)\n",
    "        ) +\n",
    "        ggtitle('Off-target sharing of different ATP8-DdCBEs')\n",
    "        theme_bw()\n",
    "ggsave('2022-10-30_Detect-seq_upset-plot_all_ATP8.pdf', plot=g, width=8, height=9)\n",
    "g"
   ]
  },
  {
   "cell_type": "markdown",
   "id": "2bdacdc5-df74-46e0-b152-1895c82e97bb",
   "metadata": {},
   "source": [
    "### plot ATP8_DddAwt_1 vs ATP8_DddA6_1"
   ]
  },
  {
   "cell_type": "code",
   "execution_count": 463,
   "id": "032f8862-a603-4ef6-a7b8-501f35706ca5",
   "metadata": {
    "execution": {
     "iopub.execute_input": "2022-11-01T15:23:57.654563Z",
     "iopub.status.busy": "2022-11-01T15:23:57.654282Z",
     "iopub.status.idle": "2022-11-01T15:23:57.701995Z",
     "shell.execute_reply": "2022-11-01T15:23:57.701478Z",
     "shell.execute_reply.started": "2022-11-01T15:23:57.654542Z"
    },
    "tags": []
   },
   "outputs": [
    {
     "data": {
      "text/html": [
       "<div>\n",
       "<style scoped>\n",
       "    .dataframe tbody tr th:only-of-type {\n",
       "        vertical-align: middle;\n",
       "    }\n",
       "\n",
       "    .dataframe tbody tr th {\n",
       "        vertical-align: top;\n",
       "    }\n",
       "\n",
       "    .dataframe thead th {\n",
       "        text-align: right;\n",
       "    }\n",
       "</style>\n",
       "<table border=\"1\" class=\"dataframe\">\n",
       "  <thead>\n",
       "    <tr style=\"text-align: right;\">\n",
       "      <th></th>\n",
       "      <th>mpmat_index</th>\n",
       "      <th>ATP8_DddAwt_1</th>\n",
       "      <th>ATP8_DddA6_1</th>\n",
       "      <th>color</th>\n",
       "    </tr>\n",
       "  </thead>\n",
       "  <tbody>\n",
       "    <tr>\n",
       "      <th>0</th>\n",
       "      <td>chr1_631391_631393</td>\n",
       "      <td>0.004086</td>\n",
       "      <td>0.371259</td>\n",
       "      <td>b</td>\n",
       "    </tr>\n",
       "    <tr>\n",
       "      <th>1</th>\n",
       "      <td>chr1_631778_631791</td>\n",
       "      <td>0.000000</td>\n",
       "      <td>0.312616</td>\n",
       "      <td>b</td>\n",
       "    </tr>\n",
       "    <tr>\n",
       "      <th>2</th>\n",
       "      <td>chr1_633067_633147</td>\n",
       "      <td>0.000000</td>\n",
       "      <td>0.105701</td>\n",
       "      <td>b</td>\n",
       "    </tr>\n",
       "    <tr>\n",
       "      <th>3</th>\n",
       "      <td>chr1_633244_633286</td>\n",
       "      <td>0.000000</td>\n",
       "      <td>0.064643</td>\n",
       "      <td>b</td>\n",
       "    </tr>\n",
       "    <tr>\n",
       "      <th>4</th>\n",
       "      <td>chr1_633376_633442</td>\n",
       "      <td>0.011412</td>\n",
       "      <td>0.166584</td>\n",
       "      <td>ab</td>\n",
       "    </tr>\n",
       "    <tr>\n",
       "      <th>...</th>\n",
       "      <td>...</td>\n",
       "      <td>...</td>\n",
       "      <td>...</td>\n",
       "      <td>...</td>\n",
       "    </tr>\n",
       "    <tr>\n",
       "      <th>2861</th>\n",
       "      <td>chr9_40992885_40992908</td>\n",
       "      <td>0.000000</td>\n",
       "      <td>0.086952</td>\n",
       "      <td>b</td>\n",
       "    </tr>\n",
       "    <tr>\n",
       "      <th>2862</th>\n",
       "      <td>chr11_101860949_101860966</td>\n",
       "      <td>0.000000</td>\n",
       "      <td>0.039002</td>\n",
       "      <td>b</td>\n",
       "    </tr>\n",
       "    <tr>\n",
       "      <th>2863</th>\n",
       "      <td>chr12_108063343_108063381</td>\n",
       "      <td>0.000000</td>\n",
       "      <td>0.040479</td>\n",
       "      <td>b</td>\n",
       "    </tr>\n",
       "    <tr>\n",
       "      <th>2864</th>\n",
       "      <td>chr17_1056219_1056232</td>\n",
       "      <td>0.000000</td>\n",
       "      <td>0.067197</td>\n",
       "      <td>b</td>\n",
       "    </tr>\n",
       "    <tr>\n",
       "      <th>2865</th>\n",
       "      <td>chr19_45187694_45187712</td>\n",
       "      <td>0.029261</td>\n",
       "      <td>0.041218</td>\n",
       "      <td>ab</td>\n",
       "    </tr>\n",
       "  </tbody>\n",
       "</table>\n",
       "<p>492 rows × 4 columns</p>\n",
       "</div>"
      ],
      "text/plain": [
       "                    mpmat_index  ATP8_DddAwt_1  ATP8_DddA6_1 color\n",
       "0            chr1_631391_631393       0.004086      0.371259     b\n",
       "1            chr1_631778_631791       0.000000      0.312616     b\n",
       "2            chr1_633067_633147       0.000000      0.105701     b\n",
       "3            chr1_633244_633286       0.000000      0.064643     b\n",
       "4            chr1_633376_633442       0.011412      0.166584    ab\n",
       "...                         ...            ...           ...   ...\n",
       "2861     chr9_40992885_40992908       0.000000      0.086952     b\n",
       "2862  chr11_101860949_101860966       0.000000      0.039002     b\n",
       "2863  chr12_108063343_108063381       0.000000      0.040479     b\n",
       "2864      chr17_1056219_1056232       0.000000      0.067197     b\n",
       "2865    chr19_45187694_45187712       0.029261      0.041218    ab\n",
       "\n",
       "[492 rows x 4 columns]"
      ]
     },
     "execution_count": 463,
     "metadata": {},
     "output_type": "execute_result"
    }
   ],
   "source": [
    "# load data in R env\n",
    "df2r = df_wide_score[['mpmat_index', 'ATP8_DddAwt_1', 'ATP8_DddA6_1']].copy()\n",
    "df2r['color'] = df2r.apply(map_color, axis=1)\n",
    "df2r = df2r.query('color.notnull()')\n",
    "df2r"
   ]
  },
  {
   "cell_type": "code",
   "execution_count": 464,
   "id": "08cd08d4-2c1b-4ad5-aafc-b89b731b0a7c",
   "metadata": {
    "execution": {
     "iopub.execute_input": "2022-11-01T15:24:07.073831Z",
     "iopub.status.busy": "2022-11-01T15:24:07.073557Z",
     "iopub.status.idle": "2022-11-01T15:24:07.430594Z",
     "shell.execute_reply": "2022-11-01T15:24:07.430125Z",
     "shell.execute_reply.started": "2022-11-01T15:24:07.073812Z"
    },
    "tags": []
   },
   "outputs": [
    {
     "data": {
      "image/png": "[encoded data removed]"
     },
     "metadata": {},
     "output_type": "display_data"
    }
   ],
   "source": [
    "%%R -i df2r\n",
    "df = as.data.frame(df2r)\n",
    "# head(df, 10)\n",
    "\n",
    "g = ggplot(data=df) +\n",
    "    geom_point(\n",
    "        mapping=aes(\n",
    "            x=ATP8_DddAwt_1,\n",
    "            y=ATP8_DddA6_1,\n",
    "            # alpha=0.99,\n",
    "            # size=1,\n",
    "            color=color,\n",
    "            fill=color,\n",
    "        )\n",
    "    ) +\n",
    "    scale_color_manual(values=c(\"#ff9f1c\", \"#447B9D\", \"#e36414\")) +\n",
    "    scale_x_continuous(\n",
    "        name=\"Detect-seq_signals of ATP8_DddAwt_1\",\n",
    "        limits=c(0, 0.5),\n",
    "    ) +\n",
    "    scale_y_continuous(\n",
    "        name=\"Detect-seq_signals of ATP8_DddA6_1\",\n",
    "        limits=c(0, 0.5),\n",
    "    ) +\n",
    "    geom_abline(intercept=0, slope=1, linetype=\"dashed\", color=\"#333333\") +\n",
    "    annotate(\"text\", x=0.4, y=0.09, hjust=0, parse=F, colour=\"black\", label=sprintf(\"N = %i\", dim(df)[1])) +\n",
    "    ggtitle(\"ATP8_DddAwt_1 v.s. ATP8_DddA6_1\") +\n",
    "    theme_classic() +\n",
    "    theme(plot.title=element_text(hjust=0.5))\n",
    "\n",
    "ggsave('2022-10-30_Detect-seq_scatter-plot_ATP8_DddAwt_1v.s.ATP8_DddA6_1.pdf', plot=g, width=4.6, height=4)\n",
    "g"
   ]
  },
  {
   "cell_type": "code",
   "execution_count": 465,
   "id": "9e6d3b5b-143b-47cb-bff8-22be334a0bce",
   "metadata": {
    "execution": {
     "iopub.execute_input": "2022-11-01T15:24:13.308014Z",
     "iopub.status.busy": "2022-11-01T15:24:13.307762Z",
     "iopub.status.idle": "2022-11-01T15:24:13.652007Z",
     "shell.execute_reply": "2022-11-01T15:24:13.651492Z",
     "shell.execute_reply.started": "2022-11-01T15:24:13.307995Z"
    },
    "tags": []
   },
   "outputs": [
    {
     "data": {
      "image/png": "[encoded data removed]"
     },
     "metadata": {},
     "output_type": "display_data"
    }
   ],
   "source": [
    "%%R\n",
    "\n",
    "g = ggplot(data=df) +\n",
    "    geom_point(\n",
    "        mapping=aes(\n",
    "            x=ATP8_DddAwt_1,\n",
    "            y=ATP8_DddA6_1,\n",
    "            # alpha=0.99,\n",
    "            # size=1,\n",
    "            color=color,\n",
    "            fill=color,\n",
    "            # shape=color,\n",
    "            # group=color,\n",
    "        )\n",
    "    ) +\n",
    "    scale_color_manual(values=c(\"#ff9f1c\", \"#447B9D\", \"#e36414\")) +\n",
    "    scale_x_log10(\n",
    "        name=\"log10_Detect-seq_signals of ATP8_DddAwt_1\",\n",
    "        limits=c(0.01, 1.5),\n",
    "        # breaks=c(0.0001, 0.001, 0.01, 0.1, 1),\n",
    "    ) +\n",
    "    scale_y_log10(\n",
    "        name=\"log10_Detect-seq_signals of ATP8_DddA6_1\",\n",
    "        limits=c(0.01, 1.5),\n",
    "        # breaks=c(0.01, 0.1, 1, 10, 100, 1000),\n",
    "    ) +\n",
    "    geom_abline(intercept=0, slope=1, linetype=\"dashed\", color=\"#333333\") +\n",
    "    annotate(\"text\", x=0.4, y=0.09, hjust=0, parse=F, colour=\"black\", label=sprintf(\"N = %i\", dim(df)[1])) +\n",
    "    ggtitle(\"log10_ATP8_DddAwt_1 v.s. ATP8_DddA6_1\") +\n",
    "    theme_classic() +\n",
    "    theme(plot.title=element_text(hjust=0.5))\n",
    "\n",
    "ggsave('2022-10-30_Detect-seq_scatter-plot_log10_ATP8_DddAwt_1v.s.ATP8_DddA6_1.pdf', plot=g, width=4.6, height=4)\n",
    "g"
   ]
  },
  {
   "cell_type": "markdown",
   "id": "7f8c1afc-0ac9-4121-b8d3-c3cf1caa02b7",
   "metadata": {},
   "source": [
    "### plot ATP8_DddAwt_1 vs ATP8_DddA11_1"
   ]
  },
  {
   "cell_type": "code",
   "execution_count": 466,
   "id": "8b0bbe26-9e50-472e-988c-afa113863cb3",
   "metadata": {
    "execution": {
     "iopub.execute_input": "2022-11-01T15:24:17.578752Z",
     "iopub.status.busy": "2022-11-01T15:24:17.578347Z",
     "iopub.status.idle": "2022-11-01T15:24:17.629703Z",
     "shell.execute_reply": "2022-11-01T15:24:17.629132Z",
     "shell.execute_reply.started": "2022-11-01T15:24:17.578721Z"
    },
    "tags": []
   },
   "outputs": [
    {
     "data": {
      "text/html": [
       "<div>\n",
       "<style scoped>\n",
       "    .dataframe tbody tr th:only-of-type {\n",
       "        vertical-align: middle;\n",
       "    }\n",
       "\n",
       "    .dataframe tbody tr th {\n",
       "        vertical-align: top;\n",
       "    }\n",
       "\n",
       "    .dataframe thead th {\n",
       "        text-align: right;\n",
       "    }\n",
       "</style>\n",
       "<table border=\"1\" class=\"dataframe\">\n",
       "  <thead>\n",
       "    <tr style=\"text-align: right;\">\n",
       "      <th></th>\n",
       "      <th>mpmat_index</th>\n",
       "      <th>ATP8_DddAwt_1</th>\n",
       "      <th>ATP8_DddA11_1</th>\n",
       "      <th>color</th>\n",
       "    </tr>\n",
       "  </thead>\n",
       "  <tbody>\n",
       "    <tr>\n",
       "      <th>0</th>\n",
       "      <td>chr1_631391_631393</td>\n",
       "      <td>0.004086</td>\n",
       "      <td>0.243265</td>\n",
       "      <td>b</td>\n",
       "    </tr>\n",
       "    <tr>\n",
       "      <th>1</th>\n",
       "      <td>chr1_631778_631791</td>\n",
       "      <td>0.000000</td>\n",
       "      <td>0.443596</td>\n",
       "      <td>b</td>\n",
       "    </tr>\n",
       "    <tr>\n",
       "      <th>2</th>\n",
       "      <td>chr1_633067_633147</td>\n",
       "      <td>0.000000</td>\n",
       "      <td>0.181528</td>\n",
       "      <td>b</td>\n",
       "    </tr>\n",
       "    <tr>\n",
       "      <th>3</th>\n",
       "      <td>chr1_633244_633286</td>\n",
       "      <td>0.000000</td>\n",
       "      <td>0.031852</td>\n",
       "      <td>b</td>\n",
       "    </tr>\n",
       "    <tr>\n",
       "      <th>4</th>\n",
       "      <td>chr1_633376_633442</td>\n",
       "      <td>0.011412</td>\n",
       "      <td>0.063662</td>\n",
       "      <td>ab</td>\n",
       "    </tr>\n",
       "    <tr>\n",
       "      <th>...</th>\n",
       "      <td>...</td>\n",
       "      <td>...</td>\n",
       "      <td>...</td>\n",
       "      <td>...</td>\n",
       "    </tr>\n",
       "    <tr>\n",
       "      <th>2855</th>\n",
       "      <td>chr17_8410441_8410462</td>\n",
       "      <td>0.025608</td>\n",
       "      <td>0.018873</td>\n",
       "      <td>ab</td>\n",
       "    </tr>\n",
       "    <tr>\n",
       "      <th>2857</th>\n",
       "      <td>chr17_76681403_76681420</td>\n",
       "      <td>0.000000</td>\n",
       "      <td>0.117470</td>\n",
       "      <td>b</td>\n",
       "    </tr>\n",
       "    <tr>\n",
       "      <th>2858</th>\n",
       "      <td>chr21_32940622_32940639</td>\n",
       "      <td>0.000000</td>\n",
       "      <td>0.035123</td>\n",
       "      <td>b</td>\n",
       "    </tr>\n",
       "    <tr>\n",
       "      <th>2860</th>\n",
       "      <td>chr7_15721070_15721094</td>\n",
       "      <td>0.045853</td>\n",
       "      <td>0.000000</td>\n",
       "      <td>a</td>\n",
       "    </tr>\n",
       "    <tr>\n",
       "      <th>2865</th>\n",
       "      <td>chr19_45187694_45187712</td>\n",
       "      <td>0.029261</td>\n",
       "      <td>0.000000</td>\n",
       "      <td>a</td>\n",
       "    </tr>\n",
       "  </tbody>\n",
       "</table>\n",
       "<p>151 rows × 4 columns</p>\n",
       "</div>"
      ],
      "text/plain": [
       "                  mpmat_index  ATP8_DddAwt_1  ATP8_DddA11_1 color\n",
       "0          chr1_631391_631393       0.004086       0.243265     b\n",
       "1          chr1_631778_631791       0.000000       0.443596     b\n",
       "2          chr1_633067_633147       0.000000       0.181528     b\n",
       "3          chr1_633244_633286       0.000000       0.031852     b\n",
       "4          chr1_633376_633442       0.011412       0.063662    ab\n",
       "...                       ...            ...            ...   ...\n",
       "2855    chr17_8410441_8410462       0.025608       0.018873    ab\n",
       "2857  chr17_76681403_76681420       0.000000       0.117470     b\n",
       "2858  chr21_32940622_32940639       0.000000       0.035123     b\n",
       "2860   chr7_15721070_15721094       0.045853       0.000000     a\n",
       "2865  chr19_45187694_45187712       0.029261       0.000000     a\n",
       "\n",
       "[151 rows x 4 columns]"
      ]
     },
     "execution_count": 466,
     "metadata": {},
     "output_type": "execute_result"
    }
   ],
   "source": [
    "# load data in R env\n",
    "df2r = df_wide_score[['mpmat_index', 'ATP8_DddAwt_1', 'ATP8_DddA11_1']].copy()\n",
    "df2r['color'] = df2r.apply(map_color, axis=1)\n",
    "df2r = df2r.query('color.notnull()')\n",
    "df2r"
   ]
  },
  {
   "cell_type": "code",
   "execution_count": 467,
   "id": "adf9fa69-eebc-4f68-bd38-a970e60c6898",
   "metadata": {
    "execution": {
     "iopub.execute_input": "2022-11-01T15:24:22.427678Z",
     "iopub.status.busy": "2022-11-01T15:24:22.427416Z",
     "iopub.status.idle": "2022-11-01T15:24:22.773578Z",
     "shell.execute_reply": "2022-11-01T15:24:22.773122Z",
     "shell.execute_reply.started": "2022-11-01T15:24:22.427655Z"
    },
    "tags": []
   },
   "outputs": [
    {
     "data": {
      "image/png": "[encoded data removed]"
     },
     "metadata": {},
     "output_type": "display_data"
    }
   ],
   "source": [
    "%%R -i df2r\n",
    "df = as.data.frame(df2r)\n",
    "# head(df, 10)\n",
    "\n",
    "g = ggplot(data=df) +\n",
    "    geom_point(\n",
    "        mapping=aes(\n",
    "            x=ATP8_DddAwt_1,\n",
    "            y=ATP8_DddA11_1,\n",
    "            # alpha=0.99,\n",
    "            # size=1,\n",
    "            color=color,\n",
    "            fill=color,\n",
    "            # shape=color,\n",
    "            # group=color,\n",
    "        )\n",
    "    ) +\n",
    "    scale_color_manual(values=c(\"#ff9f1c\", \"#447B9D\", \"#e36414\")) +\n",
    "    scale_x_continuous(\n",
    "        name=\"Detect-seq_signals of ATP8_DddAwt_1\",\n",
    "        limits=c(0, 0.5),\n",
    "    ) +\n",
    "    scale_y_continuous(\n",
    "        name=\"Detect-seq_signals of ATP8_DddA11_1\",\n",
    "        limits=c(0, 0.5),\n",
    "    ) +\n",
    "    geom_abline(intercept=0, slope=1, linetype=\"dashed\", color=\"#333333\") +\n",
    "    annotate(\"text\", x=0.4, y=0.09, hjust=0, parse=F, colour=\"black\", label=sprintf(\"N = %i\", dim(df)[1])) +\n",
    "    ggtitle(\"ATP8_DddAwt_1 v.s. ATP8_DddA11_1\") +\n",
    "    theme_classic() +\n",
    "    theme(plot.title=element_text(hjust=0.5))\n",
    "\n",
    "ggsave('2022-10-30_Detect-seq_scatter-plot_ATP8_DddAwt_1v.s.ATP8_DddA11_1.pdf', plot=g, width=4.6, height=4)\n",
    "g"
   ]
  },
  {
   "cell_type": "code",
   "execution_count": 468,
   "id": "120e333f-eb40-4cdc-9362-def8836f52a8",
   "metadata": {
    "execution": {
     "iopub.execute_input": "2022-11-01T15:24:30.267101Z",
     "iopub.status.busy": "2022-11-01T15:24:30.266821Z",
     "iopub.status.idle": "2022-11-01T15:24:30.612753Z",
     "shell.execute_reply": "2022-11-01T15:24:30.612280Z",
     "shell.execute_reply.started": "2022-11-01T15:24:30.267082Z"
    },
    "tags": []
   },
   "outputs": [
    {
     "data": {
      "image/png": "[encoded data removed]"
     },
     "metadata": {},
     "output_type": "display_data"
    }
   ],
   "source": [
    "%%R\n",
    "\n",
    "g = ggplot(data=df) +\n",
    "    geom_point(\n",
    "        mapping=aes(\n",
    "            x=ATP8_DddAwt_1,\n",
    "            y=ATP8_DddA11_1,\n",
    "            # alpha=0.99,\n",
    "            # size=1,\n",
    "            color=color,\n",
    "            fill=color,\n",
    "            # shape=color,\n",
    "            # group=color,\n",
    "        )\n",
    "    ) +\n",
    "    scale_color_manual(values=c(\"#ff9f1c\", \"#447B9D\", \"#e36414\")) +\n",
    "    scale_x_log10(\n",
    "        name=\"log10_Detect-seq_signals of ATP8_DddAwt_1\",\n",
    "        limits=c(0.01, 1.5),\n",
    "        # breaks=c(0.0001, 0.001, 0.01, 0.1, 1),\n",
    "    ) +\n",
    "    scale_y_log10(\n",
    "        name=\"log10_Detect-seq_signals of ATP8_DddA11_1\",\n",
    "        limits=c(0.01, 1.5),\n",
    "        # breaks=c(0.01, 0.1, 1, 10, 100, 1000),\n",
    "    ) +\n",
    "    geom_abline(intercept=0, slope=1, linetype=\"dashed\", color=\"#333333\") +\n",
    "    annotate(\"text\", x=0.4, y=0.09, hjust=0, parse=F, colour=\"black\", label=sprintf(\"N = %i\", dim(df)[1])) +\n",
    "    ggtitle(\"log10_ATP8_DddAwt_1 v.s. ATP8_DddA11_1\") +\n",
    "    theme_classic() +\n",
    "    theme(plot.title=element_text(hjust=0.5))\n",
    "\n",
    "ggsave('2022-10-30_Detect-seq_scatter-plot_log10_ATP8_DddAwt_1v.s.ATP8_DddA11_1.pdf', plot=g, width=4.6, height=4)\n",
    "g"
   ]
  },
  {
   "cell_type": "markdown",
   "id": "918e368b-9bda-4b94-b926-2bd5336b87b3",
   "metadata": {
    "tags": []
   },
   "source": [
    "### plot ATP8_DddA6_1 vs ATP8_DddA11_1"
   ]
  },
  {
   "cell_type": "code",
   "execution_count": 470,
   "id": "e2b42eab-18cb-453b-8e1e-6fb4e36d09ef",
   "metadata": {
    "execution": {
     "iopub.execute_input": "2022-11-01T15:24:42.469132Z",
     "iopub.status.busy": "2022-11-01T15:24:42.468868Z",
     "iopub.status.idle": "2022-11-01T15:24:42.515960Z",
     "shell.execute_reply": "2022-11-01T15:24:42.515469Z",
     "shell.execute_reply.started": "2022-11-01T15:24:42.469114Z"
    },
    "tags": []
   },
   "outputs": [
    {
     "data": {
      "text/html": [
       "<div>\n",
       "<style scoped>\n",
       "    .dataframe tbody tr th:only-of-type {\n",
       "        vertical-align: middle;\n",
       "    }\n",
       "\n",
       "    .dataframe tbody tr th {\n",
       "        vertical-align: top;\n",
       "    }\n",
       "\n",
       "    .dataframe thead th {\n",
       "        text-align: right;\n",
       "    }\n",
       "</style>\n",
       "<table border=\"1\" class=\"dataframe\">\n",
       "  <thead>\n",
       "    <tr style=\"text-align: right;\">\n",
       "      <th></th>\n",
       "      <th>mpmat_index</th>\n",
       "      <th>ATP8_DddA6_1</th>\n",
       "      <th>ATP8_DddA11_1</th>\n",
       "      <th>color</th>\n",
       "    </tr>\n",
       "  </thead>\n",
       "  <tbody>\n",
       "    <tr>\n",
       "      <th>0</th>\n",
       "      <td>chr1_631391_631393</td>\n",
       "      <td>0.371259</td>\n",
       "      <td>0.243265</td>\n",
       "      <td>ab</td>\n",
       "    </tr>\n",
       "    <tr>\n",
       "      <th>1</th>\n",
       "      <td>chr1_631778_631791</td>\n",
       "      <td>0.312616</td>\n",
       "      <td>0.443596</td>\n",
       "      <td>ab</td>\n",
       "    </tr>\n",
       "    <tr>\n",
       "      <th>2</th>\n",
       "      <td>chr1_633067_633147</td>\n",
       "      <td>0.105701</td>\n",
       "      <td>0.181528</td>\n",
       "      <td>ab</td>\n",
       "    </tr>\n",
       "    <tr>\n",
       "      <th>3</th>\n",
       "      <td>chr1_633244_633286</td>\n",
       "      <td>0.064643</td>\n",
       "      <td>0.031852</td>\n",
       "      <td>ab</td>\n",
       "    </tr>\n",
       "    <tr>\n",
       "      <th>4</th>\n",
       "      <td>chr1_633376_633442</td>\n",
       "      <td>0.166584</td>\n",
       "      <td>0.063662</td>\n",
       "      <td>ab</td>\n",
       "    </tr>\n",
       "    <tr>\n",
       "      <th>...</th>\n",
       "      <td>...</td>\n",
       "      <td>...</td>\n",
       "      <td>...</td>\n",
       "      <td>...</td>\n",
       "    </tr>\n",
       "    <tr>\n",
       "      <th>2861</th>\n",
       "      <td>chr9_40992885_40992908</td>\n",
       "      <td>0.086952</td>\n",
       "      <td>0.000000</td>\n",
       "      <td>a</td>\n",
       "    </tr>\n",
       "    <tr>\n",
       "      <th>2862</th>\n",
       "      <td>chr11_101860949_101860966</td>\n",
       "      <td>0.039002</td>\n",
       "      <td>0.000000</td>\n",
       "      <td>a</td>\n",
       "    </tr>\n",
       "    <tr>\n",
       "      <th>2863</th>\n",
       "      <td>chr12_108063343_108063381</td>\n",
       "      <td>0.040479</td>\n",
       "      <td>0.000000</td>\n",
       "      <td>a</td>\n",
       "    </tr>\n",
       "    <tr>\n",
       "      <th>2864</th>\n",
       "      <td>chr17_1056219_1056232</td>\n",
       "      <td>0.067197</td>\n",
       "      <td>0.000000</td>\n",
       "      <td>a</td>\n",
       "    </tr>\n",
       "    <tr>\n",
       "      <th>2865</th>\n",
       "      <td>chr19_45187694_45187712</td>\n",
       "      <td>0.041218</td>\n",
       "      <td>0.000000</td>\n",
       "      <td>a</td>\n",
       "    </tr>\n",
       "  </tbody>\n",
       "</table>\n",
       "<p>535 rows × 4 columns</p>\n",
       "</div>"
      ],
      "text/plain": [
       "                    mpmat_index  ATP8_DddA6_1  ATP8_DddA11_1 color\n",
       "0            chr1_631391_631393      0.371259       0.243265    ab\n",
       "1            chr1_631778_631791      0.312616       0.443596    ab\n",
       "2            chr1_633067_633147      0.105701       0.181528    ab\n",
       "3            chr1_633244_633286      0.064643       0.031852    ab\n",
       "4            chr1_633376_633442      0.166584       0.063662    ab\n",
       "...                         ...           ...            ...   ...\n",
       "2861     chr9_40992885_40992908      0.086952       0.000000     a\n",
       "2862  chr11_101860949_101860966      0.039002       0.000000     a\n",
       "2863  chr12_108063343_108063381      0.040479       0.000000     a\n",
       "2864      chr17_1056219_1056232      0.067197       0.000000     a\n",
       "2865    chr19_45187694_45187712      0.041218       0.000000     a\n",
       "\n",
       "[535 rows x 4 columns]"
      ]
     },
     "execution_count": 470,
     "metadata": {},
     "output_type": "execute_result"
    }
   ],
   "source": [
    "# load data in R env\n",
    "df2r = df_wide_score[['mpmat_index', 'ATP8_DddA6_1', 'ATP8_DddA11_1']].copy()\n",
    "df2r['color'] = df2r.apply(map_color, axis=1)\n",
    "df2r = df2r.query('color.notnull()')\n",
    "df2r"
   ]
  },
  {
   "cell_type": "code",
   "execution_count": 471,
   "id": "03c564a0-271a-41ab-bd3f-f384928a7ad1",
   "metadata": {
    "execution": {
     "iopub.execute_input": "2022-11-01T15:24:42.946877Z",
     "iopub.status.busy": "2022-11-01T15:24:42.946624Z",
     "iopub.status.idle": "2022-11-01T15:24:43.312805Z",
     "shell.execute_reply": "2022-11-01T15:24:43.312228Z",
     "shell.execute_reply.started": "2022-11-01T15:24:42.946857Z"
    },
    "tags": []
   },
   "outputs": [
    {
     "data": {
      "image/png": "[encoded data removed]"
     },
     "metadata": {},
     "output_type": "display_data"
    }
   ],
   "source": [
    "%%R -i df2r\n",
    "df = as.data.frame(df2r)\n",
    "# head(df, 10)\n",
    "\n",
    "g = ggplot(data=df) +\n",
    "    geom_point(\n",
    "        mapping=aes(\n",
    "            x=ATP8_DddA6_1,\n",
    "            y=ATP8_DddA11_1,\n",
    "            # alpha=0.99,\n",
    "            # size=1,\n",
    "            color=color,\n",
    "            fill=color,\n",
    "            # shape=color,\n",
    "            # group=color,\n",
    "        )\n",
    "    ) +\n",
    "    scale_color_manual(values=c(\"#ff9f1c\", \"#447B9D\", \"#e36414\")) +\n",
    "    scale_x_continuous(\n",
    "        name=\"Detect-seq_signals of ATP8_DddA6_1\",\n",
    "        limits=c(0, 0.5),\n",
    "    ) +\n",
    "    scale_y_continuous(\n",
    "        name=\"Detect-seq_signals of ATP8_DddA11_1\",\n",
    "        limits=c(0, 0.5),\n",
    "    ) +\n",
    "    geom_abline(intercept=0, slope=1, linetype=\"dashed\", color=\"#333333\") +\n",
    "    annotate(\"text\", x=0.4, y=0.09, hjust=0, parse=F, colour=\"black\", label=sprintf(\"N = %i\", dim(df)[1])) +\n",
    "    ggtitle(\"ATP8_DddA6_1 v.s. ATP8_DddA11_1\") +\n",
    "    theme_classic() +\n",
    "    theme(plot.title=element_text(hjust=0.5))\n",
    "\n",
    "ggsave('2022-10-30_Detect-seq_scatter-plot_ATP8_DddA6_1v.s.ATP8_DddA11_1.pdf', plot=g, width=4.6, height=4)\n",
    "g"
   ]
  },
  {
   "cell_type": "code",
   "execution_count": 472,
   "id": "49f41413-b852-4ef7-9b79-177844c90e4f",
   "metadata": {
    "execution": {
     "iopub.execute_input": "2022-11-01T15:24:48.107127Z",
     "iopub.status.busy": "2022-11-01T15:24:48.106849Z",
     "iopub.status.idle": "2022-11-01T15:24:48.548751Z",
     "shell.execute_reply": "2022-11-01T15:24:48.548050Z",
     "shell.execute_reply.started": "2022-11-01T15:24:48.107109Z"
    },
    "tags": []
   },
   "outputs": [
    {
     "data": {
      "image/png": "[encoded data removed]"
     },
     "metadata": {},
     "output_type": "display_data"
    }
   ],
   "source": [
    "%%R\n",
    "\n",
    "g = ggplot(data=df) +\n",
    "    geom_point(\n",
    "        mapping=aes(\n",
    "            x=ATP8_DddA6_1,\n",
    "            y=ATP8_DddA11_1,\n",
    "            # alpha=0.99,\n",
    "            # size=1,\n",
    "            color=color,\n",
    "            fill=color,\n",
    "            # shape=color,\n",
    "            # group=color,\n",
    "        )\n",
    "    ) +\n",
    "    scale_color_manual(values=c(\"#ff9f1c\", \"#447B9D\", \"#e36414\")) +\n",
    "    scale_x_log10(\n",
    "        name=\"log10_Detect-seq_signals of ATP8_DddA6_1\",\n",
    "        limits=c(0.01, 1.5),\n",
    "        # breaks=c(0.0001, 0.001, 0.01, 0.1, 1),\n",
    "    ) +\n",
    "    scale_y_log10(\n",
    "        name=\"log10_Detect-seq_signals of ATP8_DddA11_1\",\n",
    "        limits=c(0.01, 1.5),\n",
    "        # breaks=c(0.01, 0.1, 1, 10, 100, 1000),\n",
    "    ) +\n",
    "    geom_abline(intercept=0, slope=1, linetype=\"dashed\", color=\"#333333\") +\n",
    "    annotate(\"text\", x=0.4, y=0.09, hjust=0, parse=F, colour=\"black\", label=sprintf(\"N = %i\", dim(df)[1])) +\n",
    "    ggtitle(\"log10_ATP8_DddA6_1 v.s. ATP8_DddA11_1\") +\n",
    "    theme_classic() +\n",
    "    theme(plot.title=element_text(hjust=0.5))\n",
    "\n",
    "ggsave('2022-10-30_Detect-seq_scatter-plot_log10_ATP8_DddA6_1v.s.ATP8_DddA11_1.pdf', plot=g, width=4.6, height=4)\n",
    "g"
   ]
  },
  {
   "cell_type": "markdown",
   "id": "01de76d1-5841-45e3-8ce2-a49154ed251a",
   "metadata": {
    "tags": []
   },
   "source": [
    "### plot ATP8_DddA11_1 vs JAK2_DddA11_1"
   ]
  },
  {
   "cell_type": "code",
   "execution_count": 473,
   "id": "21e8c0ff-22d1-43c2-afa1-5d2bdcc0abf3",
   "metadata": {
    "execution": {
     "iopub.execute_input": "2022-11-01T15:24:51.994638Z",
     "iopub.status.busy": "2022-11-01T15:24:51.994391Z",
     "iopub.status.idle": "2022-11-01T15:24:52.042606Z",
     "shell.execute_reply": "2022-11-01T15:24:52.041995Z",
     "shell.execute_reply.started": "2022-11-01T15:24:51.994617Z"
    },
    "tags": []
   },
   "outputs": [
    {
     "data": {
      "text/html": [
       "<div>\n",
       "<style scoped>\n",
       "    .dataframe tbody tr th:only-of-type {\n",
       "        vertical-align: middle;\n",
       "    }\n",
       "\n",
       "    .dataframe tbody tr th {\n",
       "        vertical-align: top;\n",
       "    }\n",
       "\n",
       "    .dataframe thead th {\n",
       "        text-align: right;\n",
       "    }\n",
       "</style>\n",
       "<table border=\"1\" class=\"dataframe\">\n",
       "  <thead>\n",
       "    <tr style=\"text-align: right;\">\n",
       "      <th></th>\n",
       "      <th>mpmat_index</th>\n",
       "      <th>ATP8_DddA11_1</th>\n",
       "      <th>JAK2_DddA11_1</th>\n",
       "      <th>color</th>\n",
       "    </tr>\n",
       "  </thead>\n",
       "  <tbody>\n",
       "    <tr>\n",
       "      <th>0</th>\n",
       "      <td>chr1_631391_631393</td>\n",
       "      <td>0.243265</td>\n",
       "      <td>0.000000</td>\n",
       "      <td>a</td>\n",
       "    </tr>\n",
       "    <tr>\n",
       "      <th>1</th>\n",
       "      <td>chr1_631778_631791</td>\n",
       "      <td>0.443596</td>\n",
       "      <td>0.000000</td>\n",
       "      <td>a</td>\n",
       "    </tr>\n",
       "    <tr>\n",
       "      <th>2</th>\n",
       "      <td>chr1_633067_633147</td>\n",
       "      <td>0.181528</td>\n",
       "      <td>0.000000</td>\n",
       "      <td>a</td>\n",
       "    </tr>\n",
       "    <tr>\n",
       "      <th>3</th>\n",
       "      <td>chr1_633244_633286</td>\n",
       "      <td>0.031852</td>\n",
       "      <td>0.000000</td>\n",
       "      <td>a</td>\n",
       "    </tr>\n",
       "    <tr>\n",
       "      <th>4</th>\n",
       "      <td>chr1_633376_633442</td>\n",
       "      <td>0.063662</td>\n",
       "      <td>0.000000</td>\n",
       "      <td>a</td>\n",
       "    </tr>\n",
       "    <tr>\n",
       "      <th>...</th>\n",
       "      <td>...</td>\n",
       "      <td>...</td>\n",
       "      <td>...</td>\n",
       "      <td>...</td>\n",
       "    </tr>\n",
       "    <tr>\n",
       "      <th>3148</th>\n",
       "      <td>chrX_23318289_23318311</td>\n",
       "      <td>0.000000</td>\n",
       "      <td>0.130721</td>\n",
       "      <td>b</td>\n",
       "    </tr>\n",
       "    <tr>\n",
       "      <th>3149</th>\n",
       "      <td>chrX_53482280_53482301</td>\n",
       "      <td>0.000000</td>\n",
       "      <td>0.045222</td>\n",
       "      <td>b</td>\n",
       "    </tr>\n",
       "    <tr>\n",
       "      <th>3150</th>\n",
       "      <td>chrX_104136591_104136605</td>\n",
       "      <td>0.000000</td>\n",
       "      <td>0.022952</td>\n",
       "      <td>b</td>\n",
       "    </tr>\n",
       "    <tr>\n",
       "      <th>3151</th>\n",
       "      <td>chrX_115147404_115147425</td>\n",
       "      <td>0.000000</td>\n",
       "      <td>0.050274</td>\n",
       "      <td>b</td>\n",
       "    </tr>\n",
       "    <tr>\n",
       "      <th>3152</th>\n",
       "      <td>chrX_155049205_155049215</td>\n",
       "      <td>0.000000</td>\n",
       "      <td>0.107720</td>\n",
       "      <td>b</td>\n",
       "    </tr>\n",
       "  </tbody>\n",
       "</table>\n",
       "<p>729 rows × 4 columns</p>\n",
       "</div>"
      ],
      "text/plain": [
       "                   mpmat_index  ATP8_DddA11_1  JAK2_DddA11_1 color\n",
       "0           chr1_631391_631393       0.243265       0.000000     a\n",
       "1           chr1_631778_631791       0.443596       0.000000     a\n",
       "2           chr1_633067_633147       0.181528       0.000000     a\n",
       "3           chr1_633244_633286       0.031852       0.000000     a\n",
       "4           chr1_633376_633442       0.063662       0.000000     a\n",
       "...                        ...            ...            ...   ...\n",
       "3148    chrX_23318289_23318311       0.000000       0.130721     b\n",
       "3149    chrX_53482280_53482301       0.000000       0.045222     b\n",
       "3150  chrX_104136591_104136605       0.000000       0.022952     b\n",
       "3151  chrX_115147404_115147425       0.000000       0.050274     b\n",
       "3152  chrX_155049205_155049215       0.000000       0.107720     b\n",
       "\n",
       "[729 rows x 4 columns]"
      ]
     },
     "execution_count": 473,
     "metadata": {},
     "output_type": "execute_result"
    }
   ],
   "source": [
    "# load data in R env\n",
    "df2r = df_wide_score[['mpmat_index', 'ATP8_DddA11_1', 'JAK2_DddA11_1']].copy()\n",
    "df2r['color'] = df2r.apply(map_color, axis=1)\n",
    "df2r = df2r.query('color.notnull()')\n",
    "df2r"
   ]
  },
  {
   "cell_type": "code",
   "execution_count": 474,
   "id": "a8bc4647-9041-4250-9e3c-ced7bc909b06",
   "metadata": {
    "execution": {
     "iopub.execute_input": "2022-11-01T15:24:58.530792Z",
     "iopub.status.busy": "2022-11-01T15:24:58.530504Z",
     "iopub.status.idle": "2022-11-01T15:24:58.851368Z",
     "shell.execute_reply": "2022-11-01T15:24:58.850838Z",
     "shell.execute_reply.started": "2022-11-01T15:24:58.530774Z"
    },
    "tags": []
   },
   "outputs": [
    {
     "data": {
      "image/png": "[encoded data removed]"
     },
     "metadata": {},
     "output_type": "display_data"
    }
   ],
   "source": [
    "%%R -i df2r\n",
    "df = as.data.frame(df2r)\n",
    "# head(df, 10)\n",
    "\n",
    "g = ggplot(data=df) +\n",
    "    geom_point(\n",
    "        mapping=aes(\n",
    "            x=ATP8_DddA11_1,\n",
    "            y=JAK2_DddA11_1,\n",
    "            # alpha=0.99,\n",
    "            # size=1,\n",
    "            color=color,\n",
    "            fill=color,\n",
    "            # shape=color,\n",
    "            # group=color,\n",
    "        )\n",
    "    ) +\n",
    "    scale_color_manual(values=c(\"#ff9f1c\", \"#447B9D\", \"#e36414\")) +\n",
    "    scale_x_continuous(\n",
    "        name=\"Detect-seq_signals of ATP8_DddA11_1\",\n",
    "        limits=c(0, 0.8),\n",
    "    ) +\n",
    "    scale_y_continuous(\n",
    "        name=\"Detect-seq_signals of JAK2_DddA11_1\",\n",
    "        limits=c(0, 0.8),\n",
    "    ) +\n",
    "    geom_abline(intercept=0, slope=1, linetype=\"dashed\", color=\"#333333\") +\n",
    "    annotate(\"text\", x=0.4, y=0.09, hjust=0, parse=F, colour=\"black\", label=sprintf(\"N = %i\", dim(df)[1])) +\n",
    "    ggtitle(\"ATP8_DddA11_1 v.s. JAK2_DddA11_1\") +\n",
    "    theme_classic() +\n",
    "    theme(plot.title=element_text(hjust=0.5))\n",
    "\n",
    "ggsave('2022-10-30_Detect-seq_scatter-plot_ATP8_DddA11_1v.s.JAK2_DddA11_1.pdf', plot=g, width=4.6, height=4)\n",
    "g"
   ]
  },
  {
   "cell_type": "code",
   "execution_count": 475,
   "id": "b31fc673-6ba8-45e0-bc36-dda42f6b4fb7",
   "metadata": {
    "execution": {
     "iopub.execute_input": "2022-11-01T15:25:04.357639Z",
     "iopub.status.busy": "2022-11-01T15:25:04.357348Z",
     "iopub.status.idle": "2022-11-01T15:25:04.657406Z",
     "shell.execute_reply": "2022-11-01T15:25:04.656921Z",
     "shell.execute_reply.started": "2022-11-01T15:25:04.357617Z"
    },
    "tags": []
   },
   "outputs": [
    {
     "data": {
      "image/png": "[encoded data removed]"
     },
     "metadata": {},
     "output_type": "display_data"
    }
   ],
   "source": [
    "%%R\n",
    "\n",
    "g = ggplot(data=df) +\n",
    "    geom_point(\n",
    "        mapping=aes(\n",
    "            x=ATP8_DddA11_1,\n",
    "            y=JAK2_DddA11_1,\n",
    "            # alpha=0.99,\n",
    "            # size=1,\n",
    "            color=color,\n",
    "            fill=color,\n",
    "            # shape=color,\n",
    "            # group=color,\n",
    "        )\n",
    "    ) +\n",
    "    scale_color_manual(values=c(\"#ff9f1c\", \"#447B9D\", \"#e36414\")) +\n",
    "    scale_x_log10(\n",
    "        name=\"log10_Detect-seq_signals of ATP8_DddA11_1\",\n",
    "        limits=c(0.01, 1.5),\n",
    "        # breaks=c(0.0001, 0.001, 0.01, 0.1, 1),\n",
    "    ) +\n",
    "    scale_y_log10(\n",
    "        name=\"log10_Detect-seq_signals of JAK2_DddA11_1\",\n",
    "        limits=c(0.01, 1.5),\n",
    "        # breaks=c(0.01, 0.1, 1, 10, 100, 1000),\n",
    "    ) +\n",
    "    geom_abline(intercept=0, slope=1, linetype=\"dashed\", color=\"#333333\") +\n",
    "    annotate(\"text\", x=0.4, y=0.09, hjust=0, parse=F, colour=\"black\", label=sprintf(\"N = %i\", dim(df)[1])) +\n",
    "    ggtitle(\"log10_ATP8_DddA11_1 v.s. JAK2_DddA11_1\") +\n",
    "    theme_classic() +\n",
    "    theme(plot.title=element_text(hjust=0.5))\n",
    "\n",
    "ggsave('2022-10-30_Detect-seq_scatter-plot_log10_ATP8_DddA11_1v.s.JAK2_DddA11_1.pdf', plot=g, width=4.6, height=4)\n",
    "g"
   ]
  },
  {
   "cell_type": "markdown",
   "id": "ca74a59d-3971-4c7e-9680-601d46917769",
   "metadata": {
    "tags": []
   },
   "source": [
    "### plot ATP8_DddA11_1 vs SIRT6_DddA11_1"
   ]
  },
  {
   "cell_type": "code",
   "execution_count": 476,
   "id": "117352e5-b995-4127-a3de-7c88530377a1",
   "metadata": {
    "execution": {
     "iopub.execute_input": "2022-11-01T15:25:07.465466Z",
     "iopub.status.busy": "2022-11-01T15:25:07.465211Z",
     "iopub.status.idle": "2022-11-01T15:25:07.512568Z",
     "shell.execute_reply": "2022-11-01T15:25:07.512070Z",
     "shell.execute_reply.started": "2022-11-01T15:25:07.465447Z"
    },
    "tags": []
   },
   "outputs": [
    {
     "data": {
      "text/html": [
       "<div>\n",
       "<style scoped>\n",
       "    .dataframe tbody tr th:only-of-type {\n",
       "        vertical-align: middle;\n",
       "    }\n",
       "\n",
       "    .dataframe tbody tr th {\n",
       "        vertical-align: top;\n",
       "    }\n",
       "\n",
       "    .dataframe thead th {\n",
       "        text-align: right;\n",
       "    }\n",
       "</style>\n",
       "<table border=\"1\" class=\"dataframe\">\n",
       "  <thead>\n",
       "    <tr style=\"text-align: right;\">\n",
       "      <th></th>\n",
       "      <th>mpmat_index</th>\n",
       "      <th>ATP8_DddA11_1</th>\n",
       "      <th>SIRT6_DddA11_1</th>\n",
       "      <th>color</th>\n",
       "    </tr>\n",
       "  </thead>\n",
       "  <tbody>\n",
       "    <tr>\n",
       "      <th>0</th>\n",
       "      <td>chr1_631391_631393</td>\n",
       "      <td>0.243265</td>\n",
       "      <td>0.000000</td>\n",
       "      <td>a</td>\n",
       "    </tr>\n",
       "    <tr>\n",
       "      <th>1</th>\n",
       "      <td>chr1_631778_631791</td>\n",
       "      <td>0.443596</td>\n",
       "      <td>0.000000</td>\n",
       "      <td>a</td>\n",
       "    </tr>\n",
       "    <tr>\n",
       "      <th>2</th>\n",
       "      <td>chr1_633067_633147</td>\n",
       "      <td>0.181528</td>\n",
       "      <td>0.000000</td>\n",
       "      <td>a</td>\n",
       "    </tr>\n",
       "    <tr>\n",
       "      <th>3</th>\n",
       "      <td>chr1_633244_633286</td>\n",
       "      <td>0.031852</td>\n",
       "      <td>0.000000</td>\n",
       "      <td>a</td>\n",
       "    </tr>\n",
       "    <tr>\n",
       "      <th>4</th>\n",
       "      <td>chr1_633376_633442</td>\n",
       "      <td>0.063662</td>\n",
       "      <td>0.000000</td>\n",
       "      <td>a</td>\n",
       "    </tr>\n",
       "    <tr>\n",
       "      <th>...</th>\n",
       "      <td>...</td>\n",
       "      <td>...</td>\n",
       "      <td>...</td>\n",
       "      <td>...</td>\n",
       "    </tr>\n",
       "    <tr>\n",
       "      <th>3228</th>\n",
       "      <td>chrX_41024523_41024536</td>\n",
       "      <td>0.000000</td>\n",
       "      <td>0.108216</td>\n",
       "      <td>b</td>\n",
       "    </tr>\n",
       "    <tr>\n",
       "      <th>3229</th>\n",
       "      <td>chrX_72126743_72126762</td>\n",
       "      <td>0.000000</td>\n",
       "      <td>0.036446</td>\n",
       "      <td>b</td>\n",
       "    </tr>\n",
       "    <tr>\n",
       "      <th>3230</th>\n",
       "      <td>chrX_103211203_103211249</td>\n",
       "      <td>0.000000</td>\n",
       "      <td>0.035829</td>\n",
       "      <td>b</td>\n",
       "    </tr>\n",
       "    <tr>\n",
       "      <th>3231</th>\n",
       "      <td>chrX_132292961_132292983</td>\n",
       "      <td>0.000000</td>\n",
       "      <td>0.013551</td>\n",
       "      <td>b</td>\n",
       "    </tr>\n",
       "    <tr>\n",
       "      <th>3232</th>\n",
       "      <td>chrX_133005219_133005236</td>\n",
       "      <td>0.000000</td>\n",
       "      <td>0.031977</td>\n",
       "      <td>b</td>\n",
       "    </tr>\n",
       "  </tbody>\n",
       "</table>\n",
       "<p>2582 rows × 4 columns</p>\n",
       "</div>"
      ],
      "text/plain": [
       "                   mpmat_index  ATP8_DddA11_1  SIRT6_DddA11_1 color\n",
       "0           chr1_631391_631393       0.243265        0.000000     a\n",
       "1           chr1_631778_631791       0.443596        0.000000     a\n",
       "2           chr1_633067_633147       0.181528        0.000000     a\n",
       "3           chr1_633244_633286       0.031852        0.000000     a\n",
       "4           chr1_633376_633442       0.063662        0.000000     a\n",
       "...                        ...            ...             ...   ...\n",
       "3228    chrX_41024523_41024536       0.000000        0.108216     b\n",
       "3229    chrX_72126743_72126762       0.000000        0.036446     b\n",
       "3230  chrX_103211203_103211249       0.000000        0.035829     b\n",
       "3231  chrX_132292961_132292983       0.000000        0.013551     b\n",
       "3232  chrX_133005219_133005236       0.000000        0.031977     b\n",
       "\n",
       "[2582 rows x 4 columns]"
      ]
     },
     "execution_count": 476,
     "metadata": {},
     "output_type": "execute_result"
    }
   ],
   "source": [
    "# load data in R env\n",
    "df2r = df_wide_score[['mpmat_index', 'ATP8_DddA11_1', 'SIRT6_DddA11_1']].copy()\n",
    "df2r['color'] = df2r.apply(map_color, axis=1)\n",
    "df2r = df2r.query('color.notnull()')\n",
    "df2r"
   ]
  },
  {
   "cell_type": "code",
   "execution_count": 477,
   "id": "fbe657fa-1113-4894-a2bf-f15d2460d027",
   "metadata": {
    "execution": {
     "iopub.execute_input": "2022-11-01T15:25:11.510535Z",
     "iopub.status.busy": "2022-11-01T15:25:11.510282Z",
     "iopub.status.idle": "2022-11-01T15:25:11.884312Z",
     "shell.execute_reply": "2022-11-01T15:25:11.883843Z",
     "shell.execute_reply.started": "2022-11-01T15:25:11.510516Z"
    },
    "tags": []
   },
   "outputs": [
    {
     "data": {
      "image/png": "[encoded data removed]"
     },
     "metadata": {},
     "output_type": "display_data"
    }
   ],
   "source": [
    "%%R -i df2r\n",
    "df = as.data.frame(df2r)\n",
    "# head(df, 10)\n",
    "\n",
    "g = ggplot(data=df) +\n",
    "    geom_point(\n",
    "        mapping=aes(\n",
    "            x=ATP8_DddA11_1,\n",
    "            y=SIRT6_DddA11_1,\n",
    "            # alpha=0.99,\n",
    "            # size=1,\n",
    "            color=color,\n",
    "            fill=color,\n",
    "            # shape=color,\n",
    "            # group=color,\n",
    "        )\n",
    "    ) +\n",
    "    scale_color_manual(values=c(\"#ff9f1c\", \"#447B9D\", \"#e36414\")) +\n",
    "    scale_x_continuous(\n",
    "        name=\"Detect-seq_signals of ATP8_DddA11_1\",\n",
    "        limits=c(0, 0.8),\n",
    "    ) +\n",
    "    scale_y_continuous(\n",
    "        name=\"Detect-seq_signals of SIRT6_DddA11_1\",\n",
    "        limits=c(0, 0.8),\n",
    "    ) +\n",
    "    geom_abline(intercept=0, slope=1, linetype=\"dashed\", color=\"#333333\") +\n",
    "    annotate(\"text\", x=0.4, y=0.09, hjust=0, parse=F, colour=\"black\", label=sprintf(\"N = %i\", dim(df)[1])) +\n",
    "    ggtitle(\"ATP8_DddA11_1 v.s. SIRT6_DddA11_1\") +\n",
    "    theme_classic() +\n",
    "    theme(plot.title=element_text(hjust=0.5))\n",
    "\n",
    "ggsave('2022-10-30_Detect-seq_scatter-plot_ATP8_DddA11_1v.s.SIRT6_DddA11_1.pdf', plot=g, width=4.6, height=4)\n",
    "g"
   ]
  },
  {
   "cell_type": "code",
   "execution_count": 478,
   "id": "6f272edf-ff3a-43a0-95b9-73c9948be3a0",
   "metadata": {
    "execution": {
     "iopub.execute_input": "2022-11-01T15:25:18.667164Z",
     "iopub.status.busy": "2022-11-01T15:25:18.666728Z",
     "iopub.status.idle": "2022-11-01T15:25:19.006032Z",
     "shell.execute_reply": "2022-11-01T15:25:19.005538Z",
     "shell.execute_reply.started": "2022-11-01T15:25:18.667143Z"
    },
    "tags": []
   },
   "outputs": [
    {
     "data": {
      "image/png": "[encoded data removed]"
     },
     "metadata": {},
     "output_type": "display_data"
    }
   ],
   "source": [
    "%%R\n",
    "\n",
    "g = ggplot(data=df) +\n",
    "    geom_point(\n",
    "        mapping=aes(\n",
    "            x=ATP8_DddA11_1,\n",
    "            y=SIRT6_DddA11_1,\n",
    "            # alpha=0.99,\n",
    "            # size=1,\n",
    "            color=color,\n",
    "            fill=color,\n",
    "            # shape=color,\n",
    "            # group=color,\n",
    "        )\n",
    "    ) +\n",
    "    scale_color_manual(values=c(\"#ff9f1c\", \"#447B9D\", \"#e36414\")) +\n",
    "    scale_x_log10(\n",
    "        name=\"log10_Detect-seq_signals of ATP8_DddA11_1\",\n",
    "        limits=c(0.01, 1.5),\n",
    "        # breaks=c(0.0001, 0.001, 0.01, 0.1, 1),\n",
    "    ) +\n",
    "    scale_y_log10(\n",
    "        name=\"log10_Detect-seq_signals of SIRT6_DddA11_1\",\n",
    "        limits=c(0.01, 1.5),\n",
    "        # breaks=c(0.01, 0.1, 1, 10, 100, 1000),\n",
    "    ) +\n",
    "    geom_abline(intercept=0, slope=1, linetype=\"dashed\", color=\"#333333\") +\n",
    "    annotate(\"text\", x=0.4, y=0.09, hjust=0, parse=F, colour=\"black\", label=sprintf(\"N = %i\", dim(df)[1])) +\n",
    "    ggtitle(\"log10_ATP8_DddA11_1 v.s. SIRT6_DddA11_1\") +\n",
    "    theme_classic() +\n",
    "    theme(plot.title=element_text(hjust=0.5))\n",
    "\n",
    "ggsave('2022-10-30_Detect-seq_scatter-plot_log10_ATP8_DddA11_1v.s.SIRT6_DddA11_1.pdf', plot=g, width=4.6, height=4)\n",
    "g"
   ]
  },
  {
   "cell_type": "markdown",
   "id": "6a5719b3-72d3-4134-95f2-284d02120a81",
   "metadata": {
    "tags": []
   },
   "source": [
    "### plot JAK2_DddA11_1 vs SIRT6_DddA11_1"
   ]
  },
  {
   "cell_type": "code",
   "execution_count": 479,
   "id": "f9edc4f7-2e02-4a1e-93da-9b9465593428",
   "metadata": {
    "execution": {
     "iopub.execute_input": "2022-11-01T15:25:22.112493Z",
     "iopub.status.busy": "2022-11-01T15:25:22.112250Z",
     "iopub.status.idle": "2022-11-01T15:25:22.161103Z",
     "shell.execute_reply": "2022-11-01T15:25:22.160384Z",
     "shell.execute_reply.started": "2022-11-01T15:25:22.112476Z"
    },
    "tags": []
   },
   "outputs": [
    {
     "data": {
      "text/html": [
       "<div>\n",
       "<style scoped>\n",
       "    .dataframe tbody tr th:only-of-type {\n",
       "        vertical-align: middle;\n",
       "    }\n",
       "\n",
       "    .dataframe tbody tr th {\n",
       "        vertical-align: top;\n",
       "    }\n",
       "\n",
       "    .dataframe thead th {\n",
       "        text-align: right;\n",
       "    }\n",
       "</style>\n",
       "<table border=\"1\" class=\"dataframe\">\n",
       "  <thead>\n",
       "    <tr style=\"text-align: right;\">\n",
       "      <th></th>\n",
       "      <th>mpmat_index</th>\n",
       "      <th>JAK2_DddA11_1</th>\n",
       "      <th>SIRT6_DddA11_1</th>\n",
       "      <th>color</th>\n",
       "    </tr>\n",
       "  </thead>\n",
       "  <tbody>\n",
       "    <tr>\n",
       "      <th>7</th>\n",
       "      <td>chr1_121618159_121618201</td>\n",
       "      <td>0.018814</td>\n",
       "      <td>0.030136</td>\n",
       "      <td>ab</td>\n",
       "    </tr>\n",
       "    <tr>\n",
       "      <th>8</th>\n",
       "      <td>chr1_121750792_121750807</td>\n",
       "      <td>0.090096</td>\n",
       "      <td>0.108407</td>\n",
       "      <td>ab</td>\n",
       "    </tr>\n",
       "    <tr>\n",
       "      <th>22</th>\n",
       "      <td>chr3_90515287_90515305</td>\n",
       "      <td>0.000000</td>\n",
       "      <td>0.054253</td>\n",
       "      <td>b</td>\n",
       "    </tr>\n",
       "    <tr>\n",
       "      <th>42</th>\n",
       "      <td>chr6_72412316_72412386</td>\n",
       "      <td>0.035352</td>\n",
       "      <td>0.000000</td>\n",
       "      <td>a</td>\n",
       "    </tr>\n",
       "    <tr>\n",
       "      <th>45</th>\n",
       "      <td>chr7_60232407_60232481</td>\n",
       "      <td>0.014691</td>\n",
       "      <td>0.021030</td>\n",
       "      <td>ab</td>\n",
       "    </tr>\n",
       "    <tr>\n",
       "      <th>...</th>\n",
       "      <td>...</td>\n",
       "      <td>...</td>\n",
       "      <td>...</td>\n",
       "      <td>...</td>\n",
       "    </tr>\n",
       "    <tr>\n",
       "      <th>3228</th>\n",
       "      <td>chrX_41024523_41024536</td>\n",
       "      <td>0.000000</td>\n",
       "      <td>0.108216</td>\n",
       "      <td>b</td>\n",
       "    </tr>\n",
       "    <tr>\n",
       "      <th>3229</th>\n",
       "      <td>chrX_72126743_72126762</td>\n",
       "      <td>0.000000</td>\n",
       "      <td>0.036446</td>\n",
       "      <td>b</td>\n",
       "    </tr>\n",
       "    <tr>\n",
       "      <th>3230</th>\n",
       "      <td>chrX_103211203_103211249</td>\n",
       "      <td>0.000000</td>\n",
       "      <td>0.035829</td>\n",
       "      <td>b</td>\n",
       "    </tr>\n",
       "    <tr>\n",
       "      <th>3231</th>\n",
       "      <td>chrX_132292961_132292983</td>\n",
       "      <td>0.000000</td>\n",
       "      <td>0.013551</td>\n",
       "      <td>b</td>\n",
       "    </tr>\n",
       "    <tr>\n",
       "      <th>3232</th>\n",
       "      <td>chrX_133005219_133005236</td>\n",
       "      <td>0.000000</td>\n",
       "      <td>0.031977</td>\n",
       "      <td>b</td>\n",
       "    </tr>\n",
       "  </tbody>\n",
       "</table>\n",
       "<p>2613 rows × 4 columns</p>\n",
       "</div>"
      ],
      "text/plain": [
       "                   mpmat_index  JAK2_DddA11_1  SIRT6_DddA11_1 color\n",
       "7     chr1_121618159_121618201       0.018814        0.030136    ab\n",
       "8     chr1_121750792_121750807       0.090096        0.108407    ab\n",
       "22      chr3_90515287_90515305       0.000000        0.054253     b\n",
       "42      chr6_72412316_72412386       0.035352        0.000000     a\n",
       "45      chr7_60232407_60232481       0.014691        0.021030    ab\n",
       "...                        ...            ...             ...   ...\n",
       "3228    chrX_41024523_41024536       0.000000        0.108216     b\n",
       "3229    chrX_72126743_72126762       0.000000        0.036446     b\n",
       "3230  chrX_103211203_103211249       0.000000        0.035829     b\n",
       "3231  chrX_132292961_132292983       0.000000        0.013551     b\n",
       "3232  chrX_133005219_133005236       0.000000        0.031977     b\n",
       "\n",
       "[2613 rows x 4 columns]"
      ]
     },
     "execution_count": 479,
     "metadata": {},
     "output_type": "execute_result"
    }
   ],
   "source": [
    "# load data in R env\n",
    "df2r = df_wide_score[['mpmat_index', 'JAK2_DddA11_1', 'SIRT6_DddA11_1']].copy()\n",
    "df2r['color'] = df2r.apply(map_color, axis=1)\n",
    "df2r = df2r.query('color.notnull()')\n",
    "df2r"
   ]
  },
  {
   "cell_type": "code",
   "execution_count": 480,
   "id": "9fe172ad-846c-473e-a610-1bd78d6a53f9",
   "metadata": {
    "execution": {
     "iopub.execute_input": "2022-11-01T15:25:26.663632Z",
     "iopub.status.busy": "2022-11-01T15:25:26.663381Z",
     "iopub.status.idle": "2022-11-01T15:25:27.031528Z",
     "shell.execute_reply": "2022-11-01T15:25:27.031080Z",
     "shell.execute_reply.started": "2022-11-01T15:25:26.663614Z"
    },
    "tags": []
   },
   "outputs": [
    {
     "data": {
      "image/png": "[encoded data removed]"
     },
     "metadata": {},
     "output_type": "display_data"
    }
   ],
   "source": [
    "%%R -i df2r\n",
    "df = as.data.frame(df2r)\n",
    "# head(df, 10)\n",
    "\n",
    "g = ggplot(data=df) +\n",
    "    geom_point(\n",
    "        mapping=aes(\n",
    "            x=JAK2_DddA11_1,\n",
    "            y=SIRT6_DddA11_1,\n",
    "            # alpha=0.99,\n",
    "            # size=1,\n",
    "            color=color,\n",
    "            fill=color,\n",
    "            # shape=color,\n",
    "            # group=color,\n",
    "        )\n",
    "    ) +\n",
    "    scale_color_manual(values=c(\"#ff9f1c\", \"#447B9D\", \"#e36414\")) +\n",
    "    scale_x_continuous(\n",
    "        name=\"Detect-seq_signals of JAK2_DddA11_1\",\n",
    "        limits=c(0, 0.9),\n",
    "    ) +\n",
    "    scale_y_continuous(\n",
    "        name=\"Detect-seq_signals of SIRT6_DddA11_1\",\n",
    "        limits=c(0, 0.9),\n",
    "    ) +\n",
    "    geom_abline(intercept=0, slope=1, linetype=\"dashed\", color=\"#333333\") +\n",
    "    annotate(\"text\", x=0.4, y=0.09, hjust=0, parse=F, colour=\"black\", label=sprintf(\"N = %i\", dim(df)[1])) +\n",
    "    ggtitle(\"JAK2_DddA11_1 v.s. SIRT6_DddA11_1\") +\n",
    "    theme_classic() +\n",
    "    theme(plot.title=element_text(hjust=0.5))\n",
    "\n",
    "ggsave('2022-10-30_Detect-seq_scatter-plot_JAK2_DddA11_1v.s.SIRT6_DddA11_1.pdf', plot=g, width=4.6, height=4)\n",
    "g"
   ]
  },
  {
   "cell_type": "code",
   "execution_count": 481,
   "id": "c0e5dae4-bbf4-46c2-812b-c0546afe3e27",
   "metadata": {
    "execution": {
     "iopub.execute_input": "2022-11-01T15:25:31.554569Z",
     "iopub.status.busy": "2022-11-01T15:25:31.554317Z",
     "iopub.status.idle": "2022-11-01T15:25:31.901872Z",
     "shell.execute_reply": "2022-11-01T15:25:31.901126Z",
     "shell.execute_reply.started": "2022-11-01T15:25:31.554550Z"
    },
    "tags": []
   },
   "outputs": [
    {
     "data": {
      "image/png": "[encoded data removed]"
     },
     "metadata": {},
     "output_type": "display_data"
    }
   ],
   "source": [
    "%%R\n",
    "\n",
    "g = ggplot(data=df) +\n",
    "    geom_point(\n",
    "        mapping=aes(\n",
    "            x=JAK2_DddA11_1,\n",
    "            y=SIRT6_DddA11_1,\n",
    "            # alpha=0.99,\n",
    "            # size=1,\n",
    "            color=color,\n",
    "            fill=color,\n",
    "            # shape=color,\n",
    "            # group=color,\n",
    "        )\n",
    "    ) +\n",
    "    scale_color_manual(values=c(\"#ff9f1c\", \"#447B9D\", \"#e36414\")) +\n",
    "    scale_x_log10(\n",
    "        name=\"log10_Detect-seq_signals of JAK2_DddA11_1\",\n",
    "        limits=c(0.01, 1.5),\n",
    "        # breaks=c(0.0001, 0.001, 0.01, 0.1, 1),\n",
    "    ) +\n",
    "    scale_y_log10(\n",
    "        name=\"log10_Detect-seq_signals of SIRT6_DddA11_1\",\n",
    "        limits=c(0.01, 1.5),\n",
    "        # breaks=c(0.01, 0.1, 1, 10, 100, 1000),\n",
    "    ) +\n",
    "    geom_abline(intercept=0, slope=1, linetype=\"dashed\", color=\"#333333\") +\n",
    "    annotate(\"text\", x=0.4, y=0.09, hjust=0, parse=F, colour=\"black\", label=sprintf(\"N = %i\", dim(df)[1])) +\n",
    "    ggtitle(\"log10_JAK2_DddA11_1 v.s. SIRT6_DddA11_1\") +\n",
    "    theme_classic() +\n",
    "    theme(plot.title=element_text(hjust=0.5))\n",
    "\n",
    "ggsave('2022-10-30_Detect-seq_scatter-plot_log10_JAK2_DddA11_1v.s.SIRT6_DddA11_1.pdf', plot=g, width=4.6, height=4)\n",
    "g"
   ]
  },
  {
   "cell_type": "code",
   "execution_count": null,
   "id": "73b099ea-d587-4d49-b223-042658c0ef4c",
   "metadata": {},
   "outputs": [],
   "source": []
  },
  {
   "cell_type": "markdown",
   "id": "2c7513fe-d7d2-441d-9388-edbace632cdf",
   "metadata": {},
   "source": [
    "## 2022-10-21 co-localization between all CTCF peaks and \u000b",
    "Detect-seq signals from different DdCBE treatments"
   ]
  },
  {
   "cell_type": "markdown",
   "id": "ffb02e19-328b-4a65-9833-574ab6794ffa",
   "metadata": {
    "tags": []
   },
   "source": [
    "# IGV 截图脚本"
   ]
  },
  {
   "cell_type": "code",
   "execution_count": null,
   "id": "5b1364e4-cf2f-4c83-9e7b-352eae6592a4",
   "metadata": {
    "tags": []
   },
   "outputs": [],
   "source": [
    "df_igv = df_pois[[\n",
    "    'chr_name', 'region_start', 'region_end', 'bed_name', 'log2_FC_mut'\n",
    "]]\n",
    "df_igv.head()"
   ]
  },
  {
   "cell_type": "code",
   "execution_count": null,
   "id": "b62590f5-903f-40ee-a15a-8dc726fa420e",
   "metadata": {
    "tags": []
   },
   "outputs": [],
   "source": [
    "# 理论上这里得到的是所有 samples 的 candidate list\n",
    "# 经过先 merge mpmat 的处理，再 call 点，应该不存在能 overlap 到一起的 region，只能是样本间 share\n",
    "# 相同位置或者 not share，不存在 overlap 又不相同的情况了"
   ]
  },
  {
   "cell_type": "code",
   "execution_count": null,
   "id": "8efbe775-5ee6-4101-96ba-3855c529b97b",
   "metadata": {
    "tags": []
   },
   "outputs": [],
   "source": [
    "df_igv.head()"
   ]
  },
  {
   "cell_type": "code",
   "execution_count": null,
   "id": "516cb100-b792-49da-af69-5826e8732052",
   "metadata": {
    "tags": []
   },
   "outputs": [],
   "source": [
    "# 对call 到的所有点进行随机采样\n",
    "np.random.seed = 2022\n",
    "df_igv = df_igv.sample(n=300)\n",
    "df_igv"
   ]
  },
  {
   "cell_type": "code",
   "execution_count": null,
   "id": "b9c312b1-da76-48a0-9167-01a3857aaeb2",
   "metadata": {
    "tags": []
   },
   "outputs": [],
   "source": [
    "# 整理df格式为bed文件格式\n",
    "print(df_igv)\n",
    "#        0          1          2\n",
    "# 0   chr5   69093805   69093830\n",
    "# 1   chr8   37153384   37153424\n",
    "# 2  chr15   57559994   57560017\n",
    "# 3  chr15   68651256   68651277\n",
    "# 4  chr10  119445511  119445546\n",
    "# 5   chr8   20184990   20185028\n",
    "# 6  chr19   45187694   45187712\n",
    "# 7  chr15   81265992   81266016\n",
    "# 8   chr2  201232409  201232430\n",
    "# 9   chr9   98034893   98034930"
   ]
  },
  {
   "cell_type": "code",
   "execution_count": null,
   "id": "e590a105-62bd-4e7a-b775-3f69dc8cc0a6",
   "metadata": {
    "tags": []
   },
   "outputs": [],
   "source": [
    "# 填写相关信息\n",
    "\n",
    "path_out = '/Volumes/zhaohn_HD/3.project/2022_DdCBE-3D-Genome_topic/2022-09-30_Detect-seq_batch-1/igv'\n",
    "date = 20221027\n",
    "format_ = \"png\"\n",
    "height = 1500\n",
    "\n",
    "# 格式化脚本\n",
    "text = f\"maxPanelHeight {height}\\nsnapshotDirectory {path_out}/off-targets_{date}\\n\"\n",
    "print(text)"
   ]
  },
  {
   "cell_type": "code",
   "execution_count": null,
   "id": "e2503d2e-244a-4114-9fa9-07f795627641",
   "metadata": {
    "tags": []
   },
   "outputs": [],
   "source": [
    "df_snapshot = df_igv.iloc[:, 0:5]\n",
    "\n",
    "for index, row_info in df_snapshot.iterrows():\n",
    "    chrom, start, stop, bed_name, score = row_info\n",
    "\n",
    "    path_out_png = f'{score}_{bed_name}.snapshot.{format_}'\n",
    "    middle = int((start + stop) / 2)\n",
    "\n",
    "    text += f\"goto {chrom}:{middle - 100}-{middle + 100}\\nsnapshot {path_out_png}\\n\"\n",
    "print(text[:1000])"
   ]
  },
  {
   "cell_type": "code",
   "execution_count": null,
   "id": "6a5415c2-0226-49e4-8c86-50922aec8d49",
   "metadata": {
    "tags": []
   },
   "outputs": [],
   "source": [
    "with open(f'{path_out}/off-targets_{date}_snapshot.igv_shot_script', 'wt') as f:\n",
    "    f.write(text)"
   ]
  },
  {
   "cell_type": "code",
   "execution_count": null,
   "id": "619960a3",
   "metadata": {
    "collapsed": false,
    "jupyter": {
     "outputs_hidden": false
    },
    "tags": []
   },
   "outputs": [],
   "source": [
    "# DetectSeq_JAK2\n",
    "# DetectSeq_SIRT6\n",
    "# IND share?"
   ]
  },
  {
   "cell_type": "markdown",
   "id": "70263df9",
   "metadata": {},
   "source": [
    "# off-target analysis"
   ]
  },
  {
   "cell_type": "markdown",
   "id": "8c6057e9",
   "metadata": {},
   "source": [
    "## off-target list"
   ]
  },
  {
   "cell_type": "markdown",
   "id": "8e0477dc",
   "metadata": {},
   "source": [
    "### circos plot"
   ]
  },
  {
   "cell_type": "markdown",
   "id": "c9635b7b",
   "metadata": {},
   "source": [
    "#### learn circos plot\n",
    "- [tutorial1](https://colab.research.google.com/drive/1xmAnv7AHWUTA2HWfjqV1lFWkFMSLJHG0?usp=sharing)\n",
    "- [tutorial2](https://colab.research.google.com/drive/1RYSo4aXpDIZlSQ9EhO2kPCeF8FOwyvXv?usp=sharing)\n",
    "- [tutorial3](https://colab.research.google.com/drive/1EPxCQCgOouVxtXcGyxu2ZqQvfucVnOJ-?usp=sharing)\n",
    "- [tutorial4(Drawing pylogenetic tree)](https://colab.research.google.com/drive/140m2jpQpgSZwSlP-3u3Oj8IcJUbP2NGD?usp=sharing)"
   ]
  },
  {
   "cell_type": "code",
   "execution_count": null,
   "id": "ec7308ac-b380-4ad3-aeea-b6562797d3b9",
   "metadata": {
    "tags": []
   },
   "outputs": [],
   "source": [
    "# pip install python-circos"
   ]
  },
  {
   "cell_type": "code",
   "execution_count": null,
   "id": "0b2ff1e4",
   "metadata": {
    "collapsed": false,
    "jupyter": {
     "outputs_hidden": false
    },
    "tags": []
   },
   "outputs": [],
   "source": [
    "# !mkdir -p../ temp_file\n",
    "# % cd../ temp_file\n",
    "# !mkdir -p pycircos\n",
    "# % cd pycircos\n",
    "# !mkdir -p sample_data\n",
    "# % cd sample_data"
   ]
  },
  {
   "cell_type": "code",
   "execution_count": null,
   "id": "969a1dec",
   "metadata": {
    "collapsed": false,
    "jupyter": {
     "outputs_hidden": false
    },
    "tags": []
   },
   "outputs": [],
   "source": [
    "# #The following example data was downloaded from https://venyao.xyz/shinyCircos/.\n",
    "# !wget https: // github.com / ponnhide / pyCircos-examples / raw / main / example_notebooks / sample_data / example_data_barplot.csv\n",
    "# !wget https: // github.com / ponnhide / pyCircos-examples / raw / main / example_notebooks / sample_data / example_data_chromosome_cytoband.csv\n",
    "# !wget https: // github.com / ponnhide / pyCircos-examples / raw / main / example_notebooks / sample_data / example_data_chromosome_general.csv\n",
    "# !wget https: // github.com / ponnhide / pyCircos-examples / raw / main / example_notebooks / sample_data / example_data_links.csv\n",
    "# !wget https: // github.com / ponnhide / pyCircos-examples / raw / main / example_notebooks / sample_data / example_data_point.csv\n",
    "# !wget https: // github.com / ponnhide / pyCircos-examples / raw / main / example_notebooks / sample_data / example_data_rect_gradual.csv"
   ]
  },
  {
   "cell_type": "code",
   "execution_count": null,
   "id": "8a9976e4",
   "metadata": {
    "collapsed": false,
    "jupyter": {
     "outputs_hidden": false
    },
    "tags": []
   },
   "outputs": [],
   "source": [
    "# % cd / Volumes / zhaohn_HD / 3.project / 2022_DdCBE-3D-Genome_topic / 2022-09-30_Detect-seq_batch-1 / snakepipes_detect-seq"
   ]
  },
  {
   "cell_type": "markdown",
   "id": "d4d0f69e",
   "metadata": {},
   "source": [
    "#### circos plot"
   ]
  },
  {
   "cell_type": "markdown",
   "id": "b6c604bb-54e3-4599-8dcb-ecbc88866c84",
   "metadata": {
    "execution": {
     "iopub.execute_input": "2022-10-21T07:16:22.990392Z",
     "iopub.status.busy": "2022-10-21T07:16:22.990109Z",
     "iopub.status.idle": "2022-10-21T07:16:22.994832Z",
     "shell.execute_reply": "2022-10-21T07:16:22.993948Z",
     "shell.execute_reply.started": "2022-10-21T07:16:22.990374Z"
    }
   },
   "source": [
    "##### 准备 data"
   ]
  },
  {
   "cell_type": "code",
   "execution_count": null,
   "id": "14871568-295c-4bf8-ac25-86b88397d3d4",
   "metadata": {
    "collapsed": false,
    "jupyter": {
     "outputs_hidden": false
    },
    "tags": []
   },
   "outputs": [],
   "source": [
    "# 基因组 fai 文件（染色体长度信息），区分 hg19 和 hg38\n",
    "path_genome_length = '/Users/zhaohuanan/Bio/1.database/db_genomes/genome_fa/genome_ucsc_hg38/genome_ucsc_hg38.fa.fai'\n",
    "df_genome_length = pd.read_csv(\n",
    "    path_genome_length,\n",
    "    header=None,\n",
    "    sep='\\t',\n",
    "    usecols=[0, 1],\n",
    "    names=['chrom', 'end'],\n",
    ")\n",
    "df_genome_length.insert(loc=1, column='start', value=1)\n",
    "\n",
    "df_genome_length = df_genome_length\\\n",
    "    .query(\"chrom != 'chrY'\")\\\n",
    "    .query(\"chrom != 'chrM'\")\n",
    "\n",
    "print(df_genome_length.head(2))"
   ]
  },
  {
   "cell_type": "code",
   "execution_count": null,
   "id": "4335f60c-d17c-4218-aa64-016fcd1ed106",
   "metadata": {
    "collapsed": false,
    "jupyter": {
     "outputs_hidden": false
    },
    "tags": []
   },
   "outputs": [],
   "source": [
    "# cytoband 信息，可以在 ucsc 下载，区分 hg19 和 hg38\n",
    "df_genome_cytoband = pd.read_csv(\n",
    "    \"http://hgdownload.cse.ucsc.edu/goldenpath/hg38/database/cytoBand.txt.gz\",\n",
    "    header=None,\n",
    "    sep='\\t',\n",
    "    usecols=range(5),\n",
    "    names=['chrom', 'start', 'end', 'value1', 'value2'])\n",
    "# 对 chromosome 进行过滤，保留标准染色体\n",
    "df_genome_cytoband = df_genome_cytoband\\\n",
    "    .query(\"not chrom.str.endswith('fix')\")\\\n",
    "    .query(\"not chrom.str.endswith('alt')\")\\\n",
    "    .query(\"not chrom.str.endswith('random')\")\\\n",
    "    .query(\"not chrom.str.startswith('chrUn')\")\\\n",
    "    .query(\"chrom != 'chrY'\")\\\n",
    "    .query(\"chrom != 'chrM'\")\n",
    "print(sorted(df_genome_cytoband.chrom.unique()))\n",
    "print()\n",
    "print(df_genome_cytoband.head(2))"
   ]
  },
  {
   "cell_type": "code",
   "execution_count": null,
   "id": "5d7bf9d9-2e9f-4378-a4bf-bde136c0f717",
   "metadata": {
    "tags": []
   },
   "outputs": [],
   "source": [
    "df_circos_point = df[[\n",
    "    '<sample>', 'chr_name', 'region_start', 'region_end', 'log2_FC_mut'\n",
    "]].copy()\n",
    "df_circos_point.columns = ['sample', 'chrom', 'start', 'end', 'score']\n",
    "df_circos_point.reset_index(inplace=True, drop=True)\n",
    "df_circos_point"
   ]
  },
  {
   "cell_type": "markdown",
   "id": "11dafed5-60a8-468d-9b8a-e4d9b6cf923c",
   "metadata": {},
   "source": [
    "##### 设置比例尺"
   ]
  },
  {
   "cell_type": "code",
   "execution_count": null,
   "id": "66418fd2-90c1-49d8-aeb8-25b021e005f2",
   "metadata": {
    "tags": []
   },
   "outputs": [],
   "source": [
    "scale = 1.1"
   ]
  },
  {
   "cell_type": "code",
   "execution_count": null,
   "id": "6a7b3a9f-007e-4827-961b-3cb91b809c5a",
   "metadata": {
    "tags": []
   },
   "outputs": [],
   "source": [
    "arc_range_i = df_circos_point['sample'].unique().__len__() + 1\n",
    "arc_raixs_range = ((arc_range_i * 100.0) * scale,\n",
    "                   (arc_range_i * 100.0 + 20) * scale)\n",
    "arc_raixs_range"
   ]
  },
  {
   "cell_type": "markdown",
   "id": "0f266bf8-28df-45c2-bbeb-6e67349ea8a9",
   "metadata": {
    "execution": {
     "iopub.execute_input": "2022-10-21T06:17:24.104466Z",
     "iopub.status.busy": "2022-10-21T06:17:24.104224Z",
     "iopub.status.idle": "2022-10-21T06:17:24.111202Z",
     "shell.execute_reply": "2022-10-21T06:17:24.110435Z",
     "shell.execute_reply.started": "2022-10-21T06:17:24.104449Z"
    },
    "tags": []
   },
   "source": [
    "##### 设置染色体信息"
   ]
  },
  {
   "cell_type": "code",
   "execution_count": null,
   "id": "875fc0e9",
   "metadata": {
    "collapsed": false,
    "jupyter": {
     "outputs_hidden": false
    },
    "tags": []
   },
   "outputs": [],
   "source": [
    "# set chromeosomes\n",
    "circle = Gcircle()\n",
    "\n",
    "for idx, row in df_genome_length.iterrows():\n",
    "    chrom, start, end = row\n",
    "    length = end - start + 1\n",
    "\n",
    "    arc = Garc(\n",
    "        arc_id=chrom,  # 染色体名称\n",
    "        size=length,  # 染色体长度\n",
    "        interspace=1,  # 间隔距离\n",
    "        raxis_range=arc_raixs_range,  # 内外半径长度\n",
    "        labelposition=60,  # 越往里越小，越往外越大\n",
    "        label_visible=True,  # 是否展示 label，也就是染色体名称\n",
    "    )\n",
    "    circle.add_garc(arc)  # 添加一个染色体信息\n",
    "\n",
    "circle.set_garcs()  # 整合设置所有添加过的染色体信息"
   ]
  },
  {
   "cell_type": "markdown",
   "id": "d7bc261d-ec42-4c4b-833e-0568d23caeb2",
   "metadata": {
    "execution": {
     "iopub.execute_input": "2022-10-21T06:22:00.236412Z",
     "iopub.status.busy": "2022-10-21T06:22:00.236161Z",
     "iopub.status.idle": "2022-10-21T06:22:00.283305Z",
     "shell.execute_reply": "2022-10-21T06:22:00.282835Z",
     "shell.execute_reply.started": "2022-10-21T06:22:00.236395Z"
    }
   },
   "source": [
    "##### 整理 cytoband 信息到arcdata\\_dict"
   ]
  },
  {
   "cell_type": "code",
   "execution_count": null,
   "id": "97912204-81f4-45c1-82e1-430dbbd6ab4f",
   "metadata": {
    "collapsed": false,
    "jupyter": {
     "outputs_hidden": false
    },
    "tags": []
   },
   "outputs": [],
   "source": [
    "# 定义不同 cytoband 的颜色\n",
    "color_dict = {\n",
    "    \"gneg\": \"#FFFFFF00\",\n",
    "    \"gpos25\": \"#EEEEEE\",\n",
    "    \"gpos50\": \"#BBBBBB\",\n",
    "    \"gpos75\": \"#777777\",\n",
    "    \"gpos100\": \"#000000\",\n",
    "    \"gvar\": \"#FFFFFF00\",\n",
    "    \"stalk\": \"#C01E27\",\n",
    "    \"acen\": \"#D82322\"\n",
    "}\n",
    "\n",
    "# defaultdict的说明\n",
    "# https://zhuanlan.zhihu.com/p/46476348\n",
    "# 其实就是当引用的 key 不存在时返回默认值,这里是默认返回一个 dict 而不抛出 KeyError\n",
    "arcdata_dict = collections.defaultdict(dict)  # 传入 dict 函数，调用时返回空 dict\n",
    "# or\n",
    "# arcdata_dict = collections.defaultdict(lambda: {})\n",
    "# arcdata_dict\n",
    "\n",
    "for idx, row in df_genome_cytoband.iterrows():\n",
    "    chrom, start, end, value1, value2 = row\n",
    "    width = end - start + 1\n",
    "    # 在进行arcdata_dict对键chrom 取值取不到的时候\n",
    "    # 默认创建空 dict 而不是 raise KeyError\n",
    "    if chrom not in arcdata_dict:\n",
    "        arcdata_dict[chrom]['positions'] = []\n",
    "        arcdata_dict[chrom]['widths'] = []\n",
    "        arcdata_dict[chrom]['colors'] = []\n",
    "    else:\n",
    "        arcdata_dict[chrom]['positions'].append(start)\n",
    "        arcdata_dict[chrom]['widths'].append(width)\n",
    "        arcdata_dict[chrom]['colors'].append(color_dict[value2])\n",
    "\n",
    "print(arcdata_dict.__str__()[:1000])"
   ]
  },
  {
   "cell_type": "markdown",
   "id": "98f18958-28f9-4051-83ec-ef2bd3c366e3",
   "metadata": {},
   "source": [
    "##### 将 cytoband 信息加到 circle 对象中去"
   ]
  },
  {
   "cell_type": "code",
   "execution_count": null,
   "id": "2e6cdb7f-b523-4f3e-9221-1a002bd4477d",
   "metadata": {
    "collapsed": false,
    "jupyter": {
     "outputs_hidden": false
    },
    "tags": []
   },
   "outputs": [],
   "source": [
    "for chrom in arcdata_dict:\n",
    "    circle.barplot(chrom,\n",
    "                   data=[1] * len(arcdata_dict[chrom]['positions']),\n",
    "                   positions=arcdata_dict[chrom]['positions'],\n",
    "                   width=arcdata_dict[chrom]['widths'],\n",
    "                   raxis_range=arc_raixs_range,\n",
    "                   facecolor=arcdata_dict[chrom]['colors'])"
   ]
  },
  {
   "cell_type": "markdown",
   "id": "e852695c-ed96-4368-b40b-0732ff8d1e7b",
   "metadata": {
    "jupyter": {
     "outputs_hidden": false
    }
   },
   "source": [
    "##### 查看绘制的circos plot骨架"
   ]
  },
  {
   "cell_type": "code",
   "execution_count": null,
   "id": "72dd14a0-7daa-4cd4-a695-3172329342b2",
   "metadata": {
    "tags": []
   },
   "outputs": [],
   "source": [
    "# circle.figure?\n",
    "circle.figure"
   ]
  },
  {
   "cell_type": "markdown",
   "id": "9d4d8318-5ad4-44cd-be3c-85de6fff653b",
   "metadata": {},
   "source": [
    "##### 添加每个样本中的 off-target sites 信息"
   ]
  },
  {
   "cell_type": "code",
   "execution_count": null,
   "id": "2b392d24-6d83-4bdc-8d6b-5262bcb1c452",
   "metadata": {
    "tags": []
   },
   "outputs": [],
   "source": [
    "# TODO\n",
    "# sample lable\n",
    "# background color\n",
    "# point color\n",
    "# edge color of point\n",
    "\n",
    "# scatter plot\n",
    "counter_circle = 0\n",
    "# color\n",
    "\n",
    "for sample, sample_df in df_circos_point.groupby('sample'):\n",
    "    print(sample, sample_df.shape[0])\n",
    "    counter_circle += 1\n",
    "\n",
    "    values_all = []\n",
    "    arcdata_dict = collections.defaultdict(dict)\n",
    "\n",
    "    for idx, row in sample_df.iterrows():\n",
    "        _, chrom, start, end, score = row\n",
    "        middle = (start + end) / 2\n",
    "        values_all.append(score)\n",
    "\n",
    "        if chrom not in arcdata_dict:\n",
    "            arcdata_dict[chrom][\"positions\"] = []\n",
    "            arcdata_dict[chrom][\"values\"] = []\n",
    "        else:\n",
    "            arcdata_dict[chrom][\"positions\"].append(middle)\n",
    "            arcdata_dict[chrom][\"values\"].append(score)\n",
    "\n",
    "    vmin, vmax = min(values_all), max(values_all)\n",
    "\n",
    "    arc_raixs_range_sample = ((counter_circle * 100.0) * scale,\n",
    "                              (counter_circle * 100.0 + 80) * scale)\n",
    "\n",
    "    for chrom in arcdata_dict:\n",
    "        circle.scatterplot(\n",
    "            chrom,\n",
    "            data=arcdata_dict[chrom][\"values\"],\n",
    "            positions=arcdata_dict[chrom][\"positions\"],\n",
    "            rlim=[vmin - 0.05 * abs(vmin), vmax + 0.05 * abs(vmax)],\n",
    "            markershape='o',\n",
    "            markersize=1,\n",
    "            raxis_range=arc_raixs_range_sample,\n",
    "            facecolor=\"#468FBE\",\n",
    "            edgecolor=\"#000000\",\n",
    "            linewidth=0.03,\n",
    "            spine=True)\n",
    "\n",
    "circle.figure"
   ]
  },
  {
   "cell_type": "code",
   "execution_count": null,
   "id": "fe612234-5480-4ba7-80dd-cde9396898e9",
   "metadata": {
    "tags": []
   },
   "outputs": [],
   "source": [
    "circle.figure?"
   ]
  },
  {
   "cell_type": "markdown",
   "id": "1a1f113e",
   "metadata": {},
   "source": [
    "\n",
    "### upset plot\n",
    "\n",
    "## signal strength\n",
    "\n",
    "### scatter plot\n",
    "\n",
    "## alignment\n",
    "### art plot\n",
    "\n",
    "## editing window\n",
    "### indel comparation\n",
    "\n",
    "## ctcf analysis\n",
    "### shared off-target motif\n",
    "### DddAwt,6,11 co-localization with ctcf"
   ]
  },
  {
   "cell_type": "code",
   "execution_count": null,
   "id": "48bd2502-2b5a-42df-a259-8c897aeca2af",
   "metadata": {},
   "outputs": [],
   "source": []
  },
  {
   "cell_type": "code",
   "execution_count": null,
   "id": "4f096e6e",
   "metadata": {
    "collapsed": false,
    "jupyter": {
     "outputs_hidden": false
    }
   },
   "outputs": [],
   "source": []
  }
 ],
 "metadata": {
  "kernelspec": {
   "display_name": "Python 3 (ipykernel)",
   "language": "python",
   "name": "python3"
  },
  "language_info": {
   "codemirror_mode": {
    "name": "ipython",
    "version": 3
   },
   "file_extension": ".py",
   "mimetype": "text/x-python",
   "name": "python",
   "nbconvert_exporter": "python",
   "pygments_lexer": "ipython3",
   "version": "3.10.6"
  },
  "toc-autonumbering": true,
  "toc-showcode": false,
  "toc-showmarkdowntxt": false,
  "widgets": {
   "application/vnd.jupyter.widget-state+json": {
    "state": {},
    "version_major": 2,
    "version_minor": 0
   }
  }
 },
 "nbformat": 4,
 "nbformat_minor": 5
}
