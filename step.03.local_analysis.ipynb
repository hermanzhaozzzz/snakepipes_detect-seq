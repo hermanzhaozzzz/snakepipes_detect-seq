{
 "cells": [
  {
   "cell_type": "markdown",
   "id": "a8d87909-472c-46de-8df9-986ba981be4e",
   "metadata": {},
   "source": [
    "# 待办事项"
   ]
  },
  {
   "cell_type": "markdown",
   "id": "bbe949a6-f1ce-4730-b92a-b6bd1583fec2",
   "metadata": {
    "execution": {
     "iopub.execute_input": "2022-10-31T13:29:31.844149Z",
     "iopub.status.busy": "2022-10-31T13:29:31.843886Z",
     "iopub.status.idle": "2022-10-31T13:29:31.848102Z",
     "shell.execute_reply": "2022-10-31T13:29:31.847341Z",
     "shell.execute_reply.started": "2022-10-31T13:29:31.844128Z"
    }
   },
   "source": [
    "- [ ] 查看不同 sample 下的 share，no-share 的比例\n",
    "- [ ] check DddA_wt_6 only的信号为 0 的点是否真是0\n",
    "- [ ] 看 650 个 old share 中除了 约 400 个 call 到的点之外，剩下 250 个左右是否无信号，或者是有信号没过 cutoff\n",
    "- [ ] 直接进行align所有的点，根据 share 与否，align 信息进行分类确定 share 或者不 share，再去看 tale align，确定 IND、DEP\n",
    "- [ ] JAK2, SIRT6 only share call motif\n",
    "- [ ] CALL MOTIF！！！"
   ]
  },
  {
   "cell_type": "markdown",
   "id": "834e5693-79fe-4e0d-b00f-927245ecfc4a",
   "metadata": {},
   "source": [
    "# 依赖包和环境设置"
   ]
  },
  {
   "cell_type": "markdown",
   "id": "1b880507-7d5a-432f-ba5f-5cacb058a8d4",
   "metadata": {},
   "source": [
    "import python packages"
   ]
  },
  {
   "cell_type": "code",
   "execution_count": null,
   "id": "ef64d1d6-60ca-48f8-8be8-dfef3ce0136e",
   "metadata": {
    "tags": []
   },
   "outputs": [],
   "source": [
    "# !/usr/local/Caskroom/miniconda/base/bin/pip install matplotlib matplotlib_venn pandas numpy seaborn pandarallel pybedtools plotly upsetplotly --upgrade\n",
    "# !/usr/local/Caskroom/miniconda/base/bin/pip install git+https://github.com/ponnhide/pyCircos.git"
   ]
  },
  {
   "cell_type": "code",
   "execution_count": null,
   "id": "2ccbf30b-41ed-4ca8-b6d6-296308872dd3",
   "metadata": {
    "tags": []
   },
   "outputs": [],
   "source": [
    "import collections\n",
    "import math\n",
    "import os\n",
    "import sys\n",
    "from glob import glob\n",
    "\n",
    "import matplotlib.pyplot as plt\n",
    "import numpy as np\n",
    "import pandas as pd\n",
    "import polars as pl\n",
    "import pycircos\n",
    "import seaborn as sns\n",
    "from matplotlib_venn import venn2\n",
    "from pybedtools import BedTool\n",
    "from pycircos import (  # pip install git+https://github.com/ponnhide/pyCircos.git\n",
    "    Garc,\n",
    "    Gcircle,\n",
    ")\n",
    "from upsetplotly import UpSetPlotly"
   ]
  },
  {
   "cell_type": "code",
   "execution_count": null,
   "id": "eeb30344-f693-4482-9a7b-46d9b07517d4",
   "metadata": {
    "tags": []
   },
   "outputs": [],
   "source": [
    "from pandarallel import pandarallel\n",
    "\n",
    "pd.set_option(\"max_colwidth\", 35)  # column最大宽度\n",
    "pd.set_option(\"display.width\", 200)  # dataframe宽度\n",
    "pd.set_option(\"display.max_columns\", None)  # column最大显示数\n",
    "pd.set_option(\"display.max_rows\", 50)  # row最大显示数\n",
    "pandarallel.initialize()  # 多线程设置，默认使用全部核心 nb_workers=24"
   ]
  },
  {
   "cell_type": "markdown",
   "id": "0e8e66af-b297-4ee4-90eb-07ae2eec3b93",
   "metadata": {
    "execution": {
     "iopub.execute_input": "2022-10-27T08:20:10.504290Z",
     "iopub.status.busy": "2022-10-27T08:20:10.504004Z",
     "iopub.status.idle": "2022-10-27T08:20:10.509189Z",
     "shell.execute_reply": "2022-10-27T08:20:10.508390Z",
     "shell.execute_reply.started": "2022-10-27T08:20:10.504271Z"
    }
   },
   "source": [
    "enable rpy2"
   ]
  },
  {
   "cell_type": "code",
   "execution_count": null,
   "id": "2625a77e-0c70-494d-80e5-924b6b108702",
   "metadata": {
    "tags": []
   },
   "outputs": [],
   "source": [
    "# enables the gaR magic,  not neceasary  if you’ve already done this\n",
    "%load_ext rpy2.ipython\n",
    "# %reload_ext rpy2.ipython"
   ]
  },
  {
   "cell_type": "markdown",
   "id": "f0bd5e40-c367-4566-af46-e7a64198cf2d",
   "metadata": {},
   "source": [
    "import R libraries"
   ]
  },
  {
   "cell_type": "code",
   "execution_count": null,
   "id": "aae66360-d4fa-4795-80e5-51f3fb96b650",
   "metadata": {
    "tags": []
   },
   "outputs": [],
   "source": [
    "%%R\n",
    "# install.packages('ggpubr')\n",
    "# install.packages('ggrepel')\n",
    "# install.packages('ggupset')\n",
    "# install.packages('UpSetR')"
   ]
  },
  {
   "cell_type": "code",
   "execution_count": null,
   "id": "b771c8c3-77fd-4b5b-b194-2c69022fa58e",
   "metadata": {
    "tags": []
   },
   "outputs": [],
   "source": [
    "%%R\n",
    "# 可以再%%R后面放光标 cmd + i\n",
    "library(tidyverse)\n",
    "library(ggpubr)\n",
    "library(ggrepel)\n",
    "library(ggupset)\n",
    "library(UpSetR)"
   ]
  },
  {
   "cell_type": "markdown",
   "id": "d8e2e93e-1bb7-4304-9a41-226db2b6c142",
   "metadata": {
    "tags": []
   },
   "source": [
    "# QC 步骤\n",
    "查看测序和 Mapping 质量"
   ]
  },
  {
   "cell_type": "markdown",
   "id": "f8b4cc92-2f21-4a47-a47c-c96b61564f7f",
   "metadata": {},
   "source": [
    "## 搜集 MultiQC 信息"
   ]
  },
  {
   "cell_type": "code",
   "execution_count": null,
   "id": "91fc94d3-2a4d-49ab-830f-38aff5662be5",
   "metadata": {
    "tags": []
   },
   "outputs": [],
   "source": [
    "df_qc = pd.read_html('../qc/multiqc/multiqc_report.html')[0]\n",
    "# df_qc\n",
    "df_qc['Sample Name'] = df_qc['Sample Name'].str[:-3]\n",
    "df_qc['% Dups'] = df_qc['% Dups'].str[:-1].astype(float)\n",
    "df_qc['% GC'] = df_qc['% GC'].str[:-1].astype(float)\n",
    "df_qc['Read Length'] = df_qc['Read Length'].str[:-3].astype(int)\n",
    "df_qc['% Failed'] = df_qc['% Failed'].str[:-1].astype(float)\n",
    "df_qc = df_qc.groupby('Sample Name').agg(np.mean)\n",
    "df_qc['Read Length'] = df_qc['Read Length'] * 2\n",
    "df_qc['M Seqs'] = df_qc['M Seqs'] * 2\n",
    "df_qc.reset_index(inplace=True)\n",
    "df_qc.rename(columns={'M Seqs': 'M Seqs <raw fq>'}, inplace=True)\n",
    "df_qc"
   ]
  },
  {
   "cell_type": "markdown",
   "id": "034853aa-a79c-4904-9ff3-43b901ab087e",
   "metadata": {},
   "source": [
    "## 搜集 Hisat-3N Mapping 信息"
   ]
  },
  {
   "cell_type": "code",
   "execution_count": null,
   "id": "db938818-b808-4c75-842d-d83ed6ccc4b0",
   "metadata": {
    "tags": []
   },
   "outputs": [],
   "source": [
    "ls = sorted(glob('../bam/*_hisat3n.hisat3n.log'))\n",
    "tmpls = []\n",
    "\n",
    "for file in ls:\n",
    "    with open(file, 'rt') as f:\n",
    "        sname = file.split('/')[-1].replace('_hisat3n.hisat3n.log', '')\n",
    "        ratio = float(f.readlines()[-1].split('%')[0])\n",
    "        tmpls.append([sname, ratio])\n",
    "df_3n = pd.DataFrame(tmpls, columns=['Sample Name', '% Hisat-3n'])\n",
    "df_3n"
   ]
  },
  {
   "cell_type": "markdown",
   "id": "8fa764f8-28d0-4e2d-8be4-28b3342189a4",
   "metadata": {},
   "source": [
    "## 搜集 Final Mapping 信息 （Hisat3N mapping + BWA remapping）"
   ]
  },
  {
   "cell_type": "code",
   "execution_count": null,
   "id": "b48f8f9d-14db-443e-a087-067602acde31",
   "metadata": {
    "tags": []
   },
   "outputs": [],
   "source": [
    "# 法1：\n",
    "# ls = sorted(glob('../bam/*_final_rmdup.bam.flagstats.tsv'))\n",
    "# tmpls = []\n",
    "\n",
    "# for file in ls:\n",
    "#     with open(file, 'rt') as f:\n",
    "#         sname = file.split('/')[-1].replace('_final_rmdup.bam.flagstats.tsv', '')\n",
    "#         ratio = float(f.readlines()[6].split('\\t')[0])\n",
    "#         tmpls.append([sname, ratio])\n",
    "# df_final_map_flagstats = pd.DataFrame(tmpls, columns=['Sample Name', 'Seqs'])\n",
    "# df_final_map_flagstats['']\n",
    "# df_final_map_flagstats\n",
    "\n",
    "# 法2：\n",
    "text = \"\"\"\\\n",
    "rm ../bam/all_final_mapped_reads.txt\n",
    "\n",
    "for i in `ls ../bam/*_rmdup.bam`\n",
    "    samtools idxstats $i | \\\n",
    "    \tawk '{sum += $3} END {print sum/1000000 \"M reads\"}' | \\\n",
    "    \txargs echo \"$i\" \\\n",
    "    \t>> ../bam/all_final_mapped_reads.txt\n",
    "\"\"\"\n",
    "with open('../bam/all_final_mapped_reads.sh', 'wt') as f:\n",
    "    f.write(text)\n",
    "\n",
    "assert os.system('zsh ../bam/all_final_mapped_reads.sh') == 0\n",
    "\n",
    "\n",
    "df_final_map = pd.read_csv('../bam/all_final_mapped_reads.txt', sep=' ', header=None, names=['Sample Name', 'M Seqs', '_'], usecols=[0, 1])\n",
    "df_final_map"
   ]
  },
  {
   "cell_type": "code",
   "execution_count": null,
   "id": "40c815ea-d434-4089-9246-2b88a3801406",
   "metadata": {
    "tags": []
   },
   "outputs": [],
   "source": [
    "df_final_map['Sample Name'] = df_final_map['Sample Name'].str.replace('../bam/', '').str.replace('_final_rmdup.bam', '')\n",
    "df_final_map.rename(columns={'M Seqs': 'M Seqs <final mapped rm dup>'}, inplace=True)\n",
    "df_final_map"
   ]
  },
  {
   "cell_type": "markdown",
   "id": "880a2a61-34aa-442d-bfb3-db13b8f89502",
   "metadata": {
    "execution": {
     "iopub.execute_input": "2022-11-24T17:17:55.775720Z",
     "iopub.status.busy": "2022-11-24T17:17:55.775475Z",
     "iopub.status.idle": "2022-11-24T17:17:55.785193Z",
     "shell.execute_reply": "2022-11-24T17:17:55.784625Z",
     "shell.execute_reply.started": "2022-11-24T17:17:55.775704Z"
    },
    "tags": []
   },
   "source": [
    "## 汇总 QC 信息"
   ]
  },
  {
   "cell_type": "code",
   "execution_count": null,
   "id": "5701d3ca-d378-4af4-9833-7c6b63f56d54",
   "metadata": {
    "tags": []
   },
   "outputs": [],
   "source": [
    "df_qc_all = df_qc.merge(df_3n).merge(df_final_map)\n",
    "df_qc_all"
   ]
  },
  {
   "cell_type": "code",
   "execution_count": null,
   "id": "e3307b6f-f790-4e6a-98a2-693f7b904390",
   "metadata": {
    "tags": []
   },
   "outputs": [],
   "source": [
    "df_qc_all['Read Length'] = df_qc_all['Read Length'].astype(int)\n",
    "df_qc_all['M Seqs <Hisat-3n mapped>'] = df_qc_all['M Seqs <raw fq>'] * df_qc_all['% Hisat-3n'] / 100\n",
    "df_qc_all['M Seqs <Hisat-3n mapped>'] = df_qc_all['M Seqs <Hisat-3n mapped>'].map(lambda x: round(x, 2))\n",
    "df_qc_all['M Seqs <final mapped rm dup>'] = df_qc_all['M Seqs <final mapped rm dup>'].str[:-1].astype(float)\n",
    "df_qc_all['M Seqs <final mapped rm dup>'] = df_qc_all['M Seqs <final mapped rm dup>'].map(lambda x: round(x, 2))\n",
    "df_qc_all = df_qc_all.drop(columns=['% Failed', '% Hisat-3n'])\n",
    "df_qc_all = df_qc_all.iloc[:, [0, 1, 2, 3, 4, 6, 5]].copy()\n",
    "df_qc_all = df_qc_all[df_qc_all['Sample Name'] != 'test'].copy()\n",
    "df_qc_all['% Effective Seqs'] = df_qc_all['M Seqs <final mapped rm dup>'] / df_qc_all['M Seqs <raw fq>'] * 100\n",
    "df_qc_all['% Effective Seqs'] = df_qc_all['% Effective Seqs'].map(lambda x: round(x, 2))\n",
    "df_qc_all"
   ]
  },
  {
   "cell_type": "markdown",
   "id": "e2261ff8-5150-4993-849d-0efe514f9e76",
   "metadata": {
    "tags": []
   },
   "source": [
    "# 搞一个老的 TAS-independent 的 mpmat 文件 call 点试试?\n",
    "\n",
    "generate old TAS-independent off-target mpmat to call regions"
   ]
  },
  {
   "cell_type": "code",
   "execution_count": null,
   "id": "613f27e9-52a2-4d35-a3c2-e83b1ea6587f",
   "metadata": {
    "tags": []
   },
   "outputs": [],
   "source": [
    "df_old_final_list = pd.read_csv(\n",
    "    \"../tables/20220312-DdCBE-off_target_type.FinallistV4.CheckPrimer.AddV4ID.tsv\",\n",
    "    sep='\\t',\n",
    "    header=0,\n",
    "    usecols=['region_id', 'off_target_id.V4.ND4', 'off_target_id.V4.ND5.1', 'off_target_id.V4.ND6'],\n",
    ")\n",
    "df_old_final_list.columns = ['mpmat_index', 'id_ND4', 'id_ND5.1', 'id_ND6']\n",
    "df_old_final_list.head()"
   ]
  },
  {
   "cell_type": "code",
   "execution_count": null,
   "id": "1795a1cc-3fcf-4bfa-9d47-c873da3e8138",
   "metadata": {
    "tags": []
   },
   "outputs": [],
   "source": [
    "def query_ind(x):\n",
    "    x = x.fillna('')\n",
    "    if 'IND' in x['id_ND4']:\n",
    "        return True\n",
    "    elif 'IND' in x['id_ND5.1']:\n",
    "        return True\n",
    "    elif 'IND' in x['id_ND6']:\n",
    "        return True\n",
    "    else:\n",
    "        return False\n",
    "\n",
    "\n",
    "df_old_final_list.apply(query_ind, axis=1).sum()"
   ]
  },
  {
   "cell_type": "code",
   "execution_count": null,
   "id": "d160c059-b463-4f2a-a1ef-002732b9dfa8",
   "metadata": {
    "tags": []
   },
   "outputs": [],
   "source": [
    "df_old_share = df_old_final_list[df_old_final_list.apply(query_ind, axis=1)].reset_index(drop=True)\n",
    "df_old_share"
   ]
  },
  {
   "cell_type": "code",
   "execution_count": null,
   "id": "fa1e6097-5822-44ae-9dec-c7c72aee1e35",
   "metadata": {
    "tags": []
   },
   "outputs": [],
   "source": [
    "# 拿 650 个 old share 的点做一个 mpmat 出来去对着这五个 sample call 一下相关位置\n",
    "df_mpmat = pd.read_csv(\n",
    "    '../tables/293T-DdCBE-merge_hg38.MAPQ20.C6_M4_R1_T10.sort.V4.mpmat.gz',\n",
    "    sep='\\t',\n",
    "    header=None,\n",
    ")\n",
    "df_mpmat['mpmat_index'] = df_mpmat[0] + '_' + df_mpmat[1].astype(str) + '_' + df_mpmat[2].astype(str)\n",
    "df_mpmat"
   ]
  },
  {
   "cell_type": "code",
   "execution_count": null,
   "id": "1a41a3dd-bab6-493f-9cd7-d7d709bf1b6c",
   "metadata": {
    "tags": []
   },
   "outputs": [],
   "source": [
    "df_merge = pd.merge(left=df_mpmat, right=df_old_share, on='mpmat_index', how='right')\n",
    "\n",
    "df_aim_mpmat = df_merge.iloc[:, :-4]\n",
    "df_aim_mpmat"
   ]
  },
  {
   "cell_type": "code",
   "execution_count": null,
   "id": "f4f7dbc2-9619-4dad-a39e-08c25036742a",
   "metadata": {
    "tags": []
   },
   "outputs": [],
   "source": [
    "os.makedirs('../mpmat', exist_ok=True)\n",
    "df_aim_mpmat.to_csv('../mpmat/2022-10-21_nature_4_5.1_6_share_650-off-targets.mpmat', header=None, index=None, sep='\\t')"
   ]
  },
  {
   "cell_type": "markdown",
   "id": "e15b4a3b-0857-4c10-8831-640728cfc840",
   "metadata": {
    "tags": []
   },
   "source": [
    "## analysis with old TAS-independent list (650 sites) -> df_aim_mpmat"
   ]
  },
  {
   "cell_type": "markdown",
   "id": "5aab32b2-bf6b-44ad-a38e-ecbc9fb9fa31",
   "metadata": {},
   "source": [
    "### Detect-seq signal comparation for DddA\\_wt/6/11"
   ]
  },
  {
   "cell_type": "code",
   "execution_count": null,
   "id": "7d5f2bdb-e1ff-44b3-9900-64be6a9fc2f3",
   "metadata": {
    "tags": []
   },
   "outputs": [],
   "source": [
    "# 650 mpmat to get 650 poisson_res\n",
    "df_old_site_new_signal = pd.read_csv(\n",
    "    '../poisson_res_use_old650/poisson_res_all_use650.tsv.gz',\n",
    "    header=0,\n",
    "    index_col=None,\n",
    "    sep='\\t'\n",
    ")\n",
    "df_old_site_new_signal"
   ]
  },
  {
   "cell_type": "code",
   "execution_count": null,
   "id": "f3d166bf-bfcb-45b9-a996-0c748ab32203",
   "metadata": {
    "tags": []
   },
   "outputs": [],
   "source": [
    "df_old_site_new_signal.info()"
   ]
  },
  {
   "cell_type": "code",
   "execution_count": null,
   "id": "97ec1531-4398-40fe-88bd-be0eeabc8675",
   "metadata": {
    "tags": []
   },
   "outputs": [],
   "source": [
    "df_old_site_new_signal.isna().sum().sum()"
   ]
  },
  {
   "cell_type": "code",
   "execution_count": null,
   "id": "e57c3672-6095-45b6-946b-ba63b4c1eb54",
   "metadata": {
    "tags": []
   },
   "outputs": [],
   "source": [
    "df_old_site_new_signal = df_old_site_new_signal.assign(\n",
    "    bed_name=df_old_site_new_signal.mpmat_index + '_highest_' + df_old_site_new_signal.region_highest_site_index,\n",
    "    strand='.'\n",
    ")\n",
    "df_old_site_new_signal"
   ]
  },
  {
   "cell_type": "code",
   "execution_count": null,
   "id": "c4cbfb36-a9fb-44c0-a0ee-6057733fd9b5",
   "metadata": {
    "tags": []
   },
   "outputs": [],
   "source": [
    "df_sign_strict = (df_old_site_new_signal\n",
    "                  .query('FDR <= 0.0001')  # 10911\n",
    "                  .query('log2_FC_mut >= 2')  # 10911\n",
    "                  .query('ctrl_mut_count <= 1')  # 9551\n",
    "                  .query('`treat_mut_count.norm` * 100 >= 10')  # 9551\n",
    "                  .query('treat_mut_count >= 20')  # 9551\n",
    "                  .query('treat_mut_count / treat_count >= 0.15')  # 6080\n",
    "                  .query('region_block_site_num <= 1')  # 5720\n",
    "                  .query('region_highest_site_mut_ratio >= 0.35')  # 2929\n",
    "                  )\n",
    "\n",
    "print(df_sign_strict.shape[0])\n",
    "df_sign_strict.groupby('<sample>').describe()"
   ]
  },
  {
   "cell_type": "code",
   "execution_count": null,
   "id": "a2cffc45-6f3a-41f8-a08c-b053caeab06a",
   "metadata": {
    "tags": []
   },
   "outputs": [],
   "source": [
    "df_sign_lenient = (df_old_site_new_signal\n",
    "                   .query('FDR <= 0.01')  # 25118\n",
    "                   .query('log2_FC_mut >= 2')  # 25118\n",
    "                   .query('ctrl_mut_count <= 1')  # 22009\n",
    "                   .query('`treat_mut_count.norm` * 100 >= 5')  # 22009\n",
    "                   .query('treat_mut_count >= 10')  # 22009\n",
    "                   .query('treat_mut_count / treat_count >= 0.15')  # 14476\n",
    "                   .query('region_block_site_num <= 1')  # 13522\n",
    "                   .query('region_highest_site_mut_ratio >= 0.30')  # 7001\n",
    "                   )\n",
    "\n",
    "print(df_sign_lenient.shape[0])\n",
    "df_sign_lenient.groupby('<sample>').describe()"
   ]
  },
  {
   "cell_type": "code",
   "execution_count": null,
   "id": "6b0fc442-f6ab-4c97-b03c-383c59f42b30",
   "metadata": {
    "tags": []
   },
   "outputs": [],
   "source": [
    "df_sign_lenient"
   ]
  },
  {
   "cell_type": "code",
   "execution_count": null,
   "id": "448d2e0c-84fe-4f4d-b5da-b09e30110689",
   "metadata": {
    "tags": []
   },
   "outputs": [],
   "source": [
    "df_sign_lenient.mpmat_index.describe()"
   ]
  },
  {
   "cell_type": "code",
   "execution_count": null,
   "id": "c4417eba-dad4-448c-9c4b-ce9525844e50",
   "metadata": {},
   "outputs": [],
   "source": [
    "df_old_439 = df_sign_lenient"
   ]
  },
  {
   "cell_type": "markdown",
   "id": "af52c383-319c-4dbd-a1d5-60d971335989",
   "metadata": {},
   "source": [
    "### data processing"
   ]
  },
  {
   "cell_type": "code",
   "execution_count": null,
   "id": "ace8d92c-c4af-4646-a35b-a7b0aac2aa2f",
   "metadata": {
    "tags": []
   },
   "outputs": [],
   "source": [
    "df_old_439 = df_old_439[['<sample>', 'mpmat_index',\n",
    "                         'treat_mut_count.norm', 'treat_count.norm']].copy()\n",
    "df_old_439 = (\n",
    "    df_old_439.\n",
    "    assign(\n",
    "        sample=df_old_439['<sample>'],\n",
    "        detect_seq_score=df_old_439.apply(lambda x: ((x['treat_mut_count.norm'] / x['treat_count.norm']) ** 2) * x['treat_mut_count.norm'], axis=1),\n",
    "    )\n",
    ")\n",
    "\n",
    "df_old_439"
   ]
  },
  {
   "cell_type": "code",
   "execution_count": null,
   "id": "79563879-d42a-4d07-974c-e6efb114f38d",
   "metadata": {
    "tags": []
   },
   "outputs": [],
   "source": [
    "df_detect_seq_score = df_old_439[['mpmat_index', 'sample', 'detect_seq_score']].copy()\n",
    "df_share_old = df_detect_seq_score[['mpmat_index', 'sample', 'detect_seq_score']].copy()\n",
    "df_share_old"
   ]
  },
  {
   "cell_type": "markdown",
   "id": "ec1b0974-6822-45c1-93f4-168b41c928f4",
   "metadata": {
    "tags": []
   },
   "source": [
    "# 初步过滤 poisson_res -> df_pois 并保存备用\n",
    "- log2_FC: log2(treat_count.norm/ctrl_count.norm), 如果ctrl_count.norm不存在，就用 chr 突变背景\n",
    "- log2_FC_mut: log2(treat_mut_count.norm/ctrl_mut_count.norm), 如果ctrl_mut_count.norm不存在，就用 chr 突变背景\n",
    "- region_block_state: B-Blocked, S-SNV, N-Non-SNV"
   ]
  },
  {
   "cell_type": "markdown",
   "id": "f2b37dba-c645-4656-bf26-069d91c6253e",
   "metadata": {
    "tags": []
   },
   "source": [
    "## data processing"
   ]
  },
  {
   "cell_type": "code",
   "execution_count": null,
   "id": "013f4366-febf-4dff-b7de-171b51bc2099",
   "metadata": {
    "tags": []
   },
   "outputs": [],
   "source": [
    "file = '../poisson_res/poisson_res_all.tsv.gz'"
   ]
  },
  {
   "cell_type": "code",
   "execution_count": null,
   "id": "cba03e93-ccb4-447f-bacd-58b2f19216be",
   "metadata": {
    "tags": []
   },
   "outputs": [],
   "source": [
    "df = pd.read_csv(\n",
    "        file,\n",
    "        header=0,\n",
    "        index_col=None,\n",
    "        sep='\\t'\n",
    "    )\n",
    "df.head()"
   ]
  },
  {
   "cell_type": "code",
   "execution_count": null,
   "id": "27e091f0-9ab6-4a47-958e-d095bd39728f",
   "metadata": {
    "tags": []
   },
   "outputs": [],
   "source": [
    "df.columns"
   ]
  },
  {
   "cell_type": "code",
   "execution_count": null,
   "id": "8849a931-9ea2-49f9-94aa-72fc10ec3f9e",
   "metadata": {
    "tags": []
   },
   "outputs": [],
   "source": [
    "df.drop(columns=['region_site_index', 'region_block_state'], inplace=True)"
   ]
  },
  {
   "cell_type": "code",
   "execution_count": null,
   "id": "237c76d2-4067-4844-bbd3-c49306b39e64",
   "metadata": {
    "tags": []
   },
   "outputs": [],
   "source": [
    "print(df.info())\n",
    "print(df.isna().sum())\n",
    "# NAN应该是 test sample 中的，一会过滤一下"
   ]
  },
  {
   "cell_type": "code",
   "execution_count": null,
   "id": "7cc697a3-9bc3-4bdd-8201-0ddd55dc739c",
   "metadata": {
    "tags": []
   },
   "outputs": [],
   "source": [
    "print(df['<sample>'].unique())"
   ]
  },
  {
   "cell_type": "code",
   "execution_count": null,
   "id": "63bf63e6-4868-4c9b-a5ab-1e829676792a",
   "metadata": {
    "tags": []
   },
   "outputs": [],
   "source": [
    "df = df.assign(\n",
    "    bed_name=df.mpmat_index + '_highest_' + df.region_highest_site_index,\n",
    "    strand='.'\n",
    ")\n",
    "df = df[df['<sample>'] != 'test']\n",
    "df"
   ]
  },
  {
   "cell_type": "code",
   "execution_count": null,
   "id": "672c5966-29d2-420b-9c9e-adb7fe12a2d8",
   "metadata": {
    "tags": []
   },
   "outputs": [],
   "source": [
    "print(df.info())\n",
    "print(df.isna().sum())\n",
    "# 过滤掉 test sample 之后 NAN 少了很多"
   ]
  },
  {
   "cell_type": "code",
   "execution_count": null,
   "id": "69232a03-8fe7-4cc3-97b4-ca465a68c2cc",
   "metadata": {
    "tags": []
   },
   "outputs": [],
   "source": [
    "# 这里mpmat_index unique，即 frequency == 1 才合理，因为前期 call 点的时候，把所有的 region 放在一起考虑的\n",
    "df.groupby('<sample>').mpmat_index.describe()\n",
    "# call 点没问题\n",
    "# 继续后续分析"
   ]
  },
  {
   "cell_type": "markdown",
   "id": "b713bd65-1efc-4ccb-8f05-cfa6d83e7da8",
   "metadata": {
    "tags": []
   },
   "source": [
    "## find significant region"
   ]
  },
  {
   "cell_type": "code",
   "execution_count": null,
   "id": "a4cc2710-dfa7-4f61-b667-f5ce19fcc02d",
   "metadata": {
    "tags": []
   },
   "outputs": [],
   "source": [
    "df"
   ]
  },
  {
   "cell_type": "markdown",
   "id": "67cc6c18-e573-4537-a3d5-7fae99249bc2",
   "metadata": {},
   "source": [
    "### strict selection "
   ]
  },
  {
   "cell_type": "code",
   "execution_count": null,
   "id": "d83a38b2-8097-4762-8439-567659a7ddd4",
   "metadata": {
    "tags": []
   },
   "outputs": [],
   "source": [
    "# df_sign_strict = (\n",
    "#     df\n",
    "#     .query('FDR <= 0.0001')\n",
    "#     .query('log2_FC_mut >= 2')\n",
    "#     .query('ctrl_mut_count <= 1')\n",
    "#     .query('`treat_mut_count.norm` * 100 >= 10')\n",
    "#     .query('treat_mut_count >= 20')\n",
    "#     .query('treat_mut_count / treat_count >= 0.15')\n",
    "#     .query('region_block_site_num <= 1')\n",
    "#     .query('region_highest_site_mut_ratio >= 0.35')  # 1892\n",
    "# )\n",
    "\n",
    "# print(df_sign_strict.shape[0])\n",
    "# df_sign_strict.groupby('<sample>').describe()[('region_start', 'count')].astype(int)"
   ]
  },
  {
   "cell_type": "code",
   "execution_count": null,
   "id": "a426c781-54c8-405a-bdfd-a2dc6f101608",
   "metadata": {
    "tags": []
   },
   "outputs": [],
   "source": [
    "# df_sign_strict.isna().sum().sum()"
   ]
  },
  {
   "cell_type": "markdown",
   "id": "3ad92d39-8ef1-44fe-a4c5-2a655139ae8c",
   "metadata": {},
   "source": [
    "### lenient selection"
   ]
  },
  {
   "cell_type": "code",
   "execution_count": null,
   "id": "65bd4318-6622-4da7-a5fe-87db7ec6d3e4",
   "metadata": {
    "tags": []
   },
   "outputs": [],
   "source": [
    "# nature condicitons\n",
    "# df_sign_lenient = (\n",
    "#     df\n",
    "#     .query('FDR <= 0.01')\n",
    "#     .query('log2_FC_mut >= 2')\n",
    "#     .query('ctrl_mut_count <= 1')\n",
    "#     .query('`treat_mut_count.norm` * 100 >= 5')\n",
    "#     .query('treat_mut_count >= 10')\n",
    "#     .query('treat_mut_count / treat_count >= 0.15')\n",
    "#     .query('region_block_site_num <= 1')\n",
    "#     .query('region_highest_site_mut_ratio >= 0.30')  # 4007\n",
    "# )\n",
    "\n",
    "# print(df_sign_lenient.shape[0])\n",
    "# df_sign_lenient.groupby('<sample>').describe()\n",
    "\n",
    "\n",
    "df_sign_lenient = (\n",
    "    df\n",
    "    .query('`treat_mut_count.norm` * 100 >= 4')  # 142309\n",
    "    .query('treat_mut_count >= 8')  # 112931\n",
    "    .query('treat_mut_count / treat_count >= 0.10')  # 109179\n",
    "    .query('log2_FC_mut >= 2')  # 109119\n",
    "    .query('ctrl_mut_count <= 1')  # 97716\n",
    "    .query('region_block_site_num <= 1')  # 93732\n",
    "    .query('region_highest_site_mut_ratio >= 0.28')  # 权重很高 # 45196\n",
    "    .query('p_value <= 0.001')  # 权重很高 18355\n",
    "    # .query('FDR <= 0.1')\n",
    ")\n",
    "\n",
    "print(df_sign_lenient.shape[0])\n",
    "df_sign_lenient.groupby('<sample>').describe()[('region_start', 'count')].astype(int)"
   ]
  },
  {
   "cell_type": "code",
   "execution_count": null,
   "id": "3f2b9f6a-fc86-4bda-bcd3-7d75d7506a56",
   "metadata": {
    "tags": []
   },
   "outputs": [],
   "source": [
    "df_sign_lenient.isna().sum().sum()"
   ]
  },
  {
   "cell_type": "code",
   "execution_count": null,
   "id": "052bbbad-08fa-4671-8502-418befd285b8",
   "metadata": {
    "tags": []
   },
   "outputs": [],
   "source": [
    "# df = df_sign_lenient\n",
    "print(df_sign_lenient.shape)\n",
    "df_sign_lenient.head()"
   ]
  },
  {
   "cell_type": "markdown",
   "id": "eab1dca4-cf2d-4b0e-a073-d9ea4ce66f75",
   "metadata": {},
   "source": [
    "### 把 Nature 中的 region 对应过来，使用 Nature 中的 idx, fix mpmat_index (add old into it) -> df_pois"
   ]
  },
  {
   "cell_type": "code",
   "execution_count": null,
   "id": "3b10cfa4-162b-409d-8274-ff6eea6cecae",
   "metadata": {
    "tags": []
   },
   "outputs": [],
   "source": [
    "df_old_id = pd.read_csv(\n",
    "    \"../tables/20220312-DdCBE-off_target_type.FinallistV4.CheckPrimer.AddV4ID.tsv\",\n",
    "    sep='\\t', header=0, usecols=['region_id'],)\n",
    "df_old_id.region_id.describe()"
   ]
  },
  {
   "cell_type": "code",
   "execution_count": null,
   "id": "00ba7c78-3957-4acc-a527-d92225bb020e",
   "metadata": {
    "tags": []
   },
   "outputs": [],
   "source": [
    "df_old_id[['chrom', 'start', 'end'\n",
    "           ]] = pd.Series(df_old_id.region_id.unique()).str.split('_',\n",
    "                                                                  expand=True)\n",
    "df_old_id = df_old_id.iloc[:, 1:4]\n",
    "df_old_id[['start', 'end']] = df_old_id[['start', 'end']].astype(int)\n",
    "df_old_id.info()"
   ]
  },
  {
   "cell_type": "code",
   "execution_count": null,
   "id": "9846a3db-008a-47e0-b927-63b8eb5ff6f0",
   "metadata": {
    "tags": []
   },
   "outputs": [],
   "source": [
    "df_old_id.head(2)"
   ]
  },
  {
   "cell_type": "code",
   "execution_count": null,
   "id": "240143bf-5b70-403e-a51d-0466797e4fbb",
   "metadata": {
    "tags": []
   },
   "outputs": [],
   "source": [
    "df_new_id = pd.Series(df_sign_lenient.mpmat_index.unique()).str.split('_', expand=True)\n",
    "df_new_id"
   ]
  },
  {
   "cell_type": "code",
   "execution_count": null,
   "id": "8d80e92b-401f-4f1b-8d96-462f647b58a6",
   "metadata": {
    "tags": []
   },
   "outputs": [],
   "source": [
    "df_new_id.columns = ['chrom', 'start', 'end']\n",
    "df_new_id[['start', 'end']] = df_new_id[['start', 'end']].astype(int)\n",
    "\n",
    "print(df_new_id.info())\n",
    "df_new_id.head(2)"
   ]
  },
  {
   "cell_type": "code",
   "execution_count": null,
   "id": "d5019725-fad9-4f0d-9b29-0bbd64878f57",
   "metadata": {
    "tags": []
   },
   "outputs": [],
   "source": [
    "bed_new = BedTool.from_dataframe(df_new_id)\n",
    "bed_nat = BedTool.from_dataframe(df_old_id)"
   ]
  },
  {
   "cell_type": "markdown",
   "id": "4c0a9a3e-5224-40bf-82a9-eb7a15dc8afb",
   "metadata": {},
   "source": [
    "> https://bedtools.readthedocs.io/en/latest/content/tools/intersect.html\n",
    "\n",
    "![](https://tva1.sinaimg.cn/large/008vxvgGly1h7jy4v629sj30ld0j9wg7.jpg)"
   ]
  },
  {
   "cell_type": "code",
   "execution_count": null,
   "id": "006c2927-342b-43e5-b42e-1505f0952001",
   "metadata": {
    "tags": []
   },
   "outputs": [],
   "source": [
    "df_bed_to_fix = bed_new.intersect(bed_nat, loj=True).to_dataframe()\n",
    "df_bed_to_fix.columns = ['chrom', 'start', 'end', 'chrom2', 'start2', 'end2']\n",
    "\n",
    "df_bed_to_fix"
   ]
  },
  {
   "cell_type": "code",
   "execution_count": null,
   "id": "2185b913-2afa-4382-b5b6-133f06017305",
   "metadata": {
    "tags": []
   },
   "outputs": [],
   "source": [
    "# 新点中有 1455 个点和老点有 overlap\n",
    "df_bed_to_fix[df_bed_to_fix.end2 != -1]"
   ]
  },
  {
   "cell_type": "code",
   "execution_count": null,
   "id": "9c14fc81-4806-454a-9730-5b96ee6d8bd7",
   "metadata": {
    "tags": []
   },
   "outputs": [],
   "source": [
    "df_old_share"
   ]
  },
  {
   "cell_type": "code",
   "execution_count": null,
   "id": "cd42c5b5-209b-4477-b032-2f5fc8aeffd3",
   "metadata": {
    "tags": []
   },
   "outputs": [],
   "source": [
    "# 看一下这里面有多少个是4、5.1、6 的 IND\n",
    "# df_old_share.mpmat_index.unique()\n",
    "tmpdf = df_bed_to_fix[df_bed_to_fix.end2 != -1].iloc[:, -3:].copy()\n",
    "tmpdf.drop_duplicates(keep='first', inplace=True)\n",
    "tmpdf"
   ]
  },
  {
   "cell_type": "code",
   "execution_count": null,
   "id": "7c510b00-90a9-4290-ba18-3b2c427e5ed7",
   "metadata": {
    "tags": []
   },
   "outputs": [],
   "source": [
    "tmpls = tmpdf.parallel_apply(lambda x: f'{x[0]}_{x[1]}_{x[2]}', axis=1).tolist()\n",
    "len(tmpls)"
   ]
  },
  {
   "cell_type": "code",
   "execution_count": null,
   "id": "aab11eec-8633-4eec-89eb-8d1432e0eb89",
   "metadata": {
    "tags": []
   },
   "outputs": [],
   "source": [
    "tmpls = list(set(tmpls))\n",
    "print(len(tmpls))"
   ]
  },
  {
   "cell_type": "code",
   "execution_count": null,
   "id": "d700388c-0e6a-4edc-a5a1-413bd221d72b",
   "metadata": {
    "tags": []
   },
   "outputs": [],
   "source": [
    "len(df_old_share.mpmat_index.unique())"
   ]
  },
  {
   "cell_type": "code",
   "execution_count": null,
   "id": "a13a4165-a53d-499e-bff2-599fa3b0b4c5",
   "metadata": {
    "tags": []
   },
   "outputs": [],
   "source": [
    "print(len([i for i in tmpls if i in df_old_share.mpmat_index.unique()]))"
   ]
  },
  {
   "cell_type": "code",
   "execution_count": null,
   "id": "040a4628-b14c-4cac-8b35-0bc2d605c4e5",
   "metadata": {
    "tags": []
   },
   "outputs": [],
   "source": [
    "# form Old IND456 bed\n",
    "df_old_share['id_merge'] = df_old_share.iloc[:, 1:4].astype(str).agg('_'.join, axis=1)\n",
    "df_old_share[list('abc')] = df_old_share['mpmat_index'].str.split('_', expand=True)\n",
    "df_old_share"
   ]
  },
  {
   "cell_type": "code",
   "execution_count": null,
   "id": "a37c3c8f-605c-4c31-ac38-81d9e29072b8",
   "metadata": {
    "tags": []
   },
   "outputs": [],
   "source": [
    "df_old_share[['a', 'b', 'c', 'id_merge']].to_csv('../tables/2022-11-25_old_650_ND456.bed', header=False, index=False, sep='\\t')"
   ]
  },
  {
   "cell_type": "code",
   "execution_count": null,
   "id": "1143d20b-274f-4c08-97e0-d1b9781f6d5f",
   "metadata": {
    "tags": []
   },
   "outputs": [],
   "source": [
    "# end2 为-1 代表老点不存在，\n",
    "# end2 有值说明，新老点重合，以老点 region 坐标为准进行替换\n",
    "\n",
    "# 唯一标识mpmat_index\n",
    "df_bed_to_fix['mpmat_index'] = (\n",
    "    df_bed_to_fix['chrom'] +\n",
    "    '_' +\n",
    "    df_bed_to_fix['start'].astype(str) +\n",
    "    '_' +\n",
    "    df_bed_to_fix['end'].astype(str)\n",
    ")\n",
    "\n",
    "\n",
    "df_bed_to_fix_part1 = (\n",
    "    df_bed_to_fix\n",
    "    .query('end2 == -1')\n",
    "    [['mpmat_index', 'chrom', 'start', 'end']]\n",
    "    .copy()\n",
    ")\n",
    "\n",
    "df_bed_to_fix_part2 = (\n",
    "    df_bed_to_fix\n",
    "    .query('end2 != -1')\n",
    "    [['mpmat_index', 'chrom2', 'start2', 'end2']]\n",
    "    .copy()\n",
    ")\n",
    "\n",
    "df_bed_to_fix_part1.columns = ['mpmat_index', 'chr_name', 'region_start', 'region_end']\n",
    "df_bed_to_fix_part2.columns = ['mpmat_index', 'chr_name', 'region_start', 'region_end']\n",
    "\n",
    "df_bed_fixed_coordinate = pd.concat(\n",
    "    [df_bed_to_fix_part1, df_bed_to_fix_part2],\n",
    "    axis=0\n",
    ")\n",
    "df_bed_fixed_coordinate"
   ]
  },
  {
   "cell_type": "code",
   "execution_count": null,
   "id": "b13675cc-83aa-4644-ad6d-170737691697",
   "metadata": {
    "tags": []
   },
   "outputs": [],
   "source": [
    "# 发现两个 duplicated 的 mpmat_index，check 一下为什么\n",
    "# print(df_bed_fixed_coordinate[df_bed_fixed_coordinate.mpmat_index.duplicated()])\n",
    "\n",
    "print(df_bed_fixed_coordinate.query('mpmat_index==\"chr10_22989043_22989070\"'))\n",
    "print(df_bed_fixed_coordinate.query('mpmat_index==\"chr17_67963461_67963466\"'))\n",
    "\n",
    "\n",
    "#                  mpmat_index chr_name  region_start  region_end\n",
    "# 864  chr10_22989043_22989070    chr10      22989049    22989070\n",
    "# 865  chr10_22989043_22989070    chr10      22989052    22989071\n",
    "#                   mpmat_index chr_name  region_start  region_end\n",
    "# 2931  chr17_67963461_67963466    chr17      67963444    67963466\n",
    "# 2932  chr17_67963461_67963466    chr17      67963458    67963466\n",
    "\n",
    "# 发现其实就是没定下来最终的导致了有多出来的点，图方便取第一个，注意以后 debug！\n",
    "# DEBUG\n",
    "\n",
    "df_bed_fixed_coordinate.drop_duplicates(subset='mpmat_index',\n",
    "                                        keep='first',\n",
    "                                        inplace=True)\n",
    "\n",
    "df_bed_fixed_coordinate.head(2)"
   ]
  },
  {
   "cell_type": "code",
   "execution_count": null,
   "id": "4e7e51f8-e29e-4ba1-b0fa-4c4354d6f7b6",
   "metadata": {
    "tags": []
   },
   "outputs": [],
   "source": [
    "df_bed_fixed_coordinate2 = (\n",
    "    df_bed_fixed_coordinate\n",
    "    .merge(df_sign_lenient, on=['mpmat_index'], how='left')\n",
    "    .drop(\n",
    "        columns=['chr_name_y', 'region_start_y', 'region_end_y']\n",
    "    )\n",
    "    .rename(\n",
    "        columns={\n",
    "            'chr_name_x': 'chr_name',\n",
    "            'region_start_x': 'region_start',\n",
    "            'region_end_x': 'region_end'}\n",
    "    )\n",
    ")\n",
    "\n",
    "sample_names = df_bed_fixed_coordinate2.pop('<sample>')\n",
    "mpmat_indexes = df_bed_fixed_coordinate2.pop('mpmat_index')\n",
    "# 利用insert方法插入取出的数据列到指定位置\n",
    "\n",
    "df_bed_fixed_coordinate2.insert(0, '<sample>', sample_names)\n",
    "df_bed_fixed_coordinate2.insert(4, 'mpmat_index', mpmat_indexes)\n",
    "\n",
    "# fix mpmat_index\n",
    "df_bed_fixed_coordinate2['mpmat_index'] = df_bed_fixed_coordinate2['chr_name'] + '_' + \\\n",
    "    df_bed_fixed_coordinate2['region_start'].astype(str) + '_' + df_bed_fixed_coordinate2['region_end'].astype(str)\n",
    "\n",
    "df_bed_fixed_coordinate2"
   ]
  },
  {
   "cell_type": "code",
   "execution_count": null,
   "id": "71fe1440-1f26-488f-a1f2-b215a7a526b6",
   "metadata": {
    "tags": []
   },
   "outputs": [],
   "source": [
    "# sample 内部无重合\n",
    "# 若有重合，仔细检查原因\n",
    "for sample, _df in df_bed_fixed_coordinate2.groupby('<sample>'):\n",
    "    dup_num = _df.mpmat_index.duplicated().sum()\n",
    "    print(dup_num)\n",
    "\n",
    "    if dup_num:\n",
    "        print(f'sample={sample}\\tdup_num={dup_num}')\n",
    "        print(_df[_df.mpmat_index.duplicated()].iloc[:, 0:6])\n",
    "        print()\n",
    "    else:\n",
    "        pass"
   ]
  },
  {
   "cell_type": "code",
   "execution_count": null,
   "id": "d8e2ed3b-428d-4bd4-bca7-42cbb3fc6169",
   "metadata": {
    "tags": []
   },
   "outputs": [],
   "source": [
    "# 这个点被 call 到了两次，因为视为了两个点\n",
    "# 后续处理中保留这个点，不再进行去重\n",
    "print(df_bed_fixed_coordinate2.query('mpmat_index==\"chr1_9702414_9702449\"').iloc[:, 0:7])\n",
    "print(df_bed_fixed_coordinate2.query('mpmat_index==\"chr12_81451345_81451359\"').iloc[:, 0:7])\n",
    "\n",
    "\n",
    "df_bed_fixed_coordinate2"
   ]
  },
  {
   "cell_type": "code",
   "execution_count": null,
   "id": "5d1c58e8-7752-4e47-bc8c-5afbeeda04f0",
   "metadata": {
    "tags": []
   },
   "outputs": [],
   "source": [
    "df_pois = df_bed_fixed_coordinate2.copy()\n",
    "df_pois.head()\n",
    "\n",
    "# 现在只要是有 nature 当中的 region，都和 nature 的 coordinate\n",
    "# 和mpmat_index保持一致了，后面如果回溯命名，直接和 v4 的 table merge一下即可"
   ]
  },
  {
   "cell_type": "code",
   "execution_count": null,
   "id": "552f2639-ffda-4bda-ad5b-551a4af539f0",
   "metadata": {
    "tags": []
   },
   "outputs": [],
   "source": [
    "df_pois.isna().sum().sum()"
   ]
  },
  {
   "cell_type": "code",
   "execution_count": null,
   "id": "c35ea202-8afa-4e3f-b1a4-81f7d045b84f",
   "metadata": {
    "tags": []
   },
   "outputs": [],
   "source": [
    "df_pois.to_csv('/Users/zhaohuanan/Downloads/2022-11-25_for_home_use.csv.gz', index=None)"
   ]
  },
  {
   "cell_type": "code",
   "execution_count": null,
   "id": "48816244-5424-4092-baca-a2272e33737a",
   "metadata": {
    "tags": []
   },
   "outputs": [],
   "source": [
    "# del df, df_mpmat, df_bed_fixed_coordinate2"
   ]
  },
  {
   "cell_type": "code",
   "execution_count": null,
   "id": "8dd02cd2-8fc2-491a-a29a-630eccb28385",
   "metadata": {
    "tags": []
   },
   "outputs": [],
   "source": [
    "# %reset"
   ]
  },
  {
   "cell_type": "markdown",
   "id": "00da264c-82b8-4f18-b3d2-dfbaf670e59c",
   "metadata": {
    "tags": []
   },
   "source": [
    "# 重载预处理好的数据 reload data -> df_pois"
   ]
  },
  {
   "cell_type": "code",
   "execution_count": null,
   "id": "58914210-d3e9-45c0-b778-865982612169",
   "metadata": {
    "tags": []
   },
   "outputs": [],
   "source": [
    "df_pois = pd.read_csv('/Users/zhaohuanan/Downloads/2022-11-25_for_home_use.csv.gz', header=0, index_col=None)\n",
    "df_pois"
   ]
  },
  {
   "cell_type": "code",
   "execution_count": null,
   "id": "72eb92d4-39ae-45d1-be45-9e3e9002a847",
   "metadata": {
    "tags": []
   },
   "outputs": [],
   "source": [
    "# 看一下有没有重合的\n",
    "# 有的话去上一步 fix 掉\n",
    "df_pois.groupby('<sample>').mpmat_index.describe()"
   ]
  },
  {
   "cell_type": "code",
   "execution_count": null,
   "id": "a3674919-0c5c-4238-ac80-09ef45f6a98c",
   "metadata": {
    "tags": []
   },
   "outputs": [],
   "source": [
    "# 这里 fix 一个连起来的点chr12_81451345_81451359\n",
    "df_pois[df_pois['mpmat_index']!='chr12_81451345_81451359'].groupby('<sample>').mpmat_index.describe()"
   ]
  },
  {
   "cell_type": "markdown",
   "id": "f2344f9e-0756-4c55-a023-b7b14923edcb",
   "metadata": {
    "tags": []
   },
   "source": [
    "# [TODO] share analysis of different DdCBE treatment -> upset plot"
   ]
  },
  {
   "cell_type": "markdown",
   "id": "0d23ee8c-5573-42a8-b8bd-5b8a8a70cd81",
   "metadata": {},
   "source": [
    "## [TODO]plot upset-plot: share info"
   ]
  },
  {
   "cell_type": "code",
   "execution_count": null,
   "id": "c000aace-405d-47c5-975a-da994ebd0995",
   "metadata": {
    "tags": []
   },
   "outputs": [],
   "source": [
    "# %%R\n",
    "# 使用ggpubr包中的ggarrange()函数来排版多个图形：\n",
    "# ggarrange(bxp, dp, bp + rremove(\"x.text\"), labels=c('A', 'B', 'C'), ncol=2, nrow=2)\n",
    "\n",
    "# 这个简书写的太好了！\n",
    "# https://www.jianshu.com/p/c154ca35530b\n",
    "# 注释排版的图形\n",
    "# 对齐绘图区\n",
    "# 更改图形的行列跨度\n",
    "# 使用cowplot包中的draw_plot_label()函数注释图形\n",
    "\n",
    "\n",
    "# %%R -i df2r\n",
    "# df = as.data.frame(df2r)\n",
    "# # head(df, 10)\n",
    "\n",
    "# g_a = ggplot(data=df) +\n",
    "#     geom_point(\n",
    "#         mapping=aes(\n",
    "#             x=ATP8_DddAwt_1,\n",
    "#             y=ATP8_DddA6_1,\n",
    "#             # alpha=0.99,\n",
    "#             # size=1,\n",
    "#             color=color,\n",
    "#             fill=color,\n",
    "#         )\n",
    "#     ) +\n",
    "#     scale_color_manual(values=c(\"#ff9f1c\", \"#447B9D\", \"#e36414\")) +\n",
    "#     scale_x_continuous(\n",
    "#         name=\"Detect-seq_signals of ATP8_DddAwt_1\",\n",
    "#         limits=c(0, 0.5),\n",
    "#     ) +\n",
    "#     scale_y_continuous(\n",
    "#         name=\"Detect-seq_signals of ATP8_DddA6_1\",\n",
    "#         limits=c(0, 0.5),\n",
    "#     ) +\n",
    "#     geom_abline(intercept=0, slope=1, linetype=\"dashed\", color=\"#333333\") +\n",
    "#     annotate(\"text\", x=40, y=9, hjust=0, parse=F, colour=\"black\", label=sprintf(\"N = %i\", dim(df)[1])) +\n",
    "#     ggtitle(\"ATP8_DddAwt_1 v.s. ATP8_DddA6_1\") +\n",
    "#     theme_classic() +\n",
    "#     theme(plot.title=element_text(hjust=0.5))\n",
    "\n",
    "# ggsave('2022-10-30_Detect-seq_scatter-plot_ATP8_DddAwt_1v.s.ATP8_DddA6_1.pdf', plot=g_a, width=4.6, height=4)\n",
    "\n",
    "\n",
    "# df = df %>%\n",
    "#     group_by(color) %>% summarise(count=n()) %>%\n",
    "#     mutate(\n",
    "#         group=color,\n",
    "#         csum=rev(cumsum(rev(count))),\n",
    "#         total=sum(count),\n",
    "#         ratio=count/total*100,\n",
    "#         pos=count/2 + lead(csum, 1),\n",
    "#         pos=if_else(is.na(pos), count/2, pos)\n",
    "#     )\n",
    "# g_b = ggplot(data=df, mapping=aes(x=\"\", y=count, fill=color, group=fct_inorder(color))) +\n",
    "#     geom_col(color=\"white\") +\n",
    "#     geom_text(\n",
    "#         aes(label=sprintf(\"%i\\n%.0f%%\", count, ratio)),  # 标注\n",
    "#         position=position_stack(vjust=0.5),\n",
    "#         size=3\n",
    "#     ) +\n",
    "#     coord_polar(theta=\"y\") +\n",
    "#     scale_fill_brewer(palette=\"Pastel2\") +\n",
    "#     ggtitle(\"Pie: ATP8_DddAwt_1 v.s. ATP8_DddA6_1\") +\n",
    "#     theme_void()\n",
    "\n",
    "# ggsave('2022-10-30_Detect-seq_pie-plot_ATP8_DddAwt_1v.s.ATP8_DddA6_1.pdf', plot=g_b, width=5.2, height=4)\n",
    "# print(g_a)\n",
    "# print(g_b)"
   ]
  },
  {
   "cell_type": "code",
   "execution_count": null,
   "id": "da1d3983-5df1-402a-8679-dbf6966e733f",
   "metadata": {
    "tags": []
   },
   "outputs": [],
   "source": [
    "# df_upset = df_wide_score.set_index('mpmat_index').applymap(lambda x: True if x >= 0.001 else False)\n",
    "# # .T\n",
    "# df_upset"
   ]
  },
  {
   "cell_type": "code",
   "execution_count": null,
   "id": "f118434b-0dba-47fc-b941-275068713e15",
   "metadata": {},
   "outputs": [],
   "source": [
    "# df_upset"
   ]
  },
  {
   "cell_type": "code",
   "execution_count": null,
   "id": "f2353d71-26f7-42ba-8500-7e0551f5925a",
   "metadata": {
    "tags": []
   },
   "outputs": [],
   "source": [
    "# %%R -i df_upset\n",
    "\n",
    "# df_upset = tibble(df_upset)\n",
    "\n",
    "# g = df_upset %>%\n",
    "#     group_by(OTs) %>%\n",
    "#     summarize(Treatments=list(Treatment)) %>%\n",
    "#     ggplot(aes(x=Treatments)) +\n",
    "#         geom_bar() +\n",
    "#         scale_x_upset() +\n",
    "#         scale_y_log10(\n",
    "#             breaks=c(10, 20, 30, 40, 50, 100, 200, 300, 400, 500, 2000, 2500)\n",
    "#         ) +\n",
    "#         ylab('log10_OTs\\' count') +\n",
    "#         ggtitle('Off-target sharing of different DdCBEs')\n",
    "#         theme_bw()\n",
    "# ggsave('2022-10-30_Detect-seq_upset-plot_all.pdf', plot=g, width=8, height=9)\n",
    "# g"
   ]
  },
  {
   "cell_type": "code",
   "execution_count": null,
   "id": "3d14976e-3dff-45b2-8d7b-668a50a2812b",
   "metadata": {
    "tags": []
   },
   "outputs": [],
   "source": [
    "# %%R\n",
    "# g = ggplot(df_upset) +\n",
    "#     geom_bar(\n",
    "#         aes(x=Treatment, fill=Treatment, group=Treatment),\n",
    "#         stat='count',\n",
    "#         width=0.8\n",
    "#     ) +\n",
    "#     scale_y_continuous(\n",
    "#         limits=c(0, 2800),\n",
    "#         breaks=c(0, 50, 100, 200, 500, 1000, 2000, 2650)\n",
    "#     ) +\n",
    "#     ylab(\"total counts\") +\n",
    "#     ggtitle(\"Total OTs induced by DdCBEs\") +\n",
    "#     coord_flip() +\n",
    "#     theme_classic() +\n",
    "#     theme(axis.text.x=element_text(angle=90, vjust=0.5, hjust=1, size=6))\n",
    "\n",
    "# ggsave('2022-10-30_Detect-seq_bar-plot_all.pdf', plot=g, width=8, height=4)\n",
    "# g"
   ]
  },
  {
   "cell_type": "code",
   "execution_count": null,
   "id": "b6b7f2b3-1fc1-4d1a-b390-901fd179870f",
   "metadata": {
    "tags": []
   },
   "outputs": [],
   "source": [
    "# %%R\n",
    "# df_upset %>%\n",
    "#     group_by(OTs) %>%\n",
    "#     filter(grepl(\"ATP8\", Treatment))"
   ]
  },
  {
   "cell_type": "code",
   "execution_count": null,
   "id": "f6d3b661-dc21-425b-bf5d-969004abf85c",
   "metadata": {
    "tags": []
   },
   "outputs": [],
   "source": [
    "# %%R\n",
    "# g = df_upset %>%\n",
    "#     group_by(OTs) %>%\n",
    "#     filter(grepl(\"ATP8\", Treatment)) %>%\n",
    "#     summarize(Treatments=list(Treatment)) %>%\n",
    "#     ggplot(aes(x=Treatments)) +\n",
    "#         geom_bar() +\n",
    "#         scale_x_upset() +\n",
    "#         scale_y_continuous(\n",
    "#             breaks=seq(0, 400, 50)\n",
    "#         ) +\n",
    "#         ggtitle('Off-target sharing of different ATP8-DdCBEs')\n",
    "#         theme_bw()\n",
    "# ggsave('2022-10-30_Detect-seq_upset-plot_all_ATP8.pdf', plot=g, width=8, height=9)\n",
    "# g"
   ]
  },
  {
   "cell_type": "markdown",
   "id": "aa5df120-f08d-4115-aeee-bcdf43524902",
   "metadata": {
    "tags": []
   },
   "source": [
    "# Detect-seq signal comparation -> scatter plot"
   ]
  },
  {
   "cell_type": "markdown",
   "id": "bfeca4fb-215a-4119-889d-5cdeb5765435",
   "metadata": {},
   "source": [
    "## data processing"
   ]
  },
  {
   "cell_type": "code",
   "execution_count": null,
   "id": "6f116a34-81d6-4970-b3f2-a878bffba130",
   "metadata": {
    "tags": []
   },
   "outputs": [],
   "source": [
    "df_pois"
   ]
  },
  {
   "cell_type": "code",
   "execution_count": null,
   "id": "2fd78b5c-c61a-4c5a-a9cb-49f1ead8e638",
   "metadata": {},
   "outputs": [],
   "source": [
    "df_pois.info()"
   ]
  },
  {
   "cell_type": "code",
   "execution_count": null,
   "id": "5898580c-ac85-4246-98af-8e14a614da0c",
   "metadata": {
    "tags": []
   },
   "outputs": [],
   "source": [
    "df_pois['test_state'].describe()"
   ]
  },
  {
   "cell_type": "code",
   "execution_count": null,
   "id": "61070182-1d78-4acf-9876-5883cd3898ce",
   "metadata": {
    "tags": []
   },
   "outputs": [],
   "source": [
    "df_pois_sel = df_pois[['<sample>', 'mpmat_index',\n",
    "                       'treat_mut_count.norm', 'treat_count.norm']]\n",
    "df_pois_sel"
   ]
  },
  {
   "cell_type": "code",
   "execution_count": null,
   "id": "f63d52a9-2b1d-4be6-bbf4-1d2b315cac3c",
   "metadata": {
    "tags": []
   },
   "outputs": [],
   "source": [
    "# 计算detect_seq_score\n",
    "def calculate_detect_seq_score(x):\n",
    "    treat_mut_count_norm = x['treat_mut_count.norm']\n",
    "    treat_count_norm = x['treat_count.norm']\n",
    "    treat_mut_ratio = treat_mut_count_norm / treat_count_norm\n",
    "\n",
    "    if treat_count_norm != 0:\n",
    "        score = (treat_mut_ratio ** 2) * treat_mut_count_norm * 100\n",
    "    else:\n",
    "        print(x)\n",
    "        raise ValueError\n",
    "    return score\n",
    "\n",
    "\n",
    "df_pois_sel = df_pois_sel.assign(\n",
    "    sample=df_pois_sel['<sample>'],\n",
    "    detect_seq_score=df_pois_sel.parallel_apply(\n",
    "        calculate_detect_seq_score, axis=1\n",
    "    ),\n",
    ")\n",
    "\n",
    "\n",
    "df_pois_sel"
   ]
  },
  {
   "cell_type": "code",
   "execution_count": null,
   "id": "b9b90689-d795-4ed1-9b09-126259b1f056",
   "metadata": {
    "tags": []
   },
   "outputs": [],
   "source": [
    "df_detect_seq_score = df_pois_sel[['mpmat_index', 'sample', 'detect_seq_score']].copy()\n",
    "df_detect_seq_score"
   ]
  },
  {
   "cell_type": "code",
   "execution_count": null,
   "id": "2d14464d-ab7a-4251-88db-58cadb7a9fe5",
   "metadata": {
    "tags": []
   },
   "outputs": [],
   "source": [
    "df_detect_seq_score.detect_seq_score.describe()"
   ]
  },
  {
   "cell_type": "code",
   "execution_count": null,
   "id": "1749830a-bf51-4dac-ab09-dccfd93a0b44",
   "metadata": {
    "tags": []
   },
   "outputs": [],
   "source": [
    "df_wide = pd.DataFrame(\n",
    "    df_detect_seq_score.mpmat_index.unique(),\n",
    "    columns=['mpmat_index'])\n",
    "\n",
    "\n",
    "for _dfn, _df in df_detect_seq_score.groupby('sample'):\n",
    "    print(_dfn)\n",
    "    _df.columns = ['mpmat_index', _dfn, f'score_{_dfn}']\n",
    "    df_wide = pd.merge(\n",
    "        left=df_wide, right=_df.iloc[:, [0, 2]],\n",
    "        on='mpmat_index', how='left')\n",
    "\n",
    "# df_wide_score = df_wide.fillna(0)\n",
    "df_wide_score = df_wide\n",
    "df_wide_score\n",
    "# df_wide"
   ]
  },
  {
   "cell_type": "code",
   "execution_count": null,
   "id": "abc4edee-1874-44cb-9410-6fcb74ab198d",
   "metadata": {
    "tags": []
   },
   "outputs": [],
   "source": [
    "# 重命名列名\n",
    "df_wide_score.columns = [\n",
    "    \"mpmat_index\",\n",
    "    \"ATP8_DddA11_1\",\n",
    "    \"ATP8_DddA6_1\",\n",
    "    \"ATP8_DddAwt_1\",\n",
    "    \"JAK2_DddA11_1\",\n",
    "    \"JAK2_DddA11_2\",\n",
    "    \"SIRT6_DddA11_1\",\n",
    "    \"SIRT6_DddA11_2\",\n",
    "]\n",
    "\n",
    "df_wide_score"
   ]
  },
  {
   "cell_type": "code",
   "execution_count": null,
   "id": "ead90502-b98d-4d3e-a5c8-c6e561ae0b19",
   "metadata": {
    "tags": []
   },
   "outputs": [],
   "source": [
    "# df_wide_score = df_wide_score[df_wide_score.iloc[:,1:].sum(axis=1) > 0.1].copy()\n",
    "# df_wide_score\n",
    "df_wide_score.query('mpmat_index==\"chr2_59759874_59759954\"')"
   ]
  },
  {
   "cell_type": "code",
   "execution_count": null,
   "id": "42cfb8cb-b5bc-44b9-8493-b3c55d675323",
   "metadata": {
    "tags": []
   },
   "outputs": [],
   "source": [
    "df_pois.query('mpmat_index==\"chr2_59759874_59759954\"')"
   ]
  },
  {
   "cell_type": "code",
   "execution_count": null,
   "id": "fd22f6a5-a1b6-4394-b699-ee1051a86a66",
   "metadata": {
    "tags": []
   },
   "outputs": [],
   "source": [
    "df.query('mpmat_index==\"chr2_59759874_59759954\"')"
   ]
  },
  {
   "cell_type": "code",
   "execution_count": null,
   "id": "269a6825-c75d-4b6b-a27a-59d264eef60f",
   "metadata": {
    "tags": []
   },
   "outputs": [],
   "source": [
    "def map_color(x):\n",
    "    color = ''\n",
    "    if x.iloc[1] >= 0.01:\n",
    "        color += 'a'\n",
    "    if x.iloc[2] >= 0.01:\n",
    "        color += 'b'\n",
    "    # a, b, ab, ''\n",
    "    if len(color) == 0:\n",
    "        color = np.NaN\n",
    "\n",
    "    return color"
   ]
  },
  {
   "cell_type": "markdown",
   "id": "cbf7de05-6a1a-4991-9250-9b1ead6e2ccf",
   "metadata": {},
   "source": [
    "## plot comparison between different DddA variants"
   ]
  },
  {
   "cell_type": "markdown",
   "id": "2bdacdc5-df74-46e0-b152-1895c82e97bb",
   "metadata": {},
   "source": [
    "### {scatter plot} ATP8_DddAwt_1 v.s. ATP8_DddA6_1"
   ]
  },
  {
   "cell_type": "code",
   "execution_count": null,
   "id": "032f8862-a603-4ef6-a7b8-501f35706ca5",
   "metadata": {
    "tags": []
   },
   "outputs": [],
   "source": [
    "# load data in R env\n",
    "df2r = df_wide_score[['mpmat_index', 'ATP8_DddAwt_1', 'ATP8_DddA6_1']].copy()\n",
    "df2r['color'] = df2r.parallel_apply(map_color, axis=1)\n",
    "df2r = df2r.query('color.notnull()')\n",
    "df2r"
   ]
  },
  {
   "cell_type": "code",
   "execution_count": null,
   "id": "9c5b9335-1e04-4a84-9628-a09bd7b9fdde",
   "metadata": {
    "tags": []
   },
   "outputs": [],
   "source": [
    "df2r.color.value_counts()"
   ]
  },
  {
   "cell_type": "code",
   "execution_count": null,
   "id": "eb4c535d-d748-4362-acec-c0439a0edb61",
   "metadata": {
    "tags": []
   },
   "outputs": [],
   "source": [
    "df2r.query('mpmat_index==\"chr2_88803448_88803454\"')"
   ]
  },
  {
   "cell_type": "code",
   "execution_count": null,
   "id": "5ab1eaa1-7da8-4755-b5ba-26183693e59f",
   "metadata": {
    "tags": []
   },
   "outputs": [],
   "source": [
    "# 有可疑的点在这里 check\n",
    "# df_pois.query('mpmat_index==\"chr22_13878035_13878043\"')"
   ]
  },
  {
   "cell_type": "code",
   "execution_count": null,
   "id": "6b9cccd7-862e-490b-bbd5-9dad7293ab44",
   "metadata": {
    "tags": []
   },
   "outputs": [],
   "source": [
    "# 因为图放不下，所以临时 fix 以下\n",
    "# df2r.iloc[5, 1:3] = df2r.iloc[5, 1:3] / 2"
   ]
  },
  {
   "cell_type": "code",
   "execution_count": null,
   "id": "653dca3a-08f4-4fca-9181-b09b658de36d",
   "metadata": {
    "tags": []
   },
   "outputs": [],
   "source": [
    "# df2r.iloc[5, 1:3]"
   ]
  },
  {
   "cell_type": "code",
   "execution_count": null,
   "id": "08cd08d4-2c1b-4ad5-aafc-b89b731b0a7c",
   "metadata": {
    "tags": []
   },
   "outputs": [],
   "source": [
    "%%R -i df2r -w 500 -h 500\n",
    "df = tibble(df2r)\n",
    "# head(df, 10)\n",
    "\n",
    "g = ggplot(data=df) +\n",
    "    geom_point(\n",
    "        mapping=aes(\n",
    "            x=ATP8_DddAwt_1,\n",
    "            y=ATP8_DddA6_1,\n",
    "            alpha=0.99,\n",
    "            # size=1,\n",
    "            color=color,\n",
    "            fill=color,\n",
    "        )\n",
    "    ) +\n",
    "    scale_color_manual(values=c(\"#ff9f1c\", \"#447B9D\", \"#e36414\")) +\n",
    "    scale_x_continuous(\n",
    "        name=\"Detect-seq_signals of ATP8_DddAwt_1\",\n",
    "        # limits=c(0, 66),\n",
    "    ) +\n",
    "    scale_y_continuous(\n",
    "        name=\"Detect-seq_signals of ATP8_DddA6_1\",\n",
    "        # limits=c(0, 66),\n",
    "    ) +\n",
    "    geom_abline(intercept=0, slope=1, linetype=\"dashed\", color=\"#333333\") +\n",
    "    annotate(\"text\", x=40, y=9, hjust=0, parse=F, colour=\"black\", label=sprintf(\"N = %i\", dim(df)[1])) +\n",
    "    ggtitle(\"ATP8_DddAwt_1 v.s. ATP8_DddA6_1\") +\n",
    "    theme_classic() +\n",
    "    theme(plot.title=element_text(hjust=0.5))\n",
    "\n",
    "ggsave('2022-10-30_Detect-seq_scatter-plot_ATP8_DddAwt_1v.s.ATP8_DddA6_1.pdf', plot=g, width=4.6, height=4)\n",
    "g"
   ]
  },
  {
   "cell_type": "code",
   "execution_count": null,
   "id": "9e6d3b5b-143b-47cb-bff8-22be334a0bce",
   "metadata": {
    "tags": []
   },
   "outputs": [],
   "source": [
    "# %%R\n",
    "\n",
    "# g = ggplot(data=df) +\n",
    "#     geom_point(\n",
    "#         mapping=aes(\n",
    "#             x=ATP8_DddAwt_1,\n",
    "#             y=ATP8_DddA6_1,\n",
    "#             # alpha=0.99,\n",
    "#             # size=1,\n",
    "#             color=color,\n",
    "#             fill=color,\n",
    "#             # shape=color,\n",
    "#             # group=color,\n",
    "#         )\n",
    "#     ) +\n",
    "#     scale_color_manual(values=c(\"#ff9f1c\", \"#447B9D\", \"#e36414\")) +\n",
    "#     scale_x_log10(\n",
    "#         name=\"log10_Detect-seq_signals of ATP8_DddAwt_1\",\n",
    "#         limits=c(0.01, 1.5),\n",
    "#         # breaks=c(0.0001, 0.001, 0.01, 0.1, 1),\n",
    "#     ) +\n",
    "#     scale_y_log10(\n",
    "#         name=\"log10_Detect-seq_signals of ATP8_DddA6_1\",\n",
    "#         limits=c(0.01, 1.5),\n",
    "#         # breaks=c(0.01, 0.1, 1, 10, 100, 1000),\n",
    "#     ) +\n",
    "#     geom_abline(intercept=0, slope=1, linetype=\"dashed\", color=\"#333333\") +\n",
    "#     annotate(\"text\", x=40, y=9, hjust=0, parse=F, colour=\"black\", label=sprintf(\"N = %i\", dim(df)[1])) +\n",
    "#     ggtitle(\"log10_ATP8_DddAwt_1 v.s. ATP8_DddA6_1\") +\n",
    "#     theme_classic() +\n",
    "#     theme(plot.title=element_text(hjust=0.5))\n",
    "\n",
    "# ggsave('2022-10-30_Detect-seq_scatter-plot_log10_ATP8_DddAwt_1v.s.ATP8_DddA6_1.pdf', plot=g, width=4.6, height=4)\n",
    "# g"
   ]
  },
  {
   "cell_type": "markdown",
   "id": "a58e15a7-0ac2-4d94-87d3-7d169e5bc831",
   "metadata": {},
   "source": [
    "#### 问题：关于 wt 独立的点需要 check 一下 IGV"
   ]
  },
  {
   "cell_type": "code",
   "execution_count": null,
   "id": "c1fbd15f-352d-42d0-9c11-b69581a08233",
   "metadata": {
    "tags": []
   },
   "outputs": [],
   "source": [
    "df_igv = df2r.query('color==\"a\"').copy()\n",
    "df_igv[list('abc')] = df_igv.mpmat_index.str.split('_', expand=True)\n",
    "print(df_igv.shape[0])\n",
    "df_igv"
   ]
  },
  {
   "cell_type": "code",
   "execution_count": null,
   "id": "fa0828c7-95e1-4b71-81a1-40a445d0efa9",
   "metadata": {
    "tags": []
   },
   "outputs": [],
   "source": [
    "df_pois.query('mpmat_index==\"chr2_59759874_59759954\"')"
   ]
  },
  {
   "cell_type": "code",
   "execution_count": null,
   "id": "06258293-3d93-46a8-a878-f721ea27f93d",
   "metadata": {
    "tags": []
   },
   "outputs": [],
   "source": [
    "df_igv = df_igv.merge(df_old_share, how='left')\n",
    "df_igv"
   ]
  },
  {
   "cell_type": "code",
   "execution_count": null,
   "id": "37e69362-a63e-4bf9-92fc-eb7244f0f50f",
   "metadata": {
    "tags": []
   },
   "outputs": [],
   "source": [
    "df_igv = df_igv[['a', 'b', 'c', 'id_merge']].fillna('nan').copy()\n",
    "df_igv[['b', 'c']] = df_igv[['b', 'c']].astype(int)\n",
    "df_igv"
   ]
  },
  {
   "cell_type": "code",
   "execution_count": null,
   "id": "b2cbbd3a-edbf-4e8a-be5b-8c908a69f460",
   "metadata": {
    "tags": []
   },
   "outputs": [],
   "source": [
    "df_igv"
   ]
  },
  {
   "cell_type": "code",
   "execution_count": null,
   "id": "1a8503fc-943a-4ac4-82db-055e29cb02b2",
   "metadata": {
    "tags": []
   },
   "outputs": [],
   "source": [
    "# 填写相关信息\n",
    "\n",
    "path_out = '/Volumes/Data-a/Bio/3.project/2022_DdCBE-3D-Genome_topic/2022-09-30_Detect-seq_batch-1/igv'\n",
    "date = 20221125\n",
    "format_ = \"png\"\n",
    "height = 1500\n",
    "\n",
    "# 格式化脚本\n",
    "text = f\"maxPanelHeight {height}\\nsnapshotDirectory {path_out}/off-targets_{date}\\n\\n\"\n",
    "# print(text)\n",
    "\n",
    "\n",
    "df_snapshot = df_igv.iloc[:, 0:4]\n",
    "\n",
    "for index, row_info in df_snapshot.iterrows():\n",
    "    chrom, start, stop, bed_name = row_info\n",
    "\n",
    "    path_out_png = f'{chrom}_{start}_{stop}_{bed_name}.snapshot.{format_}'\n",
    "    middle = int((start + stop) / 2)\n",
    "\n",
    "    text += f\"goto {chrom}:{middle - 100}-{middle + 100}\\nsort position\\nexpand\\nviewaspairs\\nsnapshot {path_out_png}\\n\\n\"\n",
    "print(text[:1000])\n",
    "\n",
    "\n",
    "with open(f'{path_out}/{date}_off-targets_snapshot.igv_shot_script', 'wt') as f:\n",
    "    f.write(text)"
   ]
  },
  {
   "cell_type": "markdown",
   "id": "7f8c1afc-0ac9-4121-b8d3-c3cf1caa02b7",
   "metadata": {},
   "source": [
    "### {scatter plot} ATP8_DddAwt_1 vs ATP8_DddA11_1"
   ]
  },
  {
   "cell_type": "code",
   "execution_count": null,
   "id": "8b0bbe26-9e50-472e-988c-afa113863cb3",
   "metadata": {
    "tags": []
   },
   "outputs": [],
   "source": [
    "# load data in R env\n",
    "df2r = df_wide_score[['mpmat_index', 'ATP8_DddAwt_1', 'ATP8_DddA11_1']].copy()\n",
    "df2r['color'] = df2r.apply(map_color, axis=1)\n",
    "df2r = df2r.query('color.notnull()')\n",
    "df2r"
   ]
  },
  {
   "cell_type": "code",
   "execution_count": null,
   "id": "adf9fa69-eebc-4f68-bd38-a970e60c6898",
   "metadata": {
    "tags": []
   },
   "outputs": [],
   "source": [
    "%%R -i df2r -w 500 -h 500\n",
    "df = as.data.frame(df2r)\n",
    "# head(df, 10)\n",
    "\n",
    "g = ggplot(data=df) +\n",
    "    geom_point(\n",
    "        mapping=aes(\n",
    "            x=ATP8_DddAwt_1,\n",
    "            y=ATP8_DddA11_1,\n",
    "            # alpha=0.99,\n",
    "            # size=1,\n",
    "            color=color,\n",
    "            fill=color,\n",
    "            # shape=color,\n",
    "            # group=color,\n",
    "        )\n",
    "    ) +\n",
    "    scale_color_manual(values=c(\"#ff9f1c\", \"#447B9D\", \"#e36414\")) +\n",
    "    scale_x_continuous(\n",
    "        name=\"Detect-seq_signals of ATP8_DddAwt_1\",\n",
    "        limits=c(0, 0.5),\n",
    "    ) +\n",
    "    scale_y_continuous(\n",
    "        name=\"Detect-seq_signals of ATP8_DddA11_1\",\n",
    "        limits=c(0, 0.5),\n",
    "    ) +\n",
    "    geom_abline(intercept=0, slope=1, linetype=\"dashed\", color=\"#333333\") +\n",
    "    annotate(\"text\", x=40, y=9, hjust=0, parse=F, colour=\"black\", label=sprintf(\"N = %i\", dim(df)[1])) +\n",
    "    ggtitle(\"ATP8_DddAwt_1 v.s. ATP8_DddA11_1\") +\n",
    "    theme_classic() +\n",
    "    theme(plot.title=element_text(hjust=0.5))\n",
    "\n",
    "ggsave('2022-10-30_Detect-seq_scatter-plot_ATP8_DddAwt_1v.s.ATP8_DddA11_1.pdf', plot=g, width=4.6, height=4)\n",
    "g"
   ]
  },
  {
   "cell_type": "code",
   "execution_count": null,
   "id": "120e333f-eb40-4cdc-9362-def8836f52a8",
   "metadata": {
    "tags": []
   },
   "outputs": [],
   "source": [
    "# %%R\n",
    "\n",
    "# g = ggplot(data=df) +\n",
    "#     geom_point(\n",
    "#         mapping=aes(\n",
    "#             x=ATP8_DddAwt_1,\n",
    "#             y=ATP8_DddA11_1,\n",
    "#             # alpha=0.99,\n",
    "#             # size=1,\n",
    "#             color=color,\n",
    "#             fill=color,\n",
    "#             # shape=color,\n",
    "#             # group=color,\n",
    "#         )\n",
    "#     ) +\n",
    "#     scale_color_manual(values=c(\"#ff9f1c\", \"#447B9D\", \"#e36414\")) +\n",
    "#     scale_x_log10(\n",
    "#         name=\"log10_Detect-seq_signals of ATP8_DddAwt_1\",\n",
    "#         limits=c(0.01, 1.5),\n",
    "#         # breaks=c(0.0001, 0.001, 0.01, 0.1, 1),\n",
    "#     ) +\n",
    "#     scale_y_log10(\n",
    "#         name=\"log10_Detect-seq_signals of ATP8_DddA11_1\",\n",
    "#         limits=c(0.01, 1.5),\n",
    "#         # breaks=c(0.01, 0.1, 1, 10, 100, 1000),\n",
    "#     ) +\n",
    "#     geom_abline(intercept=0, slope=1, linetype=\"dashed\", color=\"#333333\") +\n",
    "#     annotate(\"text\", x=40, y=9, hjust=0, parse=F, colour=\"black\", label=sprintf(\"N = %i\", dim(df)[1])) +\n",
    "#     ggtitle(\"log10_ATP8_DddAwt_1 v.s. ATP8_DddA11_1\") +\n",
    "#     theme_classic() +\n",
    "#     theme(plot.title=element_text(hjust=0.5))\n",
    "\n",
    "# ggsave('2022-10-30_Detect-seq_scatter-plot_log10_ATP8_DddAwt_1v.s.ATP8_DddA11_1.pdf', plot=g, width=4.6, height=4)\n",
    "# g"
   ]
  },
  {
   "cell_type": "markdown",
   "id": "918e368b-9bda-4b94-b926-2bd5336b87b3",
   "metadata": {
    "tags": []
   },
   "source": [
    "### {scatter plot} ATP8_DddA6_1 vs ATP8_DddA11_1"
   ]
  },
  {
   "cell_type": "code",
   "execution_count": null,
   "id": "e2b42eab-18cb-453b-8e1e-6fb4e36d09ef",
   "metadata": {
    "tags": []
   },
   "outputs": [],
   "source": [
    "# load data in R env\n",
    "df2r = df_wide_score[['mpmat_index', 'ATP8_DddA6_1', 'ATP8_DddA11_1']].copy()\n",
    "df2r['color'] = df2r.apply(map_color, axis=1)\n",
    "df2r = df2r.query('color.notnull()')\n",
    "df2r"
   ]
  },
  {
   "cell_type": "code",
   "execution_count": null,
   "id": "03c564a0-271a-41ab-bd3f-f384928a7ad1",
   "metadata": {
    "tags": []
   },
   "outputs": [],
   "source": [
    "%%R -i df2r\n",
    "df = as.data.frame(df2r)\n",
    "# head(df, 10)\n",
    "\n",
    "g = ggplot(data=df) +\n",
    "    geom_point(\n",
    "        mapping=aes(\n",
    "            x=ATP8_DddA6_1,\n",
    "            y=ATP8_DddA11_1,\n",
    "            # alpha=0.99,\n",
    "            # size=1,\n",
    "            color=color,\n",
    "            fill=color,\n",
    "            # shape=color,\n",
    "            # group=color,\n",
    "        )\n",
    "    ) +\n",
    "    scale_color_manual(values=c(\"#ff9f1c\", \"#447B9D\", \"#e36414\")) +\n",
    "    scale_x_continuous(\n",
    "        name=\"Detect-seq_signals of ATP8_DddA6_1\",\n",
    "        limits=c(0, 0.5),\n",
    "    ) +\n",
    "    scale_y_continuous(\n",
    "        name=\"Detect-seq_signals of ATP8_DddA11_1\",\n",
    "        limits=c(0, 0.5),\n",
    "    ) +\n",
    "    geom_abline(intercept=0, slope=1, linetype=\"dashed\", color=\"#333333\") +\n",
    "    annotate(\"text\", x=40, y=9, hjust=0, parse=F, colour=\"black\", label=sprintf(\"N = %i\", dim(df)[1])) +\n",
    "    ggtitle(\"ATP8_DddA6_1 v.s. ATP8_DddA11_1\") +\n",
    "    theme_classic() +\n",
    "    theme(plot.title=element_text(hjust=0.5))\n",
    "\n",
    "ggsave('2022-10-30_Detect-seq_scatter-plot_ATP8_DddA6_1v.s.ATP8_DddA11_1.pdf', plot=g, width=4.6, height=4)\n",
    "g"
   ]
  },
  {
   "cell_type": "code",
   "execution_count": null,
   "id": "49f41413-b852-4ef7-9b79-177844c90e4f",
   "metadata": {
    "tags": []
   },
   "outputs": [],
   "source": [
    "# %%R\n",
    "\n",
    "# g = ggplot(data=df) +\n",
    "#     geom_point(\n",
    "#         mapping=aes(\n",
    "#             x=ATP8_DddA6_1,\n",
    "#             y=ATP8_DddA11_1,\n",
    "#             # alpha=0.99,\n",
    "#             # size=1,\n",
    "#             color=color,\n",
    "#             fill=color,\n",
    "#             # shape=color,\n",
    "#             # group=color,\n",
    "#         )\n",
    "#     ) +\n",
    "#     scale_color_manual(values=c(\"#ff9f1c\", \"#447B9D\", \"#e36414\")) +\n",
    "#     scale_x_log10(\n",
    "#         name=\"log10_Detect-seq_signals of ATP8_DddA6_1\",\n",
    "#         limits=c(0.01, 1.5),\n",
    "#         # breaks=c(0.0001, 0.001, 0.01, 0.1, 1),\n",
    "#     ) +\n",
    "#     scale_y_log10(\n",
    "#         name=\"log10_Detect-seq_signals of ATP8_DddA11_1\",\n",
    "#         limits=c(0.01, 1.5),\n",
    "#         # breaks=c(0.01, 0.1, 1, 10, 100, 1000),\n",
    "#     ) +\n",
    "#     geom_abline(intercept=0, slope=1, linetype=\"dashed\", color=\"#333333\") +\n",
    "#     annotate(\"text\", x=40, y=9, hjust=0, parse=F, colour=\"black\", label=sprintf(\"N = %i\", dim(df)[1])) +\n",
    "#     ggtitle(\"log10_ATP8_DddA6_1 v.s. ATP8_DddA11_1\") +\n",
    "#     theme_classic() +\n",
    "#     theme(plot.title=element_text(hjust=0.5))\n",
    "\n",
    "# ggsave('2022-10-30_Detect-seq_scatter-plot_log10_ATP8_DddA6_1v.s.ATP8_DddA11_1.pdf', plot=g, width=4.6, height=4)\n",
    "# g"
   ]
  },
  {
   "cell_type": "markdown",
   "id": "01de76d1-5841-45e3-8ce2-a49154ed251a",
   "metadata": {
    "tags": []
   },
   "source": [
    "### plot ATP8_DddA11_1 vs JAK2_DddA11_1"
   ]
  },
  {
   "cell_type": "code",
   "execution_count": null,
   "id": "21e8c0ff-22d1-43c2-afa1-5d2bdcc0abf3",
   "metadata": {
    "tags": []
   },
   "outputs": [],
   "source": [
    "# load data in R env\n",
    "df2r = df_wide_score[['mpmat_index', 'ATP8_DddA11_1', 'JAK2_DddA11_1']].copy()\n",
    "df2r['color'] = df2r.apply(map_color, axis=1)\n",
    "df2r = df2r.query('color.notnull()')\n",
    "df2r"
   ]
  },
  {
   "cell_type": "code",
   "execution_count": null,
   "id": "a8bc4647-9041-4250-9e3c-ced7bc909b06",
   "metadata": {
    "tags": []
   },
   "outputs": [],
   "source": [
    "%%R -i df2r\n",
    "df = as.data.frame(df2r)\n",
    "# head(df, 10)\n",
    "\n",
    "g = ggplot(data=df) +\n",
    "    geom_point(\n",
    "        mapping=aes(\n",
    "            x=ATP8_DddA11_1,\n",
    "            y=JAK2_DddA11_1,\n",
    "            # alpha=0.99,\n",
    "            # size=1,\n",
    "            color=color,\n",
    "            fill=color,\n",
    "            # shape=color,\n",
    "            # group=color,\n",
    "        )\n",
    "    ) +\n",
    "    scale_color_manual(values=c(\"#ff9f1c\", \"#447B9D\", \"#e36414\")) +\n",
    "    scale_x_continuous(\n",
    "        name=\"Detect-seq_signals of ATP8_DddA11_1\",\n",
    "        limits=c(0, 0.8),\n",
    "    ) +\n",
    "    scale_y_continuous(\n",
    "        name=\"Detect-seq_signals of JAK2_DddA11_1\",\n",
    "        limits=c(0, 0.8),\n",
    "    ) +\n",
    "    geom_abline(intercept=0, slope=1, linetype=\"dashed\", color=\"#333333\") +\n",
    "    annotate(\"text\", x=40, y=9, hjust=0, parse=F, colour=\"black\", label=sprintf(\"N = %i\", dim(df)[1])) +\n",
    "    ggtitle(\"ATP8_DddA11_1 v.s. JAK2_DddA11_1\") +\n",
    "    theme_classic() +\n",
    "    theme(plot.title=element_text(hjust=0.5))\n",
    "\n",
    "ggsave('2022-10-30_Detect-seq_scatter-plot_ATP8_DddA11_1v.s.JAK2_DddA11_1.pdf', plot=g, width=4.6, height=4)\n",
    "g"
   ]
  },
  {
   "cell_type": "code",
   "execution_count": null,
   "id": "b31fc673-6ba8-45e0-bc36-dda42f6b4fb7",
   "metadata": {
    "tags": []
   },
   "outputs": [],
   "source": [
    "# %%R\n",
    "\n",
    "# g = ggplot(data=df) +\n",
    "#     geom_point(\n",
    "#         mapping=aes(\n",
    "#             x=ATP8_DddA11_1,\n",
    "#             y=JAK2_DddA11_1,\n",
    "#             # alpha=0.99,\n",
    "#             # size=1,\n",
    "#             color=color,\n",
    "#             fill=color,\n",
    "#             # shape=color,\n",
    "#             # group=color,\n",
    "#         )\n",
    "#     ) +\n",
    "#     scale_color_manual(values=c(\"#ff9f1c\", \"#447B9D\", \"#e36414\")) +\n",
    "#     scale_x_log10(\n",
    "#         name=\"log10_Detect-seq_signals of ATP8_DddA11_1\",\n",
    "#         limits=c(0.01, 1.5),\n",
    "#         # breaks=c(0.0001, 0.001, 0.01, 0.1, 1),\n",
    "#     ) +\n",
    "#     scale_y_log10(\n",
    "#         name=\"log10_Detect-seq_signals of JAK2_DddA11_1\",\n",
    "#         limits=c(0.01, 1.5),\n",
    "#         # breaks=c(0.01, 0.1, 1, 10, 100, 1000),\n",
    "#     ) +\n",
    "#     geom_abline(intercept=0, slope=1, linetype=\"dashed\", color=\"#333333\") +\n",
    "#     annotate(\"text\", x=40, y=9, hjust=0, parse=F, colour=\"black\", label=sprintf(\"N = %i\", dim(df)[1])) +\n",
    "#     ggtitle(\"log10_ATP8_DddA11_1 v.s. JAK2_DddA11_1\") +\n",
    "#     theme_classic() +\n",
    "#     theme(plot.title=element_text(hjust=0.5))\n",
    "\n",
    "# ggsave('2022-10-30_Detect-seq_scatter-plot_log10_ATP8_DddA11_1v.s.JAK2_DddA11_1.pdf', plot=g, width=4.6, height=4)\n",
    "# g"
   ]
  },
  {
   "cell_type": "markdown",
   "id": "ca74a59d-3971-4c7e-9680-601d46917769",
   "metadata": {
    "tags": []
   },
   "source": [
    "### plot ATP8_DddA11_1 vs SIRT6_DddA11_1"
   ]
  },
  {
   "cell_type": "code",
   "execution_count": null,
   "id": "117352e5-b995-4127-a3de-7c88530377a1",
   "metadata": {
    "tags": []
   },
   "outputs": [],
   "source": [
    "# load data in R env\n",
    "df2r = df_wide_score[['mpmat_index', 'ATP8_DddA11_1', 'SIRT6_DddA11_1']].copy()\n",
    "df2r['color'] = df2r.apply(map_color, axis=1)\n",
    "df2r = df2r.query('color.notnull()')\n",
    "df2r"
   ]
  },
  {
   "cell_type": "code",
   "execution_count": null,
   "id": "fbe657fa-1113-4894-a2bf-f15d2460d027",
   "metadata": {
    "tags": []
   },
   "outputs": [],
   "source": [
    "%%R -i df2r\n",
    "df = as.data.frame(df2r)\n",
    "# head(df, 10)\n",
    "\n",
    "g = ggplot(data=df) +\n",
    "    geom_point(\n",
    "        mapping=aes(\n",
    "            x=ATP8_DddA11_1,\n",
    "            y=SIRT6_DddA11_1,\n",
    "            # alpha=0.99,\n",
    "            # size=1,\n",
    "            color=color,\n",
    "            fill=color,\n",
    "            # shape=color,\n",
    "            # group=color,\n",
    "        )\n",
    "    ) +\n",
    "    scale_color_manual(values=c(\"#ff9f1c\", \"#447B9D\", \"#e36414\")) +\n",
    "    scale_x_continuous(\n",
    "        name=\"Detect-seq_signals of ATP8_DddA11_1\",\n",
    "        limits=c(0, 0.8),\n",
    "    ) +\n",
    "    scale_y_continuous(\n",
    "        name=\"Detect-seq_signals of SIRT6_DddA11_1\",\n",
    "        limits=c(0, 0.8),\n",
    "    ) +\n",
    "    geom_abline(intercept=0, slope=1, linetype=\"dashed\", color=\"#333333\") +\n",
    "    annotate(\"text\", x=40, y=9, hjust=0, parse=F, colour=\"black\", label=sprintf(\"N = %i\", dim(df)[1])) +\n",
    "    ggtitle(\"ATP8_DddA11_1 v.s. SIRT6_DddA11_1\") +\n",
    "    theme_classic() +\n",
    "    theme(plot.title=element_text(hjust=0.5))\n",
    "\n",
    "ggsave('2022-10-30_Detect-seq_scatter-plot_ATP8_DddA11_1v.s.SIRT6_DddA11_1.pdf', plot=g, width=4.6, height=4)\n",
    "g"
   ]
  },
  {
   "cell_type": "code",
   "execution_count": null,
   "id": "6f272edf-ff3a-43a0-95b9-73c9948be3a0",
   "metadata": {
    "tags": []
   },
   "outputs": [],
   "source": [
    "# %%R\n",
    "\n",
    "# g = ggplot(data=df) +\n",
    "#     geom_point(\n",
    "#         mapping=aes(\n",
    "#             x=ATP8_DddA11_1,\n",
    "#             y=SIRT6_DddA11_1,\n",
    "#             # alpha=0.99,\n",
    "#             # size=1,\n",
    "#             color=color,\n",
    "#             fill=color,\n",
    "#             # shape=color,\n",
    "#             # group=color,\n",
    "#         )\n",
    "#     ) +\n",
    "#     scale_color_manual(values=c(\"#ff9f1c\", \"#447B9D\", \"#e36414\")) +\n",
    "#     scale_x_log10(\n",
    "#         name=\"log10_Detect-seq_signals of ATP8_DddA11_1\",\n",
    "#         limits=c(0.01, 1.5),\n",
    "#         # breaks=c(0.0001, 0.001, 0.01, 0.1, 1),\n",
    "#     ) +\n",
    "#     scale_y_log10(\n",
    "#         name=\"log10_Detect-seq_signals of SIRT6_DddA11_1\",\n",
    "#         limits=c(0.01, 1.5),\n",
    "#         # breaks=c(0.01, 0.1, 1, 10, 100, 1000),\n",
    "#     ) +\n",
    "#     geom_abline(intercept=0, slope=1, linetype=\"dashed\", color=\"#333333\") +\n",
    "#     annotate(\"text\", x=40, y=9, hjust=0, parse=F, colour=\"black\", label=sprintf(\"N = %i\", dim(df)[1])) +\n",
    "#     ggtitle(\"log10_ATP8_DddA11_1 v.s. SIRT6_DddA11_1\") +\n",
    "#     theme_classic() +\n",
    "#     theme(plot.title=element_text(hjust=0.5))\n",
    "\n",
    "# ggsave('2022-10-30_Detect-seq_scatter-plot_log10_ATP8_DddA11_1v.s.SIRT6_DddA11_1.pdf', plot=g, width=4.6, height=4)\n",
    "# g"
   ]
  },
  {
   "cell_type": "markdown",
   "id": "6a5719b3-72d3-4134-95f2-284d02120a81",
   "metadata": {
    "tags": []
   },
   "source": [
    "### plot JAK2_DddA11_1 vs SIRT6_DddA11_1"
   ]
  },
  {
   "cell_type": "code",
   "execution_count": null,
   "id": "f9edc4f7-2e02-4a1e-93da-9b9465593428",
   "metadata": {
    "tags": []
   },
   "outputs": [],
   "source": [
    "# load data in R env\n",
    "df2r = df_wide_score[['mpmat_index', 'JAK2_DddA11_1', 'SIRT6_DddA11_1']].copy()\n",
    "df2r['color'] = df2r.apply(map_color, axis=1)\n",
    "df2r = df2r.query('color.notnull()')\n",
    "df2r"
   ]
  },
  {
   "cell_type": "code",
   "execution_count": null,
   "id": "9fe172ad-846c-473e-a610-1bd78d6a53f9",
   "metadata": {
    "tags": []
   },
   "outputs": [],
   "source": [
    "%%R -i df2r\n",
    "df = as.data.frame(df2r)\n",
    "# head(df, 10)\n",
    "\n",
    "g = ggplot(data=df) +\n",
    "    geom_point(\n",
    "        mapping=aes(\n",
    "            x=JAK2_DddA11_1,\n",
    "            y=SIRT6_DddA11_1,\n",
    "            # alpha=0.99,\n",
    "            # size=1,\n",
    "            color=color,\n",
    "            fill=color,\n",
    "            # shape=color,\n",
    "            # group=color,\n",
    "        )\n",
    "    ) +\n",
    "    scale_color_manual(values=c(\"#ff9f1c\", \"#447B9D\", \"#e36414\")) +\n",
    "    scale_x_continuous(\n",
    "        name=\"Detect-seq_signals of JAK2_DddA11_1\",\n",
    "        limits=c(0, 0.9),\n",
    "    ) +\n",
    "    scale_y_continuous(\n",
    "        name=\"Detect-seq_signals of SIRT6_DddA11_1\",\n",
    "        limits=c(0, 0.9),\n",
    "    ) +\n",
    "    geom_abline(intercept=0, slope=1, linetype=\"dashed\", color=\"#333333\") +\n",
    "    annotate(\"text\", x=40, y=9, hjust=0, parse=F, colour=\"black\", label=sprintf(\"N = %i\", dim(df)[1])) +\n",
    "    ggtitle(\"JAK2_DddA11_1 v.s. SIRT6_DddA11_1\") +\n",
    "    theme_classic() +\n",
    "    theme(plot.title=element_text(hjust=0.5))\n",
    "\n",
    "ggsave('2022-10-30_Detect-seq_scatter-plot_JAK2_DddA11_1v.s.SIRT6_DddA11_1.pdf', plot=g, width=4.6, height=4)\n",
    "g"
   ]
  },
  {
   "cell_type": "code",
   "execution_count": null,
   "id": "c0e5dae4-bbf4-46c2-812b-c0546afe3e27",
   "metadata": {
    "tags": []
   },
   "outputs": [],
   "source": [
    "# %%R\n",
    "\n",
    "# g = ggplot(data=df) +\n",
    "#     geom_point(\n",
    "#         mapping=aes(\n",
    "#             x=JAK2_DddA11_1,\n",
    "#             y=SIRT6_DddA11_1,\n",
    "#             # alpha=0.99,\n",
    "#             # size=1,\n",
    "#             color=color,\n",
    "#             fill=color,\n",
    "#             # shape=color,\n",
    "#             # group=color,\n",
    "#         )\n",
    "#     ) +\n",
    "#     scale_color_manual(values=c(\"#ff9f1c\", \"#447B9D\", \"#e36414\")) +\n",
    "#     scale_x_log10(\n",
    "#         name=\"log10_Detect-seq_signals of JAK2_DddA11_1\",\n",
    "#         limits=c(0.01, 1.5),\n",
    "#         # breaks=c(0.0001, 0.001, 0.01, 0.1, 1),\n",
    "#     ) +\n",
    "#     scale_y_log10(\n",
    "#         name=\"log10_Detect-seq_signals of SIRT6_DddA11_1\",\n",
    "#         limits=c(0.01, 1.5),\n",
    "#         # breaks=c(0.01, 0.1, 1, 10, 100, 1000),\n",
    "#     ) +\n",
    "#     geom_abline(intercept=0, slope=1, linetype=\"dashed\", color=\"#333333\") +\n",
    "#     annotate(\"text\", x=40, y=9, hjust=0, parse=F, colour=\"black\", label=sprintf(\"N = %i\", dim(df)[1])) +\n",
    "#     ggtitle(\"log10_JAK2_DddA11_1 v.s. SIRT6_DddA11_1\") +\n",
    "#     theme_classic() +\n",
    "#     theme(plot.title=element_text(hjust=0.5))\n",
    "\n",
    "# ggsave('2022-10-30_Detect-seq_scatter-plot_log10_JAK2_DddA11_1v.s.SIRT6_DddA11_1.pdf', plot=g, width=4.6, height=4)\n",
    "# g"
   ]
  },
  {
   "cell_type": "markdown",
   "id": "929c974d-c968-4e32-877d-a4116cf75292",
   "metadata": {},
   "source": [
    "### new share list"
   ]
  },
  {
   "cell_type": "code",
   "execution_count": null,
   "id": "710fade2-d18d-4f66-81b2-11695211a41c",
   "metadata": {
    "tags": []
   },
   "outputs": [],
   "source": [
    "df_share_old"
   ]
  },
  {
   "cell_type": "code",
   "execution_count": null,
   "id": "08dbe00f-7100-4fd4-8b67-35feb1b27674",
   "metadata": {
    "tags": []
   },
   "outputs": [],
   "source": [
    "df_if_share = df_upset.T\n",
    "df_share_new_id = pd.DataFrame(df_if_share[df_if_share.sum(axis=1).map(lambda x: x >= 2)].index)\n",
    "df_share_new_id"
   ]
  },
  {
   "cell_type": "code",
   "execution_count": null,
   "id": "fabc4bff-bf4f-4c20-bb46-8d2a4dfabb27",
   "metadata": {
    "tags": []
   },
   "outputs": [],
   "source": [
    "ls_share_old_id = list(set(df_share_old.mpmat_index.values.tolist()))\n",
    "ls_share_new_id = list(set(df_share_new_id.mpmat_index.values.tolist()))\n",
    "print(len(ls_share_new_id))\n",
    "print(len(ls_share_old_id))\n",
    "print(len(set(ls_share_old_id + ls_share_new_id)))\n",
    "\n",
    "print(len(set(ls_share_old_id + ls_share_new_id) - set(ls_share_old_id)))\n",
    "print(len(set(ls_share_old_id + ls_share_new_id) - set(ls_share_new_id)))"
   ]
  },
  {
   "cell_type": "code",
   "execution_count": null,
   "id": "60bd1e84-1284-4346-ae00-8147388d3c56",
   "metadata": {
    "tags": []
   },
   "outputs": [],
   "source": [
    "# venn3(\n",
    "#     subsets,\n",
    "#     set_labels=('A', 'B', 'C'),\n",
    "#     set_colors=('r', 'g', 'b'),\n",
    "#     alpha=0.4,\n",
    "#     normalize_to=1.0,\n",
    "#     ax=None,\n",
    "#     subset_label_formatter=None,\n",
    "# )\n",
    "\n",
    "# TODO ?\n",
    "v = venn2([set(ls_share_new_id), set(ls_share_old_id)], set_labels=(\"share\", \"share-reported\"))\n",
    "plt.show()"
   ]
  },
  {
   "cell_type": "code",
   "execution_count": null,
   "id": "de02609a-dd58-489e-a3e9-c063946e0084",
   "metadata": {
    "tags": []
   },
   "outputs": [],
   "source": [
    "df_new_share_bed = pd.DataFrame([i.split('_') for i in ls_share_new_id], columns=['chrom', 'start', 'stop'])\n",
    "df_new_share_bed['start'] = df_new_share_bed['start'].astype(int)\n",
    "df_new_share_bed['stop'] = df_new_share_bed['stop'].astype(int)\n",
    "# df_new_share_bed.info()\n",
    "df_new_share_bed"
   ]
  },
  {
   "cell_type": "code",
   "execution_count": null,
   "id": "bf9d52d3-f285-4045-bd66-a87aec177817",
   "metadata": {
    "tags": []
   },
   "outputs": [],
   "source": [
    "df_ctcf = pd.read_csv('../bed/ENCFF285QVL_CTCF_binding_sites.bed', sep='\\t', header=None)\n",
    "df_ctcf"
   ]
  },
  {
   "cell_type": "code",
   "execution_count": null,
   "id": "4c2e8996-775a-4f12-bb35-f0666727be05",
   "metadata": {
    "tags": []
   },
   "outputs": [],
   "source": [
    "bed_ctcf_like = BedTool.from_dataframe(df_new_share_bed)\n",
    "bed_ctcf_true = BedTool.from_dataframe(df_ctcf.iloc[:, 0:3])\n",
    "\n",
    "df_bed_to_fix = bed_ctcf_like.intersect(bed_ctcf_true, loj=True).to_dataframe()\n",
    "df_bed_to_fix.columns = ['chrom', 'start', 'end', 'chrom2', 'start2', 'end2']\n",
    "\n",
    "df_bed_to_fix"
   ]
  },
  {
   "cell_type": "code",
   "execution_count": null,
   "id": "37820257-77cc-4f3b-9302-46f45a4a0b85",
   "metadata": {
    "tags": []
   },
   "outputs": [],
   "source": [
    "bed_ctcf_true_in_new = df_bed_to_fix.query('end2!=-1')\n",
    "bed_ctcf_true_in_new"
   ]
  },
  {
   "cell_type": "code",
   "execution_count": null,
   "id": "b5e104b1-11a4-4cf2-936c-c68711fd35ee",
   "metadata": {
    "tags": []
   },
   "outputs": [],
   "source": [
    "ls_share_new_ctcf_true = (bed_ctcf_true_in_new['chrom'] + '_' + bed_ctcf_true_in_new['start'].astype(str) + '_' + bed_ctcf_true_in_new['end'].astype(str)).tolist()"
   ]
  },
  {
   "cell_type": "code",
   "execution_count": null,
   "id": "aac87152-c523-40f5-a08c-7111cf74c595",
   "metadata": {
    "tags": []
   },
   "outputs": [],
   "source": [
    "df_boxplot = df_detect_seq_score[df_detect_seq_score.mpmat_index.map(lambda x: x in ls_share_new_ctcf_true)].copy()\n",
    "df_boxplot\n",
    "df_boxplot.groupby('sample').describe()"
   ]
  },
  {
   "cell_type": "code",
   "execution_count": null,
   "id": "e3f1d54e-1d13-4340-bd7f-041fbd0c1651",
   "metadata": {
    "tags": []
   },
   "outputs": [],
   "source": [
    "df_boxplot['sample'] = df_boxplot['sample'].str.replace('DetectSeq_', '')\n",
    "df_boxplot = df_boxplot.query('detect_seq_score>=0.001')\n",
    "df_boxplot"
   ]
  },
  {
   "cell_type": "code",
   "execution_count": null,
   "id": "8471810c-55fe-466c-a577-8a06aecac9e6",
   "metadata": {
    "tags": []
   },
   "outputs": [],
   "source": [
    "order = [\n",
    "    'ATP8-DddAwt_REP-1',\n",
    "    'ATP8-DddA6_REP-1',\n",
    "    'ATP8-DddA11_REP-1',\n",
    "    'SIRT6-DddA11_REP-1',\n",
    "    'JAK2-DddA11_REP-1']\n",
    "\n",
    "ax = sns.boxplot(data=df_boxplot, x=\"sample\", y=\"detect_seq_score\", order=order)\n",
    "ax.set_xticklabels(ax.get_xticklabels(), rotation=30)\n",
    "plt.ylim(0, 0.4)\n",
    "\n",
    "\n",
    "plt.savefig(\"2022-11-02_Detect-seq_signal_strength.pdf\", dpi=200, bbox_inches='tight')\n",
    "ax.get_xticklabels(),"
   ]
  },
  {
   "cell_type": "code",
   "execution_count": null,
   "id": "f8c2a225-2a67-49e3-bf6f-e041506f04ab",
   "metadata": {},
   "outputs": [],
   "source": []
  },
  {
   "cell_type": "markdown",
   "id": "2c7513fe-d7d2-441d-9388-edbace632cdf",
   "metadata": {},
   "source": [
    "## 2022-10-21 co-localization between all CTCF peaks and \u000b",
    "Detect-seq signals from different DdCBE treatments"
   ]
  },
  {
   "cell_type": "markdown",
   "id": "ffb02e19-328b-4a65-9833-574ab6794ffa",
   "metadata": {
    "tags": []
   },
   "source": [
    "# IGV 截图脚本\n",
    "> https://www.jianshu.com/p/d77f2d34b7fd"
   ]
  },
  {
   "cell_type": "code",
   "execution_count": null,
   "id": "5b1364e4-cf2f-4c83-9e7b-352eae6592a4",
   "metadata": {
    "tags": []
   },
   "outputs": [],
   "source": [
    "df_igv = df_pois[[\n",
    "    'chr_name', 'region_start', 'region_end', 'bed_name', 'log2_FC_mut'\n",
    "]]\n",
    "df_igv.head()"
   ]
  },
  {
   "cell_type": "code",
   "execution_count": null,
   "id": "b62590f5-903f-40ee-a15a-8dc726fa420e",
   "metadata": {
    "tags": []
   },
   "outputs": [],
   "source": [
    "# 理论上这里得到的是所有 samples 的 candidate list\n",
    "# 经过先 merge mpmat 的处理，再 call 点，应该不存在能 overlap 到一起的 region，只能是样本间 share\n",
    "# 相同位置或者 not share，不存在 overlap 又不相同的情况了"
   ]
  },
  {
   "cell_type": "code",
   "execution_count": null,
   "id": "8efbe775-5ee6-4101-96ba-3855c529b97b",
   "metadata": {
    "tags": []
   },
   "outputs": [],
   "source": [
    "df_igv.head()"
   ]
  },
  {
   "cell_type": "code",
   "execution_count": null,
   "id": "516cb100-b792-49da-af69-5826e8732052",
   "metadata": {
    "tags": []
   },
   "outputs": [],
   "source": [
    "# 对call 到的所有点进行随机采样\n",
    "np.random.seed = 2022\n",
    "df_igv = df_igv.sample(n=300)\n",
    "df_igv"
   ]
  },
  {
   "cell_type": "code",
   "execution_count": null,
   "id": "b9c312b1-da76-48a0-9167-01a3857aaeb2",
   "metadata": {
    "tags": []
   },
   "outputs": [],
   "source": [
    "# 整理df格式为bed文件格式\n",
    "print(df_igv)\n",
    "#        0          1          2\n",
    "# 0   chr5   69093805   69093830\n",
    "# 1   chr8   37153384   37153424\n",
    "# 2  chr15   57559994   57560017\n",
    "# 3  chr15   68651256   68651277\n",
    "# 4  chr10  119445511  119445546\n",
    "# 5   chr8   20184990   20185028\n",
    "# 6  chr19   45187694   45187712\n",
    "# 7  chr15   81265992   81266016\n",
    "# 8   chr2  201232409  201232430\n",
    "# 9   chr9   98034893   98034930"
   ]
  },
  {
   "cell_type": "code",
   "execution_count": null,
   "id": "e590a105-62bd-4e7a-b775-3f69dc8cc0a6",
   "metadata": {
    "tags": []
   },
   "outputs": [],
   "source": [
    "# 填写相关信息\n",
    "\n",
    "path_out = '/Volumes/Data-a/Bio/3.project/2022_DdCBE-3D-Genome_topic/2022-09-30_Detect-seq_batch-1/igv'\n",
    "# path_out = '/Volumes/zhaohn_HD/3.project/2022_DdCBE-3D-Genome_topic/2022-09-30_Detect-seq_batch-1/igv'\n",
    "date = 20221125\n",
    "format_ = \"png\"\n",
    "height = 1500\n",
    "\n",
    "# 格式化脚本\n",
    "text = f\"maxPanelHeight {height}\\nsnapshotDirectory {path_out}/off-targets_{date}\\n\\n\"\n",
    "# print(text)\n",
    "\n",
    "\n",
    "df_snapshot = df_igv.iloc[:, 0:5]\n",
    "\n",
    "for index, row_info in df_snapshot.iterrows():\n",
    "    chrom, start, stop, bed_name, score = row_info\n",
    "\n",
    "    path_out_png = f'{score}_{bed_name}.snapshot.{format_}'\n",
    "    middle = int((start + stop) / 2)\n",
    "\n",
    "    text += f\"goto {chrom}:{middle - 100}-{middle + 100}\\nsort position\\ncollapsesnapshot {path_out_png}\\n\\n\"\n",
    "print(text[:1000])\n",
    "\n",
    "\n",
    "# with open(f'{path_out}/off-targets_{date}_snapshot.igv_shot_script', 'wt') as f:\n",
    "#     f.write(text)"
   ]
  },
  {
   "cell_type": "code",
   "execution_count": null,
   "id": "619960a3",
   "metadata": {
    "collapsed": false,
    "jupyter": {
     "outputs_hidden": false
    },
    "tags": []
   },
   "outputs": [],
   "source": [
    "# DetectSeq_JAK2\n",
    "# DetectSeq_SIRT6\n",
    "# IND share?"
   ]
  },
  {
   "cell_type": "markdown",
   "id": "70263df9",
   "metadata": {
    "jp-MarkdownHeadingCollapsed": true,
    "tags": []
   },
   "source": [
    "# off-target analysis"
   ]
  },
  {
   "cell_type": "markdown",
   "id": "8c6057e9",
   "metadata": {},
   "source": [
    "## off-target list"
   ]
  },
  {
   "cell_type": "markdown",
   "id": "8e0477dc",
   "metadata": {},
   "source": [
    "### circos plot"
   ]
  },
  {
   "cell_type": "markdown",
   "id": "c9635b7b",
   "metadata": {},
   "source": [
    "#### learn circos plot\n",
    "- [tutorial1](https://colab.research.google.com/drive/1xmAnv7AHWUTA2HWfjqV1lFWkFMSLJHG0?usp=sharing)\n",
    "- [tutorial2](https://colab.research.google.com/drive/1RYSo4aXpDIZlSQ9EhO2kPCeF8FOwyvXv?usp=sharing)\n",
    "- [tutorial3](https://colab.research.google.com/drive/1EPxCQCgOouVxtXcGyxu2ZqQvfucVnOJ-?usp=sharing)\n",
    "- [tutorial4(Drawing pylogenetic tree)](https://colab.research.google.com/drive/140m2jpQpgSZwSlP-3u3Oj8IcJUbP2NGD?usp=sharing)"
   ]
  },
  {
   "cell_type": "code",
   "execution_count": null,
   "id": "ec7308ac-b380-4ad3-aeea-b6562797d3b9",
   "metadata": {
    "tags": []
   },
   "outputs": [],
   "source": [
    "# pip install python-circos"
   ]
  },
  {
   "cell_type": "code",
   "execution_count": null,
   "id": "0b2ff1e4",
   "metadata": {
    "collapsed": false,
    "jupyter": {
     "outputs_hidden": false
    },
    "tags": []
   },
   "outputs": [],
   "source": [
    "# !mkdir -p../ temp_file\n",
    "# % cd../ temp_file\n",
    "# !mkdir -p pycircos\n",
    "# % cd pycircos\n",
    "# !mkdir -p sample_data\n",
    "# % cd sample_data"
   ]
  },
  {
   "cell_type": "code",
   "execution_count": null,
   "id": "969a1dec",
   "metadata": {
    "collapsed": false,
    "jupyter": {
     "outputs_hidden": false
    },
    "tags": []
   },
   "outputs": [],
   "source": [
    "# #The following example data was downloaded from https://venyao.xyz/shinyCircos/.\n",
    "# !wget https: // github.com / ponnhide / pyCircos-examples / raw / main / example_notebooks / sample_data / example_data_barplot.csv\n",
    "# !wget https: // github.com / ponnhide / pyCircos-examples / raw / main / example_notebooks / sample_data / example_data_chromosome_cytoband.csv\n",
    "# !wget https: // github.com / ponnhide / pyCircos-examples / raw / main / example_notebooks / sample_data / example_data_chromosome_general.csv\n",
    "# !wget https: // github.com / ponnhide / pyCircos-examples / raw / main / example_notebooks / sample_data / example_data_links.csv\n",
    "# !wget https: // github.com / ponnhide / pyCircos-examples / raw / main / example_notebooks / sample_data / example_data_point.csv\n",
    "# !wget https: // github.com / ponnhide / pyCircos-examples / raw / main / example_notebooks / sample_data / example_data_rect_gradual.csv"
   ]
  },
  {
   "cell_type": "code",
   "execution_count": null,
   "id": "8a9976e4",
   "metadata": {
    "collapsed": false,
    "jupyter": {
     "outputs_hidden": false
    },
    "tags": []
   },
   "outputs": [],
   "source": [
    "# % cd / Volumes / zhaohn_HD / 3.project / 2022_DdCBE-3D-Genome_topic / 2022-09-30_Detect-seq_batch-1 / snakepipes_detect-seq"
   ]
  },
  {
   "cell_type": "markdown",
   "id": "d4d0f69e",
   "metadata": {},
   "source": [
    "#### circos plot"
   ]
  },
  {
   "cell_type": "markdown",
   "id": "b6c604bb-54e3-4599-8dcb-ecbc88866c84",
   "metadata": {
    "execution": {
     "iopub.execute_input": "2022-10-21T07:16:22.990392Z",
     "iopub.status.busy": "2022-10-21T07:16:22.990109Z",
     "iopub.status.idle": "2022-10-21T07:16:22.994832Z",
     "shell.execute_reply": "2022-10-21T07:16:22.993948Z",
     "shell.execute_reply.started": "2022-10-21T07:16:22.990374Z"
    }
   },
   "source": [
    "##### 准备 data"
   ]
  },
  {
   "cell_type": "code",
   "execution_count": null,
   "id": "14871568-295c-4bf8-ac25-86b88397d3d4",
   "metadata": {
    "collapsed": false,
    "jupyter": {
     "outputs_hidden": false
    },
    "tags": []
   },
   "outputs": [],
   "source": [
    "# 基因组 fai 文件（染色体长度信息），区分 hg19 和 hg38\n",
    "path_genome_length = '/Users/zhaohuanan/Bio/1.database/db_genomes/genome_fa/genome_ucsc_hg38/genome_ucsc_hg38.fa.fai'\n",
    "df_genome_length = pd.read_csv(\n",
    "    path_genome_length,\n",
    "    header=None,\n",
    "    sep='\\t',\n",
    "    usecols=[0, 1],\n",
    "    names=['chrom', 'end'],\n",
    ")\n",
    "df_genome_length.insert(loc=1, column='start', value=1)\n",
    "\n",
    "df_genome_length = df_genome_length\\\n",
    "    .query(\"chrom != 'chrY'\")\\\n",
    "    .query(\"chrom != 'chrM'\")\n",
    "\n",
    "print(df_genome_length.head(2))"
   ]
  },
  {
   "cell_type": "code",
   "execution_count": null,
   "id": "4335f60c-d17c-4218-aa64-016fcd1ed106",
   "metadata": {
    "collapsed": false,
    "jupyter": {
     "outputs_hidden": false
    },
    "tags": []
   },
   "outputs": [],
   "source": [
    "# cytoband 信息，可以在 ucsc 下载，区分 hg19 和 hg38\n",
    "df_genome_cytoband = pd.read_csv(\n",
    "    \"http://hgdownload.cse.ucsc.edu/goldenpath/hg38/database/cytoBand.txt.gz\",\n",
    "    header=None,\n",
    "    sep='\\t',\n",
    "    usecols=range(5),\n",
    "    names=['chrom', 'start', 'end', 'value1', 'value2'])\n",
    "# 对 chromosome 进行过滤，保留标准染色体\n",
    "df_genome_cytoband = df_genome_cytoband\\\n",
    "    .query(\"not chrom.str.endswith('fix')\")\\\n",
    "    .query(\"not chrom.str.endswith('alt')\")\\\n",
    "    .query(\"not chrom.str.endswith('random')\")\\\n",
    "    .query(\"not chrom.str.startswith('chrUn')\")\\\n",
    "    .query(\"chrom != 'chrY'\")\\\n",
    "    .query(\"chrom != 'chrM'\")\n",
    "print(sorted(df_genome_cytoband.chrom.unique()))\n",
    "print()\n",
    "print(df_genome_cytoband.head(2))"
   ]
  },
  {
   "cell_type": "code",
   "execution_count": null,
   "id": "5d7bf9d9-2e9f-4378-a4bf-bde136c0f717",
   "metadata": {
    "tags": []
   },
   "outputs": [],
   "source": [
    "df_circos_point = df[[\n",
    "    '<sample>', 'chr_name', 'region_start', 'region_end', 'log2_FC_mut'\n",
    "]].copy()\n",
    "df_circos_point.columns = ['sample', 'chrom', 'start', 'end', 'score']\n",
    "df_circos_point.reset_index(inplace=True, drop=True)\n",
    "df_circos_point"
   ]
  },
  {
   "cell_type": "markdown",
   "id": "11dafed5-60a8-468d-9b8a-e4d9b6cf923c",
   "metadata": {},
   "source": [
    "##### 设置比例尺"
   ]
  },
  {
   "cell_type": "code",
   "execution_count": null,
   "id": "66418fd2-90c1-49d8-aeb8-25b021e005f2",
   "metadata": {
    "tags": []
   },
   "outputs": [],
   "source": [
    "scale = 1.1"
   ]
  },
  {
   "cell_type": "code",
   "execution_count": null,
   "id": "6a7b3a9f-007e-4827-961b-3cb91b809c5a",
   "metadata": {
    "tags": []
   },
   "outputs": [],
   "source": [
    "arc_range_i = df_circos_point['sample'].unique().__len__() + 1\n",
    "arc_raixs_range = ((arc_range_i * 100.0) * scale,\n",
    "                   (arc_range_i * 100.0 + 20) * scale)\n",
    "arc_raixs_range"
   ]
  },
  {
   "cell_type": "markdown",
   "id": "0f266bf8-28df-45c2-bbeb-6e67349ea8a9",
   "metadata": {
    "execution": {
     "iopub.execute_input": "2022-10-21T06:17:24.104466Z",
     "iopub.status.busy": "2022-10-21T06:17:24.104224Z",
     "iopub.status.idle": "2022-10-21T06:17:24.111202Z",
     "shell.execute_reply": "2022-10-21T06:17:24.110435Z",
     "shell.execute_reply.started": "2022-10-21T06:17:24.104449Z"
    },
    "tags": []
   },
   "source": [
    "##### 设置染色体信息"
   ]
  },
  {
   "cell_type": "code",
   "execution_count": null,
   "id": "875fc0e9",
   "metadata": {
    "collapsed": false,
    "jupyter": {
     "outputs_hidden": false
    },
    "tags": []
   },
   "outputs": [],
   "source": [
    "# set chromeosomes\n",
    "circle = Gcircle()\n",
    "\n",
    "for idx, row in df_genome_length.iterrows():\n",
    "    chrom, start, end = row\n",
    "    length = end - start + 1\n",
    "\n",
    "    arc = Garc(\n",
    "        arc_id=chrom,  # 染色体名称\n",
    "        size=length,  # 染色体长度\n",
    "        interspace=1,  # 间隔距离\n",
    "        raxis_range=arc_raixs_range,  # 内外半径长度\n",
    "        labelposition=60,  # 越往里越小，越往外越大\n",
    "        label_visible=True,  # 是否展示 label，也就是染色体名称\n",
    "    )\n",
    "    circle.add_garc(arc)  # 添加一个染色体信息\n",
    "\n",
    "circle.set_garcs()  # 整合设置所有添加过的染色体信息"
   ]
  },
  {
   "cell_type": "markdown",
   "id": "d7bc261d-ec42-4c4b-833e-0568d23caeb2",
   "metadata": {
    "execution": {
     "iopub.execute_input": "2022-10-21T06:22:00.236412Z",
     "iopub.status.busy": "2022-10-21T06:22:00.236161Z",
     "iopub.status.idle": "2022-10-21T06:22:00.283305Z",
     "shell.execute_reply": "2022-10-21T06:22:00.282835Z",
     "shell.execute_reply.started": "2022-10-21T06:22:00.236395Z"
    }
   },
   "source": [
    "##### 整理 cytoband 信息到arcdata\\_dict"
   ]
  },
  {
   "cell_type": "code",
   "execution_count": null,
   "id": "97912204-81f4-45c1-82e1-430dbbd6ab4f",
   "metadata": {
    "collapsed": false,
    "jupyter": {
     "outputs_hidden": false
    },
    "tags": []
   },
   "outputs": [],
   "source": [
    "# 定义不同 cytoband 的颜色\n",
    "color_dict = {\n",
    "    \"gneg\": \"#FFFFFF00\",\n",
    "    \"gpos25\": \"#EEEEEE\",\n",
    "    \"gpos50\": \"#BBBBBB\",\n",
    "    \"gpos75\": \"#777777\",\n",
    "    \"gpos100\": \"#000000\",\n",
    "    \"gvar\": \"#FFFFFF00\",\n",
    "    \"stalk\": \"#C01E27\",\n",
    "    \"acen\": \"#D82322\"\n",
    "}\n",
    "\n",
    "# defaultdict的说明\n",
    "# https://zhuanlan.zhihu.com/p/46476348\n",
    "# 其实就是当引用的 key 不存在时返回默认值,这里是默认返回一个 dict 而不抛出 KeyError\n",
    "arcdata_dict = collections.defaultdict(dict)  # 传入 dict 函数，调用时返回空 dict\n",
    "# or\n",
    "# arcdata_dict = collections.defaultdict(lambda: {})\n",
    "# arcdata_dict\n",
    "\n",
    "for idx, row in df_genome_cytoband.iterrows():\n",
    "    chrom, start, end, value1, value2 = row\n",
    "    width = end - start + 1\n",
    "    # 在进行arcdata_dict对键chrom 取值取不到的时候\n",
    "    # 默认创建空 dict 而不是 raise KeyError\n",
    "    if chrom not in arcdata_dict:\n",
    "        arcdata_dict[chrom]['positions'] = []\n",
    "        arcdata_dict[chrom]['widths'] = []\n",
    "        arcdata_dict[chrom]['colors'] = []\n",
    "    else:\n",
    "        arcdata_dict[chrom]['positions'].append(start)\n",
    "        arcdata_dict[chrom]['widths'].append(width)\n",
    "        arcdata_dict[chrom]['colors'].append(color_dict[value2])\n",
    "\n",
    "print(arcdata_dict.__str__()[:1000])"
   ]
  },
  {
   "cell_type": "markdown",
   "id": "98f18958-28f9-4051-83ec-ef2bd3c366e3",
   "metadata": {},
   "source": [
    "##### 将 cytoband 信息加到 circle 对象中去"
   ]
  },
  {
   "cell_type": "code",
   "execution_count": null,
   "id": "2e6cdb7f-b523-4f3e-9221-1a002bd4477d",
   "metadata": {
    "collapsed": false,
    "jupyter": {
     "outputs_hidden": false
    },
    "tags": []
   },
   "outputs": [],
   "source": [
    "for chrom in arcdata_dict:\n",
    "    circle.barplot(chrom,\n",
    "                   data=[1] * len(arcdata_dict[chrom]['positions']),\n",
    "                   positions=arcdata_dict[chrom]['positions'],\n",
    "                   width=arcdata_dict[chrom]['widths'],\n",
    "                   raxis_range=arc_raixs_range,\n",
    "                   facecolor=arcdata_dict[chrom]['colors'])"
   ]
  },
  {
   "cell_type": "markdown",
   "id": "e852695c-ed96-4368-b40b-0732ff8d1e7b",
   "metadata": {
    "jupyter": {
     "outputs_hidden": false
    }
   },
   "source": [
    "##### 查看绘制的circos plot骨架"
   ]
  },
  {
   "cell_type": "code",
   "execution_count": null,
   "id": "72dd14a0-7daa-4cd4-a695-3172329342b2",
   "metadata": {
    "tags": []
   },
   "outputs": [],
   "source": [
    "# circle.figure?\n",
    "circle.figure"
   ]
  },
  {
   "cell_type": "markdown",
   "id": "9d4d8318-5ad4-44cd-be3c-85de6fff653b",
   "metadata": {},
   "source": [
    "##### 添加每个样本中的 off-target sites 信息"
   ]
  },
  {
   "cell_type": "code",
   "execution_count": null,
   "id": "2b392d24-6d83-4bdc-8d6b-5262bcb1c452",
   "metadata": {
    "tags": []
   },
   "outputs": [],
   "source": [
    "# TODO\n",
    "# sample lable\n",
    "# background color\n",
    "# point color\n",
    "# edge color of point\n",
    "\n",
    "# scatter plot\n",
    "counter_circle = 0\n",
    "# color\n",
    "\n",
    "for sample, sample_df in df_circos_point.groupby('sample'):\n",
    "    print(sample, sample_df.shape[0])\n",
    "    counter_circle += 1\n",
    "\n",
    "    values_all = []\n",
    "    arcdata_dict = collections.defaultdict(dict)\n",
    "\n",
    "    for idx, row in sample_df.iterrows():\n",
    "        _, chrom, start, end, score = row\n",
    "        middle = (start + end) / 2\n",
    "        values_all.append(score)\n",
    "\n",
    "        if chrom not in arcdata_dict:\n",
    "            arcdata_dict[chrom][\"positions\"] = []\n",
    "            arcdata_dict[chrom][\"values\"] = []\n",
    "        else:\n",
    "            arcdata_dict[chrom][\"positions\"].append(middle)\n",
    "            arcdata_dict[chrom][\"values\"].append(score)\n",
    "\n",
    "    vmin, vmax = min(values_all), max(values_all)\n",
    "\n",
    "    arc_raixs_range_sample = ((counter_circle * 100.0) * scale,\n",
    "                              (counter_circle * 100.0 + 80) * scale)\n",
    "\n",
    "    for chrom in arcdata_dict:\n",
    "        circle.scatterplot(\n",
    "            chrom,\n",
    "            data=arcdata_dict[chrom][\"values\"],\n",
    "            positions=arcdata_dict[chrom][\"positions\"],\n",
    "            rlim=[vmin - 0.05 * abs(vmin), vmax + 0.05 * abs(vmax)],\n",
    "            markershape='o',\n",
    "            markersize=1,\n",
    "            raxis_range=arc_raixs_range_sample,\n",
    "            facecolor=\"#468FBE\",\n",
    "            edgecolor=\"#000000\",\n",
    "            linewidth=0.03,\n",
    "            spine=True)\n",
    "\n",
    "circle.figure"
   ]
  },
  {
   "cell_type": "code",
   "execution_count": null,
   "id": "fe612234-5480-4ba7-80dd-cde9396898e9",
   "metadata": {
    "tags": []
   },
   "outputs": [],
   "source": [
    "circle.figure?"
   ]
  },
  {
   "cell_type": "markdown",
   "id": "1a1f113e",
   "metadata": {},
   "source": [
    "\n",
    "### upset plot\n",
    "\n",
    "## signal strength\n",
    "\n",
    "### scatter plot\n",
    "\n",
    "## alignment\n",
    "### art plot\n",
    "\n",
    "## editing window\n",
    "### indel comparation\n",
    "\n",
    "## ctcf analysis\n",
    "### shared off-target motif\n",
    "### DddAwt,6,11 co-localization with ctcf"
   ]
  },
  {
   "cell_type": "code",
   "execution_count": null,
   "id": "48bd2502-2b5a-42df-a259-8c897aeca2af",
   "metadata": {},
   "outputs": [],
   "source": []
  },
  {
   "cell_type": "code",
   "execution_count": null,
   "id": "4f096e6e",
   "metadata": {
    "collapsed": false,
    "jupyter": {
     "outputs_hidden": false
    }
   },
   "outputs": [],
   "source": []
  }
 ],
 "metadata": {
  "kernelspec": {
   "display_name": "Python 3 (ipykernel)",
   "language": "python",
   "name": "python3"
  },
  "language_info": {
   "codemirror_mode": {
    "name": "ipython",
    "version": 3
   },
   "file_extension": ".py",
   "mimetype": "text/x-python",
   "name": "python",
   "nbconvert_exporter": "python",
   "pygments_lexer": "ipython3",
   "version": "3.10.8"
  },
  "toc-autonumbering": true,
  "toc-showcode": false,
  "toc-showmarkdowntxt": false,
  "widgets": {
   "application/vnd.jupyter.widget-state+json": {
    "state": {},
    "version_major": 2,
    "version_minor": 0
   }
  }
 },
 "nbformat": 4,
 "nbformat_minor": 5
}
