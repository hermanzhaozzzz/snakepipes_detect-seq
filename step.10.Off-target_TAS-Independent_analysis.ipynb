{
 "cells": [
  {
   "cell_type": "markdown",
   "source": [
    "# Packages"
   ],
   "metadata": {
    "collapsed": false
   },
   "id": "7829010b3c1a7705"
  },
  {
   "cell_type": "code",
   "execution_count": 35,
   "outputs": [
    {
     "name": "stderr",
     "output_type": "stream",
     "text": [
      "INFO  @ 2023-08-16 01:37:36 bioat.lib.libpandas.set_option: set pandas: max_colwidth=40\n",
      "INFO  @ 2023-08-16 01:37:36 bioat.lib.libpandas.set_option: set pandas: max_colwidth=40\n",
      "INFO  @ 2023-08-16 01:37:36 bioat.lib.libpandas.set_option: set pandas: max_colwidth=40\n",
      "INFO  @ 2023-08-16 01:37:36 bioat.lib.libpandas.set_option: set pandas: max_colwidth=40\n",
      "INFO  @ 2023-08-16 01:37:36 bioat.lib.libpandas.set_option: set pandas: display.width=120\n",
      "INFO  @ 2023-08-16 01:37:36 bioat.lib.libpandas.set_option: set pandas: display.width=120\n",
      "INFO  @ 2023-08-16 01:37:36 bioat.lib.libpandas.set_option: set pandas: display.width=120\n",
      "INFO  @ 2023-08-16 01:37:36 bioat.lib.libpandas.set_option: set pandas: display.width=120\n",
      "INFO  @ 2023-08-16 01:37:36 bioat.lib.libpandas.set_option: set pandas: display.max_columns=None\n",
      "INFO  @ 2023-08-16 01:37:36 bioat.lib.libpandas.set_option: set pandas: display.max_columns=None\n",
      "INFO  @ 2023-08-16 01:37:36 bioat.lib.libpandas.set_option: set pandas: display.max_columns=None\n",
      "INFO  @ 2023-08-16 01:37:36 bioat.lib.libpandas.set_option: set pandas: display.max_columns=None\n",
      "INFO  @ 2023-08-16 01:37:36 bioat.lib.libpandas.set_option: set pandas: display.max_rows=50\n",
      "INFO  @ 2023-08-16 01:37:36 bioat.lib.libpandas.set_option: set pandas: display.max_rows=50\n",
      "INFO  @ 2023-08-16 01:37:36 bioat.lib.libpandas.set_option: set pandas: display.max_rows=50\n",
      "INFO  @ 2023-08-16 01:37:36 bioat.lib.libpandas.set_option: set pandas: display.max_rows=50\n"
     ]
    }
   ],
   "source": [
    "import os\n",
    "\n",
    "import pandas as pd\n",
    "from bioat.lib.libpandas import set_option\n",
    "from bioat.lib.libpath import HOME\n",
    "from pybedtools import BedTool\n",
    "\n",
    "set_option()"
   ],
   "metadata": {
    "collapsed": false,
    "ExecuteTime": {
     "end_time": "2023-08-15T17:37:36.984147Z",
     "start_time": "2023-08-15T17:37:36.666941Z"
    }
   },
   "id": "324c460cf1be1835"
  },
  {
   "cell_type": "markdown",
   "source": [
    "# classification for TAS-independent"
   ],
   "metadata": {
    "collapsed": false
   },
   "id": "1038bc9f9f7745fd"
  },
  {
   "cell_type": "markdown",
   "source": [
    "## get df_arts"
   ],
   "metadata": {
    "collapsed": false
   },
   "id": "8a114a7459fce729"
  },
  {
   "cell_type": "code",
   "execution_count": 9,
   "outputs": [
    {
     "data": {
      "text/plain": "       chrom      start        end              region_index align_chr_name  align_chr_start  align_chr_end  \\\n0      chr19    4182444    4182569     chr19_4182494_4182519          chr19          4182511        4182527   \n1       chr9  129203049  129203171  chr9_129203099_129203121           chr9        129203129      129203145   \n2       chr9    5021948    5022146      chr9_5021998_5022096           chr9          5022005        5022021   \n3       chr9    5021875    5022047      chr9_5021925_5021997           chr9          5022005        5022021   \n4      chr19    4182444    4182569     chr19_4182494_4182519          chr19          4182476        4182492   \n...      ...        ...        ...                       ...            ...              ...            ...   \n27132  chr16   89268826   89268947   chr16_89268876_89268897          chr16         89268919       89268935   \n27133   chr3   47475992   47476103    chr3_47476042_47476053           chr3         47476065       47476081   \n27134   chr6   30556597   30556713    chr6_30556647_30556663           chr6         30556692       30556708   \n27135  chr15   68651206   68651327   chr15_68651256_68651277          chr15         68651272       68651287   \n27136  chr15   89358724   89358834   chr15_89358774_89358784          chr15         89358771       89358786   \n\n      align_strand  align_dist_to_signal align_N0_base  align_total_match  align_total_mismatch  \\\n0                -                    17             T                 17                     0   \n1                -                     8             T                 13                     4   \n2                -                     7             C                 17                     0   \n3                -                     8             C                 17                     0   \n4                +                     2             C                 17                     0   \n...            ...                   ...           ...                ...                   ...   \n27132            -                    43             C                  8                     9   \n27133            -                    23             C                  8                     9   \n27134            -                    29             C                  8                     9   \n27135            -                    16             G                  7                     9   \n27136            -                   -13             G                  7                     9   \n\n       align_degen_total_match  align_degen_total_mismatch  align_degen_num  align_total_gap  align_score  \\\n0                           17                           0                0                0         95.0   \n1                           17                           0                4                0         87.0   \n2                           17                           0                0                0         85.0   \n3                           17                           0                0                0         85.0   \n4                           17                           0                0                0         85.0   \n...                        ...                         ...              ...              ...          ...   \n27132                        8                           9                0                0          4.0   \n27133                        8                           9                0                0          4.0   \n27134                        8                           9                0                0          4.0   \n27135                        7                           9                0                0         -1.0   \n27136                        7                           9                0                0         -1.0   \n\n        align_target_seq   align_info_state    align_query_seq                                file_info  \\\n0      TACGCGGCGGGGCTGTC  |||||||||||||||||  TACGCGGCGGGGCTGTC  ../art/DetectSeq_SIRT6-DddA11_REP-2_...   \n1      TACGCGACAGAACTGTC  ||||||.|.|..|||||  TACGCGGCGGGGCTGTC  ../art/DetectSeq_SIRT6-DddA11_REP-1_...   \n2      CCATTTCTGTCATCGTA  |||||||||||||||||  CCATTTCTGTCATCGTA  ../art/DetectSeq_JAK2-DddA11_REP-1_T...   \n3      CCATTTCTGTCATCGTA  |||||||||||||||||  CCATTTCTGTCATCGTA  ../art/DetectSeq_JAK2-DddA11_REP-2_T...   \n4      CCGGGAGGCCGCACTTG  |||||||||||||||||  CCGGGAGGCCGCACTTG  ../art/DetectSeq_SIRT6-DddA11_REP-2_...   \n...                  ...                ...                ...                                      ...   \n27132  CAGAGCAGGGCAGGGCC  |X||XX|X|X|XXX||X  CTGAAAAAGACTCTGCA  ../art/DetectSeq_JAK2-DddA11_REP-2_T...   \n27133  CCATACTTCCCTCCGGT  ||||XXX|XX|XX||XX  CCATTTCTGTCATCGTA  ../art/DetectSeq_JAK2-DddA11_REP-1_T...   \n27134  CCACTAAGGTCAAGCCC  |||X|XXX||||XXXXX  CCATTTCTGTCATCGTA  ../art/DetectSeq_JAK2-DddA11_REP-1_T...   \n27135   GCCCAGCCCTGACCAC   XXXX|X|X|XX||X||   ATTAAACACAAACTAC  ../art/DetectSeq_ATP8-DddA11_REP-1_T...   \n27136   GTCCAACAGCGCCCTC   X|XX||||XXXX|XX|   ATTAAACACAAACTAC  ../art/DetectSeq_ATP8-DddA11_REP-1_T...   \n\n                           <sample>      TAS-Dep_stat     id  \n0      DetectSeq_SIRT6-DddA11_REP-2  on-target: SIRT6      0  \n1      DetectSeq_SIRT6-DddA11_REP-1              Left      1  \n2       DetectSeq_JAK2-DddA11_REP-1   on-target: JAK2      2  \n3       DetectSeq_JAK2-DddA11_REP-2             Right      3  \n4      DetectSeq_SIRT6-DddA11_REP-2  on-target: SIRT6      4  \n...                             ...               ...    ...  \n27132   DetectSeq_JAK2-DddA11_REP-2              Left  27132  \n27133   DetectSeq_JAK2-DddA11_REP-1             Right  27133  \n27134   DetectSeq_JAK2-DddA11_REP-1             Right  27134  \n27135   DetectSeq_ATP8-DddA11_REP-1              Left  27135  \n27136   DetectSeq_ATP8-DddA11_REP-1              Left  27136  \n\n[27137 rows x 24 columns]",
      "text/html": "<div>\n<style scoped>\n    .dataframe tbody tr th:only-of-type {\n        vertical-align: middle;\n    }\n\n    .dataframe tbody tr th {\n        vertical-align: top;\n    }\n\n    .dataframe thead th {\n        text-align: right;\n    }\n</style>\n<table border=\"1\" class=\"dataframe\">\n  <thead>\n    <tr style=\"text-align: right;\">\n      <th></th>\n      <th>chrom</th>\n      <th>start</th>\n      <th>end</th>\n      <th>region_index</th>\n      <th>align_chr_name</th>\n      <th>align_chr_start</th>\n      <th>align_chr_end</th>\n      <th>align_strand</th>\n      <th>align_dist_to_signal</th>\n      <th>align_N0_base</th>\n      <th>align_total_match</th>\n      <th>align_total_mismatch</th>\n      <th>align_degen_total_match</th>\n      <th>align_degen_total_mismatch</th>\n      <th>align_degen_num</th>\n      <th>align_total_gap</th>\n      <th>align_score</th>\n      <th>align_target_seq</th>\n      <th>align_info_state</th>\n      <th>align_query_seq</th>\n      <th>file_info</th>\n      <th>&lt;sample&gt;</th>\n      <th>TAS-Dep_stat</th>\n      <th>id</th>\n    </tr>\n  </thead>\n  <tbody>\n    <tr>\n      <th>0</th>\n      <td>chr19</td>\n      <td>4182444</td>\n      <td>4182569</td>\n      <td>chr19_4182494_4182519</td>\n      <td>chr19</td>\n      <td>4182511</td>\n      <td>4182527</td>\n      <td>-</td>\n      <td>17</td>\n      <td>T</td>\n      <td>17</td>\n      <td>0</td>\n      <td>17</td>\n      <td>0</td>\n      <td>0</td>\n      <td>0</td>\n      <td>95.0</td>\n      <td>TACGCGGCGGGGCTGTC</td>\n      <td>|||||||||||||||||</td>\n      <td>TACGCGGCGGGGCTGTC</td>\n      <td>../art/DetectSeq_SIRT6-DddA11_REP-2_...</td>\n      <td>DetectSeq_SIRT6-DddA11_REP-2</td>\n      <td>on-target: SIRT6</td>\n      <td>0</td>\n    </tr>\n    <tr>\n      <th>1</th>\n      <td>chr9</td>\n      <td>129203049</td>\n      <td>129203171</td>\n      <td>chr9_129203099_129203121</td>\n      <td>chr9</td>\n      <td>129203129</td>\n      <td>129203145</td>\n      <td>-</td>\n      <td>8</td>\n      <td>T</td>\n      <td>13</td>\n      <td>4</td>\n      <td>17</td>\n      <td>0</td>\n      <td>4</td>\n      <td>0</td>\n      <td>87.0</td>\n      <td>TACGCGACAGAACTGTC</td>\n      <td>||||||.|.|..|||||</td>\n      <td>TACGCGGCGGGGCTGTC</td>\n      <td>../art/DetectSeq_SIRT6-DddA11_REP-1_...</td>\n      <td>DetectSeq_SIRT6-DddA11_REP-1</td>\n      <td>Left</td>\n      <td>1</td>\n    </tr>\n    <tr>\n      <th>2</th>\n      <td>chr9</td>\n      <td>5021948</td>\n      <td>5022146</td>\n      <td>chr9_5021998_5022096</td>\n      <td>chr9</td>\n      <td>5022005</td>\n      <td>5022021</td>\n      <td>-</td>\n      <td>7</td>\n      <td>C</td>\n      <td>17</td>\n      <td>0</td>\n      <td>17</td>\n      <td>0</td>\n      <td>0</td>\n      <td>0</td>\n      <td>85.0</td>\n      <td>CCATTTCTGTCATCGTA</td>\n      <td>|||||||||||||||||</td>\n      <td>CCATTTCTGTCATCGTA</td>\n      <td>../art/DetectSeq_JAK2-DddA11_REP-1_T...</td>\n      <td>DetectSeq_JAK2-DddA11_REP-1</td>\n      <td>on-target: JAK2</td>\n      <td>2</td>\n    </tr>\n    <tr>\n      <th>3</th>\n      <td>chr9</td>\n      <td>5021875</td>\n      <td>5022047</td>\n      <td>chr9_5021925_5021997</td>\n      <td>chr9</td>\n      <td>5022005</td>\n      <td>5022021</td>\n      <td>-</td>\n      <td>8</td>\n      <td>C</td>\n      <td>17</td>\n      <td>0</td>\n      <td>17</td>\n      <td>0</td>\n      <td>0</td>\n      <td>0</td>\n      <td>85.0</td>\n      <td>CCATTTCTGTCATCGTA</td>\n      <td>|||||||||||||||||</td>\n      <td>CCATTTCTGTCATCGTA</td>\n      <td>../art/DetectSeq_JAK2-DddA11_REP-2_T...</td>\n      <td>DetectSeq_JAK2-DddA11_REP-2</td>\n      <td>Right</td>\n      <td>3</td>\n    </tr>\n    <tr>\n      <th>4</th>\n      <td>chr19</td>\n      <td>4182444</td>\n      <td>4182569</td>\n      <td>chr19_4182494_4182519</td>\n      <td>chr19</td>\n      <td>4182476</td>\n      <td>4182492</td>\n      <td>+</td>\n      <td>2</td>\n      <td>C</td>\n      <td>17</td>\n      <td>0</td>\n      <td>17</td>\n      <td>0</td>\n      <td>0</td>\n      <td>0</td>\n      <td>85.0</td>\n      <td>CCGGGAGGCCGCACTTG</td>\n      <td>|||||||||||||||||</td>\n      <td>CCGGGAGGCCGCACTTG</td>\n      <td>../art/DetectSeq_SIRT6-DddA11_REP-2_...</td>\n      <td>DetectSeq_SIRT6-DddA11_REP-2</td>\n      <td>on-target: SIRT6</td>\n      <td>4</td>\n    </tr>\n    <tr>\n      <th>...</th>\n      <td>...</td>\n      <td>...</td>\n      <td>...</td>\n      <td>...</td>\n      <td>...</td>\n      <td>...</td>\n      <td>...</td>\n      <td>...</td>\n      <td>...</td>\n      <td>...</td>\n      <td>...</td>\n      <td>...</td>\n      <td>...</td>\n      <td>...</td>\n      <td>...</td>\n      <td>...</td>\n      <td>...</td>\n      <td>...</td>\n      <td>...</td>\n      <td>...</td>\n      <td>...</td>\n      <td>...</td>\n      <td>...</td>\n      <td>...</td>\n    </tr>\n    <tr>\n      <th>27132</th>\n      <td>chr16</td>\n      <td>89268826</td>\n      <td>89268947</td>\n      <td>chr16_89268876_89268897</td>\n      <td>chr16</td>\n      <td>89268919</td>\n      <td>89268935</td>\n      <td>-</td>\n      <td>43</td>\n      <td>C</td>\n      <td>8</td>\n      <td>9</td>\n      <td>8</td>\n      <td>9</td>\n      <td>0</td>\n      <td>0</td>\n      <td>4.0</td>\n      <td>CAGAGCAGGGCAGGGCC</td>\n      <td>|X||XX|X|X|XXX||X</td>\n      <td>CTGAAAAAGACTCTGCA</td>\n      <td>../art/DetectSeq_JAK2-DddA11_REP-2_T...</td>\n      <td>DetectSeq_JAK2-DddA11_REP-2</td>\n      <td>Left</td>\n      <td>27132</td>\n    </tr>\n    <tr>\n      <th>27133</th>\n      <td>chr3</td>\n      <td>47475992</td>\n      <td>47476103</td>\n      <td>chr3_47476042_47476053</td>\n      <td>chr3</td>\n      <td>47476065</td>\n      <td>47476081</td>\n      <td>-</td>\n      <td>23</td>\n      <td>C</td>\n      <td>8</td>\n      <td>9</td>\n      <td>8</td>\n      <td>9</td>\n      <td>0</td>\n      <td>0</td>\n      <td>4.0</td>\n      <td>CCATACTTCCCTCCGGT</td>\n      <td>||||XXX|XX|XX||XX</td>\n      <td>CCATTTCTGTCATCGTA</td>\n      <td>../art/DetectSeq_JAK2-DddA11_REP-1_T...</td>\n      <td>DetectSeq_JAK2-DddA11_REP-1</td>\n      <td>Right</td>\n      <td>27133</td>\n    </tr>\n    <tr>\n      <th>27134</th>\n      <td>chr6</td>\n      <td>30556597</td>\n      <td>30556713</td>\n      <td>chr6_30556647_30556663</td>\n      <td>chr6</td>\n      <td>30556692</td>\n      <td>30556708</td>\n      <td>-</td>\n      <td>29</td>\n      <td>C</td>\n      <td>8</td>\n      <td>9</td>\n      <td>8</td>\n      <td>9</td>\n      <td>0</td>\n      <td>0</td>\n      <td>4.0</td>\n      <td>CCACTAAGGTCAAGCCC</td>\n      <td>|||X|XXX||||XXXXX</td>\n      <td>CCATTTCTGTCATCGTA</td>\n      <td>../art/DetectSeq_JAK2-DddA11_REP-1_T...</td>\n      <td>DetectSeq_JAK2-DddA11_REP-1</td>\n      <td>Right</td>\n      <td>27134</td>\n    </tr>\n    <tr>\n      <th>27135</th>\n      <td>chr15</td>\n      <td>68651206</td>\n      <td>68651327</td>\n      <td>chr15_68651256_68651277</td>\n      <td>chr15</td>\n      <td>68651272</td>\n      <td>68651287</td>\n      <td>-</td>\n      <td>16</td>\n      <td>G</td>\n      <td>7</td>\n      <td>9</td>\n      <td>7</td>\n      <td>9</td>\n      <td>0</td>\n      <td>0</td>\n      <td>-1.0</td>\n      <td>GCCCAGCCCTGACCAC</td>\n      <td>XXXX|X|X|XX||X||</td>\n      <td>ATTAAACACAAACTAC</td>\n      <td>../art/DetectSeq_ATP8-DddA11_REP-1_T...</td>\n      <td>DetectSeq_ATP8-DddA11_REP-1</td>\n      <td>Left</td>\n      <td>27135</td>\n    </tr>\n    <tr>\n      <th>27136</th>\n      <td>chr15</td>\n      <td>89358724</td>\n      <td>89358834</td>\n      <td>chr15_89358774_89358784</td>\n      <td>chr15</td>\n      <td>89358771</td>\n      <td>89358786</td>\n      <td>-</td>\n      <td>-13</td>\n      <td>G</td>\n      <td>7</td>\n      <td>9</td>\n      <td>7</td>\n      <td>9</td>\n      <td>0</td>\n      <td>0</td>\n      <td>-1.0</td>\n      <td>GTCCAACAGCGCCCTC</td>\n      <td>X|XX||||XXXX|XX|</td>\n      <td>ATTAAACACAAACTAC</td>\n      <td>../art/DetectSeq_ATP8-DddA11_REP-1_T...</td>\n      <td>DetectSeq_ATP8-DddA11_REP-1</td>\n      <td>Left</td>\n      <td>27136</td>\n    </tr>\n  </tbody>\n</table>\n<p>27137 rows × 24 columns</p>\n</div>"
     },
     "execution_count": 9,
     "metadata": {},
     "output_type": "execute_result"
    }
   ],
   "source": [
    "df_arts = pd.read_csv('../art_seqinfo/df_arts.csv')\n",
    "df_arts"
   ],
   "metadata": {
    "collapsed": false,
    "ExecuteTime": {
     "end_time": "2023-08-15T17:36:23.042116Z",
     "start_time": "2023-08-15T17:36:22.939289Z"
    }
   },
   "id": "735df41130ae3758"
  },
  {
   "cell_type": "markdown",
   "source": [
    "## get df_arts_tas_dep"
   ],
   "metadata": {
    "collapsed": false
   },
   "id": "729fe5d885489131"
  },
  {
   "cell_type": "code",
   "execution_count": 10,
   "outputs": [
    {
     "data": {
      "text/plain": "      chrom      start        end               region_index align_chr_name  align_chr_start  align_chr_end  \\\n0     chr11  113102877  113103036  chr11_113102927_113102986          chr11        113102935      113102950   \n1     chr12   51595410   51595573    chr12_51595460_51595523          chr12         51595507       51595518   \n2     chr18   44726511   44726657    chr18_44726561_44726607          chr18         44726566       44726577   \n3     chr19   45742345   45742506    chr19_45742395_45742456          chr19         45742480       45742495   \n4      chr2  117786821  117786966   chr2_117786871_117786916           chr2        117786900      117786911   \n...     ...        ...        ...                        ...            ...              ...            ...   \n1014   chr8   97336476   97336629     chr8_97336526_97336579           chr8         97336537       97336553   \n1015   chr9  122264587  122264697   chr9_122264637_122264647           chr9        122264641      122264657   \n1016   chr9   83274918   83275045     chr9_83274968_83274995           chr9         83274955       83274971   \n1017   chr9   91161331   91161450     chr9_91161381_91161400           chr9         91161422       91161438   \n1018   chrX   40103635   40103766     chrX_40103685_40103716           chrX         40103660       40103676   \n\n     align_strand  align_dist_to_signal align_N0_base  align_total_match  align_total_mismatch  \\\n0               +                    36             A                 13                     3   \n1               +                     5             A                 11                     1   \n2               -                     5             A                  8                     4   \n3               +                   -39             T                 12                     4   \n4               +                     5             A                 10                     2   \n...           ...                   ...           ...                ...                   ...   \n1014            -                    11             C                 13                     4   \n1015            -                     4             A                 13                     4   \n1016            -                   -13             C                 13                     4   \n1017            -                    41             C                 13                     4   \n1018            +                     9             C                 13                     4   \n\n      align_degen_total_match  align_degen_total_mismatch  align_degen_num  align_total_gap  align_score  \\\n0                          13                           3                0                0         53.0   \n1                          11                           1                0                0         51.0   \n2                          11                           1                3                0         45.0   \n3                          12                           4                0                0         54.0   \n4                          11                           1                1                0         49.0   \n...                       ...                         ...              ...              ...          ...   \n1014                       15                           2                2                0         63.0   \n1015                       14                           3                1                0         56.0   \n1016                       15                           2                2                0         63.0   \n1017                       14                           3                1                0         56.0   \n1018                       14                           3                1                0         56.0   \n\n       align_target_seq   align_info_state    align_query_seq                                file_info  \\\n0      ATTAGACACAAAATAA   ||||X|||||||X||X   ATTAAACACAAACTAC  ../art/DetectSeq_ATP8-DddA11_REP-1_T...   \n1          ATGGGCTTTGGA       |||||||||||X       ATGGGCTTTGGT  ../art/DetectSeq_ATP8-DddA11_REP-1_T...   \n2          ATGAACTTTGAA       |||..|||||.X       ATGGGCTTTGGT  ../art/DetectSeq_ATP8-DddA11_REP-1_T...   \n3      TTTAAAAACAAACAAG   X|||||X||||||X|X   ATTAAACACAAACTAC  ../art/DetectSeq_ATP8-DddA11_REP-1_T...   \n4          ATGAGCTTTGGG       |||.|||||||X       ATGGGCTTTGGT  ../art/DetectSeq_ATP8-DddA11_REP-1_T...   \n...                 ...                ...                ...                                      ...   \n1014  CGAAGAGGCTGCACTTG  |X..|||||X|||||||  CCGGGAGGCCGCACTTG  ../art/DetectSeq_SIRT6-DddA11_REP-2_...   \n1015  ACAGGAGGCCGCCCTCG  X|.|||||||||X||X|  CCGGGAGGCCGCACTTG  ../art/DetectSeq_SIRT6-DddA11_REP-2_...   \n1016  CCTGGAAGCCACCCTTG  ||X|||.|||.|X||||  CCGGGAGGCCGCACTTG  ../art/DetectSeq_SIRT6-DddA11_REP-2_...   \n1017  CCAGGAGGACGCACAGG  ||.|||||X|||||XX|  CCGGGAGGCCGCACTTG  ../art/DetectSeq_SIRT6-DddA11_REP-2_...   \n1018  CCGGGAGCCCACATTTT  |||||||X||.||X||X  CCGGGAGGCCGCACTTG  ../art/DetectSeq_SIRT6-DddA11_REP-2_...   \n\n                          <sample> TAS-Dep_stat    id  \n0      DetectSeq_ATP8-DddA11_REP-1         Both  2645  \n1      DetectSeq_ATP8-DddA11_REP-1         Both  3698  \n2      DetectSeq_ATP8-DddA11_REP-1         Both  6384  \n3      DetectSeq_ATP8-DddA11_REP-1         Both  2380  \n4      DetectSeq_ATP8-DddA11_REP-1         Both  4411  \n...                            ...          ...   ...  \n1014  DetectSeq_SIRT6-DddA11_REP-2        Right   637  \n1015  DetectSeq_SIRT6-DddA11_REP-2        Right  1978  \n1016  DetectSeq_SIRT6-DddA11_REP-2        Right   605  \n1017  DetectSeq_SIRT6-DddA11_REP-2        Right  1814  \n1018  DetectSeq_SIRT6-DddA11_REP-2        Right  1863  \n\n[1019 rows x 24 columns]",
      "text/html": "<div>\n<style scoped>\n    .dataframe tbody tr th:only-of-type {\n        vertical-align: middle;\n    }\n\n    .dataframe tbody tr th {\n        vertical-align: top;\n    }\n\n    .dataframe thead th {\n        text-align: right;\n    }\n</style>\n<table border=\"1\" class=\"dataframe\">\n  <thead>\n    <tr style=\"text-align: right;\">\n      <th></th>\n      <th>chrom</th>\n      <th>start</th>\n      <th>end</th>\n      <th>region_index</th>\n      <th>align_chr_name</th>\n      <th>align_chr_start</th>\n      <th>align_chr_end</th>\n      <th>align_strand</th>\n      <th>align_dist_to_signal</th>\n      <th>align_N0_base</th>\n      <th>align_total_match</th>\n      <th>align_total_mismatch</th>\n      <th>align_degen_total_match</th>\n      <th>align_degen_total_mismatch</th>\n      <th>align_degen_num</th>\n      <th>align_total_gap</th>\n      <th>align_score</th>\n      <th>align_target_seq</th>\n      <th>align_info_state</th>\n      <th>align_query_seq</th>\n      <th>file_info</th>\n      <th>&lt;sample&gt;</th>\n      <th>TAS-Dep_stat</th>\n      <th>id</th>\n    </tr>\n  </thead>\n  <tbody>\n    <tr>\n      <th>0</th>\n      <td>chr11</td>\n      <td>113102877</td>\n      <td>113103036</td>\n      <td>chr11_113102927_113102986</td>\n      <td>chr11</td>\n      <td>113102935</td>\n      <td>113102950</td>\n      <td>+</td>\n      <td>36</td>\n      <td>A</td>\n      <td>13</td>\n      <td>3</td>\n      <td>13</td>\n      <td>3</td>\n      <td>0</td>\n      <td>0</td>\n      <td>53.0</td>\n      <td>ATTAGACACAAAATAA</td>\n      <td>||||X|||||||X||X</td>\n      <td>ATTAAACACAAACTAC</td>\n      <td>../art/DetectSeq_ATP8-DddA11_REP-1_T...</td>\n      <td>DetectSeq_ATP8-DddA11_REP-1</td>\n      <td>Both</td>\n      <td>2645</td>\n    </tr>\n    <tr>\n      <th>1</th>\n      <td>chr12</td>\n      <td>51595410</td>\n      <td>51595573</td>\n      <td>chr12_51595460_51595523</td>\n      <td>chr12</td>\n      <td>51595507</td>\n      <td>51595518</td>\n      <td>+</td>\n      <td>5</td>\n      <td>A</td>\n      <td>11</td>\n      <td>1</td>\n      <td>11</td>\n      <td>1</td>\n      <td>0</td>\n      <td>0</td>\n      <td>51.0</td>\n      <td>ATGGGCTTTGGA</td>\n      <td>|||||||||||X</td>\n      <td>ATGGGCTTTGGT</td>\n      <td>../art/DetectSeq_ATP8-DddA11_REP-1_T...</td>\n      <td>DetectSeq_ATP8-DddA11_REP-1</td>\n      <td>Both</td>\n      <td>3698</td>\n    </tr>\n    <tr>\n      <th>2</th>\n      <td>chr18</td>\n      <td>44726511</td>\n      <td>44726657</td>\n      <td>chr18_44726561_44726607</td>\n      <td>chr18</td>\n      <td>44726566</td>\n      <td>44726577</td>\n      <td>-</td>\n      <td>5</td>\n      <td>A</td>\n      <td>8</td>\n      <td>4</td>\n      <td>11</td>\n      <td>1</td>\n      <td>3</td>\n      <td>0</td>\n      <td>45.0</td>\n      <td>ATGAACTTTGAA</td>\n      <td>|||..|||||.X</td>\n      <td>ATGGGCTTTGGT</td>\n      <td>../art/DetectSeq_ATP8-DddA11_REP-1_T...</td>\n      <td>DetectSeq_ATP8-DddA11_REP-1</td>\n      <td>Both</td>\n      <td>6384</td>\n    </tr>\n    <tr>\n      <th>3</th>\n      <td>chr19</td>\n      <td>45742345</td>\n      <td>45742506</td>\n      <td>chr19_45742395_45742456</td>\n      <td>chr19</td>\n      <td>45742480</td>\n      <td>45742495</td>\n      <td>+</td>\n      <td>-39</td>\n      <td>T</td>\n      <td>12</td>\n      <td>4</td>\n      <td>12</td>\n      <td>4</td>\n      <td>0</td>\n      <td>0</td>\n      <td>54.0</td>\n      <td>TTTAAAAACAAACAAG</td>\n      <td>X|||||X||||||X|X</td>\n      <td>ATTAAACACAAACTAC</td>\n      <td>../art/DetectSeq_ATP8-DddA11_REP-1_T...</td>\n      <td>DetectSeq_ATP8-DddA11_REP-1</td>\n      <td>Both</td>\n      <td>2380</td>\n    </tr>\n    <tr>\n      <th>4</th>\n      <td>chr2</td>\n      <td>117786821</td>\n      <td>117786966</td>\n      <td>chr2_117786871_117786916</td>\n      <td>chr2</td>\n      <td>117786900</td>\n      <td>117786911</td>\n      <td>+</td>\n      <td>5</td>\n      <td>A</td>\n      <td>10</td>\n      <td>2</td>\n      <td>11</td>\n      <td>1</td>\n      <td>1</td>\n      <td>0</td>\n      <td>49.0</td>\n      <td>ATGAGCTTTGGG</td>\n      <td>|||.|||||||X</td>\n      <td>ATGGGCTTTGGT</td>\n      <td>../art/DetectSeq_ATP8-DddA11_REP-1_T...</td>\n      <td>DetectSeq_ATP8-DddA11_REP-1</td>\n      <td>Both</td>\n      <td>4411</td>\n    </tr>\n    <tr>\n      <th>...</th>\n      <td>...</td>\n      <td>...</td>\n      <td>...</td>\n      <td>...</td>\n      <td>...</td>\n      <td>...</td>\n      <td>...</td>\n      <td>...</td>\n      <td>...</td>\n      <td>...</td>\n      <td>...</td>\n      <td>...</td>\n      <td>...</td>\n      <td>...</td>\n      <td>...</td>\n      <td>...</td>\n      <td>...</td>\n      <td>...</td>\n      <td>...</td>\n      <td>...</td>\n      <td>...</td>\n      <td>...</td>\n      <td>...</td>\n      <td>...</td>\n    </tr>\n    <tr>\n      <th>1014</th>\n      <td>chr8</td>\n      <td>97336476</td>\n      <td>97336629</td>\n      <td>chr8_97336526_97336579</td>\n      <td>chr8</td>\n      <td>97336537</td>\n      <td>97336553</td>\n      <td>-</td>\n      <td>11</td>\n      <td>C</td>\n      <td>13</td>\n      <td>4</td>\n      <td>15</td>\n      <td>2</td>\n      <td>2</td>\n      <td>0</td>\n      <td>63.0</td>\n      <td>CGAAGAGGCTGCACTTG</td>\n      <td>|X..|||||X|||||||</td>\n      <td>CCGGGAGGCCGCACTTG</td>\n      <td>../art/DetectSeq_SIRT6-DddA11_REP-2_...</td>\n      <td>DetectSeq_SIRT6-DddA11_REP-2</td>\n      <td>Right</td>\n      <td>637</td>\n    </tr>\n    <tr>\n      <th>1015</th>\n      <td>chr9</td>\n      <td>122264587</td>\n      <td>122264697</td>\n      <td>chr9_122264637_122264647</td>\n      <td>chr9</td>\n      <td>122264641</td>\n      <td>122264657</td>\n      <td>-</td>\n      <td>4</td>\n      <td>A</td>\n      <td>13</td>\n      <td>4</td>\n      <td>14</td>\n      <td>3</td>\n      <td>1</td>\n      <td>0</td>\n      <td>56.0</td>\n      <td>ACAGGAGGCCGCCCTCG</td>\n      <td>X|.|||||||||X||X|</td>\n      <td>CCGGGAGGCCGCACTTG</td>\n      <td>../art/DetectSeq_SIRT6-DddA11_REP-2_...</td>\n      <td>DetectSeq_SIRT6-DddA11_REP-2</td>\n      <td>Right</td>\n      <td>1978</td>\n    </tr>\n    <tr>\n      <th>1016</th>\n      <td>chr9</td>\n      <td>83274918</td>\n      <td>83275045</td>\n      <td>chr9_83274968_83274995</td>\n      <td>chr9</td>\n      <td>83274955</td>\n      <td>83274971</td>\n      <td>-</td>\n      <td>-13</td>\n      <td>C</td>\n      <td>13</td>\n      <td>4</td>\n      <td>15</td>\n      <td>2</td>\n      <td>2</td>\n      <td>0</td>\n      <td>63.0</td>\n      <td>CCTGGAAGCCACCCTTG</td>\n      <td>||X|||.|||.|X||||</td>\n      <td>CCGGGAGGCCGCACTTG</td>\n      <td>../art/DetectSeq_SIRT6-DddA11_REP-2_...</td>\n      <td>DetectSeq_SIRT6-DddA11_REP-2</td>\n      <td>Right</td>\n      <td>605</td>\n    </tr>\n    <tr>\n      <th>1017</th>\n      <td>chr9</td>\n      <td>91161331</td>\n      <td>91161450</td>\n      <td>chr9_91161381_91161400</td>\n      <td>chr9</td>\n      <td>91161422</td>\n      <td>91161438</td>\n      <td>-</td>\n      <td>41</td>\n      <td>C</td>\n      <td>13</td>\n      <td>4</td>\n      <td>14</td>\n      <td>3</td>\n      <td>1</td>\n      <td>0</td>\n      <td>56.0</td>\n      <td>CCAGGAGGACGCACAGG</td>\n      <td>||.|||||X|||||XX|</td>\n      <td>CCGGGAGGCCGCACTTG</td>\n      <td>../art/DetectSeq_SIRT6-DddA11_REP-2_...</td>\n      <td>DetectSeq_SIRT6-DddA11_REP-2</td>\n      <td>Right</td>\n      <td>1814</td>\n    </tr>\n    <tr>\n      <th>1018</th>\n      <td>chrX</td>\n      <td>40103635</td>\n      <td>40103766</td>\n      <td>chrX_40103685_40103716</td>\n      <td>chrX</td>\n      <td>40103660</td>\n      <td>40103676</td>\n      <td>+</td>\n      <td>9</td>\n      <td>C</td>\n      <td>13</td>\n      <td>4</td>\n      <td>14</td>\n      <td>3</td>\n      <td>1</td>\n      <td>0</td>\n      <td>56.0</td>\n      <td>CCGGGAGCCCACATTTT</td>\n      <td>|||||||X||.||X||X</td>\n      <td>CCGGGAGGCCGCACTTG</td>\n      <td>../art/DetectSeq_SIRT6-DddA11_REP-2_...</td>\n      <td>DetectSeq_SIRT6-DddA11_REP-2</td>\n      <td>Right</td>\n      <td>1863</td>\n    </tr>\n  </tbody>\n</table>\n<p>1019 rows × 24 columns</p>\n</div>"
     },
     "execution_count": 10,
     "metadata": {},
     "output_type": "execute_result"
    }
   ],
   "source": [
    "df_arts_tas_dep = pd.read_csv('../art_seqinfo/df_arts_tas_dep.csv')\n",
    "df_arts_tas_dep"
   ],
   "metadata": {
    "collapsed": false,
    "ExecuteTime": {
     "end_time": "2023-08-15T17:36:24.227588Z",
     "start_time": "2023-08-15T17:36:24.207748Z"
    }
   },
   "id": "c832348b6e0ab42c"
  },
  {
   "cell_type": "markdown",
   "source": [
    "## TAS-independent off-target"
   ],
   "metadata": {
    "collapsed": false
   },
   "id": "f983453e66574ba0"
  },
  {
   "cell_type": "code",
   "execution_count": 11,
   "outputs": [
    {
     "data": {
      "text/plain": "       chrom     start       end             region_index align_chr_name  align_chr_start  align_chr_end align_strand  \\\n0      chr19   4182444   4182569    chr19_4182494_4182519          chr19          4182511        4182527            -   \n2       chr9   5021948   5022146     chr9_5021998_5022096           chr9          5022005        5022021            -   \n4      chr19   4182444   4182569    chr19_4182494_4182519          chr19          4182476        4182492            +   \n5       chr9   5021875   5022047     chr9_5021925_5021997           chr9          5021972        5021988            +   \n6       chr9   5021948   5022146     chr9_5021998_5022096           chr9          5021972        5021988            +   \n...      ...       ...       ...                      ...            ...              ...            ...          ...   \n27132  chr16  89268826  89268947  chr16_89268876_89268897          chr16         89268919       89268935            -   \n27133   chr3  47475992  47476103   chr3_47476042_47476053           chr3         47476065       47476081            -   \n27134   chr6  30556597  30556713   chr6_30556647_30556663           chr6         30556692       30556708            -   \n27135  chr15  68651206  68651327  chr15_68651256_68651277          chr15         68651272       68651287            -   \n27136  chr15  89358724  89358834  chr15_89358774_89358784          chr15         89358771       89358786            -   \n\n       align_dist_to_signal align_N0_base  align_total_match  align_total_mismatch  align_degen_total_match  \\\n0                        17             T                 17                     0                       17   \n2                         7             C                 17                     0                       17   \n4                         2             C                 17                     0                       17   \n5                         9             C                 17                     0                       17   \n6                        10             C                 17                     0                       17   \n...                     ...           ...                ...                   ...                      ...   \n27132                    43             C                  8                     9                        8   \n27133                    23             C                  8                     9                        8   \n27134                    29             C                  8                     9                        8   \n27135                    16             G                  7                     9                        7   \n27136                   -13             G                  7                     9                        7   \n\n       align_degen_total_mismatch  align_degen_num  align_total_gap  align_score   align_target_seq  \\\n0                               0                0                0         95.0  TACGCGGCGGGGCTGTC   \n2                               0                0                0         85.0  CCATTTCTGTCATCGTA   \n4                               0                0                0         85.0  CCGGGAGGCCGCACTTG   \n5                               0                0                0         85.0  CTGAAAAAGACTCTGCA   \n6                               0                0                0         85.0  CTGAAAAAGACTCTGCA   \n...                           ...              ...              ...          ...                ...   \n27132                           9                0                0          4.0  CAGAGCAGGGCAGGGCC   \n27133                           9                0                0          4.0  CCATACTTCCCTCCGGT   \n27134                           9                0                0          4.0  CCACTAAGGTCAAGCCC   \n27135                           9                0                0         -1.0   GCCCAGCCCTGACCAC   \n27136                           9                0                0         -1.0   GTCCAACAGCGCCCTC   \n\n        align_info_state    align_query_seq                                file_info                      <sample>  \\\n0      |||||||||||||||||  TACGCGGCGGGGCTGTC  ../art/DetectSeq_SIRT6-DddA11_REP-2_...  DetectSeq_SIRT6-DddA11_REP-2   \n2      |||||||||||||||||  CCATTTCTGTCATCGTA  ../art/DetectSeq_JAK2-DddA11_REP-1_T...   DetectSeq_JAK2-DddA11_REP-1   \n4      |||||||||||||||||  CCGGGAGGCCGCACTTG  ../art/DetectSeq_SIRT6-DddA11_REP-2_...  DetectSeq_SIRT6-DddA11_REP-2   \n5      |||||||||||||||||  CTGAAAAAGACTCTGCA  ../art/DetectSeq_JAK2-DddA11_REP-2_T...   DetectSeq_JAK2-DddA11_REP-2   \n6      |||||||||||||||||  CTGAAAAAGACTCTGCA  ../art/DetectSeq_JAK2-DddA11_REP-1_T...   DetectSeq_JAK2-DddA11_REP-1   \n...                  ...                ...                                      ...                           ...   \n27132  |X||XX|X|X|XXX||X  CTGAAAAAGACTCTGCA  ../art/DetectSeq_JAK2-DddA11_REP-2_T...   DetectSeq_JAK2-DddA11_REP-2   \n27133  ||||XXX|XX|XX||XX  CCATTTCTGTCATCGTA  ../art/DetectSeq_JAK2-DddA11_REP-1_T...   DetectSeq_JAK2-DddA11_REP-1   \n27134  |||X|XXX||||XXXXX  CCATTTCTGTCATCGTA  ../art/DetectSeq_JAK2-DddA11_REP-1_T...   DetectSeq_JAK2-DddA11_REP-1   \n27135   XXXX|X|X|XX||X||   ATTAAACACAAACTAC  ../art/DetectSeq_ATP8-DddA11_REP-1_T...   DetectSeq_ATP8-DddA11_REP-1   \n27136   X|XX||||XXXX|XX|   ATTAAACACAAACTAC  ../art/DetectSeq_ATP8-DddA11_REP-1_T...   DetectSeq_ATP8-DddA11_REP-1   \n\n           TAS-Dep_stat     id  \n0      on-target: SIRT6      0  \n2       on-target: JAK2      2  \n4      on-target: SIRT6      4  \n5                  Left      5  \n6       on-target: JAK2      6  \n...                 ...    ...  \n27132              Left  27132  \n27133             Right  27133  \n27134             Right  27134  \n27135              Left  27135  \n27136              Left  27136  \n\n[26118 rows x 24 columns]",
      "text/html": "<div>\n<style scoped>\n    .dataframe tbody tr th:only-of-type {\n        vertical-align: middle;\n    }\n\n    .dataframe tbody tr th {\n        vertical-align: top;\n    }\n\n    .dataframe thead th {\n        text-align: right;\n    }\n</style>\n<table border=\"1\" class=\"dataframe\">\n  <thead>\n    <tr style=\"text-align: right;\">\n      <th></th>\n      <th>chrom</th>\n      <th>start</th>\n      <th>end</th>\n      <th>region_index</th>\n      <th>align_chr_name</th>\n      <th>align_chr_start</th>\n      <th>align_chr_end</th>\n      <th>align_strand</th>\n      <th>align_dist_to_signal</th>\n      <th>align_N0_base</th>\n      <th>align_total_match</th>\n      <th>align_total_mismatch</th>\n      <th>align_degen_total_match</th>\n      <th>align_degen_total_mismatch</th>\n      <th>align_degen_num</th>\n      <th>align_total_gap</th>\n      <th>align_score</th>\n      <th>align_target_seq</th>\n      <th>align_info_state</th>\n      <th>align_query_seq</th>\n      <th>file_info</th>\n      <th>&lt;sample&gt;</th>\n      <th>TAS-Dep_stat</th>\n      <th>id</th>\n    </tr>\n  </thead>\n  <tbody>\n    <tr>\n      <th>0</th>\n      <td>chr19</td>\n      <td>4182444</td>\n      <td>4182569</td>\n      <td>chr19_4182494_4182519</td>\n      <td>chr19</td>\n      <td>4182511</td>\n      <td>4182527</td>\n      <td>-</td>\n      <td>17</td>\n      <td>T</td>\n      <td>17</td>\n      <td>0</td>\n      <td>17</td>\n      <td>0</td>\n      <td>0</td>\n      <td>0</td>\n      <td>95.0</td>\n      <td>TACGCGGCGGGGCTGTC</td>\n      <td>|||||||||||||||||</td>\n      <td>TACGCGGCGGGGCTGTC</td>\n      <td>../art/DetectSeq_SIRT6-DddA11_REP-2_...</td>\n      <td>DetectSeq_SIRT6-DddA11_REP-2</td>\n      <td>on-target: SIRT6</td>\n      <td>0</td>\n    </tr>\n    <tr>\n      <th>2</th>\n      <td>chr9</td>\n      <td>5021948</td>\n      <td>5022146</td>\n      <td>chr9_5021998_5022096</td>\n      <td>chr9</td>\n      <td>5022005</td>\n      <td>5022021</td>\n      <td>-</td>\n      <td>7</td>\n      <td>C</td>\n      <td>17</td>\n      <td>0</td>\n      <td>17</td>\n      <td>0</td>\n      <td>0</td>\n      <td>0</td>\n      <td>85.0</td>\n      <td>CCATTTCTGTCATCGTA</td>\n      <td>|||||||||||||||||</td>\n      <td>CCATTTCTGTCATCGTA</td>\n      <td>../art/DetectSeq_JAK2-DddA11_REP-1_T...</td>\n      <td>DetectSeq_JAK2-DddA11_REP-1</td>\n      <td>on-target: JAK2</td>\n      <td>2</td>\n    </tr>\n    <tr>\n      <th>4</th>\n      <td>chr19</td>\n      <td>4182444</td>\n      <td>4182569</td>\n      <td>chr19_4182494_4182519</td>\n      <td>chr19</td>\n      <td>4182476</td>\n      <td>4182492</td>\n      <td>+</td>\n      <td>2</td>\n      <td>C</td>\n      <td>17</td>\n      <td>0</td>\n      <td>17</td>\n      <td>0</td>\n      <td>0</td>\n      <td>0</td>\n      <td>85.0</td>\n      <td>CCGGGAGGCCGCACTTG</td>\n      <td>|||||||||||||||||</td>\n      <td>CCGGGAGGCCGCACTTG</td>\n      <td>../art/DetectSeq_SIRT6-DddA11_REP-2_...</td>\n      <td>DetectSeq_SIRT6-DddA11_REP-2</td>\n      <td>on-target: SIRT6</td>\n      <td>4</td>\n    </tr>\n    <tr>\n      <th>5</th>\n      <td>chr9</td>\n      <td>5021875</td>\n      <td>5022047</td>\n      <td>chr9_5021925_5021997</td>\n      <td>chr9</td>\n      <td>5021972</td>\n      <td>5021988</td>\n      <td>+</td>\n      <td>9</td>\n      <td>C</td>\n      <td>17</td>\n      <td>0</td>\n      <td>17</td>\n      <td>0</td>\n      <td>0</td>\n      <td>0</td>\n      <td>85.0</td>\n      <td>CTGAAAAAGACTCTGCA</td>\n      <td>|||||||||||||||||</td>\n      <td>CTGAAAAAGACTCTGCA</td>\n      <td>../art/DetectSeq_JAK2-DddA11_REP-2_T...</td>\n      <td>DetectSeq_JAK2-DddA11_REP-2</td>\n      <td>Left</td>\n      <td>5</td>\n    </tr>\n    <tr>\n      <th>6</th>\n      <td>chr9</td>\n      <td>5021948</td>\n      <td>5022146</td>\n      <td>chr9_5021998_5022096</td>\n      <td>chr9</td>\n      <td>5021972</td>\n      <td>5021988</td>\n      <td>+</td>\n      <td>10</td>\n      <td>C</td>\n      <td>17</td>\n      <td>0</td>\n      <td>17</td>\n      <td>0</td>\n      <td>0</td>\n      <td>0</td>\n      <td>85.0</td>\n      <td>CTGAAAAAGACTCTGCA</td>\n      <td>|||||||||||||||||</td>\n      <td>CTGAAAAAGACTCTGCA</td>\n      <td>../art/DetectSeq_JAK2-DddA11_REP-1_T...</td>\n      <td>DetectSeq_JAK2-DddA11_REP-1</td>\n      <td>on-target: JAK2</td>\n      <td>6</td>\n    </tr>\n    <tr>\n      <th>...</th>\n      <td>...</td>\n      <td>...</td>\n      <td>...</td>\n      <td>...</td>\n      <td>...</td>\n      <td>...</td>\n      <td>...</td>\n      <td>...</td>\n      <td>...</td>\n      <td>...</td>\n      <td>...</td>\n      <td>...</td>\n      <td>...</td>\n      <td>...</td>\n      <td>...</td>\n      <td>...</td>\n      <td>...</td>\n      <td>...</td>\n      <td>...</td>\n      <td>...</td>\n      <td>...</td>\n      <td>...</td>\n      <td>...</td>\n      <td>...</td>\n    </tr>\n    <tr>\n      <th>27132</th>\n      <td>chr16</td>\n      <td>89268826</td>\n      <td>89268947</td>\n      <td>chr16_89268876_89268897</td>\n      <td>chr16</td>\n      <td>89268919</td>\n      <td>89268935</td>\n      <td>-</td>\n      <td>43</td>\n      <td>C</td>\n      <td>8</td>\n      <td>9</td>\n      <td>8</td>\n      <td>9</td>\n      <td>0</td>\n      <td>0</td>\n      <td>4.0</td>\n      <td>CAGAGCAGGGCAGGGCC</td>\n      <td>|X||XX|X|X|XXX||X</td>\n      <td>CTGAAAAAGACTCTGCA</td>\n      <td>../art/DetectSeq_JAK2-DddA11_REP-2_T...</td>\n      <td>DetectSeq_JAK2-DddA11_REP-2</td>\n      <td>Left</td>\n      <td>27132</td>\n    </tr>\n    <tr>\n      <th>27133</th>\n      <td>chr3</td>\n      <td>47475992</td>\n      <td>47476103</td>\n      <td>chr3_47476042_47476053</td>\n      <td>chr3</td>\n      <td>47476065</td>\n      <td>47476081</td>\n      <td>-</td>\n      <td>23</td>\n      <td>C</td>\n      <td>8</td>\n      <td>9</td>\n      <td>8</td>\n      <td>9</td>\n      <td>0</td>\n      <td>0</td>\n      <td>4.0</td>\n      <td>CCATACTTCCCTCCGGT</td>\n      <td>||||XXX|XX|XX||XX</td>\n      <td>CCATTTCTGTCATCGTA</td>\n      <td>../art/DetectSeq_JAK2-DddA11_REP-1_T...</td>\n      <td>DetectSeq_JAK2-DddA11_REP-1</td>\n      <td>Right</td>\n      <td>27133</td>\n    </tr>\n    <tr>\n      <th>27134</th>\n      <td>chr6</td>\n      <td>30556597</td>\n      <td>30556713</td>\n      <td>chr6_30556647_30556663</td>\n      <td>chr6</td>\n      <td>30556692</td>\n      <td>30556708</td>\n      <td>-</td>\n      <td>29</td>\n      <td>C</td>\n      <td>8</td>\n      <td>9</td>\n      <td>8</td>\n      <td>9</td>\n      <td>0</td>\n      <td>0</td>\n      <td>4.0</td>\n      <td>CCACTAAGGTCAAGCCC</td>\n      <td>|||X|XXX||||XXXXX</td>\n      <td>CCATTTCTGTCATCGTA</td>\n      <td>../art/DetectSeq_JAK2-DddA11_REP-1_T...</td>\n      <td>DetectSeq_JAK2-DddA11_REP-1</td>\n      <td>Right</td>\n      <td>27134</td>\n    </tr>\n    <tr>\n      <th>27135</th>\n      <td>chr15</td>\n      <td>68651206</td>\n      <td>68651327</td>\n      <td>chr15_68651256_68651277</td>\n      <td>chr15</td>\n      <td>68651272</td>\n      <td>68651287</td>\n      <td>-</td>\n      <td>16</td>\n      <td>G</td>\n      <td>7</td>\n      <td>9</td>\n      <td>7</td>\n      <td>9</td>\n      <td>0</td>\n      <td>0</td>\n      <td>-1.0</td>\n      <td>GCCCAGCCCTGACCAC</td>\n      <td>XXXX|X|X|XX||X||</td>\n      <td>ATTAAACACAAACTAC</td>\n      <td>../art/DetectSeq_ATP8-DddA11_REP-1_T...</td>\n      <td>DetectSeq_ATP8-DddA11_REP-1</td>\n      <td>Left</td>\n      <td>27135</td>\n    </tr>\n    <tr>\n      <th>27136</th>\n      <td>chr15</td>\n      <td>89358724</td>\n      <td>89358834</td>\n      <td>chr15_89358774_89358784</td>\n      <td>chr15</td>\n      <td>89358771</td>\n      <td>89358786</td>\n      <td>-</td>\n      <td>-13</td>\n      <td>G</td>\n      <td>7</td>\n      <td>9</td>\n      <td>7</td>\n      <td>9</td>\n      <td>0</td>\n      <td>0</td>\n      <td>-1.0</td>\n      <td>GTCCAACAGCGCCCTC</td>\n      <td>X|XX||||XXXX|XX|</td>\n      <td>ATTAAACACAAACTAC</td>\n      <td>../art/DetectSeq_ATP8-DddA11_REP-1_T...</td>\n      <td>DetectSeq_ATP8-DddA11_REP-1</td>\n      <td>Left</td>\n      <td>27136</td>\n    </tr>\n  </tbody>\n</table>\n<p>26118 rows × 24 columns</p>\n</div>"
     },
     "execution_count": 11,
     "metadata": {},
     "output_type": "execute_result"
    }
   ],
   "source": [
    "# 刨除tas dep\n",
    "df_arts_rm_tas_dep = df_arts[df_arts['id'].map(lambda x: x not in df_arts_tas_dep['id'].tolist())].copy()\n",
    "df_arts_rm_tas_dep"
   ],
   "metadata": {
    "collapsed": false,
    "ExecuteTime": {
     "end_time": "2023-08-15T17:36:26.379032Z",
     "start_time": "2023-08-15T17:36:25.739125Z"
    }
   },
   "id": "34a4f5f0be30f2f"
  },
  {
   "cell_type": "markdown",
   "source": [
    "#### get overlapped region with ctcf"
   ],
   "metadata": {
    "collapsed": false
   },
   "id": "ec4855982aa4bf3c"
  },
  {
   "cell_type": "code",
   "execution_count": 12,
   "outputs": [
    {
     "data": {
      "text/plain": "['chr19_4182494_4182519',\n 'chr9_5021998_5022096',\n 'chr9_5021925_5021997',\n 'chr11_2630829_2630903',\n 'chr2_88149212_88149266',\n 'chr9_69698553_69698603',\n 'chr10_33333995_33334044',\n 'chr13_52534773_52534853',\n 'chrX_20442161_20442201',\n 'chr13_51305640_51305728']"
     },
     "execution_count": 12,
     "metadata": {},
     "output_type": "execute_result"
    }
   ],
   "source": [
    "index_rm_tas_dep = df_arts_rm_tas_dep['region_index'].unique().tolist()\n",
    "index_rm_tas_dep[:10]"
   ],
   "metadata": {
    "collapsed": false,
    "ExecuteTime": {
     "end_time": "2023-08-15T17:36:27.784667Z",
     "start_time": "2023-08-15T17:36:27.768857Z"
    }
   },
   "id": "37964d78b9088058"
  },
  {
   "cell_type": "code",
   "execution_count": 13,
   "outputs": [
    {
     "name": "stdout",
     "output_type": "stream",
     "text": [
      "<class 'pandas.core.frame.DataFrame'>\n",
      "RangeIndex: 38393 entries, 0 to 38392\n",
      "Data columns (total 5 columns):\n",
      " #   Column                               Non-Null Count  Dtype  \n",
      "---  ------                               --------------  -----  \n",
      " 0   chr10                                38393 non-null  object \n",
      " 1   127196833                            38393 non-null  int64  \n",
      " 2   127197257                            38393 non-null  int64  \n",
      " 3   chr10_127196833_127197257_range_low  38393 non-null  object \n",
      " 4   15.99518                             38393 non-null  float64\n",
      "dtypes: float64(1), int64(2), object(2)\n",
      "memory usage: 1.5+ MB\n"
     ]
    },
    {
     "data": {
      "text/plain": "<BedTool(/var/folders/79/yd907p9x4537vqhgfrm0md680000gn/T/pybedtools.1p4o6vgd.tmp)>"
     },
     "execution_count": 13,
     "metadata": {},
     "output_type": "execute_result"
    }
   ],
   "source": [
    "df_ctcf = pd.read_csv(f'{HOME}/1.database/public_data/CTCF_ATAC_data/ENCFF285QVL_CTCF_binding_sites_fix_range.bed',\n",
    "                      sep='\\t')\n",
    "df_ctcf.info()\n",
    "\n",
    "coor_ctcf_bed = BedTool.from_dataframe(df_ctcf.iloc[:, :3])\n",
    "coor_ctcf_bed.to_dataframe()\n",
    "\n",
    "coor_ctcf_bed"
   ],
   "metadata": {
    "collapsed": false,
    "ExecuteTime": {
     "end_time": "2023-08-15T17:36:29.539959Z",
     "start_time": "2023-08-15T17:36:29.434455Z"
    }
   },
   "id": "28b337d28788f437"
  },
  {
   "cell_type": "code",
   "execution_count": 14,
   "outputs": [
    {
     "data": {
      "text/plain": "       chrom     start       end\n0      chr19   4182494   4182519\n1       chr9   5021998   5022096\n2       chr9   5021925   5021997\n3      chr11   2630829   2630903\n4       chr2  88149212  88149266\n...      ...       ...       ...\n12802  chr17  57697813  57697893\n12803  chr19   3822057   3822071\n12804   chr1  10523435  10523475\n12805  chr16  48609361  48609384\n12806   chr3  22939128  22939165\n\n[12807 rows x 3 columns]",
      "text/html": "<div>\n<style scoped>\n    .dataframe tbody tr th:only-of-type {\n        vertical-align: middle;\n    }\n\n    .dataframe tbody tr th {\n        vertical-align: top;\n    }\n\n    .dataframe thead th {\n        text-align: right;\n    }\n</style>\n<table border=\"1\" class=\"dataframe\">\n  <thead>\n    <tr style=\"text-align: right;\">\n      <th></th>\n      <th>chrom</th>\n      <th>start</th>\n      <th>end</th>\n    </tr>\n  </thead>\n  <tbody>\n    <tr>\n      <th>0</th>\n      <td>chr19</td>\n      <td>4182494</td>\n      <td>4182519</td>\n    </tr>\n    <tr>\n      <th>1</th>\n      <td>chr9</td>\n      <td>5021998</td>\n      <td>5022096</td>\n    </tr>\n    <tr>\n      <th>2</th>\n      <td>chr9</td>\n      <td>5021925</td>\n      <td>5021997</td>\n    </tr>\n    <tr>\n      <th>3</th>\n      <td>chr11</td>\n      <td>2630829</td>\n      <td>2630903</td>\n    </tr>\n    <tr>\n      <th>4</th>\n      <td>chr2</td>\n      <td>88149212</td>\n      <td>88149266</td>\n    </tr>\n    <tr>\n      <th>...</th>\n      <td>...</td>\n      <td>...</td>\n      <td>...</td>\n    </tr>\n    <tr>\n      <th>12802</th>\n      <td>chr17</td>\n      <td>57697813</td>\n      <td>57697893</td>\n    </tr>\n    <tr>\n      <th>12803</th>\n      <td>chr19</td>\n      <td>3822057</td>\n      <td>3822071</td>\n    </tr>\n    <tr>\n      <th>12804</th>\n      <td>chr1</td>\n      <td>10523435</td>\n      <td>10523475</td>\n    </tr>\n    <tr>\n      <th>12805</th>\n      <td>chr16</td>\n      <td>48609361</td>\n      <td>48609384</td>\n    </tr>\n    <tr>\n      <th>12806</th>\n      <td>chr3</td>\n      <td>22939128</td>\n      <td>22939165</td>\n    </tr>\n  </tbody>\n</table>\n<p>12807 rows × 3 columns</p>\n</div>"
     },
     "execution_count": 14,
     "metadata": {},
     "output_type": "execute_result"
    }
   ],
   "source": [
    "coor_rm_tas_dep = pd.Series(index_rm_tas_dep).str.split('_', expand=True)\n",
    "coor_rm_tas_dep.columns = ['chrom', 'start', 'end']\n",
    "coor_rm_tas_dep[['start', 'end']] = coor_rm_tas_dep[['start', 'end']].astype(int)\n",
    "coor_rm_tas_dep"
   ],
   "metadata": {
    "collapsed": false,
    "ExecuteTime": {
     "end_time": "2023-08-15T17:36:33.428623Z",
     "start_time": "2023-08-15T17:36:33.419118Z"
    }
   },
   "id": "670bedbe9926954d"
  },
  {
   "cell_type": "code",
   "execution_count": 15,
   "outputs": [
    {
     "name": "stdout",
     "output_type": "stream",
     "text": [
      "<class 'pandas.core.frame.DataFrame'>\n",
      "RangeIndex: 12807 entries, 0 to 12806\n",
      "Data columns (total 3 columns):\n",
      " #   Column  Non-Null Count  Dtype \n",
      "---  ------  --------------  ----- \n",
      " 0   chrom   12807 non-null  object\n",
      " 1   start   12807 non-null  int64 \n",
      " 2   end     12807 non-null  int64 \n",
      "dtypes: int64(2), object(1)\n",
      "memory usage: 300.3+ KB\n"
     ]
    }
   ],
   "source": [
    "coor_rm_tas_dep.info()"
   ],
   "metadata": {
    "collapsed": false,
    "ExecuteTime": {
     "end_time": "2023-08-15T17:36:34.841480Z",
     "start_time": "2023-08-15T17:36:34.831198Z"
    }
   },
   "id": "10a75be7721cdee6"
  },
  {
   "cell_type": "code",
   "execution_count": 16,
   "outputs": [],
   "source": [
    "# print(coor_ctcf_bed)\n",
    "rm_tas_dep_bed = BedTool.from_dataframe(coor_rm_tas_dep)\n",
    "# print(rm_tas_dep_bed)"
   ],
   "metadata": {
    "collapsed": false,
    "ExecuteTime": {
     "end_time": "2023-08-15T17:36:38.137066Z",
     "start_time": "2023-08-15T17:36:38.105800Z"
    }
   },
   "id": "c22b749fa8e6f8b1"
  },
  {
   "cell_type": "code",
   "execution_count": 17,
   "outputs": [],
   "source": [
    "df_coor_intersect = rm_tas_dep_bed.intersect(coor_ctcf_bed, loj=True).to_dataframe()\n",
    "df_coor_intersect.columns = ['chrom1', 'start1', 'end1', 'chrom2', 'start2', 'end2']\n",
    "df_coor_tas_indep = df_coor_intersect.query('start2 != -1').drop_duplicates(subset=['chrom1', 'start1', 'end1'])\n",
    "df_coor_unassorted = df_coor_intersect.query('start2 == -1').drop_duplicates(subset=['chrom1', 'start1', 'end1'])"
   ],
   "metadata": {
    "collapsed": false,
    "ExecuteTime": {
     "end_time": "2023-08-15T17:36:39.517567Z",
     "start_time": "2023-08-15T17:36:39.422222Z"
    }
   },
   "id": "ecf42cf891457780"
  },
  {
   "cell_type": "code",
   "execution_count": 18,
   "outputs": [
    {
     "data": {
      "text/plain": "      chrom1    start1      end1 chrom2    start2      end2\n20     chr16    813656    813692  chr16    813652    814076\n21      chr8  38787661  38787670   chr8  38787485  38787909\n26     chr17  19513972  19514031  chr17  19513874  19514298\n39     chr16   1413873   1413917  chr16   1413867   1414291\n50     chr17  46978484  46978500  chr17  46978485  46978909\n...      ...       ...       ...    ...       ...       ...\n12787  chr17  28750267  28750282  chr17  28750132  28750372\n12843   chr3  47476042  47476053   chr3  47475944  47476157\n12846  chr19   4186603   4186632  chr19   4186386   4186810\n12847  chr19  10492272  10492282  chr19  10491961  10492385\n12857  chr19   3822057   3822071  chr19   3821890   3822314\n\n[1105 rows x 6 columns]",
      "text/html": "<div>\n<style scoped>\n    .dataframe tbody tr th:only-of-type {\n        vertical-align: middle;\n    }\n\n    .dataframe tbody tr th {\n        vertical-align: top;\n    }\n\n    .dataframe thead th {\n        text-align: right;\n    }\n</style>\n<table border=\"1\" class=\"dataframe\">\n  <thead>\n    <tr style=\"text-align: right;\">\n      <th></th>\n      <th>chrom1</th>\n      <th>start1</th>\n      <th>end1</th>\n      <th>chrom2</th>\n      <th>start2</th>\n      <th>end2</th>\n    </tr>\n  </thead>\n  <tbody>\n    <tr>\n      <th>20</th>\n      <td>chr16</td>\n      <td>813656</td>\n      <td>813692</td>\n      <td>chr16</td>\n      <td>813652</td>\n      <td>814076</td>\n    </tr>\n    <tr>\n      <th>21</th>\n      <td>chr8</td>\n      <td>38787661</td>\n      <td>38787670</td>\n      <td>chr8</td>\n      <td>38787485</td>\n      <td>38787909</td>\n    </tr>\n    <tr>\n      <th>26</th>\n      <td>chr17</td>\n      <td>19513972</td>\n      <td>19514031</td>\n      <td>chr17</td>\n      <td>19513874</td>\n      <td>19514298</td>\n    </tr>\n    <tr>\n      <th>39</th>\n      <td>chr16</td>\n      <td>1413873</td>\n      <td>1413917</td>\n      <td>chr16</td>\n      <td>1413867</td>\n      <td>1414291</td>\n    </tr>\n    <tr>\n      <th>50</th>\n      <td>chr17</td>\n      <td>46978484</td>\n      <td>46978500</td>\n      <td>chr17</td>\n      <td>46978485</td>\n      <td>46978909</td>\n    </tr>\n    <tr>\n      <th>...</th>\n      <td>...</td>\n      <td>...</td>\n      <td>...</td>\n      <td>...</td>\n      <td>...</td>\n      <td>...</td>\n    </tr>\n    <tr>\n      <th>12787</th>\n      <td>chr17</td>\n      <td>28750267</td>\n      <td>28750282</td>\n      <td>chr17</td>\n      <td>28750132</td>\n      <td>28750372</td>\n    </tr>\n    <tr>\n      <th>12843</th>\n      <td>chr3</td>\n      <td>47476042</td>\n      <td>47476053</td>\n      <td>chr3</td>\n      <td>47475944</td>\n      <td>47476157</td>\n    </tr>\n    <tr>\n      <th>12846</th>\n      <td>chr19</td>\n      <td>4186603</td>\n      <td>4186632</td>\n      <td>chr19</td>\n      <td>4186386</td>\n      <td>4186810</td>\n    </tr>\n    <tr>\n      <th>12847</th>\n      <td>chr19</td>\n      <td>10492272</td>\n      <td>10492282</td>\n      <td>chr19</td>\n      <td>10491961</td>\n      <td>10492385</td>\n    </tr>\n    <tr>\n      <th>12857</th>\n      <td>chr19</td>\n      <td>3822057</td>\n      <td>3822071</td>\n      <td>chr19</td>\n      <td>3821890</td>\n      <td>3822314</td>\n    </tr>\n  </tbody>\n</table>\n<p>1105 rows × 6 columns</p>\n</div>"
     },
     "execution_count": 18,
     "metadata": {},
     "output_type": "execute_result"
    }
   ],
   "source": [
    "df_coor_tas_indep"
   ],
   "metadata": {
    "collapsed": false,
    "ExecuteTime": {
     "end_time": "2023-08-15T17:36:41.935193Z",
     "start_time": "2023-08-15T17:36:41.922308Z"
    }
   },
   "id": "6f9c0e37aac03c50"
  },
  {
   "cell_type": "code",
   "execution_count": 19,
   "outputs": [
    {
     "data": {
      "text/plain": "      chrom1    start1      end1 chrom2  start2  end2\n0      chr19   4182494   4182519      .      -1    -1\n1       chr9   5021998   5022096      .      -1    -1\n2       chr9   5021925   5021997      .      -1    -1\n3      chr11   2630829   2630903      .      -1    -1\n4       chr2  88149212  88149266      .      -1    -1\n...      ...       ...       ...    ...     ...   ...\n12855   chr2  22882093  22882127      .      -1    -1\n12856  chr17  57697813  57697893      .      -1    -1\n12858   chr1  10523435  10523475      .      -1    -1\n12859  chr16  48609361  48609384      .      -1    -1\n12860   chr3  22939128  22939165      .      -1    -1\n\n[11702 rows x 6 columns]",
      "text/html": "<div>\n<style scoped>\n    .dataframe tbody tr th:only-of-type {\n        vertical-align: middle;\n    }\n\n    .dataframe tbody tr th {\n        vertical-align: top;\n    }\n\n    .dataframe thead th {\n        text-align: right;\n    }\n</style>\n<table border=\"1\" class=\"dataframe\">\n  <thead>\n    <tr style=\"text-align: right;\">\n      <th></th>\n      <th>chrom1</th>\n      <th>start1</th>\n      <th>end1</th>\n      <th>chrom2</th>\n      <th>start2</th>\n      <th>end2</th>\n    </tr>\n  </thead>\n  <tbody>\n    <tr>\n      <th>0</th>\n      <td>chr19</td>\n      <td>4182494</td>\n      <td>4182519</td>\n      <td>.</td>\n      <td>-1</td>\n      <td>-1</td>\n    </tr>\n    <tr>\n      <th>1</th>\n      <td>chr9</td>\n      <td>5021998</td>\n      <td>5022096</td>\n      <td>.</td>\n      <td>-1</td>\n      <td>-1</td>\n    </tr>\n    <tr>\n      <th>2</th>\n      <td>chr9</td>\n      <td>5021925</td>\n      <td>5021997</td>\n      <td>.</td>\n      <td>-1</td>\n      <td>-1</td>\n    </tr>\n    <tr>\n      <th>3</th>\n      <td>chr11</td>\n      <td>2630829</td>\n      <td>2630903</td>\n      <td>.</td>\n      <td>-1</td>\n      <td>-1</td>\n    </tr>\n    <tr>\n      <th>4</th>\n      <td>chr2</td>\n      <td>88149212</td>\n      <td>88149266</td>\n      <td>.</td>\n      <td>-1</td>\n      <td>-1</td>\n    </tr>\n    <tr>\n      <th>...</th>\n      <td>...</td>\n      <td>...</td>\n      <td>...</td>\n      <td>...</td>\n      <td>...</td>\n      <td>...</td>\n    </tr>\n    <tr>\n      <th>12855</th>\n      <td>chr2</td>\n      <td>22882093</td>\n      <td>22882127</td>\n      <td>.</td>\n      <td>-1</td>\n      <td>-1</td>\n    </tr>\n    <tr>\n      <th>12856</th>\n      <td>chr17</td>\n      <td>57697813</td>\n      <td>57697893</td>\n      <td>.</td>\n      <td>-1</td>\n      <td>-1</td>\n    </tr>\n    <tr>\n      <th>12858</th>\n      <td>chr1</td>\n      <td>10523435</td>\n      <td>10523475</td>\n      <td>.</td>\n      <td>-1</td>\n      <td>-1</td>\n    </tr>\n    <tr>\n      <th>12859</th>\n      <td>chr16</td>\n      <td>48609361</td>\n      <td>48609384</td>\n      <td>.</td>\n      <td>-1</td>\n      <td>-1</td>\n    </tr>\n    <tr>\n      <th>12860</th>\n      <td>chr3</td>\n      <td>22939128</td>\n      <td>22939165</td>\n      <td>.</td>\n      <td>-1</td>\n      <td>-1</td>\n    </tr>\n  </tbody>\n</table>\n<p>11702 rows × 6 columns</p>\n</div>"
     },
     "execution_count": 19,
     "metadata": {},
     "output_type": "execute_result"
    }
   ],
   "source": [
    "df_coor_unassorted"
   ],
   "metadata": {
    "collapsed": false,
    "ExecuteTime": {
     "end_time": "2023-08-15T17:36:44.257260Z",
     "start_time": "2023-08-15T17:36:44.236781Z"
    }
   },
   "id": "c9202584fd59c23e"
  },
  {
   "cell_type": "code",
   "execution_count": 20,
   "outputs": [],
   "source": [
    "index_tas_indep = df_coor_tas_indep[['chrom1', 'start1', 'end1']].apply(lambda x: '_'.join(x.astype(str)),\n",
    "                                                                        axis=1).to_list()\n",
    "index_unassorted = df_coor_unassorted[['chrom1', 'start1', 'end1']].apply(lambda x: '_'.join(x.astype(str)),\n",
    "                                                                          axis=1).to_list()"
   ],
   "metadata": {
    "collapsed": false,
    "ExecuteTime": {
     "end_time": "2023-08-15T17:36:46.351844Z",
     "start_time": "2023-08-15T17:36:46.067224Z"
    }
   },
   "id": "b3980b85a6c7d0ad"
  },
  {
   "cell_type": "code",
   "execution_count": 21,
   "outputs": [
    {
     "data": {
      "text/plain": "['chr16_813656_813692',\n 'chr8_38787661_38787670',\n 'chr17_19513972_19514031',\n 'chr16_1413873_1413917',\n 'chr17_46978484_46978500',\n 'chr4_84498427_84498432',\n 'chr19_39996736_39996808',\n 'chr5_137605653_137605678',\n 'chr12_47904736_47904744',\n 'chr8_53880803_53880821']"
     },
     "execution_count": 21,
     "metadata": {},
     "output_type": "execute_result"
    }
   ],
   "source": [
    "index_tas_indep[:10]"
   ],
   "metadata": {
    "collapsed": false,
    "ExecuteTime": {
     "end_time": "2023-08-15T17:36:47.678456Z",
     "start_time": "2023-08-15T17:36:47.664599Z"
    }
   },
   "id": "fdac5ad2f7d7b4b5"
  },
  {
   "cell_type": "code",
   "execution_count": 22,
   "outputs": [
    {
     "data": {
      "text/plain": "['chr19_4182494_4182519',\n 'chr9_5021998_5022096',\n 'chr9_5021925_5021997',\n 'chr11_2630829_2630903',\n 'chr2_88149212_88149266',\n 'chr9_69698553_69698603',\n 'chr10_33333995_33334044',\n 'chr13_52534773_52534853',\n 'chrX_20442161_20442201',\n 'chr13_51305640_51305728']"
     },
     "execution_count": 22,
     "metadata": {},
     "output_type": "execute_result"
    }
   ],
   "source": [
    "index_unassorted[:10]"
   ],
   "metadata": {
    "collapsed": false,
    "ExecuteTime": {
     "end_time": "2023-08-15T17:36:48.644272Z",
     "start_time": "2023-08-15T17:36:48.627874Z"
    }
   },
   "id": "b9a10bb39f78563d"
  },
  {
   "cell_type": "code",
   "execution_count": 23,
   "outputs": [],
   "source": [
    "# 已经去除了TAS DEP，现在取CTCF overlap, 注意，用的是df_arts_rm_tas_dep！！\n",
    "df_arts_tas_indep = df_arts_rm_tas_dep.query('region_index in @index_tas_indep').copy()\n",
    "df_arts_unassorted = df_arts_rm_tas_dep.query('region_index in @index_unassorted').copy()"
   ],
   "metadata": {
    "collapsed": false,
    "ExecuteTime": {
     "end_time": "2023-08-15T17:36:49.527642Z",
     "start_time": "2023-08-15T17:36:49.504254Z"
    }
   },
   "id": "71bbb570a7955d1f"
  },
  {
   "cell_type": "code",
   "execution_count": 24,
   "outputs": [
    {
     "data": {
      "text/plain": "       chrom     start       end             region_index align_chr_name  align_chr_start  align_chr_end align_strand  \\\n41     chr16    813606    813742      chr16_813656_813692          chr16           813690         813706            -   \n42      chr8  38787611  38787720   chr8_38787661_38787670           chr8         38787647       38787663            +   \n46     chr17  19513922  19514081  chr17_19513972_19514031          chr17         19514039       19514055            -   \n63     chr16   1413823   1413967    chr16_1413873_1413917          chr16          1413894        1413910            +   \n104    chr17  46978434  46978550  chr17_46978484_46978500          chr17         46978498       46978514            -   \n...      ...       ...       ...                      ...            ...              ...            ...          ...   \n27131  chr11  66282584  66282698  chr11_66282634_66282648          chr11         66282648       66282664            -   \n27133   chr3  47475992  47476103   chr3_47476042_47476053           chr3         47476065       47476081            -   \n27134   chr6  30556597  30556713   chr6_30556647_30556663           chr6         30556692       30556708            -   \n27135  chr15  68651206  68651327  chr15_68651256_68651277          chr15         68651272       68651287            -   \n27136  chr15  89358724  89358834  chr15_89358774_89358784          chr15         89358771       89358786            -   \n\n       align_dist_to_signal align_N0_base  align_total_match  align_total_mismatch  align_degen_total_match  \\\n41                       34             T                 15                     2                       15   \n42                        7             T                 15                     2                       15   \n46                        8             T                 11                     6                       16   \n63                        7             T                 14                     3                       15   \n104                      14             G                 14                     3                       16   \n...                     ...           ...                ...                   ...                      ...   \n27131                    14             C                  8                     9                        8   \n27133                    23             C                  8                     9                        8   \n27134                    29             C                  8                     9                        8   \n27135                    16             G                  7                     9                        7   \n27136                   -13             G                  7                     9                        7   \n\n       align_degen_total_mismatch  align_degen_num  align_total_gap  align_score   align_target_seq  \\\n41                              2                0                0         77.0  TCCGCGGCGGGGCGGTC   \n42                              2                0                0         77.0  TACGCGGCGGGGCCGCC   \n46                              1                5                0         76.0  TAGACAGCGAAACTGTC   \n63                              2                1                0         75.0  TACACGTCGGGGCTGTA   \n104                             1                2                0         72.0  GACGCGGCGAGACTGTC   \n...                           ...              ...              ...          ...                ...   \n27131                           9                0                0          4.0  CCACATGTGGCCGCCAG   \n27133                           9                0                0          4.0  CCATACTTCCCTCCGGT   \n27134                           9                0                0          4.0  CCACTAAGGTCAAGCCC   \n27135                           9                0                0         -1.0   GCCCAGCCCTGACCAC   \n27136                           9                0                0         -1.0   GTCCAACAGCGCCCTC   \n\n        align_info_state    align_query_seq                                file_info                      <sample>  \\\n41     |X|||||||||||X|||  TACGCGGCGGGGCTGTC  ../art/DetectSeq_SIRT6-DddA11_REP-2_...  DetectSeq_SIRT6-DddA11_REP-2   \n42     |||||||||||||X|X|  TACGCGGCGGGGCTGTC  ../art/DetectSeq_SIRT6-DddA11_REP-1_...  DetectSeq_SIRT6-DddA11_REP-1   \n46     ||X.|.|||...|||||  TACGCGGCGGGGCTGTC  ../art/DetectSeq_SIRT6-DddA11_REP-2_...  DetectSeq_SIRT6-DddA11_REP-2   \n63     |||.||X|||||||||X  TACGCGGCGGGGCTGTC  ../art/DetectSeq_SIRT6-DddA11_REP-2_...  DetectSeq_SIRT6-DddA11_REP-2   \n104    X||||||||.|.|||||  TACGCGGCGGGGCTGTC  ../art/DetectSeq_SIRT6-DddA11_REP-2_...  DetectSeq_SIRT6-DddA11_REP-2   \n...                  ...                ...                                      ...                           ...   \n27131  |||XX|X||X|XX|XXX  CCATTTCTGTCATCGTA  ../art/DetectSeq_JAK2-DddA11_REP-1_T...   DetectSeq_JAK2-DddA11_REP-1   \n27133  ||||XXX|XX|XX||XX  CCATTTCTGTCATCGTA  ../art/DetectSeq_JAK2-DddA11_REP-1_T...   DetectSeq_JAK2-DddA11_REP-1   \n27134  |||X|XXX||||XXXXX  CCATTTCTGTCATCGTA  ../art/DetectSeq_JAK2-DddA11_REP-1_T...   DetectSeq_JAK2-DddA11_REP-1   \n27135   XXXX|X|X|XX||X||   ATTAAACACAAACTAC  ../art/DetectSeq_ATP8-DddA11_REP-1_T...   DetectSeq_ATP8-DddA11_REP-1   \n27136   X|XX||||XXXX|XX|   ATTAAACACAAACTAC  ../art/DetectSeq_ATP8-DddA11_REP-1_T...   DetectSeq_ATP8-DddA11_REP-1   \n\n      TAS-Dep_stat     id  \n41            Left     41  \n42            Left     42  \n46            Left     46  \n63            Left     63  \n104           Left    104  \n...            ...    ...  \n27131        Right  27131  \n27133        Right  27133  \n27134        Right  27134  \n27135         Left  27135  \n27136         Left  27136  \n\n[3185 rows x 24 columns]",
      "text/html": "<div>\n<style scoped>\n    .dataframe tbody tr th:only-of-type {\n        vertical-align: middle;\n    }\n\n    .dataframe tbody tr th {\n        vertical-align: top;\n    }\n\n    .dataframe thead th {\n        text-align: right;\n    }\n</style>\n<table border=\"1\" class=\"dataframe\">\n  <thead>\n    <tr style=\"text-align: right;\">\n      <th></th>\n      <th>chrom</th>\n      <th>start</th>\n      <th>end</th>\n      <th>region_index</th>\n      <th>align_chr_name</th>\n      <th>align_chr_start</th>\n      <th>align_chr_end</th>\n      <th>align_strand</th>\n      <th>align_dist_to_signal</th>\n      <th>align_N0_base</th>\n      <th>align_total_match</th>\n      <th>align_total_mismatch</th>\n      <th>align_degen_total_match</th>\n      <th>align_degen_total_mismatch</th>\n      <th>align_degen_num</th>\n      <th>align_total_gap</th>\n      <th>align_score</th>\n      <th>align_target_seq</th>\n      <th>align_info_state</th>\n      <th>align_query_seq</th>\n      <th>file_info</th>\n      <th>&lt;sample&gt;</th>\n      <th>TAS-Dep_stat</th>\n      <th>id</th>\n    </tr>\n  </thead>\n  <tbody>\n    <tr>\n      <th>41</th>\n      <td>chr16</td>\n      <td>813606</td>\n      <td>813742</td>\n      <td>chr16_813656_813692</td>\n      <td>chr16</td>\n      <td>813690</td>\n      <td>813706</td>\n      <td>-</td>\n      <td>34</td>\n      <td>T</td>\n      <td>15</td>\n      <td>2</td>\n      <td>15</td>\n      <td>2</td>\n      <td>0</td>\n      <td>0</td>\n      <td>77.0</td>\n      <td>TCCGCGGCGGGGCGGTC</td>\n      <td>|X|||||||||||X|||</td>\n      <td>TACGCGGCGGGGCTGTC</td>\n      <td>../art/DetectSeq_SIRT6-DddA11_REP-2_...</td>\n      <td>DetectSeq_SIRT6-DddA11_REP-2</td>\n      <td>Left</td>\n      <td>41</td>\n    </tr>\n    <tr>\n      <th>42</th>\n      <td>chr8</td>\n      <td>38787611</td>\n      <td>38787720</td>\n      <td>chr8_38787661_38787670</td>\n      <td>chr8</td>\n      <td>38787647</td>\n      <td>38787663</td>\n      <td>+</td>\n      <td>7</td>\n      <td>T</td>\n      <td>15</td>\n      <td>2</td>\n      <td>15</td>\n      <td>2</td>\n      <td>0</td>\n      <td>0</td>\n      <td>77.0</td>\n      <td>TACGCGGCGGGGCCGCC</td>\n      <td>|||||||||||||X|X|</td>\n      <td>TACGCGGCGGGGCTGTC</td>\n      <td>../art/DetectSeq_SIRT6-DddA11_REP-1_...</td>\n      <td>DetectSeq_SIRT6-DddA11_REP-1</td>\n      <td>Left</td>\n      <td>42</td>\n    </tr>\n    <tr>\n      <th>46</th>\n      <td>chr17</td>\n      <td>19513922</td>\n      <td>19514081</td>\n      <td>chr17_19513972_19514031</td>\n      <td>chr17</td>\n      <td>19514039</td>\n      <td>19514055</td>\n      <td>-</td>\n      <td>8</td>\n      <td>T</td>\n      <td>11</td>\n      <td>6</td>\n      <td>16</td>\n      <td>1</td>\n      <td>5</td>\n      <td>0</td>\n      <td>76.0</td>\n      <td>TAGACAGCGAAACTGTC</td>\n      <td>||X.|.|||...|||||</td>\n      <td>TACGCGGCGGGGCTGTC</td>\n      <td>../art/DetectSeq_SIRT6-DddA11_REP-2_...</td>\n      <td>DetectSeq_SIRT6-DddA11_REP-2</td>\n      <td>Left</td>\n      <td>46</td>\n    </tr>\n    <tr>\n      <th>63</th>\n      <td>chr16</td>\n      <td>1413823</td>\n      <td>1413967</td>\n      <td>chr16_1413873_1413917</td>\n      <td>chr16</td>\n      <td>1413894</td>\n      <td>1413910</td>\n      <td>+</td>\n      <td>7</td>\n      <td>T</td>\n      <td>14</td>\n      <td>3</td>\n      <td>15</td>\n      <td>2</td>\n      <td>1</td>\n      <td>0</td>\n      <td>75.0</td>\n      <td>TACACGTCGGGGCTGTA</td>\n      <td>|||.||X|||||||||X</td>\n      <td>TACGCGGCGGGGCTGTC</td>\n      <td>../art/DetectSeq_SIRT6-DddA11_REP-2_...</td>\n      <td>DetectSeq_SIRT6-DddA11_REP-2</td>\n      <td>Left</td>\n      <td>63</td>\n    </tr>\n    <tr>\n      <th>104</th>\n      <td>chr17</td>\n      <td>46978434</td>\n      <td>46978550</td>\n      <td>chr17_46978484_46978500</td>\n      <td>chr17</td>\n      <td>46978498</td>\n      <td>46978514</td>\n      <td>-</td>\n      <td>14</td>\n      <td>G</td>\n      <td>14</td>\n      <td>3</td>\n      <td>16</td>\n      <td>1</td>\n      <td>2</td>\n      <td>0</td>\n      <td>72.0</td>\n      <td>GACGCGGCGAGACTGTC</td>\n      <td>X||||||||.|.|||||</td>\n      <td>TACGCGGCGGGGCTGTC</td>\n      <td>../art/DetectSeq_SIRT6-DddA11_REP-2_...</td>\n      <td>DetectSeq_SIRT6-DddA11_REP-2</td>\n      <td>Left</td>\n      <td>104</td>\n    </tr>\n    <tr>\n      <th>...</th>\n      <td>...</td>\n      <td>...</td>\n      <td>...</td>\n      <td>...</td>\n      <td>...</td>\n      <td>...</td>\n      <td>...</td>\n      <td>...</td>\n      <td>...</td>\n      <td>...</td>\n      <td>...</td>\n      <td>...</td>\n      <td>...</td>\n      <td>...</td>\n      <td>...</td>\n      <td>...</td>\n      <td>...</td>\n      <td>...</td>\n      <td>...</td>\n      <td>...</td>\n      <td>...</td>\n      <td>...</td>\n      <td>...</td>\n      <td>...</td>\n    </tr>\n    <tr>\n      <th>27131</th>\n      <td>chr11</td>\n      <td>66282584</td>\n      <td>66282698</td>\n      <td>chr11_66282634_66282648</td>\n      <td>chr11</td>\n      <td>66282648</td>\n      <td>66282664</td>\n      <td>-</td>\n      <td>14</td>\n      <td>C</td>\n      <td>8</td>\n      <td>9</td>\n      <td>8</td>\n      <td>9</td>\n      <td>0</td>\n      <td>0</td>\n      <td>4.0</td>\n      <td>CCACATGTGGCCGCCAG</td>\n      <td>|||XX|X||X|XX|XXX</td>\n      <td>CCATTTCTGTCATCGTA</td>\n      <td>../art/DetectSeq_JAK2-DddA11_REP-1_T...</td>\n      <td>DetectSeq_JAK2-DddA11_REP-1</td>\n      <td>Right</td>\n      <td>27131</td>\n    </tr>\n    <tr>\n      <th>27133</th>\n      <td>chr3</td>\n      <td>47475992</td>\n      <td>47476103</td>\n      <td>chr3_47476042_47476053</td>\n      <td>chr3</td>\n      <td>47476065</td>\n      <td>47476081</td>\n      <td>-</td>\n      <td>23</td>\n      <td>C</td>\n      <td>8</td>\n      <td>9</td>\n      <td>8</td>\n      <td>9</td>\n      <td>0</td>\n      <td>0</td>\n      <td>4.0</td>\n      <td>CCATACTTCCCTCCGGT</td>\n      <td>||||XXX|XX|XX||XX</td>\n      <td>CCATTTCTGTCATCGTA</td>\n      <td>../art/DetectSeq_JAK2-DddA11_REP-1_T...</td>\n      <td>DetectSeq_JAK2-DddA11_REP-1</td>\n      <td>Right</td>\n      <td>27133</td>\n    </tr>\n    <tr>\n      <th>27134</th>\n      <td>chr6</td>\n      <td>30556597</td>\n      <td>30556713</td>\n      <td>chr6_30556647_30556663</td>\n      <td>chr6</td>\n      <td>30556692</td>\n      <td>30556708</td>\n      <td>-</td>\n      <td>29</td>\n      <td>C</td>\n      <td>8</td>\n      <td>9</td>\n      <td>8</td>\n      <td>9</td>\n      <td>0</td>\n      <td>0</td>\n      <td>4.0</td>\n      <td>CCACTAAGGTCAAGCCC</td>\n      <td>|||X|XXX||||XXXXX</td>\n      <td>CCATTTCTGTCATCGTA</td>\n      <td>../art/DetectSeq_JAK2-DddA11_REP-1_T...</td>\n      <td>DetectSeq_JAK2-DddA11_REP-1</td>\n      <td>Right</td>\n      <td>27134</td>\n    </tr>\n    <tr>\n      <th>27135</th>\n      <td>chr15</td>\n      <td>68651206</td>\n      <td>68651327</td>\n      <td>chr15_68651256_68651277</td>\n      <td>chr15</td>\n      <td>68651272</td>\n      <td>68651287</td>\n      <td>-</td>\n      <td>16</td>\n      <td>G</td>\n      <td>7</td>\n      <td>9</td>\n      <td>7</td>\n      <td>9</td>\n      <td>0</td>\n      <td>0</td>\n      <td>-1.0</td>\n      <td>GCCCAGCCCTGACCAC</td>\n      <td>XXXX|X|X|XX||X||</td>\n      <td>ATTAAACACAAACTAC</td>\n      <td>../art/DetectSeq_ATP8-DddA11_REP-1_T...</td>\n      <td>DetectSeq_ATP8-DddA11_REP-1</td>\n      <td>Left</td>\n      <td>27135</td>\n    </tr>\n    <tr>\n      <th>27136</th>\n      <td>chr15</td>\n      <td>89358724</td>\n      <td>89358834</td>\n      <td>chr15_89358774_89358784</td>\n      <td>chr15</td>\n      <td>89358771</td>\n      <td>89358786</td>\n      <td>-</td>\n      <td>-13</td>\n      <td>G</td>\n      <td>7</td>\n      <td>9</td>\n      <td>7</td>\n      <td>9</td>\n      <td>0</td>\n      <td>0</td>\n      <td>-1.0</td>\n      <td>GTCCAACAGCGCCCTC</td>\n      <td>X|XX||||XXXX|XX|</td>\n      <td>ATTAAACACAAACTAC</td>\n      <td>../art/DetectSeq_ATP8-DddA11_REP-1_T...</td>\n      <td>DetectSeq_ATP8-DddA11_REP-1</td>\n      <td>Left</td>\n      <td>27136</td>\n    </tr>\n  </tbody>\n</table>\n<p>3185 rows × 24 columns</p>\n</div>"
     },
     "execution_count": 24,
     "metadata": {},
     "output_type": "execute_result"
    }
   ],
   "source": [
    "df_arts_tas_indep"
   ],
   "metadata": {
    "collapsed": false,
    "ExecuteTime": {
     "end_time": "2023-08-15T17:36:54.304082Z",
     "start_time": "2023-08-15T17:36:54.292678Z"
    }
   },
   "id": "9f1a55797831f541"
  },
  {
   "cell_type": "code",
   "execution_count": 25,
   "outputs": [
    {
     "data": {
      "text/plain": "       chrom      start        end               region_index align_chr_name  align_chr_start  align_chr_end  \\\n0      chr19    4182444    4182569      chr19_4182494_4182519          chr19          4182511        4182527   \n2       chr9    5021948    5022146       chr9_5021998_5022096           chr9          5022005        5022021   \n4      chr19    4182444    4182569      chr19_4182494_4182519          chr19          4182476        4182492   \n5       chr9    5021875    5022047       chr9_5021925_5021997           chr9          5021972        5021988   \n6       chr9    5021948    5022146       chr9_5021998_5022096           chr9          5021972        5021988   \n...      ...        ...        ...                        ...            ...              ...            ...   \n27116  chr12  119020881  119021002  chr12_119020931_119020952          chr12        119020986      119021001   \n27117  chr14   72104166   72104275    chr14_72104216_72104225          chr14         72104242       72104258   \n27125   chr2  236178158  236178271   chr2_236178208_236178221           chr2        236178168      236178184   \n27130  chr10  123135225  123135335  chr10_123135275_123135285          chr10        123135262      123135278   \n27132  chr16   89268826   89268947    chr16_89268876_89268897          chr16         89268919       89268935   \n\n      align_strand  align_dist_to_signal align_N0_base  align_total_match  align_total_mismatch  \\\n0                -                    17             T                 17                     0   \n2                -                     7             C                 17                     0   \n4                +                     2             C                 17                     0   \n5                +                     9             C                 17                     0   \n6                +                    10             C                 17                     0   \n...            ...                   ...           ...                ...                   ...   \n27116            -                    34             A                  8                     8   \n27117            -                    17             G                  6                    11   \n27125            +                    24             T                  7                    10   \n27130            -                   -13             G                  8                     9   \n27132            -                    43             C                  8                     9   \n\n       align_degen_total_match  align_degen_total_mismatch  align_degen_num  align_total_gap  align_score  \\\n0                           17                           0                0                0         95.0   \n2                           17                           0                0                0         85.0   \n4                           17                           0                0                0         85.0   \n5                           17                           0                0                0         85.0   \n6                           17                           0                0                0         85.0   \n...                        ...                         ...              ...              ...          ...   \n27116                        8                           8                0                0          8.0   \n27117                        9                           8                3                0          7.0   \n27125                        7                          10                0                0          5.0   \n27130                        8                           9                0                0          4.0   \n27132                        8                           9                0                0          4.0   \n\n        align_target_seq   align_info_state    align_query_seq                                file_info  \\\n0      TACGCGGCGGGGCTGTC  |||||||||||||||||  TACGCGGCGGGGCTGTC  ../art/DetectSeq_SIRT6-DddA11_REP-2_...   \n2      CCATTTCTGTCATCGTA  |||||||||||||||||  CCATTTCTGTCATCGTA  ../art/DetectSeq_JAK2-DddA11_REP-1_T...   \n4      CCGGGAGGCCGCACTTG  |||||||||||||||||  CCGGGAGGCCGCACTTG  ../art/DetectSeq_SIRT6-DddA11_REP-2_...   \n5      CTGAAAAAGACTCTGCA  |||||||||||||||||  CTGAAAAAGACTCTGCA  ../art/DetectSeq_JAK2-DddA11_REP-2_T...   \n6      CTGAAAAAGACTCTGCA  |||||||||||||||||  CTGAAAAAGACTCTGCA  ../art/DetectSeq_JAK2-DddA11_REP-1_T...   \n...                  ...                ...                ...                                      ...   \n27116   AGAACACAGCGCCTCC   |XX|X|||XXXX||X|   ATTAAACACAAACTAC  ../art/DetectSeq_ATP8-DddA11_REP-1_T...   \n27117  GGAAAAGCAAGACAACG  XX.|||XX.|XX|X.|X  CTGAAAAAGACTCTGCA  ../art/DetectSeq_JAK2-DddA11_REP-1_T...   \n27125  TTCGCTCCCACTGGGCA  X|XXXXXXX|||XX|||  CTGAAAAAGACTCTGCA  ../art/DetectSeq_JAK2-DddA11_REP-1_T...   \n27130  GCGGACCAGGCCCTCCC  XX|X|XX||X|X||X|X  CTGAAAAAGACTCTGCA  ../art/DetectSeq_JAK2-DddA11_REP-1_T...   \n27132  CAGAGCAGGGCAGGGCC  |X||XX|X|X|XXX||X  CTGAAAAAGACTCTGCA  ../art/DetectSeq_JAK2-DddA11_REP-2_T...   \n\n                           <sample>      TAS-Dep_stat     id  \n0      DetectSeq_SIRT6-DddA11_REP-2  on-target: SIRT6      0  \n2       DetectSeq_JAK2-DddA11_REP-1   on-target: JAK2      2  \n4      DetectSeq_SIRT6-DddA11_REP-2  on-target: SIRT6      4  \n5       DetectSeq_JAK2-DddA11_REP-2              Left      5  \n6       DetectSeq_JAK2-DddA11_REP-1   on-target: JAK2      6  \n...                             ...               ...    ...  \n27116   DetectSeq_ATP8-DddA11_REP-1              Left  27116  \n27117   DetectSeq_JAK2-DddA11_REP-1              Left  27117  \n27125   DetectSeq_JAK2-DddA11_REP-1              Left  27125  \n27130   DetectSeq_JAK2-DddA11_REP-1              Left  27130  \n27132   DetectSeq_JAK2-DddA11_REP-2              Left  27132  \n\n[22933 rows x 24 columns]",
      "text/html": "<div>\n<style scoped>\n    .dataframe tbody tr th:only-of-type {\n        vertical-align: middle;\n    }\n\n    .dataframe tbody tr th {\n        vertical-align: top;\n    }\n\n    .dataframe thead th {\n        text-align: right;\n    }\n</style>\n<table border=\"1\" class=\"dataframe\">\n  <thead>\n    <tr style=\"text-align: right;\">\n      <th></th>\n      <th>chrom</th>\n      <th>start</th>\n      <th>end</th>\n      <th>region_index</th>\n      <th>align_chr_name</th>\n      <th>align_chr_start</th>\n      <th>align_chr_end</th>\n      <th>align_strand</th>\n      <th>align_dist_to_signal</th>\n      <th>align_N0_base</th>\n      <th>align_total_match</th>\n      <th>align_total_mismatch</th>\n      <th>align_degen_total_match</th>\n      <th>align_degen_total_mismatch</th>\n      <th>align_degen_num</th>\n      <th>align_total_gap</th>\n      <th>align_score</th>\n      <th>align_target_seq</th>\n      <th>align_info_state</th>\n      <th>align_query_seq</th>\n      <th>file_info</th>\n      <th>&lt;sample&gt;</th>\n      <th>TAS-Dep_stat</th>\n      <th>id</th>\n    </tr>\n  </thead>\n  <tbody>\n    <tr>\n      <th>0</th>\n      <td>chr19</td>\n      <td>4182444</td>\n      <td>4182569</td>\n      <td>chr19_4182494_4182519</td>\n      <td>chr19</td>\n      <td>4182511</td>\n      <td>4182527</td>\n      <td>-</td>\n      <td>17</td>\n      <td>T</td>\n      <td>17</td>\n      <td>0</td>\n      <td>17</td>\n      <td>0</td>\n      <td>0</td>\n      <td>0</td>\n      <td>95.0</td>\n      <td>TACGCGGCGGGGCTGTC</td>\n      <td>|||||||||||||||||</td>\n      <td>TACGCGGCGGGGCTGTC</td>\n      <td>../art/DetectSeq_SIRT6-DddA11_REP-2_...</td>\n      <td>DetectSeq_SIRT6-DddA11_REP-2</td>\n      <td>on-target: SIRT6</td>\n      <td>0</td>\n    </tr>\n    <tr>\n      <th>2</th>\n      <td>chr9</td>\n      <td>5021948</td>\n      <td>5022146</td>\n      <td>chr9_5021998_5022096</td>\n      <td>chr9</td>\n      <td>5022005</td>\n      <td>5022021</td>\n      <td>-</td>\n      <td>7</td>\n      <td>C</td>\n      <td>17</td>\n      <td>0</td>\n      <td>17</td>\n      <td>0</td>\n      <td>0</td>\n      <td>0</td>\n      <td>85.0</td>\n      <td>CCATTTCTGTCATCGTA</td>\n      <td>|||||||||||||||||</td>\n      <td>CCATTTCTGTCATCGTA</td>\n      <td>../art/DetectSeq_JAK2-DddA11_REP-1_T...</td>\n      <td>DetectSeq_JAK2-DddA11_REP-1</td>\n      <td>on-target: JAK2</td>\n      <td>2</td>\n    </tr>\n    <tr>\n      <th>4</th>\n      <td>chr19</td>\n      <td>4182444</td>\n      <td>4182569</td>\n      <td>chr19_4182494_4182519</td>\n      <td>chr19</td>\n      <td>4182476</td>\n      <td>4182492</td>\n      <td>+</td>\n      <td>2</td>\n      <td>C</td>\n      <td>17</td>\n      <td>0</td>\n      <td>17</td>\n      <td>0</td>\n      <td>0</td>\n      <td>0</td>\n      <td>85.0</td>\n      <td>CCGGGAGGCCGCACTTG</td>\n      <td>|||||||||||||||||</td>\n      <td>CCGGGAGGCCGCACTTG</td>\n      <td>../art/DetectSeq_SIRT6-DddA11_REP-2_...</td>\n      <td>DetectSeq_SIRT6-DddA11_REP-2</td>\n      <td>on-target: SIRT6</td>\n      <td>4</td>\n    </tr>\n    <tr>\n      <th>5</th>\n      <td>chr9</td>\n      <td>5021875</td>\n      <td>5022047</td>\n      <td>chr9_5021925_5021997</td>\n      <td>chr9</td>\n      <td>5021972</td>\n      <td>5021988</td>\n      <td>+</td>\n      <td>9</td>\n      <td>C</td>\n      <td>17</td>\n      <td>0</td>\n      <td>17</td>\n      <td>0</td>\n      <td>0</td>\n      <td>0</td>\n      <td>85.0</td>\n      <td>CTGAAAAAGACTCTGCA</td>\n      <td>|||||||||||||||||</td>\n      <td>CTGAAAAAGACTCTGCA</td>\n      <td>../art/DetectSeq_JAK2-DddA11_REP-2_T...</td>\n      <td>DetectSeq_JAK2-DddA11_REP-2</td>\n      <td>Left</td>\n      <td>5</td>\n    </tr>\n    <tr>\n      <th>6</th>\n      <td>chr9</td>\n      <td>5021948</td>\n      <td>5022146</td>\n      <td>chr9_5021998_5022096</td>\n      <td>chr9</td>\n      <td>5021972</td>\n      <td>5021988</td>\n      <td>+</td>\n      <td>10</td>\n      <td>C</td>\n      <td>17</td>\n      <td>0</td>\n      <td>17</td>\n      <td>0</td>\n      <td>0</td>\n      <td>0</td>\n      <td>85.0</td>\n      <td>CTGAAAAAGACTCTGCA</td>\n      <td>|||||||||||||||||</td>\n      <td>CTGAAAAAGACTCTGCA</td>\n      <td>../art/DetectSeq_JAK2-DddA11_REP-1_T...</td>\n      <td>DetectSeq_JAK2-DddA11_REP-1</td>\n      <td>on-target: JAK2</td>\n      <td>6</td>\n    </tr>\n    <tr>\n      <th>...</th>\n      <td>...</td>\n      <td>...</td>\n      <td>...</td>\n      <td>...</td>\n      <td>...</td>\n      <td>...</td>\n      <td>...</td>\n      <td>...</td>\n      <td>...</td>\n      <td>...</td>\n      <td>...</td>\n      <td>...</td>\n      <td>...</td>\n      <td>...</td>\n      <td>...</td>\n      <td>...</td>\n      <td>...</td>\n      <td>...</td>\n      <td>...</td>\n      <td>...</td>\n      <td>...</td>\n      <td>...</td>\n      <td>...</td>\n      <td>...</td>\n    </tr>\n    <tr>\n      <th>27116</th>\n      <td>chr12</td>\n      <td>119020881</td>\n      <td>119021002</td>\n      <td>chr12_119020931_119020952</td>\n      <td>chr12</td>\n      <td>119020986</td>\n      <td>119021001</td>\n      <td>-</td>\n      <td>34</td>\n      <td>A</td>\n      <td>8</td>\n      <td>8</td>\n      <td>8</td>\n      <td>8</td>\n      <td>0</td>\n      <td>0</td>\n      <td>8.0</td>\n      <td>AGAACACAGCGCCTCC</td>\n      <td>|XX|X|||XXXX||X|</td>\n      <td>ATTAAACACAAACTAC</td>\n      <td>../art/DetectSeq_ATP8-DddA11_REP-1_T...</td>\n      <td>DetectSeq_ATP8-DddA11_REP-1</td>\n      <td>Left</td>\n      <td>27116</td>\n    </tr>\n    <tr>\n      <th>27117</th>\n      <td>chr14</td>\n      <td>72104166</td>\n      <td>72104275</td>\n      <td>chr14_72104216_72104225</td>\n      <td>chr14</td>\n      <td>72104242</td>\n      <td>72104258</td>\n      <td>-</td>\n      <td>17</td>\n      <td>G</td>\n      <td>6</td>\n      <td>11</td>\n      <td>9</td>\n      <td>8</td>\n      <td>3</td>\n      <td>0</td>\n      <td>7.0</td>\n      <td>GGAAAAGCAAGACAACG</td>\n      <td>XX.|||XX.|XX|X.|X</td>\n      <td>CTGAAAAAGACTCTGCA</td>\n      <td>../art/DetectSeq_JAK2-DddA11_REP-1_T...</td>\n      <td>DetectSeq_JAK2-DddA11_REP-1</td>\n      <td>Left</td>\n      <td>27117</td>\n    </tr>\n    <tr>\n      <th>27125</th>\n      <td>chr2</td>\n      <td>236178158</td>\n      <td>236178271</td>\n      <td>chr2_236178208_236178221</td>\n      <td>chr2</td>\n      <td>236178168</td>\n      <td>236178184</td>\n      <td>+</td>\n      <td>24</td>\n      <td>T</td>\n      <td>7</td>\n      <td>10</td>\n      <td>7</td>\n      <td>10</td>\n      <td>0</td>\n      <td>0</td>\n      <td>5.0</td>\n      <td>TTCGCTCCCACTGGGCA</td>\n      <td>X|XXXXXXX|||XX|||</td>\n      <td>CTGAAAAAGACTCTGCA</td>\n      <td>../art/DetectSeq_JAK2-DddA11_REP-1_T...</td>\n      <td>DetectSeq_JAK2-DddA11_REP-1</td>\n      <td>Left</td>\n      <td>27125</td>\n    </tr>\n    <tr>\n      <th>27130</th>\n      <td>chr10</td>\n      <td>123135225</td>\n      <td>123135335</td>\n      <td>chr10_123135275_123135285</td>\n      <td>chr10</td>\n      <td>123135262</td>\n      <td>123135278</td>\n      <td>-</td>\n      <td>-13</td>\n      <td>G</td>\n      <td>8</td>\n      <td>9</td>\n      <td>8</td>\n      <td>9</td>\n      <td>0</td>\n      <td>0</td>\n      <td>4.0</td>\n      <td>GCGGACCAGGCCCTCCC</td>\n      <td>XX|X|XX||X|X||X|X</td>\n      <td>CTGAAAAAGACTCTGCA</td>\n      <td>../art/DetectSeq_JAK2-DddA11_REP-1_T...</td>\n      <td>DetectSeq_JAK2-DddA11_REP-1</td>\n      <td>Left</td>\n      <td>27130</td>\n    </tr>\n    <tr>\n      <th>27132</th>\n      <td>chr16</td>\n      <td>89268826</td>\n      <td>89268947</td>\n      <td>chr16_89268876_89268897</td>\n      <td>chr16</td>\n      <td>89268919</td>\n      <td>89268935</td>\n      <td>-</td>\n      <td>43</td>\n      <td>C</td>\n      <td>8</td>\n      <td>9</td>\n      <td>8</td>\n      <td>9</td>\n      <td>0</td>\n      <td>0</td>\n      <td>4.0</td>\n      <td>CAGAGCAGGGCAGGGCC</td>\n      <td>|X||XX|X|X|XXX||X</td>\n      <td>CTGAAAAAGACTCTGCA</td>\n      <td>../art/DetectSeq_JAK2-DddA11_REP-2_T...</td>\n      <td>DetectSeq_JAK2-DddA11_REP-2</td>\n      <td>Left</td>\n      <td>27132</td>\n    </tr>\n  </tbody>\n</table>\n<p>22933 rows × 24 columns</p>\n</div>"
     },
     "execution_count": 25,
     "metadata": {},
     "output_type": "execute_result"
    }
   ],
   "source": [
    "df_arts_unassorted"
   ],
   "metadata": {
    "collapsed": false,
    "ExecuteTime": {
     "end_time": "2023-08-15T17:36:56.013582Z",
     "start_time": "2023-08-15T17:36:55.995892Z"
    }
   },
   "id": "6bbd448074b8debb"
  },
  {
   "cell_type": "code",
   "execution_count": 26,
   "outputs": [
    {
     "name": "stdout",
     "output_type": "stream",
     "text": [
      "df_arts_tas_dep.shape[0] = 1019\n",
      "df_arts_tas_indep.shape[0] = 3185\n",
      "df_arts_unassorted.shape[0] = 22933\n",
      "total = 27137\n",
      "df_arts.shape[0] = 27137\n"
     ]
    }
   ],
   "source": [
    "print(f'df_arts_tas_dep.shape[0] = {df_arts_tas_dep.shape[0]}')\n",
    "print(f'df_arts_tas_indep.shape[0] = {df_arts_tas_indep.shape[0]}')\n",
    "print(f'df_arts_unassorted.shape[0] = {df_arts_unassorted.shape[0]}')\n",
    "print(f'total = {df_arts_tas_dep.shape[0] + df_arts_tas_indep.shape[0] + df_arts_unassorted.shape[0]}')\n",
    "print(f'df_arts.shape[0] = {df_arts.shape[0]}')"
   ],
   "metadata": {
    "collapsed": false,
    "ExecuteTime": {
     "end_time": "2023-08-15T17:36:58.750331Z",
     "start_time": "2023-08-15T17:36:58.730108Z"
    }
   },
   "id": "de167ccec43176b6"
  },
  {
   "cell_type": "code",
   "execution_count": 27,
   "outputs": [],
   "source": [
    "# 完美！\n",
    "\n",
    "# df_arts_tas_dep.shape[0] = 1019\n",
    "# df_arts_tas_indep.shape[0] = 3185\n",
    "# df_arts_unassorted.shape[0] = 22933\n",
    "# total = 27137\n",
    "# df_arts.shape[0] = 27137"
   ],
   "metadata": {
    "collapsed": false,
    "ExecuteTime": {
     "end_time": "2023-08-15T17:37:03.302602Z",
     "start_time": "2023-08-15T17:37:03.284172Z"
    }
   },
   "id": "5ab30cb0a8e45863"
  },
  {
   "cell_type": "markdown",
   "source": [
    "### Final TAS-independent off-target"
   ],
   "metadata": {
    "collapsed": false
   },
   "id": "6f28beea6f17d850"
  },
  {
   "cell_type": "code",
   "execution_count": 28,
   "outputs": [
    {
     "data": {
      "text/plain": "       chrom     start       end             region_index align_chr_name  align_chr_start  align_chr_end align_strand  \\\n41     chr16    813606    813742      chr16_813656_813692          chr16           813690         813706            -   \n42      chr8  38787611  38787720   chr8_38787661_38787670           chr8         38787647       38787663            +   \n46     chr17  19513922  19514081  chr17_19513972_19514031          chr17         19514039       19514055            -   \n63     chr16   1413823   1413967    chr16_1413873_1413917          chr16          1413894        1413910            +   \n104    chr17  46978434  46978550  chr17_46978484_46978500          chr17         46978498       46978514            -   \n...      ...       ...       ...                      ...            ...              ...            ...          ...   \n27131  chr11  66282584  66282698  chr11_66282634_66282648          chr11         66282648       66282664            -   \n27133   chr3  47475992  47476103   chr3_47476042_47476053           chr3         47476065       47476081            -   \n27134   chr6  30556597  30556713   chr6_30556647_30556663           chr6         30556692       30556708            -   \n27135  chr15  68651206  68651327  chr15_68651256_68651277          chr15         68651272       68651287            -   \n27136  chr15  89358724  89358834  chr15_89358774_89358784          chr15         89358771       89358786            -   \n\n       align_dist_to_signal align_N0_base  align_total_match  align_total_mismatch  align_degen_total_match  \\\n41                       34             T                 15                     2                       15   \n42                        7             T                 15                     2                       15   \n46                        8             T                 11                     6                       16   \n63                        7             T                 14                     3                       15   \n104                      14             G                 14                     3                       16   \n...                     ...           ...                ...                   ...                      ...   \n27131                    14             C                  8                     9                        8   \n27133                    23             C                  8                     9                        8   \n27134                    29             C                  8                     9                        8   \n27135                    16             G                  7                     9                        7   \n27136                   -13             G                  7                     9                        7   \n\n       align_degen_total_mismatch  align_degen_num  align_total_gap  align_score   align_target_seq  \\\n41                              2                0                0         77.0  TCCGCGGCGGGGCGGTC   \n42                              2                0                0         77.0  TACGCGGCGGGGCCGCC   \n46                              1                5                0         76.0  TAGACAGCGAAACTGTC   \n63                              2                1                0         75.0  TACACGTCGGGGCTGTA   \n104                             1                2                0         72.0  GACGCGGCGAGACTGTC   \n...                           ...              ...              ...          ...                ...   \n27131                           9                0                0          4.0  CCACATGTGGCCGCCAG   \n27133                           9                0                0          4.0  CCATACTTCCCTCCGGT   \n27134                           9                0                0          4.0  CCACTAAGGTCAAGCCC   \n27135                           9                0                0         -1.0   GCCCAGCCCTGACCAC   \n27136                           9                0                0         -1.0   GTCCAACAGCGCCCTC   \n\n        align_info_state    align_query_seq                                file_info                      <sample>  \\\n41     |X|||||||||||X|||  TACGCGGCGGGGCTGTC  ../art/DetectSeq_SIRT6-DddA11_REP-2_...  DetectSeq_SIRT6-DddA11_REP-2   \n42     |||||||||||||X|X|  TACGCGGCGGGGCTGTC  ../art/DetectSeq_SIRT6-DddA11_REP-1_...  DetectSeq_SIRT6-DddA11_REP-1   \n46     ||X.|.|||...|||||  TACGCGGCGGGGCTGTC  ../art/DetectSeq_SIRT6-DddA11_REP-2_...  DetectSeq_SIRT6-DddA11_REP-2   \n63     |||.||X|||||||||X  TACGCGGCGGGGCTGTC  ../art/DetectSeq_SIRT6-DddA11_REP-2_...  DetectSeq_SIRT6-DddA11_REP-2   \n104    X||||||||.|.|||||  TACGCGGCGGGGCTGTC  ../art/DetectSeq_SIRT6-DddA11_REP-2_...  DetectSeq_SIRT6-DddA11_REP-2   \n...                  ...                ...                                      ...                           ...   \n27131  |||XX|X||X|XX|XXX  CCATTTCTGTCATCGTA  ../art/DetectSeq_JAK2-DddA11_REP-1_T...   DetectSeq_JAK2-DddA11_REP-1   \n27133  ||||XXX|XX|XX||XX  CCATTTCTGTCATCGTA  ../art/DetectSeq_JAK2-DddA11_REP-1_T...   DetectSeq_JAK2-DddA11_REP-1   \n27134  |||X|XXX||||XXXXX  CCATTTCTGTCATCGTA  ../art/DetectSeq_JAK2-DddA11_REP-1_T...   DetectSeq_JAK2-DddA11_REP-1   \n27135   XXXX|X|X|XX||X||   ATTAAACACAAACTAC  ../art/DetectSeq_ATP8-DddA11_REP-1_T...   DetectSeq_ATP8-DddA11_REP-1   \n27136   X|XX||||XXXX|XX|   ATTAAACACAAACTAC  ../art/DetectSeq_ATP8-DddA11_REP-1_T...   DetectSeq_ATP8-DddA11_REP-1   \n\n      TAS-Dep_stat     id  \n41            Left     41  \n42            Left     42  \n46            Left     46  \n63            Left     63  \n104           Left    104  \n...            ...    ...  \n27131        Right  27131  \n27133        Right  27133  \n27134        Right  27134  \n27135         Left  27135  \n27136         Left  27136  \n\n[3185 rows x 24 columns]",
      "text/html": "<div>\n<style scoped>\n    .dataframe tbody tr th:only-of-type {\n        vertical-align: middle;\n    }\n\n    .dataframe tbody tr th {\n        vertical-align: top;\n    }\n\n    .dataframe thead th {\n        text-align: right;\n    }\n</style>\n<table border=\"1\" class=\"dataframe\">\n  <thead>\n    <tr style=\"text-align: right;\">\n      <th></th>\n      <th>chrom</th>\n      <th>start</th>\n      <th>end</th>\n      <th>region_index</th>\n      <th>align_chr_name</th>\n      <th>align_chr_start</th>\n      <th>align_chr_end</th>\n      <th>align_strand</th>\n      <th>align_dist_to_signal</th>\n      <th>align_N0_base</th>\n      <th>align_total_match</th>\n      <th>align_total_mismatch</th>\n      <th>align_degen_total_match</th>\n      <th>align_degen_total_mismatch</th>\n      <th>align_degen_num</th>\n      <th>align_total_gap</th>\n      <th>align_score</th>\n      <th>align_target_seq</th>\n      <th>align_info_state</th>\n      <th>align_query_seq</th>\n      <th>file_info</th>\n      <th>&lt;sample&gt;</th>\n      <th>TAS-Dep_stat</th>\n      <th>id</th>\n    </tr>\n  </thead>\n  <tbody>\n    <tr>\n      <th>41</th>\n      <td>chr16</td>\n      <td>813606</td>\n      <td>813742</td>\n      <td>chr16_813656_813692</td>\n      <td>chr16</td>\n      <td>813690</td>\n      <td>813706</td>\n      <td>-</td>\n      <td>34</td>\n      <td>T</td>\n      <td>15</td>\n      <td>2</td>\n      <td>15</td>\n      <td>2</td>\n      <td>0</td>\n      <td>0</td>\n      <td>77.0</td>\n      <td>TCCGCGGCGGGGCGGTC</td>\n      <td>|X|||||||||||X|||</td>\n      <td>TACGCGGCGGGGCTGTC</td>\n      <td>../art/DetectSeq_SIRT6-DddA11_REP-2_...</td>\n      <td>DetectSeq_SIRT6-DddA11_REP-2</td>\n      <td>Left</td>\n      <td>41</td>\n    </tr>\n    <tr>\n      <th>42</th>\n      <td>chr8</td>\n      <td>38787611</td>\n      <td>38787720</td>\n      <td>chr8_38787661_38787670</td>\n      <td>chr8</td>\n      <td>38787647</td>\n      <td>38787663</td>\n      <td>+</td>\n      <td>7</td>\n      <td>T</td>\n      <td>15</td>\n      <td>2</td>\n      <td>15</td>\n      <td>2</td>\n      <td>0</td>\n      <td>0</td>\n      <td>77.0</td>\n      <td>TACGCGGCGGGGCCGCC</td>\n      <td>|||||||||||||X|X|</td>\n      <td>TACGCGGCGGGGCTGTC</td>\n      <td>../art/DetectSeq_SIRT6-DddA11_REP-1_...</td>\n      <td>DetectSeq_SIRT6-DddA11_REP-1</td>\n      <td>Left</td>\n      <td>42</td>\n    </tr>\n    <tr>\n      <th>46</th>\n      <td>chr17</td>\n      <td>19513922</td>\n      <td>19514081</td>\n      <td>chr17_19513972_19514031</td>\n      <td>chr17</td>\n      <td>19514039</td>\n      <td>19514055</td>\n      <td>-</td>\n      <td>8</td>\n      <td>T</td>\n      <td>11</td>\n      <td>6</td>\n      <td>16</td>\n      <td>1</td>\n      <td>5</td>\n      <td>0</td>\n      <td>76.0</td>\n      <td>TAGACAGCGAAACTGTC</td>\n      <td>||X.|.|||...|||||</td>\n      <td>TACGCGGCGGGGCTGTC</td>\n      <td>../art/DetectSeq_SIRT6-DddA11_REP-2_...</td>\n      <td>DetectSeq_SIRT6-DddA11_REP-2</td>\n      <td>Left</td>\n      <td>46</td>\n    </tr>\n    <tr>\n      <th>63</th>\n      <td>chr16</td>\n      <td>1413823</td>\n      <td>1413967</td>\n      <td>chr16_1413873_1413917</td>\n      <td>chr16</td>\n      <td>1413894</td>\n      <td>1413910</td>\n      <td>+</td>\n      <td>7</td>\n      <td>T</td>\n      <td>14</td>\n      <td>3</td>\n      <td>15</td>\n      <td>2</td>\n      <td>1</td>\n      <td>0</td>\n      <td>75.0</td>\n      <td>TACACGTCGGGGCTGTA</td>\n      <td>|||.||X|||||||||X</td>\n      <td>TACGCGGCGGGGCTGTC</td>\n      <td>../art/DetectSeq_SIRT6-DddA11_REP-2_...</td>\n      <td>DetectSeq_SIRT6-DddA11_REP-2</td>\n      <td>Left</td>\n      <td>63</td>\n    </tr>\n    <tr>\n      <th>104</th>\n      <td>chr17</td>\n      <td>46978434</td>\n      <td>46978550</td>\n      <td>chr17_46978484_46978500</td>\n      <td>chr17</td>\n      <td>46978498</td>\n      <td>46978514</td>\n      <td>-</td>\n      <td>14</td>\n      <td>G</td>\n      <td>14</td>\n      <td>3</td>\n      <td>16</td>\n      <td>1</td>\n      <td>2</td>\n      <td>0</td>\n      <td>72.0</td>\n      <td>GACGCGGCGAGACTGTC</td>\n      <td>X||||||||.|.|||||</td>\n      <td>TACGCGGCGGGGCTGTC</td>\n      <td>../art/DetectSeq_SIRT6-DddA11_REP-2_...</td>\n      <td>DetectSeq_SIRT6-DddA11_REP-2</td>\n      <td>Left</td>\n      <td>104</td>\n    </tr>\n    <tr>\n      <th>...</th>\n      <td>...</td>\n      <td>...</td>\n      <td>...</td>\n      <td>...</td>\n      <td>...</td>\n      <td>...</td>\n      <td>...</td>\n      <td>...</td>\n      <td>...</td>\n      <td>...</td>\n      <td>...</td>\n      <td>...</td>\n      <td>...</td>\n      <td>...</td>\n      <td>...</td>\n      <td>...</td>\n      <td>...</td>\n      <td>...</td>\n      <td>...</td>\n      <td>...</td>\n      <td>...</td>\n      <td>...</td>\n      <td>...</td>\n      <td>...</td>\n    </tr>\n    <tr>\n      <th>27131</th>\n      <td>chr11</td>\n      <td>66282584</td>\n      <td>66282698</td>\n      <td>chr11_66282634_66282648</td>\n      <td>chr11</td>\n      <td>66282648</td>\n      <td>66282664</td>\n      <td>-</td>\n      <td>14</td>\n      <td>C</td>\n      <td>8</td>\n      <td>9</td>\n      <td>8</td>\n      <td>9</td>\n      <td>0</td>\n      <td>0</td>\n      <td>4.0</td>\n      <td>CCACATGTGGCCGCCAG</td>\n      <td>|||XX|X||X|XX|XXX</td>\n      <td>CCATTTCTGTCATCGTA</td>\n      <td>../art/DetectSeq_JAK2-DddA11_REP-1_T...</td>\n      <td>DetectSeq_JAK2-DddA11_REP-1</td>\n      <td>Right</td>\n      <td>27131</td>\n    </tr>\n    <tr>\n      <th>27133</th>\n      <td>chr3</td>\n      <td>47475992</td>\n      <td>47476103</td>\n      <td>chr3_47476042_47476053</td>\n      <td>chr3</td>\n      <td>47476065</td>\n      <td>47476081</td>\n      <td>-</td>\n      <td>23</td>\n      <td>C</td>\n      <td>8</td>\n      <td>9</td>\n      <td>8</td>\n      <td>9</td>\n      <td>0</td>\n      <td>0</td>\n      <td>4.0</td>\n      <td>CCATACTTCCCTCCGGT</td>\n      <td>||||XXX|XX|XX||XX</td>\n      <td>CCATTTCTGTCATCGTA</td>\n      <td>../art/DetectSeq_JAK2-DddA11_REP-1_T...</td>\n      <td>DetectSeq_JAK2-DddA11_REP-1</td>\n      <td>Right</td>\n      <td>27133</td>\n    </tr>\n    <tr>\n      <th>27134</th>\n      <td>chr6</td>\n      <td>30556597</td>\n      <td>30556713</td>\n      <td>chr6_30556647_30556663</td>\n      <td>chr6</td>\n      <td>30556692</td>\n      <td>30556708</td>\n      <td>-</td>\n      <td>29</td>\n      <td>C</td>\n      <td>8</td>\n      <td>9</td>\n      <td>8</td>\n      <td>9</td>\n      <td>0</td>\n      <td>0</td>\n      <td>4.0</td>\n      <td>CCACTAAGGTCAAGCCC</td>\n      <td>|||X|XXX||||XXXXX</td>\n      <td>CCATTTCTGTCATCGTA</td>\n      <td>../art/DetectSeq_JAK2-DddA11_REP-1_T...</td>\n      <td>DetectSeq_JAK2-DddA11_REP-1</td>\n      <td>Right</td>\n      <td>27134</td>\n    </tr>\n    <tr>\n      <th>27135</th>\n      <td>chr15</td>\n      <td>68651206</td>\n      <td>68651327</td>\n      <td>chr15_68651256_68651277</td>\n      <td>chr15</td>\n      <td>68651272</td>\n      <td>68651287</td>\n      <td>-</td>\n      <td>16</td>\n      <td>G</td>\n      <td>7</td>\n      <td>9</td>\n      <td>7</td>\n      <td>9</td>\n      <td>0</td>\n      <td>0</td>\n      <td>-1.0</td>\n      <td>GCCCAGCCCTGACCAC</td>\n      <td>XXXX|X|X|XX||X||</td>\n      <td>ATTAAACACAAACTAC</td>\n      <td>../art/DetectSeq_ATP8-DddA11_REP-1_T...</td>\n      <td>DetectSeq_ATP8-DddA11_REP-1</td>\n      <td>Left</td>\n      <td>27135</td>\n    </tr>\n    <tr>\n      <th>27136</th>\n      <td>chr15</td>\n      <td>89358724</td>\n      <td>89358834</td>\n      <td>chr15_89358774_89358784</td>\n      <td>chr15</td>\n      <td>89358771</td>\n      <td>89358786</td>\n      <td>-</td>\n      <td>-13</td>\n      <td>G</td>\n      <td>7</td>\n      <td>9</td>\n      <td>7</td>\n      <td>9</td>\n      <td>0</td>\n      <td>0</td>\n      <td>-1.0</td>\n      <td>GTCCAACAGCGCCCTC</td>\n      <td>X|XX||||XXXX|XX|</td>\n      <td>ATTAAACACAAACTAC</td>\n      <td>../art/DetectSeq_ATP8-DddA11_REP-1_T...</td>\n      <td>DetectSeq_ATP8-DddA11_REP-1</td>\n      <td>Left</td>\n      <td>27136</td>\n    </tr>\n  </tbody>\n</table>\n<p>3185 rows × 24 columns</p>\n</div>"
     },
     "execution_count": 28,
     "metadata": {},
     "output_type": "execute_result"
    }
   ],
   "source": [
    "df_arts_tas_indep"
   ],
   "metadata": {
    "collapsed": false,
    "ExecuteTime": {
     "end_time": "2023-08-15T17:37:09.563790Z",
     "start_time": "2023-08-15T17:37:09.557719Z"
    }
   },
   "id": "93422f5b259efe9b"
  },
  {
   "cell_type": "markdown",
   "source": [
    "### get Seqinfo for TAS-independent off-target\n",
    "\n",
    "用来生成weblogo（使用sublime或者cut -c 1-x 完成trim，修剪到长度一致）"
   ],
   "metadata": {
    "collapsed": false
   },
   "id": "c904f06970821873"
  },
  {
   "cell_type": "markdown",
   "source": [
    "#### tas-indep ± 200 bp to call motif"
   ],
   "metadata": {
    "collapsed": false
   },
   "id": "3412f1913307015f"
  },
  {
   "cell_type": "code",
   "execution_count": 29,
   "outputs": [
    {
     "data": {
      "text/plain": "      chrom     start       end\n0     chr16    813456    813892\n1      chr8  38787461  38787870\n2     chr17  19513772  19514231\n3     chr16   1413673   1414117\n4     chr17  46978284  46978700\n...     ...       ...       ...\n1100  chr17  28750067  28750482\n1101   chr3  47475842  47476253\n1102  chr19   4186403   4186832\n1103  chr19  10492072  10492482\n1104  chr19   3821857   3822271\n\n[1105 rows x 3 columns]",
      "text/html": "<div>\n<style scoped>\n    .dataframe tbody tr th:only-of-type {\n        vertical-align: middle;\n    }\n\n    .dataframe tbody tr th {\n        vertical-align: top;\n    }\n\n    .dataframe thead th {\n        text-align: right;\n    }\n</style>\n<table border=\"1\" class=\"dataframe\">\n  <thead>\n    <tr style=\"text-align: right;\">\n      <th></th>\n      <th>chrom</th>\n      <th>start</th>\n      <th>end</th>\n    </tr>\n  </thead>\n  <tbody>\n    <tr>\n      <th>0</th>\n      <td>chr16</td>\n      <td>813456</td>\n      <td>813892</td>\n    </tr>\n    <tr>\n      <th>1</th>\n      <td>chr8</td>\n      <td>38787461</td>\n      <td>38787870</td>\n    </tr>\n    <tr>\n      <th>2</th>\n      <td>chr17</td>\n      <td>19513772</td>\n      <td>19514231</td>\n    </tr>\n    <tr>\n      <th>3</th>\n      <td>chr16</td>\n      <td>1413673</td>\n      <td>1414117</td>\n    </tr>\n    <tr>\n      <th>4</th>\n      <td>chr17</td>\n      <td>46978284</td>\n      <td>46978700</td>\n    </tr>\n    <tr>\n      <th>...</th>\n      <td>...</td>\n      <td>...</td>\n      <td>...</td>\n    </tr>\n    <tr>\n      <th>1100</th>\n      <td>chr17</td>\n      <td>28750067</td>\n      <td>28750482</td>\n    </tr>\n    <tr>\n      <th>1101</th>\n      <td>chr3</td>\n      <td>47475842</td>\n      <td>47476253</td>\n    </tr>\n    <tr>\n      <th>1102</th>\n      <td>chr19</td>\n      <td>4186403</td>\n      <td>4186832</td>\n    </tr>\n    <tr>\n      <th>1103</th>\n      <td>chr19</td>\n      <td>10492072</td>\n      <td>10492482</td>\n    </tr>\n    <tr>\n      <th>1104</th>\n      <td>chr19</td>\n      <td>3821857</td>\n      <td>3822271</td>\n    </tr>\n  </tbody>\n</table>\n<p>1105 rows × 3 columns</p>\n</div>"
     },
     "execution_count": 29,
     "metadata": {},
     "output_type": "execute_result"
    }
   ],
   "source": [
    "df_coor_tas_indep = pd.Series(df_arts_tas_indep['region_index'].unique()).str.split('_', expand=True)\n",
    "df_coor_tas_indep.columns = ['chrom', 'start', 'end']\n",
    "# 为了查找CTCF的motif，前后扩展200BP\n",
    "df_coor_tas_indep[['start', 'end']] = df_coor_tas_indep[['start', 'end']].astype(int)\n",
    "df_coor_tas_indep['start'] = df_coor_tas_indep['start'] - 200\n",
    "df_coor_tas_indep['end'] = df_coor_tas_indep['end'] + 200\n",
    "df_coor_tas_indep"
   ],
   "metadata": {
    "collapsed": false,
    "ExecuteTime": {
     "end_time": "2023-08-15T17:37:14.517765Z",
     "start_time": "2023-08-15T17:37:14.505756Z"
    }
   },
   "id": "7299b36c75bf3bb6"
  },
  {
   "cell_type": "code",
   "execution_count": 30,
   "outputs": [
    {
     "data": {
      "text/plain": "<Axes: >"
     },
     "execution_count": 30,
     "metadata": {},
     "output_type": "execute_result"
    },
    {
     "data": {
      "text/plain": "<Figure size 640x480 with 1 Axes>",
      "image/png": "[encoded data removed]"
     },
     "metadata": {},
     "output_type": "display_data"
    }
   ],
   "source": [
    "(df_coor_tas_indep['end'] - df_coor_tas_indep['start']).plot(kind='box')"
   ],
   "metadata": {
    "collapsed": false,
    "ExecuteTime": {
     "end_time": "2023-08-15T17:37:15.206114Z",
     "start_time": "2023-08-15T17:37:15.124707Z"
    }
   },
   "id": "7fef738dcade069e"
  },
  {
   "cell_type": "code",
   "execution_count": 31,
   "outputs": [
    {
     "data": {
      "text/plain": "<BedTool(/var/folders/79/yd907p9x4537vqhgfrm0md680000gn/T/pybedtools.w05ojosv.tmp)>"
     },
     "execution_count": 31,
     "metadata": {},
     "output_type": "execute_result"
    }
   ],
   "source": [
    "bed_tas_indep = BedTool().from_dataframe(df_coor_tas_indep)\n",
    "bed_tas_indep\n",
    "# print(bed_tas_indep)"
   ],
   "metadata": {
    "collapsed": false,
    "ExecuteTime": {
     "end_time": "2023-08-15T17:37:16.786834Z",
     "start_time": "2023-08-15T17:37:16.773907Z"
    }
   },
   "id": "1b509dd30b8c683a"
  },
  {
   "cell_type": "markdown",
   "source": [
    "#### getfasta use bed obj and genome.fa ± 200bp"
   ],
   "metadata": {
    "collapsed": false
   },
   "id": "16c896aca126b7e8"
  },
  {
   "cell_type": "code",
   "execution_count": 32,
   "outputs": [
    {
     "name": "stderr",
     "output_type": "stream",
     "text": [
      "Warning: the index file is older than the FASTA file.\n"
     ]
    },
    {
     "data": {
      "text/plain": "      chrom     start       end             region_index align_chr_name  align_chr_start  align_chr_end align_strand  \\\n0     chr16    813606    813742      chr16_813656_813692          chr16           813690         813706            -   \n1      chr8  38787611  38787720   chr8_38787661_38787670           chr8         38787647       38787663            +   \n2     chr17  19513922  19514081  chr17_19513972_19514031          chr17         19514039       19514055            -   \n3     chr16   1413823   1413967    chr16_1413873_1413917          chr16          1413894        1413910            +   \n4     chr17  46978434  46978550  chr17_46978484_46978500          chr17         46978498       46978514            -   \n...     ...       ...       ...                      ...            ...              ...            ...          ...   \n3180  chr11  66282584  66282698  chr11_66282634_66282648          chr11         66282648       66282664            -   \n3181   chr3  47475992  47476103   chr3_47476042_47476053           chr3         47476065       47476081            -   \n3182   chr6  30556597  30556713   chr6_30556647_30556663           chr6         30556692       30556708            -   \n3183  chr15  68651206  68651327  chr15_68651256_68651277          chr15         68651272       68651287            -   \n3184  chr15  89358724  89358834  chr15_89358774_89358784          chr15         89358771       89358786            -   \n\n      align_dist_to_signal align_N0_base  align_total_match  align_total_mismatch  align_degen_total_match  \\\n0                       34             T                 15                     2                       15   \n1                        7             T                 15                     2                       15   \n2                        8             T                 11                     6                       16   \n3                        7             T                 14                     3                       15   \n4                       14             G                 14                     3                       16   \n...                    ...           ...                ...                   ...                      ...   \n3180                    14             C                  8                     9                        8   \n3181                    23             C                  8                     9                        8   \n3182                    29             C                  8                     9                        8   \n3183                    16             G                  7                     9                        7   \n3184                   -13             G                  7                     9                        7   \n\n      align_degen_total_mismatch  align_degen_num  align_total_gap  align_score   align_target_seq   align_info_state  \\\n0                              2                0                0         77.0  TCCGCGGCGGGGCGGTC  |X|||||||||||X|||   \n1                              2                0                0         77.0  TACGCGGCGGGGCCGCC  |||||||||||||X|X|   \n2                              1                5                0         76.0  TAGACAGCGAAACTGTC  ||X.|.|||...|||||   \n3                              2                1                0         75.0  TACACGTCGGGGCTGTA  |||.||X|||||||||X   \n4                              1                2                0         72.0  GACGCGGCGAGACTGTC  X||||||||.|.|||||   \n...                          ...              ...              ...          ...                ...                ...   \n3180                           9                0                0          4.0  CCACATGTGGCCGCCAG  |||XX|X||X|XX|XXX   \n3181                           9                0                0          4.0  CCATACTTCCCTCCGGT  ||||XXX|XX|XX||XX   \n3182                           9                0                0          4.0  CCACTAAGGTCAAGCCC  |||X|XXX||||XXXXX   \n3183                           9                0                0         -1.0   GCCCAGCCCTGACCAC   XXXX|X|X|XX||X||   \n3184                           9                0                0         -1.0   GTCCAACAGCGCCCTC   X|XX||||XXXX|XX|   \n\n        align_query_seq                                file_info                      <sample> TAS-Dep_stat     id  \\\n0     TACGCGGCGGGGCTGTC  ../art/DetectSeq_SIRT6-DddA11_REP-2_...  DetectSeq_SIRT6-DddA11_REP-2         Left     41   \n1     TACGCGGCGGGGCTGTC  ../art/DetectSeq_SIRT6-DddA11_REP-1_...  DetectSeq_SIRT6-DddA11_REP-1         Left     42   \n2     TACGCGGCGGGGCTGTC  ../art/DetectSeq_SIRT6-DddA11_REP-2_...  DetectSeq_SIRT6-DddA11_REP-2         Left     46   \n3     TACGCGGCGGGGCTGTC  ../art/DetectSeq_SIRT6-DddA11_REP-2_...  DetectSeq_SIRT6-DddA11_REP-2         Left     63   \n4     TACGCGGCGGGGCTGTC  ../art/DetectSeq_SIRT6-DddA11_REP-2_...  DetectSeq_SIRT6-DddA11_REP-2         Left    104   \n...                 ...                                      ...                           ...          ...    ...   \n3180  CCATTTCTGTCATCGTA  ../art/DetectSeq_JAK2-DddA11_REP-1_T...   DetectSeq_JAK2-DddA11_REP-1        Right  27131   \n3181  CCATTTCTGTCATCGTA  ../art/DetectSeq_JAK2-DddA11_REP-1_T...   DetectSeq_JAK2-DddA11_REP-1        Right  27133   \n3182  CCATTTCTGTCATCGTA  ../art/DetectSeq_JAK2-DddA11_REP-1_T...   DetectSeq_JAK2-DddA11_REP-1        Right  27134   \n3183   ATTAAACACAAACTAC  ../art/DetectSeq_ATP8-DddA11_REP-1_T...   DetectSeq_ATP8-DddA11_REP-1         Left  27135   \n3184   ATTAAACACAAACTAC  ../art/DetectSeq_ATP8-DddA11_REP-1_T...   DetectSeq_ATP8-DddA11_REP-1         Left  27136   \n\n     ctcf_chrom  ctcf_start  ctcf_end                                 sequence  \n0         chr16      813456    813892  GCAAGTGCCCGGAGCTCTCGGCCATCATGTGCGAAT...  \n1          chr8    38787461  38787870  CGCGCCTCTGCTGGAAACGCTTGCTGGCGCCTGTCA...  \n2         chr17    19513772  19514231  TAGAATTATTAATATTTCCAAGGCTAAGAAACTCAT...  \n3         chr16     1413673   1414117  GAAATGCCGCCCCAGCATCCCTGGTCACTAGAAAAT...  \n4         chr17    46978284  46978700  CACCCGCACCAACGTACACACAAAACTCCCACGCGA...  \n...         ...         ...       ...                                      ...  \n3180      chr11    66282434  66282848  GGCCATGCCCCCTTCCTCTCTGTCTCCGCCCCCAGC...  \n3181       chr3    47475842  47476253  CGACGGGGGCGGCAGCAGGGGCGGAGCGCGGCGTGC...  \n3182       chr6    30556447  30556863  GAGAGCCAGTGGCACCGAGAGGGCGCCCCGGCGGCG...  \n3183      chr15    68651056  68651477  AAGGAATGGCGAGGGGTGGGGTGGGTTACTGACTCC...  \n3184      chr15    89358574  89358984  TTCCTGACCTGTAGTGGTTGAGAGGCAAAGAGGTGC...  \n\n[3185 rows x 28 columns]",
      "text/html": "<div>\n<style scoped>\n    .dataframe tbody tr th:only-of-type {\n        vertical-align: middle;\n    }\n\n    .dataframe tbody tr th {\n        vertical-align: top;\n    }\n\n    .dataframe thead th {\n        text-align: right;\n    }\n</style>\n<table border=\"1\" class=\"dataframe\">\n  <thead>\n    <tr style=\"text-align: right;\">\n      <th></th>\n      <th>chrom</th>\n      <th>start</th>\n      <th>end</th>\n      <th>region_index</th>\n      <th>align_chr_name</th>\n      <th>align_chr_start</th>\n      <th>align_chr_end</th>\n      <th>align_strand</th>\n      <th>align_dist_to_signal</th>\n      <th>align_N0_base</th>\n      <th>align_total_match</th>\n      <th>align_total_mismatch</th>\n      <th>align_degen_total_match</th>\n      <th>align_degen_total_mismatch</th>\n      <th>align_degen_num</th>\n      <th>align_total_gap</th>\n      <th>align_score</th>\n      <th>align_target_seq</th>\n      <th>align_info_state</th>\n      <th>align_query_seq</th>\n      <th>file_info</th>\n      <th>&lt;sample&gt;</th>\n      <th>TAS-Dep_stat</th>\n      <th>id</th>\n      <th>ctcf_chrom</th>\n      <th>ctcf_start</th>\n      <th>ctcf_end</th>\n      <th>sequence</th>\n    </tr>\n  </thead>\n  <tbody>\n    <tr>\n      <th>0</th>\n      <td>chr16</td>\n      <td>813606</td>\n      <td>813742</td>\n      <td>chr16_813656_813692</td>\n      <td>chr16</td>\n      <td>813690</td>\n      <td>813706</td>\n      <td>-</td>\n      <td>34</td>\n      <td>T</td>\n      <td>15</td>\n      <td>2</td>\n      <td>15</td>\n      <td>2</td>\n      <td>0</td>\n      <td>0</td>\n      <td>77.0</td>\n      <td>TCCGCGGCGGGGCGGTC</td>\n      <td>|X|||||||||||X|||</td>\n      <td>TACGCGGCGGGGCTGTC</td>\n      <td>../art/DetectSeq_SIRT6-DddA11_REP-2_...</td>\n      <td>DetectSeq_SIRT6-DddA11_REP-2</td>\n      <td>Left</td>\n      <td>41</td>\n      <td>chr16</td>\n      <td>813456</td>\n      <td>813892</td>\n      <td>GCAAGTGCCCGGAGCTCTCGGCCATCATGTGCGAAT...</td>\n    </tr>\n    <tr>\n      <th>1</th>\n      <td>chr8</td>\n      <td>38787611</td>\n      <td>38787720</td>\n      <td>chr8_38787661_38787670</td>\n      <td>chr8</td>\n      <td>38787647</td>\n      <td>38787663</td>\n      <td>+</td>\n      <td>7</td>\n      <td>T</td>\n      <td>15</td>\n      <td>2</td>\n      <td>15</td>\n      <td>2</td>\n      <td>0</td>\n      <td>0</td>\n      <td>77.0</td>\n      <td>TACGCGGCGGGGCCGCC</td>\n      <td>|||||||||||||X|X|</td>\n      <td>TACGCGGCGGGGCTGTC</td>\n      <td>../art/DetectSeq_SIRT6-DddA11_REP-1_...</td>\n      <td>DetectSeq_SIRT6-DddA11_REP-1</td>\n      <td>Left</td>\n      <td>42</td>\n      <td>chr8</td>\n      <td>38787461</td>\n      <td>38787870</td>\n      <td>CGCGCCTCTGCTGGAAACGCTTGCTGGCGCCTGTCA...</td>\n    </tr>\n    <tr>\n      <th>2</th>\n      <td>chr17</td>\n      <td>19513922</td>\n      <td>19514081</td>\n      <td>chr17_19513972_19514031</td>\n      <td>chr17</td>\n      <td>19514039</td>\n      <td>19514055</td>\n      <td>-</td>\n      <td>8</td>\n      <td>T</td>\n      <td>11</td>\n      <td>6</td>\n      <td>16</td>\n      <td>1</td>\n      <td>5</td>\n      <td>0</td>\n      <td>76.0</td>\n      <td>TAGACAGCGAAACTGTC</td>\n      <td>||X.|.|||...|||||</td>\n      <td>TACGCGGCGGGGCTGTC</td>\n      <td>../art/DetectSeq_SIRT6-DddA11_REP-2_...</td>\n      <td>DetectSeq_SIRT6-DddA11_REP-2</td>\n      <td>Left</td>\n      <td>46</td>\n      <td>chr17</td>\n      <td>19513772</td>\n      <td>19514231</td>\n      <td>TAGAATTATTAATATTTCCAAGGCTAAGAAACTCAT...</td>\n    </tr>\n    <tr>\n      <th>3</th>\n      <td>chr16</td>\n      <td>1413823</td>\n      <td>1413967</td>\n      <td>chr16_1413873_1413917</td>\n      <td>chr16</td>\n      <td>1413894</td>\n      <td>1413910</td>\n      <td>+</td>\n      <td>7</td>\n      <td>T</td>\n      <td>14</td>\n      <td>3</td>\n      <td>15</td>\n      <td>2</td>\n      <td>1</td>\n      <td>0</td>\n      <td>75.0</td>\n      <td>TACACGTCGGGGCTGTA</td>\n      <td>|||.||X|||||||||X</td>\n      <td>TACGCGGCGGGGCTGTC</td>\n      <td>../art/DetectSeq_SIRT6-DddA11_REP-2_...</td>\n      <td>DetectSeq_SIRT6-DddA11_REP-2</td>\n      <td>Left</td>\n      <td>63</td>\n      <td>chr16</td>\n      <td>1413673</td>\n      <td>1414117</td>\n      <td>GAAATGCCGCCCCAGCATCCCTGGTCACTAGAAAAT...</td>\n    </tr>\n    <tr>\n      <th>4</th>\n      <td>chr17</td>\n      <td>46978434</td>\n      <td>46978550</td>\n      <td>chr17_46978484_46978500</td>\n      <td>chr17</td>\n      <td>46978498</td>\n      <td>46978514</td>\n      <td>-</td>\n      <td>14</td>\n      <td>G</td>\n      <td>14</td>\n      <td>3</td>\n      <td>16</td>\n      <td>1</td>\n      <td>2</td>\n      <td>0</td>\n      <td>72.0</td>\n      <td>GACGCGGCGAGACTGTC</td>\n      <td>X||||||||.|.|||||</td>\n      <td>TACGCGGCGGGGCTGTC</td>\n      <td>../art/DetectSeq_SIRT6-DddA11_REP-2_...</td>\n      <td>DetectSeq_SIRT6-DddA11_REP-2</td>\n      <td>Left</td>\n      <td>104</td>\n      <td>chr17</td>\n      <td>46978284</td>\n      <td>46978700</td>\n      <td>CACCCGCACCAACGTACACACAAAACTCCCACGCGA...</td>\n    </tr>\n    <tr>\n      <th>...</th>\n      <td>...</td>\n      <td>...</td>\n      <td>...</td>\n      <td>...</td>\n      <td>...</td>\n      <td>...</td>\n      <td>...</td>\n      <td>...</td>\n      <td>...</td>\n      <td>...</td>\n      <td>...</td>\n      <td>...</td>\n      <td>...</td>\n      <td>...</td>\n      <td>...</td>\n      <td>...</td>\n      <td>...</td>\n      <td>...</td>\n      <td>...</td>\n      <td>...</td>\n      <td>...</td>\n      <td>...</td>\n      <td>...</td>\n      <td>...</td>\n      <td>...</td>\n      <td>...</td>\n      <td>...</td>\n      <td>...</td>\n    </tr>\n    <tr>\n      <th>3180</th>\n      <td>chr11</td>\n      <td>66282584</td>\n      <td>66282698</td>\n      <td>chr11_66282634_66282648</td>\n      <td>chr11</td>\n      <td>66282648</td>\n      <td>66282664</td>\n      <td>-</td>\n      <td>14</td>\n      <td>C</td>\n      <td>8</td>\n      <td>9</td>\n      <td>8</td>\n      <td>9</td>\n      <td>0</td>\n      <td>0</td>\n      <td>4.0</td>\n      <td>CCACATGTGGCCGCCAG</td>\n      <td>|||XX|X||X|XX|XXX</td>\n      <td>CCATTTCTGTCATCGTA</td>\n      <td>../art/DetectSeq_JAK2-DddA11_REP-1_T...</td>\n      <td>DetectSeq_JAK2-DddA11_REP-1</td>\n      <td>Right</td>\n      <td>27131</td>\n      <td>chr11</td>\n      <td>66282434</td>\n      <td>66282848</td>\n      <td>GGCCATGCCCCCTTCCTCTCTGTCTCCGCCCCCAGC...</td>\n    </tr>\n    <tr>\n      <th>3181</th>\n      <td>chr3</td>\n      <td>47475992</td>\n      <td>47476103</td>\n      <td>chr3_47476042_47476053</td>\n      <td>chr3</td>\n      <td>47476065</td>\n      <td>47476081</td>\n      <td>-</td>\n      <td>23</td>\n      <td>C</td>\n      <td>8</td>\n      <td>9</td>\n      <td>8</td>\n      <td>9</td>\n      <td>0</td>\n      <td>0</td>\n      <td>4.0</td>\n      <td>CCATACTTCCCTCCGGT</td>\n      <td>||||XXX|XX|XX||XX</td>\n      <td>CCATTTCTGTCATCGTA</td>\n      <td>../art/DetectSeq_JAK2-DddA11_REP-1_T...</td>\n      <td>DetectSeq_JAK2-DddA11_REP-1</td>\n      <td>Right</td>\n      <td>27133</td>\n      <td>chr3</td>\n      <td>47475842</td>\n      <td>47476253</td>\n      <td>CGACGGGGGCGGCAGCAGGGGCGGAGCGCGGCGTGC...</td>\n    </tr>\n    <tr>\n      <th>3182</th>\n      <td>chr6</td>\n      <td>30556597</td>\n      <td>30556713</td>\n      <td>chr6_30556647_30556663</td>\n      <td>chr6</td>\n      <td>30556692</td>\n      <td>30556708</td>\n      <td>-</td>\n      <td>29</td>\n      <td>C</td>\n      <td>8</td>\n      <td>9</td>\n      <td>8</td>\n      <td>9</td>\n      <td>0</td>\n      <td>0</td>\n      <td>4.0</td>\n      <td>CCACTAAGGTCAAGCCC</td>\n      <td>|||X|XXX||||XXXXX</td>\n      <td>CCATTTCTGTCATCGTA</td>\n      <td>../art/DetectSeq_JAK2-DddA11_REP-1_T...</td>\n      <td>DetectSeq_JAK2-DddA11_REP-1</td>\n      <td>Right</td>\n      <td>27134</td>\n      <td>chr6</td>\n      <td>30556447</td>\n      <td>30556863</td>\n      <td>GAGAGCCAGTGGCACCGAGAGGGCGCCCCGGCGGCG...</td>\n    </tr>\n    <tr>\n      <th>3183</th>\n      <td>chr15</td>\n      <td>68651206</td>\n      <td>68651327</td>\n      <td>chr15_68651256_68651277</td>\n      <td>chr15</td>\n      <td>68651272</td>\n      <td>68651287</td>\n      <td>-</td>\n      <td>16</td>\n      <td>G</td>\n      <td>7</td>\n      <td>9</td>\n      <td>7</td>\n      <td>9</td>\n      <td>0</td>\n      <td>0</td>\n      <td>-1.0</td>\n      <td>GCCCAGCCCTGACCAC</td>\n      <td>XXXX|X|X|XX||X||</td>\n      <td>ATTAAACACAAACTAC</td>\n      <td>../art/DetectSeq_ATP8-DddA11_REP-1_T...</td>\n      <td>DetectSeq_ATP8-DddA11_REP-1</td>\n      <td>Left</td>\n      <td>27135</td>\n      <td>chr15</td>\n      <td>68651056</td>\n      <td>68651477</td>\n      <td>AAGGAATGGCGAGGGGTGGGGTGGGTTACTGACTCC...</td>\n    </tr>\n    <tr>\n      <th>3184</th>\n      <td>chr15</td>\n      <td>89358724</td>\n      <td>89358834</td>\n      <td>chr15_89358774_89358784</td>\n      <td>chr15</td>\n      <td>89358771</td>\n      <td>89358786</td>\n      <td>-</td>\n      <td>-13</td>\n      <td>G</td>\n      <td>7</td>\n      <td>9</td>\n      <td>7</td>\n      <td>9</td>\n      <td>0</td>\n      <td>0</td>\n      <td>-1.0</td>\n      <td>GTCCAACAGCGCCCTC</td>\n      <td>X|XX||||XXXX|XX|</td>\n      <td>ATTAAACACAAACTAC</td>\n      <td>../art/DetectSeq_ATP8-DddA11_REP-1_T...</td>\n      <td>DetectSeq_ATP8-DddA11_REP-1</td>\n      <td>Left</td>\n      <td>27136</td>\n      <td>chr15</td>\n      <td>89358574</td>\n      <td>89358984</td>\n      <td>TTCCTGACCTGTAGTGGTTGAGAGGCAAAGAGGTGC...</td>\n    </tr>\n  </tbody>\n</table>\n<p>3185 rows × 28 columns</p>\n</div>"
     },
     "execution_count": 32,
     "metadata": {},
     "output_type": "execute_result"
    }
   ],
   "source": [
    "# 指定参考基因组序列信息，并从中获取每个序列信息\n",
    "fasta_tas_indep = bed_tas_indep.getfasta(\n",
    "    fi=f'{HOME}/1.database/db_genomes/genome_fa/genome_ucsc_hg38/genome_ucsc_hg38.fa')\n",
    "\n",
    "# 将region序列信息转为dataframe\n",
    "df_seqinfo_tas_indep = pd.DataFrame(fasta_tas_indep.print_sequence().split('>')[1:], columns=['info'])\n",
    "df_seqinfo_tas_indep[['coordinate', 'sequence']] = df_seqinfo_tas_indep['info'].str.strip().str.split('\\n', expand=True)\n",
    "\n",
    "# 去掉序列中含有N的 region（可能坐落于端粒或中性粒，影响分析）\n",
    "df_seqinfo_tas_indep = df_seqinfo_tas_indep.query('~sequence.str.upper().str.contains(\"N\")').copy()\n",
    "\n",
    "# 整理dataframe\n",
    "df_seqinfo_tas_indep[['ctcf_chrom', 'ctcf_start', 'ctcf_end']] = (\n",
    "    df_seqinfo_tas_indep['coordinate']\n",
    "    .str.replace(':', '\\t')\n",
    "    .str.replace('-', '\\t')\n",
    "    .str.split('\\t', expand=True)\n",
    ")\n",
    "df_seqinfo_tas_indep[['ctcf_start', 'ctcf_end']] = df_seqinfo_tas_indep[['ctcf_start', 'ctcf_end']].astype(int)\n",
    "df_seqinfo_tas_indep = df_seqinfo_tas_indep[['ctcf_chrom', 'ctcf_start', 'ctcf_end', 'sequence']].copy()\n",
    "df_seqinfo_tas_indep['sequence'] = df_seqinfo_tas_indep['sequence'].str.upper()\n",
    "df_seqinfo_tas_indep['region_index'] = (\n",
    "        df_seqinfo_tas_indep['ctcf_chrom']\n",
    "        + '_'\n",
    "        + (df_seqinfo_tas_indep['ctcf_start'] + 200).astype(str)\n",
    "        + '_'\n",
    "        + (df_seqinfo_tas_indep['ctcf_end'] - 200).astype(str)\n",
    ")\n",
    "# df_seqinfo_tas_indep\n",
    "df_arts_tas_indep_add_seq = pd.merge(df_arts_tas_indep, df_seqinfo_tas_indep, on='region_index', how='left')\n",
    "df_arts_tas_indep_add_seq"
   ],
   "metadata": {
    "collapsed": false,
    "ExecuteTime": {
     "end_time": "2023-08-15T17:37:19.001528Z",
     "start_time": "2023-08-15T17:37:18.799021Z"
    }
   },
   "id": "1118300aaa8fd3e8"
  },
  {
   "cell_type": "code",
   "execution_count": 33,
   "outputs": [
    {
     "data": {
      "text/plain": "True"
     },
     "execution_count": 33,
     "metadata": {},
     "output_type": "execute_result"
    }
   ],
   "source": [
    "# True的话说明合并没问题\n",
    "df_arts_tas_indep_add_seq['id'].sort_values().tolist() == df_arts_tas_indep['id'].sort_values().tolist()"
   ],
   "metadata": {
    "collapsed": false,
    "ExecuteTime": {
     "end_time": "2023-08-15T17:37:19.920353Z",
     "start_time": "2023-08-15T17:37:19.907337Z"
    }
   },
   "id": "4fcdccfd329a61a2"
  },
  {
   "cell_type": "code",
   "execution_count": 36,
   "outputs": [],
   "source": [
    "os.makedirs('../art_seqinfo/tas-independent', exist_ok=True)"
   ],
   "metadata": {
    "collapsed": false,
    "ExecuteTime": {
     "end_time": "2023-08-15T17:37:44.855323Z",
     "start_time": "2023-08-15T17:37:44.618437Z"
    }
   },
   "id": "82d1cf24494d03ce"
  },
  {
   "cell_type": "code",
   "execution_count": 37,
   "outputs": [
    {
     "name": "stdout",
     "output_type": "stream",
     "text": [
      "df.shape[0] = 95\n",
      "查看是否有duplication 41\n",
      "df.shape[0] = 74\n",
      "查看是否有duplication 33\n",
      "df.shape[0] = 11\n",
      "查看是否有duplication 2\n",
      "df.shape[0] = 734\n",
      "查看是否有duplication 304\n",
      "df.shape[0] = 255\n",
      "查看是否有duplication 69\n",
      "df.shape[0] = 1098\n",
      "查看是否有duplication 476\n",
      "df.shape[0] = 918\n",
      "查看是否有duplication 387\n",
      "====================\n",
      "df.shape[0] = 49\n",
      "查看是否有duplication 0\n",
      "df.shape[0] = 46\n",
      "查看是否有duplication 0\n",
      "df.shape[0] = 35\n",
      "查看是否有duplication 0\n",
      "df.shape[0] = 39\n",
      "查看是否有duplication 0\n",
      "df.shape[0] = 6\n",
      "查看是否有duplication 0\n",
      "df.shape[0] = 5\n",
      "查看是否有duplication 0\n",
      "df.shape[0] = 388\n",
      "查看是否有duplication 0\n",
      "df.shape[0] = 346\n",
      "查看是否有duplication 0\n",
      "df.shape[0] = 109\n",
      "查看是否有duplication 0\n",
      "df.shape[0] = 146\n",
      "查看是否有duplication 0\n",
      "df.shape[0] = 543\n",
      "查看是否有duplication 0\n",
      "df.shape[0] = 555\n",
      "查看是否有duplication 0\n",
      "df.shape[0] = 464\n",
      "查看是否有duplication 0\n",
      "df.shape[0] = 454\n",
      "查看是否有duplication 0\n"
     ]
    }
   ],
   "source": [
    "for sample, df in df_arts_tas_indep_add_seq.groupby('<sample>'):\n",
    "    # 上面的duplication都是0则说明duplication是TAS-Dep_stat alignment过程引入的，简单去重即可\n",
    "    print(f'df.shape[0] = {df.shape[0]}')\n",
    "    print('查看是否有duplication', df.duplicated(subset='region_index').sum())\n",
    "\n",
    "print('=' * 20)\n",
    "for g, df in df_arts_tas_indep_add_seq.groupby(['<sample>', 'TAS-Dep_stat']):\n",
    "    sample, dep_stat = g\n",
    "    print(f'df.shape[0] = {df.shape[0]}')\n",
    "    print('查看是否有duplication', df.duplicated(subset='region_index').sum())\n",
    "    # 上面的duplication都是0则说明duplication是TAS-Dep_stat alignment过程引入的，简单去重即可\n",
    "\n",
    "# df.shape[0] = 95\n",
    "# 查看是否有duplication 41\n",
    "# df.shape[0] = 74\n",
    "# 查看是否有duplication 33\n",
    "# df.shape[0] = 11\n",
    "# 查看是否有duplication 2\n",
    "# df.shape[0] = 734\n",
    "# 查看是否有duplication 304\n",
    "# df.shape[0] = 255\n",
    "# 查看是否有duplication 69\n",
    "# df.shape[0] = 1098\n",
    "# 查看是否有duplication 476\n",
    "# df.shape[0] = 918\n",
    "# 查看是否有duplication 387\n",
    "# ====================\n",
    "# df.shape[0] = 49\n",
    "# 查看是否有duplication 0\n",
    "# df.shape[0] = 46\n",
    "# 查看是否有duplication 0\n",
    "# df.shape[0] = 35\n",
    "# 查看是否有duplication 0\n",
    "# df.shape[0] = 39\n",
    "# 查看是否有duplication 0\n",
    "# df.shape[0] = 6\n",
    "# 查看是否有duplication 0\n",
    "# df.shape[0] = 5\n",
    "# 查看是否有duplication 0\n",
    "# df.shape[0] = 388\n",
    "# 查看是否有duplication 0\n",
    "# df.shape[0] = 346\n",
    "# 查看是否有duplication 0\n",
    "# df.shape[0] = 109\n",
    "# 查看是否有duplication 0\n",
    "# df.shape[0] = 146\n",
    "# 查看是否有duplication 0\n",
    "# df.shape[0] = 543\n",
    "# 查看是否有duplication 0\n",
    "# df.shape[0] = 555\n",
    "# 查看是否有duplication 0\n",
    "# df.shape[0] = 464\n",
    "# 查看是否有duplication 0\n",
    "# df.shape[0] = 454\n",
    "# 查看是否有duplication 0"
   ],
   "metadata": {
    "collapsed": false,
    "ExecuteTime": {
     "end_time": "2023-08-15T17:37:46.529511Z",
     "start_time": "2023-08-15T17:37:46.513721Z"
    }
   },
   "id": "7abf1a4f9b88eeff"
  },
  {
   "cell_type": "code",
   "execution_count": 38,
   "outputs": [
    {
     "data": {
      "text/plain": "     chrom    start      end          region_index align_chr_name  align_chr_start  align_chr_end align_strand  \\\n3141  chr1  2044938  2045048  chr1_2044988_2044998           chr1          2044960        2044976            +   \n959   chr1  2044938  2045048  chr1_2044988_2044998           chr1          2044992        2045008            -   \n2857  chr1  2044938  2045048  chr1_2044988_2044998           chr1          2045005        2045020            +   \n1985  chr1  2044938  2045048  chr1_2044988_2044998           chr1          2045022        2045038            +   \n\n      align_dist_to_signal align_N0_base  align_total_match  align_total_mismatch  align_degen_total_match  \\\n3141                    12             C                  8                     9                        9   \n959                      4             C                 11                     6                       12   \n2857                   -32             C                 12                     4                       12   \n1985                   -50             T                  9                     8                       10   \n\n      align_degen_total_mismatch  align_degen_num  align_total_gap  align_score   align_target_seq   align_info_state  \\\n3141                           8                1                0         11.0  CCAGCCCGAGCCCCGTC  |||XXX|X.X|XX|||X   \n959                            5                1                0         38.0  CCAGGAGGGGGCGCAGG  ||.|||||XX||X|XX|   \n2857                           4                0                1         20.0  CTGGGCAAG-CTCCGCA  |||XXX|||-|||X|||   \n1985                           7                1                0         30.0  TGCGCGCGGCCGCCAGC  |X||||XX|XX||X.X|   \n\n        align_query_seq                                file_info                      <sample> TAS-Dep_stat     id  \\\n3141  CCATTTCTGTCATCGTA  ../art/DetectSeq_JAK2-DddA11_REP-2_T...   DetectSeq_JAK2-DddA11_REP-2        Right  27070   \n959   CCGGGAGGCCGCACTTG  ../art/DetectSeq_SIRT6-DddA11_REP-1_...  DetectSeq_SIRT6-DddA11_REP-1        Right  12006   \n2857  CTGAAAAAGACTCTGCA  ../art/DetectSeq_JAK2-DddA11_REP-2_T...   DetectSeq_JAK2-DddA11_REP-2         Left  26271   \n1985  TACGCGGCGGGGCTGTC  ../art/DetectSeq_SIRT6-DddA11_REP-1_...  DetectSeq_SIRT6-DddA11_REP-1         Left  20144   \n\n     ctcf_chrom  ctcf_start  ctcf_end                                 sequence  \n3141       chr1     2044788   2045198  AAGGATGGACTCCGAGGCGGGGCTGAAAAGGGGGCA...  \n959        chr1     2044788   2045198  AAGGATGGACTCCGAGGCGGGGCTGAAAAGGGGGCA...  \n2857       chr1     2044788   2045198  AAGGATGGACTCCGAGGCGGGGCTGAAAAGGGGGCA...  \n1985       chr1     2044788   2045198  AAGGATGGACTCCGAGGCGGGGCTGAAAAGGGGGCA...  ",
      "text/html": "<div>\n<style scoped>\n    .dataframe tbody tr th:only-of-type {\n        vertical-align: middle;\n    }\n\n    .dataframe tbody tr th {\n        vertical-align: top;\n    }\n\n    .dataframe thead th {\n        text-align: right;\n    }\n</style>\n<table border=\"1\" class=\"dataframe\">\n  <thead>\n    <tr style=\"text-align: right;\">\n      <th></th>\n      <th>chrom</th>\n      <th>start</th>\n      <th>end</th>\n      <th>region_index</th>\n      <th>align_chr_name</th>\n      <th>align_chr_start</th>\n      <th>align_chr_end</th>\n      <th>align_strand</th>\n      <th>align_dist_to_signal</th>\n      <th>align_N0_base</th>\n      <th>align_total_match</th>\n      <th>align_total_mismatch</th>\n      <th>align_degen_total_match</th>\n      <th>align_degen_total_mismatch</th>\n      <th>align_degen_num</th>\n      <th>align_total_gap</th>\n      <th>align_score</th>\n      <th>align_target_seq</th>\n      <th>align_info_state</th>\n      <th>align_query_seq</th>\n      <th>file_info</th>\n      <th>&lt;sample&gt;</th>\n      <th>TAS-Dep_stat</th>\n      <th>id</th>\n      <th>ctcf_chrom</th>\n      <th>ctcf_start</th>\n      <th>ctcf_end</th>\n      <th>sequence</th>\n    </tr>\n  </thead>\n  <tbody>\n    <tr>\n      <th>3141</th>\n      <td>chr1</td>\n      <td>2044938</td>\n      <td>2045048</td>\n      <td>chr1_2044988_2044998</td>\n      <td>chr1</td>\n      <td>2044960</td>\n      <td>2044976</td>\n      <td>+</td>\n      <td>12</td>\n      <td>C</td>\n      <td>8</td>\n      <td>9</td>\n      <td>9</td>\n      <td>8</td>\n      <td>1</td>\n      <td>0</td>\n      <td>11.0</td>\n      <td>CCAGCCCGAGCCCCGTC</td>\n      <td>|||XXX|X.X|XX|||X</td>\n      <td>CCATTTCTGTCATCGTA</td>\n      <td>../art/DetectSeq_JAK2-DddA11_REP-2_T...</td>\n      <td>DetectSeq_JAK2-DddA11_REP-2</td>\n      <td>Right</td>\n      <td>27070</td>\n      <td>chr1</td>\n      <td>2044788</td>\n      <td>2045198</td>\n      <td>AAGGATGGACTCCGAGGCGGGGCTGAAAAGGGGGCA...</td>\n    </tr>\n    <tr>\n      <th>959</th>\n      <td>chr1</td>\n      <td>2044938</td>\n      <td>2045048</td>\n      <td>chr1_2044988_2044998</td>\n      <td>chr1</td>\n      <td>2044992</td>\n      <td>2045008</td>\n      <td>-</td>\n      <td>4</td>\n      <td>C</td>\n      <td>11</td>\n      <td>6</td>\n      <td>12</td>\n      <td>5</td>\n      <td>1</td>\n      <td>0</td>\n      <td>38.0</td>\n      <td>CCAGGAGGGGGCGCAGG</td>\n      <td>||.|||||XX||X|XX|</td>\n      <td>CCGGGAGGCCGCACTTG</td>\n      <td>../art/DetectSeq_SIRT6-DddA11_REP-1_...</td>\n      <td>DetectSeq_SIRT6-DddA11_REP-1</td>\n      <td>Right</td>\n      <td>12006</td>\n      <td>chr1</td>\n      <td>2044788</td>\n      <td>2045198</td>\n      <td>AAGGATGGACTCCGAGGCGGGGCTGAAAAGGGGGCA...</td>\n    </tr>\n    <tr>\n      <th>2857</th>\n      <td>chr1</td>\n      <td>2044938</td>\n      <td>2045048</td>\n      <td>chr1_2044988_2044998</td>\n      <td>chr1</td>\n      <td>2045005</td>\n      <td>2045020</td>\n      <td>+</td>\n      <td>-32</td>\n      <td>C</td>\n      <td>12</td>\n      <td>4</td>\n      <td>12</td>\n      <td>4</td>\n      <td>0</td>\n      <td>1</td>\n      <td>20.0</td>\n      <td>CTGGGCAAG-CTCCGCA</td>\n      <td>|||XXX|||-|||X|||</td>\n      <td>CTGAAAAAGACTCTGCA</td>\n      <td>../art/DetectSeq_JAK2-DddA11_REP-2_T...</td>\n      <td>DetectSeq_JAK2-DddA11_REP-2</td>\n      <td>Left</td>\n      <td>26271</td>\n      <td>chr1</td>\n      <td>2044788</td>\n      <td>2045198</td>\n      <td>AAGGATGGACTCCGAGGCGGGGCTGAAAAGGGGGCA...</td>\n    </tr>\n    <tr>\n      <th>1985</th>\n      <td>chr1</td>\n      <td>2044938</td>\n      <td>2045048</td>\n      <td>chr1_2044988_2044998</td>\n      <td>chr1</td>\n      <td>2045022</td>\n      <td>2045038</td>\n      <td>+</td>\n      <td>-50</td>\n      <td>T</td>\n      <td>9</td>\n      <td>8</td>\n      <td>10</td>\n      <td>7</td>\n      <td>1</td>\n      <td>0</td>\n      <td>30.0</td>\n      <td>TGCGCGCGGCCGCCAGC</td>\n      <td>|X||||XX|XX||X.X|</td>\n      <td>TACGCGGCGGGGCTGTC</td>\n      <td>../art/DetectSeq_SIRT6-DddA11_REP-1_...</td>\n      <td>DetectSeq_SIRT6-DddA11_REP-1</td>\n      <td>Left</td>\n      <td>20144</td>\n      <td>chr1</td>\n      <td>2044788</td>\n      <td>2045198</td>\n      <td>AAGGATGGACTCCGAGGCGGGGCTGAAAAGGGGGCA...</td>\n    </tr>\n  </tbody>\n</table>\n</div>"
     },
     "execution_count": 38,
     "metadata": {},
     "output_type": "execute_result"
    }
   ],
   "source": [
    "# 查看重复的来源\n",
    "(\n",
    "    df_arts_tas_indep_add_seq\n",
    "    .query('region_index==\"chr1_2044988_2044998\"')\n",
    "    .sort_values(['chrom', 'start', 'end', 'align_chr_start'])\n",
    ")\n",
    "\n",
    "# DetectSeq_JAK2-DddA11 _REP-2 Right\n",
    "# DetectSeq_SIRT6-DddA11_REP-1 Right\n",
    "# DetectSeq_JAK2-DddA11 _REP-2 Left\n",
    "# DetectSeq_SIRT6-DddA11_REP-1 Left\n",
    "\n",
    "# 所以重复是合理的"
   ],
   "metadata": {
    "collapsed": false,
    "ExecuteTime": {
     "end_time": "2023-08-15T17:38:04.098366Z",
     "start_time": "2023-08-15T17:38:04.091987Z"
    }
   },
   "id": "e15504aa70226817"
  },
  {
   "cell_type": "code",
   "execution_count": 39,
   "outputs": [],
   "source": [
    "def get_fasta(x):\n",
    "    region_index = x['region_index']\n",
    "    c_chrom = x['ctcf_chrom']\n",
    "    c_start = x['ctcf_start']\n",
    "    c_end = x['ctcf_end']\n",
    "    seq = x['sequence']\n",
    "    return f'>region_index:{region_index}; query_seq_index:{c_chrom}_{c_start}_{c_end}\\n{seq}\\n'\n",
    "\n",
    "\n",
    "for sample, df in df_arts_tas_indep_add_seq.groupby('<sample>'):\n",
    "    # 上面的一个cell中的代码已经证明了duplication是TAS-Dep_stat alignment过程引入的，简单去重即可\n",
    "    df = df.drop_duplicates(subset=['region_index'], keep='first')\n",
    "    text = ''.join(df.apply(get_fasta, axis=1).tolist())\n",
    "    with open(f'../art_seqinfo/tas-independent/seqinfo_{sample}_independent.fa', 'wt') as f:\n",
    "        f.write(text)\n",
    "# wc -l *.fa\n",
    "# 108 seqinfo_DetectSeq_ATP8-DddA11_REP-1_independent.fa\n",
    "# 82 seqinfo_DetectSeq_ATP8-DddA6_REP-1_independent.fa\n",
    "# 18 seqinfo_DetectSeq_ATP8-DddAwt_REP-1_independent.fa\n",
    "# 860 seqinfo_DetectSeq_JAK2-DddA11_REP-1_independent.fa\n",
    "# 372 seqinfo_DetectSeq_JAK2-DddA11_REP-2_independent.fa\n",
    "# 1244 seqinfo_DetectSeq_SIRT6-DddA11_REP-1_independent.fa\n",
    "# 1062 seqinfo_DetectSeq_SIRT6-DddA11_REP-2_independent.fa\n",
    "# 3746 total\n",
    "\n",
    "# for i in `ls *.fa`\n",
    "# echo `uniq $i | wc -l`\n",
    "# 108\n",
    "# 82\n",
    "# 18\n",
    "# 860\n",
    "# 372\n",
    "# 1244\n",
    "# 1062"
   ],
   "metadata": {
    "collapsed": false,
    "ExecuteTime": {
     "end_time": "2023-08-15T17:38:09.965240Z",
     "start_time": "2023-08-15T17:38:09.920604Z"
    }
   },
   "id": "5d3c8af3e4d3f50a"
  },
  {
   "cell_type": "markdown",
   "source": [
    "### Motif analysis\n",
    "see file **meme_chip_step_by_step.sh**\n",
    "```bash\n",
    "DIR=/home/zhaohuanan/0.apps/meme_suite/meme-5.5.3\n",
    "export PATH=$DIR/bin:$DIR/libexec/meme-5.5.3:$PATH\n",
    "\n",
    "mkdir -p \\\n",
    "    motif_pre_processing \\\n",
    "\tmotif_discovery/meme \\\n",
    "\tmotif_discovery/streme \\\n",
    "\tmotif_scanning/fimo \\\n",
    "    motif_comparison/tomtom \\\n",
    "    motif_enrichment/centrimo \\\n",
    "    motif_enrichment/spamo\n",
    "\n",
    "\n",
    "for i in `ls *.fa`\n",
    "# for i in seqinfo_DetectSeq_ATP8-DddA11_REP-1_independent.fa  # for test\n",
    "do\n",
    "    ########################################\n",
    "    #### files ####\n",
    "    ########################################\n",
    "    # motif_pre_processing\n",
    "    SEQ_LENGTH=400\n",
    "    METRICS=motif_pre_processing/${i}.metrics\n",
    "    SEQ_CENTERED=motif_pre_processing/${i}.seq_centered\n",
    "    BFILE=motif_pre_processing/${i}.background\n",
    "    \n",
    "    ### Motif Discovery\n",
    "    ### 预测输入序列上的motif信息\n",
    "    ### de novo motif discovery\n",
    "    MEME=motif_discovery/meme/$i\n",
    "    STREME=motif_discovery/streme/$i\n",
    "\n",
    "    ### Motif Enrichment\n",
    "    ### 分析已知的motif在输入序列上的富集情况\n",
    "    CENTRIMO=motif_enrichment/centrimo/$i\n",
    "    SPAMO=motif_enrichment/spamo/$i\n",
    "\n",
    "    # ### Motif Scanning\n",
    "    # ### 分析输入序列上可能的motif出现的位置\n",
    "    FIMO=motif_scanning/fimo/$i\n",
    "    \n",
    "    # ### Motif Comparison\n",
    "    # ### 比较不同motif之间的相似性\n",
    "    TOMTOM=motif_comparison/tomtom/${i}\n",
    "    \n",
    "\n",
    "    \n",
    "    echo '===================================================>'\n",
    "\techo 'pre-processing' # √\n",
    "    echo '===================================================>'\n",
    "\tgetsize $i 1> $METRICS\n",
    "\tfasta-most -min 50 < $i 1>> $METRICS  # test\n",
    "\tfasta-center -dna -len $SEQ_LENGTH < $i 1> $SEQ_CENTERED\n",
    "\tfasta-get-markov -nostatus -nosummary -dna -m 2 $i $BFILE\n",
    "\n",
    " \n",
    "    echo '===================================================>'\n",
    "\techo 'Motif Discovery: de novo motif discovery' # √\n",
    "    echo '===================================================>'\n",
    "\techo -e '\\trun MEME'\n",
    "\tmeme -dna -nmotifs 3 -maxw 50 -bfile $BFILE -revcomp -oc $MEME $i\n",
    "    # nmotifs: 最多报告3个motifs\n",
    "    # revcomp: allow sites on + or - DNA strands\n",
    "    # nostatus: do not print progress reports to terminal\n",
    "    \n",
    "\techo -e '\\trun STREME'\n",
    "\tstreme -dna --nmotifs 3 --maxw 30 --p $SEQ_CENTERED --oc $STREME\n",
    "    # STREME: The maximum allowed motif width is 30\n",
    "\n",
    "\n",
    "    echo '===================================================>'\n",
    "\techo 'Motif Enrichment: 分析已知的motif在输入序列上的富集情况' # √\n",
    "    echo '===================================================>'\n",
    "    echo -e '\\trun CentiMo'\n",
    "\tcentrimo -seqlen $SEQ_LENGTH -bfile $BFILE $SEQ_CENTERED $MEME/meme.xml \\\n",
    "     $STREME/streme.xml \\\n",
    "     -oc $CENTRIMO\n",
    " \n",
    "    echo -e '\\trun SpaMo'\n",
    "\tspamo -bgfile $BFILE -keepprimary -oc $SPAMO $i $MEME/meme.xml $STREME/streme.xml\n",
    "\n",
    "    \n",
    "    echo '===================================================>'\n",
    "\techo 'motif scanning'  # √\n",
    "    echo '===================================================>'\n",
    "    echo -e '\\trun FIMO'\n",
    "    fimo --oc $FIMO --bgfile $BFILE $MEME/meme.xml $i\n",
    "\n",
    "    echo '===================================================>'\n",
    "\techo 'motif comparison'  # √\n",
    "    echo '===================================================>'\n",
    "\n",
    "\techo -e '\\trun TOMTOM'\n",
    "\ttomtom -oc $TOMTOM $MEME/meme.xml \\\n",
    "     $HOME/1.database/db_meme_suite/motif_databases/JASPAR/JASPAR2022_CORE_redundant_v2.meme\n",
    "\n",
    "\n",
    "done\n",
    "```"
   ],
   "metadata": {
    "collapsed": false
   },
   "id": "8760e79e624ba710"
  },
  {
   "cell_type": "markdown",
   "source": [
    "#### run scripts above, wait and next\n",
    "在veteran服务器上跑，剩下的继续在本地分析"
   ],
   "metadata": {
    "collapsed": false
   },
   "id": "3b24134c951d82e1"
  },
  {
   "cell_type": "markdown",
   "source": [
    "### save df_arts_tas_indep_add_seq"
   ],
   "metadata": {
    "collapsed": false
   },
   "id": "43e2bc699dc06d58"
  },
  {
   "cell_type": "code",
   "execution_count": 40,
   "outputs": [],
   "source": [
    "df_arts_tas_indep_add_seq.to_csv('../art_seqinfo/df_arts_tas_indep_add_seq.csv', index=False)"
   ],
   "metadata": {
    "collapsed": false,
    "ExecuteTime": {
     "end_time": "2023-08-15T17:38:28.621452Z",
     "start_time": "2023-08-15T17:38:28.565413Z"
    }
   },
   "id": "2c3fd3f23a25bebe"
  },
  {
   "cell_type": "markdown",
   "source": [
    "### Biological repeat correlation (JAK2 & SIRT6)"
   ],
   "metadata": {
    "collapsed": false
   },
   "id": "556cdf32059b5424"
  },
  {
   "cell_type": "code",
   "execution_count": 42,
   "outputs": [],
   "source": [
    "# df_arts_tas_indep_add_seq = pd.read_csv('../art_seqinfo/df_arts_tas_indep_add_seq.csv')"
   ],
   "metadata": {
    "collapsed": false,
    "ExecuteTime": {
     "end_time": "2023-08-15T17:39:01.530437Z",
     "start_time": "2023-08-15T17:39:01.306584Z"
    }
   },
   "id": "52b4feb642213523"
  },
  {
   "cell_type": "markdown",
   "source": [
    "#### CTCF-off and CTCF-no-off performance"
   ],
   "metadata": {
    "collapsed": false
   },
   "id": "1d3059ed3da265fe"
  },
  {
   "cell_type": "markdown",
   "source": [
    "### unassorted off-target\n",
    "deeptools?"
   ],
   "metadata": {
    "collapsed": false
   },
   "id": "d6446b8bab1af799"
  },
  {
   "cell_type": "markdown",
   "source": [
    "#### Final unassorted off-target"
   ],
   "metadata": {
    "collapsed": false
   },
   "id": "b549935f9d7e26c1"
  },
  {
   "cell_type": "code",
   "execution_count": null,
   "outputs": [],
   "source": [
    "df_arts_unassorted"
   ],
   "metadata": {
    "collapsed": false
   },
   "id": "1ce009d2c47d73a0"
  },
  {
   "cell_type": "markdown",
   "source": [
    "# STOP TODO"
   ],
   "metadata": {
    "collapsed": false
   },
   "id": "66c4eff3eb5da6c7"
  },
  {
   "cell_type": "markdown",
   "source": [
    "homer findMotifsGenome using unassorted (TAS-independent) off-target bed information"
   ],
   "metadata": {
    "collapsed": false
   },
   "id": "2dd86832cf6763cf"
  },
  {
   "cell_type": "code",
   "execution_count": null,
   "outputs": [],
   "source": [
    "sort_keys = [\n",
    "    'DetectSeq_SIRT6-DddA11_REP-1', 'DetectSeq_SIRT6-DddA11_REP-2',  # SIRT6\n",
    "    'DetectSeq_JAK2-DddA11_REP-1', 'DetectSeq_JAK2-DddA11_REP-2',  # JAK2\n",
    "    'DetectSeq_ATP8-DddA11_REP-1', 'DetectSeq_ATP8-DddA6_REP-1', 'DetectSeq_ATP8-DddAwt_REP-1',  # ATP8\n",
    "]\n",
    "\n",
    "# print(df_arts_tale_dep.head(2))\n",
    "# print('-' * 100)\n",
    "# print(df_arts.head(2))\n",
    "df_arts"
   ],
   "metadata": {
    "collapsed": false
   },
   "id": "83bd34d195dbd2d"
  },
  {
   "cell_type": "markdown",
   "source": [
    "##### "
   ],
   "metadata": {
    "collapsed": false
   },
   "id": "24c8aa97caf83021"
  },
  {
   "cell_type": "code",
   "execution_count": null,
   "outputs": [],
   "source": [
    "ls = []\n",
    "for sample in sort_keys:\n",
    "    tas_dep_index = sorted(df_arts_tale_dep.query('`<sample>`==@sample')['region_index'].unique().tolist())\n",
    "    tas_indep_index = sorted(df_arts.query('`<sample>`==@sample').query('region_index not in @tas_dep_index')[\n",
    "                                 'region_index'].unique().tolist())\n",
    "    ls.append([sample, len(tas_dep_index), len(tas_indep_index), len(tas_dep_index) + len(tas_indep_index)])\n",
    "    # |    | <sample>                     |   TAS-dep |   putative TAS-indep |   Total |\n",
    "    # |---:|:-----------------------------|----------:|---------------------:|--------:|\n",
    "    # |  0 | DetectSeq_SIRT6-DddA11_REP-1 |        68 |                 3331 |    3399 |\n",
    "    # |  1 | DetectSeq_SIRT6-DddA11_REP-2 |       230 |                 9163 |    9393 |\n",
    "    # |  2 | DetectSeq_JAK2-DddA11_REP-1  |        24 |                  797 |     821 |\n",
    "    # |  3 | DetectSeq_JAK2-DddA11_REP-2  |       184 |                  573 |     757 |\n",
    "    # |  4 | DetectSeq_ATP8-DddA11_REP-1  |       128 |                   87 |     215 |\n",
    "    # |  5 | DetectSeq_ATP8-DddA6_REP-1   |       512 |                  260 |     772 |\n",
    "    # |  6 | DetectSeq_ATP8-DddAwt_REP-1  |        18 |                   22 |      40 |\n",
    "\n",
    "    df_out = df_arts.query('`<sample>`==@sample').query('region_index not in @tas_dep_index')\n",
    "\n",
    "    df_out[['chrom', 'start', 'end']] = df_out['region_index'].str.split('_', expand=True)\n",
    "    df_out = df_out[['chrom', 'start', 'end', 'region_index', 'align_strand']].copy()\n",
    "    df_out.insert(4, 'score', '.')\n",
    "    df_out['start'] = df_out['start'].astype(int) - 30\n",
    "    df_out['end'] = df_out['end'].astype(int) + 30\n",
    "    df_out.to_csv(f'../art/from_art_putative_IND_{sample}.bed', header=False, index=False, sep='\\t')\n",
    "print(pd.DataFrame(ls, columns=['<sample>', 'TAS-dep', 'putative TAS-indep', 'Total']).to_markdown())"
   ],
   "metadata": {
    "collapsed": false
   },
   "id": "dc7082ca7ed5f085"
  },
  {
   "cell_type": "markdown",
   "source": [
    "```bash\n",
    "findMotifsGenome.pl from_art_putative_IND_DetectSeq_ATP6.1-DddSs.bed $HOME/1.database/db_genomes/genome_fa/genome_ucsc_hg38/genome_ucsc_hg38.fa homer_putative_IND_DetectSeq_ATP6.1-DddSs -size 50 -mask\n",
    "...\n",
    "...\n",
    "...\n",
    "```"
   ],
   "metadata": {
    "collapsed": false
   },
   "id": "1727b41e09163c77"
  },
  {
   "cell_type": "markdown",
   "source": [
    "## homer annotatePeaks for all off-target"
   ],
   "metadata": {
    "collapsed": false
   },
   "id": "e80c15d808f9b9e4"
  },
  {
   "cell_type": "markdown",
   "source": [
    "```bash\n",
    "cd final_list_after_igv_check\n",
    "\n",
    "annotatePeaks.pl 2023-04-20_DetectSeq_ATP8-DddA11_REP-1_final_list.mpmat hg38 -annStats ../annoResults/ATP8-DddA11_REP-1.homer_log &\n",
    "annotatePeaks.pl 2023-04-20_DetectSeq_ATP8-DddA6_REP-1_final_list.mpmat hg38 -annStats ../annoResults/ATP8-DddA6_REP-1.homer_log &\n",
    "annotatePeaks.pl 2023-04-20_DetectSeq_ATP8-DddAwt_REP-1_final_list.mpmat hg38 -annStats ../annoResults/ATP8-DddAwt_REP-1.homer_log &\n",
    "annotatePeaks.pl 2023-04-20_DetectSeq_JAK2-DddA11_REP-1_final_list.mpmat hg38 -annStats ../annoResults/JAK2-DddA11_REP-1.homer_log &\n",
    "annotatePeaks.pl 2023-04-20_DetectSeq_JAK2-DddA11_REP-2_final_list.mpmat hg38 -annStats ../annoResults/JAK2-DddA11_REP-2.homer_log &\n",
    "annotatePeaks.pl 2023-04-20_DetectSeq_SIRT6-DddA11_REP-1_final_list.mpmat hg38 -annStats ../annoResults/SIRT6-DddA11_REP-1.homer_log &\n",
    "annotatePeaks.pl 2023-04-20_DetectSeq_SIRT6-DddA11_REP-2_final_list.mpmat hg38 -annStats ../annoResults/SIRT6-DddA11_REP-2.homer_log &\n",
    "\n",
    "bioat table merge -input_fmt tsv -output_fmt csv --input_header True --output_header True ATP8-DddA11_REP-1.homer_log,ATP8-DddA6_REP-1.homer_log,ATP8-DddAwt_REP-1.homer_log,JAK2-DddA11_REP-1.homer_log,JAK2-DddA11_REP-2.homer_log,SIRT6-DddA11_REP-1.homer_log,SIRT6-DddA11_REP-2.homer_log ATP8-DddA11_REP-1.homer_log,ATP8-DddA6_REP-1.homer_log,ATP8-DddAwt_REP-1.homer_log,JAK2-DddA11_REP-1.homer_log,JAK2-DddA11_REP-2.homer_log,SIRT6-DddA11_REP-1.homer_log,SIRT6-DddA11_REP-2.homer_log homer.annoResults.merge.csv\n",
    "```"
   ],
   "metadata": {
    "collapsed": false
   },
   "id": "c7ab3c2480fd6632"
  },
  {
   "cell_type": "code",
   "execution_count": null,
   "outputs": [],
   "source": [
    "import pandas as pd"
   ],
   "metadata": {
    "collapsed": false
   },
   "id": "6b7a27d99debfd29"
  },
  {
   "cell_type": "code",
   "execution_count": null,
   "outputs": [],
   "source": [
    "df = pd.read_csv('../annoResults/homer.annoResults.merge.csv')\n",
    "\n",
    "filt = ['Promoter', '5UTR', '3UTR', 'Exon', 'Intron', 'TTS', 'Intergenic']\n",
    "\n",
    "df = df[df['Total size (bp)'].str.isdecimal()].copy()\n",
    "df.drop_duplicates(subset=['<sample>', 'Annotation'], keep='first', inplace=True)\n",
    "df = df[df['Annotation'].map(lambda x: x in filt)].copy()\n",
    "df.iloc[:, 2:] = df.iloc[:, 2:].astype(float)\n",
    "df"
   ],
   "metadata": {
    "collapsed": false
   },
   "id": "c4412e01b40fee33"
  },
  {
   "cell_type": "code",
   "execution_count": null,
   "outputs": [],
   "source": [
    "from lets_plot import *\n",
    "from lets_plot.mapping import as_discrete"
   ],
   "metadata": {
    "collapsed": false
   },
   "id": "4b669a0a61c93c33"
  },
  {
   "cell_type": "code",
   "execution_count": null,
   "outputs": [],
   "source": [
    "LetsPlot.setup_html()"
   ],
   "metadata": {
    "collapsed": false
   },
   "id": "ad515e551680d387"
  },
  {
   "cell_type": "code",
   "execution_count": null,
   "outputs": [],
   "source": [
    "(\n",
    "        ggplot(data=df, mapping=aes(x=as_discrete(\"Annotation\", order=-1), y=\"Log2 Ratio (obs/exp)\", fill='<sample>'))\n",
    "        + geom_bar(stat='identity', position='dodge', width=0.7)\n",
    "        # + scale_x_discrete(labels=filt)\n",
    "        + ggsize(1000, 500)\n",
    "    # + facet_grid(y='<sample>', scales='free')\n",
    "    # + scale_y_continuous(limits=(-2, 10))\n",
    ")"
   ],
   "metadata": {
    "collapsed": false
   },
   "id": "2063867c9780d5b7"
  },
  {
   "cell_type": "code",
   "execution_count": null,
   "outputs": [],
   "source": [],
   "metadata": {
    "collapsed": false
   },
   "id": "d1df550e70ba0344"
  }
 ],
 "metadata": {
  "kernelspec": {
   "display_name": "Python 3",
   "language": "python",
   "name": "python3"
  },
  "language_info": {
   "codemirror_mode": {
    "name": "ipython",
    "version": 2
   },
   "file_extension": ".py",
   "mimetype": "text/x-python",
   "name": "python",
   "nbconvert_exporter": "python",
   "pygments_lexer": "ipython2",
   "version": "2.7.6"
  }
 },
 "nbformat": 4,
 "nbformat_minor": 5
}
