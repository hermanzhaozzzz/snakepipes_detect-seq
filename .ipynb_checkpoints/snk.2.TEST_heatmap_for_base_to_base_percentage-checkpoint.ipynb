{
 "cells": [
  {
   "cell_type": "code",
   "execution_count": 7,
   "metadata": {},
   "outputs": [],
   "source": [
    "import argparse"
   ]
  },
  {
   "cell_type": "code",
   "execution_count": 8,
   "metadata": {},
   "outputs": [],
   "source": [
    "def read_file(file):\n",
    "    with open(file, mode='r', encoding='utf8') as f:\n",
    "        while True:\n",
    "            one_line = f.readline().strip()\n",
    "            if not one_line:\n",
    "                return\n",
    "            yield one_line"
   ]
  },
  {
   "cell_type": "code",
   "execution_count": null,
   "metadata": {},
   "outputs": [],
   "source": [
    "\n",
    "# PATH = '../mpileup_pmat_bmat/293T-bat_GBEmini-AP-RNF2-All-PD_rep1_hg38.MAPQ20.bmat'\n",
    "PATH = '../mpileup_pmat_bmat/split_chr/test.bmat'\n",
    "# def count_mut_number()\n",
    "\n",
    "\n",
    "\n",
    "\n",
    "\n",
    "\n",
    "dt_mut = dict([(i+j,0) for i in 'AGCT' for j in 'AGCT' if i != j])\n",
    "dict_chr = dict([('chr'+i,dt_mut.copy()) for i in [str(i) for i in range(1,23)] + ['X','Y','M']])\n",
    "for i in [i for i in range(1,23)] + ['X','Y','M']:\n",
    "    dict_chr['chr%s' % i][\"mutation_all\"] = 0\n",
    "\n",
    "\n",
    "iter_bmat = read_file(PATH)\n",
    "\n",
    "next(iter_bmat)\n",
    "\n",
    "\n",
    "for line in iter_bmat:\n",
    "    info = line.split('\\t')\n",
    "    chr_name = info[0]\n",
    "    ref_base = info[2]\n",
    "    ls_value = [int(i) for i in info[3:7]]\n",
    "\n",
    "    \n",
    "    for base in 'AGCT':\n",
    "        if ref_base == base:\n",
    "            dict_chr[chr_name][\"mutation_all\"] = dict_chr[chr_name][\"mutation_all\"] + sum(ls_value) - ls_value['AGCT'.index(ref_base)]\n",
    "        elif ref_base == 'N':\n",
    "            continue\n",
    "        else:\n",
    "            dict_chr[chr_name][ref_base+base] = dict_chr[chr_name][ref_base+base] + ls_value['AGCT'.index(base)]\n",
    "\n"
   ]
  },
  {
   "cell_type": "code",
   "execution_count": 27,
   "metadata": {},
   "outputs": [
    {
     "name": "stdout",
     "output_type": "stream",
     "text": [
      "N\n"
     ]
    }
   ],
   "source": [
    "dict_chr"
   ]
  },
  {
   "cell_type": "code",
   "execution_count": null,
   "metadata": {},
   "outputs": [],
   "source": []
  }
 ],
 "metadata": {
  "kernelspec": {
   "display_name": "Python 3",
   "language": "python",
   "name": "python3"
  },
  "language_info": {
   "codemirror_mode": {
    "name": "ipython",
    "version": 3
   },
   "file_extension": ".py",
   "mimetype": "text/x-python",
   "name": "python",
   "nbconvert_exporter": "python",
   "pygments_lexer": "ipython3",
   "version": "3.8.3"
  }
 },
 "nbformat": 4,
 "nbformat_minor": 4
}
