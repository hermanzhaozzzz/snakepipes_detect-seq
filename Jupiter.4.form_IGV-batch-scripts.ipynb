{
 "cells": [
  {
   "cell_type": "code",
   "execution_count": 5,
   "metadata": {},
   "outputs": [],
   "source": [
    "import os \n",
    "import pandas as pd\n",
    "SiteMutNum = 4 # 师兄的M4 建议多跑几个range\n",
    "SiteCoverNum = 10 # 师兄的C10\n",
    "SiteMutRatio = 0.01 # 影响不大\n",
    "RegionPassNum = 2 # 师兄的R2\n",
    "RegionToleranceNum = 2 # 影响不大，师兄建议设置成2"
   ]
  },
  {
   "cell_type": "code",
   "execution_count": 7,
   "metadata": {},
   "outputs": [
    {
     "data": {
      "text/plain": [
       "['../table/detect_seq.StatsTest.table_CTRL-VEGFA-Vector-PD_TREAT-GBEmini-AP-RNF2-All-PD_rep1.filtered_SMN-4_SCN-10_SMR-0.01_RPN-2_RTN-2.C2G_merge_G2C_noHeader.Sign.tsv',\n",
       " '../table/detect_seq.StatsTest.table_CTRL-VEGFA-Vector-PD_TREAT-GBEmini-AP-RNF2-All-PD_rep1.filtered_SMN-4_SCN-10_SMR-0.1_RPN-2_RTN-2.C2G_merge_G2C_noHeader.Sign.tsv',\n",
       " '../table/detect_seq.StatsTest.table_CTRL-VEGFA-Vector-PD_TREAT-GBEmini-AP-RNF2-All-PD_rep1.filtered_SMN-4_SCN-5_SMR-0.01_RPN-2_RTN-2.C2G_merge_G2C_noHeader.Sign.tsv',\n",
       " '../table/detect_seq.StatsTest.table_CTRL-VEGFA-Vector-PD_TREAT-GBEmini-AP-RNF2-All-PD_rep1.filtered_SMN-4_SCN-5_SMR-0.1_RPN-2_RTN-2.C2G_merge_G2C_noHeader.Sign.tsv',\n",
       " '../table/detect_seq.StatsTest.table_CTRL-VEGFA-Vector-PD_TREAT-GBEmini-dU-RNF2-All-PD_rep1.filtered_SMN-4_SCN-10_SMR-0.01_RPN-2_RTN-2.C2G_merge_G2C_noHeader.Sign.tsv',\n",
       " '../table/detect_seq.StatsTest.table_CTRL-VEGFA-Vector-PD_TREAT-GBEmini-dU-RNF2-All-PD_rep1.filtered_SMN-4_SCN-10_SMR-0.1_RPN-2_RTN-2.C2G_merge_G2C_noHeader.Sign.tsv',\n",
       " '../table/detect_seq.StatsTest.table_CTRL-VEGFA-Vector-PD_TREAT-GBEmini-dU-RNF2-All-PD_rep1.filtered_SMN-4_SCN-5_SMR-0.01_RPN-2_RTN-2.C2G_merge_G2C_noHeader.Sign.tsv',\n",
       " '../table/detect_seq.StatsTest.table_CTRL-VEGFA-Vector-PD_TREAT-GBEmini-dU-RNF2-All-PD_rep1.filtered_SMN-4_SCN-5_SMR-0.1_RPN-2_RTN-2.C2G_merge_G2C_noHeader.Sign.tsv']"
      ]
     },
     "execution_count": 7,
     "metadata": {},
     "output_type": "execute_result"
    }
   ],
   "source": [
    "path_table = '../table/'\n",
    "ls_tables = [os.path.join(path_table,i) for i in os.listdir(path_table) if 'Sign.tsv' in i ]\n",
    "ls_tables.sort()\n",
    "# df_table = pd.DataFrame(ls_tables,columns=['TABLE_NAME'])\n",
    "# df_table['CTRL'] = df_table['TABLE_NAME'].map(lambda x: x.split('_CTRL-')[1].split('_TREAT')[0])\n",
    "# df_table['TREAT'] = df_table['TABLE_NAME'].map(lambda x: x.split('_TREAT-')[1].split('_rep')[0])\n",
    "# df_table['REP'] = df_table['TABLE_NAME'].map(lambda x: x.split('_rep')[1].split('.filtered')[0])\n",
    "# ls_info = df_table.values.tolist()\n",
    "# ls_info\n",
    "ls_tables = [i for i in ls_tables if 'SMN-%s' % SiteMutNum in i]\n",
    "ls_tables"
   ]
  },
  {
   "cell_type": "code",
   "execution_count": 15,
   "metadata": {},
   "outputs": [
    {
     "name": "stdout",
     "output_type": "stream",
     "text": [
      "****************************************************************************************************\n",
      "read from  ../table/detect_seq.StatsTest.table_CTRL-VEGFA-Vector-PD_TREAT-VEGFA-All-PD_rep1.filtered.C2T_merge_G2A_noHeader.Sign.tsv\n",
      "batch to   ../plot_art/293T-bat_TREAT-VEGFA-All-PD_CTRL-VEGFA-Vector-PD_rep1.snapshot.igv_batch\n",
      "****************************************************************************************************\n",
      "\n",
      "maxPanelHeight 1500\n",
      "snapshotDirectory /Users/mac/mac_data/3.projects/10.2020-09_0923_Practice_for_detect-seq-data/igv-snapshot\n",
      "goto chr1:939943-939957\n",
      "snapshot 293T-bat_TREAT-VEGFA-All-PD_CTRL-VEGFA-Vector-PD_rep1__chr1_939943_939957.snapshot.png\n",
      "goto chr1:942747-942766\n",
      "snapshot 293T-bat_TREAT-VEGFA-All-PD_CTRL-VEGFA-Vector-PD_rep1__chr1_942747_942766.snapshot.png\n",
      "goto chr1:1033043-1033057\n",
      "snapshot 293T-bat_TREAT-VEGFA-All-PD_CTRL-VEGFA-Vector-PD_rep1__chr1_1033043_1033057.snapshot.png\n",
      "...\n",
      "\n",
      "****************************************************************************************************\n",
      "read from  ../table/detect_seq.StatsTest.table_CTRL-VEGFA-Vector-PD_TREAT-VEGFA-All-PD_rep2.filtered.C2T_merge_G2A_noHeader.Sign.tsv\n",
      "batch to   ../plot_art/293T-bat_TREAT-VEGFA-All-PD_CTRL-VEGFA-Vector-PD_rep2.snapshot.igv_batch\n",
      "****************************************************************************************************\n",
      "\n",
      "maxPanelHeight 1500\n",
      "snapshotDirectory /Users/mac/mac_data/3.projects/10.2020-09_0923_Practice_for_detect-seq-data/igv-snapshot\n",
      "goto chr1:939943-939960\n",
      "snapshot 293T-bat_TREAT-VEGFA-All-PD_CTRL-VEGFA-Vector-PD_rep2__chr1_939943_939960.snapshot.png\n",
      "goto chr1:942752-942765\n",
      "snapshot 293T-bat_TREAT-VEGFA-All-PD_CTRL-VEGFA-Vector-PD_rep2__chr1_942752_942765.snapshot.png\n",
      "goto chr1:1033043-1033057\n",
      "snapshot 293T-bat_TREAT-VEGFA-All-PD_CTRL-VEGFA-Vector-PD_rep2__chr1_1033043_1033057.snapshot.png\n",
      "...\n",
      "\n",
      "****************************************************************************************************\n",
      "skip ../table/detect_seq.StatsTest.table_CTRL-VEGFA-Vector-PD_TREAT-VEGFA-sgRNADel-PD_rep1.filtered.C2T_merge_G2A_noHeader.Sign.tsv\n",
      "****************************************************************************************************\n",
      "\n",
      "****************************************************************************************************\n",
      "skip ../table/detect_seq.StatsTest.table_CTRL-VEGFA-Vector-PD_TREAT-VEGFA-sgRNADel-PD_rep2.filtered.C2T_merge_G2A_noHeader.Sign.tsv\n",
      "****************************************************************************************************\n",
      "\n",
      "****************************************************************************************************\n",
      "read from  ../table/detect_seq.StatsTest.table_CTRL-VEGFA-sgRNADel-PD_TREAT-VEGFA-All-PD_rep1.filtered.C2T_merge_G2A_noHeader.Sign.tsv\n",
      "batch to   ../plot_art/293T-bat_TREAT-VEGFA-All-PD_CTRL-VEGFA-sgRNADel-PD_rep1.snapshot.igv_batch\n",
      "****************************************************************************************************\n",
      "\n",
      "maxPanelHeight 1500\n",
      "snapshotDirectory /Users/mac/mac_data/3.projects/10.2020-09_0923_Practice_for_detect-seq-data/igv-snapshot\n",
      "goto chr1:939943-939957\n",
      "snapshot 293T-bat_TREAT-VEGFA-All-PD_CTRL-VEGFA-sgRNADel-PD_rep1__chr1_939943_939957.snapshot.png\n",
      "goto chr1:942747-942766\n",
      "snapshot 293T-bat_TREAT-VEGFA-All-PD_CTRL-VEGFA-sgRNADel-PD_rep1__chr1_942747_942766.snapshot.png\n",
      "goto chr1:1033043-1033057\n",
      "snapshot 293T-bat_TREAT-VEGFA-All-PD_CTRL-VEGFA-sgRNADel-PD_rep1__chr1_1033043_1033057.snapshot.png\n",
      "...\n",
      "\n",
      "****************************************************************************************************\n",
      "read from  ../table/detect_seq.StatsTest.table_CTRL-VEGFA-sgRNADel-PD_TREAT-VEGFA-All-PD_rep2.filtered.C2T_merge_G2A_noHeader.Sign.tsv\n",
      "batch to   ../plot_art/293T-bat_TREAT-VEGFA-All-PD_CTRL-VEGFA-sgRNADel-PD_rep2.snapshot.igv_batch\n",
      "****************************************************************************************************\n",
      "\n",
      "maxPanelHeight 1500\n",
      "snapshotDirectory /Users/mac/mac_data/3.projects/10.2020-09_0923_Practice_for_detect-seq-data/igv-snapshot\n",
      "goto chr1:939943-939960\n",
      "snapshot 293T-bat_TREAT-VEGFA-All-PD_CTRL-VEGFA-sgRNADel-PD_rep2__chr1_939943_939960.snapshot.png\n",
      "goto chr1:942752-942765\n",
      "snapshot 293T-bat_TREAT-VEGFA-All-PD_CTRL-VEGFA-sgRNADel-PD_rep2__chr1_942752_942765.snapshot.png\n",
      "goto chr1:1033043-1033057\n",
      "snapshot 293T-bat_TREAT-VEGFA-All-PD_CTRL-VEGFA-sgRNADel-PD_rep2__chr1_1033043_1033057.snapshot.png\n",
      "...\n",
      "\n",
      "****************************************************************************************************\n",
      "skip ../table/detect_seq.StatsTest.table_CTRL-VEGFA-sgRNADel-PD_TREAT-VEGFA-Vector-PD_rep1.filtered.C2T_merge_G2A_noHeader.Sign.tsv\n",
      "****************************************************************************************************\n",
      "\n",
      "****************************************************************************************************\n",
      "skip ../table/detect_seq.StatsTest.table_CTRL-VEGFA-sgRNADel-PD_TREAT-VEGFA-Vector-PD_rep2.filtered.C2T_merge_G2A_noHeader.Sign.tsv\n",
      "****************************************************************************************************\n",
      "\n"
     ]
    },
    {
     "data": {
      "text/plain": [
       "0"
      ]
     },
     "execution_count": 15,
     "metadata": {},
     "output_type": "execute_result"
    }
   ],
   "source": [
    "# attention! local path!\n",
    "path_out = '/Users/mac/mac_data/3.projects/10.2020-09_0923_Practice_for_detect-seq-data/igv-snapshot'\n",
    "#\n",
    "\n",
    "for path, ctrl, treat, rep in ls_info:\n",
    "    text = \"maxPanelHeight 1500\\nsnapshotDirectory {path}\\n\".format(path=path_out)\n",
    "    try:\n",
    "        df = pd.read_csv(path,header=None,sep='\\t')\n",
    "        print('*'*100)\n",
    "        print('read from ', path)\n",
    "        path_out_batch = '../plot_art/293T-bat_TREAT-{treat}_CTRL-{ctrl}_rep{rep}.snapshot.igv_batch'.format(treat=treat,ctrl=ctrl,rep=rep)\n",
    "        print('batch to  ', path_out_batch)\n",
    "        print('*'*100)\n",
    "        print('')\n",
    "    except:\n",
    "        print('*'*100)\n",
    "        print('skip', path)\n",
    "        print('*'*100)\n",
    "        print('')\n",
    "        continue\n",
    "    df = df.iloc[:,0:3]\n",
    "    for chr_, tss, tes in df.values.tolist():\n",
    "        path_out_png = '293T-bat_TREAT-{treat}_CTRL-{ctrl}_rep{rep}__{chr}_{tss}_{tes}.snapshot.png'.format(treat=treat,ctrl=ctrl,rep=rep,chr=chr_,tss=tss,tes=tes)\n",
    "        text +=\"goto {chr}:{tss}-{tes}\\nsnapshot {path_out_png}\\n\".format(chr=chr_,tss=tss,tes=tes,path_out_png=path_out_png)\n",
    "    print('\\n'.join(text.split('\\n')[:8]))\n",
    "    print('...\\n')\n",
    "    with open(path_out_batch,'w') as f:\n",
    "        f.write(text)\n",
    "os.system('tar -zcvf step.4.for_snapshot.tgz ../plot_art ../table')  "
   ]
  },
  {
   "cell_type": "code",
   "execution_count": null,
   "metadata": {},
   "outputs": [],
   "source": []
  }
 ],
 "metadata": {
  "kernelspec": {
   "display_name": "Python 3",
   "language": "python",
   "name": "python3"
  },
  "language_info": {
   "codemirror_mode": {
    "name": "ipython",
    "version": 3
   },
   "file_extension": ".py",
   "mimetype": "text/x-python",
   "name": "python",
   "nbconvert_exporter": "python",
   "pygments_lexer": "ipython3",
   "version": "3.8.3"
  }
 },
 "nbformat": 4,
 "nbformat_minor": 4
}
