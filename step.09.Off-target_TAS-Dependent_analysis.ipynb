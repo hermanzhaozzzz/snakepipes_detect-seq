{
 "cells": [
  {
   "cell_type": "markdown",
   "source": [
    "# Packages"
   ],
   "metadata": {
    "collapsed": false
   },
   "id": "474a8f2f6d74b68d"
  },
  {
   "cell_type": "code",
   "execution_count": 74,
   "outputs": [
    {
     "name": "stderr",
     "output_type": "stream",
     "text": [
      "INFO  @ 2023-08-16 01:31:02 bioat.lib.libpandas.set_option: set pandas: max_colwidth=40\n",
      "INFO  @ 2023-08-16 01:31:02 bioat.lib.libpandas.set_option: set pandas: max_colwidth=40\n",
      "INFO  @ 2023-08-16 01:31:02 bioat.lib.libpandas.set_option: set pandas: max_colwidth=40\n",
      "INFO  @ 2023-08-16 01:31:02 bioat.lib.libpandas.set_option: set pandas: max_colwidth=40\n",
      "INFO  @ 2023-08-16 01:31:02 bioat.lib.libpandas.set_option: set pandas: display.width=120\n",
      "INFO  @ 2023-08-16 01:31:02 bioat.lib.libpandas.set_option: set pandas: display.width=120\n",
      "INFO  @ 2023-08-16 01:31:02 bioat.lib.libpandas.set_option: set pandas: display.width=120\n",
      "INFO  @ 2023-08-16 01:31:02 bioat.lib.libpandas.set_option: set pandas: display.width=120\n",
      "INFO  @ 2023-08-16 01:31:02 bioat.lib.libpandas.set_option: set pandas: display.max_columns=None\n",
      "INFO  @ 2023-08-16 01:31:02 bioat.lib.libpandas.set_option: set pandas: display.max_columns=None\n",
      "INFO  @ 2023-08-16 01:31:02 bioat.lib.libpandas.set_option: set pandas: display.max_columns=None\n",
      "INFO  @ 2023-08-16 01:31:02 bioat.lib.libpandas.set_option: set pandas: display.max_columns=None\n",
      "INFO  @ 2023-08-16 01:31:02 bioat.lib.libpandas.set_option: set pandas: display.max_rows=50\n",
      "INFO  @ 2023-08-16 01:31:02 bioat.lib.libpandas.set_option: set pandas: display.max_rows=50\n",
      "INFO  @ 2023-08-16 01:31:02 bioat.lib.libpandas.set_option: set pandas: display.max_rows=50\n",
      "INFO  @ 2023-08-16 01:31:02 bioat.lib.libpandas.set_option: set pandas: display.max_rows=50\n"
     ]
    }
   ],
   "source": [
    "import os\n",
    "from glob import glob\n",
    "\n",
    "import pandas as pd\n",
    "from bioat.lib.libpandas import set_option\n",
    "from bioat.lib.libpath import HOME\n",
    "from pybedtools import BedTool\n",
    "\n",
    "set_option()"
   ],
   "metadata": {
    "collapsed": false,
    "ExecuteTime": {
     "end_time": "2023-08-15T17:31:02.354143Z",
     "start_time": "2023-08-15T17:31:02.277462Z"
    }
   },
   "id": "dd5666857ba15501"
  },
  {
   "cell_type": "markdown",
   "source": [
    "# classification for TAS-dependent"
   ],
   "metadata": {
    "collapsed": false
   },
   "id": "2be7322eee0c6a35"
  },
  {
   "cell_type": "markdown",
   "source": [
    "## get art files"
   ],
   "metadata": {
    "collapsed": false
   },
   "id": "7a462ab86e2b39b1"
  },
  {
   "cell_type": "markdown",
   "source": [
    "```bash\n",
    "# 使用TALE的左右两边的序列来align\n",
    "# 拿到align后的art file\n",
    "# plot art生成pdf\n",
    "/gpfs/user/zhaohuanan/3.project/2022_DdCBE-3D-Genome_topic/2022-09-30_Detect-seq_batch-1_ATP8_JAK2_SIRT6/art/plot_art.sh\n",
    "```"
   ],
   "metadata": {
    "collapsed": false
   },
   "id": "fc4dbdae7e0af97d"
  },
  {
   "cell_type": "markdown",
   "source": [
    "```bash\n",
    "# for backup\n",
    "       │ File: plot_art.sh\n",
    "───────┼─────────────────────────────────────────────────────────────────────────────────────────────────────────────────────────────────────────────────────────────────────────\n",
    "   1   │ # bipython==1.78!!!\n",
    "   2   │ \n",
    "   3   │ \n",
    "   4   │ GENOME=$HOME/1.database/db_genomes/genome_fa/genome_ucsc_hg38/genome_ucsc_hg38.fa\n",
    "   5   │ K_PARAM=align_total_mismatch,align_degen_total_mismatch,align_total_gap\n",
    "   6   │ K_R=True,True,True\n",
    "   7   │ A_PARAM=align_coordinate,align_strand,align_total_mismatch,align_degen_total_mismatch,region_index\n",
    "   8   │ \n",
    "   9   │ \n",
    "  10   │ # ATP8\n",
    "  11   │ # L_TALE=ATTAAACACAAACTAC\n",
    "  12   │ # R_TALE=ATGGGCTTTGGT\n",
    "  13   │ # JAK2\n",
    "  14   │ # L_TALE=CTGAAAAAGACTCTGCA\n",
    "  15   │ # R_TALE=CCATTTCTGTCATCGTA\n",
    "  16   │ # SIRT6\n",
    "  17   │ L_TALE=TACGCGGCGGGGCTGTC\n",
    "  18   │ R_TALE=CCGGGAGGCCGCACTTG\n",
    "  19   │ \n",
    "  20   │ \n",
    "  21   │ \n",
    "  22   │ \n",
    "  23   │ # for SAMPLE in   DetectSeq_ATP8-DddAwt_REP-1 \\\n",
    "  24   │ #               DetectSeq_ATP8-DddA6_REP-1 \\\n",
    "  25   │ #               DetectSeq_ATP8-DddA11_REP-1;\n",
    "  26   │ # for SAMPLE in   DetectSeq_JAK2-DddA11_REP-1 \\\n",
    "  27   │ #               DetectSeq_JAK2-DddA11_REP-2;\n",
    "  28   │ for SAMPLE in   DetectSeq_SIRT6-DddA11_REP-1 \\\n",
    "  29   │                 DetectSeq_SIRT6-DddA11_REP-2;\n",
    "  30   │     do\n",
    "  31   │     MPMAT=../final_list_after_igv_check/2023-04-20_${SAMPLE}_final_list.mpmat\n",
    "  32   │     L_ART=${SAMPLE}_TALE_align.Left.art\n",
    "  33   │     R_ART=${SAMPLE}_TALE_align.Right.art\n",
    "  34   │     L_ARTPLOT=Plot_Fig_${SAMPLE}_TALE_align.Left.pdf\n",
    "  35   │     R_ARTPLOT=Plot_Fig_${SAMPLE}_TALE_align.Right.pdf\n",
    "  36   │ \n",
    "  37   │     python mpmat-to-art-TALE.py -r ${GENOME} -i ${MPMAT} -q ${L_TALE} -m region -e 50 --input_filetype mpmat --input_header False -o ${L_ART}\n",
    "  38   │     python mpmat-to-art-TALE.py -r ${GENOME} -i ${MPMAT} -q ${R_TALE} -m region -e 50 --input_filetype mpmat --input_header False -o ${R_ART} \n",
    "  39   │     python plot-art.py -i ${L_ART} -o ${L_ARTPLOT} --align_seq ${L_TALE} -k ${K_PARAM}  -r ${K_R} -a ${A_PARAM}\n",
    "  40   │     python plot-art.py -i ${R_ART} -o ${R_ARTPLOT} --align_seq ${R_TALE} -k ${K_PARAM}  -r ${K_R} -a ${A_PARAM}\n",
    "  41   │ done;\n",
    "```"
   ],
   "metadata": {
    "collapsed": false
   },
   "id": "f982864953b0c7b7"
  },
  {
   "cell_type": "markdown",
   "source": [
    "## get df_arts"
   ],
   "metadata": {
    "collapsed": false
   },
   "id": "98e3c824cd2d9200"
  },
  {
   "cell_type": "code",
   "execution_count": 75,
   "outputs": [],
   "source": [
    "# %% classification for TAS-dependent and TAS-independent off-target\n",
    "# use information of art files\n",
    "arts = sorted(glob('../art/DetectSeq_*.art'))"
   ],
   "metadata": {
    "collapsed": false,
    "ExecuteTime": {
     "end_time": "2023-08-15T17:31:02.471709Z",
     "start_time": "2023-08-15T17:31:02.293403Z"
    }
   },
   "id": "4344266733eca076"
  },
  {
   "cell_type": "code",
   "execution_count": 76,
   "outputs": [
    {
     "data": {
      "text/plain": "(30794, 21)"
     },
     "execution_count": 76,
     "metadata": {},
     "output_type": "execute_result"
    }
   ],
   "source": [
    "ls_arts = []\n",
    "\n",
    "for art in arts:\n",
    "    # print(art)\n",
    "    df = pd.read_csv(art, sep='\\t')\n",
    "    df['file_info'] = art\n",
    "    ls_arts.append(df)\n",
    "\n",
    "df_arts = pd.concat(ls_arts)\n",
    "df_arts.shape"
   ],
   "metadata": {
    "collapsed": false,
    "ExecuteTime": {
     "end_time": "2023-08-15T17:31:02.639466Z",
     "start_time": "2023-08-15T17:31:02.298931Z"
    }
   },
   "id": "88c1b7378b6e4bf1"
  },
  {
   "cell_type": "code",
   "execution_count": 77,
   "outputs": [
    {
     "name": "stderr",
     "output_type": "stream",
     "text": [
      "/var/folders/79/yd907p9x4537vqhgfrm0md680000gn/T/ipykernel_21571/3199495337.py:5: FutureWarning: The default value of regex will change from True to False in a future version.\n",
      "  .str.replace('.art', '')\n"
     ]
    },
    {
     "data": {
      "text/plain": "      chrom      start        end              region_index align_chr_name  align_chr_start  align_chr_end  \\\n0     chr11   28107073   28107246   chr11_28107123_28107196          chr11         28107158       28107173   \n1      chr4  127523422  127523578  chr4_127523472_127523528           chr4        127523489      127523504   \n2     chr10   79996509   79996654   chr10_79996559_79996604          chr10         79996621       79996636   \n3     chr20   36808662   36808791   chr20_36808712_36808741          chr20         36808693       36808708   \n4      chr9  115952192  115952353  chr9_115952242_115952303           chr9        115952317      115952332   \n...     ...        ...        ...                       ...            ...              ...            ...   \n9388   chr1  148725196  148725316  chr1_148725246_148725266           chr1        148725219      148725235   \n9389   chr8   81158675   81158808    chr8_81158725_81158758           chr8         81158721       81158737   \n9390   chr8  100191766  100191880  chr8_100191816_100191830           chr8        100191813      100191829   \n9391  chr17   32831928   32832041   chr17_32831978_32831991          chr17         32831942       32831958   \n9392   chrX   79459820   79459946    chrX_79459870_79459896           chrX         79459877       79459893   \n\n     align_strand  align_dist_to_signal align_N0_base  align_total_match  align_total_mismatch  \\\n0               +                   -50             T                  9                     7   \n1               +                   -32             T                  8                     8   \n2               +                   -77             C                 10                     6   \n3               +                     4             C                 10                     6   \n4               -                    14             T                  9                     7   \n...           ...                   ...           ...                ...                   ...   \n9388            +                    11             T                  4                    13   \n9389            +                    21             C                  9                     8   \n9390            -                   -17             C                  8                     9   \n9391            +                    20             A                  9                     8   \n9392            +                     3             A                  8                     9   \n\n      align_degen_total_match  align_degen_total_mismatch  align_degen_num  align_total_gap  align_score  \\\n0                           9                           7                0                0         27.0   \n1                           8                           8                0                0         18.0   \n2                          10                           6                0                0         26.0   \n3                          10                           6                0                0         26.0   \n4                           9                           7                0                0         27.0   \n...                       ...                         ...              ...              ...          ...   \n9388                       11                           6                7                0         27.0   \n9389                       11                           6                2                0         27.0   \n9390                       11                           6                3                0         25.0   \n9391                       12                           5                3                0         34.0   \n9392                       11                           6                3                0         25.0   \n\n       align_target_seq   align_info_state    align_query_seq                                file_info  \\\n0      TTTATAAAAACCTTAC   X|||X|X|X|XXX|||   ATTAAACACAAACTAC  ../art/DetectSeq_ATP8-DddA11_REP-1_T...   \n1      TTGAAATTTGATCTCC   X|X|||XXXX|X||X|   ATTAAACACAAACTAC  ../art/DetectSeq_ATP8-DddA11_REP-1_T...   \n2      CCTTTACAAAAACTCC   XX|XX|||X|||||X|   ATTAAACACAAACTAC  ../art/DetectSeq_ATP8-DddA11_REP-1_T...   \n3      CTGCAGCTCAAACTCC   X|XX|X|X||||||X|   ATTAAACACAAACTAC  ../art/DetectSeq_ATP8-DddA11_REP-1_T...   \n4      TTTAAGCCCCACATGC   X||||X|X|X|XX|X|   ATTAAACACAAACTAC  ../art/DetectSeq_ATP8-DddA11_REP-1_T...   \n...                 ...                ...                ...                                      ...   \n9388  TTAAAAAAACAGAGGTA  XX...|..X|.X|XX|.  CCGGGAGGCCGCACTTG  ../art/DetectSeq_SIRT6-DddA11_REP-2_...   \n9389  CCCTGAAAGGGCACTAC  ||XX||..XX|||||XX  CCGGGAGGCCGCACTTG  ../art/DetectSeq_SIRT6-DddA11_REP-2_...   \n9390  CACAGAGTTCACCCCTA  |XX.|||XX|.|X|X|.  CCGGGAGGCCGCACTTG  ../art/DetectSeq_SIRT6-DddA11_REP-2_...   \n9391  AGGGGAAACTAACCTTG  XX||||..|X.XX||||  CCGGGAGGCCGCACTTG  ../art/DetectSeq_SIRT6-DddA11_REP-2_...   \n9392  ACGGAAAAGGGATGTTG  X|||.|..XX|XXX|||  CCGGGAGGCCGCACTTG  ../art/DetectSeq_SIRT6-DddA11_REP-2_...   \n\n                          <sample> TAS-Dep_stat  \n0      DetectSeq_ATP8-DddA11_REP-1         Left  \n1      DetectSeq_ATP8-DddA11_REP-1         Left  \n2      DetectSeq_ATP8-DddA11_REP-1         Left  \n3      DetectSeq_ATP8-DddA11_REP-1         Left  \n4      DetectSeq_ATP8-DddA11_REP-1         Left  \n...                            ...          ...  \n9388  DetectSeq_SIRT6-DddA11_REP-2        Right  \n9389  DetectSeq_SIRT6-DddA11_REP-2        Right  \n9390  DetectSeq_SIRT6-DddA11_REP-2        Right  \n9391  DetectSeq_SIRT6-DddA11_REP-2        Right  \n9392  DetectSeq_SIRT6-DddA11_REP-2        Right  \n\n[30794 rows x 23 columns]",
      "text/html": "<div>\n<style scoped>\n    .dataframe tbody tr th:only-of-type {\n        vertical-align: middle;\n    }\n\n    .dataframe tbody tr th {\n        vertical-align: top;\n    }\n\n    .dataframe thead th {\n        text-align: right;\n    }\n</style>\n<table border=\"1\" class=\"dataframe\">\n  <thead>\n    <tr style=\"text-align: right;\">\n      <th></th>\n      <th>chrom</th>\n      <th>start</th>\n      <th>end</th>\n      <th>region_index</th>\n      <th>align_chr_name</th>\n      <th>align_chr_start</th>\n      <th>align_chr_end</th>\n      <th>align_strand</th>\n      <th>align_dist_to_signal</th>\n      <th>align_N0_base</th>\n      <th>align_total_match</th>\n      <th>align_total_mismatch</th>\n      <th>align_degen_total_match</th>\n      <th>align_degen_total_mismatch</th>\n      <th>align_degen_num</th>\n      <th>align_total_gap</th>\n      <th>align_score</th>\n      <th>align_target_seq</th>\n      <th>align_info_state</th>\n      <th>align_query_seq</th>\n      <th>file_info</th>\n      <th>&lt;sample&gt;</th>\n      <th>TAS-Dep_stat</th>\n    </tr>\n  </thead>\n  <tbody>\n    <tr>\n      <th>0</th>\n      <td>chr11</td>\n      <td>28107073</td>\n      <td>28107246</td>\n      <td>chr11_28107123_28107196</td>\n      <td>chr11</td>\n      <td>28107158</td>\n      <td>28107173</td>\n      <td>+</td>\n      <td>-50</td>\n      <td>T</td>\n      <td>9</td>\n      <td>7</td>\n      <td>9</td>\n      <td>7</td>\n      <td>0</td>\n      <td>0</td>\n      <td>27.0</td>\n      <td>TTTATAAAAACCTTAC</td>\n      <td>X|||X|X|X|XXX|||</td>\n      <td>ATTAAACACAAACTAC</td>\n      <td>../art/DetectSeq_ATP8-DddA11_REP-1_T...</td>\n      <td>DetectSeq_ATP8-DddA11_REP-1</td>\n      <td>Left</td>\n    </tr>\n    <tr>\n      <th>1</th>\n      <td>chr4</td>\n      <td>127523422</td>\n      <td>127523578</td>\n      <td>chr4_127523472_127523528</td>\n      <td>chr4</td>\n      <td>127523489</td>\n      <td>127523504</td>\n      <td>+</td>\n      <td>-32</td>\n      <td>T</td>\n      <td>8</td>\n      <td>8</td>\n      <td>8</td>\n      <td>8</td>\n      <td>0</td>\n      <td>0</td>\n      <td>18.0</td>\n      <td>TTGAAATTTGATCTCC</td>\n      <td>X|X|||XXXX|X||X|</td>\n      <td>ATTAAACACAAACTAC</td>\n      <td>../art/DetectSeq_ATP8-DddA11_REP-1_T...</td>\n      <td>DetectSeq_ATP8-DddA11_REP-1</td>\n      <td>Left</td>\n    </tr>\n    <tr>\n      <th>2</th>\n      <td>chr10</td>\n      <td>79996509</td>\n      <td>79996654</td>\n      <td>chr10_79996559_79996604</td>\n      <td>chr10</td>\n      <td>79996621</td>\n      <td>79996636</td>\n      <td>+</td>\n      <td>-77</td>\n      <td>C</td>\n      <td>10</td>\n      <td>6</td>\n      <td>10</td>\n      <td>6</td>\n      <td>0</td>\n      <td>0</td>\n      <td>26.0</td>\n      <td>CCTTTACAAAAACTCC</td>\n      <td>XX|XX|||X|||||X|</td>\n      <td>ATTAAACACAAACTAC</td>\n      <td>../art/DetectSeq_ATP8-DddA11_REP-1_T...</td>\n      <td>DetectSeq_ATP8-DddA11_REP-1</td>\n      <td>Left</td>\n    </tr>\n    <tr>\n      <th>3</th>\n      <td>chr20</td>\n      <td>36808662</td>\n      <td>36808791</td>\n      <td>chr20_36808712_36808741</td>\n      <td>chr20</td>\n      <td>36808693</td>\n      <td>36808708</td>\n      <td>+</td>\n      <td>4</td>\n      <td>C</td>\n      <td>10</td>\n      <td>6</td>\n      <td>10</td>\n      <td>6</td>\n      <td>0</td>\n      <td>0</td>\n      <td>26.0</td>\n      <td>CTGCAGCTCAAACTCC</td>\n      <td>X|XX|X|X||||||X|</td>\n      <td>ATTAAACACAAACTAC</td>\n      <td>../art/DetectSeq_ATP8-DddA11_REP-1_T...</td>\n      <td>DetectSeq_ATP8-DddA11_REP-1</td>\n      <td>Left</td>\n    </tr>\n    <tr>\n      <th>4</th>\n      <td>chr9</td>\n      <td>115952192</td>\n      <td>115952353</td>\n      <td>chr9_115952242_115952303</td>\n      <td>chr9</td>\n      <td>115952317</td>\n      <td>115952332</td>\n      <td>-</td>\n      <td>14</td>\n      <td>T</td>\n      <td>9</td>\n      <td>7</td>\n      <td>9</td>\n      <td>7</td>\n      <td>0</td>\n      <td>0</td>\n      <td>27.0</td>\n      <td>TTTAAGCCCCACATGC</td>\n      <td>X||||X|X|X|XX|X|</td>\n      <td>ATTAAACACAAACTAC</td>\n      <td>../art/DetectSeq_ATP8-DddA11_REP-1_T...</td>\n      <td>DetectSeq_ATP8-DddA11_REP-1</td>\n      <td>Left</td>\n    </tr>\n    <tr>\n      <th>...</th>\n      <td>...</td>\n      <td>...</td>\n      <td>...</td>\n      <td>...</td>\n      <td>...</td>\n      <td>...</td>\n      <td>...</td>\n      <td>...</td>\n      <td>...</td>\n      <td>...</td>\n      <td>...</td>\n      <td>...</td>\n      <td>...</td>\n      <td>...</td>\n      <td>...</td>\n      <td>...</td>\n      <td>...</td>\n      <td>...</td>\n      <td>...</td>\n      <td>...</td>\n      <td>...</td>\n      <td>...</td>\n      <td>...</td>\n    </tr>\n    <tr>\n      <th>9388</th>\n      <td>chr1</td>\n      <td>148725196</td>\n      <td>148725316</td>\n      <td>chr1_148725246_148725266</td>\n      <td>chr1</td>\n      <td>148725219</td>\n      <td>148725235</td>\n      <td>+</td>\n      <td>11</td>\n      <td>T</td>\n      <td>4</td>\n      <td>13</td>\n      <td>11</td>\n      <td>6</td>\n      <td>7</td>\n      <td>0</td>\n      <td>27.0</td>\n      <td>TTAAAAAAACAGAGGTA</td>\n      <td>XX...|..X|.X|XX|.</td>\n      <td>CCGGGAGGCCGCACTTG</td>\n      <td>../art/DetectSeq_SIRT6-DddA11_REP-2_...</td>\n      <td>DetectSeq_SIRT6-DddA11_REP-2</td>\n      <td>Right</td>\n    </tr>\n    <tr>\n      <th>9389</th>\n      <td>chr8</td>\n      <td>81158675</td>\n      <td>81158808</td>\n      <td>chr8_81158725_81158758</td>\n      <td>chr8</td>\n      <td>81158721</td>\n      <td>81158737</td>\n      <td>+</td>\n      <td>21</td>\n      <td>C</td>\n      <td>9</td>\n      <td>8</td>\n      <td>11</td>\n      <td>6</td>\n      <td>2</td>\n      <td>0</td>\n      <td>27.0</td>\n      <td>CCCTGAAAGGGCACTAC</td>\n      <td>||XX||..XX|||||XX</td>\n      <td>CCGGGAGGCCGCACTTG</td>\n      <td>../art/DetectSeq_SIRT6-DddA11_REP-2_...</td>\n      <td>DetectSeq_SIRT6-DddA11_REP-2</td>\n      <td>Right</td>\n    </tr>\n    <tr>\n      <th>9390</th>\n      <td>chr8</td>\n      <td>100191766</td>\n      <td>100191880</td>\n      <td>chr8_100191816_100191830</td>\n      <td>chr8</td>\n      <td>100191813</td>\n      <td>100191829</td>\n      <td>-</td>\n      <td>-17</td>\n      <td>C</td>\n      <td>8</td>\n      <td>9</td>\n      <td>11</td>\n      <td>6</td>\n      <td>3</td>\n      <td>0</td>\n      <td>25.0</td>\n      <td>CACAGAGTTCACCCCTA</td>\n      <td>|XX.|||XX|.|X|X|.</td>\n      <td>CCGGGAGGCCGCACTTG</td>\n      <td>../art/DetectSeq_SIRT6-DddA11_REP-2_...</td>\n      <td>DetectSeq_SIRT6-DddA11_REP-2</td>\n      <td>Right</td>\n    </tr>\n    <tr>\n      <th>9391</th>\n      <td>chr17</td>\n      <td>32831928</td>\n      <td>32832041</td>\n      <td>chr17_32831978_32831991</td>\n      <td>chr17</td>\n      <td>32831942</td>\n      <td>32831958</td>\n      <td>+</td>\n      <td>20</td>\n      <td>A</td>\n      <td>9</td>\n      <td>8</td>\n      <td>12</td>\n      <td>5</td>\n      <td>3</td>\n      <td>0</td>\n      <td>34.0</td>\n      <td>AGGGGAAACTAACCTTG</td>\n      <td>XX||||..|X.XX||||</td>\n      <td>CCGGGAGGCCGCACTTG</td>\n      <td>../art/DetectSeq_SIRT6-DddA11_REP-2_...</td>\n      <td>DetectSeq_SIRT6-DddA11_REP-2</td>\n      <td>Right</td>\n    </tr>\n    <tr>\n      <th>9392</th>\n      <td>chrX</td>\n      <td>79459820</td>\n      <td>79459946</td>\n      <td>chrX_79459870_79459896</td>\n      <td>chrX</td>\n      <td>79459877</td>\n      <td>79459893</td>\n      <td>+</td>\n      <td>3</td>\n      <td>A</td>\n      <td>8</td>\n      <td>9</td>\n      <td>11</td>\n      <td>6</td>\n      <td>3</td>\n      <td>0</td>\n      <td>25.0</td>\n      <td>ACGGAAAAGGGATGTTG</td>\n      <td>X|||.|..XX|XXX|||</td>\n      <td>CCGGGAGGCCGCACTTG</td>\n      <td>../art/DetectSeq_SIRT6-DddA11_REP-2_...</td>\n      <td>DetectSeq_SIRT6-DddA11_REP-2</td>\n      <td>Right</td>\n    </tr>\n  </tbody>\n</table>\n<p>30794 rows × 23 columns</p>\n</div>"
     },
     "execution_count": 77,
     "metadata": {},
     "output_type": "execute_result"
    }
   ],
   "source": [
    "df_arts[['<sample>', 'TAS-Dep_stat']] = (\n",
    "    df_arts['file_info']\n",
    "    .str.split('/')\n",
    "    .str[-1]\n",
    "    .str.replace('.art', '')\n",
    "    .str.split('_TALE_align.', expand=True)\n",
    ")\n",
    "df_arts"
   ],
   "metadata": {
    "collapsed": false,
    "ExecuteTime": {
     "end_time": "2023-08-15T17:31:02.647786Z",
     "start_time": "2023-08-15T17:31:02.451717Z"
    }
   },
   "id": "efd5b2f11e6246bb"
  },
  {
   "cell_type": "code",
   "execution_count": 78,
   "outputs": [
    {
     "data": {
      "text/plain": "      chrom      start        end              region_index align_chr_name  align_chr_start  align_chr_end  \\\n6994  chr19    4182444    4182569     chr19_4182494_4182519          chr19          4182511        4182527   \n886    chr9  129203049  129203171  chr9_129203099_129203121           chr9        129203129      129203145   \n45     chr9    5021948    5022146      chr9_5021998_5022096           chr9          5022005        5022021   \n559    chr9    5021875    5022047      chr9_5021925_5021997           chr9          5022005        5022021   \n6994  chr19    4182444    4182569     chr19_4182494_4182519          chr19          4182476        4182492   \n...     ...        ...        ...                       ...            ...              ...            ...   \n443   chr16   89268826   89268947   chr16_89268876_89268897          chr16         89268919       89268935   \n534    chr3   47475992   47476103    chr3_47476042_47476053           chr3         47476065       47476081   \n208    chr6   30556597   30556713    chr6_30556647_30556663           chr6         30556692       30556708   \n75    chr15   68651206   68651327   chr15_68651256_68651277          chr15         68651272       68651287   \n137   chr15   89358724   89358834   chr15_89358774_89358784          chr15         89358771       89358786   \n\n     align_strand  align_dist_to_signal align_N0_base  align_total_match  align_total_mismatch  \\\n6994            -                    17             T                 17                     0   \n886             -                     8             T                 13                     4   \n45              -                     7             C                 17                     0   \n559             -                     8             C                 17                     0   \n6994            +                     2             C                 17                     0   \n...           ...                   ...           ...                ...                   ...   \n443             -                    43             C                  8                     9   \n534             -                    23             C                  8                     9   \n208             -                    29             C                  8                     9   \n75              -                    16             G                  7                     9   \n137             -                   -13             G                  7                     9   \n\n      align_degen_total_match  align_degen_total_mismatch  align_degen_num  align_total_gap  align_score  \\\n6994                       17                           0                0                0         95.0   \n886                        17                           0                4                0         87.0   \n45                         17                           0                0                0         85.0   \n559                        17                           0                0                0         85.0   \n6994                       17                           0                0                0         85.0   \n...                       ...                         ...              ...              ...          ...   \n443                         8                           9                0                0          4.0   \n534                         8                           9                0                0          4.0   \n208                         8                           9                0                0          4.0   \n75                          7                           9                0                0         -1.0   \n137                         7                           9                0                0         -1.0   \n\n       align_target_seq   align_info_state    align_query_seq                                file_info  \\\n6994  TACGCGGCGGGGCTGTC  |||||||||||||||||  TACGCGGCGGGGCTGTC  ../art/DetectSeq_SIRT6-DddA11_REP-2_...   \n886   TACGCGACAGAACTGTC  ||||||.|.|..|||||  TACGCGGCGGGGCTGTC  ../art/DetectSeq_SIRT6-DddA11_REP-1_...   \n45    CCATTTCTGTCATCGTA  |||||||||||||||||  CCATTTCTGTCATCGTA  ../art/DetectSeq_JAK2-DddA11_REP-1_T...   \n559   CCATTTCTGTCATCGTA  |||||||||||||||||  CCATTTCTGTCATCGTA  ../art/DetectSeq_JAK2-DddA11_REP-2_T...   \n6994  CCGGGAGGCCGCACTTG  |||||||||||||||||  CCGGGAGGCCGCACTTG  ../art/DetectSeq_SIRT6-DddA11_REP-2_...   \n...                 ...                ...                ...                                      ...   \n443   CAGAGCAGGGCAGGGCC  |X||XX|X|X|XXX||X  CTGAAAAAGACTCTGCA  ../art/DetectSeq_JAK2-DddA11_REP-2_T...   \n534   CCATACTTCCCTCCGGT  ||||XXX|XX|XX||XX  CCATTTCTGTCATCGTA  ../art/DetectSeq_JAK2-DddA11_REP-1_T...   \n208   CCACTAAGGTCAAGCCC  |||X|XXX||||XXXXX  CCATTTCTGTCATCGTA  ../art/DetectSeq_JAK2-DddA11_REP-1_T...   \n75     GCCCAGCCCTGACCAC   XXXX|X|X|XX||X||   ATTAAACACAAACTAC  ../art/DetectSeq_ATP8-DddA11_REP-1_T...   \n137    GTCCAACAGCGCCCTC   X|XX||||XXXX|XX|   ATTAAACACAAACTAC  ../art/DetectSeq_ATP8-DddA11_REP-1_T...   \n\n                          <sample> TAS-Dep_stat  \n6994  DetectSeq_SIRT6-DddA11_REP-2         Left  \n886   DetectSeq_SIRT6-DddA11_REP-1         Left  \n45     DetectSeq_JAK2-DddA11_REP-1        Right  \n559    DetectSeq_JAK2-DddA11_REP-2        Right  \n6994  DetectSeq_SIRT6-DddA11_REP-2        Right  \n...                            ...          ...  \n443    DetectSeq_JAK2-DddA11_REP-2         Left  \n534    DetectSeq_JAK2-DddA11_REP-1        Right  \n208    DetectSeq_JAK2-DddA11_REP-1        Right  \n75     DetectSeq_ATP8-DddA11_REP-1         Left  \n137    DetectSeq_ATP8-DddA11_REP-1         Left  \n\n[27137 rows x 23 columns]",
      "text/html": "<div>\n<style scoped>\n    .dataframe tbody tr th:only-of-type {\n        vertical-align: middle;\n    }\n\n    .dataframe tbody tr th {\n        vertical-align: top;\n    }\n\n    .dataframe thead th {\n        text-align: right;\n    }\n</style>\n<table border=\"1\" class=\"dataframe\">\n  <thead>\n    <tr style=\"text-align: right;\">\n      <th></th>\n      <th>chrom</th>\n      <th>start</th>\n      <th>end</th>\n      <th>region_index</th>\n      <th>align_chr_name</th>\n      <th>align_chr_start</th>\n      <th>align_chr_end</th>\n      <th>align_strand</th>\n      <th>align_dist_to_signal</th>\n      <th>align_N0_base</th>\n      <th>align_total_match</th>\n      <th>align_total_mismatch</th>\n      <th>align_degen_total_match</th>\n      <th>align_degen_total_mismatch</th>\n      <th>align_degen_num</th>\n      <th>align_total_gap</th>\n      <th>align_score</th>\n      <th>align_target_seq</th>\n      <th>align_info_state</th>\n      <th>align_query_seq</th>\n      <th>file_info</th>\n      <th>&lt;sample&gt;</th>\n      <th>TAS-Dep_stat</th>\n    </tr>\n  </thead>\n  <tbody>\n    <tr>\n      <th>6994</th>\n      <td>chr19</td>\n      <td>4182444</td>\n      <td>4182569</td>\n      <td>chr19_4182494_4182519</td>\n      <td>chr19</td>\n      <td>4182511</td>\n      <td>4182527</td>\n      <td>-</td>\n      <td>17</td>\n      <td>T</td>\n      <td>17</td>\n      <td>0</td>\n      <td>17</td>\n      <td>0</td>\n      <td>0</td>\n      <td>0</td>\n      <td>95.0</td>\n      <td>TACGCGGCGGGGCTGTC</td>\n      <td>|||||||||||||||||</td>\n      <td>TACGCGGCGGGGCTGTC</td>\n      <td>../art/DetectSeq_SIRT6-DddA11_REP-2_...</td>\n      <td>DetectSeq_SIRT6-DddA11_REP-2</td>\n      <td>Left</td>\n    </tr>\n    <tr>\n      <th>886</th>\n      <td>chr9</td>\n      <td>129203049</td>\n      <td>129203171</td>\n      <td>chr9_129203099_129203121</td>\n      <td>chr9</td>\n      <td>129203129</td>\n      <td>129203145</td>\n      <td>-</td>\n      <td>8</td>\n      <td>T</td>\n      <td>13</td>\n      <td>4</td>\n      <td>17</td>\n      <td>0</td>\n      <td>4</td>\n      <td>0</td>\n      <td>87.0</td>\n      <td>TACGCGACAGAACTGTC</td>\n      <td>||||||.|.|..|||||</td>\n      <td>TACGCGGCGGGGCTGTC</td>\n      <td>../art/DetectSeq_SIRT6-DddA11_REP-1_...</td>\n      <td>DetectSeq_SIRT6-DddA11_REP-1</td>\n      <td>Left</td>\n    </tr>\n    <tr>\n      <th>45</th>\n      <td>chr9</td>\n      <td>5021948</td>\n      <td>5022146</td>\n      <td>chr9_5021998_5022096</td>\n      <td>chr9</td>\n      <td>5022005</td>\n      <td>5022021</td>\n      <td>-</td>\n      <td>7</td>\n      <td>C</td>\n      <td>17</td>\n      <td>0</td>\n      <td>17</td>\n      <td>0</td>\n      <td>0</td>\n      <td>0</td>\n      <td>85.0</td>\n      <td>CCATTTCTGTCATCGTA</td>\n      <td>|||||||||||||||||</td>\n      <td>CCATTTCTGTCATCGTA</td>\n      <td>../art/DetectSeq_JAK2-DddA11_REP-1_T...</td>\n      <td>DetectSeq_JAK2-DddA11_REP-1</td>\n      <td>Right</td>\n    </tr>\n    <tr>\n      <th>559</th>\n      <td>chr9</td>\n      <td>5021875</td>\n      <td>5022047</td>\n      <td>chr9_5021925_5021997</td>\n      <td>chr9</td>\n      <td>5022005</td>\n      <td>5022021</td>\n      <td>-</td>\n      <td>8</td>\n      <td>C</td>\n      <td>17</td>\n      <td>0</td>\n      <td>17</td>\n      <td>0</td>\n      <td>0</td>\n      <td>0</td>\n      <td>85.0</td>\n      <td>CCATTTCTGTCATCGTA</td>\n      <td>|||||||||||||||||</td>\n      <td>CCATTTCTGTCATCGTA</td>\n      <td>../art/DetectSeq_JAK2-DddA11_REP-2_T...</td>\n      <td>DetectSeq_JAK2-DddA11_REP-2</td>\n      <td>Right</td>\n    </tr>\n    <tr>\n      <th>6994</th>\n      <td>chr19</td>\n      <td>4182444</td>\n      <td>4182569</td>\n      <td>chr19_4182494_4182519</td>\n      <td>chr19</td>\n      <td>4182476</td>\n      <td>4182492</td>\n      <td>+</td>\n      <td>2</td>\n      <td>C</td>\n      <td>17</td>\n      <td>0</td>\n      <td>17</td>\n      <td>0</td>\n      <td>0</td>\n      <td>0</td>\n      <td>85.0</td>\n      <td>CCGGGAGGCCGCACTTG</td>\n      <td>|||||||||||||||||</td>\n      <td>CCGGGAGGCCGCACTTG</td>\n      <td>../art/DetectSeq_SIRT6-DddA11_REP-2_...</td>\n      <td>DetectSeq_SIRT6-DddA11_REP-2</td>\n      <td>Right</td>\n    </tr>\n    <tr>\n      <th>...</th>\n      <td>...</td>\n      <td>...</td>\n      <td>...</td>\n      <td>...</td>\n      <td>...</td>\n      <td>...</td>\n      <td>...</td>\n      <td>...</td>\n      <td>...</td>\n      <td>...</td>\n      <td>...</td>\n      <td>...</td>\n      <td>...</td>\n      <td>...</td>\n      <td>...</td>\n      <td>...</td>\n      <td>...</td>\n      <td>...</td>\n      <td>...</td>\n      <td>...</td>\n      <td>...</td>\n      <td>...</td>\n      <td>...</td>\n    </tr>\n    <tr>\n      <th>443</th>\n      <td>chr16</td>\n      <td>89268826</td>\n      <td>89268947</td>\n      <td>chr16_89268876_89268897</td>\n      <td>chr16</td>\n      <td>89268919</td>\n      <td>89268935</td>\n      <td>-</td>\n      <td>43</td>\n      <td>C</td>\n      <td>8</td>\n      <td>9</td>\n      <td>8</td>\n      <td>9</td>\n      <td>0</td>\n      <td>0</td>\n      <td>4.0</td>\n      <td>CAGAGCAGGGCAGGGCC</td>\n      <td>|X||XX|X|X|XXX||X</td>\n      <td>CTGAAAAAGACTCTGCA</td>\n      <td>../art/DetectSeq_JAK2-DddA11_REP-2_T...</td>\n      <td>DetectSeq_JAK2-DddA11_REP-2</td>\n      <td>Left</td>\n    </tr>\n    <tr>\n      <th>534</th>\n      <td>chr3</td>\n      <td>47475992</td>\n      <td>47476103</td>\n      <td>chr3_47476042_47476053</td>\n      <td>chr3</td>\n      <td>47476065</td>\n      <td>47476081</td>\n      <td>-</td>\n      <td>23</td>\n      <td>C</td>\n      <td>8</td>\n      <td>9</td>\n      <td>8</td>\n      <td>9</td>\n      <td>0</td>\n      <td>0</td>\n      <td>4.0</td>\n      <td>CCATACTTCCCTCCGGT</td>\n      <td>||||XXX|XX|XX||XX</td>\n      <td>CCATTTCTGTCATCGTA</td>\n      <td>../art/DetectSeq_JAK2-DddA11_REP-1_T...</td>\n      <td>DetectSeq_JAK2-DddA11_REP-1</td>\n      <td>Right</td>\n    </tr>\n    <tr>\n      <th>208</th>\n      <td>chr6</td>\n      <td>30556597</td>\n      <td>30556713</td>\n      <td>chr6_30556647_30556663</td>\n      <td>chr6</td>\n      <td>30556692</td>\n      <td>30556708</td>\n      <td>-</td>\n      <td>29</td>\n      <td>C</td>\n      <td>8</td>\n      <td>9</td>\n      <td>8</td>\n      <td>9</td>\n      <td>0</td>\n      <td>0</td>\n      <td>4.0</td>\n      <td>CCACTAAGGTCAAGCCC</td>\n      <td>|||X|XXX||||XXXXX</td>\n      <td>CCATTTCTGTCATCGTA</td>\n      <td>../art/DetectSeq_JAK2-DddA11_REP-1_T...</td>\n      <td>DetectSeq_JAK2-DddA11_REP-1</td>\n      <td>Right</td>\n    </tr>\n    <tr>\n      <th>75</th>\n      <td>chr15</td>\n      <td>68651206</td>\n      <td>68651327</td>\n      <td>chr15_68651256_68651277</td>\n      <td>chr15</td>\n      <td>68651272</td>\n      <td>68651287</td>\n      <td>-</td>\n      <td>16</td>\n      <td>G</td>\n      <td>7</td>\n      <td>9</td>\n      <td>7</td>\n      <td>9</td>\n      <td>0</td>\n      <td>0</td>\n      <td>-1.0</td>\n      <td>GCCCAGCCCTGACCAC</td>\n      <td>XXXX|X|X|XX||X||</td>\n      <td>ATTAAACACAAACTAC</td>\n      <td>../art/DetectSeq_ATP8-DddA11_REP-1_T...</td>\n      <td>DetectSeq_ATP8-DddA11_REP-1</td>\n      <td>Left</td>\n    </tr>\n    <tr>\n      <th>137</th>\n      <td>chr15</td>\n      <td>89358724</td>\n      <td>89358834</td>\n      <td>chr15_89358774_89358784</td>\n      <td>chr15</td>\n      <td>89358771</td>\n      <td>89358786</td>\n      <td>-</td>\n      <td>-13</td>\n      <td>G</td>\n      <td>7</td>\n      <td>9</td>\n      <td>7</td>\n      <td>9</td>\n      <td>0</td>\n      <td>0</td>\n      <td>-1.0</td>\n      <td>GTCCAACAGCGCCCTC</td>\n      <td>X|XX||||XXXX|XX|</td>\n      <td>ATTAAACACAAACTAC</td>\n      <td>../art/DetectSeq_ATP8-DddA11_REP-1_T...</td>\n      <td>DetectSeq_ATP8-DddA11_REP-1</td>\n      <td>Left</td>\n    </tr>\n  </tbody>\n</table>\n<p>27137 rows × 23 columns</p>\n</div>"
     },
     "execution_count": 78,
     "metadata": {},
     "output_type": "execute_result"
    }
   ],
   "source": [
    "df_arts = df_arts.sort_values(\n",
    "    by='align_score',\n",
    "    ascending=False\n",
    ").drop_duplicates(  # 去除multialignment\n",
    "    subset=[\n",
    "        'region_index',  # 信号位点相同\n",
    "        'align_chr_name',  # TALE align位置相同\n",
    "        'align_chr_start',\n",
    "        'align_chr_end',\n",
    "    ],\n",
    "    keep='first'\n",
    ").copy()\n",
    "df_arts"
   ],
   "metadata": {
    "collapsed": false,
    "ExecuteTime": {
     "end_time": "2023-08-15T17:31:02.648149Z",
     "start_time": "2023-08-15T17:31:02.519412Z"
    }
   },
   "id": "aba126f615be0e96"
  },
  {
   "cell_type": "code",
   "execution_count": 79,
   "outputs": [],
   "source": [
    "df_arts.loc[df_arts['region_index'] == \"chr19_4182494_4182519\", 'TAS-Dep_stat'] = 'on-target: SIRT6'\n",
    "df_arts.loc[df_arts['region_index'] == \"chr9_5021998_5022096\", 'TAS-Dep_stat'] = 'on-target: JAK2'\n",
    "# ATP8 backup if using in future\n",
    "# bowtie -x $HOME/1.database/db_genomes/genome_fa/genome_ucsc_hg38/genome_ucsc_hg38.fa.bowtie1_index -f -1 test_R1.fa -2 test_R2.fa\n",
    "# 1/1     +       chrM    8448    ATTAAACACAAACTAC        IIIIIIIIIIIIIIII        3\n",
    "# 1/2     -       chrM    8478    ACCAAAGCCCAT    IIIIIIIIIIII    3"
   ],
   "metadata": {
    "collapsed": false,
    "ExecuteTime": {
     "end_time": "2023-08-15T17:31:02.648192Z",
     "start_time": "2023-08-15T17:31:02.560638Z"
    }
   },
   "id": "e4209fd7c6317a64"
  },
  {
   "cell_type": "code",
   "execution_count": 80,
   "outputs": [
    {
     "data": {
      "text/plain": "      chrom    start      end           region_index align_chr_name  align_chr_start  align_chr_end align_strand  \\\n6994  chr19  4182444  4182569  chr19_4182494_4182519          chr19          4182511        4182527            -   \n6994  chr19  4182444  4182569  chr19_4182494_4182519          chr19          4182476        4182492            +   \n\n      align_dist_to_signal align_N0_base  align_total_match  align_total_mismatch  align_degen_total_match  \\\n6994                    17             T                 17                     0                       17   \n6994                     2             C                 17                     0                       17   \n\n      align_degen_total_mismatch  align_degen_num  align_total_gap  align_score   align_target_seq   align_info_state  \\\n6994                           0                0                0         95.0  TACGCGGCGGGGCTGTC  |||||||||||||||||   \n6994                           0                0                0         85.0  CCGGGAGGCCGCACTTG  |||||||||||||||||   \n\n        align_query_seq                                file_info                      <sample>      TAS-Dep_stat  \n6994  TACGCGGCGGGGCTGTC  ../art/DetectSeq_SIRT6-DddA11_REP-2_...  DetectSeq_SIRT6-DddA11_REP-2  on-target: SIRT6  \n6994  CCGGGAGGCCGCACTTG  ../art/DetectSeq_SIRT6-DddA11_REP-2_...  DetectSeq_SIRT6-DddA11_REP-2  on-target: SIRT6  ",
      "text/html": "<div>\n<style scoped>\n    .dataframe tbody tr th:only-of-type {\n        vertical-align: middle;\n    }\n\n    .dataframe tbody tr th {\n        vertical-align: top;\n    }\n\n    .dataframe thead th {\n        text-align: right;\n    }\n</style>\n<table border=\"1\" class=\"dataframe\">\n  <thead>\n    <tr style=\"text-align: right;\">\n      <th></th>\n      <th>chrom</th>\n      <th>start</th>\n      <th>end</th>\n      <th>region_index</th>\n      <th>align_chr_name</th>\n      <th>align_chr_start</th>\n      <th>align_chr_end</th>\n      <th>align_strand</th>\n      <th>align_dist_to_signal</th>\n      <th>align_N0_base</th>\n      <th>align_total_match</th>\n      <th>align_total_mismatch</th>\n      <th>align_degen_total_match</th>\n      <th>align_degen_total_mismatch</th>\n      <th>align_degen_num</th>\n      <th>align_total_gap</th>\n      <th>align_score</th>\n      <th>align_target_seq</th>\n      <th>align_info_state</th>\n      <th>align_query_seq</th>\n      <th>file_info</th>\n      <th>&lt;sample&gt;</th>\n      <th>TAS-Dep_stat</th>\n    </tr>\n  </thead>\n  <tbody>\n    <tr>\n      <th>6994</th>\n      <td>chr19</td>\n      <td>4182444</td>\n      <td>4182569</td>\n      <td>chr19_4182494_4182519</td>\n      <td>chr19</td>\n      <td>4182511</td>\n      <td>4182527</td>\n      <td>-</td>\n      <td>17</td>\n      <td>T</td>\n      <td>17</td>\n      <td>0</td>\n      <td>17</td>\n      <td>0</td>\n      <td>0</td>\n      <td>0</td>\n      <td>95.0</td>\n      <td>TACGCGGCGGGGCTGTC</td>\n      <td>|||||||||||||||||</td>\n      <td>TACGCGGCGGGGCTGTC</td>\n      <td>../art/DetectSeq_SIRT6-DddA11_REP-2_...</td>\n      <td>DetectSeq_SIRT6-DddA11_REP-2</td>\n      <td>on-target: SIRT6</td>\n    </tr>\n    <tr>\n      <th>6994</th>\n      <td>chr19</td>\n      <td>4182444</td>\n      <td>4182569</td>\n      <td>chr19_4182494_4182519</td>\n      <td>chr19</td>\n      <td>4182476</td>\n      <td>4182492</td>\n      <td>+</td>\n      <td>2</td>\n      <td>C</td>\n      <td>17</td>\n      <td>0</td>\n      <td>17</td>\n      <td>0</td>\n      <td>0</td>\n      <td>0</td>\n      <td>85.0</td>\n      <td>CCGGGAGGCCGCACTTG</td>\n      <td>|||||||||||||||||</td>\n      <td>CCGGGAGGCCGCACTTG</td>\n      <td>../art/DetectSeq_SIRT6-DddA11_REP-2_...</td>\n      <td>DetectSeq_SIRT6-DddA11_REP-2</td>\n      <td>on-target: SIRT6</td>\n    </tr>\n  </tbody>\n</table>\n</div>"
     },
     "execution_count": 80,
     "metadata": {},
     "output_type": "execute_result"
    }
   ],
   "source": [
    "df_arts.query('region_index==\"chr19_4182494_4182519\"')"
   ],
   "metadata": {
    "collapsed": false,
    "ExecuteTime": {
     "end_time": "2023-08-15T17:31:02.648334Z",
     "start_time": "2023-08-15T17:31:02.565703Z"
    }
   },
   "id": "a76a8c625d038bd8"
  },
  {
   "cell_type": "code",
   "execution_count": 81,
   "outputs": [
    {
     "data": {
      "text/plain": "   chrom    start      end          region_index align_chr_name  align_chr_start  align_chr_end align_strand  \\\n45  chr9  5021948  5022146  chr9_5021998_5022096           chr9          5022005        5022021            -   \n45  chr9  5021948  5022146  chr9_5021998_5022096           chr9          5021972        5021988            +   \n\n    align_dist_to_signal align_N0_base  align_total_match  align_total_mismatch  align_degen_total_match  \\\n45                     7             C                 17                     0                       17   \n45                    10             C                 17                     0                       17   \n\n    align_degen_total_mismatch  align_degen_num  align_total_gap  align_score   align_target_seq   align_info_state  \\\n45                           0                0                0         85.0  CCATTTCTGTCATCGTA  |||||||||||||||||   \n45                           0                0                0         85.0  CTGAAAAAGACTCTGCA  |||||||||||||||||   \n\n      align_query_seq                                file_info                     <sample>     TAS-Dep_stat  \n45  CCATTTCTGTCATCGTA  ../art/DetectSeq_JAK2-DddA11_REP-1_T...  DetectSeq_JAK2-DddA11_REP-1  on-target: JAK2  \n45  CTGAAAAAGACTCTGCA  ../art/DetectSeq_JAK2-DddA11_REP-1_T...  DetectSeq_JAK2-DddA11_REP-1  on-target: JAK2  ",
      "text/html": "<div>\n<style scoped>\n    .dataframe tbody tr th:only-of-type {\n        vertical-align: middle;\n    }\n\n    .dataframe tbody tr th {\n        vertical-align: top;\n    }\n\n    .dataframe thead th {\n        text-align: right;\n    }\n</style>\n<table border=\"1\" class=\"dataframe\">\n  <thead>\n    <tr style=\"text-align: right;\">\n      <th></th>\n      <th>chrom</th>\n      <th>start</th>\n      <th>end</th>\n      <th>region_index</th>\n      <th>align_chr_name</th>\n      <th>align_chr_start</th>\n      <th>align_chr_end</th>\n      <th>align_strand</th>\n      <th>align_dist_to_signal</th>\n      <th>align_N0_base</th>\n      <th>align_total_match</th>\n      <th>align_total_mismatch</th>\n      <th>align_degen_total_match</th>\n      <th>align_degen_total_mismatch</th>\n      <th>align_degen_num</th>\n      <th>align_total_gap</th>\n      <th>align_score</th>\n      <th>align_target_seq</th>\n      <th>align_info_state</th>\n      <th>align_query_seq</th>\n      <th>file_info</th>\n      <th>&lt;sample&gt;</th>\n      <th>TAS-Dep_stat</th>\n    </tr>\n  </thead>\n  <tbody>\n    <tr>\n      <th>45</th>\n      <td>chr9</td>\n      <td>5021948</td>\n      <td>5022146</td>\n      <td>chr9_5021998_5022096</td>\n      <td>chr9</td>\n      <td>5022005</td>\n      <td>5022021</td>\n      <td>-</td>\n      <td>7</td>\n      <td>C</td>\n      <td>17</td>\n      <td>0</td>\n      <td>17</td>\n      <td>0</td>\n      <td>0</td>\n      <td>0</td>\n      <td>85.0</td>\n      <td>CCATTTCTGTCATCGTA</td>\n      <td>|||||||||||||||||</td>\n      <td>CCATTTCTGTCATCGTA</td>\n      <td>../art/DetectSeq_JAK2-DddA11_REP-1_T...</td>\n      <td>DetectSeq_JAK2-DddA11_REP-1</td>\n      <td>on-target: JAK2</td>\n    </tr>\n    <tr>\n      <th>45</th>\n      <td>chr9</td>\n      <td>5021948</td>\n      <td>5022146</td>\n      <td>chr9_5021998_5022096</td>\n      <td>chr9</td>\n      <td>5021972</td>\n      <td>5021988</td>\n      <td>+</td>\n      <td>10</td>\n      <td>C</td>\n      <td>17</td>\n      <td>0</td>\n      <td>17</td>\n      <td>0</td>\n      <td>0</td>\n      <td>0</td>\n      <td>85.0</td>\n      <td>CTGAAAAAGACTCTGCA</td>\n      <td>|||||||||||||||||</td>\n      <td>CTGAAAAAGACTCTGCA</td>\n      <td>../art/DetectSeq_JAK2-DddA11_REP-1_T...</td>\n      <td>DetectSeq_JAK2-DddA11_REP-1</td>\n      <td>on-target: JAK2</td>\n    </tr>\n  </tbody>\n</table>\n</div>"
     },
     "execution_count": 81,
     "metadata": {},
     "output_type": "execute_result"
    }
   ],
   "source": [
    "df_arts.query('region_index==\"chr9_5021998_5022096\"')"
   ],
   "metadata": {
    "collapsed": false,
    "ExecuteTime": {
     "end_time": "2023-08-15T17:31:02.648494Z",
     "start_time": "2023-08-15T17:31:02.573401Z"
    }
   },
   "id": "30dffe0df87a9be9"
  },
  {
   "cell_type": "code",
   "execution_count": 82,
   "outputs": [
    {
     "data": {
      "text/plain": "Empty DataFrame\nColumns: [chrom, start, end, region_index, align_chr_name, align_chr_start, align_chr_end, align_strand, align_dist_to_signal, align_N0_base, align_total_match, align_total_mismatch, align_degen_total_match, align_degen_total_mismatch, align_degen_num, align_total_gap, align_score, align_target_seq, align_info_state, align_query_seq, file_info, <sample>, TAS-Dep_stat]\nIndex: []",
      "text/html": "<div>\n<style scoped>\n    .dataframe tbody tr th:only-of-type {\n        vertical-align: middle;\n    }\n\n    .dataframe tbody tr th {\n        vertical-align: top;\n    }\n\n    .dataframe thead th {\n        text-align: right;\n    }\n</style>\n<table border=\"1\" class=\"dataframe\">\n  <thead>\n    <tr style=\"text-align: right;\">\n      <th></th>\n      <th>chrom</th>\n      <th>start</th>\n      <th>end</th>\n      <th>region_index</th>\n      <th>align_chr_name</th>\n      <th>align_chr_start</th>\n      <th>align_chr_end</th>\n      <th>align_strand</th>\n      <th>align_dist_to_signal</th>\n      <th>align_N0_base</th>\n      <th>align_total_match</th>\n      <th>align_total_mismatch</th>\n      <th>align_degen_total_match</th>\n      <th>align_degen_total_mismatch</th>\n      <th>align_degen_num</th>\n      <th>align_total_gap</th>\n      <th>align_score</th>\n      <th>align_target_seq</th>\n      <th>align_info_state</th>\n      <th>align_query_seq</th>\n      <th>file_info</th>\n      <th>&lt;sample&gt;</th>\n      <th>TAS-Dep_stat</th>\n    </tr>\n  </thead>\n  <tbody>\n  </tbody>\n</table>\n</div>"
     },
     "execution_count": 82,
     "metadata": {},
     "output_type": "execute_result"
    }
   ],
   "source": [
    "# 没有chrM的off？\n",
    "# 以后再看看是不是系统性的丢了？\n",
    "df_arts.sort_values(by='align_score', ascending=False).query('align_chr_name==\"chrM\"')"
   ],
   "metadata": {
    "collapsed": false,
    "ExecuteTime": {
     "end_time": "2023-08-15T17:31:02.648638Z",
     "start_time": "2023-08-15T17:31:02.582435Z"
    }
   },
   "id": "22c78e72b337bacd"
  },
  {
   "cell_type": "code",
   "execution_count": 83,
   "outputs": [
    {
     "data": {
      "text/plain": "      chrom      start        end              region_index align_chr_name  align_chr_start  align_chr_end  \\\n6994  chr19    4182444    4182569     chr19_4182494_4182519          chr19          4182511        4182527   \n886    chr9  129203049  129203171  chr9_129203099_129203121           chr9        129203129      129203145   \n45     chr9    5021948    5022146      chr9_5021998_5022096           chr9          5022005        5022021   \n559    chr9    5021875    5022047      chr9_5021925_5021997           chr9          5022005        5022021   \n6994  chr19    4182444    4182569     chr19_4182494_4182519          chr19          4182476        4182492   \n...     ...        ...        ...                       ...            ...              ...            ...   \n443   chr16   89268826   89268947   chr16_89268876_89268897          chr16         89268919       89268935   \n534    chr3   47475992   47476103    chr3_47476042_47476053           chr3         47476065       47476081   \n208    chr6   30556597   30556713    chr6_30556647_30556663           chr6         30556692       30556708   \n75    chr15   68651206   68651327   chr15_68651256_68651277          chr15         68651272       68651287   \n137   chr15   89358724   89358834   chr15_89358774_89358784          chr15         89358771       89358786   \n\n     align_strand  align_dist_to_signal align_N0_base  align_total_match  align_total_mismatch  \\\n6994            -                    17             T                 17                     0   \n886             -                     8             T                 13                     4   \n45              -                     7             C                 17                     0   \n559             -                     8             C                 17                     0   \n6994            +                     2             C                 17                     0   \n...           ...                   ...           ...                ...                   ...   \n443             -                    43             C                  8                     9   \n534             -                    23             C                  8                     9   \n208             -                    29             C                  8                     9   \n75              -                    16             G                  7                     9   \n137             -                   -13             G                  7                     9   \n\n      align_degen_total_match  align_degen_total_mismatch  align_degen_num  align_total_gap  align_score  \\\n6994                       17                           0                0                0         95.0   \n886                        17                           0                4                0         87.0   \n45                         17                           0                0                0         85.0   \n559                        17                           0                0                0         85.0   \n6994                       17                           0                0                0         85.0   \n...                       ...                         ...              ...              ...          ...   \n443                         8                           9                0                0          4.0   \n534                         8                           9                0                0          4.0   \n208                         8                           9                0                0          4.0   \n75                          7                           9                0                0         -1.0   \n137                         7                           9                0                0         -1.0   \n\n       align_target_seq   align_info_state    align_query_seq                                file_info  \\\n6994  TACGCGGCGGGGCTGTC  |||||||||||||||||  TACGCGGCGGGGCTGTC  ../art/DetectSeq_SIRT6-DddA11_REP-2_...   \n886   TACGCGACAGAACTGTC  ||||||.|.|..|||||  TACGCGGCGGGGCTGTC  ../art/DetectSeq_SIRT6-DddA11_REP-1_...   \n45    CCATTTCTGTCATCGTA  |||||||||||||||||  CCATTTCTGTCATCGTA  ../art/DetectSeq_JAK2-DddA11_REP-1_T...   \n559   CCATTTCTGTCATCGTA  |||||||||||||||||  CCATTTCTGTCATCGTA  ../art/DetectSeq_JAK2-DddA11_REP-2_T...   \n6994  CCGGGAGGCCGCACTTG  |||||||||||||||||  CCGGGAGGCCGCACTTG  ../art/DetectSeq_SIRT6-DddA11_REP-2_...   \n...                 ...                ...                ...                                      ...   \n443   CAGAGCAGGGCAGGGCC  |X||XX|X|X|XXX||X  CTGAAAAAGACTCTGCA  ../art/DetectSeq_JAK2-DddA11_REP-2_T...   \n534   CCATACTTCCCTCCGGT  ||||XXX|XX|XX||XX  CCATTTCTGTCATCGTA  ../art/DetectSeq_JAK2-DddA11_REP-1_T...   \n208   CCACTAAGGTCAAGCCC  |||X|XXX||||XXXXX  CCATTTCTGTCATCGTA  ../art/DetectSeq_JAK2-DddA11_REP-1_T...   \n75     GCCCAGCCCTGACCAC   XXXX|X|X|XX||X||   ATTAAACACAAACTAC  ../art/DetectSeq_ATP8-DddA11_REP-1_T...   \n137    GTCCAACAGCGCCCTC   X|XX||||XXXX|XX|   ATTAAACACAAACTAC  ../art/DetectSeq_ATP8-DddA11_REP-1_T...   \n\n                          <sample>      TAS-Dep_stat     id  \n6994  DetectSeq_SIRT6-DddA11_REP-2  on-target: SIRT6      0  \n886   DetectSeq_SIRT6-DddA11_REP-1              Left      1  \n45     DetectSeq_JAK2-DddA11_REP-1   on-target: JAK2      2  \n559    DetectSeq_JAK2-DddA11_REP-2             Right      3  \n6994  DetectSeq_SIRT6-DddA11_REP-2  on-target: SIRT6      4  \n...                            ...               ...    ...  \n443    DetectSeq_JAK2-DddA11_REP-2              Left  27132  \n534    DetectSeq_JAK2-DddA11_REP-1             Right  27133  \n208    DetectSeq_JAK2-DddA11_REP-1             Right  27134  \n75     DetectSeq_ATP8-DddA11_REP-1              Left  27135  \n137    DetectSeq_ATP8-DddA11_REP-1              Left  27136  \n\n[27137 rows x 24 columns]",
      "text/html": "<div>\n<style scoped>\n    .dataframe tbody tr th:only-of-type {\n        vertical-align: middle;\n    }\n\n    .dataframe tbody tr th {\n        vertical-align: top;\n    }\n\n    .dataframe thead th {\n        text-align: right;\n    }\n</style>\n<table border=\"1\" class=\"dataframe\">\n  <thead>\n    <tr style=\"text-align: right;\">\n      <th></th>\n      <th>chrom</th>\n      <th>start</th>\n      <th>end</th>\n      <th>region_index</th>\n      <th>align_chr_name</th>\n      <th>align_chr_start</th>\n      <th>align_chr_end</th>\n      <th>align_strand</th>\n      <th>align_dist_to_signal</th>\n      <th>align_N0_base</th>\n      <th>align_total_match</th>\n      <th>align_total_mismatch</th>\n      <th>align_degen_total_match</th>\n      <th>align_degen_total_mismatch</th>\n      <th>align_degen_num</th>\n      <th>align_total_gap</th>\n      <th>align_score</th>\n      <th>align_target_seq</th>\n      <th>align_info_state</th>\n      <th>align_query_seq</th>\n      <th>file_info</th>\n      <th>&lt;sample&gt;</th>\n      <th>TAS-Dep_stat</th>\n      <th>id</th>\n    </tr>\n  </thead>\n  <tbody>\n    <tr>\n      <th>6994</th>\n      <td>chr19</td>\n      <td>4182444</td>\n      <td>4182569</td>\n      <td>chr19_4182494_4182519</td>\n      <td>chr19</td>\n      <td>4182511</td>\n      <td>4182527</td>\n      <td>-</td>\n      <td>17</td>\n      <td>T</td>\n      <td>17</td>\n      <td>0</td>\n      <td>17</td>\n      <td>0</td>\n      <td>0</td>\n      <td>0</td>\n      <td>95.0</td>\n      <td>TACGCGGCGGGGCTGTC</td>\n      <td>|||||||||||||||||</td>\n      <td>TACGCGGCGGGGCTGTC</td>\n      <td>../art/DetectSeq_SIRT6-DddA11_REP-2_...</td>\n      <td>DetectSeq_SIRT6-DddA11_REP-2</td>\n      <td>on-target: SIRT6</td>\n      <td>0</td>\n    </tr>\n    <tr>\n      <th>886</th>\n      <td>chr9</td>\n      <td>129203049</td>\n      <td>129203171</td>\n      <td>chr9_129203099_129203121</td>\n      <td>chr9</td>\n      <td>129203129</td>\n      <td>129203145</td>\n      <td>-</td>\n      <td>8</td>\n      <td>T</td>\n      <td>13</td>\n      <td>4</td>\n      <td>17</td>\n      <td>0</td>\n      <td>4</td>\n      <td>0</td>\n      <td>87.0</td>\n      <td>TACGCGACAGAACTGTC</td>\n      <td>||||||.|.|..|||||</td>\n      <td>TACGCGGCGGGGCTGTC</td>\n      <td>../art/DetectSeq_SIRT6-DddA11_REP-1_...</td>\n      <td>DetectSeq_SIRT6-DddA11_REP-1</td>\n      <td>Left</td>\n      <td>1</td>\n    </tr>\n    <tr>\n      <th>45</th>\n      <td>chr9</td>\n      <td>5021948</td>\n      <td>5022146</td>\n      <td>chr9_5021998_5022096</td>\n      <td>chr9</td>\n      <td>5022005</td>\n      <td>5022021</td>\n      <td>-</td>\n      <td>7</td>\n      <td>C</td>\n      <td>17</td>\n      <td>0</td>\n      <td>17</td>\n      <td>0</td>\n      <td>0</td>\n      <td>0</td>\n      <td>85.0</td>\n      <td>CCATTTCTGTCATCGTA</td>\n      <td>|||||||||||||||||</td>\n      <td>CCATTTCTGTCATCGTA</td>\n      <td>../art/DetectSeq_JAK2-DddA11_REP-1_T...</td>\n      <td>DetectSeq_JAK2-DddA11_REP-1</td>\n      <td>on-target: JAK2</td>\n      <td>2</td>\n    </tr>\n    <tr>\n      <th>559</th>\n      <td>chr9</td>\n      <td>5021875</td>\n      <td>5022047</td>\n      <td>chr9_5021925_5021997</td>\n      <td>chr9</td>\n      <td>5022005</td>\n      <td>5022021</td>\n      <td>-</td>\n      <td>8</td>\n      <td>C</td>\n      <td>17</td>\n      <td>0</td>\n      <td>17</td>\n      <td>0</td>\n      <td>0</td>\n      <td>0</td>\n      <td>85.0</td>\n      <td>CCATTTCTGTCATCGTA</td>\n      <td>|||||||||||||||||</td>\n      <td>CCATTTCTGTCATCGTA</td>\n      <td>../art/DetectSeq_JAK2-DddA11_REP-2_T...</td>\n      <td>DetectSeq_JAK2-DddA11_REP-2</td>\n      <td>Right</td>\n      <td>3</td>\n    </tr>\n    <tr>\n      <th>6994</th>\n      <td>chr19</td>\n      <td>4182444</td>\n      <td>4182569</td>\n      <td>chr19_4182494_4182519</td>\n      <td>chr19</td>\n      <td>4182476</td>\n      <td>4182492</td>\n      <td>+</td>\n      <td>2</td>\n      <td>C</td>\n      <td>17</td>\n      <td>0</td>\n      <td>17</td>\n      <td>0</td>\n      <td>0</td>\n      <td>0</td>\n      <td>85.0</td>\n      <td>CCGGGAGGCCGCACTTG</td>\n      <td>|||||||||||||||||</td>\n      <td>CCGGGAGGCCGCACTTG</td>\n      <td>../art/DetectSeq_SIRT6-DddA11_REP-2_...</td>\n      <td>DetectSeq_SIRT6-DddA11_REP-2</td>\n      <td>on-target: SIRT6</td>\n      <td>4</td>\n    </tr>\n    <tr>\n      <th>...</th>\n      <td>...</td>\n      <td>...</td>\n      <td>...</td>\n      <td>...</td>\n      <td>...</td>\n      <td>...</td>\n      <td>...</td>\n      <td>...</td>\n      <td>...</td>\n      <td>...</td>\n      <td>...</td>\n      <td>...</td>\n      <td>...</td>\n      <td>...</td>\n      <td>...</td>\n      <td>...</td>\n      <td>...</td>\n      <td>...</td>\n      <td>...</td>\n      <td>...</td>\n      <td>...</td>\n      <td>...</td>\n      <td>...</td>\n      <td>...</td>\n    </tr>\n    <tr>\n      <th>443</th>\n      <td>chr16</td>\n      <td>89268826</td>\n      <td>89268947</td>\n      <td>chr16_89268876_89268897</td>\n      <td>chr16</td>\n      <td>89268919</td>\n      <td>89268935</td>\n      <td>-</td>\n      <td>43</td>\n      <td>C</td>\n      <td>8</td>\n      <td>9</td>\n      <td>8</td>\n      <td>9</td>\n      <td>0</td>\n      <td>0</td>\n      <td>4.0</td>\n      <td>CAGAGCAGGGCAGGGCC</td>\n      <td>|X||XX|X|X|XXX||X</td>\n      <td>CTGAAAAAGACTCTGCA</td>\n      <td>../art/DetectSeq_JAK2-DddA11_REP-2_T...</td>\n      <td>DetectSeq_JAK2-DddA11_REP-2</td>\n      <td>Left</td>\n      <td>27132</td>\n    </tr>\n    <tr>\n      <th>534</th>\n      <td>chr3</td>\n      <td>47475992</td>\n      <td>47476103</td>\n      <td>chr3_47476042_47476053</td>\n      <td>chr3</td>\n      <td>47476065</td>\n      <td>47476081</td>\n      <td>-</td>\n      <td>23</td>\n      <td>C</td>\n      <td>8</td>\n      <td>9</td>\n      <td>8</td>\n      <td>9</td>\n      <td>0</td>\n      <td>0</td>\n      <td>4.0</td>\n      <td>CCATACTTCCCTCCGGT</td>\n      <td>||||XXX|XX|XX||XX</td>\n      <td>CCATTTCTGTCATCGTA</td>\n      <td>../art/DetectSeq_JAK2-DddA11_REP-1_T...</td>\n      <td>DetectSeq_JAK2-DddA11_REP-1</td>\n      <td>Right</td>\n      <td>27133</td>\n    </tr>\n    <tr>\n      <th>208</th>\n      <td>chr6</td>\n      <td>30556597</td>\n      <td>30556713</td>\n      <td>chr6_30556647_30556663</td>\n      <td>chr6</td>\n      <td>30556692</td>\n      <td>30556708</td>\n      <td>-</td>\n      <td>29</td>\n      <td>C</td>\n      <td>8</td>\n      <td>9</td>\n      <td>8</td>\n      <td>9</td>\n      <td>0</td>\n      <td>0</td>\n      <td>4.0</td>\n      <td>CCACTAAGGTCAAGCCC</td>\n      <td>|||X|XXX||||XXXXX</td>\n      <td>CCATTTCTGTCATCGTA</td>\n      <td>../art/DetectSeq_JAK2-DddA11_REP-1_T...</td>\n      <td>DetectSeq_JAK2-DddA11_REP-1</td>\n      <td>Right</td>\n      <td>27134</td>\n    </tr>\n    <tr>\n      <th>75</th>\n      <td>chr15</td>\n      <td>68651206</td>\n      <td>68651327</td>\n      <td>chr15_68651256_68651277</td>\n      <td>chr15</td>\n      <td>68651272</td>\n      <td>68651287</td>\n      <td>-</td>\n      <td>16</td>\n      <td>G</td>\n      <td>7</td>\n      <td>9</td>\n      <td>7</td>\n      <td>9</td>\n      <td>0</td>\n      <td>0</td>\n      <td>-1.0</td>\n      <td>GCCCAGCCCTGACCAC</td>\n      <td>XXXX|X|X|XX||X||</td>\n      <td>ATTAAACACAAACTAC</td>\n      <td>../art/DetectSeq_ATP8-DddA11_REP-1_T...</td>\n      <td>DetectSeq_ATP8-DddA11_REP-1</td>\n      <td>Left</td>\n      <td>27135</td>\n    </tr>\n    <tr>\n      <th>137</th>\n      <td>chr15</td>\n      <td>89358724</td>\n      <td>89358834</td>\n      <td>chr15_89358774_89358784</td>\n      <td>chr15</td>\n      <td>89358771</td>\n      <td>89358786</td>\n      <td>-</td>\n      <td>-13</td>\n      <td>G</td>\n      <td>7</td>\n      <td>9</td>\n      <td>7</td>\n      <td>9</td>\n      <td>0</td>\n      <td>0</td>\n      <td>-1.0</td>\n      <td>GTCCAACAGCGCCCTC</td>\n      <td>X|XX||||XXXX|XX|</td>\n      <td>ATTAAACACAAACTAC</td>\n      <td>../art/DetectSeq_ATP8-DddA11_REP-1_T...</td>\n      <td>DetectSeq_ATP8-DddA11_REP-1</td>\n      <td>Left</td>\n      <td>27136</td>\n    </tr>\n  </tbody>\n</table>\n<p>27137 rows × 24 columns</p>\n</div>"
     },
     "execution_count": 83,
     "metadata": {},
     "output_type": "execute_result"
    }
   ],
   "source": [
    "df_arts['id'] = range(df_arts.shape[0])\n",
    "df_arts"
   ],
   "metadata": {
    "collapsed": false,
    "ExecuteTime": {
     "end_time": "2023-08-15T17:31:02.648987Z",
     "start_time": "2023-08-15T17:31:02.601563Z"
    }
   },
   "id": "da4ed4429e7baba9"
  },
  {
   "cell_type": "markdown",
   "source": [
    "### save df_arts"
   ],
   "metadata": {
    "collapsed": false
   },
   "id": "925f36defe140046"
  },
  {
   "cell_type": "code",
   "execution_count": 84,
   "outputs": [],
   "source": [
    "df_arts.to_csv('../art_seqinfo/df_arts.csv', index=False)"
   ],
   "metadata": {
    "collapsed": false,
    "ExecuteTime": {
     "end_time": "2023-08-15T17:31:02.811751Z",
     "start_time": "2023-08-15T17:31:02.604049Z"
    }
   },
   "id": "abb74f4c313e53a4"
  },
  {
   "cell_type": "code",
   "execution_count": 85,
   "outputs": [
    {
     "name": "stdout",
     "output_type": "stream",
     "text": [
      "<class 'pandas.core.frame.DataFrame'>\n",
      "RangeIndex: 38393 entries, 0 to 38392\n",
      "Data columns (total 5 columns):\n",
      " #   Column                               Non-Null Count  Dtype  \n",
      "---  ------                               --------------  -----  \n",
      " 0   chr10                                38393 non-null  object \n",
      " 1   127196833                            38393 non-null  int64  \n",
      " 2   127197257                            38393 non-null  int64  \n",
      " 3   chr10_127196833_127197257_range_low  38393 non-null  object \n",
      " 4   15.99518                             38393 non-null  float64\n",
      "dtypes: float64(1), int64(2), object(2)\n",
      "memory usage: 1.5+ MB\n"
     ]
    }
   ],
   "source": [
    "df_ctcf = pd.read_csv(f'{HOME}/1.database/public_data/CTCF_ATAC_data/ENCFF285QVL_CTCF_binding_sites_fix_range.bed',\n",
    "                      sep='\\t')\n",
    "df_ctcf.info()"
   ],
   "metadata": {
    "collapsed": false,
    "ExecuteTime": {
     "end_time": "2023-08-15T17:31:02.820250Z",
     "start_time": "2023-08-15T17:31:02.777917Z"
    }
   },
   "id": "734bec2377ce021d"
  },
  {
   "cell_type": "markdown",
   "source": [
    "## TAS-dependent"
   ],
   "metadata": {
    "collapsed": false
   },
   "id": "a9892a5530516aec"
  },
  {
   "cell_type": "markdown",
   "source": [
    "### 检查是否有和CTCF overlap的（潜在的IND）"
   ],
   "metadata": {
    "collapsed": false
   },
   "id": "7b6e309b5fb5c633"
  },
  {
   "cell_type": "code",
   "execution_count": 86,
   "outputs": [
    {
     "name": "stdout",
     "output_type": "stream",
     "text": [
      "<class 'pandas.core.frame.DataFrame'>\n",
      "Int64Index: 27137 entries, 6994 to 137\n",
      "Data columns (total 3 columns):\n",
      " #   Column  Non-Null Count  Dtype \n",
      "---  ------  --------------  ----- \n",
      " 0   0       27137 non-null  object\n",
      " 1   1       27137 non-null  int64 \n",
      " 2   2       27137 non-null  int64 \n",
      "dtypes: int64(2), object(1)\n",
      "memory usage: 848.0+ KB\n"
     ]
    }
   ],
   "source": [
    "df_coor_all_region = df_arts['region_index'].str.split('_', expand=True)\n",
    "df_coor_all_region[[1, 2]] = df_coor_all_region[[1, 2]].astype(int)\n",
    "df_coor_all_region.info()"
   ],
   "metadata": {
    "collapsed": false,
    "ExecuteTime": {
     "end_time": "2023-08-15T17:31:02.889052Z",
     "start_time": "2023-08-15T17:31:02.822675Z"
    }
   },
   "id": "57c32f0858be2cc0"
  },
  {
   "cell_type": "code",
   "execution_count": 87,
   "outputs": [
    {
     "data": {
      "text/plain": "      chrom      start        end\n6994  chr19    4182494    4182519\n886    chr9  129203099  129203121\n45     chr9    5021998    5022096\n559    chr9    5021925    5021997\n6994  chr19    4182494    4182519\n...     ...        ...        ...\n443   chr16   89268876   89268897\n534    chr3   47476042   47476053\n208    chr6   30556647   30556663\n75    chr15   68651256   68651277\n137   chr15   89358774   89358784\n\n[27137 rows x 3 columns]",
      "text/html": "<div>\n<style scoped>\n    .dataframe tbody tr th:only-of-type {\n        vertical-align: middle;\n    }\n\n    .dataframe tbody tr th {\n        vertical-align: top;\n    }\n\n    .dataframe thead th {\n        text-align: right;\n    }\n</style>\n<table border=\"1\" class=\"dataframe\">\n  <thead>\n    <tr style=\"text-align: right;\">\n      <th></th>\n      <th>chrom</th>\n      <th>start</th>\n      <th>end</th>\n    </tr>\n  </thead>\n  <tbody>\n    <tr>\n      <th>6994</th>\n      <td>chr19</td>\n      <td>4182494</td>\n      <td>4182519</td>\n    </tr>\n    <tr>\n      <th>886</th>\n      <td>chr9</td>\n      <td>129203099</td>\n      <td>129203121</td>\n    </tr>\n    <tr>\n      <th>45</th>\n      <td>chr9</td>\n      <td>5021998</td>\n      <td>5022096</td>\n    </tr>\n    <tr>\n      <th>559</th>\n      <td>chr9</td>\n      <td>5021925</td>\n      <td>5021997</td>\n    </tr>\n    <tr>\n      <th>6994</th>\n      <td>chr19</td>\n      <td>4182494</td>\n      <td>4182519</td>\n    </tr>\n    <tr>\n      <th>...</th>\n      <td>...</td>\n      <td>...</td>\n      <td>...</td>\n    </tr>\n    <tr>\n      <th>443</th>\n      <td>chr16</td>\n      <td>89268876</td>\n      <td>89268897</td>\n    </tr>\n    <tr>\n      <th>534</th>\n      <td>chr3</td>\n      <td>47476042</td>\n      <td>47476053</td>\n    </tr>\n    <tr>\n      <th>208</th>\n      <td>chr6</td>\n      <td>30556647</td>\n      <td>30556663</td>\n    </tr>\n    <tr>\n      <th>75</th>\n      <td>chr15</td>\n      <td>68651256</td>\n      <td>68651277</td>\n    </tr>\n    <tr>\n      <th>137</th>\n      <td>chr15</td>\n      <td>89358774</td>\n      <td>89358784</td>\n    </tr>\n  </tbody>\n</table>\n<p>27137 rows × 3 columns</p>\n</div>"
     },
     "execution_count": 87,
     "metadata": {},
     "output_type": "execute_result"
    }
   ],
   "source": [
    "df_coor_all_region.columns = ['chrom', 'start', 'end']\n",
    "df_coor_all_region"
   ],
   "metadata": {
    "collapsed": false,
    "ExecuteTime": {
     "end_time": "2023-08-15T17:31:02.889427Z",
     "start_time": "2023-08-15T17:31:02.866598Z"
    }
   },
   "id": "ae1dba8842d5219b"
  },
  {
   "cell_type": "code",
   "execution_count": 88,
   "outputs": [
    {
     "data": {
      "text/plain": "<BedTool(/var/folders/79/yd907p9x4537vqhgfrm0md680000gn/T/pybedtools.qsvt87kx.tmp)>"
     },
     "execution_count": 88,
     "metadata": {},
     "output_type": "execute_result"
    }
   ],
   "source": [
    "coor_all_region_bed = BedTool.from_dataframe(df_coor_all_region)\n",
    "coor_all_region_bed"
   ],
   "metadata": {
    "collapsed": false,
    "ExecuteTime": {
     "end_time": "2023-08-15T17:31:02.925774Z",
     "start_time": "2023-08-15T17:31:02.872261Z"
    }
   },
   "id": "31fde2f75dce936e"
  },
  {
   "cell_type": "code",
   "execution_count": 89,
   "outputs": [
    {
     "data": {
      "text/plain": "       chrom      start        end\n0       chr2  216015147  216015571\n1      chr11   18394671   18395095\n2       chr7  131654869  131655293\n3      chr18   23622406   23622830\n4       chr1  207084892  207085316\n...      ...        ...        ...\n38388   chr1   16644602   16645008\n38389  chr19   40634475   40634892\n38390  chr19   39970704   39971115\n38391   chr1  228139856  228140313\n38392  chr17   18625556   18626006\n\n[38393 rows x 3 columns]",
      "text/html": "<div>\n<style scoped>\n    .dataframe tbody tr th:only-of-type {\n        vertical-align: middle;\n    }\n\n    .dataframe tbody tr th {\n        vertical-align: top;\n    }\n\n    .dataframe thead th {\n        text-align: right;\n    }\n</style>\n<table border=\"1\" class=\"dataframe\">\n  <thead>\n    <tr style=\"text-align: right;\">\n      <th></th>\n      <th>chrom</th>\n      <th>start</th>\n      <th>end</th>\n    </tr>\n  </thead>\n  <tbody>\n    <tr>\n      <th>0</th>\n      <td>chr2</td>\n      <td>216015147</td>\n      <td>216015571</td>\n    </tr>\n    <tr>\n      <th>1</th>\n      <td>chr11</td>\n      <td>18394671</td>\n      <td>18395095</td>\n    </tr>\n    <tr>\n      <th>2</th>\n      <td>chr7</td>\n      <td>131654869</td>\n      <td>131655293</td>\n    </tr>\n    <tr>\n      <th>3</th>\n      <td>chr18</td>\n      <td>23622406</td>\n      <td>23622830</td>\n    </tr>\n    <tr>\n      <th>4</th>\n      <td>chr1</td>\n      <td>207084892</td>\n      <td>207085316</td>\n    </tr>\n    <tr>\n      <th>...</th>\n      <td>...</td>\n      <td>...</td>\n      <td>...</td>\n    </tr>\n    <tr>\n      <th>38388</th>\n      <td>chr1</td>\n      <td>16644602</td>\n      <td>16645008</td>\n    </tr>\n    <tr>\n      <th>38389</th>\n      <td>chr19</td>\n      <td>40634475</td>\n      <td>40634892</td>\n    </tr>\n    <tr>\n      <th>38390</th>\n      <td>chr19</td>\n      <td>39970704</td>\n      <td>39971115</td>\n    </tr>\n    <tr>\n      <th>38391</th>\n      <td>chr1</td>\n      <td>228139856</td>\n      <td>228140313</td>\n    </tr>\n    <tr>\n      <th>38392</th>\n      <td>chr17</td>\n      <td>18625556</td>\n      <td>18626006</td>\n    </tr>\n  </tbody>\n</table>\n<p>38393 rows × 3 columns</p>\n</div>"
     },
     "execution_count": 89,
     "metadata": {},
     "output_type": "execute_result"
    }
   ],
   "source": [
    "coor_ctcf_bed = BedTool.from_dataframe(df_ctcf.iloc[:, :3])\n",
    "coor_ctcf_bed.to_dataframe()"
   ],
   "metadata": {
    "collapsed": false,
    "ExecuteTime": {
     "end_time": "2023-08-15T17:31:02.990188Z",
     "start_time": "2023-08-15T17:31:02.907874Z"
    }
   },
   "id": "25af0360acb8b12c"
  },
  {
   "cell_type": "code",
   "execution_count": 90,
   "outputs": [
    {
     "data": {
      "text/plain": "      chrom1     start1       end1 chrom2    start2      end2\n0      chr19    4182494    4182519      .        -1        -1\n1       chr9  129203099  129203121      .        -1        -1\n2       chr9    5021998    5022096      .        -1        -1\n3       chr9    5021925    5021997      .        -1        -1\n4      chr19    4182494    4182519      .        -1        -1\n...      ...        ...        ...    ...       ...       ...\n27266   chr3   47476042   47476053   chr3  47475944  47476157\n27267   chr6   30556647   30556663   chr6  30556362  30556786\n27268  chr15   68651256   68651277  chr15  68651050  68651474\n27269  chr15   89358774   89358784  chr15  89358651  89359132\n27270  chr15   89358774   89358784  chr15  89358651  89359126\n\n[27271 rows x 6 columns]",
      "text/html": "<div>\n<style scoped>\n    .dataframe tbody tr th:only-of-type {\n        vertical-align: middle;\n    }\n\n    .dataframe tbody tr th {\n        vertical-align: top;\n    }\n\n    .dataframe thead th {\n        text-align: right;\n    }\n</style>\n<table border=\"1\" class=\"dataframe\">\n  <thead>\n    <tr style=\"text-align: right;\">\n      <th></th>\n      <th>chrom1</th>\n      <th>start1</th>\n      <th>end1</th>\n      <th>chrom2</th>\n      <th>start2</th>\n      <th>end2</th>\n    </tr>\n  </thead>\n  <tbody>\n    <tr>\n      <th>0</th>\n      <td>chr19</td>\n      <td>4182494</td>\n      <td>4182519</td>\n      <td>.</td>\n      <td>-1</td>\n      <td>-1</td>\n    </tr>\n    <tr>\n      <th>1</th>\n      <td>chr9</td>\n      <td>129203099</td>\n      <td>129203121</td>\n      <td>.</td>\n      <td>-1</td>\n      <td>-1</td>\n    </tr>\n    <tr>\n      <th>2</th>\n      <td>chr9</td>\n      <td>5021998</td>\n      <td>5022096</td>\n      <td>.</td>\n      <td>-1</td>\n      <td>-1</td>\n    </tr>\n    <tr>\n      <th>3</th>\n      <td>chr9</td>\n      <td>5021925</td>\n      <td>5021997</td>\n      <td>.</td>\n      <td>-1</td>\n      <td>-1</td>\n    </tr>\n    <tr>\n      <th>4</th>\n      <td>chr19</td>\n      <td>4182494</td>\n      <td>4182519</td>\n      <td>.</td>\n      <td>-1</td>\n      <td>-1</td>\n    </tr>\n    <tr>\n      <th>...</th>\n      <td>...</td>\n      <td>...</td>\n      <td>...</td>\n      <td>...</td>\n      <td>...</td>\n      <td>...</td>\n    </tr>\n    <tr>\n      <th>27266</th>\n      <td>chr3</td>\n      <td>47476042</td>\n      <td>47476053</td>\n      <td>chr3</td>\n      <td>47475944</td>\n      <td>47476157</td>\n    </tr>\n    <tr>\n      <th>27267</th>\n      <td>chr6</td>\n      <td>30556647</td>\n      <td>30556663</td>\n      <td>chr6</td>\n      <td>30556362</td>\n      <td>30556786</td>\n    </tr>\n    <tr>\n      <th>27268</th>\n      <td>chr15</td>\n      <td>68651256</td>\n      <td>68651277</td>\n      <td>chr15</td>\n      <td>68651050</td>\n      <td>68651474</td>\n    </tr>\n    <tr>\n      <th>27269</th>\n      <td>chr15</td>\n      <td>89358774</td>\n      <td>89358784</td>\n      <td>chr15</td>\n      <td>89358651</td>\n      <td>89359132</td>\n    </tr>\n    <tr>\n      <th>27270</th>\n      <td>chr15</td>\n      <td>89358774</td>\n      <td>89358784</td>\n      <td>chr15</td>\n      <td>89358651</td>\n      <td>89359126</td>\n    </tr>\n  </tbody>\n</table>\n<p>27271 rows × 6 columns</p>\n</div>"
     },
     "execution_count": 90,
     "metadata": {},
     "output_type": "execute_result"
    }
   ],
   "source": [
    "df_coor_intersect = coor_all_region_bed.intersect(coor_ctcf_bed, loj=True).to_dataframe()\n",
    "df_coor_intersect.columns = ['chrom1', 'start1', 'end1', 'chrom2', 'start2', 'end2']\n",
    "df_coor_intersect"
   ],
   "metadata": {
    "collapsed": false,
    "ExecuteTime": {
     "end_time": "2023-08-15T17:31:03.087002Z",
     "start_time": "2023-08-15T17:31:02.965607Z"
    }
   },
   "id": "2ae050b9f401f65e"
  },
  {
   "cell_type": "code",
   "execution_count": 91,
   "outputs": [
    {
     "data": {
      "text/plain": "      chrom1    start1      end1 chrom2    start2      end2\n41     chr16    813656    813692  chr16    813652    814076\n42      chr8  38787661  38787670   chr8  38787485  38787909\n47     chr17  19513972  19514031  chr17  19513874  19514298\n64     chr16   1413873   1413917  chr16   1413867   1414291\n106    chr17  46978484  46978500  chr17  46978485  46978909\n...      ...       ...       ...    ...       ...       ...\n26908  chr17  28750267  28750282  chr17  28750132  28750372\n27044   chr3  47476042  47476053   chr3  47475944  47476157\n27120  chr19   4186603   4186632  chr19   4186386   4186810\n27138  chr19  10492272  10492282  chr19  10491961  10492385\n27233  chr19   3822057   3822071  chr19   3821890   3822314\n\n[1105 rows x 6 columns]",
      "text/html": "<div>\n<style scoped>\n    .dataframe tbody tr th:only-of-type {\n        vertical-align: middle;\n    }\n\n    .dataframe tbody tr th {\n        vertical-align: top;\n    }\n\n    .dataframe thead th {\n        text-align: right;\n    }\n</style>\n<table border=\"1\" class=\"dataframe\">\n  <thead>\n    <tr style=\"text-align: right;\">\n      <th></th>\n      <th>chrom1</th>\n      <th>start1</th>\n      <th>end1</th>\n      <th>chrom2</th>\n      <th>start2</th>\n      <th>end2</th>\n    </tr>\n  </thead>\n  <tbody>\n    <tr>\n      <th>41</th>\n      <td>chr16</td>\n      <td>813656</td>\n      <td>813692</td>\n      <td>chr16</td>\n      <td>813652</td>\n      <td>814076</td>\n    </tr>\n    <tr>\n      <th>42</th>\n      <td>chr8</td>\n      <td>38787661</td>\n      <td>38787670</td>\n      <td>chr8</td>\n      <td>38787485</td>\n      <td>38787909</td>\n    </tr>\n    <tr>\n      <th>47</th>\n      <td>chr17</td>\n      <td>19513972</td>\n      <td>19514031</td>\n      <td>chr17</td>\n      <td>19513874</td>\n      <td>19514298</td>\n    </tr>\n    <tr>\n      <th>64</th>\n      <td>chr16</td>\n      <td>1413873</td>\n      <td>1413917</td>\n      <td>chr16</td>\n      <td>1413867</td>\n      <td>1414291</td>\n    </tr>\n    <tr>\n      <th>106</th>\n      <td>chr17</td>\n      <td>46978484</td>\n      <td>46978500</td>\n      <td>chr17</td>\n      <td>46978485</td>\n      <td>46978909</td>\n    </tr>\n    <tr>\n      <th>...</th>\n      <td>...</td>\n      <td>...</td>\n      <td>...</td>\n      <td>...</td>\n      <td>...</td>\n      <td>...</td>\n    </tr>\n    <tr>\n      <th>26908</th>\n      <td>chr17</td>\n      <td>28750267</td>\n      <td>28750282</td>\n      <td>chr17</td>\n      <td>28750132</td>\n      <td>28750372</td>\n    </tr>\n    <tr>\n      <th>27044</th>\n      <td>chr3</td>\n      <td>47476042</td>\n      <td>47476053</td>\n      <td>chr3</td>\n      <td>47475944</td>\n      <td>47476157</td>\n    </tr>\n    <tr>\n      <th>27120</th>\n      <td>chr19</td>\n      <td>4186603</td>\n      <td>4186632</td>\n      <td>chr19</td>\n      <td>4186386</td>\n      <td>4186810</td>\n    </tr>\n    <tr>\n      <th>27138</th>\n      <td>chr19</td>\n      <td>10492272</td>\n      <td>10492282</td>\n      <td>chr19</td>\n      <td>10491961</td>\n      <td>10492385</td>\n    </tr>\n    <tr>\n      <th>27233</th>\n      <td>chr19</td>\n      <td>3822057</td>\n      <td>3822071</td>\n      <td>chr19</td>\n      <td>3821890</td>\n      <td>3822314</td>\n    </tr>\n  </tbody>\n</table>\n<p>1105 rows × 6 columns</p>\n</div>"
     },
     "execution_count": 91,
     "metadata": {},
     "output_type": "execute_result"
    }
   ],
   "source": [
    "# 发现有不少和CTCF binding site有overlap的点，归为IND？暂时归为IND，进一步确认需要实验验证了\n",
    "df_coor_intersect_indep = df_coor_intersect.query('start2!=-1').drop_duplicates(subset=['chrom1', 'start1', 'end1'])\n",
    "df_coor_intersect_indep"
   ],
   "metadata": {
    "collapsed": false,
    "ExecuteTime": {
     "end_time": "2023-08-15T17:31:03.103393Z",
     "start_time": "2023-08-15T17:31:03.082210Z"
    }
   },
   "id": "33701fa8cbaa9f72"
  },
  {
   "cell_type": "code",
   "execution_count": 92,
   "outputs": [
    {
     "data": {
      "text/plain": "['chr16_813656_813692',\n 'chr8_38787661_38787670',\n 'chr17_19513972_19514031',\n 'chr16_1413873_1413917',\n 'chr17_46978484_46978500',\n 'chr4_84498427_84498432',\n 'chr19_39996736_39996808',\n 'chr5_137605653_137605678',\n 'chr12_47904736_47904744',\n 'chr8_53880803_53880821']"
     },
     "execution_count": 92,
     "metadata": {},
     "output_type": "execute_result"
    }
   ],
   "source": [
    "index_indep = df_coor_intersect_indep.apply(lambda x: '_'.join(x[:3].astype(str)), axis=1).tolist()\n",
    "index_indep[:10]"
   ],
   "metadata": {
    "collapsed": false,
    "ExecuteTime": {
     "end_time": "2023-08-15T17:31:03.152458Z",
     "start_time": "2023-08-15T17:31:03.094025Z"
    }
   },
   "id": "3ac66b61044f0ad7"
  },
  {
   "cell_type": "code",
   "execution_count": 93,
   "outputs": [
    {
     "data": {
      "text/plain": "      chrom      start        end               region_index align_chr_name  align_chr_start  align_chr_end  \\\n6994  chr19    4182444    4182569      chr19_4182494_4182519          chr19          4182511        4182527   \n886    chr9  129203049  129203171   chr9_129203099_129203121           chr9        129203129      129203145   \n45     chr9    5021948    5022146       chr9_5021998_5022096           chr9          5022005        5022021   \n559    chr9    5021875    5022047       chr9_5021925_5021997           chr9          5022005        5022021   \n6994  chr19    4182444    4182569      chr19_4182494_4182519          chr19          4182476        4182492   \n...     ...        ...        ...                        ...            ...              ...            ...   \n102   chr12  119020881  119021002  chr12_119020931_119020952          chr12        119020986      119021001   \n543   chr14   72104166   72104275    chr14_72104216_72104225          chr14         72104242       72104258   \n700    chr2  236178158  236178271   chr2_236178208_236178221           chr2        236178168      236178184   \n3     chr10  123135225  123135335  chr10_123135275_123135285          chr10        123135262      123135278   \n443   chr16   89268826   89268947    chr16_89268876_89268897          chr16         89268919       89268935   \n\n     align_strand  align_dist_to_signal align_N0_base  align_total_match  align_total_mismatch  \\\n6994            -                    17             T                 17                     0   \n886             -                     8             T                 13                     4   \n45              -                     7             C                 17                     0   \n559             -                     8             C                 17                     0   \n6994            +                     2             C                 17                     0   \n...           ...                   ...           ...                ...                   ...   \n102             -                    34             A                  8                     8   \n543             -                    17             G                  6                    11   \n700             +                    24             T                  7                    10   \n3               -                   -13             G                  8                     9   \n443             -                    43             C                  8                     9   \n\n      align_degen_total_match  align_degen_total_mismatch  align_degen_num  align_total_gap  align_score  \\\n6994                       17                           0                0                0         95.0   \n886                        17                           0                4                0         87.0   \n45                         17                           0                0                0         85.0   \n559                        17                           0                0                0         85.0   \n6994                       17                           0                0                0         85.0   \n...                       ...                         ...              ...              ...          ...   \n102                         8                           8                0                0          8.0   \n543                         9                           8                3                0          7.0   \n700                         7                          10                0                0          5.0   \n3                           8                           9                0                0          4.0   \n443                         8                           9                0                0          4.0   \n\n       align_target_seq   align_info_state    align_query_seq                                file_info  \\\n6994  TACGCGGCGGGGCTGTC  |||||||||||||||||  TACGCGGCGGGGCTGTC  ../art/DetectSeq_SIRT6-DddA11_REP-2_...   \n886   TACGCGACAGAACTGTC  ||||||.|.|..|||||  TACGCGGCGGGGCTGTC  ../art/DetectSeq_SIRT6-DddA11_REP-1_...   \n45    CCATTTCTGTCATCGTA  |||||||||||||||||  CCATTTCTGTCATCGTA  ../art/DetectSeq_JAK2-DddA11_REP-1_T...   \n559   CCATTTCTGTCATCGTA  |||||||||||||||||  CCATTTCTGTCATCGTA  ../art/DetectSeq_JAK2-DddA11_REP-2_T...   \n6994  CCGGGAGGCCGCACTTG  |||||||||||||||||  CCGGGAGGCCGCACTTG  ../art/DetectSeq_SIRT6-DddA11_REP-2_...   \n...                 ...                ...                ...                                      ...   \n102    AGAACACAGCGCCTCC   |XX|X|||XXXX||X|   ATTAAACACAAACTAC  ../art/DetectSeq_ATP8-DddA11_REP-1_T...   \n543   GGAAAAGCAAGACAACG  XX.|||XX.|XX|X.|X  CTGAAAAAGACTCTGCA  ../art/DetectSeq_JAK2-DddA11_REP-1_T...   \n700   TTCGCTCCCACTGGGCA  X|XXXXXXX|||XX|||  CTGAAAAAGACTCTGCA  ../art/DetectSeq_JAK2-DddA11_REP-1_T...   \n3     GCGGACCAGGCCCTCCC  XX|X|XX||X|X||X|X  CTGAAAAAGACTCTGCA  ../art/DetectSeq_JAK2-DddA11_REP-1_T...   \n443   CAGAGCAGGGCAGGGCC  |X||XX|X|X|XXX||X  CTGAAAAAGACTCTGCA  ../art/DetectSeq_JAK2-DddA11_REP-2_T...   \n\n                          <sample>      TAS-Dep_stat     id  \n6994  DetectSeq_SIRT6-DddA11_REP-2  on-target: SIRT6      0  \n886   DetectSeq_SIRT6-DddA11_REP-1              Left      1  \n45     DetectSeq_JAK2-DddA11_REP-1   on-target: JAK2      2  \n559    DetectSeq_JAK2-DddA11_REP-2             Right      3  \n6994  DetectSeq_SIRT6-DddA11_REP-2  on-target: SIRT6      4  \n...                            ...               ...    ...  \n102    DetectSeq_ATP8-DddA11_REP-1              Left  27116  \n543    DetectSeq_JAK2-DddA11_REP-1              Left  27117  \n700    DetectSeq_JAK2-DddA11_REP-1              Left  27125  \n3      DetectSeq_JAK2-DddA11_REP-1              Left  27130  \n443    DetectSeq_JAK2-DddA11_REP-2              Left  27132  \n\n[23952 rows x 24 columns]",
      "text/html": "<div>\n<style scoped>\n    .dataframe tbody tr th:only-of-type {\n        vertical-align: middle;\n    }\n\n    .dataframe tbody tr th {\n        vertical-align: top;\n    }\n\n    .dataframe thead th {\n        text-align: right;\n    }\n</style>\n<table border=\"1\" class=\"dataframe\">\n  <thead>\n    <tr style=\"text-align: right;\">\n      <th></th>\n      <th>chrom</th>\n      <th>start</th>\n      <th>end</th>\n      <th>region_index</th>\n      <th>align_chr_name</th>\n      <th>align_chr_start</th>\n      <th>align_chr_end</th>\n      <th>align_strand</th>\n      <th>align_dist_to_signal</th>\n      <th>align_N0_base</th>\n      <th>align_total_match</th>\n      <th>align_total_mismatch</th>\n      <th>align_degen_total_match</th>\n      <th>align_degen_total_mismatch</th>\n      <th>align_degen_num</th>\n      <th>align_total_gap</th>\n      <th>align_score</th>\n      <th>align_target_seq</th>\n      <th>align_info_state</th>\n      <th>align_query_seq</th>\n      <th>file_info</th>\n      <th>&lt;sample&gt;</th>\n      <th>TAS-Dep_stat</th>\n      <th>id</th>\n    </tr>\n  </thead>\n  <tbody>\n    <tr>\n      <th>6994</th>\n      <td>chr19</td>\n      <td>4182444</td>\n      <td>4182569</td>\n      <td>chr19_4182494_4182519</td>\n      <td>chr19</td>\n      <td>4182511</td>\n      <td>4182527</td>\n      <td>-</td>\n      <td>17</td>\n      <td>T</td>\n      <td>17</td>\n      <td>0</td>\n      <td>17</td>\n      <td>0</td>\n      <td>0</td>\n      <td>0</td>\n      <td>95.0</td>\n      <td>TACGCGGCGGGGCTGTC</td>\n      <td>|||||||||||||||||</td>\n      <td>TACGCGGCGGGGCTGTC</td>\n      <td>../art/DetectSeq_SIRT6-DddA11_REP-2_...</td>\n      <td>DetectSeq_SIRT6-DddA11_REP-2</td>\n      <td>on-target: SIRT6</td>\n      <td>0</td>\n    </tr>\n    <tr>\n      <th>886</th>\n      <td>chr9</td>\n      <td>129203049</td>\n      <td>129203171</td>\n      <td>chr9_129203099_129203121</td>\n      <td>chr9</td>\n      <td>129203129</td>\n      <td>129203145</td>\n      <td>-</td>\n      <td>8</td>\n      <td>T</td>\n      <td>13</td>\n      <td>4</td>\n      <td>17</td>\n      <td>0</td>\n      <td>4</td>\n      <td>0</td>\n      <td>87.0</td>\n      <td>TACGCGACAGAACTGTC</td>\n      <td>||||||.|.|..|||||</td>\n      <td>TACGCGGCGGGGCTGTC</td>\n      <td>../art/DetectSeq_SIRT6-DddA11_REP-1_...</td>\n      <td>DetectSeq_SIRT6-DddA11_REP-1</td>\n      <td>Left</td>\n      <td>1</td>\n    </tr>\n    <tr>\n      <th>45</th>\n      <td>chr9</td>\n      <td>5021948</td>\n      <td>5022146</td>\n      <td>chr9_5021998_5022096</td>\n      <td>chr9</td>\n      <td>5022005</td>\n      <td>5022021</td>\n      <td>-</td>\n      <td>7</td>\n      <td>C</td>\n      <td>17</td>\n      <td>0</td>\n      <td>17</td>\n      <td>0</td>\n      <td>0</td>\n      <td>0</td>\n      <td>85.0</td>\n      <td>CCATTTCTGTCATCGTA</td>\n      <td>|||||||||||||||||</td>\n      <td>CCATTTCTGTCATCGTA</td>\n      <td>../art/DetectSeq_JAK2-DddA11_REP-1_T...</td>\n      <td>DetectSeq_JAK2-DddA11_REP-1</td>\n      <td>on-target: JAK2</td>\n      <td>2</td>\n    </tr>\n    <tr>\n      <th>559</th>\n      <td>chr9</td>\n      <td>5021875</td>\n      <td>5022047</td>\n      <td>chr9_5021925_5021997</td>\n      <td>chr9</td>\n      <td>5022005</td>\n      <td>5022021</td>\n      <td>-</td>\n      <td>8</td>\n      <td>C</td>\n      <td>17</td>\n      <td>0</td>\n      <td>17</td>\n      <td>0</td>\n      <td>0</td>\n      <td>0</td>\n      <td>85.0</td>\n      <td>CCATTTCTGTCATCGTA</td>\n      <td>|||||||||||||||||</td>\n      <td>CCATTTCTGTCATCGTA</td>\n      <td>../art/DetectSeq_JAK2-DddA11_REP-2_T...</td>\n      <td>DetectSeq_JAK2-DddA11_REP-2</td>\n      <td>Right</td>\n      <td>3</td>\n    </tr>\n    <tr>\n      <th>6994</th>\n      <td>chr19</td>\n      <td>4182444</td>\n      <td>4182569</td>\n      <td>chr19_4182494_4182519</td>\n      <td>chr19</td>\n      <td>4182476</td>\n      <td>4182492</td>\n      <td>+</td>\n      <td>2</td>\n      <td>C</td>\n      <td>17</td>\n      <td>0</td>\n      <td>17</td>\n      <td>0</td>\n      <td>0</td>\n      <td>0</td>\n      <td>85.0</td>\n      <td>CCGGGAGGCCGCACTTG</td>\n      <td>|||||||||||||||||</td>\n      <td>CCGGGAGGCCGCACTTG</td>\n      <td>../art/DetectSeq_SIRT6-DddA11_REP-2_...</td>\n      <td>DetectSeq_SIRT6-DddA11_REP-2</td>\n      <td>on-target: SIRT6</td>\n      <td>4</td>\n    </tr>\n    <tr>\n      <th>...</th>\n      <td>...</td>\n      <td>...</td>\n      <td>...</td>\n      <td>...</td>\n      <td>...</td>\n      <td>...</td>\n      <td>...</td>\n      <td>...</td>\n      <td>...</td>\n      <td>...</td>\n      <td>...</td>\n      <td>...</td>\n      <td>...</td>\n      <td>...</td>\n      <td>...</td>\n      <td>...</td>\n      <td>...</td>\n      <td>...</td>\n      <td>...</td>\n      <td>...</td>\n      <td>...</td>\n      <td>...</td>\n      <td>...</td>\n      <td>...</td>\n    </tr>\n    <tr>\n      <th>102</th>\n      <td>chr12</td>\n      <td>119020881</td>\n      <td>119021002</td>\n      <td>chr12_119020931_119020952</td>\n      <td>chr12</td>\n      <td>119020986</td>\n      <td>119021001</td>\n      <td>-</td>\n      <td>34</td>\n      <td>A</td>\n      <td>8</td>\n      <td>8</td>\n      <td>8</td>\n      <td>8</td>\n      <td>0</td>\n      <td>0</td>\n      <td>8.0</td>\n      <td>AGAACACAGCGCCTCC</td>\n      <td>|XX|X|||XXXX||X|</td>\n      <td>ATTAAACACAAACTAC</td>\n      <td>../art/DetectSeq_ATP8-DddA11_REP-1_T...</td>\n      <td>DetectSeq_ATP8-DddA11_REP-1</td>\n      <td>Left</td>\n      <td>27116</td>\n    </tr>\n    <tr>\n      <th>543</th>\n      <td>chr14</td>\n      <td>72104166</td>\n      <td>72104275</td>\n      <td>chr14_72104216_72104225</td>\n      <td>chr14</td>\n      <td>72104242</td>\n      <td>72104258</td>\n      <td>-</td>\n      <td>17</td>\n      <td>G</td>\n      <td>6</td>\n      <td>11</td>\n      <td>9</td>\n      <td>8</td>\n      <td>3</td>\n      <td>0</td>\n      <td>7.0</td>\n      <td>GGAAAAGCAAGACAACG</td>\n      <td>XX.|||XX.|XX|X.|X</td>\n      <td>CTGAAAAAGACTCTGCA</td>\n      <td>../art/DetectSeq_JAK2-DddA11_REP-1_T...</td>\n      <td>DetectSeq_JAK2-DddA11_REP-1</td>\n      <td>Left</td>\n      <td>27117</td>\n    </tr>\n    <tr>\n      <th>700</th>\n      <td>chr2</td>\n      <td>236178158</td>\n      <td>236178271</td>\n      <td>chr2_236178208_236178221</td>\n      <td>chr2</td>\n      <td>236178168</td>\n      <td>236178184</td>\n      <td>+</td>\n      <td>24</td>\n      <td>T</td>\n      <td>7</td>\n      <td>10</td>\n      <td>7</td>\n      <td>10</td>\n      <td>0</td>\n      <td>0</td>\n      <td>5.0</td>\n      <td>TTCGCTCCCACTGGGCA</td>\n      <td>X|XXXXXXX|||XX|||</td>\n      <td>CTGAAAAAGACTCTGCA</td>\n      <td>../art/DetectSeq_JAK2-DddA11_REP-1_T...</td>\n      <td>DetectSeq_JAK2-DddA11_REP-1</td>\n      <td>Left</td>\n      <td>27125</td>\n    </tr>\n    <tr>\n      <th>3</th>\n      <td>chr10</td>\n      <td>123135225</td>\n      <td>123135335</td>\n      <td>chr10_123135275_123135285</td>\n      <td>chr10</td>\n      <td>123135262</td>\n      <td>123135278</td>\n      <td>-</td>\n      <td>-13</td>\n      <td>G</td>\n      <td>8</td>\n      <td>9</td>\n      <td>8</td>\n      <td>9</td>\n      <td>0</td>\n      <td>0</td>\n      <td>4.0</td>\n      <td>GCGGACCAGGCCCTCCC</td>\n      <td>XX|X|XX||X|X||X|X</td>\n      <td>CTGAAAAAGACTCTGCA</td>\n      <td>../art/DetectSeq_JAK2-DddA11_REP-1_T...</td>\n      <td>DetectSeq_JAK2-DddA11_REP-1</td>\n      <td>Left</td>\n      <td>27130</td>\n    </tr>\n    <tr>\n      <th>443</th>\n      <td>chr16</td>\n      <td>89268826</td>\n      <td>89268947</td>\n      <td>chr16_89268876_89268897</td>\n      <td>chr16</td>\n      <td>89268919</td>\n      <td>89268935</td>\n      <td>-</td>\n      <td>43</td>\n      <td>C</td>\n      <td>8</td>\n      <td>9</td>\n      <td>8</td>\n      <td>9</td>\n      <td>0</td>\n      <td>0</td>\n      <td>4.0</td>\n      <td>CAGAGCAGGGCAGGGCC</td>\n      <td>|X||XX|X|X|XXX||X</td>\n      <td>CTGAAAAAGACTCTGCA</td>\n      <td>../art/DetectSeq_JAK2-DddA11_REP-2_T...</td>\n      <td>DetectSeq_JAK2-DddA11_REP-2</td>\n      <td>Left</td>\n      <td>27132</td>\n    </tr>\n  </tbody>\n</table>\n<p>23952 rows × 24 columns</p>\n</div>"
     },
     "execution_count": 93,
     "metadata": {},
     "output_type": "execute_result"
    }
   ],
   "source": [
    "# 把定义为IND的Dep去除\n",
    "df_arts_rm_ind = df_arts.query('region_index not in @index_indep').copy()\n",
    "df_arts_rm_ind"
   ],
   "metadata": {
    "collapsed": false,
    "ExecuteTime": {
     "end_time": "2023-08-15T17:31:03.171616Z",
     "start_time": "2023-08-15T17:31:03.138673Z"
    }
   },
   "id": "846b7517f9bbc235"
  },
  {
   "cell_type": "code",
   "execution_count": 94,
   "outputs": [
    {
     "data": {
      "text/plain": "      chrom      start        end               region_index align_chr_name  align_chr_start  align_chr_end  \\\n6994  chr19    4182444    4182569      chr19_4182494_4182519          chr19          4182511        4182527   \n886    chr9  129203049  129203171   chr9_129203099_129203121           chr9        129203129      129203145   \n45     chr9    5021948    5022146       chr9_5021998_5022096           chr9          5022005        5022021   \n559    chr9    5021875    5022047       chr9_5021925_5021997           chr9          5022005        5022021   \n6994  chr19    4182444    4182569      chr19_4182494_4182519          chr19          4182476        4182492   \n...     ...        ...        ...                        ...            ...              ...            ...   \n102   chr12  119020881  119021002  chr12_119020931_119020952          chr12        119020986      119021001   \n543   chr14   72104166   72104275    chr14_72104216_72104225          chr14         72104242       72104258   \n700    chr2  236178158  236178271   chr2_236178208_236178221           chr2        236178168      236178184   \n3     chr10  123135225  123135335  chr10_123135275_123135285          chr10        123135262      123135278   \n443   chr16   89268826   89268947    chr16_89268876_89268897          chr16         89268919       89268935   \n\n     align_strand  align_dist_to_signal align_N0_base  align_total_match  align_total_mismatch  \\\n6994            -                    17             T                 17                     0   \n886             -                     8             T                 13                     4   \n45              -                     7             C                 17                     0   \n559             -                     8             C                 17                     0   \n6994            +                     2             C                 17                     0   \n...           ...                   ...           ...                ...                   ...   \n102             -                    34             A                  8                     8   \n543             -                    17             G                  6                    11   \n700             +                    24             T                  7                    10   \n3               -                   -13             G                  8                     9   \n443             -                    43             C                  8                     9   \n\n      align_degen_total_match  align_degen_total_mismatch  align_degen_num  align_total_gap  align_score  \\\n6994                       17                           0                0                0         95.0   \n886                        17                           0                4                0         87.0   \n45                         17                           0                0                0         85.0   \n559                        17                           0                0                0         85.0   \n6994                       17                           0                0                0         85.0   \n...                       ...                         ...              ...              ...          ...   \n102                         8                           8                0                0          8.0   \n543                         9                           8                3                0          7.0   \n700                         7                          10                0                0          5.0   \n3                           8                           9                0                0          4.0   \n443                         8                           9                0                0          4.0   \n\n       align_target_seq   align_info_state    align_query_seq                                file_info  \\\n6994  TACGCGGCGGGGCTGTC  |||||||||||||||||  TACGCGGCGGGGCTGTC  ../art/DetectSeq_SIRT6-DddA11_REP-2_...   \n886   TACGCGACAGAACTGTC  ||||||.|.|..|||||  TACGCGGCGGGGCTGTC  ../art/DetectSeq_SIRT6-DddA11_REP-1_...   \n45    CCATTTCTGTCATCGTA  |||||||||||||||||  CCATTTCTGTCATCGTA  ../art/DetectSeq_JAK2-DddA11_REP-1_T...   \n559   CCATTTCTGTCATCGTA  |||||||||||||||||  CCATTTCTGTCATCGTA  ../art/DetectSeq_JAK2-DddA11_REP-2_T...   \n6994  CCGGGAGGCCGCACTTG  |||||||||||||||||  CCGGGAGGCCGCACTTG  ../art/DetectSeq_SIRT6-DddA11_REP-2_...   \n...                 ...                ...                ...                                      ...   \n102    AGAACACAGCGCCTCC   |XX|X|||XXXX||X|   ATTAAACACAAACTAC  ../art/DetectSeq_ATP8-DddA11_REP-1_T...   \n543   GGAAAAGCAAGACAACG  XX.|||XX.|XX|X.|X  CTGAAAAAGACTCTGCA  ../art/DetectSeq_JAK2-DddA11_REP-1_T...   \n700   TTCGCTCCCACTGGGCA  X|XXXXXXX|||XX|||  CTGAAAAAGACTCTGCA  ../art/DetectSeq_JAK2-DddA11_REP-1_T...   \n3     GCGGACCAGGCCCTCCC  XX|X|XX||X|X||X|X  CTGAAAAAGACTCTGCA  ../art/DetectSeq_JAK2-DddA11_REP-1_T...   \n443   CAGAGCAGGGCAGGGCC  |X||XX|X|X|XXX||X  CTGAAAAAGACTCTGCA  ../art/DetectSeq_JAK2-DddA11_REP-2_T...   \n\n                          <sample>      TAS-Dep_stat     id  \n6994  DetectSeq_SIRT6-DddA11_REP-2  on-target: SIRT6      0  \n886   DetectSeq_SIRT6-DddA11_REP-1              Left      1  \n45     DetectSeq_JAK2-DddA11_REP-1   on-target: JAK2      2  \n559    DetectSeq_JAK2-DddA11_REP-2             Right      3  \n6994  DetectSeq_SIRT6-DddA11_REP-2  on-target: SIRT6      4  \n...                            ...               ...    ...  \n102    DetectSeq_ATP8-DddA11_REP-1              Left  27116  \n543    DetectSeq_JAK2-DddA11_REP-1              Left  27117  \n700    DetectSeq_JAK2-DddA11_REP-1              Left  27125  \n3      DetectSeq_JAK2-DddA11_REP-1              Left  27130  \n443    DetectSeq_JAK2-DddA11_REP-2              Left  27132  \n\n[23952 rows x 24 columns]",
      "text/html": "<div>\n<style scoped>\n    .dataframe tbody tr th:only-of-type {\n        vertical-align: middle;\n    }\n\n    .dataframe tbody tr th {\n        vertical-align: top;\n    }\n\n    .dataframe thead th {\n        text-align: right;\n    }\n</style>\n<table border=\"1\" class=\"dataframe\">\n  <thead>\n    <tr style=\"text-align: right;\">\n      <th></th>\n      <th>chrom</th>\n      <th>start</th>\n      <th>end</th>\n      <th>region_index</th>\n      <th>align_chr_name</th>\n      <th>align_chr_start</th>\n      <th>align_chr_end</th>\n      <th>align_strand</th>\n      <th>align_dist_to_signal</th>\n      <th>align_N0_base</th>\n      <th>align_total_match</th>\n      <th>align_total_mismatch</th>\n      <th>align_degen_total_match</th>\n      <th>align_degen_total_mismatch</th>\n      <th>align_degen_num</th>\n      <th>align_total_gap</th>\n      <th>align_score</th>\n      <th>align_target_seq</th>\n      <th>align_info_state</th>\n      <th>align_query_seq</th>\n      <th>file_info</th>\n      <th>&lt;sample&gt;</th>\n      <th>TAS-Dep_stat</th>\n      <th>id</th>\n    </tr>\n  </thead>\n  <tbody>\n    <tr>\n      <th>6994</th>\n      <td>chr19</td>\n      <td>4182444</td>\n      <td>4182569</td>\n      <td>chr19_4182494_4182519</td>\n      <td>chr19</td>\n      <td>4182511</td>\n      <td>4182527</td>\n      <td>-</td>\n      <td>17</td>\n      <td>T</td>\n      <td>17</td>\n      <td>0</td>\n      <td>17</td>\n      <td>0</td>\n      <td>0</td>\n      <td>0</td>\n      <td>95.0</td>\n      <td>TACGCGGCGGGGCTGTC</td>\n      <td>|||||||||||||||||</td>\n      <td>TACGCGGCGGGGCTGTC</td>\n      <td>../art/DetectSeq_SIRT6-DddA11_REP-2_...</td>\n      <td>DetectSeq_SIRT6-DddA11_REP-2</td>\n      <td>on-target: SIRT6</td>\n      <td>0</td>\n    </tr>\n    <tr>\n      <th>886</th>\n      <td>chr9</td>\n      <td>129203049</td>\n      <td>129203171</td>\n      <td>chr9_129203099_129203121</td>\n      <td>chr9</td>\n      <td>129203129</td>\n      <td>129203145</td>\n      <td>-</td>\n      <td>8</td>\n      <td>T</td>\n      <td>13</td>\n      <td>4</td>\n      <td>17</td>\n      <td>0</td>\n      <td>4</td>\n      <td>0</td>\n      <td>87.0</td>\n      <td>TACGCGACAGAACTGTC</td>\n      <td>||||||.|.|..|||||</td>\n      <td>TACGCGGCGGGGCTGTC</td>\n      <td>../art/DetectSeq_SIRT6-DddA11_REP-1_...</td>\n      <td>DetectSeq_SIRT6-DddA11_REP-1</td>\n      <td>Left</td>\n      <td>1</td>\n    </tr>\n    <tr>\n      <th>45</th>\n      <td>chr9</td>\n      <td>5021948</td>\n      <td>5022146</td>\n      <td>chr9_5021998_5022096</td>\n      <td>chr9</td>\n      <td>5022005</td>\n      <td>5022021</td>\n      <td>-</td>\n      <td>7</td>\n      <td>C</td>\n      <td>17</td>\n      <td>0</td>\n      <td>17</td>\n      <td>0</td>\n      <td>0</td>\n      <td>0</td>\n      <td>85.0</td>\n      <td>CCATTTCTGTCATCGTA</td>\n      <td>|||||||||||||||||</td>\n      <td>CCATTTCTGTCATCGTA</td>\n      <td>../art/DetectSeq_JAK2-DddA11_REP-1_T...</td>\n      <td>DetectSeq_JAK2-DddA11_REP-1</td>\n      <td>on-target: JAK2</td>\n      <td>2</td>\n    </tr>\n    <tr>\n      <th>559</th>\n      <td>chr9</td>\n      <td>5021875</td>\n      <td>5022047</td>\n      <td>chr9_5021925_5021997</td>\n      <td>chr9</td>\n      <td>5022005</td>\n      <td>5022021</td>\n      <td>-</td>\n      <td>8</td>\n      <td>C</td>\n      <td>17</td>\n      <td>0</td>\n      <td>17</td>\n      <td>0</td>\n      <td>0</td>\n      <td>0</td>\n      <td>85.0</td>\n      <td>CCATTTCTGTCATCGTA</td>\n      <td>|||||||||||||||||</td>\n      <td>CCATTTCTGTCATCGTA</td>\n      <td>../art/DetectSeq_JAK2-DddA11_REP-2_T...</td>\n      <td>DetectSeq_JAK2-DddA11_REP-2</td>\n      <td>Right</td>\n      <td>3</td>\n    </tr>\n    <tr>\n      <th>6994</th>\n      <td>chr19</td>\n      <td>4182444</td>\n      <td>4182569</td>\n      <td>chr19_4182494_4182519</td>\n      <td>chr19</td>\n      <td>4182476</td>\n      <td>4182492</td>\n      <td>+</td>\n      <td>2</td>\n      <td>C</td>\n      <td>17</td>\n      <td>0</td>\n      <td>17</td>\n      <td>0</td>\n      <td>0</td>\n      <td>0</td>\n      <td>85.0</td>\n      <td>CCGGGAGGCCGCACTTG</td>\n      <td>|||||||||||||||||</td>\n      <td>CCGGGAGGCCGCACTTG</td>\n      <td>../art/DetectSeq_SIRT6-DddA11_REP-2_...</td>\n      <td>DetectSeq_SIRT6-DddA11_REP-2</td>\n      <td>on-target: SIRT6</td>\n      <td>4</td>\n    </tr>\n    <tr>\n      <th>...</th>\n      <td>...</td>\n      <td>...</td>\n      <td>...</td>\n      <td>...</td>\n      <td>...</td>\n      <td>...</td>\n      <td>...</td>\n      <td>...</td>\n      <td>...</td>\n      <td>...</td>\n      <td>...</td>\n      <td>...</td>\n      <td>...</td>\n      <td>...</td>\n      <td>...</td>\n      <td>...</td>\n      <td>...</td>\n      <td>...</td>\n      <td>...</td>\n      <td>...</td>\n      <td>...</td>\n      <td>...</td>\n      <td>...</td>\n      <td>...</td>\n    </tr>\n    <tr>\n      <th>102</th>\n      <td>chr12</td>\n      <td>119020881</td>\n      <td>119021002</td>\n      <td>chr12_119020931_119020952</td>\n      <td>chr12</td>\n      <td>119020986</td>\n      <td>119021001</td>\n      <td>-</td>\n      <td>34</td>\n      <td>A</td>\n      <td>8</td>\n      <td>8</td>\n      <td>8</td>\n      <td>8</td>\n      <td>0</td>\n      <td>0</td>\n      <td>8.0</td>\n      <td>AGAACACAGCGCCTCC</td>\n      <td>|XX|X|||XXXX||X|</td>\n      <td>ATTAAACACAAACTAC</td>\n      <td>../art/DetectSeq_ATP8-DddA11_REP-1_T...</td>\n      <td>DetectSeq_ATP8-DddA11_REP-1</td>\n      <td>Left</td>\n      <td>27116</td>\n    </tr>\n    <tr>\n      <th>543</th>\n      <td>chr14</td>\n      <td>72104166</td>\n      <td>72104275</td>\n      <td>chr14_72104216_72104225</td>\n      <td>chr14</td>\n      <td>72104242</td>\n      <td>72104258</td>\n      <td>-</td>\n      <td>17</td>\n      <td>G</td>\n      <td>6</td>\n      <td>11</td>\n      <td>9</td>\n      <td>8</td>\n      <td>3</td>\n      <td>0</td>\n      <td>7.0</td>\n      <td>GGAAAAGCAAGACAACG</td>\n      <td>XX.|||XX.|XX|X.|X</td>\n      <td>CTGAAAAAGACTCTGCA</td>\n      <td>../art/DetectSeq_JAK2-DddA11_REP-1_T...</td>\n      <td>DetectSeq_JAK2-DddA11_REP-1</td>\n      <td>Left</td>\n      <td>27117</td>\n    </tr>\n    <tr>\n      <th>700</th>\n      <td>chr2</td>\n      <td>236178158</td>\n      <td>236178271</td>\n      <td>chr2_236178208_236178221</td>\n      <td>chr2</td>\n      <td>236178168</td>\n      <td>236178184</td>\n      <td>+</td>\n      <td>24</td>\n      <td>T</td>\n      <td>7</td>\n      <td>10</td>\n      <td>7</td>\n      <td>10</td>\n      <td>0</td>\n      <td>0</td>\n      <td>5.0</td>\n      <td>TTCGCTCCCACTGGGCA</td>\n      <td>X|XXXXXXX|||XX|||</td>\n      <td>CTGAAAAAGACTCTGCA</td>\n      <td>../art/DetectSeq_JAK2-DddA11_REP-1_T...</td>\n      <td>DetectSeq_JAK2-DddA11_REP-1</td>\n      <td>Left</td>\n      <td>27125</td>\n    </tr>\n    <tr>\n      <th>3</th>\n      <td>chr10</td>\n      <td>123135225</td>\n      <td>123135335</td>\n      <td>chr10_123135275_123135285</td>\n      <td>chr10</td>\n      <td>123135262</td>\n      <td>123135278</td>\n      <td>-</td>\n      <td>-13</td>\n      <td>G</td>\n      <td>8</td>\n      <td>9</td>\n      <td>8</td>\n      <td>9</td>\n      <td>0</td>\n      <td>0</td>\n      <td>4.0</td>\n      <td>GCGGACCAGGCCCTCCC</td>\n      <td>XX|X|XX||X|X||X|X</td>\n      <td>CTGAAAAAGACTCTGCA</td>\n      <td>../art/DetectSeq_JAK2-DddA11_REP-1_T...</td>\n      <td>DetectSeq_JAK2-DddA11_REP-1</td>\n      <td>Left</td>\n      <td>27130</td>\n    </tr>\n    <tr>\n      <th>443</th>\n      <td>chr16</td>\n      <td>89268826</td>\n      <td>89268947</td>\n      <td>chr16_89268876_89268897</td>\n      <td>chr16</td>\n      <td>89268919</td>\n      <td>89268935</td>\n      <td>-</td>\n      <td>43</td>\n      <td>C</td>\n      <td>8</td>\n      <td>9</td>\n      <td>8</td>\n      <td>9</td>\n      <td>0</td>\n      <td>0</td>\n      <td>4.0</td>\n      <td>CAGAGCAGGGCAGGGCC</td>\n      <td>|X||XX|X|X|XXX||X</td>\n      <td>CTGAAAAAGACTCTGCA</td>\n      <td>../art/DetectSeq_JAK2-DddA11_REP-2_T...</td>\n      <td>DetectSeq_JAK2-DddA11_REP-2</td>\n      <td>Left</td>\n      <td>27132</td>\n    </tr>\n  </tbody>\n</table>\n<p>23952 rows × 24 columns</p>\n</div>"
     },
     "execution_count": 94,
     "metadata": {},
     "output_type": "execute_result"
    }
   ],
   "source": [
    "df_arts_rm_ind"
   ],
   "metadata": {
    "collapsed": false,
    "ExecuteTime": {
     "end_time": "2023-08-15T17:31:03.221287Z",
     "start_time": "2023-08-15T17:31:03.179220Z"
    }
   },
   "id": "35b808783bdc5a0d"
  },
  {
   "cell_type": "code",
   "execution_count": 95,
   "outputs": [
    {
     "name": "stdout",
     "output_type": "stream",
     "text": [
      "|    | <sample>                     | TAS-Dep_stat   | align_query_seq   |\n",
      "|---:|:-----------------------------|:---------------|:------------------|\n",
      "|  0 | DetectSeq_ATP8-DddA11_REP-1  | Left           | ATTAAACACAAACTAC  |\n",
      "|  1 | DetectSeq_ATP8-DddA11_REP-1  | Right          | ATGGGCTTTGGT      |\n",
      "|  2 | DetectSeq_ATP8-DddA6_REP-1   | Left           | ATTAAACACAAACTAC  |\n",
      "|  3 | DetectSeq_ATP8-DddA6_REP-1   | Right          | ATGGGCTTTGGT      |\n",
      "|  4 | DetectSeq_ATP8-DddAwt_REP-1  | Left           | ATTAAACACAAACTAC  |\n",
      "|  5 | DetectSeq_ATP8-DddAwt_REP-1  | Right          | ATGGGCTTTGGT      |\n",
      "|  6 | DetectSeq_JAK2-DddA11_REP-1  | Left           | CTGAAAAAGACTCTGCA |\n",
      "|  7 | DetectSeq_JAK2-DddA11_REP-1  | Right          | CCATTTCTGTCATCGTA |\n",
      "|  8 | DetectSeq_JAK2-DddA11_REP-2  | Left           | CTGAAAAAGACTCTGCA |\n",
      "|  9 | DetectSeq_JAK2-DddA11_REP-2  | Right          | CCATTTCTGTCATCGTA |\n",
      "| 10 | DetectSeq_SIRT6-DddA11_REP-1 | Left           | TACGCGGCGGGGCTGTC |\n",
      "| 11 | DetectSeq_SIRT6-DddA11_REP-1 | Right          | CCGGGAGGCCGCACTTG |\n",
      "| 12 | DetectSeq_SIRT6-DddA11_REP-2 | Left           | TACGCGGCGGGGCTGTC |\n",
      "| 13 | DetectSeq_SIRT6-DddA11_REP-2 | Right          | CCGGGAGGCCGCACTTG |\n"
     ]
    }
   ],
   "source": [
    "# test align length?\n",
    "tmpdf = df_arts_rm_ind.query('~`TAS-Dep_stat`.str.contains(\"on-target\")').copy()\n",
    "tmpdf['align_query_seq'] = tmpdf['align_query_seq'].str.replace('-', '')\n",
    "print(tmpdf.groupby(['<sample>', 'TAS-Dep_stat'])['align_query_seq'].unique().str[0].reset_index().to_markdown())"
   ],
   "metadata": {
    "collapsed": false,
    "ExecuteTime": {
     "end_time": "2023-08-15T17:31:03.247359Z",
     "start_time": "2023-08-15T17:31:03.183053Z"
    }
   },
   "id": "658801e675c86e36"
  },
  {
   "cell_type": "markdown",
   "source": [
    "### 硬cutoff卡, 初步确认TAS dep"
   ],
   "metadata": {
    "collapsed": false
   },
   "id": "dd3fc6b46eb23cef"
  },
  {
   "cell_type": "code",
   "execution_count": 96,
   "outputs": [
    {
     "data": {
      "text/plain": "      chrom      start        end               region_index align_chr_name  align_chr_start  align_chr_end  \\\n6994  chr19    4182444    4182569      chr19_4182494_4182519          chr19          4182511        4182527   \n45     chr9    5021948    5022146       chr9_5021998_5022096           chr9          5022005        5022021   \n559    chr9    5021875    5022047       chr9_5021925_5021997           chr9          5022005        5022021   \n6994  chr19    4182444    4182569      chr19_4182494_4182519          chr19          4182476        4182492   \n559    chr9    5021875    5022047       chr9_5021925_5021997           chr9          5021972        5021988   \n...     ...        ...        ...                        ...            ...              ...            ...   \n613    chr5  113531306  113531464   chr5_113531356_113531414           chr5        113531388      113531404   \n111    chr9  125262233  125262356   chr9_125262283_125262306           chr9        125262308      125262323   \n688    chr2  110053150  110053342   chr2_110053200_110053292           chr2        110053260      110053276   \n139    chr2  117786821  117786966   chr2_117786871_117786916           chr2        117786875      117786891   \n478   chr10  127694723  127694849  chr10_127694773_127694799          chr10        127694725      127694739   \n\n     align_strand  align_dist_to_signal align_N0_base  align_total_match  align_total_mismatch  \\\n6994            -                    17             T                 17                     0   \n45              -                     7             C                 17                     0   \n559             -                     8             C                 17                     0   \n6994            +                     2             C                 17                     0   \n559             +                     9             C                 17                     0   \n...           ...                   ...           ...                ...                   ...   \n613             +                   -48             A                 12                     4   \n111             -                     2             C                 12                     4   \n688             -                   -32             A                 12                     4   \n139             +                    25             A                 12                     4   \n478             -                   -48             T                 11                     4   \n\n      align_degen_total_match  align_degen_total_mismatch  align_degen_num  align_total_gap  align_score  \\\n6994                       17                           0                0                0         95.0   \n45                         17                           0                0                0         85.0   \n559                        17                           0                0                0         85.0   \n6994                       17                           0                0                0         85.0   \n559                        17                           0                0                0         85.0   \n...                       ...                         ...              ...              ...          ...   \n613                        12                           4                0                1         20.0   \n111                        12                           4                0                1         20.0   \n688                        12                           4                0                1         20.0   \n139                        12                           4                0                1         20.0   \n478                        11                           4                0                2         17.0   \n\n       align_target_seq   align_info_state    align_query_seq                                file_info  \\\n6994  TACGCGGCGGGGCTGTC  |||||||||||||||||  TACGCGGCGGGGCTGTC  ../art/DetectSeq_SIRT6-DddA11_REP-2_...   \n45    CCATTTCTGTCATCGTA  |||||||||||||||||  CCATTTCTGTCATCGTA  ../art/DetectSeq_JAK2-DddA11_REP-1_T...   \n559   CCATTTCTGTCATCGTA  |||||||||||||||||  CCATTTCTGTCATCGTA  ../art/DetectSeq_JAK2-DddA11_REP-2_T...   \n6994  CCGGGAGGCCGCACTTG  |||||||||||||||||  CCGGGAGGCCGCACTTG  ../art/DetectSeq_SIRT6-DddA11_REP-2_...   \n559   CTGAAAAAGACTCTGCA  |||||||||||||||||  CTGAAAAAGACTCTGCA  ../art/DetectSeq_JAK2-DddA11_REP-2_T...   \n...                 ...                ...                ...                                      ...   \n613   ATTAAATGACAAAGGTC  ||||||-X|||||XXX|  ATTAAA-CACAAACTAC  ../art/DetectSeq_ATP8-DddA6_REP-1_TA...   \n111   CCATTTC-GTTCTCGCC  |||||||-||XX|||XX  CCATTTCTGTCATCGTA  ../art/DetectSeq_JAK2-DddA11_REP-2_T...   \n688   ATAATAACAGACACTTC  ||X|-||||X|X|||X|  ATTA-AACACAAACTAC  ../art/DetectSeq_ATP8-DddA6_REP-1_TA...   \n139   ATTACAATTCAGATTAC  ||||-||XX||X|X|||  ATTA-AACACAAACTAC  ../art/DetectSeq_ATP8-DddA11_REP-1_T...   \n478   TGCTTTCTGT--TCCTA  XXX|||||||--||X||  CCATTTCTGTCATCGTA  ../art/DetectSeq_JAK2-DddA11_REP-2_T...   \n\n                          <sample>      TAS-Dep_stat     id  \n6994  DetectSeq_SIRT6-DddA11_REP-2  on-target: SIRT6      0  \n45     DetectSeq_JAK2-DddA11_REP-1   on-target: JAK2      2  \n559    DetectSeq_JAK2-DddA11_REP-2             Right      3  \n6994  DetectSeq_SIRT6-DddA11_REP-2  on-target: SIRT6      4  \n559    DetectSeq_JAK2-DddA11_REP-2              Left      5  \n...                            ...               ...    ...  \n613     DetectSeq_ATP8-DddA6_REP-1              Left  26331  \n111    DetectSeq_JAK2-DddA11_REP-2             Right  26386  \n688     DetectSeq_ATP8-DddA6_REP-1              Left  26388  \n139    DetectSeq_ATP8-DddA11_REP-1              Left  26430  \n478    DetectSeq_JAK2-DddA11_REP-2             Right  26818  \n\n[1061 rows x 24 columns]",
      "text/html": "<div>\n<style scoped>\n    .dataframe tbody tr th:only-of-type {\n        vertical-align: middle;\n    }\n\n    .dataframe tbody tr th {\n        vertical-align: top;\n    }\n\n    .dataframe thead th {\n        text-align: right;\n    }\n</style>\n<table border=\"1\" class=\"dataframe\">\n  <thead>\n    <tr style=\"text-align: right;\">\n      <th></th>\n      <th>chrom</th>\n      <th>start</th>\n      <th>end</th>\n      <th>region_index</th>\n      <th>align_chr_name</th>\n      <th>align_chr_start</th>\n      <th>align_chr_end</th>\n      <th>align_strand</th>\n      <th>align_dist_to_signal</th>\n      <th>align_N0_base</th>\n      <th>align_total_match</th>\n      <th>align_total_mismatch</th>\n      <th>align_degen_total_match</th>\n      <th>align_degen_total_mismatch</th>\n      <th>align_degen_num</th>\n      <th>align_total_gap</th>\n      <th>align_score</th>\n      <th>align_target_seq</th>\n      <th>align_info_state</th>\n      <th>align_query_seq</th>\n      <th>file_info</th>\n      <th>&lt;sample&gt;</th>\n      <th>TAS-Dep_stat</th>\n      <th>id</th>\n    </tr>\n  </thead>\n  <tbody>\n    <tr>\n      <th>6994</th>\n      <td>chr19</td>\n      <td>4182444</td>\n      <td>4182569</td>\n      <td>chr19_4182494_4182519</td>\n      <td>chr19</td>\n      <td>4182511</td>\n      <td>4182527</td>\n      <td>-</td>\n      <td>17</td>\n      <td>T</td>\n      <td>17</td>\n      <td>0</td>\n      <td>17</td>\n      <td>0</td>\n      <td>0</td>\n      <td>0</td>\n      <td>95.0</td>\n      <td>TACGCGGCGGGGCTGTC</td>\n      <td>|||||||||||||||||</td>\n      <td>TACGCGGCGGGGCTGTC</td>\n      <td>../art/DetectSeq_SIRT6-DddA11_REP-2_...</td>\n      <td>DetectSeq_SIRT6-DddA11_REP-2</td>\n      <td>on-target: SIRT6</td>\n      <td>0</td>\n    </tr>\n    <tr>\n      <th>45</th>\n      <td>chr9</td>\n      <td>5021948</td>\n      <td>5022146</td>\n      <td>chr9_5021998_5022096</td>\n      <td>chr9</td>\n      <td>5022005</td>\n      <td>5022021</td>\n      <td>-</td>\n      <td>7</td>\n      <td>C</td>\n      <td>17</td>\n      <td>0</td>\n      <td>17</td>\n      <td>0</td>\n      <td>0</td>\n      <td>0</td>\n      <td>85.0</td>\n      <td>CCATTTCTGTCATCGTA</td>\n      <td>|||||||||||||||||</td>\n      <td>CCATTTCTGTCATCGTA</td>\n      <td>../art/DetectSeq_JAK2-DddA11_REP-1_T...</td>\n      <td>DetectSeq_JAK2-DddA11_REP-1</td>\n      <td>on-target: JAK2</td>\n      <td>2</td>\n    </tr>\n    <tr>\n      <th>559</th>\n      <td>chr9</td>\n      <td>5021875</td>\n      <td>5022047</td>\n      <td>chr9_5021925_5021997</td>\n      <td>chr9</td>\n      <td>5022005</td>\n      <td>5022021</td>\n      <td>-</td>\n      <td>8</td>\n      <td>C</td>\n      <td>17</td>\n      <td>0</td>\n      <td>17</td>\n      <td>0</td>\n      <td>0</td>\n      <td>0</td>\n      <td>85.0</td>\n      <td>CCATTTCTGTCATCGTA</td>\n      <td>|||||||||||||||||</td>\n      <td>CCATTTCTGTCATCGTA</td>\n      <td>../art/DetectSeq_JAK2-DddA11_REP-2_T...</td>\n      <td>DetectSeq_JAK2-DddA11_REP-2</td>\n      <td>Right</td>\n      <td>3</td>\n    </tr>\n    <tr>\n      <th>6994</th>\n      <td>chr19</td>\n      <td>4182444</td>\n      <td>4182569</td>\n      <td>chr19_4182494_4182519</td>\n      <td>chr19</td>\n      <td>4182476</td>\n      <td>4182492</td>\n      <td>+</td>\n      <td>2</td>\n      <td>C</td>\n      <td>17</td>\n      <td>0</td>\n      <td>17</td>\n      <td>0</td>\n      <td>0</td>\n      <td>0</td>\n      <td>85.0</td>\n      <td>CCGGGAGGCCGCACTTG</td>\n      <td>|||||||||||||||||</td>\n      <td>CCGGGAGGCCGCACTTG</td>\n      <td>../art/DetectSeq_SIRT6-DddA11_REP-2_...</td>\n      <td>DetectSeq_SIRT6-DddA11_REP-2</td>\n      <td>on-target: SIRT6</td>\n      <td>4</td>\n    </tr>\n    <tr>\n      <th>559</th>\n      <td>chr9</td>\n      <td>5021875</td>\n      <td>5022047</td>\n      <td>chr9_5021925_5021997</td>\n      <td>chr9</td>\n      <td>5021972</td>\n      <td>5021988</td>\n      <td>+</td>\n      <td>9</td>\n      <td>C</td>\n      <td>17</td>\n      <td>0</td>\n      <td>17</td>\n      <td>0</td>\n      <td>0</td>\n      <td>0</td>\n      <td>85.0</td>\n      <td>CTGAAAAAGACTCTGCA</td>\n      <td>|||||||||||||||||</td>\n      <td>CTGAAAAAGACTCTGCA</td>\n      <td>../art/DetectSeq_JAK2-DddA11_REP-2_T...</td>\n      <td>DetectSeq_JAK2-DddA11_REP-2</td>\n      <td>Left</td>\n      <td>5</td>\n    </tr>\n    <tr>\n      <th>...</th>\n      <td>...</td>\n      <td>...</td>\n      <td>...</td>\n      <td>...</td>\n      <td>...</td>\n      <td>...</td>\n      <td>...</td>\n      <td>...</td>\n      <td>...</td>\n      <td>...</td>\n      <td>...</td>\n      <td>...</td>\n      <td>...</td>\n      <td>...</td>\n      <td>...</td>\n      <td>...</td>\n      <td>...</td>\n      <td>...</td>\n      <td>...</td>\n      <td>...</td>\n      <td>...</td>\n      <td>...</td>\n      <td>...</td>\n      <td>...</td>\n    </tr>\n    <tr>\n      <th>613</th>\n      <td>chr5</td>\n      <td>113531306</td>\n      <td>113531464</td>\n      <td>chr5_113531356_113531414</td>\n      <td>chr5</td>\n      <td>113531388</td>\n      <td>113531404</td>\n      <td>+</td>\n      <td>-48</td>\n      <td>A</td>\n      <td>12</td>\n      <td>4</td>\n      <td>12</td>\n      <td>4</td>\n      <td>0</td>\n      <td>1</td>\n      <td>20.0</td>\n      <td>ATTAAATGACAAAGGTC</td>\n      <td>||||||-X|||||XXX|</td>\n      <td>ATTAAA-CACAAACTAC</td>\n      <td>../art/DetectSeq_ATP8-DddA6_REP-1_TA...</td>\n      <td>DetectSeq_ATP8-DddA6_REP-1</td>\n      <td>Left</td>\n      <td>26331</td>\n    </tr>\n    <tr>\n      <th>111</th>\n      <td>chr9</td>\n      <td>125262233</td>\n      <td>125262356</td>\n      <td>chr9_125262283_125262306</td>\n      <td>chr9</td>\n      <td>125262308</td>\n      <td>125262323</td>\n      <td>-</td>\n      <td>2</td>\n      <td>C</td>\n      <td>12</td>\n      <td>4</td>\n      <td>12</td>\n      <td>4</td>\n      <td>0</td>\n      <td>1</td>\n      <td>20.0</td>\n      <td>CCATTTC-GTTCTCGCC</td>\n      <td>|||||||-||XX|||XX</td>\n      <td>CCATTTCTGTCATCGTA</td>\n      <td>../art/DetectSeq_JAK2-DddA11_REP-2_T...</td>\n      <td>DetectSeq_JAK2-DddA11_REP-2</td>\n      <td>Right</td>\n      <td>26386</td>\n    </tr>\n    <tr>\n      <th>688</th>\n      <td>chr2</td>\n      <td>110053150</td>\n      <td>110053342</td>\n      <td>chr2_110053200_110053292</td>\n      <td>chr2</td>\n      <td>110053260</td>\n      <td>110053276</td>\n      <td>-</td>\n      <td>-32</td>\n      <td>A</td>\n      <td>12</td>\n      <td>4</td>\n      <td>12</td>\n      <td>4</td>\n      <td>0</td>\n      <td>1</td>\n      <td>20.0</td>\n      <td>ATAATAACAGACACTTC</td>\n      <td>||X|-||||X|X|||X|</td>\n      <td>ATTA-AACACAAACTAC</td>\n      <td>../art/DetectSeq_ATP8-DddA6_REP-1_TA...</td>\n      <td>DetectSeq_ATP8-DddA6_REP-1</td>\n      <td>Left</td>\n      <td>26388</td>\n    </tr>\n    <tr>\n      <th>139</th>\n      <td>chr2</td>\n      <td>117786821</td>\n      <td>117786966</td>\n      <td>chr2_117786871_117786916</td>\n      <td>chr2</td>\n      <td>117786875</td>\n      <td>117786891</td>\n      <td>+</td>\n      <td>25</td>\n      <td>A</td>\n      <td>12</td>\n      <td>4</td>\n      <td>12</td>\n      <td>4</td>\n      <td>0</td>\n      <td>1</td>\n      <td>20.0</td>\n      <td>ATTACAATTCAGATTAC</td>\n      <td>||||-||XX||X|X|||</td>\n      <td>ATTA-AACACAAACTAC</td>\n      <td>../art/DetectSeq_ATP8-DddA11_REP-1_T...</td>\n      <td>DetectSeq_ATP8-DddA11_REP-1</td>\n      <td>Left</td>\n      <td>26430</td>\n    </tr>\n    <tr>\n      <th>478</th>\n      <td>chr10</td>\n      <td>127694723</td>\n      <td>127694849</td>\n      <td>chr10_127694773_127694799</td>\n      <td>chr10</td>\n      <td>127694725</td>\n      <td>127694739</td>\n      <td>-</td>\n      <td>-48</td>\n      <td>T</td>\n      <td>11</td>\n      <td>4</td>\n      <td>11</td>\n      <td>4</td>\n      <td>0</td>\n      <td>2</td>\n      <td>17.0</td>\n      <td>TGCTTTCTGT--TCCTA</td>\n      <td>XXX|||||||--||X||</td>\n      <td>CCATTTCTGTCATCGTA</td>\n      <td>../art/DetectSeq_JAK2-DddA11_REP-2_T...</td>\n      <td>DetectSeq_JAK2-DddA11_REP-2</td>\n      <td>Right</td>\n      <td>26818</td>\n    </tr>\n  </tbody>\n</table>\n<p>1061 rows × 24 columns</p>\n</div>"
     },
     "execution_count": 96,
     "metadata": {},
     "output_type": "execute_result"
    }
   ],
   "source": [
    "df_arts_tas_dep = (\n",
    "    df_arts_rm_ind.sort_values(by=['align_total_mismatch', 'align_degen_total_mismatch', 'align_total_gap'])\n",
    "    .query('align_total_mismatch<=4')\n",
    "    .query('align_degen_total_mismatch<=4')\n",
    "    .query('align_total_gap<=2')\n",
    ").copy()\n",
    "df_arts_tas_dep"
   ],
   "metadata": {
    "collapsed": false,
    "ExecuteTime": {
     "end_time": "2023-08-15T17:31:03.263537Z",
     "start_time": "2023-08-15T17:31:03.218427Z"
    }
   },
   "id": "c888e4e688e28e1d"
  },
  {
   "cell_type": "code",
   "execution_count": 97,
   "outputs": [
    {
     "name": "stdout",
     "output_type": "stream",
     "text": [
      "DetectSeq_ATP8-DddA11_REP-1\n",
      "True\n",
      "DetectSeq_ATP8-DddA6_REP-1\n",
      "True\n",
      "DetectSeq_ATP8-DddAwt_REP-1\n",
      "False\n",
      "DetectSeq_JAK2-DddA11_REP-1\n",
      "True\n",
      "DetectSeq_JAK2-DddA11_REP-2\n",
      "True\n",
      "DetectSeq_SIRT6-DddA11_REP-1\n",
      "False\n",
      "DetectSeq_SIRT6-DddA11_REP-2\n",
      "True\n"
     ]
    },
    {
     "data": {
      "text/plain": "      chrom      start        end               region_index align_chr_name  align_chr_start  align_chr_end  \\\n209   chr10  123171455  123171602  chr10_123171505_123171552          chr10        123171536      123171547   \n149    chr9  109215639  109215812   chr9_109215689_109215762           chr9        109215772      109215783   \n108    chr3   37937199   37937325     chr3_37937249_37937275           chr3         37937253       37937264   \n157    chr1  170722730  170722881   chr1_170722780_170722831           chr1        170722814      170722825   \n30    chr11   15381350   15381505    chr11_15381400_15381455          chr11         15381405       15381416   \n...     ...        ...        ...                        ...            ...              ...            ...   \n6439   chr8   19314411   19314523     chr8_19314461_19314473           chr8         19314447       19314463   \n1765   chr6    6004554    6004714       chr6_6004604_6004664           chr6          6004663        6004679   \n6789  chr17   82875381   82875521    chr17_82875431_82875471          chr17         82875434       82875451   \n2173  chr17   62656947   62657070    chr17_62656997_62657020          chr17         62656948       62656965   \n7805  chr11  132633389  132633549  chr11_132633439_132633499          chr11        132633486      132633501   \n\n     align_strand  align_dist_to_signal align_N0_base  align_total_match  align_total_mismatch  \\\n209             +                     5             A                 12                     0   \n149             -                    10             A                 11                     1   \n108             -                     4             A                 11                     1   \n157             +                     6             A                 11                     1   \n30              -                     5             A                 11                     1   \n...           ...                   ...           ...                ...                   ...   \n6439            +                    10             G                 13                     4   \n1765            +                   -75             C                 13                     4   \n6789            +                   -20             T                 13                     4   \n2173            -                   -49             T                 13                     4   \n7805            -                    47             T                 12                     4   \n\n      align_degen_total_match  align_degen_total_mismatch  align_degen_num  align_total_gap  align_score  \\\n209                        12                           0                0                0         60.0   \n149                        12                           0                1                0         58.0   \n108                        12                           0                1                0         58.0   \n157                        12                           0                1                0         58.0   \n30                         11                           1                0                0         51.0   \n...                       ...                         ...              ...              ...          ...   \n6439                       13                           4                0                0         49.0   \n1765                       13                           4                0                0         49.0   \n6789                       13                           4                0                1         35.0   \n2173                       13                           4                0                1         35.0   \n7805                       12                           4                0                1         30.0   \n\n        align_target_seq    align_info_state     align_query_seq                                file_info  \\\n209         ATGGGCTTTGGT        ||||||||||||        ATGGGCTTTGGT  ../art/DetectSeq_ATP8-DddA11_REP-1_T...   \n149         ATGGGCTTTGAT        ||||||||||.|        ATGGGCTTTGGT  ../art/DetectSeq_ATP8-DddA11_REP-1_T...   \n108         ATGAGCTTTGGT        |||.||||||||        ATGGGCTTTGGT  ../art/DetectSeq_ATP8-DddA11_REP-1_T...   \n157         ATGGGCTTTGAT        ||||||||||.|        ATGGGCTTTGGT  ../art/DetectSeq_ATP8-DddA11_REP-1_T...   \n30          ATGGGCTTTGGA        |||||||||||X        ATGGGCTTTGGT  ../art/DetectSeq_ATP8-DddA11_REP-1_T...   \n...                  ...                 ...                 ...                                      ...   \n6439   GCAGCGGCGGGGCTGGC   XXX||||||||||||X|   TACGCGGCGGGGCTGTC  ../art/DetectSeq_SIRT6-DddA11_REP-2_...   \n1765   CCGGGAGGCTGCGCGCG   |||||||||X||X|XX|   CCGGGAGGCCGCACTTG  ../art/DetectSeq_SIRT6-DddA11_REP-2_...   \n6789  TACGCTGCTGCTGCTGCC  |||||X||-|XX||||X|  TACGCGGC-GGGGCTGTC  ../art/DetectSeq_SIRT6-DddA11_REP-2_...   \n2173  TGCTAGGCTGGGGCTGCC  |X|XX|||-|||||||X|  TACGCGGC-GGGGCTGTC  ../art/DetectSeq_SIRT6-DddA11_REP-2_...   \n7805   TTGGGATGCC-CATTTG   XX||||X|||-||X|||   CCGGGAGGCCGCACTTG  ../art/DetectSeq_SIRT6-DddA11_REP-2_...   \n\n                          <sample> TAS-Dep_stat     id  \n209    DetectSeq_ATP8-DddA11_REP-1        Right   1159  \n149    DetectSeq_ATP8-DddA11_REP-1        Right   1375  \n108    DetectSeq_ATP8-DddA11_REP-1        Right   1456  \n157    DetectSeq_ATP8-DddA11_REP-1        Right   1466  \n30     DetectSeq_ATP8-DddA11_REP-1        Right   3526  \n...                            ...          ...    ...  \n6439  DetectSeq_SIRT6-DddA11_REP-2         Left   4778  \n1765  DetectSeq_SIRT6-DddA11_REP-2        Right   4852  \n6789  DetectSeq_SIRT6-DddA11_REP-2         Left  15133  \n2173  DetectSeq_SIRT6-DddA11_REP-2         Left  15936  \n7805  DetectSeq_SIRT6-DddA11_REP-2        Right  20430  \n\n[1061 rows x 24 columns]",
      "text/html": "<div>\n<style scoped>\n    .dataframe tbody tr th:only-of-type {\n        vertical-align: middle;\n    }\n\n    .dataframe tbody tr th {\n        vertical-align: top;\n    }\n\n    .dataframe thead th {\n        text-align: right;\n    }\n</style>\n<table border=\"1\" class=\"dataframe\">\n  <thead>\n    <tr style=\"text-align: right;\">\n      <th></th>\n      <th>chrom</th>\n      <th>start</th>\n      <th>end</th>\n      <th>region_index</th>\n      <th>align_chr_name</th>\n      <th>align_chr_start</th>\n      <th>align_chr_end</th>\n      <th>align_strand</th>\n      <th>align_dist_to_signal</th>\n      <th>align_N0_base</th>\n      <th>align_total_match</th>\n      <th>align_total_mismatch</th>\n      <th>align_degen_total_match</th>\n      <th>align_degen_total_mismatch</th>\n      <th>align_degen_num</th>\n      <th>align_total_gap</th>\n      <th>align_score</th>\n      <th>align_target_seq</th>\n      <th>align_info_state</th>\n      <th>align_query_seq</th>\n      <th>file_info</th>\n      <th>&lt;sample&gt;</th>\n      <th>TAS-Dep_stat</th>\n      <th>id</th>\n    </tr>\n  </thead>\n  <tbody>\n    <tr>\n      <th>209</th>\n      <td>chr10</td>\n      <td>123171455</td>\n      <td>123171602</td>\n      <td>chr10_123171505_123171552</td>\n      <td>chr10</td>\n      <td>123171536</td>\n      <td>123171547</td>\n      <td>+</td>\n      <td>5</td>\n      <td>A</td>\n      <td>12</td>\n      <td>0</td>\n      <td>12</td>\n      <td>0</td>\n      <td>0</td>\n      <td>0</td>\n      <td>60.0</td>\n      <td>ATGGGCTTTGGT</td>\n      <td>||||||||||||</td>\n      <td>ATGGGCTTTGGT</td>\n      <td>../art/DetectSeq_ATP8-DddA11_REP-1_T...</td>\n      <td>DetectSeq_ATP8-DddA11_REP-1</td>\n      <td>Right</td>\n      <td>1159</td>\n    </tr>\n    <tr>\n      <th>149</th>\n      <td>chr9</td>\n      <td>109215639</td>\n      <td>109215812</td>\n      <td>chr9_109215689_109215762</td>\n      <td>chr9</td>\n      <td>109215772</td>\n      <td>109215783</td>\n      <td>-</td>\n      <td>10</td>\n      <td>A</td>\n      <td>11</td>\n      <td>1</td>\n      <td>12</td>\n      <td>0</td>\n      <td>1</td>\n      <td>0</td>\n      <td>58.0</td>\n      <td>ATGGGCTTTGAT</td>\n      <td>||||||||||.|</td>\n      <td>ATGGGCTTTGGT</td>\n      <td>../art/DetectSeq_ATP8-DddA11_REP-1_T...</td>\n      <td>DetectSeq_ATP8-DddA11_REP-1</td>\n      <td>Right</td>\n      <td>1375</td>\n    </tr>\n    <tr>\n      <th>108</th>\n      <td>chr3</td>\n      <td>37937199</td>\n      <td>37937325</td>\n      <td>chr3_37937249_37937275</td>\n      <td>chr3</td>\n      <td>37937253</td>\n      <td>37937264</td>\n      <td>-</td>\n      <td>4</td>\n      <td>A</td>\n      <td>11</td>\n      <td>1</td>\n      <td>12</td>\n      <td>0</td>\n      <td>1</td>\n      <td>0</td>\n      <td>58.0</td>\n      <td>ATGAGCTTTGGT</td>\n      <td>|||.||||||||</td>\n      <td>ATGGGCTTTGGT</td>\n      <td>../art/DetectSeq_ATP8-DddA11_REP-1_T...</td>\n      <td>DetectSeq_ATP8-DddA11_REP-1</td>\n      <td>Right</td>\n      <td>1456</td>\n    </tr>\n    <tr>\n      <th>157</th>\n      <td>chr1</td>\n      <td>170722730</td>\n      <td>170722881</td>\n      <td>chr1_170722780_170722831</td>\n      <td>chr1</td>\n      <td>170722814</td>\n      <td>170722825</td>\n      <td>+</td>\n      <td>6</td>\n      <td>A</td>\n      <td>11</td>\n      <td>1</td>\n      <td>12</td>\n      <td>0</td>\n      <td>1</td>\n      <td>0</td>\n      <td>58.0</td>\n      <td>ATGGGCTTTGAT</td>\n      <td>||||||||||.|</td>\n      <td>ATGGGCTTTGGT</td>\n      <td>../art/DetectSeq_ATP8-DddA11_REP-1_T...</td>\n      <td>DetectSeq_ATP8-DddA11_REP-1</td>\n      <td>Right</td>\n      <td>1466</td>\n    </tr>\n    <tr>\n      <th>30</th>\n      <td>chr11</td>\n      <td>15381350</td>\n      <td>15381505</td>\n      <td>chr11_15381400_15381455</td>\n      <td>chr11</td>\n      <td>15381405</td>\n      <td>15381416</td>\n      <td>-</td>\n      <td>5</td>\n      <td>A</td>\n      <td>11</td>\n      <td>1</td>\n      <td>11</td>\n      <td>1</td>\n      <td>0</td>\n      <td>0</td>\n      <td>51.0</td>\n      <td>ATGGGCTTTGGA</td>\n      <td>|||||||||||X</td>\n      <td>ATGGGCTTTGGT</td>\n      <td>../art/DetectSeq_ATP8-DddA11_REP-1_T...</td>\n      <td>DetectSeq_ATP8-DddA11_REP-1</td>\n      <td>Right</td>\n      <td>3526</td>\n    </tr>\n    <tr>\n      <th>...</th>\n      <td>...</td>\n      <td>...</td>\n      <td>...</td>\n      <td>...</td>\n      <td>...</td>\n      <td>...</td>\n      <td>...</td>\n      <td>...</td>\n      <td>...</td>\n      <td>...</td>\n      <td>...</td>\n      <td>...</td>\n      <td>...</td>\n      <td>...</td>\n      <td>...</td>\n      <td>...</td>\n      <td>...</td>\n      <td>...</td>\n      <td>...</td>\n      <td>...</td>\n      <td>...</td>\n      <td>...</td>\n      <td>...</td>\n      <td>...</td>\n    </tr>\n    <tr>\n      <th>6439</th>\n      <td>chr8</td>\n      <td>19314411</td>\n      <td>19314523</td>\n      <td>chr8_19314461_19314473</td>\n      <td>chr8</td>\n      <td>19314447</td>\n      <td>19314463</td>\n      <td>+</td>\n      <td>10</td>\n      <td>G</td>\n      <td>13</td>\n      <td>4</td>\n      <td>13</td>\n      <td>4</td>\n      <td>0</td>\n      <td>0</td>\n      <td>49.0</td>\n      <td>GCAGCGGCGGGGCTGGC</td>\n      <td>XXX||||||||||||X|</td>\n      <td>TACGCGGCGGGGCTGTC</td>\n      <td>../art/DetectSeq_SIRT6-DddA11_REP-2_...</td>\n      <td>DetectSeq_SIRT6-DddA11_REP-2</td>\n      <td>Left</td>\n      <td>4778</td>\n    </tr>\n    <tr>\n      <th>1765</th>\n      <td>chr6</td>\n      <td>6004554</td>\n      <td>6004714</td>\n      <td>chr6_6004604_6004664</td>\n      <td>chr6</td>\n      <td>6004663</td>\n      <td>6004679</td>\n      <td>+</td>\n      <td>-75</td>\n      <td>C</td>\n      <td>13</td>\n      <td>4</td>\n      <td>13</td>\n      <td>4</td>\n      <td>0</td>\n      <td>0</td>\n      <td>49.0</td>\n      <td>CCGGGAGGCTGCGCGCG</td>\n      <td>|||||||||X||X|XX|</td>\n      <td>CCGGGAGGCCGCACTTG</td>\n      <td>../art/DetectSeq_SIRT6-DddA11_REP-2_...</td>\n      <td>DetectSeq_SIRT6-DddA11_REP-2</td>\n      <td>Right</td>\n      <td>4852</td>\n    </tr>\n    <tr>\n      <th>6789</th>\n      <td>chr17</td>\n      <td>82875381</td>\n      <td>82875521</td>\n      <td>chr17_82875431_82875471</td>\n      <td>chr17</td>\n      <td>82875434</td>\n      <td>82875451</td>\n      <td>+</td>\n      <td>-20</td>\n      <td>T</td>\n      <td>13</td>\n      <td>4</td>\n      <td>13</td>\n      <td>4</td>\n      <td>0</td>\n      <td>1</td>\n      <td>35.0</td>\n      <td>TACGCTGCTGCTGCTGCC</td>\n      <td>|||||X||-|XX||||X|</td>\n      <td>TACGCGGC-GGGGCTGTC</td>\n      <td>../art/DetectSeq_SIRT6-DddA11_REP-2_...</td>\n      <td>DetectSeq_SIRT6-DddA11_REP-2</td>\n      <td>Left</td>\n      <td>15133</td>\n    </tr>\n    <tr>\n      <th>2173</th>\n      <td>chr17</td>\n      <td>62656947</td>\n      <td>62657070</td>\n      <td>chr17_62656997_62657020</td>\n      <td>chr17</td>\n      <td>62656948</td>\n      <td>62656965</td>\n      <td>-</td>\n      <td>-49</td>\n      <td>T</td>\n      <td>13</td>\n      <td>4</td>\n      <td>13</td>\n      <td>4</td>\n      <td>0</td>\n      <td>1</td>\n      <td>35.0</td>\n      <td>TGCTAGGCTGGGGCTGCC</td>\n      <td>|X|XX|||-|||||||X|</td>\n      <td>TACGCGGC-GGGGCTGTC</td>\n      <td>../art/DetectSeq_SIRT6-DddA11_REP-2_...</td>\n      <td>DetectSeq_SIRT6-DddA11_REP-2</td>\n      <td>Left</td>\n      <td>15936</td>\n    </tr>\n    <tr>\n      <th>7805</th>\n      <td>chr11</td>\n      <td>132633389</td>\n      <td>132633549</td>\n      <td>chr11_132633439_132633499</td>\n      <td>chr11</td>\n      <td>132633486</td>\n      <td>132633501</td>\n      <td>-</td>\n      <td>47</td>\n      <td>T</td>\n      <td>12</td>\n      <td>4</td>\n      <td>12</td>\n      <td>4</td>\n      <td>0</td>\n      <td>1</td>\n      <td>30.0</td>\n      <td>TTGGGATGCC-CATTTG</td>\n      <td>XX||||X|||-||X|||</td>\n      <td>CCGGGAGGCCGCACTTG</td>\n      <td>../art/DetectSeq_SIRT6-DddA11_REP-2_...</td>\n      <td>DetectSeq_SIRT6-DddA11_REP-2</td>\n      <td>Right</td>\n      <td>20430</td>\n    </tr>\n  </tbody>\n</table>\n<p>1061 rows × 24 columns</p>\n</div>"
     },
     "execution_count": 97,
     "metadata": {},
     "output_type": "execute_result"
    }
   ],
   "source": [
    "# Fix TAS-Dep两边的！\n",
    "ls_df_arts_tas_dep_fix = []\n",
    "\n",
    "for sample, _df in df_arts_tas_dep.groupby('<sample>'):\n",
    "    print(sample)\n",
    "    print(_df.region_index.duplicated().any())\n",
    "    # True代表既是左边依赖又是右边依赖 ！！！！！！！ # 在不做实验的情况下\n",
    "    # DetectSeq_ATP8-DddA11_REP-1\n",
    "    # True\n",
    "    # DetectSeq_ATP8-DddA6_REP-1\n",
    "    # True\n",
    "    # DetectSeq_ATP8-DddAwt_REP-1\n",
    "    # False\n",
    "    # DetectSeq_JAK2-DddA11_REP-1\n",
    "    # True\n",
    "    # DetectSeq_JAK2-DddA11_REP-2\n",
    "    # True\n",
    "    # DetectSeq_SIRT6-DddA11_REP-1\n",
    "    # False\n",
    "    # DetectSeq_SIRT6-DddA11_REP-2\n",
    "    # True\n",
    "    ls_dup_index = _df[_df.region_index.duplicated()].query(\n",
    "        '~`TAS-Dep_stat`.str.contains(\"on-target\")').region_index.tolist()\n",
    "    _df.loc[_df.region_index.map(lambda x: x in ls_dup_index), 'TAS-Dep_stat'] = 'Both'\n",
    "    ls_df_arts_tas_dep_fix.append(_df)\n",
    "df_arts_tas_dep_fix = pd.concat(ls_df_arts_tas_dep_fix)\n",
    "df_arts_tas_dep_fix"
   ],
   "metadata": {
    "collapsed": false,
    "ExecuteTime": {
     "end_time": "2023-08-15T17:31:03.319972Z",
     "start_time": "2023-08-15T17:31:03.241955Z"
    }
   },
   "id": "2e4f283e2fcd04e2"
  },
  {
   "cell_type": "code",
   "execution_count": 98,
   "outputs": [
    {
     "name": "stdout",
     "output_type": "stream",
     "text": [
      "查看是否有duplication tas_dep_stat = Both 5\n",
      "查看是否有duplication tas_dep_stat = Left 0\n",
      "查看是否有duplication tas_dep_stat = Right 0\n",
      "查看是否有duplication tas_dep_stat = Both 19\n",
      "查看是否有duplication tas_dep_stat = Left 0\n",
      "查看是否有duplication tas_dep_stat = Right 0\n",
      "查看是否有duplication tas_dep_stat = Left 0\n",
      "查看是否有duplication tas_dep_stat = Right 0\n",
      "查看是否有duplication tas_dep_stat = Both 1\n",
      "查看是否有duplication tas_dep_stat = Left 0\n",
      "查看是否有duplication tas_dep_stat = Right 0\n",
      "查看是否有duplication tas_dep_stat = Both 9\n",
      "查看是否有duplication tas_dep_stat = Left 0\n",
      "查看是否有duplication tas_dep_stat = Right 0\n",
      "查看是否有duplication tas_dep_stat = Left 0\n",
      "查看是否有duplication tas_dep_stat = Right 0\n",
      "查看是否有duplication tas_dep_stat = Both 4\n",
      "查看是否有duplication tas_dep_stat = Left 0\n",
      "查看是否有duplication tas_dep_stat = Right 0\n"
     ]
    }
   ],
   "source": [
    "# TAS-dep\n",
    "for sample, df in df_arts_tas_dep_fix.query('~`TAS-Dep_stat`.str.contains(\"on-target\")').groupby(\n",
    "        ['<sample>', 'TAS-Dep_stat']):\n",
    "    sample, tas_dep_stat = sample\n",
    "    print('查看是否有duplication', 'tas_dep_stat =', tas_dep_stat, df.duplicated(subset='region_index').sum())\n",
    "# 查看是否有duplication tas_dep_stat = Both 5\n",
    "# 查看是否有duplication tas_dep_stat = Left 0\n",
    "# 查看是否有duplication tas_dep_stat = Right 0\n",
    "# 查看是否有duplication tas_dep_stat = Both 19\n",
    "# 查看是否有duplication tas_dep_stat = Left 0\n",
    "# 查看是否有duplication tas_dep_stat = Right 0\n",
    "# 查看是否有duplication tas_dep_stat = Left 0\n",
    "# 查看是否有duplication tas_dep_stat = Right 0\n",
    "# 查看是否有duplication tas_dep_stat = Both 1\n",
    "# 查看是否有duplication tas_dep_stat = Left 0\n",
    "# 查看是否有duplication tas_dep_stat = Right 0\n",
    "# 查看是否有duplication tas_dep_stat = Both 9\n",
    "# 查看是否有duplication tas_dep_stat = Left 0\n",
    "# 查看是否有duplication tas_dep_stat = Right 0\n",
    "# 查看是否有duplication tas_dep_stat = Left 0\n",
    "# 查看是否有duplication tas_dep_stat = Right 0\n",
    "# 查看是否有duplication tas_dep_stat = Both 4\n",
    "# 查看是否有duplication tas_dep_stat = Left 0\n",
    "# 查看是否有duplication tas_dep_stat = Right 0"
   ],
   "metadata": {
    "collapsed": false,
    "ExecuteTime": {
     "end_time": "2023-08-15T17:31:03.323449Z",
     "start_time": "2023-08-15T17:31:03.269734Z"
    }
   },
   "id": "885cc972a8fc9d05"
  },
  {
   "cell_type": "code",
   "execution_count": 99,
   "outputs": [
    {
     "name": "stdout",
     "output_type": "stream",
     "text": [
      "查看是否有duplication tas_dep_stat = Both 0\n",
      "查看是否有duplication tas_dep_stat = Left 0\n",
      "查看是否有duplication tas_dep_stat = Right 0\n",
      "查看是否有duplication tas_dep_stat = Both 0\n",
      "查看是否有duplication tas_dep_stat = Left 0\n",
      "查看是否有duplication tas_dep_stat = Right 0\n",
      "查看是否有duplication tas_dep_stat = Left 0\n",
      "查看是否有duplication tas_dep_stat = Right 0\n",
      "查看是否有duplication tas_dep_stat = Both 0\n",
      "查看是否有duplication tas_dep_stat = Left 0\n",
      "查看是否有duplication tas_dep_stat = Right 0\n",
      "查看是否有duplication tas_dep_stat = on-target: JAK2 0\n",
      "查看是否有duplication tas_dep_stat = Both 0\n",
      "查看是否有duplication tas_dep_stat = Left 0\n",
      "查看是否有duplication tas_dep_stat = Right 0\n",
      "查看是否有duplication tas_dep_stat = Left 0\n",
      "查看是否有duplication tas_dep_stat = Right 0\n",
      "查看是否有duplication tas_dep_stat = Both 0\n",
      "查看是否有duplication tas_dep_stat = Left 0\n",
      "查看是否有duplication tas_dep_stat = Right 0\n",
      "查看是否有duplication tas_dep_stat = on-target: SIRT6 0\n"
     ]
    },
    {
     "data": {
      "text/plain": "      chrom      start        end               region_index align_chr_name  align_chr_start  align_chr_end  \\\n53    chr11  113102877  113103036  chr11_113102927_113102986          chr11        113102935      113102950   \n211   chr12   51595410   51595573    chr12_51595460_51595523          chr12         51595507       51595518   \n33    chr18   44726511   44726657    chr18_44726561_44726607          chr18         44726566       44726577   \n61    chr19   45742345   45742506    chr19_45742395_45742456          chr19         45742480       45742495   \n139    chr2  117786821  117786966   chr2_117786871_117786916           chr2        117786900      117786911   \n...     ...        ...        ...                        ...            ...              ...            ...   \n873    chr9  122264587  122264697   chr9_122264637_122264647           chr9        122264641      122264657   \n7521   chr9   83274918   83275045     chr9_83274968_83274995           chr9         83274955       83274971   \n2734   chr9   91161331   91161450     chr9_91161381_91161400           chr9         91161422       91161438   \n8878   chrX   40103635   40103766     chrX_40103685_40103716           chrX         40103660       40103676   \n6994  chr19    4182444    4182569      chr19_4182494_4182519          chr19          4182511        4182527   \n\n     align_strand  align_dist_to_signal align_N0_base  align_total_match  align_total_mismatch  \\\n53              +                    36             A                 13                     3   \n211             +                     5             A                 11                     1   \n33              -                     5             A                  8                     4   \n61              +                   -39             T                 12                     4   \n139             +                     5             A                 10                     2   \n...           ...                   ...           ...                ...                   ...   \n873             -                     4             A                 13                     4   \n7521            -                   -13             C                 13                     4   \n2734            -                    41             C                 13                     4   \n8878            +                     9             C                 13                     4   \n6994            -                    17             T                 17                     0   \n\n      align_degen_total_match  align_degen_total_mismatch  align_degen_num  align_total_gap  align_score  \\\n53                         13                           3                0                0         53.0   \n211                        11                           1                0                0         51.0   \n33                         11                           1                3                0         45.0   \n61                         12                           4                0                0         54.0   \n139                        11                           1                1                0         49.0   \n...                       ...                         ...              ...              ...          ...   \n873                        14                           3                1                0         56.0   \n7521                       15                           2                2                0         63.0   \n2734                       14                           3                1                0         56.0   \n8878                       14                           3                1                0         56.0   \n6994                       17                           0                0                0         95.0   \n\n       align_target_seq   align_info_state    align_query_seq                                file_info  \\\n53     ATTAGACACAAAATAA   ||||X|||||||X||X   ATTAAACACAAACTAC  ../art/DetectSeq_ATP8-DddA11_REP-1_T...   \n211        ATGGGCTTTGGA       |||||||||||X       ATGGGCTTTGGT  ../art/DetectSeq_ATP8-DddA11_REP-1_T...   \n33         ATGAACTTTGAA       |||..|||||.X       ATGGGCTTTGGT  ../art/DetectSeq_ATP8-DddA11_REP-1_T...   \n61     TTTAAAAACAAACAAG   X|||||X||||||X|X   ATTAAACACAAACTAC  ../art/DetectSeq_ATP8-DddA11_REP-1_T...   \n139        ATGAGCTTTGGG       |||.|||||||X       ATGGGCTTTGGT  ../art/DetectSeq_ATP8-DddA11_REP-1_T...   \n...                 ...                ...                ...                                      ...   \n873   ACAGGAGGCCGCCCTCG  X|.|||||||||X||X|  CCGGGAGGCCGCACTTG  ../art/DetectSeq_SIRT6-DddA11_REP-2_...   \n7521  CCTGGAAGCCACCCTTG  ||X|||.|||.|X||||  CCGGGAGGCCGCACTTG  ../art/DetectSeq_SIRT6-DddA11_REP-2_...   \n2734  CCAGGAGGACGCACAGG  ||.|||||X|||||XX|  CCGGGAGGCCGCACTTG  ../art/DetectSeq_SIRT6-DddA11_REP-2_...   \n8878  CCGGGAGCCCACATTTT  |||||||X||.||X||X  CCGGGAGGCCGCACTTG  ../art/DetectSeq_SIRT6-DddA11_REP-2_...   \n6994  TACGCGGCGGGGCTGTC  |||||||||||||||||  TACGCGGCGGGGCTGTC  ../art/DetectSeq_SIRT6-DddA11_REP-2_...   \n\n                          <sample>      TAS-Dep_stat    id  \n53     DetectSeq_ATP8-DddA11_REP-1              Both  2645  \n211    DetectSeq_ATP8-DddA11_REP-1              Both  3698  \n33     DetectSeq_ATP8-DddA11_REP-1              Both  6384  \n61     DetectSeq_ATP8-DddA11_REP-1              Both  2380  \n139    DetectSeq_ATP8-DddA11_REP-1              Both  4411  \n...                            ...               ...   ...  \n873   DetectSeq_SIRT6-DddA11_REP-2             Right  1978  \n7521  DetectSeq_SIRT6-DddA11_REP-2             Right   605  \n2734  DetectSeq_SIRT6-DddA11_REP-2             Right  1814  \n8878  DetectSeq_SIRT6-DddA11_REP-2             Right  1863  \n6994  DetectSeq_SIRT6-DddA11_REP-2  on-target: SIRT6     0  \n\n[1021 rows x 24 columns]",
      "text/html": "<div>\n<style scoped>\n    .dataframe tbody tr th:only-of-type {\n        vertical-align: middle;\n    }\n\n    .dataframe tbody tr th {\n        vertical-align: top;\n    }\n\n    .dataframe thead th {\n        text-align: right;\n    }\n</style>\n<table border=\"1\" class=\"dataframe\">\n  <thead>\n    <tr style=\"text-align: right;\">\n      <th></th>\n      <th>chrom</th>\n      <th>start</th>\n      <th>end</th>\n      <th>region_index</th>\n      <th>align_chr_name</th>\n      <th>align_chr_start</th>\n      <th>align_chr_end</th>\n      <th>align_strand</th>\n      <th>align_dist_to_signal</th>\n      <th>align_N0_base</th>\n      <th>align_total_match</th>\n      <th>align_total_mismatch</th>\n      <th>align_degen_total_match</th>\n      <th>align_degen_total_mismatch</th>\n      <th>align_degen_num</th>\n      <th>align_total_gap</th>\n      <th>align_score</th>\n      <th>align_target_seq</th>\n      <th>align_info_state</th>\n      <th>align_query_seq</th>\n      <th>file_info</th>\n      <th>&lt;sample&gt;</th>\n      <th>TAS-Dep_stat</th>\n      <th>id</th>\n    </tr>\n  </thead>\n  <tbody>\n    <tr>\n      <th>53</th>\n      <td>chr11</td>\n      <td>113102877</td>\n      <td>113103036</td>\n      <td>chr11_113102927_113102986</td>\n      <td>chr11</td>\n      <td>113102935</td>\n      <td>113102950</td>\n      <td>+</td>\n      <td>36</td>\n      <td>A</td>\n      <td>13</td>\n      <td>3</td>\n      <td>13</td>\n      <td>3</td>\n      <td>0</td>\n      <td>0</td>\n      <td>53.0</td>\n      <td>ATTAGACACAAAATAA</td>\n      <td>||||X|||||||X||X</td>\n      <td>ATTAAACACAAACTAC</td>\n      <td>../art/DetectSeq_ATP8-DddA11_REP-1_T...</td>\n      <td>DetectSeq_ATP8-DddA11_REP-1</td>\n      <td>Both</td>\n      <td>2645</td>\n    </tr>\n    <tr>\n      <th>211</th>\n      <td>chr12</td>\n      <td>51595410</td>\n      <td>51595573</td>\n      <td>chr12_51595460_51595523</td>\n      <td>chr12</td>\n      <td>51595507</td>\n      <td>51595518</td>\n      <td>+</td>\n      <td>5</td>\n      <td>A</td>\n      <td>11</td>\n      <td>1</td>\n      <td>11</td>\n      <td>1</td>\n      <td>0</td>\n      <td>0</td>\n      <td>51.0</td>\n      <td>ATGGGCTTTGGA</td>\n      <td>|||||||||||X</td>\n      <td>ATGGGCTTTGGT</td>\n      <td>../art/DetectSeq_ATP8-DddA11_REP-1_T...</td>\n      <td>DetectSeq_ATP8-DddA11_REP-1</td>\n      <td>Both</td>\n      <td>3698</td>\n    </tr>\n    <tr>\n      <th>33</th>\n      <td>chr18</td>\n      <td>44726511</td>\n      <td>44726657</td>\n      <td>chr18_44726561_44726607</td>\n      <td>chr18</td>\n      <td>44726566</td>\n      <td>44726577</td>\n      <td>-</td>\n      <td>5</td>\n      <td>A</td>\n      <td>8</td>\n      <td>4</td>\n      <td>11</td>\n      <td>1</td>\n      <td>3</td>\n      <td>0</td>\n      <td>45.0</td>\n      <td>ATGAACTTTGAA</td>\n      <td>|||..|||||.X</td>\n      <td>ATGGGCTTTGGT</td>\n      <td>../art/DetectSeq_ATP8-DddA11_REP-1_T...</td>\n      <td>DetectSeq_ATP8-DddA11_REP-1</td>\n      <td>Both</td>\n      <td>6384</td>\n    </tr>\n    <tr>\n      <th>61</th>\n      <td>chr19</td>\n      <td>45742345</td>\n      <td>45742506</td>\n      <td>chr19_45742395_45742456</td>\n      <td>chr19</td>\n      <td>45742480</td>\n      <td>45742495</td>\n      <td>+</td>\n      <td>-39</td>\n      <td>T</td>\n      <td>12</td>\n      <td>4</td>\n      <td>12</td>\n      <td>4</td>\n      <td>0</td>\n      <td>0</td>\n      <td>54.0</td>\n      <td>TTTAAAAACAAACAAG</td>\n      <td>X|||||X||||||X|X</td>\n      <td>ATTAAACACAAACTAC</td>\n      <td>../art/DetectSeq_ATP8-DddA11_REP-1_T...</td>\n      <td>DetectSeq_ATP8-DddA11_REP-1</td>\n      <td>Both</td>\n      <td>2380</td>\n    </tr>\n    <tr>\n      <th>139</th>\n      <td>chr2</td>\n      <td>117786821</td>\n      <td>117786966</td>\n      <td>chr2_117786871_117786916</td>\n      <td>chr2</td>\n      <td>117786900</td>\n      <td>117786911</td>\n      <td>+</td>\n      <td>5</td>\n      <td>A</td>\n      <td>10</td>\n      <td>2</td>\n      <td>11</td>\n      <td>1</td>\n      <td>1</td>\n      <td>0</td>\n      <td>49.0</td>\n      <td>ATGAGCTTTGGG</td>\n      <td>|||.|||||||X</td>\n      <td>ATGGGCTTTGGT</td>\n      <td>../art/DetectSeq_ATP8-DddA11_REP-1_T...</td>\n      <td>DetectSeq_ATP8-DddA11_REP-1</td>\n      <td>Both</td>\n      <td>4411</td>\n    </tr>\n    <tr>\n      <th>...</th>\n      <td>...</td>\n      <td>...</td>\n      <td>...</td>\n      <td>...</td>\n      <td>...</td>\n      <td>...</td>\n      <td>...</td>\n      <td>...</td>\n      <td>...</td>\n      <td>...</td>\n      <td>...</td>\n      <td>...</td>\n      <td>...</td>\n      <td>...</td>\n      <td>...</td>\n      <td>...</td>\n      <td>...</td>\n      <td>...</td>\n      <td>...</td>\n      <td>...</td>\n      <td>...</td>\n      <td>...</td>\n      <td>...</td>\n      <td>...</td>\n    </tr>\n    <tr>\n      <th>873</th>\n      <td>chr9</td>\n      <td>122264587</td>\n      <td>122264697</td>\n      <td>chr9_122264637_122264647</td>\n      <td>chr9</td>\n      <td>122264641</td>\n      <td>122264657</td>\n      <td>-</td>\n      <td>4</td>\n      <td>A</td>\n      <td>13</td>\n      <td>4</td>\n      <td>14</td>\n      <td>3</td>\n      <td>1</td>\n      <td>0</td>\n      <td>56.0</td>\n      <td>ACAGGAGGCCGCCCTCG</td>\n      <td>X|.|||||||||X||X|</td>\n      <td>CCGGGAGGCCGCACTTG</td>\n      <td>../art/DetectSeq_SIRT6-DddA11_REP-2_...</td>\n      <td>DetectSeq_SIRT6-DddA11_REP-2</td>\n      <td>Right</td>\n      <td>1978</td>\n    </tr>\n    <tr>\n      <th>7521</th>\n      <td>chr9</td>\n      <td>83274918</td>\n      <td>83275045</td>\n      <td>chr9_83274968_83274995</td>\n      <td>chr9</td>\n      <td>83274955</td>\n      <td>83274971</td>\n      <td>-</td>\n      <td>-13</td>\n      <td>C</td>\n      <td>13</td>\n      <td>4</td>\n      <td>15</td>\n      <td>2</td>\n      <td>2</td>\n      <td>0</td>\n      <td>63.0</td>\n      <td>CCTGGAAGCCACCCTTG</td>\n      <td>||X|||.|||.|X||||</td>\n      <td>CCGGGAGGCCGCACTTG</td>\n      <td>../art/DetectSeq_SIRT6-DddA11_REP-2_...</td>\n      <td>DetectSeq_SIRT6-DddA11_REP-2</td>\n      <td>Right</td>\n      <td>605</td>\n    </tr>\n    <tr>\n      <th>2734</th>\n      <td>chr9</td>\n      <td>91161331</td>\n      <td>91161450</td>\n      <td>chr9_91161381_91161400</td>\n      <td>chr9</td>\n      <td>91161422</td>\n      <td>91161438</td>\n      <td>-</td>\n      <td>41</td>\n      <td>C</td>\n      <td>13</td>\n      <td>4</td>\n      <td>14</td>\n      <td>3</td>\n      <td>1</td>\n      <td>0</td>\n      <td>56.0</td>\n      <td>CCAGGAGGACGCACAGG</td>\n      <td>||.|||||X|||||XX|</td>\n      <td>CCGGGAGGCCGCACTTG</td>\n      <td>../art/DetectSeq_SIRT6-DddA11_REP-2_...</td>\n      <td>DetectSeq_SIRT6-DddA11_REP-2</td>\n      <td>Right</td>\n      <td>1814</td>\n    </tr>\n    <tr>\n      <th>8878</th>\n      <td>chrX</td>\n      <td>40103635</td>\n      <td>40103766</td>\n      <td>chrX_40103685_40103716</td>\n      <td>chrX</td>\n      <td>40103660</td>\n      <td>40103676</td>\n      <td>+</td>\n      <td>9</td>\n      <td>C</td>\n      <td>13</td>\n      <td>4</td>\n      <td>14</td>\n      <td>3</td>\n      <td>1</td>\n      <td>0</td>\n      <td>56.0</td>\n      <td>CCGGGAGCCCACATTTT</td>\n      <td>|||||||X||.||X||X</td>\n      <td>CCGGGAGGCCGCACTTG</td>\n      <td>../art/DetectSeq_SIRT6-DddA11_REP-2_...</td>\n      <td>DetectSeq_SIRT6-DddA11_REP-2</td>\n      <td>Right</td>\n      <td>1863</td>\n    </tr>\n    <tr>\n      <th>6994</th>\n      <td>chr19</td>\n      <td>4182444</td>\n      <td>4182569</td>\n      <td>chr19_4182494_4182519</td>\n      <td>chr19</td>\n      <td>4182511</td>\n      <td>4182527</td>\n      <td>-</td>\n      <td>17</td>\n      <td>T</td>\n      <td>17</td>\n      <td>0</td>\n      <td>17</td>\n      <td>0</td>\n      <td>0</td>\n      <td>0</td>\n      <td>95.0</td>\n      <td>TACGCGGCGGGGCTGTC</td>\n      <td>|||||||||||||||||</td>\n      <td>TACGCGGCGGGGCTGTC</td>\n      <td>../art/DetectSeq_SIRT6-DddA11_REP-2_...</td>\n      <td>DetectSeq_SIRT6-DddA11_REP-2</td>\n      <td>on-target: SIRT6</td>\n      <td>0</td>\n    </tr>\n  </tbody>\n</table>\n<p>1021 rows × 24 columns</p>\n</div>"
     },
     "execution_count": 99,
     "metadata": {},
     "output_type": "execute_result"
    }
   ],
   "source": [
    "# TAS-dep\n",
    "ls_df_arts_tas_dep_fix = []\n",
    "\n",
    "for sample, df in df_arts_tas_dep_fix.groupby(['<sample>', 'TAS-Dep_stat']):\n",
    "    sample, tas_dep_stat = sample\n",
    "    # print('查看是否有duplication', 'tas_dep_stat =', tas_dep_stat, df.duplicated(subset='region_index').sum())\n",
    "    # if tas_dep_stat == 'Both' or 'on-target' in tas_dep_stat:\n",
    "    # df = df.sort_values(by=['region_index', 'align_score'], ascending=[True, False]).drop_duplicates(subset=['region_index', '<sample>'], keep='first')\n",
    "    df = df.sort_values(by=['region_index', 'align_score'], ascending=[True, False]).drop_duplicates(\n",
    "        subset=['region_index', '<sample>'], keep='first')\n",
    "    ls_df_arts_tas_dep_fix.append(df)\n",
    "df_arts_tas_dep_fix = pd.concat(ls_df_arts_tas_dep_fix)\n",
    "\n",
    "for sample, df in df_arts_tas_dep_fix.groupby(['<sample>', 'TAS-Dep_stat']):\n",
    "    sample, tas_dep_stat = sample\n",
    "    print('查看是否有duplication', 'tas_dep_stat =', tas_dep_stat, df.duplicated(subset='region_index').sum())\n",
    "# 查看是否有duplication tas_dep_stat = Both 0\n",
    "# 查看是否有duplication tas_dep_stat = Left 0\n",
    "# 查看是否有duplication tas_dep_stat = Right 0\n",
    "# 查看是否有duplication tas_dep_stat = Both 0\n",
    "# 查看是否有duplication tas_dep_stat = Left 0\n",
    "# 查看是否有duplication tas_dep_stat = Right 0\n",
    "# 查看是否有duplication tas_dep_stat = Left 0\n",
    "# 查看是否有duplication tas_dep_stat = Right 0\n",
    "# 查看是否有duplication tas_dep_stat = Both 0\n",
    "# 查看是否有duplication tas_dep_stat = Left 0\n",
    "# 查看是否有duplication tas_dep_stat = Right 0\n",
    "# 查看是否有duplication tas_dep_stat = Both 0\n",
    "# 查看是否有duplication tas_dep_stat = Left 0\n",
    "# 查看是否有duplication tas_dep_stat = Right 0\n",
    "# 查看是否有duplication tas_dep_stat = Left 0\n",
    "# 查看是否有duplication tas_dep_stat = Right 0\n",
    "# 查看是否有duplication tas_dep_stat = Both 0\n",
    "# 查看是否有duplication tas_dep_stat = Left 0\n",
    "# 查看是否有duplication tas_dep_stat = Right 0\n",
    "df_arts_tas_dep_fix"
   ],
   "metadata": {
    "collapsed": false,
    "ExecuteTime": {
     "end_time": "2023-08-15T17:31:03.355528Z",
     "start_time": "2023-08-15T17:31:03.278676Z"
    }
   },
   "id": "d90e0a4e78b349d0"
  },
  {
   "cell_type": "code",
   "execution_count": 100,
   "outputs": [
    {
     "name": "stdout",
     "output_type": "stream",
     "text": [
      "JAK2-----\n",
      "False\n",
      "False\n",
      "False\n",
      "False\n",
      "False\n",
      "False\n",
      "False\n",
      "False\n",
      "SIRT6-----\n",
      "False\n",
      "False\n",
      "False\n",
      "False\n",
      "False\n",
      "False\n",
      "False\n",
      "False\n"
     ]
    }
   ],
   "source": [
    "print('JAK2-----')\n",
    "print(df_arts_tas_dep_fix.query('`<sample>`==\"DetectSeq_JAK2-DddA11_REP-1\"').query(\n",
    "    '`TAS-Dep_stat`==\"Left\"').region_index.duplicated().any())\n",
    "print(df_arts_tas_dep_fix.query('`<sample>`==\"DetectSeq_JAK2-DddA11_REP-2\"').query(\n",
    "    '`TAS-Dep_stat`==\"Left\"').region_index.duplicated().any())\n",
    "print(df_arts_tas_dep_fix.query('`<sample>`==\"DetectSeq_JAK2-DddA11_REP-1\"').query(\n",
    "    '`TAS-Dep_stat`==\"Right\"').region_index.duplicated().any())\n",
    "print(df_arts_tas_dep_fix.query('`<sample>`==\"DetectSeq_JAK2-DddA11_REP-2\"').query(\n",
    "    '`TAS-Dep_stat`==\"Right\"').region_index.duplicated().any())\n",
    "\n",
    "print(df_arts_tas_dep_fix.query('`<sample>`==\"DetectSeq_JAK2-DddA11_REP-1\"').query('`TAS-Dep_stat`!=\"Both\"').query(\n",
    "    '~`TAS-Dep_stat`.str.contains(\"on-target\")').region_index.duplicated().any())\n",
    "print(df_arts_tas_dep_fix.query('`<sample>`==\"DetectSeq_JAK2-DddA11_REP-2\"').query('`TAS-Dep_stat`!=\"Both\"').query(\n",
    "    '~`TAS-Dep_stat`.str.contains(\"on-target\")').region_index.duplicated().any())\n",
    "\n",
    "print(df_arts_tas_dep_fix.query('`<sample>`==\"DetectSeq_JAK2-DddA11_REP-1\"').region_index.duplicated().any())\n",
    "print(df_arts_tas_dep_fix.query('`<sample>`==\"DetectSeq_JAK2-DddA11_REP-2\"').region_index.duplicated().any())\n",
    "print('SIRT6-----')\n",
    "print(df_arts_tas_dep_fix.query('`<sample>`==\"DetectSeq_SIRT6-DddA11_REP-1\"').query(\n",
    "    '`TAS-Dep_stat`==\"Left\"').region_index.duplicated().any())\n",
    "print(df_arts_tas_dep_fix.query('`<sample>`==\"DetectSeq_SIRT6-DddA11_REP-2\"').query(\n",
    "    '`TAS-Dep_stat`==\"Left\"').region_index.duplicated().any())\n",
    "print(df_arts_tas_dep_fix.query('`<sample>`==\"DetectSeq_SIRT6-DddA11_REP-1\"').query(\n",
    "    '`TAS-Dep_stat`==\"Right\"').region_index.duplicated().any())\n",
    "print(df_arts_tas_dep_fix.query('`<sample>`==\"DetectSeq_SIRT6-DddA11_REP-2\"').query(\n",
    "    '`TAS-Dep_stat`==\"Right\"').region_index.duplicated().any())\n",
    "\n",
    "print(df_arts_tas_dep_fix.query('`<sample>`==\"DetectSeq_SIRT6-DddA11_REP-1\"').query('`TAS-Dep_stat`!=\"Both\"').query(\n",
    "    '~`TAS-Dep_stat`.str.contains(\"on-target\")').region_index.duplicated().any())\n",
    "print(df_arts_tas_dep_fix.query('`<sample>`==\"DetectSeq_SIRT6-DddA11_REP-2\"').query('`TAS-Dep_stat`!=\"Both\"').query(\n",
    "    '~`TAS-Dep_stat`.str.contains(\"on-target\")').region_index.duplicated().any())\n",
    "\n",
    "print(df_arts_tas_dep_fix.query('`<sample>`==\"DetectSeq_SIRT6-DddA11_REP-1\"').region_index.duplicated().any())\n",
    "print(df_arts_tas_dep_fix.query('`<sample>`==\"DetectSeq_SIRT6-DddA11_REP-2\"').region_index.duplicated().any())\n",
    "# JAK2-----\n",
    "# False\n",
    "# False\n",
    "# False\n",
    "# False\n",
    "# False\n",
    "# False\n",
    "# False\n",
    "# False\n",
    "# SIRT6-----\n",
    "# False\n",
    "# False\n",
    "# False\n",
    "# False\n",
    "# False\n",
    "# False\n",
    "# False\n",
    "# False\n",
    "# 符合预期，dup都是Both和on-target造成的"
   ],
   "metadata": {
    "collapsed": false,
    "ExecuteTime": {
     "end_time": "2023-08-15T17:31:03.398918Z",
     "start_time": "2023-08-15T17:31:03.319062Z"
    }
   },
   "id": "93dbc8df9f51afbc"
  },
  {
   "cell_type": "code",
   "execution_count": 101,
   "outputs": [
    {
     "data": {
      "text/plain": "<sample>                      TAS-Dep_stat    \nDetectSeq_ATP8-DddA11_REP-1   Both                  5\n                              Left                  1\n                              Right                83\nDetectSeq_ATP8-DddA6_REP-1    Both                 19\n                              Left                 13\n                              Right               431\nDetectSeq_ATP8-DddAwt_REP-1   Left                  1\n                              Right                 3\nDetectSeq_JAK2-DddA11_REP-1   Both                  1\n                              Left                 11\n                              Right                 7\n                              on-target: JAK2       1\nDetectSeq_JAK2-DddA11_REP-2   Both                  9\n                              Left                 12\n                              Right               160\nDetectSeq_SIRT6-DddA11_REP-1  Left                 31\n                              Right                19\nDetectSeq_SIRT6-DddA11_REP-2  Both                  4\n                              Left                135\n                              Right                74\n                              on-target: SIRT6      1\nName: TAS-Dep_stat, dtype: int64"
     },
     "execution_count": 101,
     "metadata": {},
     "output_type": "execute_result"
    }
   ],
   "source": [
    "df_arts_tas_dep_fix.groupby(['<sample>', 'TAS-Dep_stat'])['TAS-Dep_stat'].count()"
   ],
   "metadata": {
    "collapsed": false,
    "ExecuteTime": {
     "end_time": "2023-08-15T17:31:03.399193Z",
     "start_time": "2023-08-15T17:31:03.362268Z"
    }
   },
   "id": "c6a9f3e747c44c07"
  },
  {
   "cell_type": "code",
   "execution_count": 102,
   "outputs": [
    {
     "name": "stdout",
     "output_type": "stream",
     "text": [
      "1021 before_rm_on-target\n",
      "1019 after_rm_on-target\n",
      "|    | <sample>           | TAS-Dep_stat   |   count |\n",
      "|---:|:-------------------|:---------------|--------:|\n",
      "|  0 | ATP8-DddA11_REP-1  | Both           |       5 |\n",
      "|  1 | ATP8-DddA11_REP-1  | Left           |       1 |\n",
      "|  2 | ATP8-DddA11_REP-1  | Right          |      83 |\n",
      "|  3 | ATP8-DddA6_REP-1   | Both           |      19 |\n",
      "|  4 | ATP8-DddA6_REP-1   | Left           |      13 |\n",
      "|  5 | ATP8-DddA6_REP-1   | Right          |     431 |\n",
      "|  6 | ATP8-DddAwt_REP-1  | Left           |       1 |\n",
      "|  7 | ATP8-DddAwt_REP-1  | Right          |       3 |\n",
      "|  8 | JAK2-DddA11_REP-1  | Both           |       1 |\n",
      "|  9 | JAK2-DddA11_REP-1  | Left           |      11 |\n",
      "| 10 | JAK2-DddA11_REP-1  | Right          |       7 |\n",
      "| 11 | JAK2-DddA11_REP-2  | Both           |       9 |\n",
      "| 12 | JAK2-DddA11_REP-2  | Left           |      12 |\n",
      "| 13 | JAK2-DddA11_REP-2  | Right          |     160 |\n",
      "| 14 | SIRT6-DddA11_REP-1 | Left           |      31 |\n",
      "| 15 | SIRT6-DddA11_REP-1 | Right          |      19 |\n",
      "| 16 | SIRT6-DddA11_REP-2 | Both           |       4 |\n",
      "| 17 | SIRT6-DddA11_REP-2 | Left           |     135 |\n",
      "| 18 | SIRT6-DddA11_REP-2 | Right          |      74 |\n",
      "|    | <sample>                     | TAS-Dep_stat     |   count |\n",
      "|---:|:-----------------------------|:-----------------|--------:|\n",
      "|  0 | DetectSeq_JAK2-DddA11_REP-1  | on-target: JAK2  |       1 |\n",
      "|  1 | DetectSeq_SIRT6-DddA11_REP-2 | on-target: SIRT6 |       1 |\n"
     ]
    }
   ],
   "source": [
    "tmp = df_arts_tas_dep_fix.query('~`TAS-Dep_stat`.str.contains(\"on-target\")').groupby(['<sample>', 'TAS-Dep_stat'])[\n",
    "    'chrom'].count().to_frame().reset_index()\n",
    "tmp_on = df_arts_tas_dep_fix.query('`TAS-Dep_stat`.str.contains(\"on-target\")').groupby(['<sample>', 'TAS-Dep_stat'])[\n",
    "    'chrom'].count().to_frame().reset_index()\n",
    "tmp['<sample>'] = tmp['<sample>'].str.replace('DetectSeq_', '')\n",
    "tmp.columns = ['<sample>', 'TAS-Dep_stat', 'count']\n",
    "tmp_on.columns = ['<sample>', 'TAS-Dep_stat', 'count']\n",
    "print(df_arts_tas_dep_fix.shape[0], 'before_rm_on-target')\n",
    "print(tmp['count'].sum(), 'after_rm_on-target')\n",
    "print(tmp.sort_values(by=['<sample>', 'TAS-Dep_stat']).reset_index(drop=True).to_markdown())\n",
    "print(tmp_on.to_markdown())"
   ],
   "metadata": {
    "collapsed": false,
    "ExecuteTime": {
     "end_time": "2023-08-15T17:31:03.460566Z",
     "start_time": "2023-08-15T17:31:03.369419Z"
    }
   },
   "id": "2b9ac543fbf2818b"
  },
  {
   "cell_type": "markdown",
   "source": [
    "### Final TAS-dependent off-target"
   ],
   "metadata": {
    "collapsed": false
   },
   "id": "dc9550d66975766d"
  },
  {
   "cell_type": "code",
   "execution_count": 103,
   "outputs": [
    {
     "data": {
      "text/plain": "      chrom      start        end               region_index align_chr_name  align_chr_start  align_chr_end  \\\n53    chr11  113102877  113103036  chr11_113102927_113102986          chr11        113102935      113102950   \n211   chr12   51595410   51595573    chr12_51595460_51595523          chr12         51595507       51595518   \n33    chr18   44726511   44726657    chr18_44726561_44726607          chr18         44726566       44726577   \n61    chr19   45742345   45742506    chr19_45742395_45742456          chr19         45742480       45742495   \n139    chr2  117786821  117786966   chr2_117786871_117786916           chr2        117786900      117786911   \n...     ...        ...        ...                        ...            ...              ...            ...   \n1402   chr8   97336476   97336629     chr8_97336526_97336579           chr8         97336537       97336553   \n873    chr9  122264587  122264697   chr9_122264637_122264647           chr9        122264641      122264657   \n7521   chr9   83274918   83275045     chr9_83274968_83274995           chr9         83274955       83274971   \n2734   chr9   91161331   91161450     chr9_91161381_91161400           chr9         91161422       91161438   \n8878   chrX   40103635   40103766     chrX_40103685_40103716           chrX         40103660       40103676   \n\n     align_strand  align_dist_to_signal align_N0_base  align_total_match  align_total_mismatch  \\\n53              +                    36             A                 13                     3   \n211             +                     5             A                 11                     1   \n33              -                     5             A                  8                     4   \n61              +                   -39             T                 12                     4   \n139             +                     5             A                 10                     2   \n...           ...                   ...           ...                ...                   ...   \n1402            -                    11             C                 13                     4   \n873             -                     4             A                 13                     4   \n7521            -                   -13             C                 13                     4   \n2734            -                    41             C                 13                     4   \n8878            +                     9             C                 13                     4   \n\n      align_degen_total_match  align_degen_total_mismatch  align_degen_num  align_total_gap  align_score  \\\n53                         13                           3                0                0         53.0   \n211                        11                           1                0                0         51.0   \n33                         11                           1                3                0         45.0   \n61                         12                           4                0                0         54.0   \n139                        11                           1                1                0         49.0   \n...                       ...                         ...              ...              ...          ...   \n1402                       15                           2                2                0         63.0   \n873                        14                           3                1                0         56.0   \n7521                       15                           2                2                0         63.0   \n2734                       14                           3                1                0         56.0   \n8878                       14                           3                1                0         56.0   \n\n       align_target_seq   align_info_state    align_query_seq                                file_info  \\\n53     ATTAGACACAAAATAA   ||||X|||||||X||X   ATTAAACACAAACTAC  ../art/DetectSeq_ATP8-DddA11_REP-1_T...   \n211        ATGGGCTTTGGA       |||||||||||X       ATGGGCTTTGGT  ../art/DetectSeq_ATP8-DddA11_REP-1_T...   \n33         ATGAACTTTGAA       |||..|||||.X       ATGGGCTTTGGT  ../art/DetectSeq_ATP8-DddA11_REP-1_T...   \n61     TTTAAAAACAAACAAG   X|||||X||||||X|X   ATTAAACACAAACTAC  ../art/DetectSeq_ATP8-DddA11_REP-1_T...   \n139        ATGAGCTTTGGG       |||.|||||||X       ATGGGCTTTGGT  ../art/DetectSeq_ATP8-DddA11_REP-1_T...   \n...                 ...                ...                ...                                      ...   \n1402  CGAAGAGGCTGCACTTG  |X..|||||X|||||||  CCGGGAGGCCGCACTTG  ../art/DetectSeq_SIRT6-DddA11_REP-2_...   \n873   ACAGGAGGCCGCCCTCG  X|.|||||||||X||X|  CCGGGAGGCCGCACTTG  ../art/DetectSeq_SIRT6-DddA11_REP-2_...   \n7521  CCTGGAAGCCACCCTTG  ||X|||.|||.|X||||  CCGGGAGGCCGCACTTG  ../art/DetectSeq_SIRT6-DddA11_REP-2_...   \n2734  CCAGGAGGACGCACAGG  ||.|||||X|||||XX|  CCGGGAGGCCGCACTTG  ../art/DetectSeq_SIRT6-DddA11_REP-2_...   \n8878  CCGGGAGCCCACATTTT  |||||||X||.||X||X  CCGGGAGGCCGCACTTG  ../art/DetectSeq_SIRT6-DddA11_REP-2_...   \n\n                          <sample> TAS-Dep_stat    id  \n53     DetectSeq_ATP8-DddA11_REP-1         Both  2645  \n211    DetectSeq_ATP8-DddA11_REP-1         Both  3698  \n33     DetectSeq_ATP8-DddA11_REP-1         Both  6384  \n61     DetectSeq_ATP8-DddA11_REP-1         Both  2380  \n139    DetectSeq_ATP8-DddA11_REP-1         Both  4411  \n...                            ...          ...   ...  \n1402  DetectSeq_SIRT6-DddA11_REP-2        Right   637  \n873   DetectSeq_SIRT6-DddA11_REP-2        Right  1978  \n7521  DetectSeq_SIRT6-DddA11_REP-2        Right   605  \n2734  DetectSeq_SIRT6-DddA11_REP-2        Right  1814  \n8878  DetectSeq_SIRT6-DddA11_REP-2        Right  1863  \n\n[1019 rows x 24 columns]",
      "text/html": "<div>\n<style scoped>\n    .dataframe tbody tr th:only-of-type {\n        vertical-align: middle;\n    }\n\n    .dataframe tbody tr th {\n        vertical-align: top;\n    }\n\n    .dataframe thead th {\n        text-align: right;\n    }\n</style>\n<table border=\"1\" class=\"dataframe\">\n  <thead>\n    <tr style=\"text-align: right;\">\n      <th></th>\n      <th>chrom</th>\n      <th>start</th>\n      <th>end</th>\n      <th>region_index</th>\n      <th>align_chr_name</th>\n      <th>align_chr_start</th>\n      <th>align_chr_end</th>\n      <th>align_strand</th>\n      <th>align_dist_to_signal</th>\n      <th>align_N0_base</th>\n      <th>align_total_match</th>\n      <th>align_total_mismatch</th>\n      <th>align_degen_total_match</th>\n      <th>align_degen_total_mismatch</th>\n      <th>align_degen_num</th>\n      <th>align_total_gap</th>\n      <th>align_score</th>\n      <th>align_target_seq</th>\n      <th>align_info_state</th>\n      <th>align_query_seq</th>\n      <th>file_info</th>\n      <th>&lt;sample&gt;</th>\n      <th>TAS-Dep_stat</th>\n      <th>id</th>\n    </tr>\n  </thead>\n  <tbody>\n    <tr>\n      <th>53</th>\n      <td>chr11</td>\n      <td>113102877</td>\n      <td>113103036</td>\n      <td>chr11_113102927_113102986</td>\n      <td>chr11</td>\n      <td>113102935</td>\n      <td>113102950</td>\n      <td>+</td>\n      <td>36</td>\n      <td>A</td>\n      <td>13</td>\n      <td>3</td>\n      <td>13</td>\n      <td>3</td>\n      <td>0</td>\n      <td>0</td>\n      <td>53.0</td>\n      <td>ATTAGACACAAAATAA</td>\n      <td>||||X|||||||X||X</td>\n      <td>ATTAAACACAAACTAC</td>\n      <td>../art/DetectSeq_ATP8-DddA11_REP-1_T...</td>\n      <td>DetectSeq_ATP8-DddA11_REP-1</td>\n      <td>Both</td>\n      <td>2645</td>\n    </tr>\n    <tr>\n      <th>211</th>\n      <td>chr12</td>\n      <td>51595410</td>\n      <td>51595573</td>\n      <td>chr12_51595460_51595523</td>\n      <td>chr12</td>\n      <td>51595507</td>\n      <td>51595518</td>\n      <td>+</td>\n      <td>5</td>\n      <td>A</td>\n      <td>11</td>\n      <td>1</td>\n      <td>11</td>\n      <td>1</td>\n      <td>0</td>\n      <td>0</td>\n      <td>51.0</td>\n      <td>ATGGGCTTTGGA</td>\n      <td>|||||||||||X</td>\n      <td>ATGGGCTTTGGT</td>\n      <td>../art/DetectSeq_ATP8-DddA11_REP-1_T...</td>\n      <td>DetectSeq_ATP8-DddA11_REP-1</td>\n      <td>Both</td>\n      <td>3698</td>\n    </tr>\n    <tr>\n      <th>33</th>\n      <td>chr18</td>\n      <td>44726511</td>\n      <td>44726657</td>\n      <td>chr18_44726561_44726607</td>\n      <td>chr18</td>\n      <td>44726566</td>\n      <td>44726577</td>\n      <td>-</td>\n      <td>5</td>\n      <td>A</td>\n      <td>8</td>\n      <td>4</td>\n      <td>11</td>\n      <td>1</td>\n      <td>3</td>\n      <td>0</td>\n      <td>45.0</td>\n      <td>ATGAACTTTGAA</td>\n      <td>|||..|||||.X</td>\n      <td>ATGGGCTTTGGT</td>\n      <td>../art/DetectSeq_ATP8-DddA11_REP-1_T...</td>\n      <td>DetectSeq_ATP8-DddA11_REP-1</td>\n      <td>Both</td>\n      <td>6384</td>\n    </tr>\n    <tr>\n      <th>61</th>\n      <td>chr19</td>\n      <td>45742345</td>\n      <td>45742506</td>\n      <td>chr19_45742395_45742456</td>\n      <td>chr19</td>\n      <td>45742480</td>\n      <td>45742495</td>\n      <td>+</td>\n      <td>-39</td>\n      <td>T</td>\n      <td>12</td>\n      <td>4</td>\n      <td>12</td>\n      <td>4</td>\n      <td>0</td>\n      <td>0</td>\n      <td>54.0</td>\n      <td>TTTAAAAACAAACAAG</td>\n      <td>X|||||X||||||X|X</td>\n      <td>ATTAAACACAAACTAC</td>\n      <td>../art/DetectSeq_ATP8-DddA11_REP-1_T...</td>\n      <td>DetectSeq_ATP8-DddA11_REP-1</td>\n      <td>Both</td>\n      <td>2380</td>\n    </tr>\n    <tr>\n      <th>139</th>\n      <td>chr2</td>\n      <td>117786821</td>\n      <td>117786966</td>\n      <td>chr2_117786871_117786916</td>\n      <td>chr2</td>\n      <td>117786900</td>\n      <td>117786911</td>\n      <td>+</td>\n      <td>5</td>\n      <td>A</td>\n      <td>10</td>\n      <td>2</td>\n      <td>11</td>\n      <td>1</td>\n      <td>1</td>\n      <td>0</td>\n      <td>49.0</td>\n      <td>ATGAGCTTTGGG</td>\n      <td>|||.|||||||X</td>\n      <td>ATGGGCTTTGGT</td>\n      <td>../art/DetectSeq_ATP8-DddA11_REP-1_T...</td>\n      <td>DetectSeq_ATP8-DddA11_REP-1</td>\n      <td>Both</td>\n      <td>4411</td>\n    </tr>\n    <tr>\n      <th>...</th>\n      <td>...</td>\n      <td>...</td>\n      <td>...</td>\n      <td>...</td>\n      <td>...</td>\n      <td>...</td>\n      <td>...</td>\n      <td>...</td>\n      <td>...</td>\n      <td>...</td>\n      <td>...</td>\n      <td>...</td>\n      <td>...</td>\n      <td>...</td>\n      <td>...</td>\n      <td>...</td>\n      <td>...</td>\n      <td>...</td>\n      <td>...</td>\n      <td>...</td>\n      <td>...</td>\n      <td>...</td>\n      <td>...</td>\n      <td>...</td>\n    </tr>\n    <tr>\n      <th>1402</th>\n      <td>chr8</td>\n      <td>97336476</td>\n      <td>97336629</td>\n      <td>chr8_97336526_97336579</td>\n      <td>chr8</td>\n      <td>97336537</td>\n      <td>97336553</td>\n      <td>-</td>\n      <td>11</td>\n      <td>C</td>\n      <td>13</td>\n      <td>4</td>\n      <td>15</td>\n      <td>2</td>\n      <td>2</td>\n      <td>0</td>\n      <td>63.0</td>\n      <td>CGAAGAGGCTGCACTTG</td>\n      <td>|X..|||||X|||||||</td>\n      <td>CCGGGAGGCCGCACTTG</td>\n      <td>../art/DetectSeq_SIRT6-DddA11_REP-2_...</td>\n      <td>DetectSeq_SIRT6-DddA11_REP-2</td>\n      <td>Right</td>\n      <td>637</td>\n    </tr>\n    <tr>\n      <th>873</th>\n      <td>chr9</td>\n      <td>122264587</td>\n      <td>122264697</td>\n      <td>chr9_122264637_122264647</td>\n      <td>chr9</td>\n      <td>122264641</td>\n      <td>122264657</td>\n      <td>-</td>\n      <td>4</td>\n      <td>A</td>\n      <td>13</td>\n      <td>4</td>\n      <td>14</td>\n      <td>3</td>\n      <td>1</td>\n      <td>0</td>\n      <td>56.0</td>\n      <td>ACAGGAGGCCGCCCTCG</td>\n      <td>X|.|||||||||X||X|</td>\n      <td>CCGGGAGGCCGCACTTG</td>\n      <td>../art/DetectSeq_SIRT6-DddA11_REP-2_...</td>\n      <td>DetectSeq_SIRT6-DddA11_REP-2</td>\n      <td>Right</td>\n      <td>1978</td>\n    </tr>\n    <tr>\n      <th>7521</th>\n      <td>chr9</td>\n      <td>83274918</td>\n      <td>83275045</td>\n      <td>chr9_83274968_83274995</td>\n      <td>chr9</td>\n      <td>83274955</td>\n      <td>83274971</td>\n      <td>-</td>\n      <td>-13</td>\n      <td>C</td>\n      <td>13</td>\n      <td>4</td>\n      <td>15</td>\n      <td>2</td>\n      <td>2</td>\n      <td>0</td>\n      <td>63.0</td>\n      <td>CCTGGAAGCCACCCTTG</td>\n      <td>||X|||.|||.|X||||</td>\n      <td>CCGGGAGGCCGCACTTG</td>\n      <td>../art/DetectSeq_SIRT6-DddA11_REP-2_...</td>\n      <td>DetectSeq_SIRT6-DddA11_REP-2</td>\n      <td>Right</td>\n      <td>605</td>\n    </tr>\n    <tr>\n      <th>2734</th>\n      <td>chr9</td>\n      <td>91161331</td>\n      <td>91161450</td>\n      <td>chr9_91161381_91161400</td>\n      <td>chr9</td>\n      <td>91161422</td>\n      <td>91161438</td>\n      <td>-</td>\n      <td>41</td>\n      <td>C</td>\n      <td>13</td>\n      <td>4</td>\n      <td>14</td>\n      <td>3</td>\n      <td>1</td>\n      <td>0</td>\n      <td>56.0</td>\n      <td>CCAGGAGGACGCACAGG</td>\n      <td>||.|||||X|||||XX|</td>\n      <td>CCGGGAGGCCGCACTTG</td>\n      <td>../art/DetectSeq_SIRT6-DddA11_REP-2_...</td>\n      <td>DetectSeq_SIRT6-DddA11_REP-2</td>\n      <td>Right</td>\n      <td>1814</td>\n    </tr>\n    <tr>\n      <th>8878</th>\n      <td>chrX</td>\n      <td>40103635</td>\n      <td>40103766</td>\n      <td>chrX_40103685_40103716</td>\n      <td>chrX</td>\n      <td>40103660</td>\n      <td>40103676</td>\n      <td>+</td>\n      <td>9</td>\n      <td>C</td>\n      <td>13</td>\n      <td>4</td>\n      <td>14</td>\n      <td>3</td>\n      <td>1</td>\n      <td>0</td>\n      <td>56.0</td>\n      <td>CCGGGAGCCCACATTTT</td>\n      <td>|||||||X||.||X||X</td>\n      <td>CCGGGAGGCCGCACTTG</td>\n      <td>../art/DetectSeq_SIRT6-DddA11_REP-2_...</td>\n      <td>DetectSeq_SIRT6-DddA11_REP-2</td>\n      <td>Right</td>\n      <td>1863</td>\n    </tr>\n  </tbody>\n</table>\n<p>1019 rows × 24 columns</p>\n</div>"
     },
     "execution_count": 103,
     "metadata": {},
     "output_type": "execute_result"
    }
   ],
   "source": [
    "# 最终TAS Dep list\n",
    "df_arts_tas_dep = df_arts_tas_dep_fix.query('~`TAS-Dep_stat`.str.contains(\"on-target\")').copy()\n",
    "df_arts_tas_dep"
   ],
   "metadata": {
    "collapsed": false,
    "ExecuteTime": {
     "end_time": "2023-08-15T17:31:03.461159Z",
     "start_time": "2023-08-15T17:31:03.389742Z"
    }
   },
   "id": "cd10ac01da32ba02"
  },
  {
   "cell_type": "markdown",
   "source": [
    "### save df_arts_tas_dep"
   ],
   "metadata": {
    "collapsed": false
   },
   "id": "1efe72de566340b6"
  },
  {
   "cell_type": "code",
   "execution_count": 104,
   "outputs": [],
   "source": [
    "df_arts_tas_dep.to_csv('../art_seqinfo/df_arts_tas_dep.csv', index=False)"
   ],
   "metadata": {
    "collapsed": false,
    "ExecuteTime": {
     "end_time": "2023-08-15T17:31:03.473731Z",
     "start_time": "2023-08-15T17:31:03.392639Z"
    }
   },
   "id": "540f4a11a4b7b7f1"
  },
  {
   "cell_type": "markdown",
   "source": [
    "### get Seqinfo for TAS-dependent off-target\n",
    "\n",
    "用来生成weblogo（使用sublime完成trim，修剪到长度一致）"
   ],
   "metadata": {
    "collapsed": false
   },
   "id": "184b7d302b72165a"
  },
  {
   "cell_type": "code",
   "execution_count": 105,
   "outputs": [],
   "source": [
    "os.makedirs('../art_seqinfo/tas-dependent', exist_ok=True)"
   ],
   "metadata": {
    "collapsed": false,
    "ExecuteTime": {
     "end_time": "2023-08-15T17:31:03.477643Z",
     "start_time": "2023-08-15T17:31:03.402170Z"
    }
   },
   "id": "8024cc8d3c61bf02"
  },
  {
   "cell_type": "code",
   "execution_count": 106,
   "outputs": [
    {
     "name": "stdout",
     "output_type": "stream",
     "text": [
      "查看是否有duplication tas_dep_stat = Left 0\n",
      "查看是否有duplication tas_dep_stat = Right 0\n",
      "查看是否有duplication tas_dep_stat = Left 0\n",
      "查看是否有duplication tas_dep_stat = Right 0\n",
      "查看是否有duplication tas_dep_stat = Left 0\n",
      "查看是否有duplication tas_dep_stat = Right 0\n",
      "查看是否有duplication tas_dep_stat = Left 0\n",
      "查看是否有duplication tas_dep_stat = Right 0\n",
      "查看是否有duplication tas_dep_stat = Left 0\n",
      "查看是否有duplication tas_dep_stat = Right 0\n",
      "查看是否有duplication tas_dep_stat = Left 0\n",
      "查看是否有duplication tas_dep_stat = Right 0\n",
      "查看是否有duplication tas_dep_stat = Left 0\n",
      "查看是否有duplication tas_dep_stat = Right 0\n"
     ]
    }
   ],
   "source": [
    "# TAS-dep\n",
    "for sample, df in df_arts_tas_dep.query('~`TAS-Dep_stat`.str.contains(\"on-target\")').groupby(\n",
    "        ['<sample>', 'TAS-Dep_stat']):\n",
    "    sample, tas_dep_stat = sample\n",
    "\n",
    "    if tas_dep_stat not in ['Left', 'Right']:\n",
    "        continue\n",
    "\n",
    "    print('查看是否有duplication', 'tas_dep_stat =', tas_dep_stat, df.duplicated(subset='region_index').sum())\n",
    "    # fix之前\n",
    "    # 查看是否有duplication tas_dep_stat = Both 0\n",
    "    # 查看是否有duplication tas_dep_stat = Left 0\n",
    "    # 查看是否有duplication tas_dep_stat = Right 0\n",
    "    # 查看是否有duplication tas_dep_stat = Both 0\n",
    "    # 查看是否有duplication tas_dep_stat = Left 0\n",
    "    # 查看是否有duplication tas_dep_stat = Right 0\n",
    "    # 查看是否有duplication tas_dep_stat = Left 0\n",
    "    # 查看是否有duplication tas_dep_stat = Right 0\n",
    "    # 查看是否有duplication tas_dep_stat = Both 0\n",
    "    # 查看是否有duplication tas_dep_stat = Left 0\n",
    "    # 查看是否有duplication tas_dep_stat = Right 0\n",
    "    # 查看是否有duplication tas_dep_stat = Both 0\n",
    "    # 查看是否有duplication tas_dep_stat = Left 0\n",
    "    # 查看是否有duplication tas_dep_stat = Right 0\n",
    "    # 查看是否有duplication tas_dep_stat = Left 0\n",
    "    # 查看是否有duplication tas_dep_stat = Right 0\n",
    "    # 查看是否有duplication tas_dep_stat = Both 0\n",
    "    # 查看是否有duplication tas_dep_stat = Left 0\n",
    "    # 查看是否有duplication tas_dep_stat = Right 0\n",
    "    # fix之后\n",
    "    with open(f'../art_seqinfo/tas-dependent/seqinfo_{sample}_{tas_dep_stat}.seq', 'wt') as f:\n",
    "        f.write(\n",
    "            ''.join(\n",
    "                df[['region_index', 'align_target_seq']].apply(\n",
    "                    # lambda x: f'>{x[\"region_index\"]}\\n{x[\"align_target_seq\"].replace(\"-\", \"\")}\\n', axis=1\n",
    "                    lambda x: f'{x[\"align_target_seq\"]}\\n', axis=1  # 不需要fa的header，只需要sequence即可\n",
    "                ).tolist()\n",
    "            )\n",
    "        )"
   ],
   "metadata": {
    "collapsed": false,
    "ExecuteTime": {
     "end_time": "2023-08-15T17:31:03.478265Z",
     "start_time": "2023-08-15T17:31:03.403980Z"
    }
   },
   "id": "216919c13bf53ae1"
  },
  {
   "cell_type": "markdown",
   "source": [
    "### Sequence conservative analysis (SeqLogo) ATP8 Left"
   ],
   "metadata": {
    "collapsed": false
   },
   "id": "71726d17fd434af0"
  },
  {
   "cell_type": "markdown",
   "source": [
    "```bash\n",
    "# cat seqinfo_DetectSeq_ATP8-DddA11_REP-1_Left.seq | cut -c 1-16  # 因为ATP8-Left长度为16\n",
    "\n",
    "for i in `ls *ATP8*Left*`\n",
    "cat $i | cut -c 1-16 > $i.fix.seq\n",
    "```\n",
    "\n",
    "ATTAAACACAAACTAC\n",
    "\n",
    "seqinfo_DetectSeq_ATP8-DddA6_REP-1_Left.seq.fix.seq n=13\n",
    "\n",
    "![image.png](../art_seqinfo/tas-dependent/seqinfo_DetectSeq_ATP8-DddA6_REP-1_Left.seq.fix.jpg)\n",
    "\n",
    "seqinfo_DetectSeq_ATP8-DddA11_REP-1_Left.seq.fix.seq n=1\n",
    "\n",
    "![image.png](../art_seqinfo/tas-dependent/seqinfo_DetectSeq_ATP8-DddA11_REP-1_Left.seq.fix.jpg)\n",
    "\n",
    "\n",
    "seqinfo_DetectSeq_ATP8-DddAwt_REP-1_Left.seq.fix.seq n=1\n",
    "\n",
    "![image.png](../art_seqinfo/tas-dependent/seqinfo_DetectSeq_ATP8-DddAwt_REP-1_Left.seq.fix.jpg)"
   ],
   "metadata": {
    "collapsed": false
   },
   "id": "92ef05dd72fd0e83"
  },
  {
   "cell_type": "markdown",
   "source": [
    "### Sequence conservative analysis (SeqLogo) ATP8 Right"
   ],
   "metadata": {
    "collapsed": false
   },
   "id": "102443e578320733"
  },
  {
   "cell_type": "markdown",
   "source": [
    "```bash\n",
    "for i in `ls *ATP8*Right*`\n",
    "cat $i | cut -c 1-12 > $i.fix.seq\n",
    "```\n",
    "ATGGGCTTTGGT\n",
    "\n",
    "seqinfo_DetectSeq_ATP8-DddA6_REP-1_Right.seq.fix.eps n=431\n",
    "\n",
    "![](../art_seqinfo/tas-dependent/seqinfo_DetectSeq_ATP8-DddA6_REP-1_Right.seq.fix.jpg)\n",
    "\n",
    "seqinfo_DetectSeq_ATP8-DddA11_REP-1_Right.seq.fix.eps n=83\n",
    "\n",
    "![](../art_seqinfo/tas-dependent/seqinfo_DetectSeq_ATP8-DddA11_REP-1_Right.seq.fix.jpg)\n",
    "\n",
    "seqinfo_DetectSeq_ATP8-DddAwt_REP-1_Right.seq.fix.eps n=3\n",
    "\n",
    "![](../art_seqinfo/tas-dependent/seqinfo_DetectSeq_ATP8-DddAwt_REP-1_Right.seq.fix.jpg)"
   ],
   "metadata": {
    "collapsed": false
   },
   "id": "d3fcda20ff0676f4"
  },
  {
   "cell_type": "markdown",
   "source": [
    "### Sequence conservative analysis (SeqLogo) JAK2 Left\n",
    "```bash\n",
    "for i in `ls *JAK2*Left*`\n",
    "cat $i | cut -c 1-17 > $i.fix.seq\n",
    "```\n",
    "\n",
    "CTGAAAAAGACTCTGCA 17\n",
    "\n",
    "rep1 n=11\n",
    "\n",
    "![](../art_seqinfo/tas-dependent/seqinfo_DetectSeq_JAK2-DddA11_REP-1_Left.seq.fix.jpg)\n",
    "\n",
    "rep2 n=12\n",
    "\n",
    "![](../art_seqinfo/tas-dependent/seqinfo_DetectSeq_JAK2-DddA11_REP-2_Left.seq.fix.jpg)"
   ],
   "metadata": {
    "collapsed": false
   },
   "id": "f2a808b1df679482"
  },
  {
   "cell_type": "markdown",
   "source": [
    "### Sequence conservative analysis (SeqLogo) JAK2 Right\n",
    "```bash\n",
    "for i in `ls *JAK2*Right*`\n",
    "cat $i | cut -c 1-17 > $i.fix.seq\n",
    "```\n",
    "\n",
    "CCATTTCTGTCATCGTA 17\n",
    "\n",
    "rep1 n=7\n",
    "\n",
    "![](../art_seqinfo/tas-dependent/seqinfo_DetectSeq_JAK2-DddA11_REP-1_Right.seq.fix.jpg)\n",
    "\n",
    "rep2 n=160\n",
    "\n",
    "![](../art_seqinfo/tas-dependent/seqinfo_DetectSeq_JAK2-DddA11_REP-2_Right.seq.fix.jpg)"
   ],
   "metadata": {
    "collapsed": false
   },
   "id": "ad508582ad5b23c8"
  },
  {
   "cell_type": "markdown",
   "source": [
    "### Sequence conservative analysis (SeqLogo) SIRT6 Left\n",
    "```bash\n",
    "for i in `ls *SIRT6*Left*`\n",
    "cat $i | cut -c 1-17 > $i.fix.seq\n",
    "```\n",
    "\n",
    "TACGCGGCGGGGCTGTC 17\n",
    "\n",
    "rep1 n=31\n",
    "\n",
    "![](../art_seqinfo/tas-dependent/seqinfo_DetectSeq_SIRT6-DddA11_REP-1_Left.seq.fix.jpg)\n",
    "\n",
    "rep2 n=135\n",
    "\n",
    "![](../art_seqinfo/tas-dependent/seqinfo_DetectSeq_SIRT6-DddA11_REP-2_Left.seq.fix.jpg)"
   ],
   "metadata": {
    "collapsed": false
   },
   "id": "3e30aa5922b3fbc3"
  },
  {
   "cell_type": "markdown",
   "source": [
    "### Sequence conservative analysis (SeqLogo) SIRT6 Right\n",
    "```bash\n",
    "for i in `ls *SIRT6*Right*`\n",
    "cat $i | cut -c 1-17 > $i.fix.seq\n",
    "```\n",
    "\n",
    "CCGGGAGGCCGCACTTG 17\n",
    "\n",
    "rep1 n=19\n",
    "\n",
    "![](../art_seqinfo/tas-dependent/seqinfo_DetectSeq_SIRT6-DddA11_REP-1_Right.seq.fix.jpg)\n",
    "\n",
    "rep2 n=74\n",
    "\n",
    "![](../art_seqinfo/tas-dependent/seqinfo_DetectSeq_SIRT6-DddA11_REP-2_Right.seq.fix.jpg)"
   ],
   "metadata": {
    "collapsed": false
   },
   "id": "c661c0df6052bdeb"
  },
  {
   "cell_type": "markdown",
   "source": [
    "### Biological repeat correlation (JAK2 & SIRT6)"
   ],
   "metadata": {
    "collapsed": false
   },
   "id": "a0bfc2caeca4b8c0"
  },
  {
   "cell_type": "code",
   "execution_count": 107,
   "outputs": [
    {
     "data": {
      "text/plain": "TAS-Dep_stat\nBoth      1\nLeft     11\nRight     7\nName: chrom, dtype: int64"
     },
     "execution_count": 107,
     "metadata": {},
     "output_type": "execute_result"
    }
   ],
   "source": [
    "df_arts_tas_dep.query('`<sample>`==\"DetectSeq_JAK2-DddA11_REP-1\"').groupby('TAS-Dep_stat')['chrom'].count()"
   ],
   "metadata": {
    "collapsed": false,
    "ExecuteTime": {
     "end_time": "2023-08-15T17:31:03.478499Z",
     "start_time": "2023-08-15T17:31:03.429427Z"
    }
   },
   "id": "65ba151218972336"
  },
  {
   "cell_type": "code",
   "execution_count": 108,
   "outputs": [
    {
     "data": {
      "text/plain": "<sample>                  DetectSeq_ATP8-DddA11_REP-1 DetectSeq_ATP8-DddA6_REP-1 DetectSeq_ATP8-DddAwt_REP-1\nregion_index                                                                                                \nchr10_101792828_101792886                       Right                        NaN                         NaN\nchr10_101958726_101958808                         NaN                      Right                         NaN\nchr10_104407990_104408075                       Right                        NaN                         NaN\nchr10_110666714_110666780                         NaN                      Right                         NaN\nchr10_11757430_11757492                           NaN                      Right                         NaN\n...                                               ...                        ...                         ...\nchrX_40040790_40040835                            NaN                      Right                         NaN\nchrX_46882391_46882431                            NaN                      Right                         NaN\nchrX_51932525_51932567                            NaN                      Right                         NaN\nchrX_88650778_88650833                            NaN                       Left                         NaN\nchrX_92358078_92358112                            NaN                      Right                         NaN\n\n[555 rows x 3 columns]",
      "text/html": "<div>\n<style scoped>\n    .dataframe tbody tr th:only-of-type {\n        vertical-align: middle;\n    }\n\n    .dataframe tbody tr th {\n        vertical-align: top;\n    }\n\n    .dataframe thead th {\n        text-align: right;\n    }\n</style>\n<table border=\"1\" class=\"dataframe\">\n  <thead>\n    <tr style=\"text-align: right;\">\n      <th>&lt;sample&gt;</th>\n      <th>DetectSeq_ATP8-DddA11_REP-1</th>\n      <th>DetectSeq_ATP8-DddA6_REP-1</th>\n      <th>DetectSeq_ATP8-DddAwt_REP-1</th>\n    </tr>\n    <tr>\n      <th>region_index</th>\n      <th></th>\n      <th></th>\n      <th></th>\n    </tr>\n  </thead>\n  <tbody>\n    <tr>\n      <th>chr10_101792828_101792886</th>\n      <td>Right</td>\n      <td>NaN</td>\n      <td>NaN</td>\n    </tr>\n    <tr>\n      <th>chr10_101958726_101958808</th>\n      <td>NaN</td>\n      <td>Right</td>\n      <td>NaN</td>\n    </tr>\n    <tr>\n      <th>chr10_104407990_104408075</th>\n      <td>Right</td>\n      <td>NaN</td>\n      <td>NaN</td>\n    </tr>\n    <tr>\n      <th>chr10_110666714_110666780</th>\n      <td>NaN</td>\n      <td>Right</td>\n      <td>NaN</td>\n    </tr>\n    <tr>\n      <th>chr10_11757430_11757492</th>\n      <td>NaN</td>\n      <td>Right</td>\n      <td>NaN</td>\n    </tr>\n    <tr>\n      <th>...</th>\n      <td>...</td>\n      <td>...</td>\n      <td>...</td>\n    </tr>\n    <tr>\n      <th>chrX_40040790_40040835</th>\n      <td>NaN</td>\n      <td>Right</td>\n      <td>NaN</td>\n    </tr>\n    <tr>\n      <th>chrX_46882391_46882431</th>\n      <td>NaN</td>\n      <td>Right</td>\n      <td>NaN</td>\n    </tr>\n    <tr>\n      <th>chrX_51932525_51932567</th>\n      <td>NaN</td>\n      <td>Right</td>\n      <td>NaN</td>\n    </tr>\n    <tr>\n      <th>chrX_88650778_88650833</th>\n      <td>NaN</td>\n      <td>Left</td>\n      <td>NaN</td>\n    </tr>\n    <tr>\n      <th>chrX_92358078_92358112</th>\n      <td>NaN</td>\n      <td>Right</td>\n      <td>NaN</td>\n    </tr>\n  </tbody>\n</table>\n<p>555 rows × 3 columns</p>\n</div>"
     },
     "execution_count": 108,
     "metadata": {},
     "output_type": "execute_result"
    }
   ],
   "source": [
    "df_arts_tas_dep.query('`<sample>`.str.contains(\"ATP8\")')[['region_index', '<sample>', 'TAS-Dep_stat']].pivot(\n",
    "    index='region_index', values='TAS-Dep_stat', columns='<sample>')\n",
    "# .to_csv('./xtemp.csv')\n",
    "\n",
    "# 没有overlap"
   ],
   "metadata": {
    "collapsed": false,
    "ExecuteTime": {
     "end_time": "2023-08-15T17:31:03.510558Z",
     "start_time": "2023-08-15T17:31:03.433703Z"
    }
   },
   "id": "70b0481d0d2ca645"
  },
  {
   "cell_type": "code",
   "execution_count": 109,
   "outputs": [
    {
     "data": {
      "text/plain": "<sample>                  DetectSeq_JAK2-DddA11_REP-1 DetectSeq_JAK2-DddA11_REP-2\nregion_index                                                                     \nchr10_103554752_103554815                         NaN                       Right\nchr10_110541514_110541546                         NaN                       Right\nchr10_1220691_1220722                             NaN                       Right\nchr10_127694773_127694799                         NaN                       Right\nchr10_128179212_128179234                         NaN                       Right\n...                                               ...                         ...\nchrX_139884820_139884879                          NaN                       Right\nchrX_154922195_154922237                          NaN                       Right\nchrX_16718402_16718425                            NaN                       Right\nchrX_21926985_21927028                            NaN                        Left\nchrX_51852822_51852860                            NaN                       Right\n\n[200 rows x 2 columns]",
      "text/html": "<div>\n<style scoped>\n    .dataframe tbody tr th:only-of-type {\n        vertical-align: middle;\n    }\n\n    .dataframe tbody tr th {\n        vertical-align: top;\n    }\n\n    .dataframe thead th {\n        text-align: right;\n    }\n</style>\n<table border=\"1\" class=\"dataframe\">\n  <thead>\n    <tr style=\"text-align: right;\">\n      <th>&lt;sample&gt;</th>\n      <th>DetectSeq_JAK2-DddA11_REP-1</th>\n      <th>DetectSeq_JAK2-DddA11_REP-2</th>\n    </tr>\n    <tr>\n      <th>region_index</th>\n      <th></th>\n      <th></th>\n    </tr>\n  </thead>\n  <tbody>\n    <tr>\n      <th>chr10_103554752_103554815</th>\n      <td>NaN</td>\n      <td>Right</td>\n    </tr>\n    <tr>\n      <th>chr10_110541514_110541546</th>\n      <td>NaN</td>\n      <td>Right</td>\n    </tr>\n    <tr>\n      <th>chr10_1220691_1220722</th>\n      <td>NaN</td>\n      <td>Right</td>\n    </tr>\n    <tr>\n      <th>chr10_127694773_127694799</th>\n      <td>NaN</td>\n      <td>Right</td>\n    </tr>\n    <tr>\n      <th>chr10_128179212_128179234</th>\n      <td>NaN</td>\n      <td>Right</td>\n    </tr>\n    <tr>\n      <th>...</th>\n      <td>...</td>\n      <td>...</td>\n    </tr>\n    <tr>\n      <th>chrX_139884820_139884879</th>\n      <td>NaN</td>\n      <td>Right</td>\n    </tr>\n    <tr>\n      <th>chrX_154922195_154922237</th>\n      <td>NaN</td>\n      <td>Right</td>\n    </tr>\n    <tr>\n      <th>chrX_16718402_16718425</th>\n      <td>NaN</td>\n      <td>Right</td>\n    </tr>\n    <tr>\n      <th>chrX_21926985_21927028</th>\n      <td>NaN</td>\n      <td>Left</td>\n    </tr>\n    <tr>\n      <th>chrX_51852822_51852860</th>\n      <td>NaN</td>\n      <td>Right</td>\n    </tr>\n  </tbody>\n</table>\n<p>200 rows × 2 columns</p>\n</div>"
     },
     "execution_count": 109,
     "metadata": {},
     "output_type": "execute_result"
    }
   ],
   "source": [
    "df_arts_tas_dep.query('`<sample>`.str.contains(\"JAK2\")')[['region_index', '<sample>', 'TAS-Dep_stat']].pivot(\n",
    "    index='region_index', values='TAS-Dep_stat', columns='<sample>')\n",
    "# .to_csv('./xtemp.csv')\n",
    "\n",
    "# 没有overlap"
   ],
   "metadata": {
    "collapsed": false,
    "ExecuteTime": {
     "end_time": "2023-08-15T17:31:03.510762Z",
     "start_time": "2023-08-15T17:31:03.443293Z"
    }
   },
   "id": "6f8dd237eb9cddd7"
  },
  {
   "cell_type": "code",
   "execution_count": 110,
   "outputs": [
    {
     "data": {
      "text/plain": "<sample>                  DetectSeq_SIRT6-DddA11_REP-1 DetectSeq_SIRT6-DddA11_REP-2\nregion_index                                                                       \nchr10_113361371_113361399                          NaN                         Left\nchr10_117846301_117846353                          NaN                        Right\nchr10_119596135_119596150                          NaN                         Left\nchr10_122504401_122504402                          NaN                         Left\nchr10_126162086_126162129                          NaN                        Right\n...                                                ...                          ...\nchr9_91161381_91161400                             NaN                        Right\nchrX_18758916_18758943                             NaN                         Left\nchrX_40103685_40103716                             NaN                        Right\nchrX_85003826_85003854                             NaN                         Left\nchrX_97027605_97027643                             NaN                         Left\n\n[262 rows x 2 columns]",
      "text/html": "<div>\n<style scoped>\n    .dataframe tbody tr th:only-of-type {\n        vertical-align: middle;\n    }\n\n    .dataframe tbody tr th {\n        vertical-align: top;\n    }\n\n    .dataframe thead th {\n        text-align: right;\n    }\n</style>\n<table border=\"1\" class=\"dataframe\">\n  <thead>\n    <tr style=\"text-align: right;\">\n      <th>&lt;sample&gt;</th>\n      <th>DetectSeq_SIRT6-DddA11_REP-1</th>\n      <th>DetectSeq_SIRT6-DddA11_REP-2</th>\n    </tr>\n    <tr>\n      <th>region_index</th>\n      <th></th>\n      <th></th>\n    </tr>\n  </thead>\n  <tbody>\n    <tr>\n      <th>chr10_113361371_113361399</th>\n      <td>NaN</td>\n      <td>Left</td>\n    </tr>\n    <tr>\n      <th>chr10_117846301_117846353</th>\n      <td>NaN</td>\n      <td>Right</td>\n    </tr>\n    <tr>\n      <th>chr10_119596135_119596150</th>\n      <td>NaN</td>\n      <td>Left</td>\n    </tr>\n    <tr>\n      <th>chr10_122504401_122504402</th>\n      <td>NaN</td>\n      <td>Left</td>\n    </tr>\n    <tr>\n      <th>chr10_126162086_126162129</th>\n      <td>NaN</td>\n      <td>Right</td>\n    </tr>\n    <tr>\n      <th>...</th>\n      <td>...</td>\n      <td>...</td>\n    </tr>\n    <tr>\n      <th>chr9_91161381_91161400</th>\n      <td>NaN</td>\n      <td>Right</td>\n    </tr>\n    <tr>\n      <th>chrX_18758916_18758943</th>\n      <td>NaN</td>\n      <td>Left</td>\n    </tr>\n    <tr>\n      <th>chrX_40103685_40103716</th>\n      <td>NaN</td>\n      <td>Right</td>\n    </tr>\n    <tr>\n      <th>chrX_85003826_85003854</th>\n      <td>NaN</td>\n      <td>Left</td>\n    </tr>\n    <tr>\n      <th>chrX_97027605_97027643</th>\n      <td>NaN</td>\n      <td>Left</td>\n    </tr>\n  </tbody>\n</table>\n<p>262 rows × 2 columns</p>\n</div>"
     },
     "execution_count": 110,
     "metadata": {},
     "output_type": "execute_result"
    }
   ],
   "source": [
    "df_arts_tas_dep.query('`<sample>`.str.contains(\"SIRT6\")')[['region_index', '<sample>', 'TAS-Dep_stat']].pivot(\n",
    "    index='region_index', values='TAS-Dep_stat', columns='<sample>')\n",
    "# .to_csv('./xtemp.csv')\n",
    "\n",
    "# 没有overlap"
   ],
   "metadata": {
    "collapsed": false,
    "ExecuteTime": {
     "end_time": "2023-08-15T17:31:03.510961Z",
     "start_time": "2023-08-15T17:31:03.450996Z"
    }
   },
   "id": "bfe54acd3893d8cc"
  }
 ],
 "metadata": {
  "kernelspec": {
   "display_name": "Python 3",
   "language": "python",
   "name": "python3"
  },
  "language_info": {
   "codemirror_mode": {
    "name": "ipython",
    "version": 2
   },
   "file_extension": ".py",
   "mimetype": "text/x-python",
   "name": "python",
   "nbconvert_exporter": "python",
   "pygments_lexer": "ipython2",
   "version": "2.7.6"
  }
 },
 "nbformat": 4,
 "nbformat_minor": 5
}
